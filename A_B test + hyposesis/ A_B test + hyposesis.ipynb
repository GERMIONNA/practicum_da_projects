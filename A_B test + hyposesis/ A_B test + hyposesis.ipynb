{
 "cells": [
  {
   "cell_type": "markdown",
   "metadata": {},
   "source": [
    "# Аналитический кейс"
   ]
  },
  {
   "cell_type": "markdown",
   "metadata": {},
   "source": [
    "Отделом маркетинга был подготовлен список гипотез для увеличения выручки.\n",
    "\n",
    "**Задачи:**\n",
    "1. Приоритизировать гипотезы,\n",
    "2. Запустить A/B-тест,\n",
    "3. Проанализировать результаты."
   ]
  },
  {
   "cell_type": "code",
   "execution_count": 1,
   "metadata": {},
   "outputs": [],
   "source": [
    "import pandas as pd\n",
    "import datetime as dt\n",
    "import numpy as np\n",
    "import matplotlib.pyplot as plt\n",
    "from pandas.plotting import register_matplotlib_converters\n",
    "import scipy.stats as stats"
   ]
  },
  {
   "cell_type": "markdown",
   "metadata": {},
   "source": [
    "## Часть. Приоритизация гипотез."
   ]
  },
  {
   "cell_type": "markdown",
   "metadata": {},
   "source": [
    "В файле */datasets/hypothesis.csv* 9 гипотез по увеличению выручки интернет-магазина с указанными параметрами Reach, Impact, Confidence, Effort.\n",
    "Подзадачи:\n",
    "1. Применить фреймворк ICE для приоритизации гипотез. Отсортируйте их по убыванию приоритета.\n",
    "2. Применить фреймворк RICE для приоритизации гипотез. Отсортируйте их по убыванию приоритета.\n",
    "3. Указать, как изменилась приоритизация гипотез при применении RICE вместо ICE. Объяснить, почему так произошло."
   ]
  },
  {
   "cell_type": "markdown",
   "metadata": {},
   "source": [
    "**Описание данных**\n",
    "\n",
    "Файл */datasets/hypothesis.csv*.\n",
    "\n",
    "- Hypothesis — краткое описание гипотезы;\n",
    "- Reach — охват пользователей по 10-балльной шкале;\n",
    "- Impact — влияние на пользователей по 10-балльной шкале;\n",
    "- Confidence — уверенность в гипотезе по 10-балльной шкале;\n",
    "- Efforts — затраты ресурсов на проверку гипотезы по 10-балльной шкале. Чем больше значение Efforts, тем дороже проверка гипотезы.\n"
   ]
  },
  {
   "cell_type": "markdown",
   "metadata": {},
   "source": [
    "Перед началом работы откроем и познакомимся с файлом гипотез."
   ]
  },
  {
   "cell_type": "code",
   "execution_count": 2,
   "metadata": {},
   "outputs": [
    {
     "data": {
      "text/html": [
       "<div>\n",
       "<style scoped>\n",
       "    .dataframe tbody tr th:only-of-type {\n",
       "        vertical-align: middle;\n",
       "    }\n",
       "\n",
       "    .dataframe tbody tr th {\n",
       "        vertical-align: top;\n",
       "    }\n",
       "\n",
       "    .dataframe thead th {\n",
       "        text-align: right;\n",
       "    }\n",
       "</style>\n",
       "<table border=\"1\" class=\"dataframe\">\n",
       "  <thead>\n",
       "    <tr style=\"text-align: right;\">\n",
       "      <th></th>\n",
       "      <th>Hypothesis</th>\n",
       "      <th>Reach</th>\n",
       "      <th>Impact</th>\n",
       "      <th>Confidence</th>\n",
       "      <th>Efforts</th>\n",
       "    </tr>\n",
       "  </thead>\n",
       "  <tbody>\n",
       "    <tr>\n",
       "      <th>0</th>\n",
       "      <td>Добавить два новых канала привлечения трафика,...</td>\n",
       "      <td>3</td>\n",
       "      <td>10</td>\n",
       "      <td>8</td>\n",
       "      <td>6</td>\n",
       "    </tr>\n",
       "    <tr>\n",
       "      <th>1</th>\n",
       "      <td>Запустить собственную службу доставки, что сок...</td>\n",
       "      <td>2</td>\n",
       "      <td>5</td>\n",
       "      <td>4</td>\n",
       "      <td>10</td>\n",
       "    </tr>\n",
       "    <tr>\n",
       "      <th>2</th>\n",
       "      <td>Добавить блоки рекомендаций товаров на сайт ин...</td>\n",
       "      <td>8</td>\n",
       "      <td>3</td>\n",
       "      <td>7</td>\n",
       "      <td>3</td>\n",
       "    </tr>\n",
       "    <tr>\n",
       "      <th>3</th>\n",
       "      <td>Изменить структура категорий, что увеличит кон...</td>\n",
       "      <td>8</td>\n",
       "      <td>3</td>\n",
       "      <td>3</td>\n",
       "      <td>8</td>\n",
       "    </tr>\n",
       "    <tr>\n",
       "      <th>4</th>\n",
       "      <td>Изменить цвет фона главной страницы, чтобы уве...</td>\n",
       "      <td>3</td>\n",
       "      <td>1</td>\n",
       "      <td>1</td>\n",
       "      <td>1</td>\n",
       "    </tr>\n",
       "    <tr>\n",
       "      <th>5</th>\n",
       "      <td>Добавить страницу отзывов клиентов о магазине,...</td>\n",
       "      <td>3</td>\n",
       "      <td>2</td>\n",
       "      <td>2</td>\n",
       "      <td>3</td>\n",
       "    </tr>\n",
       "    <tr>\n",
       "      <th>6</th>\n",
       "      <td>Показать на главной странице баннеры с актуаль...</td>\n",
       "      <td>5</td>\n",
       "      <td>3</td>\n",
       "      <td>8</td>\n",
       "      <td>3</td>\n",
       "    </tr>\n",
       "    <tr>\n",
       "      <th>7</th>\n",
       "      <td>Добавить форму подписки на все основные страни...</td>\n",
       "      <td>10</td>\n",
       "      <td>7</td>\n",
       "      <td>8</td>\n",
       "      <td>5</td>\n",
       "    </tr>\n",
       "    <tr>\n",
       "      <th>8</th>\n",
       "      <td>Запустить акцию, дающую скидку на товар в день...</td>\n",
       "      <td>1</td>\n",
       "      <td>9</td>\n",
       "      <td>9</td>\n",
       "      <td>5</td>\n",
       "    </tr>\n",
       "  </tbody>\n",
       "</table>\n",
       "</div>"
      ],
      "text/plain": [
       "                                          Hypothesis  Reach  Impact  \\\n",
       "0  Добавить два новых канала привлечения трафика,...      3      10   \n",
       "1  Запустить собственную службу доставки, что сок...      2       5   \n",
       "2  Добавить блоки рекомендаций товаров на сайт ин...      8       3   \n",
       "3  Изменить структура категорий, что увеличит кон...      8       3   \n",
       "4  Изменить цвет фона главной страницы, чтобы уве...      3       1   \n",
       "5  Добавить страницу отзывов клиентов о магазине,...      3       2   \n",
       "6  Показать на главной странице баннеры с актуаль...      5       3   \n",
       "7  Добавить форму подписки на все основные страни...     10       7   \n",
       "8  Запустить акцию, дающую скидку на товар в день...      1       9   \n",
       "\n",
       "   Confidence  Efforts  \n",
       "0           8        6  \n",
       "1           4       10  \n",
       "2           7        3  \n",
       "3           3        8  \n",
       "4           1        1  \n",
       "5           2        3  \n",
       "6           8        3  \n",
       "7           8        5  \n",
       "8           9        5  "
      ]
     },
     "metadata": {},
     "output_type": "display_data"
    }
   ],
   "source": [
    "hypothesis = pd.read_csv('/datasets/hypothesis.csv', sep=',')\n",
    "display(hypothesis)"
   ]
  },
  {
   "cell_type": "code",
   "execution_count": 3,
   "metadata": {},
   "outputs": [
    {
     "name": "stdout",
     "output_type": "stream",
     "text": [
      "<class 'pandas.core.frame.DataFrame'>\n",
      "RangeIndex: 9 entries, 0 to 8\n",
      "Data columns (total 5 columns):\n",
      " #   Column      Non-Null Count  Dtype \n",
      "---  ------      --------------  ----- \n",
      " 0   Hypothesis  9 non-null      object\n",
      " 1   Reach       9 non-null      int64 \n",
      " 2   Impact      9 non-null      int64 \n",
      " 3   Confidence  9 non-null      int64 \n",
      " 4   Efforts     9 non-null      int64 \n",
      "dtypes: int64(4), object(1)\n",
      "memory usage: 488.0+ bytes\n"
     ]
    }
   ],
   "source": [
    "hypothesis.info()"
   ]
  },
  {
   "cell_type": "markdown",
   "metadata": {},
   "source": [
    "В файле нет пропусков, типы данных соответсвуют ожидаемым. Приступаем к решению подзадач 1 части."
   ]
  },
  {
   "cell_type": "markdown",
   "metadata": {},
   "source": [
    "В названиях колонок видны нарушения стиля-строчные буквы сочетаются с прописными. Переименуем колонки в соответвие требованиям хорошего стиля: Hypothesis → hypothesis, Reach  → reach,  Impact  → impact, Confidence  → confidence, Efforts  → efforts."
   ]
  },
  {
   "cell_type": "code",
   "execution_count": 4,
   "metadata": {},
   "outputs": [
    {
     "data": {
      "text/plain": [
       "Index(['hypothesis', 'reach', 'impact', 'confidence', 'efforts'], dtype='object')"
      ]
     },
     "execution_count": 4,
     "metadata": {},
     "output_type": "execute_result"
    }
   ],
   "source": [
    "hypothesis.columns = [x.lower().replace(' ', '_') for x in hypothesis.columns.values]\n",
    "hypothesis.columns"
   ]
  },
  {
   "cell_type": "markdown",
   "metadata": {},
   "source": [
    "### Применим фреймворк ICE"
   ]
  },
  {
   "cell_type": "markdown",
   "metadata": {},
   "source": [
    "Фреймворк ICE состоит из трех компонент:\n",
    "\n",
    "- Impact — насколько сильно изменение повлияет на пользователей, их опыт и удовлетворение от продукта;\n",
    "- Confidence — насколько вы уверены, что это изменение повлияет на пользователей именно так;\n",
    "- Efforts — сколько стоит протестировать эту гипотезу.\n",
    "\n",
    "Формула для расчета  ICE:\n",
    "\n",
    "$$ICE = \\frac{Impact * Confidence}{Efforts}$$\n",
    "<hr style=\"border: 2px solid blue;\" />"
   ]
  },
  {
   "cell_type": "code",
   "execution_count": 5,
   "metadata": {},
   "outputs": [
    {
     "data": {
      "text/html": [
       "<div>\n",
       "<style scoped>\n",
       "    .dataframe tbody tr th:only-of-type {\n",
       "        vertical-align: middle;\n",
       "    }\n",
       "\n",
       "    .dataframe tbody tr th {\n",
       "        vertical-align: top;\n",
       "    }\n",
       "\n",
       "    .dataframe thead th {\n",
       "        text-align: right;\n",
       "    }\n",
       "</style>\n",
       "<table border=\"1\" class=\"dataframe\">\n",
       "  <thead>\n",
       "    <tr style=\"text-align: right;\">\n",
       "      <th></th>\n",
       "      <th>hypothesis</th>\n",
       "      <th>ICE</th>\n",
       "    </tr>\n",
       "  </thead>\n",
       "  <tbody>\n",
       "    <tr>\n",
       "      <th>8</th>\n",
       "      <td>Запустить акцию, дающую скидку на товар в день...</td>\n",
       "      <td>16.200000</td>\n",
       "    </tr>\n",
       "    <tr>\n",
       "      <th>0</th>\n",
       "      <td>Добавить два новых канала привлечения трафика,...</td>\n",
       "      <td>13.333333</td>\n",
       "    </tr>\n",
       "    <tr>\n",
       "      <th>7</th>\n",
       "      <td>Добавить форму подписки на все основные страни...</td>\n",
       "      <td>11.200000</td>\n",
       "    </tr>\n",
       "    <tr>\n",
       "      <th>6</th>\n",
       "      <td>Показать на главной странице баннеры с актуаль...</td>\n",
       "      <td>8.000000</td>\n",
       "    </tr>\n",
       "    <tr>\n",
       "      <th>2</th>\n",
       "      <td>Добавить блоки рекомендаций товаров на сайт ин...</td>\n",
       "      <td>7.000000</td>\n",
       "    </tr>\n",
       "    <tr>\n",
       "      <th>1</th>\n",
       "      <td>Запустить собственную службу доставки, что сок...</td>\n",
       "      <td>2.000000</td>\n",
       "    </tr>\n",
       "    <tr>\n",
       "      <th>5</th>\n",
       "      <td>Добавить страницу отзывов клиентов о магазине,...</td>\n",
       "      <td>1.333333</td>\n",
       "    </tr>\n",
       "    <tr>\n",
       "      <th>3</th>\n",
       "      <td>Изменить структура категорий, что увеличит кон...</td>\n",
       "      <td>1.125000</td>\n",
       "    </tr>\n",
       "    <tr>\n",
       "      <th>4</th>\n",
       "      <td>Изменить цвет фона главной страницы, чтобы уве...</td>\n",
       "      <td>1.000000</td>\n",
       "    </tr>\n",
       "  </tbody>\n",
       "</table>\n",
       "</div>"
      ],
      "text/plain": [
       "                                          hypothesis        ICE\n",
       "8  Запустить акцию, дающую скидку на товар в день...  16.200000\n",
       "0  Добавить два новых канала привлечения трафика,...  13.333333\n",
       "7  Добавить форму подписки на все основные страни...  11.200000\n",
       "6  Показать на главной странице баннеры с актуаль...   8.000000\n",
       "2  Добавить блоки рекомендаций товаров на сайт ин...   7.000000\n",
       "1  Запустить собственную службу доставки, что сок...   2.000000\n",
       "5  Добавить страницу отзывов клиентов о магазине,...   1.333333\n",
       "3  Изменить структура категорий, что увеличит кон...   1.125000\n",
       "4  Изменить цвет фона главной страницы, чтобы уве...   1.000000"
      ]
     },
     "execution_count": 5,
     "metadata": {},
     "output_type": "execute_result"
    }
   ],
   "source": [
    "hypothesis['ICE'] = hypothesis['impact'] * hypothesis['confidence'] / hypothesis['efforts']\n",
    "hypothesis[['hypothesis', 'ICE']].sort_values(by='ICE', ascending=False)"
   ]
  },
  {
   "cell_type": "markdown",
   "metadata": {},
   "source": [
    "Выведем на полный тескт приорететной гипотезы согласно критерию ICE."
   ]
  },
  {
   "cell_type": "code",
   "execution_count": 6,
   "metadata": {},
   "outputs": [
    {
     "data": {
      "text/plain": [
       "'Запустить акцию, дающую скидку на товар в день рождения'"
      ]
     },
     "execution_count": 6,
     "metadata": {},
     "output_type": "execute_result"
    }
   ],
   "source": [
    "hypothesis.loc[8]['hypothesis']"
   ]
  },
  {
   "cell_type": "code",
   "execution_count": 7,
   "metadata": {},
   "outputs": [
    {
     "data": {
      "text/plain": [
       "hypothesis    Запустить акцию, дающую скидку на товар в день...\n",
       "reach                                                         1\n",
       "impact                                                        9\n",
       "confidence                                                    9\n",
       "efforts                                                       5\n",
       "ICE                                                        16.2\n",
       "Name: 8, dtype: object"
      ]
     },
     "execution_count": 7,
     "metadata": {},
     "output_type": "execute_result"
    }
   ],
   "source": [
    "hypothesis.loc[8]"
   ]
  },
  {
   "cell_type": "markdown",
   "metadata": {},
   "source": [
    "### Применим фреймворк RICE"
   ]
  },
  {
   "cell_type": "markdown",
   "metadata": {},
   "source": [
    "Фреймворк RICE состоит из четырёх компонент:\n",
    "\n",
    "- Reach — скольких пользователей затронет изменение, которое вы хотите внести;\n",
    "- Impact — насколько сильно изменение повлияет на пользователей, их опыт и удовлетворение от продукта;\n",
    "- Confidence — насколько вы уверены, что это изменение повлияет на пользователей именно так;\n",
    "- Efforts — сколько стоит протестировать эту гипотезу.\n",
    "\n",
    "Формула для расчета  RICE:\n",
    "\n",
    "$$RICE = \\frac{Rearch * Impact * Confidence}{Efforts}$$\n",
    "\n",
    "<hr style=\"border: 2px solid blue;\" />"
   ]
  },
  {
   "cell_type": "code",
   "execution_count": 8,
   "metadata": {},
   "outputs": [
    {
     "data": {
      "text/html": [
       "<div>\n",
       "<style scoped>\n",
       "    .dataframe tbody tr th:only-of-type {\n",
       "        vertical-align: middle;\n",
       "    }\n",
       "\n",
       "    .dataframe tbody tr th {\n",
       "        vertical-align: top;\n",
       "    }\n",
       "\n",
       "    .dataframe thead th {\n",
       "        text-align: right;\n",
       "    }\n",
       "</style>\n",
       "<table border=\"1\" class=\"dataframe\">\n",
       "  <thead>\n",
       "    <tr style=\"text-align: right;\">\n",
       "      <th></th>\n",
       "      <th>hypothesis</th>\n",
       "      <th>RICE</th>\n",
       "    </tr>\n",
       "  </thead>\n",
       "  <tbody>\n",
       "    <tr>\n",
       "      <th>7</th>\n",
       "      <td>Добавить форму подписки на все основные страни...</td>\n",
       "      <td>112.0</td>\n",
       "    </tr>\n",
       "    <tr>\n",
       "      <th>2</th>\n",
       "      <td>Добавить блоки рекомендаций товаров на сайт ин...</td>\n",
       "      <td>56.0</td>\n",
       "    </tr>\n",
       "    <tr>\n",
       "      <th>0</th>\n",
       "      <td>Добавить два новых канала привлечения трафика,...</td>\n",
       "      <td>40.0</td>\n",
       "    </tr>\n",
       "    <tr>\n",
       "      <th>6</th>\n",
       "      <td>Показать на главной странице баннеры с актуаль...</td>\n",
       "      <td>40.0</td>\n",
       "    </tr>\n",
       "    <tr>\n",
       "      <th>8</th>\n",
       "      <td>Запустить акцию, дающую скидку на товар в день...</td>\n",
       "      <td>16.2</td>\n",
       "    </tr>\n",
       "    <tr>\n",
       "      <th>3</th>\n",
       "      <td>Изменить структура категорий, что увеличит кон...</td>\n",
       "      <td>9.0</td>\n",
       "    </tr>\n",
       "    <tr>\n",
       "      <th>1</th>\n",
       "      <td>Запустить собственную службу доставки, что сок...</td>\n",
       "      <td>4.0</td>\n",
       "    </tr>\n",
       "    <tr>\n",
       "      <th>5</th>\n",
       "      <td>Добавить страницу отзывов клиентов о магазине,...</td>\n",
       "      <td>4.0</td>\n",
       "    </tr>\n",
       "    <tr>\n",
       "      <th>4</th>\n",
       "      <td>Изменить цвет фона главной страницы, чтобы уве...</td>\n",
       "      <td>3.0</td>\n",
       "    </tr>\n",
       "  </tbody>\n",
       "</table>\n",
       "</div>"
      ],
      "text/plain": [
       "                                          hypothesis   RICE\n",
       "7  Добавить форму подписки на все основные страни...  112.0\n",
       "2  Добавить блоки рекомендаций товаров на сайт ин...   56.0\n",
       "0  Добавить два новых канала привлечения трафика,...   40.0\n",
       "6  Показать на главной странице баннеры с актуаль...   40.0\n",
       "8  Запустить акцию, дающую скидку на товар в день...   16.2\n",
       "3  Изменить структура категорий, что увеличит кон...    9.0\n",
       "1  Запустить собственную службу доставки, что сок...    4.0\n",
       "5  Добавить страницу отзывов клиентов о магазине,...    4.0\n",
       "4  Изменить цвет фона главной страницы, чтобы уве...    3.0"
      ]
     },
     "execution_count": 8,
     "metadata": {},
     "output_type": "execute_result"
    }
   ],
   "source": [
    "hypothesis['RICE'] = hypothesis['reach']*hypothesis['impact'] * hypothesis['confidence'] / hypothesis['efforts']\n",
    "hypothesis[['hypothesis', 'RICE']].sort_values(by='RICE', ascending=False)\n"
   ]
  },
  {
   "cell_type": "markdown",
   "metadata": {},
   "source": [
    "Выведем на полный тескт приорететной гипотезы согласно критерию RICE."
   ]
  },
  {
   "cell_type": "code",
   "execution_count": 9,
   "metadata": {},
   "outputs": [
    {
     "data": {
      "text/plain": [
       "'Добавить форму подписки на все основные страницы, чтобы собрать базу клиентов для email-рассылок'"
      ]
     },
     "execution_count": 9,
     "metadata": {},
     "output_type": "execute_result"
    }
   ],
   "source": [
    "hypothesis.loc[7]['hypothesis']"
   ]
  },
  {
   "cell_type": "code",
   "execution_count": 10,
   "metadata": {},
   "outputs": [
    {
     "data": {
      "text/plain": [
       "hypothesis    Добавить форму подписки на все основные страни...\n",
       "reach                                                        10\n",
       "impact                                                        7\n",
       "confidence                                                    8\n",
       "efforts                                                       5\n",
       "ICE                                                        11.2\n",
       "RICE                                                      112.0\n",
       "Name: 7, dtype: object"
      ]
     },
     "execution_count": 10,
     "metadata": {},
     "output_type": "execute_result"
    }
   ],
   "source": [
    "hypothesis.loc[7]"
   ]
  },
  {
   "cell_type": "markdown",
   "metadata": {},
   "source": [
    "Выведем на полный тескт самой неприорететной гипотезы согласно критерию RICE и ICE."
   ]
  },
  {
   "cell_type": "code",
   "execution_count": 11,
   "metadata": {},
   "outputs": [
    {
     "data": {
      "text/plain": [
       "'Изменить цвет фона главной страницы, чтобы увеличить вовлеченность пользователей'"
      ]
     },
     "execution_count": 11,
     "metadata": {},
     "output_type": "execute_result"
    }
   ],
   "source": [
    "hypothesis.loc[4]['hypothesis']"
   ]
  },
  {
   "cell_type": "code",
   "execution_count": 12,
   "metadata": {},
   "outputs": [
    {
     "data": {
      "text/plain": [
       "hypothesis    Изменить цвет фона главной страницы, чтобы уве...\n",
       "reach                                                         3\n",
       "impact                                                        1\n",
       "confidence                                                    1\n",
       "efforts                                                       1\n",
       "ICE                                                         1.0\n",
       "RICE                                                        3.0\n",
       "Name: 4, dtype: object"
      ]
     },
     "execution_count": 12,
     "metadata": {},
     "output_type": "execute_result"
    }
   ],
   "source": [
    "hypothesis.loc[4]"
   ]
  },
  {
   "cell_type": "code",
   "execution_count": null,
   "metadata": {},
   "outputs": [],
   "source": []
  },
  {
   "cell_type": "markdown",
   "metadata": {},
   "source": [
    "Порядок приоритетных задач согласно критериям ICE и RICE практически полностью разлисается. За исключением гипотезы 'Изменить цвет фона главной страницы, чтобы увеличить вовлеченность пользователей', которая уверенно занимает последнее место в списке приорететных задач обоих методов, у данной гипотезы крайне низкие показатели impact, confidence, efforts и ниже среднего reach. То есть данное изменение затронет небольшую пользователей, вероятно не повляет на их покупальскую способность, нет уверенности в том что изменение цвета именно увеличит вовлеченность и требует больших затрат.\n",
    "\n",
    "Согласно критерию **ICE** наиболее приоретеной является гипотеза *'Запустить акцию, дающую скидку на товар в день рождения'*. У это гипотезы хорошие показатели *impact, confidence, efforts* то есть данное есть основания пологать что данное изменение может повлиять на покупательскую способность клиентов, с большой долей вероятности эта акция повлияет именно в положительную сторону и не потребует больших затрат на тестирование. Согласно критерию **RICE** эта гипотеза оказалась в середине, на 5 месте из-за того что она затронет очень небольшой сегмент покупателей. К слову говоря, формулировка гипотезы *'Запустить акцию, дающую скидку на товар в день рождения'* не выглять очень хорошей, потому что в ней не указано какого именно эффекта мы ждем - предположу что это увеличение покупок.\n",
    "\n",
    "Согласно критерию **RICE** наиболее приоретеной является гипотеза *'Добавить форму подписки на все основные страницы, чтобы собрать базу клиентов для email-рассылок'*. Эта гипотеза оказалась в топе согласно данному критерию, так как имеет максимальный охват пользователей, и в целом неплохие показатели *impact, confidence, efforts* то есть данное есть основания пологать что добавление формы подписок на каждый экран поможет собрать базу данных клиентов, с большой долей вероятности это будет так и не потребует больших затрат на тестирование гипотезы."
   ]
  },
  {
   "cell_type": "markdown",
   "metadata": {},
   "source": [
    "## Часть. Анализ A/B-теста"
   ]
  },
  {
   "cell_type": "markdown",
   "metadata": {},
   "source": [
    "Провели A/B-тест и получили результаты, которые описаны в файлах /datasets/orders.csv и /datasets/visitors.csv.\n",
    "\n",
    "**Описание файлов**\n",
    "\n",
    "\n",
    "*Файл /datasets/orders.csv.* \n",
    "- transactionId — идентификатор заказа;\n",
    "- visitorId — идентификатор пользователя, совершившего заказ;\n",
    "- date — дата, когда был совершён заказ;\n",
    "- revenue — выручка заказа;\n",
    "- group — группа A/B-теста, в которую попал заказ.\n",
    "\n",
    "\n",
    "*Файл /datasets/visitors.csv.* \n",
    "- date — дата;\n",
    "- group — группа A/B-теста;\n",
    "- visitors — количество пользователей в указанную дату в указанной группе A/B-теста"
   ]
  },
  {
   "cell_type": "code",
   "execution_count": 13,
   "metadata": {},
   "outputs": [
    {
     "data": {
      "text/html": [
       "<div>\n",
       "<style scoped>\n",
       "    .dataframe tbody tr th:only-of-type {\n",
       "        vertical-align: middle;\n",
       "    }\n",
       "\n",
       "    .dataframe tbody tr th {\n",
       "        vertical-align: top;\n",
       "    }\n",
       "\n",
       "    .dataframe thead th {\n",
       "        text-align: right;\n",
       "    }\n",
       "</style>\n",
       "<table border=\"1\" class=\"dataframe\">\n",
       "  <thead>\n",
       "    <tr style=\"text-align: right;\">\n",
       "      <th></th>\n",
       "      <th>transactionId</th>\n",
       "      <th>visitorId</th>\n",
       "      <th>date</th>\n",
       "      <th>revenue</th>\n",
       "      <th>group</th>\n",
       "    </tr>\n",
       "  </thead>\n",
       "  <tbody>\n",
       "    <tr>\n",
       "      <th>0</th>\n",
       "      <td>3667963787</td>\n",
       "      <td>3312258926</td>\n",
       "      <td>2019-08-15</td>\n",
       "      <td>1650</td>\n",
       "      <td>B</td>\n",
       "    </tr>\n",
       "    <tr>\n",
       "      <th>1</th>\n",
       "      <td>2804400009</td>\n",
       "      <td>3642806036</td>\n",
       "      <td>2019-08-15</td>\n",
       "      <td>730</td>\n",
       "      <td>B</td>\n",
       "    </tr>\n",
       "    <tr>\n",
       "      <th>2</th>\n",
       "      <td>2961555356</td>\n",
       "      <td>4069496402</td>\n",
       "      <td>2019-08-15</td>\n",
       "      <td>400</td>\n",
       "      <td>A</td>\n",
       "    </tr>\n",
       "    <tr>\n",
       "      <th>3</th>\n",
       "      <td>3797467345</td>\n",
       "      <td>1196621759</td>\n",
       "      <td>2019-08-15</td>\n",
       "      <td>9759</td>\n",
       "      <td>B</td>\n",
       "    </tr>\n",
       "    <tr>\n",
       "      <th>4</th>\n",
       "      <td>2282983706</td>\n",
       "      <td>2322279887</td>\n",
       "      <td>2019-08-15</td>\n",
       "      <td>2308</td>\n",
       "      <td>B</td>\n",
       "    </tr>\n",
       "    <tr>\n",
       "      <th>...</th>\n",
       "      <td>...</td>\n",
       "      <td>...</td>\n",
       "      <td>...</td>\n",
       "      <td>...</td>\n",
       "      <td>...</td>\n",
       "    </tr>\n",
       "    <tr>\n",
       "      <th>1192</th>\n",
       "      <td>2662137336</td>\n",
       "      <td>3733762160</td>\n",
       "      <td>2019-08-14</td>\n",
       "      <td>6490</td>\n",
       "      <td>B</td>\n",
       "    </tr>\n",
       "    <tr>\n",
       "      <th>1193</th>\n",
       "      <td>2203539145</td>\n",
       "      <td>370388673</td>\n",
       "      <td>2019-08-14</td>\n",
       "      <td>3190</td>\n",
       "      <td>A</td>\n",
       "    </tr>\n",
       "    <tr>\n",
       "      <th>1194</th>\n",
       "      <td>1807773912</td>\n",
       "      <td>573423106</td>\n",
       "      <td>2019-08-14</td>\n",
       "      <td>10550</td>\n",
       "      <td>A</td>\n",
       "    </tr>\n",
       "    <tr>\n",
       "      <th>1195</th>\n",
       "      <td>1947021204</td>\n",
       "      <td>1614305549</td>\n",
       "      <td>2019-08-14</td>\n",
       "      <td>100</td>\n",
       "      <td>A</td>\n",
       "    </tr>\n",
       "    <tr>\n",
       "      <th>1196</th>\n",
       "      <td>3936777065</td>\n",
       "      <td>2108080724</td>\n",
       "      <td>2019-08-15</td>\n",
       "      <td>202740</td>\n",
       "      <td>B</td>\n",
       "    </tr>\n",
       "  </tbody>\n",
       "</table>\n",
       "<p>1197 rows × 5 columns</p>\n",
       "</div>"
      ],
      "text/plain": [
       "      transactionId   visitorId        date  revenue group\n",
       "0        3667963787  3312258926  2019-08-15     1650     B\n",
       "1        2804400009  3642806036  2019-08-15      730     B\n",
       "2        2961555356  4069496402  2019-08-15      400     A\n",
       "3        3797467345  1196621759  2019-08-15     9759     B\n",
       "4        2282983706  2322279887  2019-08-15     2308     B\n",
       "...             ...         ...         ...      ...   ...\n",
       "1192     2662137336  3733762160  2019-08-14     6490     B\n",
       "1193     2203539145   370388673  2019-08-14     3190     A\n",
       "1194     1807773912   573423106  2019-08-14    10550     A\n",
       "1195     1947021204  1614305549  2019-08-14      100     A\n",
       "1196     3936777065  2108080724  2019-08-15   202740     B\n",
       "\n",
       "[1197 rows x 5 columns]"
      ]
     },
     "metadata": {},
     "output_type": "display_data"
    }
   ],
   "source": [
    "orders = pd.read_csv('/datasets/orders.csv')\n",
    "display(orders)"
   ]
  },
  {
   "cell_type": "code",
   "execution_count": 14,
   "metadata": {},
   "outputs": [
    {
     "name": "stdout",
     "output_type": "stream",
     "text": [
      "<class 'pandas.core.frame.DataFrame'>\n",
      "RangeIndex: 1197 entries, 0 to 1196\n",
      "Data columns (total 5 columns):\n",
      " #   Column         Non-Null Count  Dtype \n",
      "---  ------         --------------  ----- \n",
      " 0   transactionId  1197 non-null   int64 \n",
      " 1   visitorId      1197 non-null   int64 \n",
      " 2   date           1197 non-null   object\n",
      " 3   revenue        1197 non-null   int64 \n",
      " 4   group          1197 non-null   object\n",
      "dtypes: int64(3), object(2)\n",
      "memory usage: 46.9+ KB\n"
     ]
    }
   ],
   "source": [
    "orders.info()"
   ]
  },
  {
   "cell_type": "code",
   "execution_count": 15,
   "metadata": {},
   "outputs": [],
   "source": [
    "orders['date'] = orders['date'].map(\n",
    "    lambda x: dt.datetime.strptime(x, '%Y-%m-%d')\n",
    ")"
   ]
  },
  {
   "cell_type": "code",
   "execution_count": 16,
   "metadata": {},
   "outputs": [
    {
     "data": {
      "text/plain": [
       "0"
      ]
     },
     "execution_count": 16,
     "metadata": {},
     "output_type": "execute_result"
    }
   ],
   "source": [
    "orders.duplicated().sum()"
   ]
  },
  {
   "cell_type": "code",
   "execution_count": 17,
   "metadata": {},
   "outputs": [
    {
     "data": {
      "text/html": [
       "<div>\n",
       "<style scoped>\n",
       "    .dataframe tbody tr th:only-of-type {\n",
       "        vertical-align: middle;\n",
       "    }\n",
       "\n",
       "    .dataframe tbody tr th {\n",
       "        vertical-align: top;\n",
       "    }\n",
       "\n",
       "    .dataframe thead th {\n",
       "        text-align: right;\n",
       "    }\n",
       "</style>\n",
       "<table border=\"1\" class=\"dataframe\">\n",
       "  <thead>\n",
       "    <tr style=\"text-align: right;\">\n",
       "      <th></th>\n",
       "      <th>date</th>\n",
       "      <th>group</th>\n",
       "      <th>visitors</th>\n",
       "    </tr>\n",
       "  </thead>\n",
       "  <tbody>\n",
       "    <tr>\n",
       "      <th>0</th>\n",
       "      <td>2019-08-01</td>\n",
       "      <td>A</td>\n",
       "      <td>719</td>\n",
       "    </tr>\n",
       "    <tr>\n",
       "      <th>1</th>\n",
       "      <td>2019-08-02</td>\n",
       "      <td>A</td>\n",
       "      <td>619</td>\n",
       "    </tr>\n",
       "    <tr>\n",
       "      <th>2</th>\n",
       "      <td>2019-08-03</td>\n",
       "      <td>A</td>\n",
       "      <td>507</td>\n",
       "    </tr>\n",
       "    <tr>\n",
       "      <th>3</th>\n",
       "      <td>2019-08-04</td>\n",
       "      <td>A</td>\n",
       "      <td>717</td>\n",
       "    </tr>\n",
       "    <tr>\n",
       "      <th>4</th>\n",
       "      <td>2019-08-05</td>\n",
       "      <td>A</td>\n",
       "      <td>756</td>\n",
       "    </tr>\n",
       "    <tr>\n",
       "      <th>...</th>\n",
       "      <td>...</td>\n",
       "      <td>...</td>\n",
       "      <td>...</td>\n",
       "    </tr>\n",
       "    <tr>\n",
       "      <th>57</th>\n",
       "      <td>2019-08-27</td>\n",
       "      <td>B</td>\n",
       "      <td>720</td>\n",
       "    </tr>\n",
       "    <tr>\n",
       "      <th>58</th>\n",
       "      <td>2019-08-28</td>\n",
       "      <td>B</td>\n",
       "      <td>654</td>\n",
       "    </tr>\n",
       "    <tr>\n",
       "      <th>59</th>\n",
       "      <td>2019-08-29</td>\n",
       "      <td>B</td>\n",
       "      <td>531</td>\n",
       "    </tr>\n",
       "    <tr>\n",
       "      <th>60</th>\n",
       "      <td>2019-08-30</td>\n",
       "      <td>B</td>\n",
       "      <td>490</td>\n",
       "    </tr>\n",
       "    <tr>\n",
       "      <th>61</th>\n",
       "      <td>2019-08-31</td>\n",
       "      <td>B</td>\n",
       "      <td>718</td>\n",
       "    </tr>\n",
       "  </tbody>\n",
       "</table>\n",
       "<p>62 rows × 3 columns</p>\n",
       "</div>"
      ],
      "text/plain": [
       "          date group  visitors\n",
       "0   2019-08-01     A       719\n",
       "1   2019-08-02     A       619\n",
       "2   2019-08-03     A       507\n",
       "3   2019-08-04     A       717\n",
       "4   2019-08-05     A       756\n",
       "..         ...   ...       ...\n",
       "57  2019-08-27     B       720\n",
       "58  2019-08-28     B       654\n",
       "59  2019-08-29     B       531\n",
       "60  2019-08-30     B       490\n",
       "61  2019-08-31     B       718\n",
       "\n",
       "[62 rows x 3 columns]"
      ]
     },
     "metadata": {},
     "output_type": "display_data"
    }
   ],
   "source": [
    "visitors = pd.read_csv('/datasets/visitors.csv')\n",
    "display(visitors)"
   ]
  },
  {
   "cell_type": "code",
   "execution_count": 18,
   "metadata": {},
   "outputs": [
    {
     "name": "stdout",
     "output_type": "stream",
     "text": [
      "<class 'pandas.core.frame.DataFrame'>\n",
      "RangeIndex: 62 entries, 0 to 61\n",
      "Data columns (total 3 columns):\n",
      " #   Column    Non-Null Count  Dtype \n",
      "---  ------    --------------  ----- \n",
      " 0   date      62 non-null     object\n",
      " 1   group     62 non-null     object\n",
      " 2   visitors  62 non-null     int64 \n",
      "dtypes: int64(1), object(2)\n",
      "memory usage: 1.6+ KB\n"
     ]
    }
   ],
   "source": [
    "visitors.info()"
   ]
  },
  {
   "cell_type": "code",
   "execution_count": 19,
   "metadata": {},
   "outputs": [],
   "source": [
    "visitors['date'] = visitors['date'].map(\n",
    "    lambda x: dt.datetime.strptime(x, '%Y-%m-%d')\n",
    ")"
   ]
  },
  {
   "cell_type": "code",
   "execution_count": 20,
   "metadata": {
    "scrolled": true
   },
   "outputs": [
    {
     "data": {
      "text/plain": [
       "0"
      ]
     },
     "execution_count": 20,
     "metadata": {},
     "output_type": "execute_result"
    }
   ],
   "source": [
    "visitors.duplicated().sum()"
   ]
  },
  {
   "cell_type": "markdown",
   "metadata": {},
   "source": [
    "### Построим график кумулятивной выручки по группам. "
   ]
  },
  {
   "cell_type": "markdown",
   "metadata": {},
   "source": [
    "Создадим датафрейм datesGroups с уникальными парами значений 'date' и 'group', таблицы orders. Избавимся от дубликатов методом drop_duplicates()."
   ]
  },
  {
   "cell_type": "code",
   "execution_count": 21,
   "metadata": {},
   "outputs": [],
   "source": [
    "datesGroups = orders[['date','group']].drop_duplicates()\n",
    "ordersAggregated= datesGroups.apply(\n",
    "    lambda x: orders[np.logical_and(orders['date'] <= x['date'], orders['group'] == x['group'])].agg({\n",
    "'date' : 'max',\n",
    "'group' : 'max',\n",
    "'transactionId' : pd.Series.nunique,\n",
    "'visitorId' : pd.Series.nunique,\n",
    "'revenue' : 'sum'}), axis=1).sort_values(by=['date','group'])\n"
   ]
  },
  {
   "cell_type": "markdown",
   "metadata": {},
   "source": [
    "Объявим переменную *ordersAggregated*, содержащую:\n",
    "- дату;\n",
    "- группу A/B-теста;\n",
    "- число уникальных заказов в группе теста по указанную дату включительно;\n",
    "- число уникальных пользователей, совершивших хотя бы 1 заказ в группе теста по указанную дату включительно;\n",
    "- суммарную выручку заказов в группе теста по указанную дату включительно."
   ]
  },
  {
   "cell_type": "code",
   "execution_count": 22,
   "metadata": {},
   "outputs": [],
   "source": [
    "ordersAggregated= datesGroups.apply(\n",
    "    lambda x: orders[np.logical_and(orders['date'] <= x['date'], orders['group'] == x['group'])].agg({\n",
    "'date' : 'max',\n",
    "'group' : 'max',\n",
    "'transactionId' : pd.Series.nunique,\n",
    "'visitorId' : pd.Series.nunique,\n",
    "'revenue' : 'sum'}), axis=1).sort_values(by=['date','group'])"
   ]
  },
  {
   "cell_type": "markdown",
   "metadata": {},
   "source": [
    "Объявим переменную *visitorsAggregated*, содержащую:\n",
    "- дату;\n",
    "- группу A/B-теста;\n",
    "- количество уникальных посетителей в группе теста по указанную дату включительно."
   ]
  },
  {
   "cell_type": "code",
   "execution_count": 23,
   "metadata": {},
   "outputs": [],
   "source": [
    "visitorsAggregated = datesGroups.apply(\n",
    "    lambda x: visitors[np.logical_and(visitors['date'] <= x['date'], visitors['group'] == x['group'])].agg({\n",
    "'date' : 'max',\n",
    "'group' : 'max',\n",
    "'visitors' : 'sum'}), axis=1).sort_values(by=['date','group'])"
   ]
  },
  {
   "cell_type": "markdown",
   "metadata": {},
   "source": [
    "Определим переменную cumulativeData, объединив ordersAggregated и visitorsAggregated по колонкам 'date', 'group' методом merge().  Присвойте столбцам cumulativeData названия ['date', 'group', 'orders', 'buyers', 'revenue', 'visitors']. Выведите первые 5 строк переменной cumulativeData."
   ]
  },
  {
   "cell_type": "code",
   "execution_count": 24,
   "metadata": {},
   "outputs": [
    {
     "name": "stdout",
     "output_type": "stream",
     "text": [
      "        date group  orders  buyers  revenue  visitors\n",
      "0 2019-08-01     A      24      20   148579       719\n",
      "1 2019-08-01     B      21      20   101217       713\n",
      "2 2019-08-02     A      44      38   242401      1338\n",
      "3 2019-08-02     B      45      43   266748      1294\n",
      "4 2019-08-03     A      68      62   354874      1845\n"
     ]
    }
   ],
   "source": [
    "cumulativeData = ordersAggregated.merge(visitorsAggregated, left_on=['date', 'group'], right_on=['date', 'group'])\n",
    "cumulativeData.columns = ['date', 'group', 'orders', 'buyers', 'revenue', 'visitors']\n",
    "print(cumulativeData.head(5))"
   ]
  },
  {
   "cell_type": "markdown",
   "metadata": {},
   "source": [
    "Объявим переменные cumulativeRevenueA и cumulativeRevenueB, в которых сохраним данные о датах, выручке и числе заказов в группах A и B.\n",
    "Построим графики кумулятивной выручки по дням по группам."
   ]
  },
  {
   "cell_type": "code",
   "execution_count": 25,
   "metadata": {},
   "outputs": [
    {
     "data": {
      "image/png": "[encoded data removed]",
      "text/plain": [
       "<Figure size 432x288 with 1 Axes>"
      ]
     },
     "metadata": {
      "needs_background": "light"
     },
     "output_type": "display_data"
    }
   ],
   "source": [
    "cumulativeRevenueA = cumulativeData[cumulativeData['group']=='A'][['date','revenue', 'orders']]\n",
    "\n",
    "cumulativeRevenueB = cumulativeData[cumulativeData['group']=='B'][['date','revenue', 'orders']]\n",
    "\n",
    "plt.plot(cumulativeRevenueA['date'], cumulativeRevenueA['revenue'], label='A')\n",
    "\n",
    "plt.plot(cumulativeRevenueB['date'], cumulativeRevenueB['revenue'], label='B')\n",
    "degrees = 70\n",
    "plt.xticks(rotation=degrees)\n",
    "plt.legend();"
   ]
  },
  {
   "cell_type": "markdown",
   "metadata": {},
   "source": [
    "В середине теста сегмент В резко вырвался вперед и продолжал лидировать весь остаток теста. Похоже, что аномально большие заказы вляют на результаты. При заключительном анализе их нужно удалить."
   ]
  },
  {
   "cell_type": "markdown",
   "metadata": {},
   "source": [
    "### Построим график кумулятивного среднего чека по группам."
   ]
  },
  {
   "cell_type": "markdown",
   "metadata": {},
   "source": [
    "Вычислим средний чек так: cumulativeRevenueA['revenue']/cumulativeRevenueA['orders']. Построим графики методом plt.plot() с параметрами label='A' и label='B'."
   ]
  },
  {
   "cell_type": "code",
   "execution_count": 26,
   "metadata": {},
   "outputs": [
    {
     "data": {
      "image/png": "[encoded data removed]",
      "text/plain": [
       "<Figure size 432x288 with 1 Axes>"
      ]
     },
     "metadata": {
      "needs_background": "light"
     },
     "output_type": "display_data"
    }
   ],
   "source": [
    "plt.plot(cumulativeRevenueA['date'], cumulativeRevenueA['revenue']/cumulativeRevenueA['orders'], label='A')\n",
    "plt.plot(cumulativeRevenueB['date'], cumulativeRevenueB['revenue']/cumulativeRevenueB['orders'], label='B')\n",
    "plt.legend()\n",
    "plt.xticks(rotation=degrees)\n",
    "plt.title(\"Кумулятивный средний чек по группам\")\n",
    "plt.xlabel(\"Дата\")\n",
    "plt.ylabel(\"Средний чек, руб.\");"
   ]
  },
  {
   "cell_type": "markdown",
   "metadata": {},
   "source": [
    "Кумулятивное значение среднего чека так же колебалось, но в тот же период можно отметить резкий рост среднего чека в группе В."
   ]
  },
  {
   "cell_type": "markdown",
   "metadata": {},
   "source": [
    "### Постройте график относительного изменения кумулятивного среднего чека группы B к группе A. "
   ]
  },
  {
   "cell_type": "markdown",
   "metadata": {},
   "source": [
    "Объединим таблицы cumulativeRevenueA и cumulativeRevenueB методом merge() так, чтобы она содержала столбцы: ['date', 'revenueA', 'revenueB', 'ordersA', 'ordersB']. Сохраним в переменной mergedCumulativeRevenue."
   ]
  },
  {
   "cell_type": "code",
   "execution_count": 27,
   "metadata": {},
   "outputs": [],
   "source": [
    "# собираем данные в одном датафрейме\n",
    "mergedCumulativeRevenue = cumulativeRevenueA.merge(cumulativeRevenueB, left_on='date', right_on='date', how='left', suffixes=['A', 'B'])\n"
   ]
  },
  {
   "cell_type": "markdown",
   "metadata": {},
   "source": [
    "Постройте график относительно различия кумулятивного среднего чека группы B к группе A.\n",
    "Добавьте пунктирную линию оси X (значение оси Y = 0) методом plt.axhline()."
   ]
  },
  {
   "cell_type": "code",
   "execution_count": 28,
   "metadata": {},
   "outputs": [
    {
     "data": {
      "image/png": "[encoded data removed]",
      "text/plain": [
       "<Figure size 432x288 with 1 Axes>"
      ]
     },
     "metadata": {
      "needs_background": "light"
     },
     "output_type": "display_data"
    }
   ],
   "source": [
    "# cтроим отношение средних чеков\n",
    "plt.plot(mergedCumulativeRevenue['date'], (mergedCumulativeRevenue['revenueB']/mergedCumulativeRevenue['ordersB'])/(mergedCumulativeRevenue['revenueA']/mergedCumulativeRevenue['ordersA'])-1)\n",
    "\n",
    "# добавляем ось X\n",
    "plt.axhline(y=0, color='black', linestyle='--')\n",
    "plt.xticks(rotation=degrees)\n",
    "plt.title(\"Относительное изменение кумулятивного среднего чека по группам\");\n"
   ]
  },
  {
   "cell_type": "markdown",
   "metadata": {},
   "source": [
    "Мы построили график относительного различия в чеке. Результаты значительно и резко менялись в некоторые даты. Видимо, именно тогда произошли аномальные заказы.\n",
    "\n",
    "**Вывод**  \n",
    "График различия среднего чека говорит о том, что результаты группы B улучшаются и сейчас почти на 20% лучше."
   ]
  },
  {
   "cell_type": "markdown",
   "metadata": {},
   "source": [
    "### Построим график кумулятивной конверсии по группам."
   ]
  },
  {
   "cell_type": "markdown",
   "metadata": {},
   "source": [
    "Добавим в cumulativeData столбец 'conversion' c отношением числа заказов к количеству пользователей в указанной группе в указанный день.\n",
    "\n",
    "Объявим переменные cumulativeDataA и cumulativeDataB, в которых сохраните данные о заказах в сегментах A и B соответственно.\n",
    "\n",
    "Построим графики кумулятивной конверсии по дням по группам."
   ]
  },
  {
   "cell_type": "code",
   "execution_count": 29,
   "metadata": {},
   "outputs": [
    {
     "data": {
      "image/png": "[encoded data removed]",
      "text/plain": [
       "<Figure size 432x288 with 1 Axes>"
      ]
     },
     "metadata": {
      "needs_background": "light"
     },
     "output_type": "display_data"
    }
   ],
   "source": [
    "# считаем кумулятивную конверсию\n",
    "cumulativeData['conversion'] = cumulativeData['orders']/cumulativeData['visitors']\n",
    "\n",
    "# отделяем данные по группе A\n",
    "cumulativeDataA = cumulativeData[cumulativeData['group']=='A']\n",
    "\n",
    "# отделяем данные по группе B\n",
    "cumulativeDataB = cumulativeData[cumulativeData['group']=='B']\n",
    "\n",
    "# строим графики\n",
    "plt.plot(cumulativeDataA['date'], cumulativeDataA['conversion'], label='A')\n",
    "plt.plot(cumulativeDataB['date'], cumulativeDataB['conversion'], label='B')\n",
    "plt.legend()\n",
    "plt.xticks(rotation=degrees)\n",
    "plt.title(\"Кумулятивная конверсия по дням по группам\");"
   ]
  },
  {
   "cell_type": "markdown",
   "metadata": {},
   "source": [
    "В начале теста сегмент А имел большую конверсию, но со временем В пошел вверх."
   ]
  },
  {
   "cell_type": "markdown",
   "metadata": {},
   "source": [
    "### Постройте график относительного изменения кумулятивной конверсии группы B к группе A. Сделайте выводы и предположения."
   ]
  },
  {
   "cell_type": "markdown",
   "metadata": {},
   "source": [
    "Объединим таблицы cumulativeDataA и cumulativeDataB методом merge() так, чтобы она содержала столбцы: ['date', 'conversionA', 'conversionB']. Сохраним в переменной mergedCumulativeConversions.\n",
    "\n",
    "\n",
    "Построим график относительного различия кумулятивной конверсии группы B к группе A.\n",
    "\n",
    "Добавим пунктирную линию оси X чёрного цвета ('black') со значением оси Y = 0 методом plt.axhline(). И ещё одну линию оси X серого цвета ('grey') со значением оси Y = 0.2.\n"
   ]
  },
  {
   "cell_type": "code",
   "execution_count": 30,
   "metadata": {},
   "outputs": [
    {
     "data": {
      "image/png": "[encoded data removed]",
      "text/plain": [
       "<Figure size 432x288 with 1 Axes>"
      ]
     },
     "metadata": {
      "needs_background": "light"
     },
     "output_type": "display_data"
    }
   ],
   "source": [
    "mergedCumulativeConversions = cumulativeDataA[['date','conversion']].merge(cumulativeDataB[['date','conversion']], left_on='date', right_on='date', how='left', suffixes=['A', 'B'])\n",
    "\n",
    "plt.plot(mergedCumulativeConversions['date'], mergedCumulativeConversions['conversionB']/mergedCumulativeConversions['conversionA']-1, label=\"Относительный прирост конверсии группы B относительно группы A\")\n",
    "plt.legend()\n",
    "\n",
    "plt.axhline(y=0, color='black', linestyle='--')\n",
    "plt.axhline(y=0.2, color='grey', linestyle='--')\n",
    "plt.axhline(y=0.1, color='green', linestyle='--')\n",
    "plt.xticks(rotation=degrees)\n",
    "plt.title(\"Относительное изменение кумулятивной конверсии по дням по группам\");"
   ]
  },
  {
   "cell_type": "markdown",
   "metadata": {},
   "source": [
    "Достаточно быстро В опережает группу А, в середина эксперимента доходит до 10-20% прироста относительно А."
   ]
  },
  {
   "cell_type": "markdown",
   "metadata": {},
   "source": [
    "**Вывод** \n",
    "\n",
    "График различия конверсии между группами сообщает, что результаты группы B лучше группы A и есть  тенденция к улучшению."
   ]
  },
  {
   "cell_type": "markdown",
   "metadata": {},
   "source": [
    "### Точечный график количества заказов по пользователям."
   ]
  },
  {
   "cell_type": "code",
   "execution_count": 31,
   "metadata": {},
   "outputs": [],
   "source": [
    "ordersByUsers = (\n",
    "orders.groupby('visitorId', as_index=False).agg({'transactionId': pd.Series.nunique}))\n",
    "ordersByUsers.columns = ['userId', 'orders']"
   ]
  },
  {
   "cell_type": "code",
   "execution_count": 32,
   "metadata": {},
   "outputs": [
    {
     "data": {
      "image/png": "[encoded data removed]",
      "text/plain": [
       "<Figure size 432x288 with 1 Axes>"
      ]
     },
     "metadata": {
      "needs_background": "light"
     },
     "output_type": "display_data"
    }
   ],
   "source": [
    "x_values = pd.Series(range(0, len(ordersByUsers)))\n",
    "\n",
    "plt.scatter(x_values, ordersByUsers['orders'])\n",
    "plt.title(\"Количество заказов по пользователям\")\n",
    "plt.ylabel(\"Количество заказов\");"
   ]
  },
  {
   "cell_type": "markdown",
   "metadata": {},
   "source": [
    "Пользователей сделавших больше 3 заказов мало, они могут быть аномальными. Для того что бы опредлить аномальные заказы нужно посчитать выборочные перцентили."
   ]
  },
  {
   "cell_type": "markdown",
   "metadata": {},
   "source": [
    "### 95-й и 99-й перцентили количества заказов на пользователя. "
   ]
  },
  {
   "cell_type": "markdown",
   "metadata": {},
   "source": [
    "Выберем границу для определения аномальных пользователей по пользователям методом np.percentile()."
   ]
  },
  {
   "cell_type": "code",
   "execution_count": 33,
   "metadata": {},
   "outputs": [
    {
     "data": {
      "text/plain": [
       "array([2., 4.])"
      ]
     },
     "execution_count": 33,
     "metadata": {},
     "output_type": "execute_result"
    }
   ],
   "source": [
    "np.percentile(ordersByUsers['orders'], [95, 99])"
   ]
  },
  {
   "cell_type": "markdown",
   "metadata": {},
   "source": [
    "Не более 5% пользователей совершили больше 2 заказов и не более 1% пользователей совершили больше 4 заказов."
   ]
  },
  {
   "cell_type": "markdown",
   "metadata": {},
   "source": [
    "### точечный график стоимостей заказов."
   ]
  },
  {
   "cell_type": "code",
   "execution_count": 34,
   "metadata": {},
   "outputs": [
    {
     "data": {
      "image/png": "[encoded data removed]",
      "text/plain": [
       "<Figure size 432x288 with 1 Axes>"
      ]
     },
     "metadata": {
      "needs_background": "light"
     },
     "output_type": "display_data"
    }
   ],
   "source": [
    "x_values = pd.Series(range(0, len(orders['revenue'])))\n",
    "plt.scatter(x_values, orders['revenue'])\n",
    "plt.title(\"Стоимость заказов по пользователям\")\n",
    "plt.ylabel(\"стоимость заказа, 100 тысяч рублей\");"
   ]
  },
  {
   "cell_type": "markdown",
   "metadata": {},
   "source": [
    "Заказов стоимостью больше 100 тыс рублей практически нет, заказ в интернет магазине на сумму больше чем 12 млн выглядит аномальным выбросом."
   ]
  },
  {
   "cell_type": "markdown",
   "metadata": {},
   "source": [
    "### 95-й и 99-й перцентили стоимости заказов. "
   ]
  },
  {
   "cell_type": "markdown",
   "metadata": {},
   "source": [
    "Выберем границу для определения аномальных заказов по выручке с заказов по пользователям методом np.percentile()."
   ]
  },
  {
   "cell_type": "code",
   "execution_count": 35,
   "metadata": {},
   "outputs": [
    {
     "data": {
      "text/plain": [
       "array([28000. , 58233.2])"
      ]
     },
     "execution_count": 35,
     "metadata": {},
     "output_type": "execute_result"
    }
   ],
   "source": [
    "np.percentile(orders['revenue'], [95, 99])"
   ]
  },
  {
   "cell_type": "markdown",
   "metadata": {},
   "source": [
    "Не более 5% пользователей чек дороже 28 тыс рублей и не более 1% пользователей дороже 59 тыс рублей."
   ]
  },
  {
   "cell_type": "markdown",
   "metadata": {},
   "source": [
    "###  Cтатистическая значимость различий в конверсии между группами по «сырым» данным."
   ]
  },
  {
   "cell_type": "markdown",
   "metadata": {},
   "source": [
    "Создадим таблицу количество пользователей в выбранную дату в группе A и В;"
   ]
  },
  {
   "cell_type": "code",
   "execution_count": 36,
   "metadata": {},
   "outputs": [],
   "source": [
    "visitorsADaily = visitors[visitors['group'] == 'A'][['date', 'visitors']]\n",
    "visitorsADaily.columns = ['date', 'visitorsPerDateA']"
   ]
  },
  {
   "cell_type": "code",
   "execution_count": 37,
   "metadata": {},
   "outputs": [],
   "source": [
    "visitorsBDaily = visitors[visitors['group'] == 'B'][['date', 'visitors']]\n",
    "visitorsBDaily.columns = ['date', 'visitorsPerDateB']"
   ]
  },
  {
   "cell_type": "markdown",
   "metadata": {},
   "source": [
    "Создадим таблицу количество пользователей до выбранной даты включительно в группе A и В;"
   ]
  },
  {
   "cell_type": "code",
   "execution_count": 38,
   "metadata": {},
   "outputs": [],
   "source": [
    "visitorsACummulative = visitorsADaily.apply(\n",
    "    lambda x: visitorsADaily[visitorsADaily['date'] <= x['date']].agg(\n",
    "        {'date': 'max', 'visitorsPerDateA': 'sum'}\n",
    "    ),\n",
    "    axis=1,\n",
    ")\n",
    "visitorsACummulative.columns = ['date', 'visitorsCummulativeA']"
   ]
  },
  {
   "cell_type": "code",
   "execution_count": 39,
   "metadata": {},
   "outputs": [],
   "source": [
    "visitorsBCummulative = visitorsBDaily.apply(\n",
    "    lambda x: visitorsBDaily[visitorsBDaily['date'] <= x['date']].agg(\n",
    "        {'date': 'max', 'visitorsPerDateB': 'sum'}\n",
    "    ),\n",
    "    axis=1,\n",
    ")\n",
    "visitorsBCummulative.columns = ['date', 'visitorsCummulativeB']\n"
   ]
  },
  {
   "cell_type": "markdown",
   "metadata": {},
   "source": [
    "Создадим таблицу c количеством заказов и суммарной выручкой в выбранную дату в группах A и В."
   ]
  },
  {
   "cell_type": "code",
   "execution_count": 40,
   "metadata": {},
   "outputs": [],
   "source": [
    "ordersADaily = (\n",
    "    orders[orders['group'] == 'A'][['date', 'transactionId', 'visitorId', 'revenue']]\n",
    "    .groupby('date', as_index=False)\n",
    "    .agg({'transactionId': pd.Series.nunique, 'revenue': 'sum'})\n",
    ")\n",
    "ordersADaily.columns = ['date', 'ordersPerDateA', 'revenuePerDateA']"
   ]
  },
  {
   "cell_type": "code",
   "execution_count": 41,
   "metadata": {},
   "outputs": [],
   "source": [
    "ordersBDaily = (\n",
    "    orders[orders['group'] == 'B'][['date', 'transactionId', 'visitorId', 'revenue']]\n",
    "    .groupby('date', as_index=False)\n",
    "    .agg({'transactionId': pd.Series.nunique, 'revenue': 'sum'})\n",
    ")\n",
    "ordersBDaily.columns = ['date', 'ordersPerDateB', 'revenuePerDateB']\n"
   ]
  },
  {
   "cell_type": "markdown",
   "metadata": {},
   "source": [
    "Создадим таблицу с суммарным числом заказов и суммарной выручкой до выбранной даты включительно в группах A и В."
   ]
  },
  {
   "cell_type": "code",
   "execution_count": 42,
   "metadata": {},
   "outputs": [],
   "source": [
    "ordersACummulative = ordersADaily.apply(\n",
    "    lambda x: ordersADaily[ordersADaily['date'] <= x['date']].agg(\n",
    "        {'date': 'max', 'ordersPerDateA': 'sum', 'revenuePerDateA': 'sum'}\n",
    "    ),\n",
    "    axis=1,\n",
    ").sort_values(by=['date'])\n",
    "ordersACummulative.columns = [\n",
    "    'date',\n",
    "    'ordersCummulativeA',\n",
    "    'revenueCummulativeA',\n",
    "]"
   ]
  },
  {
   "cell_type": "code",
   "execution_count": 43,
   "metadata": {},
   "outputs": [],
   "source": [
    "ordersBCummulative = ordersBDaily.apply(\n",
    "    lambda x: ordersBDaily[ordersBDaily['date'] <= x['date']].agg(\n",
    "        {'date': 'max', 'ordersPerDateB': 'sum', 'revenuePerDateB': 'sum'}\n",
    "    ),\n",
    "    axis=1,\n",
    ").sort_values(by=['date'])\n",
    "ordersBCummulative.columns = [\n",
    "    'date',\n",
    "    'ordersCummulativeB',\n",
    "    'revenueCummulativeB',\n",
    "]"
   ]
  },
  {
   "cell_type": "markdown",
   "metadata": {},
   "source": [
    "Создадим таблицу data со следующим устройством:\n",
    "\n",
    "- date — дата;\n",
    "- ordersPerDateA — количество заказов в выбранную дату в группе A;\n",
    "- revenuePerDateA — суммарная выручка в выбранную дату в группе A;\n",
    "- ordersPerDateB — количество заказов в выбранную дату в группе B;\n",
    "- revenuePerDateB — суммарная выручка в выбранную дату в группе B;\n",
    "- ordersCummulativeA — суммарное число заказов до выбранной даты включительно в группе A;\n",
    "- revenueCummulativeA — суммарная выручка до выбранной даты включительно в группе A;\n",
    "- ordersCummulativeB — суммарное количество заказов до выбранной даты включительно в группе B;\n",
    "- revenueCummulativeB — суммарная выручка до выбранной даты включительно в группе B;\n",
    "- visitorsPerDateA — количество пользователей в выбранную дату в группе A;\n",
    "- visitorsPerDateB — количество пользователей в выбранную дату в группе B;\n",
    "- visitorsCummulativeA — количество пользователей до выбранной даты включительно в группе A;\n",
    "- visitorsCummulativeB — количество пользователей до выбранной даты включительно в группе B."
   ]
  },
  {
   "cell_type": "code",
   "execution_count": 44,
   "metadata": {},
   "outputs": [
    {
     "data": {
      "text/html": [
       "<div>\n",
       "<style scoped>\n",
       "    .dataframe tbody tr th:only-of-type {\n",
       "        vertical-align: middle;\n",
       "    }\n",
       "\n",
       "    .dataframe tbody tr th {\n",
       "        vertical-align: top;\n",
       "    }\n",
       "\n",
       "    .dataframe thead th {\n",
       "        text-align: right;\n",
       "    }\n",
       "</style>\n",
       "<table border=\"1\" class=\"dataframe\">\n",
       "  <thead>\n",
       "    <tr style=\"text-align: right;\">\n",
       "      <th></th>\n",
       "      <th>date</th>\n",
       "      <th>ordersPerDateA</th>\n",
       "      <th>revenuePerDateA</th>\n",
       "      <th>ordersPerDateB</th>\n",
       "      <th>revenuePerDateB</th>\n",
       "      <th>ordersCummulativeA</th>\n",
       "      <th>revenueCummulativeA</th>\n",
       "      <th>ordersCummulativeB</th>\n",
       "      <th>revenueCummulativeB</th>\n",
       "      <th>visitorsPerDateA</th>\n",
       "      <th>visitorsPerDateB</th>\n",
       "      <th>visitorsCummulativeA</th>\n",
       "      <th>visitorsCummulativeB</th>\n",
       "    </tr>\n",
       "  </thead>\n",
       "  <tbody>\n",
       "    <tr>\n",
       "      <th>0</th>\n",
       "      <td>2019-08-01</td>\n",
       "      <td>24</td>\n",
       "      <td>148579</td>\n",
       "      <td>21</td>\n",
       "      <td>101217</td>\n",
       "      <td>24</td>\n",
       "      <td>148579</td>\n",
       "      <td>21</td>\n",
       "      <td>101217</td>\n",
       "      <td>719</td>\n",
       "      <td>713</td>\n",
       "      <td>719</td>\n",
       "      <td>713</td>\n",
       "    </tr>\n",
       "    <tr>\n",
       "      <th>1</th>\n",
       "      <td>2019-08-02</td>\n",
       "      <td>20</td>\n",
       "      <td>93822</td>\n",
       "      <td>24</td>\n",
       "      <td>165531</td>\n",
       "      <td>44</td>\n",
       "      <td>242401</td>\n",
       "      <td>45</td>\n",
       "      <td>266748</td>\n",
       "      <td>619</td>\n",
       "      <td>581</td>\n",
       "      <td>1338</td>\n",
       "      <td>1294</td>\n",
       "    </tr>\n",
       "    <tr>\n",
       "      <th>2</th>\n",
       "      <td>2019-08-03</td>\n",
       "      <td>24</td>\n",
       "      <td>112473</td>\n",
       "      <td>16</td>\n",
       "      <td>114248</td>\n",
       "      <td>68</td>\n",
       "      <td>354874</td>\n",
       "      <td>61</td>\n",
       "      <td>380996</td>\n",
       "      <td>507</td>\n",
       "      <td>509</td>\n",
       "      <td>1845</td>\n",
       "      <td>1803</td>\n",
       "    </tr>\n",
       "    <tr>\n",
       "      <th>3</th>\n",
       "      <td>2019-08-04</td>\n",
       "      <td>16</td>\n",
       "      <td>70825</td>\n",
       "      <td>17</td>\n",
       "      <td>108571</td>\n",
       "      <td>84</td>\n",
       "      <td>425699</td>\n",
       "      <td>78</td>\n",
       "      <td>489567</td>\n",
       "      <td>717</td>\n",
       "      <td>770</td>\n",
       "      <td>2562</td>\n",
       "      <td>2573</td>\n",
       "    </tr>\n",
       "    <tr>\n",
       "      <th>4</th>\n",
       "      <td>2019-08-05</td>\n",
       "      <td>25</td>\n",
       "      <td>124218</td>\n",
       "      <td>23</td>\n",
       "      <td>92428</td>\n",
       "      <td>109</td>\n",
       "      <td>549917</td>\n",
       "      <td>101</td>\n",
       "      <td>581995</td>\n",
       "      <td>756</td>\n",
       "      <td>707</td>\n",
       "      <td>3318</td>\n",
       "      <td>3280</td>\n",
       "    </tr>\n",
       "  </tbody>\n",
       "</table>\n",
       "</div>"
      ],
      "text/plain": [
       "        date  ordersPerDateA  revenuePerDateA  ordersPerDateB  \\\n",
       "0 2019-08-01              24           148579              21   \n",
       "1 2019-08-02              20            93822              24   \n",
       "2 2019-08-03              24           112473              16   \n",
       "3 2019-08-04              16            70825              17   \n",
       "4 2019-08-05              25           124218              23   \n",
       "\n",
       "   revenuePerDateB  ordersCummulativeA  revenueCummulativeA  \\\n",
       "0           101217                  24               148579   \n",
       "1           165531                  44               242401   \n",
       "2           114248                  68               354874   \n",
       "3           108571                  84               425699   \n",
       "4            92428                 109               549917   \n",
       "\n",
       "   ordersCummulativeB  revenueCummulativeB  visitorsPerDateA  \\\n",
       "0                  21               101217               719   \n",
       "1                  45               266748               619   \n",
       "2                  61               380996               507   \n",
       "3                  78               489567               717   \n",
       "4                 101               581995               756   \n",
       "\n",
       "   visitorsPerDateB  visitorsCummulativeA  visitorsCummulativeB  \n",
       "0               713                   719                   713  \n",
       "1               581                  1338                  1294  \n",
       "2               509                  1845                  1803  \n",
       "3               770                  2562                  2573  \n",
       "4               707                  3318                  3280  "
      ]
     },
     "metadata": {},
     "output_type": "display_data"
    }
   ],
   "source": [
    "data = (\n",
    "    ordersADaily.merge(\n",
    "        ordersBDaily, left_on='date', right_on='date', how='left'\n",
    "    )\n",
    "    .merge(ordersACummulative, left_on='date', right_on='date', how='left')\n",
    "    .merge(ordersBCummulative, left_on='date', right_on='date', how='left')\n",
    "    .merge(visitorsADaily, left_on='date', right_on='date', how='left')\n",
    "    .merge(visitorsBDaily, left_on='date', right_on='date', how='left')\n",
    "    .merge(visitorsACummulative, left_on='date', right_on='date', how='left')\n",
    "    .merge(visitorsBCummulative, left_on='date', right_on='date', how='left')\n",
    ")\n",
    "\n",
    "display(data.head(5))"
   ]
  },
  {
   "cell_type": "markdown",
   "metadata": {},
   "source": [
    "создадим переменные\n",
    "ordersByUsersA и ordersByUsersB со столбцами ['userId', 'orders'], где для пользователей, совершивших хотя бы 1 заказ, будет указано число заказов."
   ]
  },
  {
   "cell_type": "code",
   "execution_count": 45,
   "metadata": {},
   "outputs": [],
   "source": [
    "ordersByUsersA = (\n",
    "    orders[orders['group'] == 'A']\n",
    "    .groupby('visitorId', as_index=False)\n",
    "    .agg({'transactionId': pd.Series.nunique})\n",
    ")\n",
    "ordersByUsersA.columns = ['visitorId', 'orders']\n",
    "\n",
    "ordersByUsersB = (\n",
    "    orders[orders['group'] == 'B']\n",
    "    .groupby('visitorId', as_index=False)\n",
    "    .agg({'transactionId': pd.Series.nunique})\n",
    ")\n",
    "ordersByUsersB.columns = ['visitorId', 'orders']"
   ]
  },
  {
   "cell_type": "markdown",
   "metadata": {},
   "source": [
    "Объявим переменные sampleA и sampleB, в которых пользователям с заказами будет соответствовать число заказов пользователя. А пользователям без заказов — нули. Возьмите код из урока в качестве примера."
   ]
  },
  {
   "cell_type": "code",
   "execution_count": 46,
   "metadata": {},
   "outputs": [],
   "source": [
    "sampleA = pd.concat([ordersByUsersA['orders'],pd.Series(0, index=np.arange(data['visitorsPerDateA'].sum() - len(ordersByUsersA['orders'])), name='orders')],axis=0)\n",
    "\n",
    "sampleB = pd.concat([ordersByUsersB['orders'],pd.Series(0, index=np.arange(data['visitorsPerDateB'].sum() - len(ordersByUsersB['orders'])), name='orders')],axis=0)"
   ]
  },
  {
   "cell_type": "markdown",
   "metadata": {},
   "source": [
    "Посчитаем статистическую значимость различия конверсии по результатам двух недель теста при помощи теста Манна-Уитни. И вычислим и выведем относительное различие в конверсии между группами.\n",
    "\n",
    "**Нулевая гипотеза для теста** Манна-Уитни - статистически значимых различий в конверсии между группами нет,\n",
    "**Альтернативная гипотеза для теста** - есть статистически значимые различия в конверсии между группами.\n",
    "\n"
   ]
  },
  {
   "cell_type": "code",
   "execution_count": 47,
   "metadata": {},
   "outputs": [
    {
     "name": "stdout",
     "output_type": "stream",
     "text": [
      "0.01679\n",
      "0.138\n"
     ]
    }
   ],
   "source": [
    "print(\"{0:.5f}\".format(stats.mannwhitneyu(sampleA, sampleB)[1]))\n",
    "\n",
    "print(\"{0:.3f}\".format((data['ordersPerDateB'].sum()/data['visitorsPerDateB'].sum())/(data['ordersPerDateA'].sum()/data['visitorsPerDateA'].sum())-1))"
   ]
  },
  {
   "cell_type": "code",
   "execution_count": 48,
   "metadata": {},
   "outputs": [
    {
     "name": "stdout",
     "output_type": "stream",
     "text": [
      "p-value: 0.017\n"
     ]
    }
   ],
   "source": [
    "print(f\"p-value: {stats.mannwhitneyu(sampleA, sampleB)[1]:.2}\")"
   ]
  },
  {
   "cell_type": "markdown",
   "metadata": {},
   "source": [
    "*p-value* меньше 0,05 поэтому нулевую гипотезу отвергаем. Анализ \"сырых данных\" показал что в различиях конверсии **различия в конверсии статистически значимы**. Относительный прирост конверсии группы В к конверсии группы А составил 13,8%."
   ]
  },
  {
   "cell_type": "code",
   "execution_count": 49,
   "metadata": {},
   "outputs": [
    {
     "name": "stdout",
     "output_type": "stream",
     "text": [
      "Относительно изменение конверсии: 13.8%\n"
     ]
    }
   ],
   "source": [
    "# КОД РЕВЬЮВЕРА\n",
    "print(f\"Относительно изменение конверсии: {sampleB.mean() / sampleA.mean() - 1:.1%}\")"
   ]
  },
  {
   "cell_type": "markdown",
   "metadata": {},
   "source": [
    "<hr style=\"border: 2px solid orange;\" />"
   ]
  },
  {
   "cell_type": "markdown",
   "metadata": {},
   "source": [
    "### Статистическая значимость различий в среднем чеке заказа между группами по «сырым» данным."
   ]
  },
  {
   "cell_type": "markdown",
   "metadata": {},
   "source": [
    "Теперь проверим статистическую значимость различий в среднем чеке между сегментами. \n",
    "\n",
    "**Нулевая гипотеза**: различий в среднем чеке между группами нет. \n",
    "\n",
    "**Альтернативная гипотеза**: различия в среднем чеке между группами есть.\n",
    "\n",
    "Чтобы рассчитать статистическую значимость различий в среднем чеке, передадим критерию mannwhitneyu() данные о выручке с заказов.\n",
    "\n",
    "А ещё найдём относительные различия в среднем чеке между группами:"
   ]
  },
  {
   "cell_type": "code",
   "execution_count": 50,
   "metadata": {},
   "outputs": [
    {
     "name": "stdout",
     "output_type": "stream",
     "text": [
      "p-value: 0.73\n",
      "Различие в среднем чеке групп: 25.9%\n"
     ]
    }
   ],
   "source": [
    "print(f\"p-value: {stats.mannwhitneyu(orders[orders['group']=='A']['revenue'], orders[orders['group']=='B']['revenue'])[1]:.2}\")\n",
    "print(f\"Различие в среднем чеке групп: {orders[orders['group']=='B']['revenue'].mean()/orders[orders['group']=='A']['revenue'].mean()-1:.1%}\")"
   ]
  },
  {
   "cell_type": "markdown",
   "metadata": {},
   "source": [
    "*p-value* больше 0,05 поэтому нулевую гипотезу принимаем. Анализ \"сырых данных\" показал что статистически достоверных различий в среднем чеке между группами нет. Но относительный прирост среднего чека группы В к среднему чеку группы А составил аж 25,9%."
   ]
  },
  {
   "cell_type": "markdown",
   "metadata": {},
   "source": [
    "### Статистическая значимость различий в конверсии между группами по «очищенным» данным. "
   ]
  },
  {
   "cell_type": "markdown",
   "metadata": {},
   "source": [
    " *95-й и 99-й перцентили* **средних чеков** равны 28000 и 58233.2 рублям. \n",
    " *95-й и 99-й перцентили* **числа заказов** на одного пользователя равны 2 и 4 заказам на пользователя.\n",
    "\n",
    "Примим за аномальных пользователей тех, кто совершил 4 заказа и более, или совершил заказ на сумму свыше 28 000 рублей. Так мы уберём 1% пользователей с наибольшим числом заказов и от 1% до 5% заказов с наибольшей стоимостью."
   ]
  },
  {
   "cell_type": "markdown",
   "metadata": {},
   "source": [
    "Сделаем срезы пользователей с числом заказов больше 3 — *usersWithManyOrders* и пользователей, совершивших заказы дороже 28 000 — *usersWithExpensiveOrders*. Объединим их в таблице *abnormalUsers*, удалим дубликаты, отсортируем по возрастанию.\n",
    "Выведем первые 5 строк переменной *abnormalUsers*."
   ]
  },
  {
   "cell_type": "code",
   "execution_count": 51,
   "metadata": {},
   "outputs": [
    {
     "data": {
      "text/plain": [
       "1099    148427295\n",
       "18      199603092\n",
       "928     204675465\n",
       "23      237748145\n",
       "684     358944393\n",
       "Name: visitorId, dtype: int64"
      ]
     },
     "execution_count": 51,
     "metadata": {},
     "output_type": "execute_result"
    }
   ],
   "source": [
    "usersWithManyOrders = pd.concat(\n",
    "    [\n",
    "        ordersByUsersA[ordersByUsersA['orders'] > 3]['visitorId'],\n",
    "        ordersByUsersB[ordersByUsersB['orders'] > 3]['visitorId'],\n",
    "    ],\n",
    "    axis=0,\n",
    ")\n",
    "usersWithExpensiveOrders = orders[orders['revenue'] > 28000]['visitorId']\n",
    "abnormalUsers = (\n",
    "    pd.concat([usersWithManyOrders, usersWithExpensiveOrders], axis=0)\n",
    "    .drop_duplicates()\n",
    "    .sort_values()\n",
    ")\n",
    "\n",
    "abnormalUsers.head(5)"
   ]
  },
  {
   "cell_type": "markdown",
   "metadata": {},
   "source": [
    "**Посчитаем статистическую значимость различия конверсии после удаления аномальных пользователей.**"
   ]
  },
  {
   "cell_type": "markdown",
   "metadata": {},
   "source": [
    "Создадим переменные *sampleAFiltered* и *sampleBFiltered*, в которых сохраним очищенные данные о заказах — не включая аномальных пользователей."
   ]
  },
  {
   "cell_type": "code",
   "execution_count": 52,
   "metadata": {},
   "outputs": [],
   "source": [
    "sampleAFiltered = pd.concat(\n",
    "    [\n",
    "        ordersByUsersA[\n",
    "            np.logical_not(ordersByUsersA['visitorId'].isin(abnormalUsers))\n",
    "        ]['orders'],\n",
    "        pd.Series(\n",
    "            0,\n",
    "            index=np.arange(\n",
    "                data['visitorsPerDateA'].sum() - len(ordersByUsersA['orders'])\n",
    "            ),\n",
    "            name='orders',\n",
    "        ),\n",
    "    ],\n",
    "    axis=0,\n",
    ")\n",
    "\n",
    "sampleBFiltered = pd.concat(\n",
    "    [\n",
    "        ordersByUsersB[\n",
    "            np.logical_not(ordersByUsersB['visitorId'].isin(abnormalUsers))\n",
    "        ]['orders'],\n",
    "        pd.Series(\n",
    "            0,\n",
    "            index=np.arange(\n",
    "                data['visitorsPerDateB'].sum() - len(ordersByUsersB['orders'])\n",
    "            ),\n",
    "            name='orders',\n",
    "        ),\n",
    "    ],\n",
    "    axis=0,\n",
    ")\n"
   ]
  },
  {
   "cell_type": "markdown",
   "metadata": {},
   "source": [
    "Выведем *p-value* для сравнения конверсии между очищенными группами. Выведем относительный прирост конверсии очищенной группы B, округлив до трёх знаков после запятой.\n",
    "\n",
    "\n",
    "**Нулевая гипотеза для теста** Манна-Уитни - статистически значимых различий в конверсии между группами нет,\n",
    "**Альтернативная гипотеза для теста** - есть статистически значимые различия в конверсии между группами."
   ]
  },
  {
   "cell_type": "code",
   "execution_count": 53,
   "metadata": {},
   "outputs": [
    {
     "name": "stdout",
     "output_type": "stream",
     "text": [
      "p-value: 0.018\n",
      "Относительно изменение конверсии: 14.8%\n"
     ]
    }
   ],
   "source": [
    "print(f\"p-value: {stats.mannwhitneyu(sampleAFiltered, sampleBFiltered)[1]:.2}\")\n",
    "print(f\"Относительно изменение конверсии: {sampleBFiltered.mean()/sampleAFiltered.mean()-1:.1%}\")"
   ]
  },
  {
   "cell_type": "markdown",
   "metadata": {},
   "source": [
    "Как и случае с сырыми данными статистическая значимость достигнута. Группа В лучше группы А. Относительный прирост конверсии группы В к конверсии группы А составил 14,8% (даже больше чем с сырыми данными - 13,8%)."
   ]
  },
  {
   "cell_type": "markdown",
   "metadata": {},
   "source": [
    "### Статистическая значимость различий в среднем чеке заказа между группами по «очищенным» данным."
   ]
  },
  {
   "cell_type": "markdown",
   "metadata": {},
   "source": [
    "Посчитаем статистическую значимость различия средних чеков после удаления аномальных пользователей.\n",
    "\n",
    "**Нулевая гипотеза**: различий в среднем чеке между группами нет. \n",
    "\n",
    "**Альтернативная гипотеза**: различия в среднем чеке между группами есть."
   ]
  },
  {
   "cell_type": "code",
   "execution_count": 54,
   "metadata": {},
   "outputs": [
    {
     "name": "stdout",
     "output_type": "stream",
     "text": [
      "p-value:0.977\n",
      "Различие в среднем чеке:-0.017\n"
     ]
    }
   ],
   "source": [
    "print(\"p-value:\"\n",
    "    '{0:.3f}'.format(\n",
    "        stats.mannwhitneyu(\n",
    "            orders[\n",
    "                np.logical_and(\n",
    "                    orders['group'] == 'A',\n",
    "                    np.logical_not(orders['visitorId'].isin(abnormalUsers)),\n",
    "                )\n",
    "            ]['revenue'],\n",
    "            orders[\n",
    "                np.logical_and(\n",
    "                    orders['group'] == 'B',\n",
    "                    np.logical_not(orders['visitorId'].isin(abnormalUsers)),\n",
    "                )\n",
    "            ]['revenue'],\n",
    "        )[1]\n",
    "    )\n",
    ")\n",
    "\n",
    "print(\"Различие в среднем чеке:\"\n",
    "    \"{0:.3f}\".format(\n",
    "        orders[\n",
    "            np.logical_and(\n",
    "                orders['group'] == 'B',\n",
    "                np.logical_not(orders['visitorId'].isin(abnormalUsers)),\n",
    "            )\n",
    "        ]['revenue'].mean()\n",
    "        / orders[\n",
    "            np.logical_and(\n",
    "                orders['group'] == 'A',\n",
    "                np.logical_not(orders['visitorId'].isin(abnormalUsers)),\n",
    "            )\n",
    "        ]['revenue'].mean()\n",
    "        - 1\n",
    "    )\n",
    ")"
   ]
  },
  {
   "cell_type": "markdown",
   "metadata": {},
   "source": [
    "P-value увеличился еще больше, и разница между сегментами стала отрицательной -1,7%."
   ]
  },
  {
   "cell_type": "markdown",
   "metadata": {},
   "source": [
    "Общие выводы по результатам теста не изменились"
   ]
  },
  {
   "cell_type": "markdown",
   "metadata": {},
   "source": [
    "### Вывод и решение по результатам теста."
   ]
  },
  {
   "cell_type": "markdown",
   "metadata": {},
   "source": [
    "Имеющиеся факты:\n",
    "- Есть статистически значимое различие по конверсии между группами и по «сырым», и по данным после фильтрации аномалий;\n",
    "- Нет статистически значимого различия по среднему чеку между группами ни по «сырым», ни по данным после фильтрации аномалий;\n",
    "- График различия среднего чека говорит о том, что результаты группы B улучшаются и сейчас почти на 20% лучше. График различия среднего чека колеблется, делать из этого графика определённые выводы нельзя.\n",
    "- График различия конверсии между группами сообщает, что результаты группы B лучше группы A и есть  тенденция к улучшению.\n",
    "\n",
    "Мы проверяли гипотезу *\"Добавить форму подписки на все основные страницы, чтобы собрать базу клиентов для email-рассылок\".* Она не предполагала увеличение среднего чека с одного клиента."
   ]
  },
  {
   "cell_type": "markdown",
   "metadata": {},
   "source": [
    "**Вывод**\n",
    "\n",
    "Остановить тест, зафиксировать победу группы В , признать его успешным и перейти к проверке следующей гипотезы."
   ]
  },
  {
   "cell_type": "code",
   "execution_count": null,
   "metadata": {},
   "outputs": [],
   "source": []
  }
 ],
 "metadata": {
  "ExecuteTimeLog": [
   {
    "duration": 390,
    "start_time": "2022-03-21T04:50:47.765Z"
   },
   {
    "duration": 35,
    "start_time": "2022-03-21T04:51:55.727Z"
   },
   {
    "duration": 80,
    "start_time": "2022-03-21T04:52:09.137Z"
   },
   {
    "duration": 20,
    "start_time": "2022-03-21T04:52:32.009Z"
   },
   {
    "duration": 10,
    "start_time": "2022-03-21T04:52:48.295Z"
   },
   {
    "duration": 2489,
    "start_time": "2022-03-21T04:55:12.161Z"
   },
   {
    "duration": 13,
    "start_time": "2022-03-21T04:56:03.999Z"
   },
   {
    "duration": 8,
    "start_time": "2022-03-21T04:56:16.408Z"
   },
   {
    "duration": 8,
    "start_time": "2022-03-21T04:57:24.725Z"
   },
   {
    "duration": 5,
    "start_time": "2022-03-21T12:26:17.837Z"
   },
   {
    "duration": 8,
    "start_time": "2022-03-21T12:27:07.222Z"
   },
   {
    "duration": 148,
    "start_time": "2022-03-21T12:27:43.314Z"
   },
   {
    "duration": 15,
    "start_time": "2022-03-21T12:27:51.465Z"
   },
   {
    "duration": 8,
    "start_time": "2022-03-21T12:28:12.108Z"
   },
   {
    "duration": 11,
    "start_time": "2022-03-21T12:28:28.084Z"
   },
   {
    "duration": 12,
    "start_time": "2022-03-21T12:28:36.942Z"
   },
   {
    "duration": 5,
    "start_time": "2022-03-21T12:29:21.881Z"
   },
   {
    "duration": 5,
    "start_time": "2022-03-21T12:31:32.892Z"
   },
   {
    "duration": 8,
    "start_time": "2022-03-21T12:31:59.231Z"
   },
   {
    "duration": 14,
    "start_time": "2022-03-21T12:33:27.654Z"
   },
   {
    "duration": 4,
    "start_time": "2022-03-21T12:33:35.756Z"
   },
   {
    "duration": 4,
    "start_time": "2022-03-21T12:33:55.211Z"
   },
   {
    "duration": 425,
    "start_time": "2022-03-21T12:34:30.530Z"
   },
   {
    "duration": 38,
    "start_time": "2022-03-21T12:34:30.957Z"
   },
   {
    "duration": 12,
    "start_time": "2022-03-21T12:34:30.996Z"
   },
   {
    "duration": 20,
    "start_time": "2022-03-21T12:34:31.009Z"
   },
   {
    "duration": 28,
    "start_time": "2022-03-21T12:34:31.031Z"
   },
   {
    "duration": 5,
    "start_time": "2022-03-21T12:34:31.061Z"
   },
   {
    "duration": 21,
    "start_time": "2022-03-21T12:34:31.068Z"
   },
   {
    "duration": 20,
    "start_time": "2022-03-21T12:34:31.091Z"
   },
   {
    "duration": 4,
    "start_time": "2022-03-21T12:39:08.237Z"
   },
   {
    "duration": 5,
    "start_time": "2022-03-21T12:40:47.694Z"
   },
   {
    "duration": 6,
    "start_time": "2022-03-21T12:41:05.389Z"
   },
   {
    "duration": 6,
    "start_time": "2022-03-21T12:41:31.786Z"
   },
   {
    "duration": 371,
    "start_time": "2022-03-21T12:54:58.483Z"
   },
   {
    "duration": 27,
    "start_time": "2022-03-21T12:54:58.856Z"
   },
   {
    "duration": 11,
    "start_time": "2022-03-21T12:54:58.885Z"
   },
   {
    "duration": 10,
    "start_time": "2022-03-21T12:54:58.898Z"
   },
   {
    "duration": 22,
    "start_time": "2022-03-21T12:54:58.910Z"
   },
   {
    "duration": 4,
    "start_time": "2022-03-21T12:54:58.934Z"
   },
   {
    "duration": 11,
    "start_time": "2022-03-21T12:54:58.939Z"
   },
   {
    "duration": 12,
    "start_time": "2022-03-21T12:54:58.952Z"
   },
   {
    "duration": 6,
    "start_time": "2022-03-21T12:54:58.965Z"
   },
   {
    "duration": 6,
    "start_time": "2022-03-21T12:54:58.973Z"
   },
   {
    "duration": 9,
    "start_time": "2022-03-21T12:54:58.980Z"
   },
   {
    "duration": 9,
    "start_time": "2022-03-21T12:54:58.990Z"
   },
   {
    "duration": 53,
    "start_time": "2022-03-21T12:55:26.445Z"
   },
   {
    "duration": 365,
    "start_time": "2022-03-21T12:55:35.587Z"
   },
   {
    "duration": 27,
    "start_time": "2022-03-21T12:55:35.954Z"
   },
   {
    "duration": 11,
    "start_time": "2022-03-21T12:55:35.983Z"
   },
   {
    "duration": 13,
    "start_time": "2022-03-21T12:55:35.996Z"
   },
   {
    "duration": 22,
    "start_time": "2022-03-21T12:55:36.011Z"
   },
   {
    "duration": 4,
    "start_time": "2022-03-21T12:55:36.035Z"
   },
   {
    "duration": 11,
    "start_time": "2022-03-21T12:55:36.040Z"
   },
   {
    "duration": 15,
    "start_time": "2022-03-21T12:55:36.053Z"
   },
   {
    "duration": 8,
    "start_time": "2022-03-21T12:55:36.070Z"
   },
   {
    "duration": 9,
    "start_time": "2022-03-21T12:55:36.081Z"
   },
   {
    "duration": 8,
    "start_time": "2022-03-21T12:55:36.092Z"
   },
   {
    "duration": 5,
    "start_time": "2022-03-21T12:55:39.737Z"
   },
   {
    "duration": 121,
    "start_time": "2022-03-21T18:33:09.883Z"
   },
   {
    "duration": 131,
    "start_time": "2022-03-21T18:33:32.293Z"
   },
   {
    "duration": 136,
    "start_time": "2022-03-21T18:33:37.389Z"
   },
   {
    "duration": 21,
    "start_time": "2022-03-21T18:34:05.959Z"
   },
   {
    "duration": 43,
    "start_time": "2022-03-21T18:34:13.768Z"
   },
   {
    "duration": 12,
    "start_time": "2022-03-21T18:34:32.381Z"
   },
   {
    "duration": 78,
    "start_time": "2022-03-21T18:34:50.297Z"
   },
   {
    "duration": 7,
    "start_time": "2022-03-21T18:34:55.249Z"
   },
   {
    "duration": 6,
    "start_time": "2022-03-21T18:36:15.096Z"
   },
   {
    "duration": 22,
    "start_time": "2022-03-21T18:36:56.080Z"
   },
   {
    "duration": 22,
    "start_time": "2022-03-21T18:37:32.719Z"
   },
   {
    "duration": 11,
    "start_time": "2022-03-21T18:37:38.917Z"
   },
   {
    "duration": 5,
    "start_time": "2022-03-21T18:37:53.335Z"
   },
   {
    "duration": 418,
    "start_time": "2022-03-21T18:38:03.633Z"
   },
   {
    "duration": 28,
    "start_time": "2022-03-21T18:38:04.053Z"
   },
   {
    "duration": 11,
    "start_time": "2022-03-21T18:38:04.083Z"
   },
   {
    "duration": 16,
    "start_time": "2022-03-21T18:38:04.095Z"
   },
   {
    "duration": 25,
    "start_time": "2022-03-21T18:38:04.113Z"
   },
   {
    "duration": 4,
    "start_time": "2022-03-21T18:38:04.140Z"
   },
   {
    "duration": 20,
    "start_time": "2022-03-21T18:38:04.145Z"
   },
   {
    "duration": 27,
    "start_time": "2022-03-21T18:38:04.166Z"
   },
   {
    "duration": 8,
    "start_time": "2022-03-21T18:38:04.194Z"
   },
   {
    "duration": 10,
    "start_time": "2022-03-21T18:38:04.203Z"
   },
   {
    "duration": 8,
    "start_time": "2022-03-21T18:38:04.214Z"
   },
   {
    "duration": 12,
    "start_time": "2022-03-21T18:38:04.223Z"
   },
   {
    "duration": 48,
    "start_time": "2022-03-21T18:38:04.237Z"
   },
   {
    "duration": 11,
    "start_time": "2022-03-21T18:38:04.288Z"
   },
   {
    "duration": 12,
    "start_time": "2022-03-21T18:38:04.301Z"
   },
   {
    "duration": 23,
    "start_time": "2022-03-21T18:38:04.315Z"
   },
   {
    "duration": 10,
    "start_time": "2022-03-21T18:38:04.340Z"
   },
   {
    "duration": 9,
    "start_time": "2022-03-21T18:38:04.352Z"
   },
   {
    "duration": 3,
    "start_time": "2022-03-22T12:11:36.175Z"
   },
   {
    "duration": 392,
    "start_time": "2022-03-22T12:11:42.767Z"
   },
   {
    "duration": 39,
    "start_time": "2022-03-22T12:11:43.161Z"
   },
   {
    "duration": 11,
    "start_time": "2022-03-22T12:11:43.202Z"
   },
   {
    "duration": 62,
    "start_time": "2022-03-22T12:11:43.215Z"
   },
   {
    "duration": 14,
    "start_time": "2022-03-22T12:11:43.278Z"
   },
   {
    "duration": 6,
    "start_time": "2022-03-22T12:11:43.294Z"
   },
   {
    "duration": 9,
    "start_time": "2022-03-22T12:11:43.301Z"
   },
   {
    "duration": 14,
    "start_time": "2022-03-22T12:11:43.311Z"
   },
   {
    "duration": 9,
    "start_time": "2022-03-22T12:11:43.327Z"
   },
   {
    "duration": 6,
    "start_time": "2022-03-22T12:11:43.338Z"
   },
   {
    "duration": 7,
    "start_time": "2022-03-22T12:11:43.346Z"
   },
   {
    "duration": 8,
    "start_time": "2022-03-22T12:11:43.355Z"
   },
   {
    "duration": 100,
    "start_time": "2022-03-22T12:11:43.365Z"
   },
   {
    "duration": 10,
    "start_time": "2022-03-22T12:11:43.467Z"
   },
   {
    "duration": 10,
    "start_time": "2022-03-22T12:11:43.479Z"
   },
   {
    "duration": 23,
    "start_time": "2022-03-22T12:11:43.490Z"
   },
   {
    "duration": 10,
    "start_time": "2022-03-22T12:11:43.515Z"
   },
   {
    "duration": 8,
    "start_time": "2022-03-22T12:11:43.527Z"
   },
   {
    "duration": 1146,
    "start_time": "2022-03-22T12:12:14.044Z"
   },
   {
    "duration": 849,
    "start_time": "2022-03-22T12:13:03.378Z"
   },
   {
    "duration": 918,
    "start_time": "2022-03-22T12:13:06.441Z"
   },
   {
    "duration": 809,
    "start_time": "2022-03-22T12:13:17.642Z"
   },
   {
    "duration": 14,
    "start_time": "2022-03-22T12:16:27.755Z"
   },
   {
    "duration": 13,
    "start_time": "2022-03-22T12:16:43.605Z"
   },
   {
    "duration": 15,
    "start_time": "2022-03-22T12:16:58.773Z"
   },
   {
    "duration": 4,
    "start_time": "2022-03-22T12:17:20.634Z"
   },
   {
    "duration": 798,
    "start_time": "2022-03-22T12:17:37.928Z"
   },
   {
    "duration": 684,
    "start_time": "2022-03-22T12:17:48.394Z"
   },
   {
    "duration": 803,
    "start_time": "2022-03-22T12:18:07.428Z"
   },
   {
    "duration": 427,
    "start_time": "2022-03-22T12:18:39.135Z"
   },
   {
    "duration": 27,
    "start_time": "2022-03-22T12:18:39.564Z"
   },
   {
    "duration": 12,
    "start_time": "2022-03-22T12:18:39.593Z"
   },
   {
    "duration": 7,
    "start_time": "2022-03-22T12:18:39.607Z"
   },
   {
    "duration": 26,
    "start_time": "2022-03-22T12:18:39.615Z"
   },
   {
    "duration": 4,
    "start_time": "2022-03-22T12:18:39.642Z"
   },
   {
    "duration": 7,
    "start_time": "2022-03-22T12:18:39.648Z"
   },
   {
    "duration": 12,
    "start_time": "2022-03-22T12:18:39.656Z"
   },
   {
    "duration": 7,
    "start_time": "2022-03-22T12:18:39.670Z"
   },
   {
    "duration": 8,
    "start_time": "2022-03-22T12:18:39.680Z"
   },
   {
    "duration": 6,
    "start_time": "2022-03-22T12:18:39.689Z"
   },
   {
    "duration": 37,
    "start_time": "2022-03-22T12:18:39.697Z"
   },
   {
    "duration": 69,
    "start_time": "2022-03-22T12:18:39.736Z"
   },
   {
    "duration": 10,
    "start_time": "2022-03-22T12:18:39.807Z"
   },
   {
    "duration": 14,
    "start_time": "2022-03-22T12:18:39.819Z"
   },
   {
    "duration": 9,
    "start_time": "2022-03-22T12:18:39.835Z"
   },
   {
    "duration": 23,
    "start_time": "2022-03-22T12:18:39.845Z"
   },
   {
    "duration": 10,
    "start_time": "2022-03-22T12:18:39.870Z"
   },
   {
    "duration": 11,
    "start_time": "2022-03-22T12:18:39.882Z"
   },
   {
    "duration": 12,
    "start_time": "2022-03-22T12:18:39.895Z"
   },
   {
    "duration": 11,
    "start_time": "2022-03-22T12:18:55.053Z"
   },
   {
    "duration": 90,
    "start_time": "2022-03-22T12:19:25.104Z"
   },
   {
    "duration": 25,
    "start_time": "2022-03-22T12:21:36.204Z"
   },
   {
    "duration": 197,
    "start_time": "2022-03-22T12:22:28.209Z"
   },
   {
    "duration": 25,
    "start_time": "2022-03-22T15:10:29.981Z"
   },
   {
    "duration": 198,
    "start_time": "2022-03-22T15:10:46.913Z"
   },
   {
    "duration": 122,
    "start_time": "2022-03-22T15:11:42.086Z"
   },
   {
    "duration": 11,
    "start_time": "2022-03-22T15:13:07.030Z"
   },
   {
    "duration": 14,
    "start_time": "2022-03-22T15:14:37.786Z"
   },
   {
    "duration": 480,
    "start_time": "2022-03-22T15:15:06.255Z"
   },
   {
    "duration": 273,
    "start_time": "2022-03-22T15:15:11.388Z"
   },
   {
    "duration": 716,
    "start_time": "2022-03-22T15:17:38.936Z"
   },
   {
    "duration": 25,
    "start_time": "2022-03-22T15:17:39.654Z"
   },
   {
    "duration": 11,
    "start_time": "2022-03-22T15:17:39.681Z"
   },
   {
    "duration": 10,
    "start_time": "2022-03-22T15:17:39.694Z"
   },
   {
    "duration": 15,
    "start_time": "2022-03-22T15:17:39.706Z"
   },
   {
    "duration": 4,
    "start_time": "2022-03-22T15:17:39.731Z"
   },
   {
    "duration": 11,
    "start_time": "2022-03-22T15:17:39.737Z"
   },
   {
    "duration": 22,
    "start_time": "2022-03-22T15:17:39.750Z"
   },
   {
    "duration": 14,
    "start_time": "2022-03-22T15:17:39.774Z"
   },
   {
    "duration": 6,
    "start_time": "2022-03-22T15:17:39.791Z"
   },
   {
    "duration": 8,
    "start_time": "2022-03-22T15:17:39.799Z"
   },
   {
    "duration": 10,
    "start_time": "2022-03-22T15:17:39.809Z"
   },
   {
    "duration": 79,
    "start_time": "2022-03-22T15:17:39.821Z"
   },
   {
    "duration": 10,
    "start_time": "2022-03-22T15:17:39.902Z"
   },
   {
    "duration": 16,
    "start_time": "2022-03-22T15:17:39.914Z"
   },
   {
    "duration": 12,
    "start_time": "2022-03-22T15:17:39.931Z"
   },
   {
    "duration": 24,
    "start_time": "2022-03-22T15:17:39.945Z"
   },
   {
    "duration": 10,
    "start_time": "2022-03-22T15:17:39.971Z"
   },
   {
    "duration": 8,
    "start_time": "2022-03-22T15:17:39.983Z"
   },
   {
    "duration": 15,
    "start_time": "2022-03-22T15:17:39.993Z"
   },
   {
    "duration": 198,
    "start_time": "2022-03-22T15:17:40.010Z"
   },
   {
    "duration": 215,
    "start_time": "2022-03-22T15:17:40.209Z"
   },
   {
    "duration": 137,
    "start_time": "2022-03-22T15:17:40.426Z"
   },
   {
    "duration": 10,
    "start_time": "2022-03-22T15:17:40.564Z"
   },
   {
    "duration": 286,
    "start_time": "2022-03-22T15:17:40.575Z"
   },
   {
    "duration": 185,
    "start_time": "2022-03-22T15:20:15.569Z"
   },
   {
    "duration": 6,
    "start_time": "2022-03-22T15:23:14.504Z"
   },
   {
    "duration": 250,
    "start_time": "2022-03-22T15:23:48.790Z"
   },
   {
    "duration": 680,
    "start_time": "2022-03-22T15:25:38.355Z"
   },
   {
    "duration": 25,
    "start_time": "2022-03-22T15:25:39.038Z"
   },
   {
    "duration": 11,
    "start_time": "2022-03-22T15:25:39.065Z"
   },
   {
    "duration": 12,
    "start_time": "2022-03-22T15:25:39.079Z"
   },
   {
    "duration": 13,
    "start_time": "2022-03-22T15:25:39.093Z"
   },
   {
    "duration": 4,
    "start_time": "2022-03-22T15:25:39.108Z"
   },
   {
    "duration": 21,
    "start_time": "2022-03-22T15:25:39.114Z"
   },
   {
    "duration": 14,
    "start_time": "2022-03-22T15:25:39.136Z"
   },
   {
    "duration": 6,
    "start_time": "2022-03-22T15:25:39.152Z"
   },
   {
    "duration": 8,
    "start_time": "2022-03-22T15:25:39.160Z"
   },
   {
    "duration": 7,
    "start_time": "2022-03-22T15:25:39.170Z"
   },
   {
    "duration": 8,
    "start_time": "2022-03-22T15:25:39.178Z"
   },
   {
    "duration": 89,
    "start_time": "2022-03-22T15:25:39.187Z"
   },
   {
    "duration": 11,
    "start_time": "2022-03-22T15:25:39.277Z"
   },
   {
    "duration": 17,
    "start_time": "2022-03-22T15:25:39.290Z"
   },
   {
    "duration": 8,
    "start_time": "2022-03-22T15:25:39.309Z"
   },
   {
    "duration": 22,
    "start_time": "2022-03-22T15:25:39.319Z"
   },
   {
    "duration": 10,
    "start_time": "2022-03-22T15:25:39.343Z"
   },
   {
    "duration": 9,
    "start_time": "2022-03-22T15:25:39.355Z"
   },
   {
    "duration": 10,
    "start_time": "2022-03-22T15:25:39.366Z"
   },
   {
    "duration": 206,
    "start_time": "2022-03-22T15:25:39.377Z"
   },
   {
    "duration": 191,
    "start_time": "2022-03-22T15:25:39.584Z"
   },
   {
    "duration": 138,
    "start_time": "2022-03-22T15:25:39.777Z"
   },
   {
    "duration": 20,
    "start_time": "2022-03-22T15:25:39.917Z"
   },
   {
    "duration": 280,
    "start_time": "2022-03-22T15:25:39.939Z"
   },
   {
    "duration": 190,
    "start_time": "2022-03-22T15:25:40.221Z"
   },
   {
    "duration": 6,
    "start_time": "2022-03-22T15:25:40.413Z"
   },
   {
    "duration": 312,
    "start_time": "2022-03-22T15:25:40.431Z"
   },
   {
    "duration": 317,
    "start_time": "2022-03-22T15:25:54.700Z"
   },
   {
    "duration": 182,
    "start_time": "2022-03-22T15:26:00.973Z"
   },
   {
    "duration": 184,
    "start_time": "2022-03-22T15:26:08.348Z"
   },
   {
    "duration": 75,
    "start_time": "2022-03-22T18:42:44.095Z"
   },
   {
    "duration": 208,
    "start_time": "2022-03-22T18:53:47.195Z"
   },
   {
    "duration": 194,
    "start_time": "2022-03-22T18:54:00.237Z"
   },
   {
    "duration": 317,
    "start_time": "2022-03-22T18:54:41.035Z"
   },
   {
    "duration": 328,
    "start_time": "2022-03-22T19:03:17.127Z"
   },
   {
    "duration": 293,
    "start_time": "2022-03-22T19:03:23.785Z"
   },
   {
    "duration": 693,
    "start_time": "2022-03-22T19:04:16.945Z"
   },
   {
    "duration": 25,
    "start_time": "2022-03-22T19:04:17.641Z"
   },
   {
    "duration": 11,
    "start_time": "2022-03-22T19:04:17.667Z"
   },
   {
    "duration": 6,
    "start_time": "2022-03-22T19:04:17.680Z"
   },
   {
    "duration": 13,
    "start_time": "2022-03-22T19:04:17.688Z"
   },
   {
    "duration": 4,
    "start_time": "2022-03-22T19:04:17.703Z"
   },
   {
    "duration": 24,
    "start_time": "2022-03-22T19:04:17.709Z"
   },
   {
    "duration": 12,
    "start_time": "2022-03-22T19:04:17.735Z"
   },
   {
    "duration": 6,
    "start_time": "2022-03-22T19:04:17.749Z"
   },
   {
    "duration": 7,
    "start_time": "2022-03-22T19:04:17.756Z"
   },
   {
    "duration": 7,
    "start_time": "2022-03-22T19:04:17.764Z"
   },
   {
    "duration": 15,
    "start_time": "2022-03-22T19:04:17.773Z"
   },
   {
    "duration": 57,
    "start_time": "2022-03-22T19:04:17.789Z"
   },
   {
    "duration": 11,
    "start_time": "2022-03-22T19:04:17.849Z"
   },
   {
    "duration": 15,
    "start_time": "2022-03-22T19:04:17.861Z"
   },
   {
    "duration": 8,
    "start_time": "2022-03-22T19:04:17.878Z"
   },
   {
    "duration": 22,
    "start_time": "2022-03-22T19:04:17.888Z"
   },
   {
    "duration": 23,
    "start_time": "2022-03-22T19:04:17.911Z"
   },
   {
    "duration": 6,
    "start_time": "2022-03-22T19:04:17.936Z"
   },
   {
    "duration": 9,
    "start_time": "2022-03-22T19:04:17.943Z"
   },
   {
    "duration": 206,
    "start_time": "2022-03-22T19:04:17.953Z"
   },
   {
    "duration": 202,
    "start_time": "2022-03-22T19:04:18.161Z"
   },
   {
    "duration": 137,
    "start_time": "2022-03-22T19:04:18.365Z"
   },
   {
    "duration": 9,
    "start_time": "2022-03-22T19:04:18.504Z"
   },
   {
    "duration": 278,
    "start_time": "2022-03-22T19:04:18.532Z"
   },
   {
    "duration": 187,
    "start_time": "2022-03-22T19:04:18.811Z"
   },
   {
    "duration": 5,
    "start_time": "2022-03-22T19:04:19.000Z"
   },
   {
    "duration": 315,
    "start_time": "2022-03-22T19:04:19.007Z"
   },
   {
    "duration": 275,
    "start_time": "2022-03-22T19:04:19.324Z"
   },
   {
    "duration": 358,
    "start_time": "2022-03-22T19:04:19.601Z"
   },
   {
    "duration": 134,
    "start_time": "2022-03-23T19:03:57.194Z"
   },
   {
    "duration": 122,
    "start_time": "2022-03-23T19:04:47.720Z"
   },
   {
    "duration": 146,
    "start_time": "2022-03-23T19:05:09.030Z"
   },
   {
    "duration": 136,
    "start_time": "2022-03-23T19:05:30.324Z"
   },
   {
    "duration": 128,
    "start_time": "2022-03-23T19:06:05.384Z"
   },
   {
    "duration": 126,
    "start_time": "2022-03-23T19:06:16.073Z"
   },
   {
    "duration": 5,
    "start_time": "2022-03-23T19:13:05.715Z"
   },
   {
    "duration": 159,
    "start_time": "2022-03-23T19:17:22.072Z"
   },
   {
    "duration": 144,
    "start_time": "2022-03-23T19:20:41.579Z"
   },
   {
    "duration": 6,
    "start_time": "2022-03-23T19:21:27.479Z"
   },
   {
    "duration": 129,
    "start_time": "2022-03-23T19:22:58.463Z"
   },
   {
    "duration": 775,
    "start_time": "2022-03-23T19:23:19.732Z"
   },
   {
    "duration": 28,
    "start_time": "2022-03-23T19:23:20.510Z"
   },
   {
    "duration": 12,
    "start_time": "2022-03-23T19:23:20.540Z"
   },
   {
    "duration": 10,
    "start_time": "2022-03-23T19:23:20.554Z"
   },
   {
    "duration": 15,
    "start_time": "2022-03-23T19:23:20.566Z"
   },
   {
    "duration": 5,
    "start_time": "2022-03-23T19:23:20.583Z"
   },
   {
    "duration": 9,
    "start_time": "2022-03-23T19:23:20.590Z"
   },
   {
    "duration": 41,
    "start_time": "2022-03-23T19:23:20.601Z"
   },
   {
    "duration": 5,
    "start_time": "2022-03-23T19:23:20.645Z"
   },
   {
    "duration": 9,
    "start_time": "2022-03-23T19:23:20.652Z"
   },
   {
    "duration": 7,
    "start_time": "2022-03-23T19:23:20.663Z"
   },
   {
    "duration": 9,
    "start_time": "2022-03-23T19:23:20.672Z"
   },
   {
    "duration": 50,
    "start_time": "2022-03-23T19:23:20.684Z"
   },
   {
    "duration": 12,
    "start_time": "2022-03-23T19:23:20.738Z"
   },
   {
    "duration": 20,
    "start_time": "2022-03-23T19:23:20.751Z"
   },
   {
    "duration": 10,
    "start_time": "2022-03-23T19:23:20.773Z"
   },
   {
    "duration": 23,
    "start_time": "2022-03-23T19:23:20.784Z"
   },
   {
    "duration": 29,
    "start_time": "2022-03-23T19:23:20.808Z"
   },
   {
    "duration": 6,
    "start_time": "2022-03-23T19:23:20.838Z"
   },
   {
    "duration": 10,
    "start_time": "2022-03-23T19:23:20.846Z"
   },
   {
    "duration": 224,
    "start_time": "2022-03-23T19:23:20.858Z"
   },
   {
    "duration": 205,
    "start_time": "2022-03-23T19:23:21.084Z"
   },
   {
    "duration": 133,
    "start_time": "2022-03-23T19:23:21.291Z"
   },
   {
    "duration": 11,
    "start_time": "2022-03-23T19:23:21.432Z"
   },
   {
    "duration": 303,
    "start_time": "2022-03-23T19:23:21.445Z"
   },
   {
    "duration": 195,
    "start_time": "2022-03-23T19:23:21.749Z"
   },
   {
    "duration": 9,
    "start_time": "2022-03-23T19:23:21.946Z"
   },
   {
    "duration": 279,
    "start_time": "2022-03-23T19:23:21.957Z"
   },
   {
    "duration": 269,
    "start_time": "2022-03-23T19:23:22.238Z"
   },
   {
    "duration": 370,
    "start_time": "2022-03-23T19:23:22.509Z"
   },
   {
    "duration": 149,
    "start_time": "2022-03-23T19:23:22.882Z"
   },
   {
    "duration": 139,
    "start_time": "2022-03-23T19:23:23.033Z"
   },
   {
    "duration": 6,
    "start_time": "2022-03-23T19:23:23.174Z"
   },
   {
    "duration": 175,
    "start_time": "2022-03-23T19:23:23.181Z"
   },
   {
    "duration": 5,
    "start_time": "2022-03-23T19:23:23.358Z"
   },
   {
    "duration": 1038,
    "start_time": "2022-03-25T07:45:00.802Z"
   },
   {
    "duration": 35,
    "start_time": "2022-03-25T07:45:06.644Z"
   },
   {
    "duration": 13,
    "start_time": "2022-03-25T07:45:11.393Z"
   },
   {
    "duration": 7,
    "start_time": "2022-03-25T07:45:22.812Z"
   },
   {
    "duration": 12,
    "start_time": "2022-03-25T07:45:37.701Z"
   },
   {
    "duration": 5,
    "start_time": "2022-03-25T07:45:44.578Z"
   },
   {
    "duration": 6,
    "start_time": "2022-03-25T07:45:49.674Z"
   },
   {
    "duration": 12,
    "start_time": "2022-03-25T07:46:07.489Z"
   },
   {
    "duration": 5,
    "start_time": "2022-03-25T07:46:11.906Z"
   },
   {
    "duration": 6,
    "start_time": "2022-03-25T07:46:15.386Z"
   },
   {
    "duration": 4,
    "start_time": "2022-03-25T07:46:21.936Z"
   },
   {
    "duration": 5,
    "start_time": "2022-03-25T07:46:26.095Z"
   },
   {
    "duration": 3,
    "start_time": "2022-03-25T07:47:49.182Z"
   },
   {
    "duration": 24,
    "start_time": "2022-03-25T07:47:49.187Z"
   },
   {
    "duration": 12,
    "start_time": "2022-03-25T07:47:49.213Z"
   },
   {
    "duration": 7,
    "start_time": "2022-03-25T07:47:49.227Z"
   },
   {
    "duration": 12,
    "start_time": "2022-03-25T07:47:49.236Z"
   },
   {
    "duration": 7,
    "start_time": "2022-03-25T07:47:49.250Z"
   },
   {
    "duration": 7,
    "start_time": "2022-03-25T07:47:49.259Z"
   },
   {
    "duration": 14,
    "start_time": "2022-03-25T07:47:49.267Z"
   },
   {
    "duration": 9,
    "start_time": "2022-03-25T07:47:49.282Z"
   },
   {
    "duration": 41,
    "start_time": "2022-03-25T07:47:49.292Z"
   },
   {
    "duration": 6,
    "start_time": "2022-03-25T07:47:49.335Z"
   },
   {
    "duration": 8,
    "start_time": "2022-03-25T07:47:49.343Z"
   },
   {
    "duration": 49,
    "start_time": "2022-03-25T07:47:49.353Z"
   },
   {
    "duration": 12,
    "start_time": "2022-03-25T07:47:49.405Z"
   },
   {
    "duration": 18,
    "start_time": "2022-03-25T07:47:49.418Z"
   },
   {
    "duration": 9,
    "start_time": "2022-03-25T07:47:49.438Z"
   },
   {
    "duration": 26,
    "start_time": "2022-03-25T07:47:49.449Z"
   },
   {
    "duration": 11,
    "start_time": "2022-03-25T07:47:49.476Z"
   },
   {
    "duration": 9,
    "start_time": "2022-03-25T07:47:49.489Z"
   },
   {
    "duration": 11,
    "start_time": "2022-03-25T07:47:49.500Z"
   },
   {
    "duration": 212,
    "start_time": "2022-03-25T07:47:49.512Z"
   },
   {
    "duration": 197,
    "start_time": "2022-03-25T07:47:49.726Z"
   },
   {
    "duration": 141,
    "start_time": "2022-03-25T07:47:49.925Z"
   },
   {
    "duration": 13,
    "start_time": "2022-03-25T07:47:50.068Z"
   },
   {
    "duration": 308,
    "start_time": "2022-03-25T07:47:50.083Z"
   },
   {
    "duration": 200,
    "start_time": "2022-03-25T07:47:50.394Z"
   },
   {
    "duration": 8,
    "start_time": "2022-03-25T07:47:50.596Z"
   },
   {
    "duration": 336,
    "start_time": "2022-03-25T07:47:50.606Z"
   },
   {
    "duration": 290,
    "start_time": "2022-03-25T07:47:50.944Z"
   },
   {
    "duration": 358,
    "start_time": "2022-03-25T07:47:51.236Z"
   },
   {
    "duration": 144,
    "start_time": "2022-03-25T07:47:51.596Z"
   },
   {
    "duration": 126,
    "start_time": "2022-03-25T07:47:51.742Z"
   },
   {
    "duration": 7,
    "start_time": "2022-03-25T07:47:51.870Z"
   },
   {
    "duration": 160,
    "start_time": "2022-03-25T07:47:51.878Z"
   },
   {
    "duration": 5,
    "start_time": "2022-03-25T07:47:52.040Z"
   },
   {
    "duration": 696,
    "start_time": "2022-03-25T07:47:58.758Z"
   },
   {
    "duration": 674,
    "start_time": "2022-03-25T07:47:59.456Z"
   },
   {
    "duration": 12,
    "start_time": "2022-03-25T07:48:00.132Z"
   },
   {
    "duration": 17,
    "start_time": "2022-03-25T07:48:00.147Z"
   },
   {
    "duration": 17,
    "start_time": "2022-03-25T07:48:00.166Z"
   },
   {
    "duration": 9,
    "start_time": "2022-03-25T07:48:00.185Z"
   },
   {
    "duration": 17,
    "start_time": "2022-03-25T07:48:00.196Z"
   },
   {
    "duration": 37,
    "start_time": "2022-03-25T07:48:00.215Z"
   },
   {
    "duration": 19,
    "start_time": "2022-03-25T07:48:00.254Z"
   },
   {
    "duration": 16,
    "start_time": "2022-03-25T07:48:00.276Z"
   },
   {
    "duration": 10,
    "start_time": "2022-03-25T07:48:00.293Z"
   },
   {
    "duration": 12,
    "start_time": "2022-03-25T07:48:00.305Z"
   },
   {
    "duration": 83,
    "start_time": "2022-03-25T07:48:00.319Z"
   },
   {
    "duration": 11,
    "start_time": "2022-03-25T07:48:00.404Z"
   },
   {
    "duration": 21,
    "start_time": "2022-03-25T07:48:00.417Z"
   },
   {
    "duration": 20,
    "start_time": "2022-03-25T07:48:00.440Z"
   },
   {
    "duration": 26,
    "start_time": "2022-03-25T07:48:00.462Z"
   },
   {
    "duration": 10,
    "start_time": "2022-03-25T07:48:00.490Z"
   },
   {
    "duration": 13,
    "start_time": "2022-03-25T07:48:00.502Z"
   },
   {
    "duration": 22,
    "start_time": "2022-03-25T07:48:00.517Z"
   },
   {
    "duration": 215,
    "start_time": "2022-03-25T07:48:00.541Z"
   },
   {
    "duration": 206,
    "start_time": "2022-03-25T07:48:00.758Z"
   },
   {
    "duration": 143,
    "start_time": "2022-03-25T07:48:00.966Z"
   },
   {
    "duration": 25,
    "start_time": "2022-03-25T07:48:01.111Z"
   },
   {
    "duration": 283,
    "start_time": "2022-03-25T07:48:01.137Z"
   },
   {
    "duration": 201,
    "start_time": "2022-03-25T07:48:01.422Z"
   },
   {
    "duration": 12,
    "start_time": "2022-03-25T07:48:01.625Z"
   },
   {
    "duration": 299,
    "start_time": "2022-03-25T07:48:01.641Z"
   },
   {
    "duration": 272,
    "start_time": "2022-03-25T07:48:01.942Z"
   },
   {
    "duration": 353,
    "start_time": "2022-03-25T07:48:02.216Z"
   },
   {
    "duration": 158,
    "start_time": "2022-03-25T07:48:02.571Z"
   },
   {
    "duration": 137,
    "start_time": "2022-03-25T07:48:02.731Z"
   },
   {
    "duration": 5,
    "start_time": "2022-03-25T07:48:02.870Z"
   },
   {
    "duration": 172,
    "start_time": "2022-03-25T07:48:02.877Z"
   },
   {
    "duration": 5,
    "start_time": "2022-03-25T07:48:03.051Z"
   },
   {
    "duration": 74,
    "start_time": "2022-03-25T07:48:23.792Z"
   },
   {
    "duration": 8,
    "start_time": "2022-03-25T07:48:47.131Z"
   },
   {
    "duration": 8,
    "start_time": "2022-03-25T07:49:09.257Z"
   },
   {
    "duration": 6,
    "start_time": "2022-03-25T07:50:03.181Z"
   },
   {
    "duration": 10,
    "start_time": "2022-03-25T07:50:10.076Z"
   },
   {
    "duration": 52,
    "start_time": "2022-03-25T07:51:57.496Z"
   },
   {
    "duration": 9,
    "start_time": "2022-03-25T07:52:06.469Z"
   },
   {
    "duration": 5,
    "start_time": "2022-03-25T07:53:16.980Z"
   },
   {
    "duration": 51,
    "start_time": "2022-03-25T07:53:30.680Z"
   },
   {
    "duration": 14,
    "start_time": "2022-03-25T07:54:28.078Z"
   },
   {
    "duration": 16,
    "start_time": "2022-03-25T07:55:03.479Z"
   },
   {
    "duration": 16,
    "start_time": "2022-03-25T07:55:13.793Z"
   },
   {
    "duration": 8,
    "start_time": "2022-03-25T07:55:38.363Z"
   },
   {
    "duration": 16,
    "start_time": "2022-03-25T07:57:42.021Z"
   },
   {
    "duration": 8,
    "start_time": "2022-03-25T07:57:49.104Z"
   },
   {
    "duration": 56,
    "start_time": "2022-03-25T07:58:12.035Z"
   },
   {
    "duration": 9,
    "start_time": "2022-03-25T07:58:18.717Z"
   },
   {
    "duration": 53,
    "start_time": "2022-03-25T07:59:35.268Z"
   },
   {
    "duration": 7,
    "start_time": "2022-03-25T07:59:41.215Z"
   },
   {
    "duration": 27,
    "start_time": "2022-03-25T08:02:03.417Z"
   },
   {
    "duration": 16,
    "start_time": "2022-03-25T08:03:09.195Z"
   },
   {
    "duration": 14,
    "start_time": "2022-03-25T08:03:39.615Z"
   },
   {
    "duration": 75,
    "start_time": "2022-03-25T08:03:54.926Z"
   },
   {
    "duration": 159,
    "start_time": "2022-03-25T08:04:33.261Z"
   },
   {
    "duration": 7,
    "start_time": "2022-03-25T08:04:41.507Z"
   },
   {
    "duration": 8,
    "start_time": "2022-03-25T08:04:52.597Z"
   },
   {
    "duration": 8,
    "start_time": "2022-03-25T08:05:52.369Z"
   },
   {
    "duration": 5,
    "start_time": "2022-03-25T08:06:10.195Z"
   },
   {
    "duration": 10,
    "start_time": "2022-03-25T08:10:06.897Z"
   },
   {
    "duration": 625,
    "start_time": "2022-03-25T08:10:28.292Z"
   },
   {
    "duration": 26,
    "start_time": "2022-03-25T08:10:34.439Z"
   },
   {
    "duration": 12,
    "start_time": "2022-03-25T08:18:40.506Z"
   },
   {
    "duration": 1235,
    "start_time": "2022-03-25T08:23:26.826Z"
   },
   {
    "duration": 25,
    "start_time": "2022-03-25T08:23:28.063Z"
   },
   {
    "duration": 12,
    "start_time": "2022-03-25T08:23:28.090Z"
   },
   {
    "duration": 24,
    "start_time": "2022-03-25T08:23:28.103Z"
   },
   {
    "duration": 21,
    "start_time": "2022-03-25T08:23:28.129Z"
   },
   {
    "duration": 29,
    "start_time": "2022-03-25T08:23:28.152Z"
   },
   {
    "duration": 23,
    "start_time": "2022-03-25T08:23:28.182Z"
   },
   {
    "duration": 31,
    "start_time": "2022-03-25T08:23:28.207Z"
   },
   {
    "duration": 27,
    "start_time": "2022-03-25T08:23:28.239Z"
   },
   {
    "duration": 21,
    "start_time": "2022-03-25T08:23:28.268Z"
   },
   {
    "duration": 19,
    "start_time": "2022-03-25T08:23:28.290Z"
   },
   {
    "duration": 19,
    "start_time": "2022-03-25T08:23:28.311Z"
   },
   {
    "duration": 62,
    "start_time": "2022-03-25T08:23:28.332Z"
   },
   {
    "duration": 11,
    "start_time": "2022-03-25T08:23:28.397Z"
   },
   {
    "duration": 16,
    "start_time": "2022-03-25T08:23:28.410Z"
   },
   {
    "duration": 10,
    "start_time": "2022-03-25T08:23:28.428Z"
   },
   {
    "duration": 26,
    "start_time": "2022-03-25T08:23:28.439Z"
   },
   {
    "duration": 13,
    "start_time": "2022-03-25T08:23:28.467Z"
   },
   {
    "duration": 10,
    "start_time": "2022-03-25T08:23:28.482Z"
   },
   {
    "duration": 13,
    "start_time": "2022-03-25T08:23:28.495Z"
   },
   {
    "duration": 209,
    "start_time": "2022-03-25T08:23:28.510Z"
   },
   {
    "duration": 210,
    "start_time": "2022-03-25T08:23:28.721Z"
   },
   {
    "duration": 144,
    "start_time": "2022-03-25T08:23:28.933Z"
   },
   {
    "duration": 11,
    "start_time": "2022-03-25T08:23:29.079Z"
   },
   {
    "duration": 291,
    "start_time": "2022-03-25T08:23:29.091Z"
   },
   {
    "duration": 199,
    "start_time": "2022-03-25T08:23:29.384Z"
   },
   {
    "duration": 7,
    "start_time": "2022-03-25T08:23:29.585Z"
   },
   {
    "duration": 321,
    "start_time": "2022-03-25T08:23:29.594Z"
   },
   {
    "duration": 228,
    "start_time": "2022-03-25T08:23:29.918Z"
   },
   {
    "duration": 331,
    "start_time": "2022-03-25T08:23:30.148Z"
   },
   {
    "duration": 142,
    "start_time": "2022-03-25T08:23:30.481Z"
   },
   {
    "duration": 135,
    "start_time": "2022-03-25T08:23:30.625Z"
   },
   {
    "duration": 6,
    "start_time": "2022-03-25T08:23:30.762Z"
   },
   {
    "duration": 186,
    "start_time": "2022-03-25T08:23:30.770Z"
   },
   {
    "duration": 6,
    "start_time": "2022-03-25T08:23:30.958Z"
   },
   {
    "duration": 24,
    "start_time": "2022-03-25T08:23:30.965Z"
   },
   {
    "duration": 29,
    "start_time": "2022-03-25T08:23:30.991Z"
   },
   {
    "duration": 77,
    "start_time": "2022-03-25T08:23:31.022Z"
   },
   {
    "duration": 75,
    "start_time": "2022-03-25T08:23:31.100Z"
   },
   {
    "duration": 24,
    "start_time": "2022-03-25T08:23:31.176Z"
   },
   {
    "duration": 16,
    "start_time": "2022-03-25T08:23:31.205Z"
   },
   {
    "duration": 64,
    "start_time": "2022-03-25T08:23:31.223Z"
   },
   {
    "duration": 72,
    "start_time": "2022-03-25T08:23:31.289Z"
   },
   {
    "duration": 29,
    "start_time": "2022-03-25T08:23:31.363Z"
   },
   {
    "duration": 174,
    "start_time": "2022-03-25T08:23:31.395Z"
   },
   {
    "duration": 8,
    "start_time": "2022-03-25T08:23:31.571Z"
   },
   {
    "duration": 33,
    "start_time": "2022-03-25T08:23:31.581Z"
   },
   {
    "duration": 22,
    "start_time": "2022-03-25T08:23:31.616Z"
   },
   {
    "duration": 8,
    "start_time": "2022-03-25T08:23:31.640Z"
   },
   {
    "duration": 12,
    "start_time": "2022-03-25T09:25:00.341Z"
   },
   {
    "duration": 2521,
    "start_time": "2022-03-25T09:27:44.535Z"
   },
   {
    "duration": 9,
    "start_time": "2022-03-25T09:28:07.336Z"
   },
   {
    "duration": 23,
    "start_time": "2022-03-25T09:28:20.335Z"
   },
   {
    "duration": 2610,
    "start_time": "2022-03-25T09:41:55.164Z"
   },
   {
    "duration": 24,
    "start_time": "2022-03-25T09:42:17.852Z"
   },
   {
    "duration": 334,
    "start_time": "2022-03-25T09:48:46.590Z"
   },
   {
    "duration": 1166,
    "start_time": "2022-03-25T10:00:13.213Z"
   },
   {
    "duration": 25,
    "start_time": "2022-03-25T10:00:14.381Z"
   },
   {
    "duration": 11,
    "start_time": "2022-03-25T10:00:14.408Z"
   },
   {
    "duration": 14,
    "start_time": "2022-03-25T10:00:14.421Z"
   },
   {
    "duration": 16,
    "start_time": "2022-03-25T10:00:14.436Z"
   },
   {
    "duration": 4,
    "start_time": "2022-03-25T10:00:14.454Z"
   },
   {
    "duration": 8,
    "start_time": "2022-03-25T10:00:14.460Z"
   },
   {
    "duration": 17,
    "start_time": "2022-03-25T10:00:14.469Z"
   },
   {
    "duration": 8,
    "start_time": "2022-03-25T10:00:14.488Z"
   },
   {
    "duration": 32,
    "start_time": "2022-03-25T10:00:14.500Z"
   },
   {
    "duration": 8,
    "start_time": "2022-03-25T10:00:14.534Z"
   },
   {
    "duration": 13,
    "start_time": "2022-03-25T10:00:14.544Z"
   },
   {
    "duration": 80,
    "start_time": "2022-03-25T10:00:14.559Z"
   },
   {
    "duration": 10,
    "start_time": "2022-03-25T10:00:14.641Z"
   },
   {
    "duration": 16,
    "start_time": "2022-03-25T10:00:14.653Z"
   },
   {
    "duration": 9,
    "start_time": "2022-03-25T10:00:14.671Z"
   },
   {
    "duration": 25,
    "start_time": "2022-03-25T10:00:14.682Z"
   },
   {
    "duration": 10,
    "start_time": "2022-03-25T10:00:14.708Z"
   },
   {
    "duration": 12,
    "start_time": "2022-03-25T10:00:14.720Z"
   },
   {
    "duration": 8,
    "start_time": "2022-03-25T10:00:14.734Z"
   },
   {
    "duration": 210,
    "start_time": "2022-03-25T10:00:14.744Z"
   },
   {
    "duration": 202,
    "start_time": "2022-03-25T10:00:14.955Z"
   },
   {
    "duration": 135,
    "start_time": "2022-03-25T10:00:15.159Z"
   },
   {
    "duration": 10,
    "start_time": "2022-03-25T10:00:15.295Z"
   },
   {
    "duration": 281,
    "start_time": "2022-03-25T10:00:15.307Z"
   },
   {
    "duration": 189,
    "start_time": "2022-03-25T10:00:15.590Z"
   },
   {
    "duration": 7,
    "start_time": "2022-03-25T10:00:15.780Z"
   },
   {
    "duration": 272,
    "start_time": "2022-03-25T10:00:15.791Z"
   },
   {
    "duration": 220,
    "start_time": "2022-03-25T10:00:16.065Z"
   },
   {
    "duration": 340,
    "start_time": "2022-03-25T10:00:16.288Z"
   },
   {
    "duration": 151,
    "start_time": "2022-03-25T10:00:16.631Z"
   },
   {
    "duration": 157,
    "start_time": "2022-03-25T10:00:16.784Z"
   },
   {
    "duration": 7,
    "start_time": "2022-03-25T10:00:16.943Z"
   },
   {
    "duration": 171,
    "start_time": "2022-03-25T10:00:16.952Z"
   },
   {
    "duration": 10,
    "start_time": "2022-03-25T10:00:17.125Z"
   },
   {
    "duration": 12,
    "start_time": "2022-03-25T10:00:17.137Z"
   },
   {
    "duration": 22,
    "start_time": "2022-03-25T10:00:17.150Z"
   },
   {
    "duration": 60,
    "start_time": "2022-03-25T10:00:17.174Z"
   },
   {
    "duration": 52,
    "start_time": "2022-03-25T10:00:17.236Z"
   },
   {
    "duration": 23,
    "start_time": "2022-03-25T10:00:17.290Z"
   },
   {
    "duration": 16,
    "start_time": "2022-03-25T10:00:17.314Z"
   },
   {
    "duration": 55,
    "start_time": "2022-03-25T10:00:17.331Z"
   },
   {
    "duration": 68,
    "start_time": "2022-03-25T10:00:17.388Z"
   },
   {
    "duration": 27,
    "start_time": "2022-03-25T10:00:17.457Z"
   },
   {
    "duration": 185,
    "start_time": "2022-03-25T10:00:17.486Z"
   },
   {
    "duration": 6,
    "start_time": "2022-03-25T10:00:17.673Z"
   },
   {
    "duration": 25,
    "start_time": "2022-03-25T10:00:17.681Z"
   },
   {
    "duration": 29,
    "start_time": "2022-03-25T10:00:17.708Z"
   },
   {
    "duration": 11,
    "start_time": "2022-03-25T10:00:17.739Z"
   },
   {
    "duration": 9,
    "start_time": "2022-03-25T10:00:17.751Z"
   },
   {
    "duration": 28,
    "start_time": "2022-03-25T10:00:17.762Z"
   },
   {
    "duration": 43,
    "start_time": "2022-03-25T10:00:17.792Z"
   },
   {
    "duration": 1292,
    "start_time": "2022-03-26T04:55:28.777Z"
   },
   {
    "duration": 23,
    "start_time": "2022-03-26T04:55:30.071Z"
   },
   {
    "duration": 12,
    "start_time": "2022-03-26T04:55:30.096Z"
   },
   {
    "duration": 13,
    "start_time": "2022-03-26T04:55:30.110Z"
   },
   {
    "duration": 27,
    "start_time": "2022-03-26T04:55:30.124Z"
   },
   {
    "duration": 5,
    "start_time": "2022-03-26T04:55:30.152Z"
   },
   {
    "duration": 21,
    "start_time": "2022-03-26T04:55:30.159Z"
   },
   {
    "duration": 34,
    "start_time": "2022-03-26T04:55:30.181Z"
   },
   {
    "duration": 23,
    "start_time": "2022-03-26T04:55:30.217Z"
   },
   {
    "duration": 8,
    "start_time": "2022-03-26T04:55:30.243Z"
   },
   {
    "duration": 17,
    "start_time": "2022-03-26T04:55:30.253Z"
   },
   {
    "duration": 16,
    "start_time": "2022-03-26T04:55:30.272Z"
   },
   {
    "duration": 32,
    "start_time": "2022-03-26T04:55:30.289Z"
   },
   {
    "duration": 12,
    "start_time": "2022-03-26T04:55:30.322Z"
   },
   {
    "duration": 26,
    "start_time": "2022-03-26T04:55:30.336Z"
   },
   {
    "duration": 22,
    "start_time": "2022-03-26T04:55:30.363Z"
   },
   {
    "duration": 35,
    "start_time": "2022-03-26T04:55:30.387Z"
   },
   {
    "duration": 10,
    "start_time": "2022-03-26T04:55:30.423Z"
   },
   {
    "duration": 27,
    "start_time": "2022-03-26T04:55:30.434Z"
   },
   {
    "duration": 23,
    "start_time": "2022-03-26T04:55:30.462Z"
   },
   {
    "duration": 191,
    "start_time": "2022-03-26T04:55:30.487Z"
   },
   {
    "duration": 177,
    "start_time": "2022-03-26T04:55:30.679Z"
   },
   {
    "duration": 124,
    "start_time": "2022-03-26T04:55:30.857Z"
   },
   {
    "duration": 9,
    "start_time": "2022-03-26T04:55:30.982Z"
   },
   {
    "duration": 320,
    "start_time": "2022-03-26T04:55:31.008Z"
   },
   {
    "duration": 169,
    "start_time": "2022-03-26T04:55:31.330Z"
   },
   {
    "duration": 6,
    "start_time": "2022-03-26T04:55:31.508Z"
   },
   {
    "duration": 262,
    "start_time": "2022-03-26T04:55:31.519Z"
   },
   {
    "duration": 192,
    "start_time": "2022-03-26T04:55:31.783Z"
   },
   {
    "duration": 324,
    "start_time": "2022-03-26T04:55:31.976Z"
   },
   {
    "duration": 128,
    "start_time": "2022-03-26T04:55:32.308Z"
   },
   {
    "duration": 119,
    "start_time": "2022-03-26T04:55:32.437Z"
   },
   {
    "duration": 5,
    "start_time": "2022-03-26T04:55:32.557Z"
   },
   {
    "duration": 136,
    "start_time": "2022-03-26T04:55:32.563Z"
   },
   {
    "duration": 10,
    "start_time": "2022-03-26T04:55:32.701Z"
   },
   {
    "duration": 6,
    "start_time": "2022-03-26T04:55:32.713Z"
   },
   {
    "duration": 6,
    "start_time": "2022-03-26T04:55:32.721Z"
   },
   {
    "duration": 44,
    "start_time": "2022-03-26T04:55:32.729Z"
   },
   {
    "duration": 59,
    "start_time": "2022-03-26T04:55:32.775Z"
   },
   {
    "duration": 14,
    "start_time": "2022-03-26T04:55:32.836Z"
   },
   {
    "duration": 14,
    "start_time": "2022-03-26T04:55:32.852Z"
   },
   {
    "duration": 66,
    "start_time": "2022-03-26T04:55:32.868Z"
   },
   {
    "duration": 49,
    "start_time": "2022-03-26T04:55:32.936Z"
   },
   {
    "duration": 39,
    "start_time": "2022-03-26T04:55:32.986Z"
   },
   {
    "duration": 140,
    "start_time": "2022-03-26T04:55:33.027Z"
   },
   {
    "duration": 6,
    "start_time": "2022-03-26T04:55:33.169Z"
   },
   {
    "duration": 34,
    "start_time": "2022-03-26T04:55:33.177Z"
   },
   {
    "duration": 10,
    "start_time": "2022-03-26T04:55:33.212Z"
   },
   {
    "duration": 11,
    "start_time": "2022-03-26T04:55:33.223Z"
   },
   {
    "duration": 9,
    "start_time": "2022-03-26T04:55:33.235Z"
   },
   {
    "duration": 23,
    "start_time": "2022-03-26T04:55:33.246Z"
   },
   {
    "duration": 46,
    "start_time": "2022-03-26T04:55:33.271Z"
   },
   {
    "duration": 4,
    "start_time": "2022-03-26T05:10:34.813Z"
   },
   {
    "duration": 51,
    "start_time": "2022-03-27T10:16:32.939Z"
   },
   {
    "duration": 1234,
    "start_time": "2022-03-27T10:16:44.142Z"
   },
   {
    "duration": 19,
    "start_time": "2022-03-27T10:16:45.378Z"
   },
   {
    "duration": 12,
    "start_time": "2022-03-27T10:16:45.399Z"
   },
   {
    "duration": 6,
    "start_time": "2022-03-27T10:16:45.413Z"
   },
   {
    "duration": 11,
    "start_time": "2022-03-27T10:16:45.421Z"
   },
   {
    "duration": 4,
    "start_time": "2022-03-27T10:16:45.434Z"
   },
   {
    "duration": 8,
    "start_time": "2022-03-27T10:16:45.440Z"
   },
   {
    "duration": 13,
    "start_time": "2022-03-27T10:16:45.450Z"
   },
   {
    "duration": 8,
    "start_time": "2022-03-27T10:16:45.464Z"
   },
   {
    "duration": 36,
    "start_time": "2022-03-27T10:16:45.475Z"
   },
   {
    "duration": 7,
    "start_time": "2022-03-27T10:16:45.513Z"
   },
   {
    "duration": 8,
    "start_time": "2022-03-27T10:16:45.522Z"
   },
   {
    "duration": 30,
    "start_time": "2022-03-27T10:16:45.532Z"
   },
   {
    "duration": 9,
    "start_time": "2022-03-27T10:16:45.564Z"
   },
   {
    "duration": 15,
    "start_time": "2022-03-27T10:16:45.575Z"
   },
   {
    "duration": 18,
    "start_time": "2022-03-27T10:16:45.591Z"
   },
   {
    "duration": 26,
    "start_time": "2022-03-27T10:16:45.611Z"
   },
   {
    "duration": 10,
    "start_time": "2022-03-27T10:16:45.638Z"
   },
   {
    "duration": 6,
    "start_time": "2022-03-27T10:16:45.649Z"
   },
   {
    "duration": 12,
    "start_time": "2022-03-27T10:16:45.656Z"
   },
   {
    "duration": 185,
    "start_time": "2022-03-27T10:16:45.670Z"
   },
   {
    "duration": 172,
    "start_time": "2022-03-27T10:16:45.857Z"
   },
   {
    "duration": 120,
    "start_time": "2022-03-27T10:16:46.030Z"
   },
   {
    "duration": 10,
    "start_time": "2022-03-27T10:16:46.151Z"
   },
   {
    "duration": 265,
    "start_time": "2022-03-27T10:16:46.162Z"
   },
   {
    "duration": 72,
    "start_time": "2022-03-27T10:36:42.233Z"
   },
   {
    "duration": 1706,
    "start_time": "2022-03-27T10:36:51.122Z"
   },
   {
    "duration": 31,
    "start_time": "2022-03-27T10:36:52.831Z"
   },
   {
    "duration": 26,
    "start_time": "2022-03-27T10:36:52.865Z"
   },
   {
    "duration": 11,
    "start_time": "2022-03-27T10:36:52.895Z"
   },
   {
    "duration": 18,
    "start_time": "2022-03-27T10:36:52.908Z"
   },
   {
    "duration": 6,
    "start_time": "2022-03-27T10:36:52.929Z"
   },
   {
    "duration": 47,
    "start_time": "2022-03-27T10:36:52.938Z"
   },
   {
    "duration": 18,
    "start_time": "2022-03-27T10:36:52.988Z"
   },
   {
    "duration": 10,
    "start_time": "2022-03-27T10:36:53.009Z"
   },
   {
    "duration": 8,
    "start_time": "2022-03-27T10:36:53.024Z"
   },
   {
    "duration": 10,
    "start_time": "2022-03-27T10:36:53.034Z"
   },
   {
    "duration": 8,
    "start_time": "2022-03-27T10:36:53.085Z"
   },
   {
    "duration": 39,
    "start_time": "2022-03-27T10:36:53.097Z"
   },
   {
    "duration": 15,
    "start_time": "2022-03-27T10:36:53.138Z"
   },
   {
    "duration": 42,
    "start_time": "2022-03-27T10:36:53.156Z"
   },
   {
    "duration": 13,
    "start_time": "2022-03-27T10:36:53.201Z"
   },
   {
    "duration": 25,
    "start_time": "2022-03-27T10:36:53.217Z"
   },
   {
    "duration": 15,
    "start_time": "2022-03-27T10:36:53.244Z"
   },
   {
    "duration": 6,
    "start_time": "2022-03-27T10:36:53.284Z"
   },
   {
    "duration": 11,
    "start_time": "2022-03-27T10:36:53.292Z"
   },
   {
    "duration": 333,
    "start_time": "2022-03-27T10:36:53.306Z"
   },
   {
    "duration": 322,
    "start_time": "2022-03-27T10:36:53.642Z"
   },
   {
    "duration": 234,
    "start_time": "2022-03-27T10:36:53.966Z"
   },
   {
    "duration": 15,
    "start_time": "2022-03-27T10:36:54.202Z"
   },
   {
    "duration": 433,
    "start_time": "2022-03-27T10:36:54.219Z"
   },
   {
    "duration": 289,
    "start_time": "2022-03-27T10:36:54.654Z"
   },
   {
    "duration": 154,
    "start_time": "2022-03-27T10:37:03.238Z"
   },
   {
    "duration": 9,
    "start_time": "2022-03-27T10:37:09.081Z"
   },
   {
    "duration": 462,
    "start_time": "2022-03-27T10:37:10.930Z"
   },
   {
    "duration": 310,
    "start_time": "2022-03-27T10:37:18.990Z"
   },
   {
    "duration": 404,
    "start_time": "2022-03-27T10:37:28.912Z"
   },
   {
    "duration": 1492,
    "start_time": "2022-03-27T10:38:33.354Z"
   },
   {
    "duration": 25,
    "start_time": "2022-03-27T10:38:34.849Z"
   },
   {
    "duration": 20,
    "start_time": "2022-03-27T10:38:34.876Z"
   },
   {
    "duration": 20,
    "start_time": "2022-03-27T10:38:34.899Z"
   },
   {
    "duration": 20,
    "start_time": "2022-03-27T10:38:34.921Z"
   },
   {
    "duration": 6,
    "start_time": "2022-03-27T10:38:34.943Z"
   },
   {
    "duration": 34,
    "start_time": "2022-03-27T10:38:34.952Z"
   },
   {
    "duration": 19,
    "start_time": "2022-03-27T10:38:34.989Z"
   },
   {
    "duration": 12,
    "start_time": "2022-03-27T10:38:35.010Z"
   },
   {
    "duration": 10,
    "start_time": "2022-03-27T10:38:35.025Z"
   },
   {
    "duration": 7,
    "start_time": "2022-03-27T10:38:35.037Z"
   },
   {
    "duration": 39,
    "start_time": "2022-03-27T10:38:35.046Z"
   },
   {
    "duration": 43,
    "start_time": "2022-03-27T10:38:35.087Z"
   },
   {
    "duration": 17,
    "start_time": "2022-03-27T10:38:35.132Z"
   },
   {
    "duration": 32,
    "start_time": "2022-03-27T10:38:35.152Z"
   },
   {
    "duration": 13,
    "start_time": "2022-03-27T10:38:35.186Z"
   },
   {
    "duration": 26,
    "start_time": "2022-03-27T10:38:35.201Z"
   },
   {
    "duration": 14,
    "start_time": "2022-03-27T10:38:35.229Z"
   },
   {
    "duration": 10,
    "start_time": "2022-03-27T10:38:35.246Z"
   },
   {
    "duration": 27,
    "start_time": "2022-03-27T10:38:35.258Z"
   },
   {
    "duration": 323,
    "start_time": "2022-03-27T10:38:35.288Z"
   },
   {
    "duration": 328,
    "start_time": "2022-03-27T10:38:35.614Z"
   },
   {
    "duration": 210,
    "start_time": "2022-03-27T10:38:35.945Z"
   },
   {
    "duration": 27,
    "start_time": "2022-03-27T10:38:36.158Z"
   },
   {
    "duration": 512,
    "start_time": "2022-03-27T10:38:36.187Z"
   },
   {
    "duration": 274,
    "start_time": "2022-03-27T10:38:36.701Z"
   },
   {
    "duration": 11,
    "start_time": "2022-03-27T10:38:36.977Z"
   },
   {
    "duration": 379,
    "start_time": "2022-03-27T10:38:36.993Z"
   },
   {
    "duration": 304,
    "start_time": "2022-03-27T10:38:37.374Z"
   },
   {
    "duration": 418,
    "start_time": "2022-03-27T10:38:37.684Z"
   },
   {
    "duration": 262,
    "start_time": "2022-03-27T10:38:38.104Z"
   },
   {
    "duration": 181,
    "start_time": "2022-03-27T10:38:38.368Z"
   },
   {
    "duration": 6,
    "start_time": "2022-03-27T10:38:38.552Z"
   },
   {
    "duration": 232,
    "start_time": "2022-03-27T10:38:38.560Z"
   },
   {
    "duration": 6,
    "start_time": "2022-03-27T10:38:38.794Z"
   },
   {
    "duration": 13,
    "start_time": "2022-03-27T10:38:38.802Z"
   },
   {
    "duration": 15,
    "start_time": "2022-03-27T10:38:38.817Z"
   },
   {
    "duration": 88,
    "start_time": "2022-03-27T10:38:38.834Z"
   },
   {
    "duration": 82,
    "start_time": "2022-03-27T10:38:38.924Z"
   },
   {
    "duration": 30,
    "start_time": "2022-03-27T10:38:39.008Z"
   },
   {
    "duration": 22,
    "start_time": "2022-03-27T10:38:39.041Z"
   },
   {
    "duration": 91,
    "start_time": "2022-03-27T10:38:39.066Z"
   },
   {
    "duration": 96,
    "start_time": "2022-03-27T10:38:39.160Z"
   },
   {
    "duration": 54,
    "start_time": "2022-03-27T10:38:39.259Z"
   },
   {
    "duration": 302,
    "start_time": "2022-03-27T10:38:39.316Z"
   },
   {
    "duration": 11,
    "start_time": "2022-03-27T10:38:39.620Z"
   },
   {
    "duration": 58,
    "start_time": "2022-03-27T10:38:39.633Z"
   },
   {
    "duration": 6,
    "start_time": "2022-03-27T10:38:39.694Z"
   },
   {
    "duration": 32,
    "start_time": "2022-03-27T10:38:39.703Z"
   },
   {
    "duration": 21,
    "start_time": "2022-03-27T10:38:39.738Z"
   },
   {
    "duration": 34,
    "start_time": "2022-03-27T10:38:39.761Z"
   },
   {
    "duration": 55,
    "start_time": "2022-03-27T10:38:39.798Z"
   },
   {
    "duration": 19,
    "start_time": "2022-03-27T10:38:39.855Z"
   },
   {
    "duration": 417,
    "start_time": "2022-03-27T10:40:07.270Z"
   },
   {
    "duration": 360,
    "start_time": "2022-03-27T10:41:11.309Z"
   },
   {
    "duration": 305,
    "start_time": "2022-03-27T10:42:20.391Z"
   },
   {
    "duration": 382,
    "start_time": "2022-03-27T10:43:32.421Z"
   },
   {
    "duration": 367,
    "start_time": "2022-03-27T10:43:38.131Z"
   },
   {
    "duration": 311,
    "start_time": "2022-03-27T10:44:25.018Z"
   },
   {
    "duration": 706,
    "start_time": "2022-03-27T10:45:29.535Z"
   },
   {
    "duration": 193,
    "start_time": "2022-03-27T10:47:23.057Z"
   },
   {
    "duration": 215,
    "start_time": "2022-03-27T10:49:07.742Z"
   },
   {
    "duration": 223,
    "start_time": "2022-03-27T10:49:17.739Z"
   },
   {
    "duration": 197,
    "start_time": "2022-03-27T10:49:27.408Z"
   },
   {
    "duration": 2069,
    "start_time": "2022-03-27T10:51:45.295Z"
   },
   {
    "duration": 40,
    "start_time": "2022-03-27T10:51:47.368Z"
   },
   {
    "duration": 23,
    "start_time": "2022-03-27T10:51:47.412Z"
   },
   {
    "duration": 12,
    "start_time": "2022-03-27T10:51:47.437Z"
   },
   {
    "duration": 44,
    "start_time": "2022-03-27T10:51:47.453Z"
   },
   {
    "duration": 13,
    "start_time": "2022-03-27T10:51:47.499Z"
   },
   {
    "duration": 10,
    "start_time": "2022-03-27T10:51:47.514Z"
   },
   {
    "duration": 38,
    "start_time": "2022-03-27T10:51:47.527Z"
   },
   {
    "duration": 21,
    "start_time": "2022-03-27T10:51:47.567Z"
   },
   {
    "duration": 11,
    "start_time": "2022-03-27T10:51:47.590Z"
   },
   {
    "duration": 28,
    "start_time": "2022-03-27T10:51:47.603Z"
   },
   {
    "duration": 21,
    "start_time": "2022-03-27T10:51:47.633Z"
   },
   {
    "duration": 38,
    "start_time": "2022-03-27T10:51:47.657Z"
   },
   {
    "duration": 24,
    "start_time": "2022-03-27T10:51:47.703Z"
   },
   {
    "duration": 54,
    "start_time": "2022-03-27T10:51:47.730Z"
   },
   {
    "duration": 13,
    "start_time": "2022-03-27T10:51:47.787Z"
   },
   {
    "duration": 32,
    "start_time": "2022-03-27T10:51:47.803Z"
   },
   {
    "duration": 16,
    "start_time": "2022-03-27T10:51:47.838Z"
   },
   {
    "duration": 33,
    "start_time": "2022-03-27T10:51:47.856Z"
   },
   {
    "duration": 15,
    "start_time": "2022-03-27T10:51:47.892Z"
   },
   {
    "duration": 395,
    "start_time": "2022-03-27T10:51:47.910Z"
   },
   {
    "duration": 368,
    "start_time": "2022-03-27T10:51:48.308Z"
   },
   {
    "duration": 230,
    "start_time": "2022-03-27T10:51:48.678Z"
   },
   {
    "duration": 14,
    "start_time": "2022-03-27T10:51:48.910Z"
   },
   {
    "duration": 435,
    "start_time": "2022-03-27T10:51:48.927Z"
   },
   {
    "duration": 315,
    "start_time": "2022-03-27T10:51:49.364Z"
   },
   {
    "duration": 10,
    "start_time": "2022-03-27T10:51:49.684Z"
   },
   {
    "duration": 376,
    "start_time": "2022-03-27T10:51:49.697Z"
   },
   {
    "duration": 326,
    "start_time": "2022-03-27T10:51:50.076Z"
   },
   {
    "duration": 419,
    "start_time": "2022-03-27T10:51:50.405Z"
   },
   {
    "duration": 283,
    "start_time": "2022-03-27T10:51:50.827Z"
   },
   {
    "duration": 205,
    "start_time": "2022-03-27T10:51:51.112Z"
   },
   {
    "duration": 9,
    "start_time": "2022-03-27T10:51:51.320Z"
   },
   {
    "duration": 374,
    "start_time": "2022-03-27T10:51:51.332Z"
   },
   {
    "duration": 9,
    "start_time": "2022-03-27T10:51:51.709Z"
   },
   {
    "duration": 12,
    "start_time": "2022-03-27T10:51:51.720Z"
   },
   {
    "duration": 12,
    "start_time": "2022-03-27T10:51:51.735Z"
   },
   {
    "duration": 147,
    "start_time": "2022-03-27T10:51:51.750Z"
   },
   {
    "duration": 128,
    "start_time": "2022-03-27T10:51:51.900Z"
   },
   {
    "duration": 52,
    "start_time": "2022-03-27T10:51:52.031Z"
   },
   {
    "duration": 36,
    "start_time": "2022-03-27T10:51:52.093Z"
   },
   {
    "duration": 151,
    "start_time": "2022-03-27T10:51:52.133Z"
   },
   {
    "duration": 142,
    "start_time": "2022-03-27T10:51:52.287Z"
   },
   {
    "duration": 81,
    "start_time": "2022-03-27T10:51:52.432Z"
   },
   {
    "duration": 303,
    "start_time": "2022-03-27T10:51:52.516Z"
   },
   {
    "duration": 8,
    "start_time": "2022-03-27T10:51:52.822Z"
   },
   {
    "duration": 34,
    "start_time": "2022-03-27T10:51:52.832Z"
   },
   {
    "duration": 6,
    "start_time": "2022-03-27T10:51:52.885Z"
   },
   {
    "duration": 15,
    "start_time": "2022-03-27T10:51:52.893Z"
   },
   {
    "duration": 14,
    "start_time": "2022-03-27T10:51:52.911Z"
   },
   {
    "duration": 18,
    "start_time": "2022-03-27T10:51:52.928Z"
   },
   {
    "duration": 29,
    "start_time": "2022-03-27T10:51:52.984Z"
   },
   {
    "duration": 21,
    "start_time": "2022-03-27T10:51:53.015Z"
   },
   {
    "duration": 46,
    "start_time": "2022-03-27T11:12:53.589Z"
   },
   {
    "duration": 29,
    "start_time": "2022-03-27T11:17:20.895Z"
   },
   {
    "duration": 28,
    "start_time": "2022-03-27T11:17:46.695Z"
   },
   {
    "duration": 30,
    "start_time": "2022-03-27T11:17:59.199Z"
   },
   {
    "duration": 27,
    "start_time": "2022-03-27T11:18:04.922Z"
   },
   {
    "duration": 27,
    "start_time": "2022-03-27T11:18:10.805Z"
   },
   {
    "duration": 28,
    "start_time": "2022-03-27T11:18:18.919Z"
   },
   {
    "duration": 5,
    "start_time": "2022-03-27T11:19:38.181Z"
   },
   {
    "duration": 1440,
    "start_time": "2022-03-27T11:24:53.811Z"
   },
   {
    "duration": 29,
    "start_time": "2022-03-27T11:24:55.254Z"
   },
   {
    "duration": 20,
    "start_time": "2022-03-27T11:24:55.286Z"
   },
   {
    "duration": 32,
    "start_time": "2022-03-27T11:24:55.310Z"
   },
   {
    "duration": 20,
    "start_time": "2022-03-27T11:24:55.345Z"
   },
   {
    "duration": 7,
    "start_time": "2022-03-27T11:24:55.367Z"
   },
   {
    "duration": 22,
    "start_time": "2022-03-27T11:24:55.376Z"
   },
   {
    "duration": 27,
    "start_time": "2022-03-27T11:24:55.401Z"
   },
   {
    "duration": 31,
    "start_time": "2022-03-27T11:24:55.430Z"
   },
   {
    "duration": 19,
    "start_time": "2022-03-27T11:24:55.464Z"
   },
   {
    "duration": 22,
    "start_time": "2022-03-27T11:24:55.485Z"
   },
   {
    "duration": 23,
    "start_time": "2022-03-27T11:24:55.510Z"
   },
   {
    "duration": 43,
    "start_time": "2022-03-27T11:24:55.535Z"
   },
   {
    "duration": 17,
    "start_time": "2022-03-27T11:24:55.581Z"
   },
   {
    "duration": 23,
    "start_time": "2022-03-27T11:24:55.600Z"
   },
   {
    "duration": 22,
    "start_time": "2022-03-27T11:24:55.625Z"
   },
   {
    "duration": 36,
    "start_time": "2022-03-27T11:24:55.650Z"
   },
   {
    "duration": 16,
    "start_time": "2022-03-27T11:24:55.688Z"
   },
   {
    "duration": 11,
    "start_time": "2022-03-27T11:24:55.707Z"
   },
   {
    "duration": 13,
    "start_time": "2022-03-27T11:24:55.720Z"
   },
   {
    "duration": 347,
    "start_time": "2022-03-27T11:24:55.736Z"
   },
   {
    "duration": 319,
    "start_time": "2022-03-27T11:24:56.086Z"
   },
   {
    "duration": 222,
    "start_time": "2022-03-27T11:24:56.408Z"
   },
   {
    "duration": 29,
    "start_time": "2022-03-27T11:24:56.632Z"
   },
   {
    "duration": 422,
    "start_time": "2022-03-27T11:24:56.663Z"
   },
   {
    "duration": 305,
    "start_time": "2022-03-27T11:24:57.087Z"
   },
   {
    "duration": 9,
    "start_time": "2022-03-27T11:24:57.394Z"
   },
   {
    "duration": 378,
    "start_time": "2022-03-27T11:24:57.408Z"
   },
   {
    "duration": 324,
    "start_time": "2022-03-27T11:24:57.788Z"
   },
   {
    "duration": 426,
    "start_time": "2022-03-27T11:24:58.114Z"
   },
   {
    "duration": 267,
    "start_time": "2022-03-27T11:24:58.542Z"
   },
   {
    "duration": 279,
    "start_time": "2022-03-27T11:24:58.812Z"
   },
   {
    "duration": 7,
    "start_time": "2022-03-27T11:24:59.093Z"
   },
   {
    "duration": 236,
    "start_time": "2022-03-27T11:24:59.102Z"
   },
   {
    "duration": 8,
    "start_time": "2022-03-27T11:24:59.341Z"
   },
   {
    "duration": 12,
    "start_time": "2022-03-27T11:24:59.351Z"
   },
   {
    "duration": 27,
    "start_time": "2022-03-27T11:24:59.365Z"
   },
   {
    "duration": 71,
    "start_time": "2022-03-27T11:24:59.394Z"
   },
   {
    "duration": 81,
    "start_time": "2022-03-27T11:24:59.467Z"
   },
   {
    "duration": 41,
    "start_time": "2022-03-27T11:24:59.550Z"
   },
   {
    "duration": 22,
    "start_time": "2022-03-27T11:24:59.594Z"
   },
   {
    "duration": 103,
    "start_time": "2022-03-27T11:24:59.618Z"
   },
   {
    "duration": 104,
    "start_time": "2022-03-27T11:24:59.724Z"
   },
   {
    "duration": 65,
    "start_time": "2022-03-27T11:24:59.830Z"
   },
   {
    "duration": 298,
    "start_time": "2022-03-27T11:24:59.898Z"
   },
   {
    "duration": 9,
    "start_time": "2022-03-27T11:25:00.198Z"
   },
   {
    "duration": 50,
    "start_time": "2022-03-27T11:25:00.209Z"
   },
   {
    "duration": 36,
    "start_time": "2022-03-27T11:25:00.261Z"
   },
   {
    "duration": 5,
    "start_time": "2022-03-27T11:25:00.300Z"
   },
   {
    "duration": 27,
    "start_time": "2022-03-27T11:25:00.307Z"
   },
   {
    "duration": 30,
    "start_time": "2022-03-27T11:25:00.336Z"
   },
   {
    "duration": 23,
    "start_time": "2022-03-27T11:25:00.368Z"
   },
   {
    "duration": 56,
    "start_time": "2022-03-27T11:25:00.394Z"
   },
   {
    "duration": 23,
    "start_time": "2022-03-27T11:25:00.453Z"
   },
   {
    "duration": 118,
    "start_time": "2022-03-27T11:26:47.188Z"
   },
   {
    "duration": 16,
    "start_time": "2022-03-27T11:26:53.812Z"
   },
   {
    "duration": 129,
    "start_time": "2022-03-27T11:27:35.261Z"
   },
   {
    "duration": 31,
    "start_time": "2022-03-27T11:28:21.477Z"
   },
   {
    "duration": 246,
    "start_time": "2022-03-27T11:30:22.371Z"
   },
   {
    "duration": 133,
    "start_time": "2022-03-27T11:31:12.542Z"
   },
   {
    "duration": 128,
    "start_time": "2022-03-27T11:31:18.125Z"
   },
   {
    "duration": 24,
    "start_time": "2022-03-27T11:31:50.988Z"
   },
   {
    "duration": 20,
    "start_time": "2022-03-27T11:33:17.309Z"
   },
   {
    "duration": 16,
    "start_time": "2022-03-27T11:34:12.261Z"
   },
   {
    "duration": 1496,
    "start_time": "2022-03-27T11:34:22.045Z"
   },
   {
    "duration": 32,
    "start_time": "2022-03-27T11:34:23.544Z"
   },
   {
    "duration": 18,
    "start_time": "2022-03-27T11:34:23.578Z"
   },
   {
    "duration": 22,
    "start_time": "2022-03-27T11:34:23.598Z"
   },
   {
    "duration": 46,
    "start_time": "2022-03-27T11:34:23.623Z"
   },
   {
    "duration": 28,
    "start_time": "2022-03-27T11:34:23.672Z"
   },
   {
    "duration": 26,
    "start_time": "2022-03-27T11:34:23.702Z"
   },
   {
    "duration": 40,
    "start_time": "2022-03-27T11:34:23.730Z"
   },
   {
    "duration": 19,
    "start_time": "2022-03-27T11:34:23.773Z"
   },
   {
    "duration": 10,
    "start_time": "2022-03-27T11:34:23.794Z"
   },
   {
    "duration": 11,
    "start_time": "2022-03-27T11:34:23.806Z"
   },
   {
    "duration": 17,
    "start_time": "2022-03-27T11:34:23.819Z"
   },
   {
    "duration": 41,
    "start_time": "2022-03-27T11:34:23.838Z"
   },
   {
    "duration": 17,
    "start_time": "2022-03-27T11:34:23.884Z"
   },
   {
    "duration": 24,
    "start_time": "2022-03-27T11:34:23.903Z"
   },
   {
    "duration": 15,
    "start_time": "2022-03-27T11:34:23.930Z"
   },
   {
    "duration": 49,
    "start_time": "2022-03-27T11:34:23.947Z"
   },
   {
    "duration": 18,
    "start_time": "2022-03-27T11:34:23.999Z"
   },
   {
    "duration": 13,
    "start_time": "2022-03-27T11:34:24.020Z"
   },
   {
    "duration": 17,
    "start_time": "2022-03-27T11:34:24.036Z"
   },
   {
    "duration": 429,
    "start_time": "2022-03-27T11:34:24.055Z"
   },
   {
    "duration": 426,
    "start_time": "2022-03-27T11:34:24.486Z"
   },
   {
    "duration": 217,
    "start_time": "2022-03-27T11:34:24.915Z"
   },
   {
    "duration": 14,
    "start_time": "2022-03-27T11:34:25.135Z"
   },
   {
    "duration": 460,
    "start_time": "2022-03-27T11:34:25.151Z"
   },
   {
    "duration": 364,
    "start_time": "2022-03-27T11:34:25.613Z"
   },
   {
    "duration": 8,
    "start_time": "2022-03-27T11:34:25.984Z"
   },
   {
    "duration": 501,
    "start_time": "2022-03-27T11:34:25.995Z"
   },
   {
    "duration": 321,
    "start_time": "2022-03-27T11:34:26.499Z"
   },
   {
    "duration": 500,
    "start_time": "2022-03-27T11:34:26.823Z"
   },
   {
    "duration": 298,
    "start_time": "2022-03-27T11:34:27.325Z"
   },
   {
    "duration": 209,
    "start_time": "2022-03-27T11:34:27.625Z"
   },
   {
    "duration": 7,
    "start_time": "2022-03-27T11:34:27.837Z"
   },
   {
    "duration": 239,
    "start_time": "2022-03-27T11:34:27.847Z"
   },
   {
    "duration": 7,
    "start_time": "2022-03-27T11:34:28.088Z"
   },
   {
    "duration": 15,
    "start_time": "2022-03-27T11:34:28.098Z"
   },
   {
    "duration": 15,
    "start_time": "2022-03-27T11:34:28.115Z"
   },
   {
    "duration": 115,
    "start_time": "2022-03-27T11:34:28.133Z"
   },
   {
    "duration": 104,
    "start_time": "2022-03-27T11:34:28.251Z"
   },
   {
    "duration": 39,
    "start_time": "2022-03-27T11:34:28.358Z"
   },
   {
    "duration": 30,
    "start_time": "2022-03-27T11:34:28.405Z"
   },
   {
    "duration": 118,
    "start_time": "2022-03-27T11:34:28.438Z"
   },
   {
    "duration": 96,
    "start_time": "2022-03-27T11:34:28.559Z"
   },
   {
    "duration": 59,
    "start_time": "2022-03-27T11:34:28.657Z"
   },
   {
    "duration": 325,
    "start_time": "2022-03-27T11:34:28.718Z"
   },
   {
    "duration": 10,
    "start_time": "2022-03-27T11:34:29.045Z"
   },
   {
    "duration": 50,
    "start_time": "2022-03-27T11:34:29.057Z"
   },
   {
    "duration": 31,
    "start_time": "2022-03-27T11:34:29.109Z"
   },
   {
    "duration": 5,
    "start_time": "2022-03-27T11:34:29.143Z"
   },
   {
    "duration": 41,
    "start_time": "2022-03-27T11:34:29.150Z"
   },
   {
    "duration": 21,
    "start_time": "2022-03-27T11:34:29.194Z"
   },
   {
    "duration": 23,
    "start_time": "2022-03-27T11:34:29.217Z"
   },
   {
    "duration": 50,
    "start_time": "2022-03-27T11:34:29.242Z"
   },
   {
    "duration": 20,
    "start_time": "2022-03-27T11:34:29.294Z"
   },
   {
    "duration": 1105,
    "start_time": "2022-03-28T03:39:20.496Z"
   },
   {
    "duration": 24,
    "start_time": "2022-03-28T03:39:21.603Z"
   },
   {
    "duration": 12,
    "start_time": "2022-03-28T03:39:21.629Z"
   },
   {
    "duration": 9,
    "start_time": "2022-03-28T03:39:21.643Z"
   },
   {
    "duration": 19,
    "start_time": "2022-03-28T03:39:21.653Z"
   },
   {
    "duration": 8,
    "start_time": "2022-03-28T03:39:21.674Z"
   },
   {
    "duration": 15,
    "start_time": "2022-03-28T03:39:21.684Z"
   },
   {
    "duration": 13,
    "start_time": "2022-03-28T03:39:21.701Z"
   },
   {
    "duration": 9,
    "start_time": "2022-03-28T03:39:21.715Z"
   },
   {
    "duration": 5,
    "start_time": "2022-03-28T03:39:21.736Z"
   },
   {
    "duration": 5,
    "start_time": "2022-03-28T03:39:21.743Z"
   },
   {
    "duration": 9,
    "start_time": "2022-03-28T03:39:21.750Z"
   },
   {
    "duration": 42,
    "start_time": "2022-03-28T03:39:21.761Z"
   },
   {
    "duration": 12,
    "start_time": "2022-03-28T03:39:21.804Z"
   },
   {
    "duration": 15,
    "start_time": "2022-03-28T03:39:21.818Z"
   },
   {
    "duration": 8,
    "start_time": "2022-03-28T03:39:21.835Z"
   },
   {
    "duration": 15,
    "start_time": "2022-03-28T03:39:21.845Z"
   },
   {
    "duration": 10,
    "start_time": "2022-03-28T03:39:21.861Z"
   },
   {
    "duration": 8,
    "start_time": "2022-03-28T03:39:21.873Z"
   },
   {
    "duration": 7,
    "start_time": "2022-03-28T03:39:21.882Z"
   },
   {
    "duration": 183,
    "start_time": "2022-03-28T03:39:21.891Z"
   },
   {
    "duration": 171,
    "start_time": "2022-03-28T03:39:22.076Z"
   },
   {
    "duration": 121,
    "start_time": "2022-03-28T03:39:22.249Z"
   },
   {
    "duration": 11,
    "start_time": "2022-03-28T03:39:22.372Z"
   },
   {
    "duration": 263,
    "start_time": "2022-03-28T03:39:22.384Z"
   },
   {
    "duration": 184,
    "start_time": "2022-03-28T03:39:22.650Z"
   },
   {
    "duration": 6,
    "start_time": "2022-03-28T03:39:22.837Z"
   },
   {
    "duration": 284,
    "start_time": "2022-03-28T03:39:22.846Z"
   },
   {
    "duration": 192,
    "start_time": "2022-03-28T03:39:23.132Z"
   },
   {
    "duration": 320,
    "start_time": "2022-03-28T03:39:23.326Z"
   },
   {
    "duration": 127,
    "start_time": "2022-03-28T03:39:23.647Z"
   },
   {
    "duration": 123,
    "start_time": "2022-03-28T03:39:23.776Z"
   },
   {
    "duration": 5,
    "start_time": "2022-03-28T03:39:23.901Z"
   },
   {
    "duration": 138,
    "start_time": "2022-03-28T03:39:23.907Z"
   },
   {
    "duration": 4,
    "start_time": "2022-03-28T03:39:24.047Z"
   },
   {
    "duration": 7,
    "start_time": "2022-03-28T03:39:24.053Z"
   },
   {
    "duration": 5,
    "start_time": "2022-03-28T03:39:24.062Z"
   },
   {
    "duration": 43,
    "start_time": "2022-03-28T03:39:24.069Z"
   },
   {
    "duration": 62,
    "start_time": "2022-03-28T03:39:24.114Z"
   },
   {
    "duration": 14,
    "start_time": "2022-03-28T03:39:24.178Z"
   },
   {
    "duration": 12,
    "start_time": "2022-03-28T03:39:24.194Z"
   },
   {
    "duration": 59,
    "start_time": "2022-03-28T03:39:24.208Z"
   },
   {
    "duration": 44,
    "start_time": "2022-03-28T03:39:24.268Z"
   },
   {
    "duration": 42,
    "start_time": "2022-03-28T03:39:24.314Z"
   },
   {
    "duration": 132,
    "start_time": "2022-03-28T03:39:24.358Z"
   },
   {
    "duration": 6,
    "start_time": "2022-03-28T03:39:24.492Z"
   },
   {
    "duration": 30,
    "start_time": "2022-03-28T03:39:24.499Z"
   },
   {
    "duration": 21,
    "start_time": "2022-03-28T03:39:24.537Z"
   },
   {
    "duration": 3,
    "start_time": "2022-03-28T03:39:24.560Z"
   },
   {
    "duration": 21,
    "start_time": "2022-03-28T03:39:24.565Z"
   },
   {
    "duration": 9,
    "start_time": "2022-03-28T03:39:24.588Z"
   },
   {
    "duration": 10,
    "start_time": "2022-03-28T03:39:24.599Z"
   },
   {
    "duration": 47,
    "start_time": "2022-03-28T03:39:24.610Z"
   },
   {
    "duration": 14,
    "start_time": "2022-03-28T03:39:24.658Z"
   }
  ],
  "kernelspec": {
   "display_name": "Python 3 (ipykernel)",
   "language": "python",
   "name": "python3"
  },
  "language_info": {
   "codemirror_mode": {
    "name": "ipython",
    "version": 3
   },
   "file_extension": ".py",
   "mimetype": "text/x-python",
   "name": "python",
   "nbconvert_exporter": "python",
   "pygments_lexer": "ipython3",
   "version": "3.9.5"
  },
  "toc": {
   "base_numbering": 1,
   "nav_menu": {},
   "number_sections": true,
   "sideBar": true,
   "skip_h1_title": true,
   "title_cell": "Table of Contents",
   "title_sidebar": "Contents",
   "toc_cell": false,
   "toc_position": {},
   "toc_section_display": true,
   "toc_window_display": true
  }
 },
 "nbformat": 4,
 "nbformat_minor": 2
}
