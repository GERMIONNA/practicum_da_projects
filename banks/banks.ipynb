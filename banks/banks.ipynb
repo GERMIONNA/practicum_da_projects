{
 "cells": [
  {
   "cell_type": "markdown",
   "metadata": {},
   "source": [
    "# Исследование надёжности заёмщиков\n",
    "\n",
    "Заказчик — кредитный отдел банка. Нужно разобраться, влияет ли семейное положение и количество детей клиента на факт погашения кредита в срок. Входные данные от банка — статистика о платёжеспособности клиентов.\n",
    "\n",
    "Результаты исследования будут учтены при построении модели **кредитного скоринга** — специальной системы, которая оценивает способность потенциального заёмщика вернуть кредит банку."
   ]
  },
  {
   "cell_type": "markdown",
   "metadata": {},
   "source": [
    "## Шаг 1. Откройте файл с данными и изучите общую информацию"
   ]
  },
  {
   "cell_type": "code",
   "execution_count": 1,
   "metadata": {},
   "outputs": [
    {
     "name": "stdout",
     "output_type": "stream",
     "text": [
      "<class 'pandas.core.frame.DataFrame'>\n",
      "RangeIndex: 21525 entries, 0 to 21524\n",
      "Data columns (total 12 columns):\n",
      "children            21525 non-null int64\n",
      "days_employed       19351 non-null float64\n",
      "dob_years           21525 non-null int64\n",
      "education           21525 non-null object\n",
      "education_id        21525 non-null int64\n",
      "family_status       21525 non-null object\n",
      "family_status_id    21525 non-null int64\n",
      "gender              21525 non-null object\n",
      "income_type         21525 non-null object\n",
      "debt                21525 non-null int64\n",
      "total_income        19351 non-null float64\n",
      "purpose             21525 non-null object\n",
      "dtypes: float64(2), int64(5), object(5)\n",
      "memory usage: 2.0+ MB\n"
     ]
    },
    {
     "data": {
      "text/html": [
       "<div>\n",
       "<style scoped>\n",
       "    .dataframe tbody tr th:only-of-type {\n",
       "        vertical-align: middle;\n",
       "    }\n",
       "\n",
       "    .dataframe tbody tr th {\n",
       "        vertical-align: top;\n",
       "    }\n",
       "\n",
       "    .dataframe thead th {\n",
       "        text-align: right;\n",
       "    }\n",
       "</style>\n",
       "<table border=\"1\" class=\"dataframe\">\n",
       "  <thead>\n",
       "    <tr style=\"text-align: right;\">\n",
       "      <th></th>\n",
       "      <th>children</th>\n",
       "      <th>days_employed</th>\n",
       "      <th>dob_years</th>\n",
       "      <th>education</th>\n",
       "      <th>education_id</th>\n",
       "      <th>family_status</th>\n",
       "      <th>family_status_id</th>\n",
       "      <th>gender</th>\n",
       "      <th>income_type</th>\n",
       "      <th>debt</th>\n",
       "      <th>total_income</th>\n",
       "      <th>purpose</th>\n",
       "    </tr>\n",
       "  </thead>\n",
       "  <tbody>\n",
       "    <tr>\n",
       "      <td>0</td>\n",
       "      <td>1</td>\n",
       "      <td>-8437.673028</td>\n",
       "      <td>42</td>\n",
       "      <td>высшее</td>\n",
       "      <td>0</td>\n",
       "      <td>женат / замужем</td>\n",
       "      <td>0</td>\n",
       "      <td>F</td>\n",
       "      <td>сотрудник</td>\n",
       "      <td>0</td>\n",
       "      <td>253875.639453</td>\n",
       "      <td>покупка жилья</td>\n",
       "    </tr>\n",
       "    <tr>\n",
       "      <td>1</td>\n",
       "      <td>1</td>\n",
       "      <td>-4024.803754</td>\n",
       "      <td>36</td>\n",
       "      <td>среднее</td>\n",
       "      <td>1</td>\n",
       "      <td>женат / замужем</td>\n",
       "      <td>0</td>\n",
       "      <td>F</td>\n",
       "      <td>сотрудник</td>\n",
       "      <td>0</td>\n",
       "      <td>112080.014102</td>\n",
       "      <td>приобретение автомобиля</td>\n",
       "    </tr>\n",
       "    <tr>\n",
       "      <td>2</td>\n",
       "      <td>0</td>\n",
       "      <td>-5623.422610</td>\n",
       "      <td>33</td>\n",
       "      <td>Среднее</td>\n",
       "      <td>1</td>\n",
       "      <td>женат / замужем</td>\n",
       "      <td>0</td>\n",
       "      <td>M</td>\n",
       "      <td>сотрудник</td>\n",
       "      <td>0</td>\n",
       "      <td>145885.952297</td>\n",
       "      <td>покупка жилья</td>\n",
       "    </tr>\n",
       "    <tr>\n",
       "      <td>3</td>\n",
       "      <td>3</td>\n",
       "      <td>-4124.747207</td>\n",
       "      <td>32</td>\n",
       "      <td>среднее</td>\n",
       "      <td>1</td>\n",
       "      <td>женат / замужем</td>\n",
       "      <td>0</td>\n",
       "      <td>M</td>\n",
       "      <td>сотрудник</td>\n",
       "      <td>0</td>\n",
       "      <td>267628.550329</td>\n",
       "      <td>дополнительное образование</td>\n",
       "    </tr>\n",
       "    <tr>\n",
       "      <td>4</td>\n",
       "      <td>0</td>\n",
       "      <td>340266.072047</td>\n",
       "      <td>53</td>\n",
       "      <td>среднее</td>\n",
       "      <td>1</td>\n",
       "      <td>гражданский брак</td>\n",
       "      <td>1</td>\n",
       "      <td>F</td>\n",
       "      <td>пенсионер</td>\n",
       "      <td>0</td>\n",
       "      <td>158616.077870</td>\n",
       "      <td>сыграть свадьбу</td>\n",
       "    </tr>\n",
       "    <tr>\n",
       "      <td>5</td>\n",
       "      <td>0</td>\n",
       "      <td>-926.185831</td>\n",
       "      <td>27</td>\n",
       "      <td>высшее</td>\n",
       "      <td>0</td>\n",
       "      <td>гражданский брак</td>\n",
       "      <td>1</td>\n",
       "      <td>M</td>\n",
       "      <td>компаньон</td>\n",
       "      <td>0</td>\n",
       "      <td>255763.565419</td>\n",
       "      <td>покупка жилья</td>\n",
       "    </tr>\n",
       "    <tr>\n",
       "      <td>6</td>\n",
       "      <td>0</td>\n",
       "      <td>-2879.202052</td>\n",
       "      <td>43</td>\n",
       "      <td>высшее</td>\n",
       "      <td>0</td>\n",
       "      <td>женат / замужем</td>\n",
       "      <td>0</td>\n",
       "      <td>F</td>\n",
       "      <td>компаньон</td>\n",
       "      <td>0</td>\n",
       "      <td>240525.971920</td>\n",
       "      <td>операции с жильем</td>\n",
       "    </tr>\n",
       "    <tr>\n",
       "      <td>7</td>\n",
       "      <td>0</td>\n",
       "      <td>-152.779569</td>\n",
       "      <td>50</td>\n",
       "      <td>СРЕДНЕЕ</td>\n",
       "      <td>1</td>\n",
       "      <td>женат / замужем</td>\n",
       "      <td>0</td>\n",
       "      <td>M</td>\n",
       "      <td>сотрудник</td>\n",
       "      <td>0</td>\n",
       "      <td>135823.934197</td>\n",
       "      <td>образование</td>\n",
       "    </tr>\n",
       "    <tr>\n",
       "      <td>8</td>\n",
       "      <td>2</td>\n",
       "      <td>-6929.865299</td>\n",
       "      <td>35</td>\n",
       "      <td>ВЫСШЕЕ</td>\n",
       "      <td>0</td>\n",
       "      <td>гражданский брак</td>\n",
       "      <td>1</td>\n",
       "      <td>F</td>\n",
       "      <td>сотрудник</td>\n",
       "      <td>0</td>\n",
       "      <td>95856.832424</td>\n",
       "      <td>на проведение свадьбы</td>\n",
       "    </tr>\n",
       "    <tr>\n",
       "      <td>9</td>\n",
       "      <td>0</td>\n",
       "      <td>-2188.756445</td>\n",
       "      <td>41</td>\n",
       "      <td>среднее</td>\n",
       "      <td>1</td>\n",
       "      <td>женат / замужем</td>\n",
       "      <td>0</td>\n",
       "      <td>M</td>\n",
       "      <td>сотрудник</td>\n",
       "      <td>0</td>\n",
       "      <td>144425.938277</td>\n",
       "      <td>покупка жилья для семьи</td>\n",
       "    </tr>\n",
       "  </tbody>\n",
       "</table>\n",
       "</div>"
      ],
      "text/plain": [
       "   children  days_employed  dob_years education  education_id  \\\n",
       "0         1   -8437.673028         42    высшее             0   \n",
       "1         1   -4024.803754         36   среднее             1   \n",
       "2         0   -5623.422610         33   Среднее             1   \n",
       "3         3   -4124.747207         32   среднее             1   \n",
       "4         0  340266.072047         53   среднее             1   \n",
       "5         0    -926.185831         27    высшее             0   \n",
       "6         0   -2879.202052         43    высшее             0   \n",
       "7         0    -152.779569         50   СРЕДНЕЕ             1   \n",
       "8         2   -6929.865299         35    ВЫСШЕЕ             0   \n",
       "9         0   -2188.756445         41   среднее             1   \n",
       "\n",
       "      family_status  family_status_id gender income_type  debt   total_income  \\\n",
       "0   женат / замужем                 0      F   сотрудник     0  253875.639453   \n",
       "1   женат / замужем                 0      F   сотрудник     0  112080.014102   \n",
       "2   женат / замужем                 0      M   сотрудник     0  145885.952297   \n",
       "3   женат / замужем                 0      M   сотрудник     0  267628.550329   \n",
       "4  гражданский брак                 1      F   пенсионер     0  158616.077870   \n",
       "5  гражданский брак                 1      M   компаньон     0  255763.565419   \n",
       "6   женат / замужем                 0      F   компаньон     0  240525.971920   \n",
       "7   женат / замужем                 0      M   сотрудник     0  135823.934197   \n",
       "8  гражданский брак                 1      F   сотрудник     0   95856.832424   \n",
       "9   женат / замужем                 0      M   сотрудник     0  144425.938277   \n",
       "\n",
       "                      purpose  \n",
       "0               покупка жилья  \n",
       "1     приобретение автомобиля  \n",
       "2               покупка жилья  \n",
       "3  дополнительное образование  \n",
       "4             сыграть свадьбу  \n",
       "5               покупка жилья  \n",
       "6           операции с жильем  \n",
       "7                 образование  \n",
       "8       на проведение свадьбы  \n",
       "9     покупка жилья для семьи  "
      ]
     },
     "execution_count": 1,
     "metadata": {},
     "output_type": "execute_result"
    }
   ],
   "source": [
    "import pandas as pd\n",
    "data = pd.read_csv('/datasets/data.csv')\n",
    "data.info()\n",
    "data.head(10)"
   ]
  },
  {
   "cell_type": "markdown",
   "metadata": {},
   "source": [
    "\n",
    "<div class=\"alert alert-success\">\n",
    "<b>✅ Комментарий ревьюера: v1 </b>  \n",
    "    \n",
    "Если надо посмотреть данные из середины, Метод `sample(5)` позволяет получить данные из серидины таблицы, вытаскивает случайным образом. Параметр - число элементов для отображения</div>\n"
   ]
  },
  {
   "cell_type": "markdown",
   "metadata": {},
   "source": [
    "**Вывод**"
   ]
  },
  {
   "cell_type": "markdown",
   "metadata": {},
   "source": [
    "Есть таблица данных, где имеются столбцы:\n",
    "children — количество детей в семье\n",
    "days_employed — общий трудовой стаж в днях\n",
    "dob_years — возраст клиента в годах\n",
    "education — уровень образования клиента\n",
    "education_id — идентификатор уровня образования\n",
    "family_status — семейное положение\n",
    "family_status_id — идентификатор семейного положения\n",
    "gender — пол клиента\n",
    "income_type — тип занятости\n",
    "debt — имел ли задолженность по возврату кредитов\n",
    "total_income — ежемесячный доход\n",
    "purpose — цель получения кредита\n",
    "\n",
    "Каждая строчка соответсвует поданной заявке на кредит. \n",
    "\n",
    "Всего 21525 строчек (соответсвенно обращений).\n",
    "\n",
    "Данных не хватает в столбцах \"days_employed\" (общий трудовой стаж) и \"total_income\" (ежемесячный доход).\n",
    "\n"
   ]
  },
  {
   "cell_type": "markdown",
   "metadata": {},
   "source": [
    "## Шаг 2. Предобработка данных"
   ]
  },
  {
   "cell_type": "markdown",
   "metadata": {},
   "source": [
    "### Обработка пропусков"
   ]
  },
  {
   "cell_type": "code",
   "execution_count": 2,
   "metadata": {},
   "outputs": [
    {
     "name": "stdout",
     "output_type": "stream",
     "text": [
      "число пропусков столбца \"общий трудовой стаж в днях\" 2174\n",
      "число пропусков столбца \"ежемесячный доход\" 2174\n"
     ]
    }
   ],
   "source": [
    "print('число пропусков столбца \"общий трудовой стаж в днях\"', len(data[data['days_employed'].isna()]))\n",
    "print('число пропусков столбца \"ежемесячный доход\"', len(data[data['total_income'].isna()]))"
   ]
  },
  {
   "cell_type": "code",
   "execution_count": 3,
   "metadata": {
    "scrolled": true
   },
   "outputs": [
    {
     "data": {
      "text/plain": [
       "10.099883855981417"
      ]
     },
     "execution_count": 3,
     "metadata": {},
     "output_type": "execute_result"
    }
   ],
   "source": [
    "(2174/21525)*100"
   ]
  },
  {
   "cell_type": "markdown",
   "metadata": {},
   "source": [
    "Пропущено 10% данных  в столбцах \"общий трудовой стаж в днях\" и \"ежемесячный доход\". \n",
    "Оценим данные в колонке \"общий трудовой стаж в днях\"."
   ]
  },
  {
   "cell_type": "code",
   "execution_count": 4,
   "metadata": {},
   "outputs": [
    {
     "name": "stdout",
     "output_type": "stream",
     "text": [
      "пропуски данных в категории безработный: о стаже -  0 о доходе -  0\n",
      "пропуски данных в категории в декрете: о стаже -  0 о доходе -  0\n",
      "пропуски данных в категории госслужащий: о стаже -  147 о доходе -  147\n",
      "пропуски данных в категории компаньон: о стаже -  508 о доходе -  508\n",
      "пропуски данных в категории пенсионер: о стаже -  413 о доходе -  413\n",
      "пропуски данных в категории предприниматель: о стаже -  1 о доходе -  1\n",
      "пропуски данных в категории сотрудник: о стаже -  1105 о доходе -  1105\n"
     ]
    }
   ],
   "source": [
    "print('пропуски данных в категории безработный:',  'о стаже - ', data[data['income_type'] == 'безработный']['days_employed'].isna().sum(), 'о доходе - ', data[data['income_type'] == 'безработный']['total_income'].isna().sum())\n",
    "print('пропуски данных в категории в декрете:', 'о стаже - ', data[data['income_type'] == 'в декрете']['days_employed'].isna().sum(), 'о доходе - ', data[data['income_type'] == 'в декрете']['total_income'].isna().sum())\n",
    "print('пропуски данных в категории госслужащий:','о стаже - ', data[data['income_type'] == 'госслужащий']['days_employed'].isna().sum(), 'о доходе - ', data[data['income_type'] == 'госслужащий']['total_income'].isna().sum())\n",
    "print('пропуски данных в категории компаньон:', 'о стаже - ', data[data['income_type'] == 'компаньон']['days_employed'].isna().sum(), 'о доходе - ', data[data['income_type'] == 'компаньон']['total_income'].isna().sum())\n",
    "print('пропуски данных в категории пенсионер:','о стаже - ', data[data['income_type'] == 'пенсионер']['days_employed'].isna().sum(), 'о доходе - ', data[data['income_type'] == 'пенсионер']['total_income'].isna().sum())\n",
    "print('пропуски данных в категории предприниматель:', 'о стаже - ', data[data['income_type'] == 'предприниматель']['days_employed'].isna().sum(), 'о доходе - ', data[data['income_type'] == 'предприниматель']['total_income'].isna().sum())\n",
    "print('пропуски данных в категории сотрудник:', 'о стаже - ', data[data['income_type'] == 'сотрудник']['days_employed'].isna().sum(),'о доходе - ', data[data['income_type'] == 'сотрудник']['total_income'].isna().sum())"
   ]
  },
  {
   "cell_type": "markdown",
   "metadata": {},
   "source": [
    "Пропуски данных о стаже и о доходе вероятно находятся у одних и тех же пользователей. \n",
    "Категории занятости у который отсутвтсвуют данные - госслужащий, компаньон, пенсионер, предприниматель, сотрудник. Это категории у которых долны быть и доходы и стаж, а значит заменить на нулевые значения нельзя.\n",
    "Вероятно клиенты не указывали доход и стаж или по ошибке или не хотели их указывать."
   ]
  },
  {
   "cell_type": "markdown",
   "metadata": {},
   "source": [
    "Для удобства дальнейшей работы со стажем сделаем дополнительную колонку \"стаж в годах\", возьмем среднюю продолжительность года в 365 дней."
   ]
  },
  {
   "cell_type": "code",
   "execution_count": 5,
   "metadata": {},
   "outputs": [
    {
     "data": {
      "text/html": [
       "<div>\n",
       "<style scoped>\n",
       "    .dataframe tbody tr th:only-of-type {\n",
       "        vertical-align: middle;\n",
       "    }\n",
       "\n",
       "    .dataframe tbody tr th {\n",
       "        vertical-align: top;\n",
       "    }\n",
       "\n",
       "    .dataframe thead th {\n",
       "        text-align: right;\n",
       "    }\n",
       "</style>\n",
       "<table border=\"1\" class=\"dataframe\">\n",
       "  <thead>\n",
       "    <tr style=\"text-align: right;\">\n",
       "      <th></th>\n",
       "      <th>children</th>\n",
       "      <th>days_employed</th>\n",
       "      <th>dob_years</th>\n",
       "      <th>education</th>\n",
       "      <th>education_id</th>\n",
       "      <th>family_status</th>\n",
       "      <th>family_status_id</th>\n",
       "      <th>gender</th>\n",
       "      <th>income_type</th>\n",
       "      <th>debt</th>\n",
       "      <th>total_income</th>\n",
       "      <th>purpose</th>\n",
       "      <th>years_employed</th>\n",
       "    </tr>\n",
       "  </thead>\n",
       "  <tbody>\n",
       "    <tr>\n",
       "      <td>0</td>\n",
       "      <td>1</td>\n",
       "      <td>-8437.673028</td>\n",
       "      <td>42</td>\n",
       "      <td>высшее</td>\n",
       "      <td>0</td>\n",
       "      <td>женат / замужем</td>\n",
       "      <td>0</td>\n",
       "      <td>F</td>\n",
       "      <td>сотрудник</td>\n",
       "      <td>0</td>\n",
       "      <td>253875.639453</td>\n",
       "      <td>покупка жилья</td>\n",
       "      <td>-23.116912</td>\n",
       "    </tr>\n",
       "  </tbody>\n",
       "</table>\n",
       "</div>"
      ],
      "text/plain": [
       "   children  days_employed  dob_years education  education_id  \\\n",
       "0         1   -8437.673028         42    высшее             0   \n",
       "\n",
       "     family_status  family_status_id gender income_type  debt   total_income  \\\n",
       "0  женат / замужем                 0      F   сотрудник     0  253875.639453   \n",
       "\n",
       "         purpose  years_employed  \n",
       "0  покупка жилья      -23.116912  "
      ]
     },
     "execution_count": 5,
     "metadata": {},
     "output_type": "execute_result"
    }
   ],
   "source": [
    "data['years_employed']=data['days_employed']/365\n",
    "data.head(1)"
   ]
  },
  {
   "cell_type": "markdown",
   "metadata": {},
   "source": [
    "Рассмотрим статистику данных о стаже."
   ]
  },
  {
   "cell_type": "code",
   "execution_count": 6,
   "metadata": {},
   "outputs": [
    {
     "name": "stdout",
     "output_type": "stream",
     "text": [
      "минимальный стаж -50.38068465909146 лет\n",
      "максимальный стаж 172.73013057937914 лет\n",
      "средний стаж 1100.6997273296713 лет\n",
      "медиана стажа -3.296902818549285 лет\n"
     ]
    }
   ],
   "source": [
    "years_employed_min= data['years_employed'].min()\n",
    "years_employed_mean= data['years_employed'].mean()\n",
    "years_employed_max = data['years_employed'].max()\n",
    "years_employed_median = data['years_employed'].median()\n",
    "print('минимальный стаж', years_employed_min, 'лет')\n",
    "print('максимальный стаж', years_employed_mean, 'лет')\n",
    "print('средний стаж', years_employed_max, 'лет')\n",
    "print('медиана стажа', years_employed_median, 'лет')"
   ]
  },
  {
   "cell_type": "markdown",
   "metadata": {},
   "source": [
    "Обращает на себя внимание 2 факта:\n",
    "1) отрицательное значение минимального стажа.\n",
    "2) средний стаж 172 года (вроятно из-за того что кто-то указал в стаже нереальное количество дней и поэтому максимальный стаж оказался 1100 лет). Просто заменить пропуски на среднее нельзя.\n",
    "Сначала разберемся с первой проблемой. Переведем значения столбца \"общий трудовой стаж в днях\" в абсолютные числа."
   ]
  },
  {
   "cell_type": "code",
   "execution_count": 7,
   "metadata": {},
   "outputs": [
    {
     "name": "stdout",
     "output_type": "stream",
     "text": [
      "минимальный стаж 0.06614146093282515 лет\n",
      "максимальный стаж 183.32802440225305 лет\n",
      "средний стаж 1100.6997273296713 лет\n",
      "медиана стажа 6.0115631969279315 лет\n"
     ]
    }
   ],
   "source": [
    "data['days_employed'] = data['days_employed'].abs()\n",
    "data['years_employed']=data['years_employed'].abs()\n",
    "years_employed_min= data['years_employed'].min()\n",
    "years_employed_mean= data['years_employed'].mean()\n",
    "years_employed_max = data['years_employed'].max()\n",
    "years_employed_median = data['years_employed'].median()\n",
    "print('минимальный стаж', years_employed_min, 'лет')\n",
    "print('максимальный стаж', years_employed_mean, 'лет')\n",
    "print('средний стаж', years_employed_max, 'лет')\n",
    "print('медиана стажа', years_employed_median, 'лет')"
   ]
  },
  {
   "cell_type": "markdown",
   "metadata": {},
   "source": [
    "Отрицательных значений нет, теперь минимальный стаж 0 дней."
   ]
  },
  {
   "cell_type": "markdown",
   "metadata": {},
   "source": [
    "Определим какой процент данных имеет стаж более 70 лет."
   ]
  },
  {
   "cell_type": "code",
   "execution_count": 8,
   "metadata": {},
   "outputs": [
    {
     "name": "stdout",
     "output_type": "stream",
     "text": [
      "17.80269753501111\n"
     ]
    }
   ],
   "source": [
    "years_employed_unreal = data[data['years_employed']>70]['years_employed']\n",
    "print((years_employed_unreal.count()/data['years_employed'].count())*100)\n"
   ]
  },
  {
   "cell_type": "markdown",
   "metadata": {},
   "source": [
    "17% клиентов с завышенным стажем. Просто удалить эти данные нельзя, заменим их на более реальные 70 лет."
   ]
  },
  {
   "cell_type": "code",
   "execution_count": 9,
   "metadata": {},
   "outputs": [
    {
     "name": "stdout",
     "output_type": "stream",
     "text": [
      "                years_employed                                             \n",
      "                        median         mean          max         min  count\n",
      "income_type                                                                \n",
      "безработный        1003.873021  1003.873021  1083.021476  924.724567      2\n",
      "в декрете             9.032219     9.032219     9.032219    9.032219      1\n",
      "госслужащий           7.368132     9.314786    41.624746    0.109463   1312\n",
      "компаньон             4.239403     5.784998    48.261817    0.082727   4577\n",
      "пенсионер          1000.584401  1000.009565  1100.699727  900.626632   3443\n",
      "предприниматель       1.426981     1.426981     1.426981    1.426981      1\n",
      "сотрудник             4.312884     6.373970    50.380685    0.066141  10014\n",
      "студент               1.585621     1.585621     1.585621    1.585621      1\n"
     ]
    }
   ],
   "source": [
    "yaers_data_grouped = data.groupby('income_type').agg({'years_employed': ['median', 'mean', 'max','min', 'count']})\n",
    "print(yaers_data_grouped)"
   ]
  },
  {
   "cell_type": "markdown",
   "metadata": {},
   "source": [
    "В среднем по 1000 лет в стаже указали безработные и пенсионеры. "
   ]
  },
  {
   "cell_type": "code",
   "execution_count": 10,
   "metadata": {},
   "outputs": [
    {
     "name": "stdout",
     "output_type": "stream",
     "text": [
      "                 days_employed                                               \\\n",
      "                        median           mean            max            min   \n",
      "income_type                                                                   \n",
      "безработный      366413.652744  366413.652744  395302.838654  337524.466835   \n",
      "в декрете          3296.759962    3296.759962    3296.759962    3296.759962   \n",
      "госслужащий        2689.368353    3399.896902   15193.032201      39.954170   \n",
      "компаньон          1547.382223    2111.524398   17615.563266      30.195337   \n",
      "пенсионер        365213.306266  365003.491245  401755.400475  328728.720605   \n",
      "предприниматель     520.848083     520.848083     520.848083     520.848083   \n",
      "сотрудник          1574.202821    2326.499216   18388.949901      24.141633   \n",
      "студент             578.751554     578.751554     578.751554     578.751554   \n",
      "\n",
      "                        \n",
      "                 count  \n",
      "income_type             \n",
      "безработный          2  \n",
      "в декрете            1  \n",
      "госслужащий       1312  \n",
      "компаньон         4577  \n",
      "пенсионер         3443  \n",
      "предприниматель      1  \n",
      "сотрудник        10014  \n",
      "студент              1  \n"
     ]
    }
   ],
   "source": [
    "days_employed_grouped = data.groupby('income_type').agg({'days_employed': ['median', 'mean', 'max','min', 'count']})\n",
    "print(days_employed_grouped)"
   ]
  },
  {
   "cell_type": "markdown",
   "metadata": {},
   "source": [
    "    Заменим безработным  стаж на более реальный 0 лет"
   ]
  },
  {
   "cell_type": "markdown",
   "metadata": {},
   "source": [
    "Безработные клиенты при заполнении анкет указали невозможное количество дней стажа 395302.838654 и 337524.466835 (около 1000 лет) величина завышена примерно в 100 раз. помимо очень большой величины обращает внимание тот факт что это дробная величина с точностью до 6 знака после запятой. Вероятно это техническая ошибка при заполнении анкеты или при формировании таблицы. \n",
    "Уменьшим безработных в 100 раз."
   ]
  },
  {
   "cell_type": "code",
   "execution_count": 11,
   "metadata": {},
   "outputs": [
    {
     "name": "stdout",
     "output_type": "stream",
     "text": [
      "                years_employed                                             \n",
      "                        median         mean          max         min  count\n",
      "income_type                                                                \n",
      "безработный          10.038730    10.038730    10.830215    9.247246      2\n",
      "в декрете             9.032219     9.032219     9.032219    9.032219      1\n",
      "госслужащий           7.368132     9.314786    41.624746    0.109463   1312\n",
      "компаньон             4.239403     5.784998    48.261817    0.082727   4577\n",
      "пенсионер          1000.584401  1000.009565  1100.699727  900.626632   3443\n",
      "предприниматель       1.426981     1.426981     1.426981    1.426981      1\n",
      "сотрудник             4.312884     6.373970    50.380685    0.066141  10014\n",
      "студент               1.585621     1.585621     1.585621    1.585621      1\n",
      "                 days_employed                                               \\\n",
      "                        median           mean            max            min   \n",
      "income_type                                                                   \n",
      "безработный        3664.136527    3664.136527    3953.028387    3375.244668   \n",
      "в декрете          3296.759962    3296.759962    3296.759962    3296.759962   \n",
      "госслужащий        2689.368353    3399.896902   15193.032201      39.954170   \n",
      "компаньон          1547.382223    2111.524398   17615.563266      30.195337   \n",
      "пенсионер        365213.306266  365003.491245  401755.400475  328728.720605   \n",
      "предприниматель     520.848083     520.848083     520.848083     520.848083   \n",
      "сотрудник          1574.202821    2326.499216   18388.949901      24.141633   \n",
      "студент             578.751554     578.751554     578.751554     578.751554   \n",
      "\n",
      "                        \n",
      "                 count  \n",
      "income_type             \n",
      "безработный          2  \n",
      "в декрете            1  \n",
      "госслужащий       1312  \n",
      "компаньон         4577  \n",
      "пенсионер         3443  \n",
      "предприниматель      1  \n",
      "сотрудник        10014  \n",
      "студент              1  \n"
     ]
    }
   ],
   "source": [
    "data.loc[data['income_type'] == 'безработный', 'days_employed'] = data['days_employed']/100\n",
    "data.loc[data['income_type'] == 'безработный', 'years_employed'] = data['years_employed']/100\n",
    "days_data_grouped = data.groupby('income_type').agg({'days_employed': ['median', 'mean', 'max','min', 'count']})\n",
    "yaers_data_grouped = data.groupby('income_type').agg({'years_employed': ['median', 'mean', 'max','min', 'count']})\n",
    "print(yaers_data_grouped)\n",
    "print(days_data_grouped) "
   ]
  },
  {
   "cell_type": "markdown",
   "metadata": {},
   "source": [
    "Уменьшили ошибочные завышенные стажи в стаж в днях и годах в категории безработных в 100 раз."
   ]
  },
  {
   "cell_type": "markdown",
   "metadata": {},
   "source": [
    "Заменим пенсионерам со стажем более 50 лет, стаж на более реальные 50 лет (так как банки обычно ограничивают возраст заемщика 70 лет 70-20=50)."
   ]
  },
  {
   "cell_type": "code",
   "execution_count": 12,
   "metadata": {},
   "outputs": [
    {
     "name": "stdout",
     "output_type": "stream",
     "text": [
      "                years_employed                                        \n",
      "                        median       mean        max        min  count\n",
      "income_type                                                           \n",
      "безработный          10.038730  10.038730  10.830215   9.247246      2\n",
      "в декрете             9.032219   9.032219   9.032219   9.032219      1\n",
      "госслужащий           7.368132   9.314786  41.624746   0.109463   1312\n",
      "компаньон             4.239403   5.784998  48.261817   0.082727   4577\n",
      "пенсионер            50.000000  50.000000  50.000000  50.000000   3443\n",
      "предприниматель       1.426981   1.426981   1.426981   1.426981      1\n",
      "сотрудник             4.312884   6.373932  50.000000   0.066141  10014\n",
      "студент               1.585621   1.585621   1.585621   1.585621      1\n",
      "                days_employed                                                 \n",
      "                       median          mean           max           min  count\n",
      "income_type                                                                   \n",
      "безработный       3664.136527   3664.136527   3953.028387   3375.244668      2\n",
      "в декрете         3296.759962   3296.759962   3296.759962   3296.759962      1\n",
      "госслужащий       2689.368353   3399.896902  15193.032201     39.954170   1312\n",
      "компаньон         1547.382223   2111.524398  17615.563266     30.195337   4577\n",
      "пенсионер        18250.000000  18250.000000  18250.000000  18250.000000   3443\n",
      "предприниматель    520.848083    520.848083    520.848083    520.848083      1\n",
      "сотрудник         1574.202821   2326.485340  18250.000000     24.141633  10014\n",
      "студент            578.751554    578.751554    578.751554    578.751554      1\n"
     ]
    }
   ],
   "source": [
    "data.loc[data['days_employed'] > 365*50, 'days_employed'] = 365*50\n",
    "data.loc[data['years_employed'] > 50, 'years_employed'] = 50\n",
    "days_data_grouped = data.groupby('income_type').agg({'days_employed': ['median', 'mean', 'max','min', 'count']})\n",
    "yaers_data_grouped = data.groupby('income_type').agg({'years_employed': ['median', 'mean', 'max','min', 'count']})\n",
    "print(yaers_data_grouped)\n",
    "print(days_data_grouped)"
   ]
  },
  {
   "cell_type": "code",
   "execution_count": 13,
   "metadata": {},
   "outputs": [
    {
     "name": "stdout",
     "output_type": "stream",
     "text": [
      "минимальный стаж 0.06614146093282515 лет\n",
      "максимальный стаж 50.0 лет\n",
      "средний стаж 14.196145855975509 лет\n",
      "медиана стажа 6.0115631969279315 лет\n"
     ]
    }
   ],
   "source": [
    "days_employed_mean = data['days_employed'].mean()\n",
    "days_employed_max = data['days_employed'].max()\n",
    "days_employed_median = data['days_employed'].median()\n",
    "days_employed_min = data['days_employed'].min()\n",
    "print('минимальный стаж', days_employed_min/365, 'лет')\n",
    "print('максимальный стаж', days_employed_max/365, 'лет')\n",
    "print('средний стаж', days_employed_mean/365, 'лет')\n",
    "print('медиана стажа', days_employed_median/365, 'лет')\n"
   ]
  },
  {
   "cell_type": "markdown",
   "metadata": {},
   "source": [
    "Заменим пропуски данных о стаже на среднюю величину."
   ]
  },
  {
   "cell_type": "code",
   "execution_count": 14,
   "metadata": {},
   "outputs": [
    {
     "data": {
      "text/plain": [
       "children               0\n",
       "days_employed          0\n",
       "dob_years              0\n",
       "education              0\n",
       "education_id           0\n",
       "family_status          0\n",
       "family_status_id       0\n",
       "gender                 0\n",
       "income_type            0\n",
       "debt                   0\n",
       "total_income        2174\n",
       "purpose                0\n",
       "years_employed         0\n",
       "dtype: int64"
      ]
     },
     "execution_count": 14,
     "metadata": {},
     "output_type": "execute_result"
    }
   ],
   "source": [
    "data['days_employed'] = data['days_employed'].fillna(days_employed_mean)\n",
    "data['years_employed'] = data['years_employed'].fillna(data['years_employed'].mean())\n",
    "data.isna().sum()"
   ]
  },
  {
   "cell_type": "code",
   "execution_count": 15,
   "metadata": {},
   "outputs": [
    {
     "name": "stdout",
     "output_type": "stream",
     "text": [
      "пропуски данных о доходе в категории безработный 0\n",
      "пропуски данных о доходе в категории в декрете 0\n",
      "пропуски данных о доходе в категории госслужащий 147\n",
      "пропуски данных о доходе в категории компаньон 508\n",
      "пропуски данных о доходе в категории пенсионер 413\n",
      "пропуски данных о доходе в категории предприниматель 1\n",
      "пропуски данных о доходе в категории сотрудник 1105\n"
     ]
    }
   ],
   "source": [
    "print('пропуски данных о доходе в категории безработный', data[data['income_type'] == 'безработный']['total_income'].isna().sum())\n",
    "print('пропуски данных о доходе в категории в декрете', data[data['income_type'] == 'в декрете']['total_income'].isna().sum())\n",
    "print('пропуски данных о доходе в категории госслужащий',data[data['income_type'] == 'госслужащий']['total_income'].isna().sum())\n",
    "print('пропуски данных о доходе в категории компаньон',data[data['income_type'] == 'компаньон']['total_income'].isna().sum())\n",
    "print('пропуски данных о доходе в категории пенсионер',data[data['income_type'] == 'пенсионер']['total_income'].isna().sum())\n",
    "print('пропуски данных о доходе в категории предприниматель',data[data['income_type'] == 'предприниматель']['total_income'].isna().sum())\n",
    "print('пропуски данных о доходе в категории сотрудник',data[data['income_type'] == 'сотрудник']['total_income'].isna().sum())"
   ]
  },
  {
   "cell_type": "markdown",
   "metadata": {},
   "source": [
    "пропуски данных о зарплате есть в категориях госслужащий, компаньон, пенсионер, предприниматель, сотрудник."
   ]
  },
  {
   "cell_type": "markdown",
   "metadata": {},
   "source": [
    "сгруппируем данные о зарплате по типу занятости"
   ]
  },
  {
   "cell_type": "code",
   "execution_count": 16,
   "metadata": {},
   "outputs": [
    {
     "name": "stdout",
     "output_type": "stream",
     "text": [
      "                  total_income                                              \\\n",
      "                        median           mean           max            min   \n",
      "income_type                                                                  \n",
      "безработный      131339.751676  131339.751676  2.027225e+05   59956.991984   \n",
      "в декрете         53829.130729   53829.130729  5.382913e+04   53829.130729   \n",
      "госслужащий      150447.935283  170898.309923  9.104515e+05   29200.077193   \n",
      "компаньон        172357.950966  202417.461462  2.265604e+06   28702.812889   \n",
      "пенсионер        118514.486412  137127.465690  7.351033e+05   20667.263793   \n",
      "предприниматель  499163.144947  499163.144947  4.991631e+05  499163.144947   \n",
      "сотрудник        142594.396847  161380.260488  1.726276e+06   21367.648356   \n",
      "студент           98201.625314   98201.625314  9.820163e+04   98201.625314   \n",
      "\n",
      "                        \n",
      "                 count  \n",
      "income_type             \n",
      "безработный          2  \n",
      "в декрете            1  \n",
      "госслужащий       1312  \n",
      "компаньон         4577  \n",
      "пенсионер         3443  \n",
      "предприниматель      1  \n",
      "сотрудник        10014  \n",
      "студент              1  \n"
     ]
    }
   ],
   "source": [
    "salary_data_grouped = data.groupby('income_type').agg({'total_income': ['median', 'mean', 'max','min', 'count']})\n",
    "print(salary_data_grouped)"
   ]
  },
  {
   "cell_type": "markdown",
   "metadata": {},
   "source": [
    "Средняя зарплата по категориям различается на порядок.\n",
    "Пропуски данных по зарплате заменим на средние значения в категории."
   ]
  },
  {
   "cell_type": "markdown",
   "metadata": {},
   "source": [
    "Сначала введем переменные среднего дохода для отдельных категорий, имеющих пропуски данных о доходе."
   ]
  },
  {
   "cell_type": "code",
   "execution_count": 17,
   "metadata": {},
   "outputs": [
    {
     "name": "stdout",
     "output_type": "stream",
     "text": [
      "средний доход у госслужащих 150447.9352830068\n",
      "средний доход у компаньонов 172357.95096577113\n",
      "средний доход у пенсионеров 118514.48641164352\n",
      "средний доход у предпринимателей 499163.1449470857\n",
      "средний доход у сотрудников 142594.39684740017\n",
      "средний доход у студентов 98201.62531401133\n"
     ]
    }
   ],
   "source": [
    "state_income = data[data['income_type'] == 'госслужащий']['total_income'].median()\n",
    "companion_income = data[data['income_type'] == 'компаньон']['total_income'].median()\n",
    "pensioner_income = data[data['income_type'] == 'пенсионер']['total_income'].median()\n",
    "businessman_income = data[data['income_type'] == 'предприниматель']['total_income'].median()\n",
    "worker_income = data[data['income_type'] == 'сотрудник']['total_income'].median()\n",
    "student_income = data[data['income_type'] == 'студент']['total_income'].median()\n",
    "\n",
    "print('средний доход у госслужащих', state_income)\n",
    "print('средний доход у компаньонов', companion_income)\n",
    "print('средний доход у пенсионеров', pensioner_income)\n",
    "print('средний доход у предпринимателей', businessman_income)\n",
    "print('средний доход у сотрудников', worker_income)\n",
    "print('средний доход у студентов', student_income)\n",
    "\n"
   ]
  },
  {
   "cell_type": "markdown",
   "metadata": {},
   "source": [
    "Заменим пропуски данных о зарплате медианами по категории:"
   ]
  },
  {
   "cell_type": "code",
   "execution_count": 18,
   "metadata": {},
   "outputs": [],
   "source": [
    "data['total_income'] = data.groupby('income_type')['total_income'].apply(lambda x: x.fillna(x.median()))"
   ]
  },
  {
   "cell_type": "code",
   "execution_count": 19,
   "metadata": {},
   "outputs": [
    {
     "name": "stdout",
     "output_type": "stream",
     "text": [
      "                  total_income                                              \\\n",
      "                        median           mean           max            min   \n",
      "income_type                                                                  \n",
      "безработный      131339.751676  131339.751676  2.027225e+05   59956.991984   \n",
      "в декрете         53829.130729   53829.130729  5.382913e+04   53829.130729   \n",
      "госслужащий      150447.935283  168837.854082  9.104515e+05   29200.077193   \n",
      "компаньон        172357.950966  199414.466116  2.265604e+06   28702.812889   \n",
      "пенсионер        118514.486412  135133.907484  7.351033e+05   20667.263793   \n",
      "предприниматель  499163.144947  499163.144947  4.991631e+05  499163.144947   \n",
      "сотрудник        142594.396847  159513.331868  1.726276e+06   21367.648356   \n",
      "студент           98201.625314   98201.625314  9.820163e+04   98201.625314   \n",
      "\n",
      "                        \n",
      "                 count  \n",
      "income_type             \n",
      "безработный          2  \n",
      "в декрете            1  \n",
      "госслужащий       1459  \n",
      "компаньон         5085  \n",
      "пенсионер         3856  \n",
      "предприниматель      2  \n",
      "сотрудник        11119  \n",
      "студент              1  \n"
     ]
    }
   ],
   "source": [
    "salary_data_grouped = data.groupby('income_type').agg({'total_income': ['median', 'mean', 'max','min', 'count']})\n",
    "print(salary_data_grouped)"
   ]
  },
  {
   "cell_type": "code",
   "execution_count": 20,
   "metadata": {},
   "outputs": [
    {
     "name": "stdout",
     "output_type": "stream",
     "text": [
      "<class 'pandas.core.frame.DataFrame'>\n",
      "RangeIndex: 21525 entries, 0 to 21524\n",
      "Data columns (total 13 columns):\n",
      "children            21525 non-null int64\n",
      "days_employed       21525 non-null float64\n",
      "dob_years           21525 non-null int64\n",
      "education           21525 non-null object\n",
      "education_id        21525 non-null int64\n",
      "family_status       21525 non-null object\n",
      "family_status_id    21525 non-null int64\n",
      "gender              21525 non-null object\n",
      "income_type         21525 non-null object\n",
      "debt                21525 non-null int64\n",
      "total_income        21525 non-null float64\n",
      "purpose             21525 non-null object\n",
      "years_employed      21525 non-null float64\n",
      "dtypes: float64(3), int64(5), object(5)\n",
      "memory usage: 2.1+ MB\n"
     ]
    }
   ],
   "source": [
    "data.info()"
   ]
  },
  {
   "cell_type": "code",
   "execution_count": 21,
   "metadata": {},
   "outputs": [
    {
     "data": {
      "text/html": [
       "<div>\n",
       "<style scoped>\n",
       "    .dataframe tbody tr th:only-of-type {\n",
       "        vertical-align: middle;\n",
       "    }\n",
       "\n",
       "    .dataframe tbody tr th {\n",
       "        vertical-align: top;\n",
       "    }\n",
       "\n",
       "    .dataframe thead th {\n",
       "        text-align: right;\n",
       "    }\n",
       "</style>\n",
       "<table border=\"1\" class=\"dataframe\">\n",
       "  <thead>\n",
       "    <tr style=\"text-align: right;\">\n",
       "      <th></th>\n",
       "      <th>children</th>\n",
       "      <th>days_employed</th>\n",
       "      <th>dob_years</th>\n",
       "      <th>education</th>\n",
       "      <th>education_id</th>\n",
       "      <th>family_status</th>\n",
       "      <th>family_status_id</th>\n",
       "      <th>gender</th>\n",
       "      <th>income_type</th>\n",
       "      <th>debt</th>\n",
       "      <th>total_income</th>\n",
       "      <th>purpose</th>\n",
       "      <th>years_employed</th>\n",
       "    </tr>\n",
       "  </thead>\n",
       "  <tbody>\n",
       "    <tr>\n",
       "      <td>0</td>\n",
       "      <td>1</td>\n",
       "      <td>8437.673028</td>\n",
       "      <td>42</td>\n",
       "      <td>высшее</td>\n",
       "      <td>0</td>\n",
       "      <td>женат / замужем</td>\n",
       "      <td>0</td>\n",
       "      <td>F</td>\n",
       "      <td>сотрудник</td>\n",
       "      <td>0</td>\n",
       "      <td>253875.639453</td>\n",
       "      <td>покупка жилья</td>\n",
       "      <td>23.116912</td>\n",
       "    </tr>\n",
       "    <tr>\n",
       "      <td>1</td>\n",
       "      <td>1</td>\n",
       "      <td>4024.803754</td>\n",
       "      <td>36</td>\n",
       "      <td>среднее</td>\n",
       "      <td>1</td>\n",
       "      <td>женат / замужем</td>\n",
       "      <td>0</td>\n",
       "      <td>F</td>\n",
       "      <td>сотрудник</td>\n",
       "      <td>0</td>\n",
       "      <td>112080.014102</td>\n",
       "      <td>приобретение автомобиля</td>\n",
       "      <td>11.026860</td>\n",
       "    </tr>\n",
       "    <tr>\n",
       "      <td>2</td>\n",
       "      <td>0</td>\n",
       "      <td>5623.422610</td>\n",
       "      <td>33</td>\n",
       "      <td>Среднее</td>\n",
       "      <td>1</td>\n",
       "      <td>женат / замужем</td>\n",
       "      <td>0</td>\n",
       "      <td>M</td>\n",
       "      <td>сотрудник</td>\n",
       "      <td>0</td>\n",
       "      <td>145885.952297</td>\n",
       "      <td>покупка жилья</td>\n",
       "      <td>15.406637</td>\n",
       "    </tr>\n",
       "    <tr>\n",
       "      <td>3</td>\n",
       "      <td>3</td>\n",
       "      <td>4124.747207</td>\n",
       "      <td>32</td>\n",
       "      <td>среднее</td>\n",
       "      <td>1</td>\n",
       "      <td>женат / замужем</td>\n",
       "      <td>0</td>\n",
       "      <td>M</td>\n",
       "      <td>сотрудник</td>\n",
       "      <td>0</td>\n",
       "      <td>267628.550329</td>\n",
       "      <td>дополнительное образование</td>\n",
       "      <td>11.300677</td>\n",
       "    </tr>\n",
       "    <tr>\n",
       "      <td>4</td>\n",
       "      <td>0</td>\n",
       "      <td>18250.000000</td>\n",
       "      <td>53</td>\n",
       "      <td>среднее</td>\n",
       "      <td>1</td>\n",
       "      <td>гражданский брак</td>\n",
       "      <td>1</td>\n",
       "      <td>F</td>\n",
       "      <td>пенсионер</td>\n",
       "      <td>0</td>\n",
       "      <td>158616.077870</td>\n",
       "      <td>сыграть свадьбу</td>\n",
       "      <td>50.000000</td>\n",
       "    </tr>\n",
       "    <tr>\n",
       "      <td>5</td>\n",
       "      <td>0</td>\n",
       "      <td>926.185831</td>\n",
       "      <td>27</td>\n",
       "      <td>высшее</td>\n",
       "      <td>0</td>\n",
       "      <td>гражданский брак</td>\n",
       "      <td>1</td>\n",
       "      <td>M</td>\n",
       "      <td>компаньон</td>\n",
       "      <td>0</td>\n",
       "      <td>255763.565419</td>\n",
       "      <td>покупка жилья</td>\n",
       "      <td>2.537495</td>\n",
       "    </tr>\n",
       "    <tr>\n",
       "      <td>6</td>\n",
       "      <td>0</td>\n",
       "      <td>2879.202052</td>\n",
       "      <td>43</td>\n",
       "      <td>высшее</td>\n",
       "      <td>0</td>\n",
       "      <td>женат / замужем</td>\n",
       "      <td>0</td>\n",
       "      <td>F</td>\n",
       "      <td>компаньон</td>\n",
       "      <td>0</td>\n",
       "      <td>240525.971920</td>\n",
       "      <td>операции с жильем</td>\n",
       "      <td>7.888225</td>\n",
       "    </tr>\n",
       "    <tr>\n",
       "      <td>7</td>\n",
       "      <td>0</td>\n",
       "      <td>152.779569</td>\n",
       "      <td>50</td>\n",
       "      <td>СРЕДНЕЕ</td>\n",
       "      <td>1</td>\n",
       "      <td>женат / замужем</td>\n",
       "      <td>0</td>\n",
       "      <td>M</td>\n",
       "      <td>сотрудник</td>\n",
       "      <td>0</td>\n",
       "      <td>135823.934197</td>\n",
       "      <td>образование</td>\n",
       "      <td>0.418574</td>\n",
       "    </tr>\n",
       "    <tr>\n",
       "      <td>8</td>\n",
       "      <td>2</td>\n",
       "      <td>6929.865299</td>\n",
       "      <td>35</td>\n",
       "      <td>ВЫСШЕЕ</td>\n",
       "      <td>0</td>\n",
       "      <td>гражданский брак</td>\n",
       "      <td>1</td>\n",
       "      <td>F</td>\n",
       "      <td>сотрудник</td>\n",
       "      <td>0</td>\n",
       "      <td>95856.832424</td>\n",
       "      <td>на проведение свадьбы</td>\n",
       "      <td>18.985932</td>\n",
       "    </tr>\n",
       "    <tr>\n",
       "      <td>9</td>\n",
       "      <td>0</td>\n",
       "      <td>2188.756445</td>\n",
       "      <td>41</td>\n",
       "      <td>среднее</td>\n",
       "      <td>1</td>\n",
       "      <td>женат / замужем</td>\n",
       "      <td>0</td>\n",
       "      <td>M</td>\n",
       "      <td>сотрудник</td>\n",
       "      <td>0</td>\n",
       "      <td>144425.938277</td>\n",
       "      <td>покупка жилья для семьи</td>\n",
       "      <td>5.996593</td>\n",
       "    </tr>\n",
       "  </tbody>\n",
       "</table>\n",
       "</div>"
      ],
      "text/plain": [
       "   children  days_employed  dob_years education  education_id  \\\n",
       "0         1    8437.673028         42    высшее             0   \n",
       "1         1    4024.803754         36   среднее             1   \n",
       "2         0    5623.422610         33   Среднее             1   \n",
       "3         3    4124.747207         32   среднее             1   \n",
       "4         0   18250.000000         53   среднее             1   \n",
       "5         0     926.185831         27    высшее             0   \n",
       "6         0    2879.202052         43    высшее             0   \n",
       "7         0     152.779569         50   СРЕДНЕЕ             1   \n",
       "8         2    6929.865299         35    ВЫСШЕЕ             0   \n",
       "9         0    2188.756445         41   среднее             1   \n",
       "\n",
       "      family_status  family_status_id gender income_type  debt   total_income  \\\n",
       "0   женат / замужем                 0      F   сотрудник     0  253875.639453   \n",
       "1   женат / замужем                 0      F   сотрудник     0  112080.014102   \n",
       "2   женат / замужем                 0      M   сотрудник     0  145885.952297   \n",
       "3   женат / замужем                 0      M   сотрудник     0  267628.550329   \n",
       "4  гражданский брак                 1      F   пенсионер     0  158616.077870   \n",
       "5  гражданский брак                 1      M   компаньон     0  255763.565419   \n",
       "6   женат / замужем                 0      F   компаньон     0  240525.971920   \n",
       "7   женат / замужем                 0      M   сотрудник     0  135823.934197   \n",
       "8  гражданский брак                 1      F   сотрудник     0   95856.832424   \n",
       "9   женат / замужем                 0      M   сотрудник     0  144425.938277   \n",
       "\n",
       "                      purpose  years_employed  \n",
       "0               покупка жилья       23.116912  \n",
       "1     приобретение автомобиля       11.026860  \n",
       "2               покупка жилья       15.406637  \n",
       "3  дополнительное образование       11.300677  \n",
       "4             сыграть свадьбу       50.000000  \n",
       "5               покупка жилья        2.537495  \n",
       "6           операции с жильем        7.888225  \n",
       "7                 образование        0.418574  \n",
       "8       на проведение свадьбы       18.985932  \n",
       "9     покупка жилья для семьи        5.996593  "
      ]
     },
     "execution_count": 21,
     "metadata": {},
     "output_type": "execute_result"
    }
   ],
   "source": [
    "data.head(10)"
   ]
  },
  {
   "cell_type": "markdown",
   "metadata": {},
   "source": [
    "**Вывод**\n"
   ]
  },
  {
   "cell_type": "markdown",
   "metadata": {},
   "source": [
    "Пропущенные данные были обнаружены в строках \"общий трудовой стаж в днях\" и \"ежемесячный доход\". При этом пропуски коррелируют между собой, и если у клиента отсутствовала информация о стаже, то отсутствовала и о доходе. Пропуски данных были у в категориях госслужащий, компаньон, пенсионер, предприниматель, сотрудник, это категории занятости при которых оба значения должны были бы быть. Возможно клиенты сознательно не указывали эти данные потому что скрывали или пропуски получились в результате технической ошибки при формировании таблицы.\n",
    "Пропуски в данных о трудовом стаже заменили на среднее значение трудового стажа. Для корректного отображения среднего трудового стажа перевели отрицательные значения стажа в абсолютные и заменили завышенные значения трудового стажа. Так у некоторых клиентов величина была завышена до 1000 лет. Помимо очень большой величины обращает внимание тот факт что это дробная величина с точностью до 6 знака после запятой. Вероятно это техническая ошибка при заполнении анкеты или при формировании таблицы. Уменьшили стаж безработных клиентов в 100 раз, а клиентам-пенсионерам до 50 лет.\n",
    "Пропуски данных о ежемесячных доходах заменили на средние значения по катерогиям типа занятости."
   ]
  },
  {
   "cell_type": "markdown",
   "metadata": {},
   "source": [
    "### Замена типа данных"
   ]
  },
  {
   "cell_type": "markdown",
   "metadata": {},
   "source": [
    "У столбца \"days_employed\" (общий трудовой стаж в днях) тип данных float64, тогда так логичнее что бы это были целочисленные данные.\n",
    "Вещественные данные в целочисленные переводят методом astype()."
   ]
  },
  {
   "cell_type": "code",
   "execution_count": 22,
   "metadata": {},
   "outputs": [
    {
     "name": "stdout",
     "output_type": "stream",
     "text": [
      "<class 'pandas.core.frame.DataFrame'>\n",
      "RangeIndex: 21525 entries, 0 to 21524\n",
      "Data columns (total 13 columns):\n",
      "children            21525 non-null int64\n",
      "days_employed       21525 non-null int64\n",
      "dob_years           21525 non-null int64\n",
      "education           21525 non-null object\n",
      "education_id        21525 non-null int64\n",
      "family_status       21525 non-null object\n",
      "family_status_id    21525 non-null int64\n",
      "gender              21525 non-null object\n",
      "income_type         21525 non-null object\n",
      "debt                21525 non-null int64\n",
      "total_income        21525 non-null float64\n",
      "purpose             21525 non-null object\n",
      "years_employed      21525 non-null float64\n",
      "dtypes: float64(2), int64(6), object(5)\n",
      "memory usage: 2.1+ MB\n"
     ]
    }
   ],
   "source": [
    "data['days_employed'] = data['days_employed'].astype('int')\n",
    "data.info()"
   ]
  },
  {
   "cell_type": "markdown",
   "metadata": {},
   "source": [
    "**Вывод**\n"
   ]
  },
  {
   "cell_type": "markdown",
   "metadata": {},
   "source": [
    "заменили тип данных в столбце \"days_employed\" (общий трудовой стаж в днях) на целочисленные (int64)."
   ]
  },
  {
   "cell_type": "markdown",
   "metadata": {},
   "source": [
    "### Обработка дубликатов"
   ]
  },
  {
   "cell_type": "markdown",
   "metadata": {},
   "source": [
    "Посчитаем количество дубликатов в таблице методом value_counts()."
   ]
  },
  {
   "cell_type": "code",
   "execution_count": 23,
   "metadata": {},
   "outputs": [
    {
     "data": {
      "text/plain": [
       "False    21471\n",
       "True        54\n",
       "dtype: int64"
      ]
     },
     "execution_count": 23,
     "metadata": {},
     "output_type": "execute_result"
    }
   ],
   "source": [
    "data.duplicated().value_counts()"
   ]
  },
  {
   "cell_type": "code",
   "execution_count": 24,
   "metadata": {},
   "outputs": [
    {
     "data": {
      "text/plain": [
       "0.25150202598854265"
      ]
     },
     "execution_count": 24,
     "metadata": {},
     "output_type": "execute_result"
    }
   ],
   "source": [
    "54/21471*100"
   ]
  },
  {
   "cell_type": "markdown",
   "metadata": {},
   "source": [
    "Дублирующих значений 0,25%, такое небольшое количество дубликатов могло быть следствием полностью случайной ошибки, например при заполнении таблицы сотрудник отвлекся и записал в базу данных одного и того же клиента дважды.\n",
    "Эти данные не внесут существенного вклада в дальнейшее исследование, их можно удалить методом drop_duplicates().\n",
    "После чего проверим число дубликатов методом duplicated()."
   ]
  },
  {
   "cell_type": "code",
   "execution_count": 25,
   "metadata": {},
   "outputs": [
    {
     "data": {
      "text/plain": [
       "0"
      ]
     },
     "execution_count": 25,
     "metadata": {},
     "output_type": "execute_result"
    }
   ],
   "source": [
    "data = data.drop_duplicates().reset_index(drop=True)\n",
    "data.duplicated().sum()"
   ]
  },
  {
   "cell_type": "markdown",
   "metadata": {},
   "source": [
    "**Вывод**\n"
   ]
  },
  {
   "cell_type": "markdown",
   "metadata": {},
   "source": [
    "Удалили дубликаты данных."
   ]
  },
  {
   "cell_type": "markdown",
   "metadata": {},
   "source": [
    "### Лемматизация"
   ]
  },
  {
   "cell_type": "markdown",
   "metadata": {},
   "source": [
    "Импортируем библиотеку pymystem3"
   ]
  },
  {
   "cell_type": "code",
   "execution_count": 26,
   "metadata": {},
   "outputs": [],
   "source": [
    "from pymystem3 import Mystem\n",
    "m = Mystem()"
   ]
  },
  {
   "cell_type": "markdown",
   "metadata": {},
   "source": [
    "Лемматизируем слова в значениях столбца с целями получения кредита и посчитаем сколько раз встречается каждое слово.\n",
    "Выведем слова и частоту на экран."
   ]
  },
  {
   "cell_type": "code",
   "execution_count": 27,
   "metadata": {
    "scrolled": true
   },
   "outputs": [
    {
     "name": "stdout",
     "output_type": "stream",
     "text": [
      "Counter({' ': 55066, 'недвижимость': 6353, 'покупка': 5900, 'жилье': 4461, 'автомобиль': 4308, 'образование': 4014, 'с': 2918, 'операция': 2604, 'свадьба': 2335, 'свой': 2231, 'на': 2228, 'строительство': 1879, 'высокий': 1374, 'получение': 1315, 'коммерческий': 1312, 'для': 1290, 'жилой': 1231, 'сделка': 941, 'дополнительный': 907, 'заниматься': 904, 'подержать': 853, 'проведение': 773, 'сыграть': 769, 'сдача': 652, 'семья': 638, 'собственный': 635, 'со': 627, 'ремонт': 607, 'приобретение': 461, 'профильный': 436, 'подержанный': 111, '\\n': 1})\n"
     ]
    }
   ],
   "source": [
    "text =  ' '.join(data['purpose'])\n",
    "lemmas = m.lemmatize(text)\n",
    "from collections import Counter\n",
    "print(Counter(lemmas))"
   ]
  },
  {
   "cell_type": "code",
   "execution_count": 28,
   "metadata": {},
   "outputs": [
    {
     "name": "stdout",
     "output_type": "stream",
     "text": [
      "   children  days_employed  dob_years education  education_id  \\\n",
      "0         1           8437         42    высшее             0   \n",
      "1         1           4024         36   среднее             1   \n",
      "2         0           5623         33   Среднее             1   \n",
      "3         3           4124         32   среднее             1   \n",
      "4         0          18250         53   среднее             1   \n",
      "\n",
      "      family_status  family_status_id gender income_type  debt   total_income  \\\n",
      "0   женат / замужем                 0      F   сотрудник     0  253875.639453   \n",
      "1   женат / замужем                 0      F   сотрудник     0  112080.014102   \n",
      "2   женат / замужем                 0      M   сотрудник     0  145885.952297   \n",
      "3   женат / замужем                 0      M   сотрудник     0  267628.550329   \n",
      "4  гражданский брак                 1      F   пенсионер     0  158616.077870   \n",
      "\n",
      "                      purpose  years_employed  \\\n",
      "0               покупка жилья       23.116912   \n",
      "1     приобретение автомобиля       11.026860   \n",
      "2               покупка жилья       15.406637   \n",
      "3  дополнительное образование       11.300677   \n",
      "4             сыграть свадьбу       50.000000   \n",
      "\n",
      "                         purpose_lemmas  \n",
      "0               [покупка,  , жилье, \\n]  \n",
      "1     [приобретение,  , автомобиль, \\n]  \n",
      "2               [покупка,  , жилье, \\n]  \n",
      "3  [дополнительный,  , образование, \\n]  \n",
      "4             [сыграть,  , свадьба, \\n]  \n"
     ]
    }
   ],
   "source": [
    "data['purpose_lemmas'] = data['purpose'].apply(m.lemmatize)\n",
    "print(data.head())"
   ]
  },
  {
   "cell_type": "markdown",
   "metadata": {},
   "source": [
    "**Вывод**\n"
   ]
  },
  {
   "cell_type": "markdown",
   "metadata": {},
   "source": [
    "Чаще всего кредит берут для покупки недвижимости (жилой и коммерческой), покупки автомобиля, оплаты образования, проведения свадьбы и ремонта."
   ]
  },
  {
   "cell_type": "markdown",
   "metadata": {},
   "source": [
    "### Категоризация данных"
   ]
  },
  {
   "cell_type": "markdown",
   "metadata": {},
   "source": [
    "Уточним сколько детей встречается у клиентов банка."
   ]
  },
  {
   "cell_type": "code",
   "execution_count": 29,
   "metadata": {},
   "outputs": [
    {
     "data": {
      "text/plain": [
       " 0     14107\n",
       " 1      4809\n",
       " 2      2052\n",
       " 3       330\n",
       " 20       76\n",
       "-1        47\n",
       " 4        41\n",
       " 5         9\n",
       "Name: children, dtype: int64"
      ]
     },
     "execution_count": 29,
     "metadata": {},
     "output_type": "execute_result"
    }
   ],
   "source": [
    " data['children'].value_counts()"
   ]
  },
  {
   "cell_type": "markdown",
   "metadata": {},
   "source": [
    "В колонке с количеством детей есть данные с отричательным занчением. Переведем их в вещественные."
   ]
  },
  {
   "cell_type": "code",
   "execution_count": 30,
   "metadata": {},
   "outputs": [],
   "source": [
    "data['children'] = data['children'].abs()"
   ]
  },
  {
   "cell_type": "markdown",
   "metadata": {},
   "source": [
    "Так же есть клинты указавшие 20 детей, посмотрим в какой возрастной категирии они находятся."
   ]
  },
  {
   "cell_type": "code",
   "execution_count": 31,
   "metadata": {},
   "outputs": [
    {
     "name": "stdout",
     "output_type": "stream",
     "text": [
      "          children      \n",
      "               max count\n",
      "dob_years               \n",
      "0               20   101\n",
      "19               0    14\n",
      "20               2    51\n",
      "21              20   111\n",
      "22               2   183\n",
      "23              20   253\n",
      "24              20   264\n",
      "25              20   357\n",
      "26              20   408\n",
      "27              20   493\n",
      "28               4   503\n",
      "29              20   544\n",
      "30              20   538\n",
      "31              20   559\n",
      "32              20   509\n",
      "33              20   581\n",
      "34              20   601\n",
      "35              20   616\n",
      "36              20   554\n",
      "37              20   536\n",
      "38              20   597\n",
      "39              20   572\n",
      "40              20   607\n",
      "41              20   606\n",
      "42              20   596\n",
      "43              20   512\n",
      "44              20   545\n",
      "45              20   497\n",
      "46              20   473\n",
      "47               3   477\n",
      "48              20   537\n",
      "49              20   508\n",
      "50              20   513\n",
      "51              20   448\n",
      "52              20   484\n",
      "53              20   459\n",
      "54              20   476\n",
      "55              20   443\n",
      "56              20   484\n",
      "57              20   456\n",
      "58               2   456\n",
      "59              20   443\n",
      "60              20   374\n",
      "61              20   354\n",
      "62              20   349\n",
      "63               3   269\n",
      "64              20   262\n",
      "65               1   194\n",
      "66               1   182\n",
      "67               1   167\n",
      "68               1    99\n",
      "69              20    85\n",
      "70               1    65\n",
      "71               1    58\n",
      "72               1    33\n",
      "73               1     8\n",
      "74               0     6\n",
      "75               0     1\n"
     ]
    }
   ],
   "source": [
    "children_data_grouped = data.groupby('dob_years').agg({'children': [ 'max', 'count']})\n",
    "print(children_data_grouped)"
   ]
  },
  {
   "cell_type": "markdown",
   "metadata": {},
   "source": [
    "По 20 детей указали пользователи всех возрастных групп (с возрастами 0, 21, 23-27, 29-46, 48-57, 59-63, 64, 69), в в целом это нереальное число детей для любой возрастной группы.\n",
    "проверим сколько процентов пользователей с таким числом детей."
   ]
  },
  {
   "cell_type": "code",
   "execution_count": 32,
   "metadata": {},
   "outputs": [
    {
     "data": {
      "text/plain": [
       "0.33914053426248547"
      ]
     },
     "execution_count": 32,
     "metadata": {},
     "output_type": "execute_result"
    }
   ],
   "source": [
    "73/21525*100"
   ]
  },
  {
   "cell_type": "markdown",
   "metadata": {},
   "source": [
    "0.3% данных, величина которой можно принебречь и не выяснять причины по которым появилась ошибка. Удалим данные о пользователях с завышенным количеством детей."
   ]
  },
  {
   "cell_type": "code",
   "execution_count": 33,
   "metadata": {},
   "outputs": [
    {
     "data": {
      "text/plain": [
       "0.0    14107\n",
       "1.0     4856\n",
       "2.0     2052\n",
       "3.0      330\n",
       "4.0       41\n",
       "5.0        9\n",
       "Name: children, dtype: int64"
      ]
     },
     "execution_count": 33,
     "metadata": {},
     "output_type": "execute_result"
    }
   ],
   "source": [
    "data['children'] = data['children'].loc[data['children'] < 20]\n",
    "data['children'].value_counts()"
   ]
  },
  {
   "cell_type": "markdown",
   "metadata": {},
   "source": [
    "Сгруппируем данные по количеству детей."
   ]
  },
  {
   "cell_type": "markdown",
   "metadata": {},
   "source": [
    "Создадим таблицу data_children в которую перенесем столбцы 'children' и 'debt'."
   ]
  },
  {
   "cell_type": "code",
   "execution_count": 34,
   "metadata": {},
   "outputs": [
    {
     "data": {
      "text/html": [
       "<div>\n",
       "<style scoped>\n",
       "    .dataframe tbody tr th:only-of-type {\n",
       "        vertical-align: middle;\n",
       "    }\n",
       "\n",
       "    .dataframe tbody tr th {\n",
       "        vertical-align: top;\n",
       "    }\n",
       "\n",
       "    .dataframe thead th {\n",
       "        text-align: right;\n",
       "    }\n",
       "</style>\n",
       "<table border=\"1\" class=\"dataframe\">\n",
       "  <thead>\n",
       "    <tr style=\"text-align: right;\">\n",
       "      <th></th>\n",
       "      <th>children</th>\n",
       "      <th>debt</th>\n",
       "    </tr>\n",
       "  </thead>\n",
       "  <tbody>\n",
       "    <tr>\n",
       "      <td>0</td>\n",
       "      <td>1.0</td>\n",
       "      <td>0</td>\n",
       "    </tr>\n",
       "    <tr>\n",
       "      <td>1</td>\n",
       "      <td>1.0</td>\n",
       "      <td>0</td>\n",
       "    </tr>\n",
       "    <tr>\n",
       "      <td>2</td>\n",
       "      <td>0.0</td>\n",
       "      <td>0</td>\n",
       "    </tr>\n",
       "    <tr>\n",
       "      <td>3</td>\n",
       "      <td>3.0</td>\n",
       "      <td>0</td>\n",
       "    </tr>\n",
       "    <tr>\n",
       "      <td>4</td>\n",
       "      <td>0.0</td>\n",
       "      <td>0</td>\n",
       "    </tr>\n",
       "  </tbody>\n",
       "</table>\n",
       "</div>"
      ],
      "text/plain": [
       "   children  debt\n",
       "0       1.0     0\n",
       "1       1.0     0\n",
       "2       0.0     0\n",
       "3       3.0     0\n",
       "4       0.0     0"
      ]
     },
     "execution_count": 34,
     "metadata": {},
     "output_type": "execute_result"
    }
   ],
   "source": [
    "data_children = data[['children', 'debt']]\n",
    "data_children.head()"
   ]
  },
  {
   "cell_type": "markdown",
   "metadata": {},
   "source": [
    "Запишем правила классификации клиентов как функции. На вход функции попадает количество детей, а возвращает она категорию клиента."
   ]
  },
  {
   "cell_type": "code",
   "execution_count": 35,
   "metadata": {},
   "outputs": [],
   "source": [
    "def children_group(childrens):\n",
    "    if childrens< 1:\n",
    "        return 'без детей'\n",
    "    if childrens<=2 or childrens>=4 or childrens>=5:\n",
    "        return '1-2 детей'\n",
    "    return 'многодетный'"
   ]
  },
  {
   "cell_type": "markdown",
   "metadata": {},
   "source": [
    "Создадим отдельный столбец с категориями количества детей, и в его ячейках запишем значения, возвращаемые функцией.\n",
    "Для этого нужен метод apply()"
   ]
  },
  {
   "cell_type": "code",
   "execution_count": 36,
   "metadata": {},
   "outputs": [
    {
     "name": "stderr",
     "output_type": "stream",
     "text": [
      "/opt/conda/lib/python3.7/site-packages/ipykernel_launcher.py:1: SettingWithCopyWarning: \n",
      "A value is trying to be set on a copy of a slice from a DataFrame.\n",
      "Try using .loc[row_indexer,col_indexer] = value instead\n",
      "\n",
      "See the caveats in the documentation: http://pandas.pydata.org/pandas-docs/stable/user_guide/indexing.html#returning-a-view-versus-a-copy\n",
      "  \"\"\"Entry point for launching an IPython kernel.\n"
     ]
    },
    {
     "data": {
      "text/html": [
       "<div>\n",
       "<style scoped>\n",
       "    .dataframe tbody tr th:only-of-type {\n",
       "        vertical-align: middle;\n",
       "    }\n",
       "\n",
       "    .dataframe tbody tr th {\n",
       "        vertical-align: top;\n",
       "    }\n",
       "\n",
       "    .dataframe thead th {\n",
       "        text-align: right;\n",
       "    }\n",
       "</style>\n",
       "<table border=\"1\" class=\"dataframe\">\n",
       "  <thead>\n",
       "    <tr style=\"text-align: right;\">\n",
       "      <th></th>\n",
       "      <th>children</th>\n",
       "      <th>debt</th>\n",
       "      <th>children_group</th>\n",
       "    </tr>\n",
       "  </thead>\n",
       "  <tbody>\n",
       "    <tr>\n",
       "      <td>0</td>\n",
       "      <td>1.0</td>\n",
       "      <td>0</td>\n",
       "      <td>1-2 детей</td>\n",
       "    </tr>\n",
       "    <tr>\n",
       "      <td>1</td>\n",
       "      <td>1.0</td>\n",
       "      <td>0</td>\n",
       "      <td>1-2 детей</td>\n",
       "    </tr>\n",
       "    <tr>\n",
       "      <td>2</td>\n",
       "      <td>0.0</td>\n",
       "      <td>0</td>\n",
       "      <td>без детей</td>\n",
       "    </tr>\n",
       "    <tr>\n",
       "      <td>3</td>\n",
       "      <td>3.0</td>\n",
       "      <td>0</td>\n",
       "      <td>многодетный</td>\n",
       "    </tr>\n",
       "    <tr>\n",
       "      <td>4</td>\n",
       "      <td>0.0</td>\n",
       "      <td>0</td>\n",
       "      <td>без детей</td>\n",
       "    </tr>\n",
       "    <tr>\n",
       "      <td>5</td>\n",
       "      <td>0.0</td>\n",
       "      <td>0</td>\n",
       "      <td>без детей</td>\n",
       "    </tr>\n",
       "    <tr>\n",
       "      <td>6</td>\n",
       "      <td>0.0</td>\n",
       "      <td>0</td>\n",
       "      <td>без детей</td>\n",
       "    </tr>\n",
       "    <tr>\n",
       "      <td>7</td>\n",
       "      <td>0.0</td>\n",
       "      <td>0</td>\n",
       "      <td>без детей</td>\n",
       "    </tr>\n",
       "    <tr>\n",
       "      <td>8</td>\n",
       "      <td>2.0</td>\n",
       "      <td>0</td>\n",
       "      <td>1-2 детей</td>\n",
       "    </tr>\n",
       "    <tr>\n",
       "      <td>9</td>\n",
       "      <td>0.0</td>\n",
       "      <td>0</td>\n",
       "      <td>без детей</td>\n",
       "    </tr>\n",
       "  </tbody>\n",
       "</table>\n",
       "</div>"
      ],
      "text/plain": [
       "   children  debt children_group\n",
       "0       1.0     0      1-2 детей\n",
       "1       1.0     0      1-2 детей\n",
       "2       0.0     0      без детей\n",
       "3       3.0     0    многодетный\n",
       "4       0.0     0      без детей\n",
       "5       0.0     0      без детей\n",
       "6       0.0     0      без детей\n",
       "7       0.0     0      без детей\n",
       "8       2.0     0      1-2 детей\n",
       "9       0.0     0      без детей"
      ]
     },
     "execution_count": 36,
     "metadata": {},
     "output_type": "execute_result"
    }
   ],
   "source": [
    "data_children['children_group'] = data_children['children'].apply(children_group)\n",
    "data_children.head(10)"
   ]
  },
  {
   "cell_type": "markdown",
   "metadata": {},
   "source": [
    "В столбце family_status значится семейный статус клиентов, в столбце family_status_id — кодовое числовое значание семейного статусаи, а просрочки платежа — целые числа в столбце debt. Количество клиентов каждого семеного статуса можно посчитать методом value_counts(). Посчитаем количества клиентов из каждой группы семейного статуса и их кодового обозначения, в том числе что бы понять что значат эти кодовые обозначения."
   ]
  },
  {
   "cell_type": "code",
   "execution_count": 37,
   "metadata": {},
   "outputs": [
    {
     "data": {
      "text/plain": [
       "женат / замужем          12344\n",
       "гражданский брак          4163\n",
       "Не женат / не замужем     2810\n",
       "в разводе                 1195\n",
       "вдовец / вдова             959\n",
       "Name: family_status, dtype: int64"
      ]
     },
     "execution_count": 37,
     "metadata": {},
     "output_type": "execute_result"
    }
   ],
   "source": [
    "data['family_status'].value_counts()"
   ]
  },
  {
   "cell_type": "code",
   "execution_count": 38,
   "metadata": {},
   "outputs": [
    {
     "data": {
      "text/plain": [
       "0    12344\n",
       "1     4163\n",
       "4     2810\n",
       "3     1195\n",
       "2      959\n",
       "Name: family_status_id, dtype: int64"
      ]
     },
     "execution_count": 38,
     "metadata": {},
     "output_type": "execute_result"
    }
   ],
   "source": [
    "data['family_status_id'].value_counts()"
   ]
  },
  {
   "cell_type": "markdown",
   "metadata": {},
   "source": [
    "Таким образом получаются следующие значения кода семейного статуса:\n",
    "0 - женат / замужем;\n",
    "1 - гражданский брак;\n",
    "2 - вдовец / вдова;\n",
    "3 - в разводе;\n",
    "4 - не женат / не замужем.\n",
    "Количество клиентов в каждой категории находятся в пределах одного порядка, объединять группы тоже нет смысла, так как психология и поведение у данных групп может быть разным.\n",
    "'family_status_id' может выступать в роли колонки категоризации, так как в ней зашифрована категория семейного положения."
   ]
  },
  {
   "cell_type": "markdown",
   "metadata": {},
   "source": [
    "Создадим таблицу data_family в которую перенесем столбцы 'family_status', 'family_status_id' и 'debt'."
   ]
  },
  {
   "cell_type": "code",
   "execution_count": 39,
   "metadata": {},
   "outputs": [
    {
     "data": {
      "text/html": [
       "<div>\n",
       "<style scoped>\n",
       "    .dataframe tbody tr th:only-of-type {\n",
       "        vertical-align: middle;\n",
       "    }\n",
       "\n",
       "    .dataframe tbody tr th {\n",
       "        vertical-align: top;\n",
       "    }\n",
       "\n",
       "    .dataframe thead th {\n",
       "        text-align: right;\n",
       "    }\n",
       "</style>\n",
       "<table border=\"1\" class=\"dataframe\">\n",
       "  <thead>\n",
       "    <tr style=\"text-align: right;\">\n",
       "      <th></th>\n",
       "      <th>family_status</th>\n",
       "      <th>family_status_id</th>\n",
       "      <th>debt</th>\n",
       "    </tr>\n",
       "  </thead>\n",
       "  <tbody>\n",
       "    <tr>\n",
       "      <td>0</td>\n",
       "      <td>женат / замужем</td>\n",
       "      <td>0</td>\n",
       "      <td>0</td>\n",
       "    </tr>\n",
       "    <tr>\n",
       "      <td>1</td>\n",
       "      <td>женат / замужем</td>\n",
       "      <td>0</td>\n",
       "      <td>0</td>\n",
       "    </tr>\n",
       "    <tr>\n",
       "      <td>2</td>\n",
       "      <td>женат / замужем</td>\n",
       "      <td>0</td>\n",
       "      <td>0</td>\n",
       "    </tr>\n",
       "    <tr>\n",
       "      <td>3</td>\n",
       "      <td>женат / замужем</td>\n",
       "      <td>0</td>\n",
       "      <td>0</td>\n",
       "    </tr>\n",
       "    <tr>\n",
       "      <td>4</td>\n",
       "      <td>гражданский брак</td>\n",
       "      <td>1</td>\n",
       "      <td>0</td>\n",
       "    </tr>\n",
       "  </tbody>\n",
       "</table>\n",
       "</div>"
      ],
      "text/plain": [
       "      family_status  family_status_id  debt\n",
       "0   женат / замужем                 0     0\n",
       "1   женат / замужем                 0     0\n",
       "2   женат / замужем                 0     0\n",
       "3   женат / замужем                 0     0\n",
       "4  гражданский брак                 1     0"
      ]
     },
     "execution_count": 39,
     "metadata": {},
     "output_type": "execute_result"
    }
   ],
   "source": [
    "data_family = data[['family_status', 'family_status_id', 'debt']]\n",
    "data_family.head()"
   ]
  },
  {
   "cell_type": "markdown",
   "metadata": {},
   "source": [
    "Познакомимся с данными о зарплатах зарплат у клиентов."
   ]
  },
  {
   "cell_type": "code",
   "execution_count": 40,
   "metadata": {},
   "outputs": [
    {
     "data": {
      "text/plain": [
       "141825.901103       1\n",
       "162416.137763       1\n",
       "122140.327609       1\n",
       "175780.973093       1\n",
       "128056.263801       1\n",
       "                 ... \n",
       "499163.144947       2\n",
       "150447.935283     145\n",
       "118514.486412     395\n",
       "172357.950966     504\n",
       "142594.396847    1077\n",
       "Name: total_income, Length: 19353, dtype: int64"
      ]
     },
     "execution_count": 40,
     "metadata": {},
     "output_type": "execute_result"
    }
   ],
   "source": [
    "data['total_income'].value_counts().sort_values()\n"
   ]
  },
  {
   "cell_type": "code",
   "execution_count": 41,
   "metadata": {},
   "outputs": [
    {
     "data": {
      "text/plain": [
       "20667.26379327158"
      ]
     },
     "execution_count": 41,
     "metadata": {},
     "output_type": "execute_result"
    }
   ],
   "source": [
    "data['total_income'].min()"
   ]
  },
  {
   "cell_type": "code",
   "execution_count": 42,
   "metadata": {},
   "outputs": [
    {
     "data": {
      "text/plain": [
       "2265604.028722744"
      ]
     },
     "execution_count": 42,
     "metadata": {},
     "output_type": "execute_result"
    }
   ],
   "source": [
    "data['total_income'].max()"
   ]
  },
  {
   "cell_type": "code",
   "execution_count": 43,
   "metadata": {},
   "outputs": [
    {
     "data": {
      "text/plain": [
       "142594.39684740017"
      ]
     },
     "execution_count": 43,
     "metadata": {},
     "output_type": "execute_result"
    }
   ],
   "source": [
    "data['total_income'].median()"
   ]
  },
  {
   "cell_type": "markdown",
   "metadata": {},
   "source": [
    "Исходя из статистических данных можно выделить 5 групп клиентов по доходу:\n",
    "низкий - менее 70 тыс.\n",
    "ниже среднего - от 70 до 100 тыс.\n",
    "средний - от 100 до 140 тыс.\n",
    "выше среднего - от 140 до 200 тыс.\n",
    "высокий - от 200 до 300 тыс.\n",
    "сверхвысокий - более 300 тыс.\n",
    "\n",
    "Проверим количество клиентов в каждой из групп."
   ]
  },
  {
   "cell_type": "code",
   "execution_count": 44,
   "metadata": {},
   "outputs": [
    {
     "data": {
      "text/plain": [
       "1474"
      ]
     },
     "execution_count": 44,
     "metadata": {},
     "output_type": "execute_result"
    }
   ],
   "source": [
    "data[data['total_income']<70000]['total_income'].count()"
   ]
  },
  {
   "cell_type": "code",
   "execution_count": 45,
   "metadata": {},
   "outputs": [
    {
     "data": {
      "text/plain": [
       "2989"
      ]
     },
     "execution_count": 45,
     "metadata": {},
     "output_type": "execute_result"
    }
   ],
   "source": [
    "data[(data['total_income']>=70000) & (data['total_income']<100000)]['total_income'].count()\n"
   ]
  },
  {
   "cell_type": "code",
   "execution_count": 46,
   "metadata": {},
   "outputs": [
    {
     "data": {
      "text/plain": [
       "5036"
      ]
     },
     "execution_count": 46,
     "metadata": {},
     "output_type": "execute_result"
    }
   ],
   "source": [
    "data[(data['total_income']>=100000) & (data['total_income']<140000)]['total_income'].count()"
   ]
  },
  {
   "cell_type": "code",
   "execution_count": 47,
   "metadata": {},
   "outputs": [
    {
     "data": {
      "text/plain": [
       "6905"
      ]
     },
     "execution_count": 47,
     "metadata": {},
     "output_type": "execute_result"
    }
   ],
   "source": [
    "data[(data['total_income']>=140000) & (data['total_income']<200000)]['total_income'].count()"
   ]
  },
  {
   "cell_type": "code",
   "execution_count": 48,
   "metadata": {},
   "outputs": [
    {
     "data": {
      "text/plain": [
       "3584"
      ]
     },
     "execution_count": 48,
     "metadata": {},
     "output_type": "execute_result"
    }
   ],
   "source": [
    "data[(data['total_income']>=200000) & (data['total_income']<300000)]['total_income'].count()"
   ]
  },
  {
   "cell_type": "code",
   "execution_count": 49,
   "metadata": {},
   "outputs": [
    {
     "data": {
      "text/plain": [
       "1483"
      ]
     },
     "execution_count": 49,
     "metadata": {},
     "output_type": "execute_result"
    }
   ],
   "source": [
    "data[(data['total_income']>=300000)]['total_income'].count()"
   ]
  },
  {
   "cell_type": "markdown",
   "metadata": {},
   "source": [
    "Создадим таблицу data_income в которую перенесем столбцы 'total_income' и 'debt'."
   ]
  },
  {
   "cell_type": "code",
   "execution_count": 50,
   "metadata": {},
   "outputs": [
    {
     "data": {
      "text/html": [
       "<div>\n",
       "<style scoped>\n",
       "    .dataframe tbody tr th:only-of-type {\n",
       "        vertical-align: middle;\n",
       "    }\n",
       "\n",
       "    .dataframe tbody tr th {\n",
       "        vertical-align: top;\n",
       "    }\n",
       "\n",
       "    .dataframe thead th {\n",
       "        text-align: right;\n",
       "    }\n",
       "</style>\n",
       "<table border=\"1\" class=\"dataframe\">\n",
       "  <thead>\n",
       "    <tr style=\"text-align: right;\">\n",
       "      <th></th>\n",
       "      <th>total_income</th>\n",
       "      <th>debt</th>\n",
       "    </tr>\n",
       "  </thead>\n",
       "  <tbody>\n",
       "    <tr>\n",
       "      <td>0</td>\n",
       "      <td>253875.639453</td>\n",
       "      <td>0</td>\n",
       "    </tr>\n",
       "    <tr>\n",
       "      <td>1</td>\n",
       "      <td>112080.014102</td>\n",
       "      <td>0</td>\n",
       "    </tr>\n",
       "    <tr>\n",
       "      <td>2</td>\n",
       "      <td>145885.952297</td>\n",
       "      <td>0</td>\n",
       "    </tr>\n",
       "    <tr>\n",
       "      <td>3</td>\n",
       "      <td>267628.550329</td>\n",
       "      <td>0</td>\n",
       "    </tr>\n",
       "    <tr>\n",
       "      <td>4</td>\n",
       "      <td>158616.077870</td>\n",
       "      <td>0</td>\n",
       "    </tr>\n",
       "  </tbody>\n",
       "</table>\n",
       "</div>"
      ],
      "text/plain": [
       "    total_income  debt\n",
       "0  253875.639453     0\n",
       "1  112080.014102     0\n",
       "2  145885.952297     0\n",
       "3  267628.550329     0\n",
       "4  158616.077870     0"
      ]
     },
     "execution_count": 50,
     "metadata": {},
     "output_type": "execute_result"
    }
   ],
   "source": [
    "data_income = data[['total_income', 'debt']]\n",
    "data_income.head()"
   ]
  },
  {
   "cell_type": "markdown",
   "metadata": {},
   "source": [
    "Таким образом количество клиетов в группе с низким доходом приблизительно равно количеству с сверхвысоким, количество клиентов с высоким доходом и ниже среднего так же при грубой оценке равно, как и количество клиентов со средним и выше среднего доходами. такое количественное распределение по группам нас устраивает."
   ]
  },
  {
   "cell_type": "markdown",
   "metadata": {},
   "source": [
    "Запишем правила классификации клиентов по доходу как функцию. На вход функции попадает средний доход за месяц, а возвращает она категорию клиента."
   ]
  },
  {
   "cell_type": "code",
   "execution_count": 51,
   "metadata": {},
   "outputs": [],
   "source": [
    "def income_group(income):\n",
    "    if income < 70000:\n",
    "        return 'низкий'\n",
    "    if (income >=70000) & (income < 100000):\n",
    "        return 'ниже среднего'\n",
    "    if (income >=100000) & (income < 140000):\n",
    "        return 'средний'\n",
    "    if (income >=140000) & (income < 200000):\n",
    "        return 'выше среднего'\n",
    "    if (income >=20000) & (income < 300000):\n",
    "        return 'высокий'\n",
    "    return 'сверхвысокий'"
   ]
  },
  {
   "cell_type": "markdown",
   "metadata": {},
   "source": [
    "Создадим отдельный столбец с категориями дохода, и в его ячейках запишем значения, возвращаемые функцией. Для этого нужен метод apply()"
   ]
  },
  {
   "cell_type": "code",
   "execution_count": 52,
   "metadata": {},
   "outputs": [
    {
     "name": "stderr",
     "output_type": "stream",
     "text": [
      "/opt/conda/lib/python3.7/site-packages/ipykernel_launcher.py:1: SettingWithCopyWarning: \n",
      "A value is trying to be set on a copy of a slice from a DataFrame.\n",
      "Try using .loc[row_indexer,col_indexer] = value instead\n",
      "\n",
      "See the caveats in the documentation: http://pandas.pydata.org/pandas-docs/stable/user_guide/indexing.html#returning-a-view-versus-a-copy\n",
      "  \"\"\"Entry point for launching an IPython kernel.\n"
     ]
    },
    {
     "data": {
      "text/html": [
       "<div>\n",
       "<style scoped>\n",
       "    .dataframe tbody tr th:only-of-type {\n",
       "        vertical-align: middle;\n",
       "    }\n",
       "\n",
       "    .dataframe tbody tr th {\n",
       "        vertical-align: top;\n",
       "    }\n",
       "\n",
       "    .dataframe thead th {\n",
       "        text-align: right;\n",
       "    }\n",
       "</style>\n",
       "<table border=\"1\" class=\"dataframe\">\n",
       "  <thead>\n",
       "    <tr style=\"text-align: right;\">\n",
       "      <th></th>\n",
       "      <th>total_income</th>\n",
       "      <th>debt</th>\n",
       "      <th>income_group</th>\n",
       "    </tr>\n",
       "  </thead>\n",
       "  <tbody>\n",
       "    <tr>\n",
       "      <td>0</td>\n",
       "      <td>253875.639453</td>\n",
       "      <td>0</td>\n",
       "      <td>высокий</td>\n",
       "    </tr>\n",
       "    <tr>\n",
       "      <td>1</td>\n",
       "      <td>112080.014102</td>\n",
       "      <td>0</td>\n",
       "      <td>средний</td>\n",
       "    </tr>\n",
       "    <tr>\n",
       "      <td>2</td>\n",
       "      <td>145885.952297</td>\n",
       "      <td>0</td>\n",
       "      <td>выше среднего</td>\n",
       "    </tr>\n",
       "    <tr>\n",
       "      <td>3</td>\n",
       "      <td>267628.550329</td>\n",
       "      <td>0</td>\n",
       "      <td>высокий</td>\n",
       "    </tr>\n",
       "    <tr>\n",
       "      <td>4</td>\n",
       "      <td>158616.077870</td>\n",
       "      <td>0</td>\n",
       "      <td>выше среднего</td>\n",
       "    </tr>\n",
       "    <tr>\n",
       "      <td>5</td>\n",
       "      <td>255763.565419</td>\n",
       "      <td>0</td>\n",
       "      <td>высокий</td>\n",
       "    </tr>\n",
       "    <tr>\n",
       "      <td>6</td>\n",
       "      <td>240525.971920</td>\n",
       "      <td>0</td>\n",
       "      <td>высокий</td>\n",
       "    </tr>\n",
       "    <tr>\n",
       "      <td>7</td>\n",
       "      <td>135823.934197</td>\n",
       "      <td>0</td>\n",
       "      <td>средний</td>\n",
       "    </tr>\n",
       "    <tr>\n",
       "      <td>8</td>\n",
       "      <td>95856.832424</td>\n",
       "      <td>0</td>\n",
       "      <td>ниже среднего</td>\n",
       "    </tr>\n",
       "    <tr>\n",
       "      <td>9</td>\n",
       "      <td>144425.938277</td>\n",
       "      <td>0</td>\n",
       "      <td>выше среднего</td>\n",
       "    </tr>\n",
       "  </tbody>\n",
       "</table>\n",
       "</div>"
      ],
      "text/plain": [
       "    total_income  debt   income_group\n",
       "0  253875.639453     0        высокий\n",
       "1  112080.014102     0        средний\n",
       "2  145885.952297     0  выше среднего\n",
       "3  267628.550329     0        высокий\n",
       "4  158616.077870     0  выше среднего\n",
       "5  255763.565419     0        высокий\n",
       "6  240525.971920     0        высокий\n",
       "7  135823.934197     0        средний\n",
       "8   95856.832424     0  ниже среднего\n",
       "9  144425.938277     0  выше среднего"
      ]
     },
     "execution_count": 52,
     "metadata": {},
     "output_type": "execute_result"
    }
   ],
   "source": [
    "data_income['income_group'] = data_income['total_income'].apply(income_group)\n",
    "data_income.head(10)"
   ]
  },
  {
   "cell_type": "markdown",
   "metadata": {},
   "source": [
    "Для ответа на вопрос \"Как разные цели кредита влияют на его возврат в срок?\" нужно выделить категории целей клиентов.\n",
    "Для этого создадим таблицу со столбцами цель кредита, лендинг целей и задолженности."
   ]
  },
  {
   "cell_type": "code",
   "execution_count": 53,
   "metadata": {},
   "outputs": [
    {
     "name": "stdout",
     "output_type": "stream",
     "text": [
      "                      purpose                        purpose_lemmas  debt\n",
      "0               покупка жилья               [покупка,  , жилье, \\n]     0\n",
      "1     приобретение автомобиля     [приобретение,  , автомобиль, \\n]     0\n",
      "2               покупка жилья               [покупка,  , жилье, \\n]     0\n",
      "3  дополнительное образование  [дополнительный,  , образование, \\n]     0\n",
      "4             сыграть свадьбу             [сыграть,  , свадьба, \\n]     0\n"
     ]
    }
   ],
   "source": [
    "data_purpose = data[['purpose', 'purpose_lemmas', 'debt']]\n",
    "print(data_purpose.head())"
   ]
  },
  {
   "cell_type": "markdown",
   "metadata": {},
   "source": [
    "Чаще всего кредит берут для покупки недвижимости (жилой и коммерческой), покупки автомобиля, оплаты образования, проведения свадьбы и ремонта. выделим 6 категорий цели кредита - жилье(леммы жилой и жилье), образование (лемма образование), коммерческий (лемма коммерческий), свадьба (лемма свадьба), автомобиль (лемма автомобиль) и другое (если ни одна из лемм не найдена)."
   ]
  },
  {
   "cell_type": "markdown",
   "metadata": {},
   "source": [
    "Запишем правила классификации клиентов по цели как функцию. На вход функции попадает лемма цели кредита, а возвращает она категорию клиента."
   ]
  },
  {
   "cell_type": "code",
   "execution_count": 54,
   "metadata": {},
   "outputs": [],
   "source": [
    "def purpose_group(purpose_lemmas):\n",
    "    for value in purpose_lemmas:\n",
    "        if 'жилье' in value or 'жилой' in value:\n",
    "            return 'жилье'\n",
    "        if 'автомобиль' in value:\n",
    "            return 'автомобиль'\n",
    "        if 'образование' in value:\n",
    "            return 'образование'\n",
    "        if 'коммерческий' in value:\n",
    "            return 'коммерческий'\n",
    "        if 'свадьба' in value:\n",
    "            return 'свадьба'\n",
    "    return 'другое'"
   ]
  },
  {
   "cell_type": "code",
   "execution_count": 55,
   "metadata": {},
   "outputs": [
    {
     "name": "stdout",
     "output_type": "stream",
     "text": [
      "                      purpose                             purpose_lemmas  \\\n",
      "0               покупка жилья                    [покупка,  , жилье, \\n]   \n",
      "1     приобретение автомобиля          [приобретение,  , автомобиль, \\n]   \n",
      "2               покупка жилья                    [покупка,  , жилье, \\n]   \n",
      "3  дополнительное образование       [дополнительный,  , образование, \\n]   \n",
      "4             сыграть свадьбу                  [сыграть,  , свадьба, \\n]   \n",
      "5               покупка жилья                    [покупка,  , жилье, \\n]   \n",
      "6           операции с жильем             [операция,  , с,  , жилье, \\n]   \n",
      "7                 образование                          [образование, \\n]   \n",
      "8       на проведение свадьбы        [на,  , проведение,  , свадьба, \\n]   \n",
      "9     покупка жилья для семьи  [покупка,  , жилье,  , для,  , семья, \\n]   \n",
      "\n",
      "   debt purpose_group  \n",
      "0     0         жилье  \n",
      "1     0    автомобиль  \n",
      "2     0         жилье  \n",
      "3     0   образование  \n",
      "4     0       свадьба  \n",
      "5     0         жилье  \n",
      "6     0         жилье  \n",
      "7     0   образование  \n",
      "8     0       свадьба  \n",
      "9     0         жилье  \n"
     ]
    },
    {
     "name": "stderr",
     "output_type": "stream",
     "text": [
      "/opt/conda/lib/python3.7/site-packages/ipykernel_launcher.py:1: SettingWithCopyWarning: \n",
      "A value is trying to be set on a copy of a slice from a DataFrame.\n",
      "Try using .loc[row_indexer,col_indexer] = value instead\n",
      "\n",
      "See the caveats in the documentation: http://pandas.pydata.org/pandas-docs/stable/user_guide/indexing.html#returning-a-view-versus-a-copy\n",
      "  \"\"\"Entry point for launching an IPython kernel.\n"
     ]
    }
   ],
   "source": [
    "data_purpose['purpose_group'] = data_purpose['purpose_lemmas'].apply(purpose_group)\n",
    "print(data_purpose.head(10)) "
   ]
  },
  {
   "cell_type": "markdown",
   "metadata": {},
   "source": [
    "**Вывод**"
   ]
  },
  {
   "cell_type": "markdown",
   "metadata": {},
   "source": [
    "Выделили следующие категории:\n",
    "По количеству детей - без детей, 1-2 детей, много детные.\n",
    "По доходу - низкий (меньше 70 тыс), ниже среднего (от 70 до 100 тыс), средний (от 100 до 140 тыс), выше среднего (от 140 до 200тыс), высокий (от 200 тыс до 300 тыс) и сверхвысокий (больше 300 тыс).\n",
    "По цели кредита - жилье, автомобиль, свадьба, коммерческий и другое."
   ]
  },
  {
   "cell_type": "markdown",
   "metadata": {},
   "source": [
    "## Шаг 3. Ответьте на вопросы"
   ]
  },
  {
   "cell_type": "markdown",
   "metadata": {},
   "source": [
    "- Есть ли зависимость между наличием детей и возвратом кредита в срок?"
   ]
  },
  {
   "cell_type": "markdown",
   "metadata": {},
   "source": [
    "Таблица с данными о детях и задолженностях"
   ]
  },
  {
   "cell_type": "code",
   "execution_count": 56,
   "metadata": {},
   "outputs": [
    {
     "data": {
      "text/html": [
       "<div>\n",
       "<style scoped>\n",
       "    .dataframe tbody tr th:only-of-type {\n",
       "        vertical-align: middle;\n",
       "    }\n",
       "\n",
       "    .dataframe tbody tr th {\n",
       "        vertical-align: top;\n",
       "    }\n",
       "\n",
       "    .dataframe thead th {\n",
       "        text-align: right;\n",
       "    }\n",
       "</style>\n",
       "<table border=\"1\" class=\"dataframe\">\n",
       "  <thead>\n",
       "    <tr style=\"text-align: right;\">\n",
       "      <th></th>\n",
       "      <th>children</th>\n",
       "      <th>debt</th>\n",
       "      <th>children_group</th>\n",
       "    </tr>\n",
       "  </thead>\n",
       "  <tbody>\n",
       "    <tr>\n",
       "      <td>0</td>\n",
       "      <td>1.0</td>\n",
       "      <td>0</td>\n",
       "      <td>1-2 детей</td>\n",
       "    </tr>\n",
       "    <tr>\n",
       "      <td>1</td>\n",
       "      <td>1.0</td>\n",
       "      <td>0</td>\n",
       "      <td>1-2 детей</td>\n",
       "    </tr>\n",
       "    <tr>\n",
       "      <td>2</td>\n",
       "      <td>0.0</td>\n",
       "      <td>0</td>\n",
       "      <td>без детей</td>\n",
       "    </tr>\n",
       "    <tr>\n",
       "      <td>3</td>\n",
       "      <td>3.0</td>\n",
       "      <td>0</td>\n",
       "      <td>многодетный</td>\n",
       "    </tr>\n",
       "    <tr>\n",
       "      <td>4</td>\n",
       "      <td>0.0</td>\n",
       "      <td>0</td>\n",
       "      <td>без детей</td>\n",
       "    </tr>\n",
       "  </tbody>\n",
       "</table>\n",
       "</div>"
      ],
      "text/plain": [
       "   children  debt children_group\n",
       "0       1.0     0      1-2 детей\n",
       "1       1.0     0      1-2 детей\n",
       "2       0.0     0      без детей\n",
       "3       3.0     0    многодетный\n",
       "4       0.0     0      без детей"
      ]
     },
     "execution_count": 56,
     "metadata": {},
     "output_type": "execute_result"
    }
   ],
   "source": [
    "data_children.head()"
   ]
  },
  {
   "cell_type": "markdown",
   "metadata": {},
   "source": [
    "Вычислим процент задолженностей по кредиту в категориях по количеству детей, для этого вычислим число невозвратов и поделим на общее количество клиентов и умножим на 100."
   ]
  },
  {
   "cell_type": "code",
   "execution_count": 57,
   "metadata": {},
   "outputs": [
    {
     "data": {
      "text/plain": [
       "children_group\n",
       "без детей      7.535266\n",
       "многодетный    8.620690\n",
       "1-2 детей      9.241161\n",
       "Name: debt, dtype: float64"
      ]
     },
     "execution_count": 57,
     "metadata": {},
     "output_type": "execute_result"
    }
   ],
   "source": [
    "data_children_debt = data_children.groupby('children_group')['debt'].sum()/data_children.groupby('children_group')['debt'].count()*100\n",
    "data_children_debt.sort_values()"
   ]
  },
  {
   "cell_type": "markdown",
   "metadata": {},
   "source": [
    "**Вывод**\n"
   ]
  },
  {
   "cell_type": "markdown",
   "metadata": {},
   "source": [
    "Больше всего невозратов в категории клиентов с 1-2 детьми , клиенты без детей имеют меньше всего невозвратов."
   ]
  },
  {
   "cell_type": "markdown",
   "metadata": {},
   "source": [
    "- Есть ли зависимость между семейным положением и возвратом кредита в срок?"
   ]
  },
  {
   "cell_type": "markdown",
   "metadata": {},
   "source": [
    "Таблица с данными о семейном положении и задолженностях"
   ]
  },
  {
   "cell_type": "code",
   "execution_count": 58,
   "metadata": {},
   "outputs": [
    {
     "data": {
      "text/html": [
       "<div>\n",
       "<style scoped>\n",
       "    .dataframe tbody tr th:only-of-type {\n",
       "        vertical-align: middle;\n",
       "    }\n",
       "\n",
       "    .dataframe tbody tr th {\n",
       "        vertical-align: top;\n",
       "    }\n",
       "\n",
       "    .dataframe thead th {\n",
       "        text-align: right;\n",
       "    }\n",
       "</style>\n",
       "<table border=\"1\" class=\"dataframe\">\n",
       "  <thead>\n",
       "    <tr style=\"text-align: right;\">\n",
       "      <th></th>\n",
       "      <th>family_status</th>\n",
       "      <th>family_status_id</th>\n",
       "      <th>debt</th>\n",
       "    </tr>\n",
       "  </thead>\n",
       "  <tbody>\n",
       "    <tr>\n",
       "      <td>0</td>\n",
       "      <td>женат / замужем</td>\n",
       "      <td>0</td>\n",
       "      <td>0</td>\n",
       "    </tr>\n",
       "    <tr>\n",
       "      <td>1</td>\n",
       "      <td>женат / замужем</td>\n",
       "      <td>0</td>\n",
       "      <td>0</td>\n",
       "    </tr>\n",
       "    <tr>\n",
       "      <td>2</td>\n",
       "      <td>женат / замужем</td>\n",
       "      <td>0</td>\n",
       "      <td>0</td>\n",
       "    </tr>\n",
       "    <tr>\n",
       "      <td>3</td>\n",
       "      <td>женат / замужем</td>\n",
       "      <td>0</td>\n",
       "      <td>0</td>\n",
       "    </tr>\n",
       "    <tr>\n",
       "      <td>4</td>\n",
       "      <td>гражданский брак</td>\n",
       "      <td>1</td>\n",
       "      <td>0</td>\n",
       "    </tr>\n",
       "  </tbody>\n",
       "</table>\n",
       "</div>"
      ],
      "text/plain": [
       "      family_status  family_status_id  debt\n",
       "0   женат / замужем                 0     0\n",
       "1   женат / замужем                 0     0\n",
       "2   женат / замужем                 0     0\n",
       "3   женат / замужем                 0     0\n",
       "4  гражданский брак                 1     0"
      ]
     },
     "execution_count": 58,
     "metadata": {},
     "output_type": "execute_result"
    }
   ],
   "source": [
    "data_family.head()"
   ]
  },
  {
   "cell_type": "markdown",
   "metadata": {},
   "source": [
    "Вычислим процент задолженностей по кредиту в категориях разного семейного статуса, для этого вычислим число невозвратов и поделим на общее количество клиентов и умножим на 100."
   ]
  },
  {
   "cell_type": "code",
   "execution_count": 59,
   "metadata": {},
   "outputs": [
    {
     "data": {
      "text/plain": [
       "family_status\n",
       "вдовец / вдова           6.569343\n",
       "в разводе                7.112971\n",
       "женат / замужем          7.542126\n",
       "гражданский брак         9.320202\n",
       "Не женат / не замужем    9.750890\n",
       "Name: debt, dtype: float64"
      ]
     },
     "execution_count": 59,
     "metadata": {},
     "output_type": "execute_result"
    }
   ],
   "source": [
    "data_family_debt = data_family.groupby('family_status')['debt'].sum()/data_family.groupby('family_status')['debt'].count()*100\n",
    "data_family_debt.sort_values()"
   ]
  },
  {
   "cell_type": "markdown",
   "metadata": {},
   "source": [
    "**Вывод**"
   ]
  },
  {
   "cell_type": "markdown",
   "metadata": {},
   "source": [
    "Больше всего невозвратов в категориях \"Не женат / не замужем\" и \"гражданский брак\".\n",
    "Меньше всего невозратов в категории \"вдовец / вдова\"."
   ]
  },
  {
   "cell_type": "markdown",
   "metadata": {},
   "source": [
    "- Есть ли зависимость между уровнем дохода и возвратом кредита в срок?"
   ]
  },
  {
   "cell_type": "markdown",
   "metadata": {},
   "source": [
    "Таблица с данными о уровне дохода и задолженностях"
   ]
  },
  {
   "cell_type": "code",
   "execution_count": 60,
   "metadata": {},
   "outputs": [
    {
     "data": {
      "text/html": [
       "<div>\n",
       "<style scoped>\n",
       "    .dataframe tbody tr th:only-of-type {\n",
       "        vertical-align: middle;\n",
       "    }\n",
       "\n",
       "    .dataframe tbody tr th {\n",
       "        vertical-align: top;\n",
       "    }\n",
       "\n",
       "    .dataframe thead th {\n",
       "        text-align: right;\n",
       "    }\n",
       "</style>\n",
       "<table border=\"1\" class=\"dataframe\">\n",
       "  <thead>\n",
       "    <tr style=\"text-align: right;\">\n",
       "      <th></th>\n",
       "      <th>total_income</th>\n",
       "      <th>debt</th>\n",
       "      <th>income_group</th>\n",
       "    </tr>\n",
       "  </thead>\n",
       "  <tbody>\n",
       "    <tr>\n",
       "      <td>0</td>\n",
       "      <td>253875.639453</td>\n",
       "      <td>0</td>\n",
       "      <td>высокий</td>\n",
       "    </tr>\n",
       "    <tr>\n",
       "      <td>1</td>\n",
       "      <td>112080.014102</td>\n",
       "      <td>0</td>\n",
       "      <td>средний</td>\n",
       "    </tr>\n",
       "    <tr>\n",
       "      <td>2</td>\n",
       "      <td>145885.952297</td>\n",
       "      <td>0</td>\n",
       "      <td>выше среднего</td>\n",
       "    </tr>\n",
       "    <tr>\n",
       "      <td>3</td>\n",
       "      <td>267628.550329</td>\n",
       "      <td>0</td>\n",
       "      <td>высокий</td>\n",
       "    </tr>\n",
       "    <tr>\n",
       "      <td>4</td>\n",
       "      <td>158616.077870</td>\n",
       "      <td>0</td>\n",
       "      <td>выше среднего</td>\n",
       "    </tr>\n",
       "  </tbody>\n",
       "</table>\n",
       "</div>"
      ],
      "text/plain": [
       "    total_income  debt   income_group\n",
       "0  253875.639453     0        высокий\n",
       "1  112080.014102     0        средний\n",
       "2  145885.952297     0  выше среднего\n",
       "3  267628.550329     0        высокий\n",
       "4  158616.077870     0  выше среднего"
      ]
     },
     "execution_count": 60,
     "metadata": {},
     "output_type": "execute_result"
    }
   ],
   "source": [
    "data_income.head()"
   ]
  },
  {
   "cell_type": "markdown",
   "metadata": {},
   "source": [
    "Вычислим процент задолженностей по кредиту в категориях разного дохода, для этого вычислим число невозвратов и поделим на общее количество клиентов и умножим на 100."
   ]
  },
  {
   "cell_type": "code",
   "execution_count": 61,
   "metadata": {},
   "outputs": [
    {
     "data": {
      "text/plain": [
       "income_group\n",
       "низкий           6.852103\n",
       "высокий          7.031250\n",
       "сверхвысокий     7.147674\n",
       "ниже среднего    8.464369\n",
       "средний          8.478952\n",
       "выше среднего    8.718320\n",
       "Name: debt, dtype: float64"
      ]
     },
     "execution_count": 61,
     "metadata": {},
     "output_type": "execute_result"
    }
   ],
   "source": [
    "data_income_debt = data_income.groupby('income_group')['debt'].sum()/data_income.groupby('income_group')['debt'].count()*100\n",
    "data_income_debt.sort_values()"
   ]
  },
  {
   "cell_type": "markdown",
   "metadata": {},
   "source": [
    "**Вывод**"
   ]
  },
  {
   "cell_type": "markdown",
   "metadata": {},
   "source": [
    "Меньше всего невозратов в категории низкого дохода.\n",
    "Больше всего невозратов у клиентов со средними доходами (ниже среднего, средний и выше среднего)"
   ]
  },
  {
   "cell_type": "markdown",
   "metadata": {},
   "source": [
    "- Как разные цели кредита влияют на его возврат в срок?"
   ]
  },
  {
   "cell_type": "markdown",
   "metadata": {},
   "source": [
    "Таблица с данными о целях кредита и задолженностях"
   ]
  },
  {
   "cell_type": "code",
   "execution_count": 62,
   "metadata": {},
   "outputs": [
    {
     "data": {
      "text/html": [
       "<div>\n",
       "<style scoped>\n",
       "    .dataframe tbody tr th:only-of-type {\n",
       "        vertical-align: middle;\n",
       "    }\n",
       "\n",
       "    .dataframe tbody tr th {\n",
       "        vertical-align: top;\n",
       "    }\n",
       "\n",
       "    .dataframe thead th {\n",
       "        text-align: right;\n",
       "    }\n",
       "</style>\n",
       "<table border=\"1\" class=\"dataframe\">\n",
       "  <thead>\n",
       "    <tr style=\"text-align: right;\">\n",
       "      <th></th>\n",
       "      <th>purpose</th>\n",
       "      <th>purpose_lemmas</th>\n",
       "      <th>debt</th>\n",
       "      <th>purpose_group</th>\n",
       "    </tr>\n",
       "  </thead>\n",
       "  <tbody>\n",
       "    <tr>\n",
       "      <td>0</td>\n",
       "      <td>покупка жилья</td>\n",
       "      <td>[покупка,  , жилье, \\n]</td>\n",
       "      <td>0</td>\n",
       "      <td>жилье</td>\n",
       "    </tr>\n",
       "    <tr>\n",
       "      <td>1</td>\n",
       "      <td>приобретение автомобиля</td>\n",
       "      <td>[приобретение,  , автомобиль, \\n]</td>\n",
       "      <td>0</td>\n",
       "      <td>автомобиль</td>\n",
       "    </tr>\n",
       "    <tr>\n",
       "      <td>2</td>\n",
       "      <td>покупка жилья</td>\n",
       "      <td>[покупка,  , жилье, \\n]</td>\n",
       "      <td>0</td>\n",
       "      <td>жилье</td>\n",
       "    </tr>\n",
       "    <tr>\n",
       "      <td>3</td>\n",
       "      <td>дополнительное образование</td>\n",
       "      <td>[дополнительный,  , образование, \\n]</td>\n",
       "      <td>0</td>\n",
       "      <td>образование</td>\n",
       "    </tr>\n",
       "    <tr>\n",
       "      <td>4</td>\n",
       "      <td>сыграть свадьбу</td>\n",
       "      <td>[сыграть,  , свадьба, \\n]</td>\n",
       "      <td>0</td>\n",
       "      <td>свадьба</td>\n",
       "    </tr>\n",
       "  </tbody>\n",
       "</table>\n",
       "</div>"
      ],
      "text/plain": [
       "                      purpose                        purpose_lemmas  debt  \\\n",
       "0               покупка жилья               [покупка,  , жилье, \\n]     0   \n",
       "1     приобретение автомобиля     [приобретение,  , автомобиль, \\n]     0   \n",
       "2               покупка жилья               [покупка,  , жилье, \\n]     0   \n",
       "3  дополнительное образование  [дополнительный,  , образование, \\n]     0   \n",
       "4             сыграть свадьбу             [сыграть,  , свадьба, \\n]     0   \n",
       "\n",
       "  purpose_group  \n",
       "0         жилье  \n",
       "1    автомобиль  \n",
       "2         жилье  \n",
       "3   образование  \n",
       "4       свадьба  "
      ]
     },
     "execution_count": 62,
     "metadata": {},
     "output_type": "execute_result"
    }
   ],
   "source": [
    "data_purpose.head()"
   ]
  },
  {
   "cell_type": "code",
   "execution_count": 63,
   "metadata": {},
   "outputs": [
    {
     "data": {
      "text/plain": [
       "purpose_group\n",
       "жилье           6.974701\n",
       "другое          7.506562\n",
       "коммерческий    7.545732\n",
       "свадьба         7.965739\n",
       "образование     9.217738\n",
       "автомобиль      9.354689\n",
       "Name: debt, dtype: float64"
      ]
     },
     "execution_count": 63,
     "metadata": {},
     "output_type": "execute_result"
    }
   ],
   "source": [
    "data_purpose_debt = data_purpose.groupby('purpose_group')['debt'].sum()/data_purpose.groupby('purpose_group')['debt'].count()*100\n",
    "data_purpose_debt.sort_values()"
   ]
  },
  {
   "cell_type": "markdown",
   "metadata": {},
   "source": [
    "**Вывод**"
   ]
  },
  {
   "cell_type": "markdown",
   "metadata": {},
   "source": [
    "Меньше всего задолженностей у клиентов с целью покупки жилой недвижимости.\n",
    "Больше всего задолженностей у клиентов с кредитом на автомобиль и образование."
   ]
  },
  {
   "cell_type": "markdown",
   "metadata": {},
   "source": [
    "## Шаг 4. Общий вывод"
   ]
  },
  {
   "cell_type": "markdown",
   "metadata": {},
   "source": [
    "Семейное положение,количество детей клиента, уровень дохода и цель кредита влияют на факт погашения кредита в срок.\n",
    "В целом процент задолженности по кредиту в группах колеблется от 7% до 9%.\n",
    "Так клиенты без детей, состоявшие в законных отношениях (не столь важно состоящие на данный момент или хотя бы имевшие факт законных отношений), с целью кредита на приобретение жилья и как ни странно с низким уровнем дохода имеют меньший процент невозрата в своих разрядах.\n",
    "Так клиенты с 1-2 детьми, не состоявшие в законных отношениях , с целью кредита на приобретение автомобиля или обучение и  со средним уровнем дохода имеют больший процент невозрата в своих разрядах."
   ]
  },
  {
   "cell_type": "code",
   "execution_count": null,
   "metadata": {},
   "outputs": [],
   "source": []
  }
 ],
 "metadata": {
  "ExecuteTimeLog": [
   {
    "duration": 634,
    "start_time": "2021-12-16T04:44:08.496Z"
   },
   {
    "duration": 292,
    "start_time": "2021-12-16T14:14:20.723Z"
   },
   {
    "duration": 836,
    "start_time": "2021-12-16T14:14:47.450Z"
   },
   {
    "duration": 93,
    "start_time": "2021-12-16T14:14:54.025Z"
   },
   {
    "duration": 99,
    "start_time": "2021-12-16T14:14:59.840Z"
   },
   {
    "duration": 16,
    "start_time": "2021-12-16T14:14:59.942Z"
   },
   {
    "duration": 87,
    "start_time": "2021-12-16T14:15:22.625Z"
   },
   {
    "duration": 872,
    "start_time": "2021-12-16T14:15:44.389Z"
   },
   {
    "duration": 15,
    "start_time": "2021-12-16T14:15:48.661Z"
   },
   {
    "duration": 12,
    "start_time": "2021-12-16T14:16:05.199Z"
   },
   {
    "duration": 14,
    "start_time": "2021-12-16T14:19:43.304Z"
   },
   {
    "duration": 41,
    "start_time": "2021-12-16T14:20:23.874Z"
   },
   {
    "duration": 348,
    "start_time": "2021-12-16T14:21:45.126Z"
   },
   {
    "duration": 252,
    "start_time": "2021-12-16T14:22:02.565Z"
   },
   {
    "duration": 254,
    "start_time": "2021-12-16T14:22:23.119Z"
   },
   {
    "duration": 13,
    "start_time": "2021-12-16T14:22:31.933Z"
   },
   {
    "duration": 17,
    "start_time": "2021-12-16T14:23:07.702Z"
   },
   {
    "duration": 32,
    "start_time": "2021-12-16T14:27:16.701Z"
   },
   {
    "duration": 33,
    "start_time": "2021-12-16T14:30:03.988Z"
   },
   {
    "duration": 5,
    "start_time": "2021-12-16T14:35:26.000Z"
   },
   {
    "duration": 78,
    "start_time": "2021-12-16T14:35:45.468Z"
   },
   {
    "duration": 6,
    "start_time": "2021-12-16T14:35:50.047Z"
   },
   {
    "duration": 5,
    "start_time": "2021-12-16T14:59:15.953Z"
   },
   {
    "duration": 8,
    "start_time": "2021-12-16T15:00:39.918Z"
   },
   {
    "duration": 7,
    "start_time": "2021-12-16T15:05:21.787Z"
   },
   {
    "duration": 233,
    "start_time": "2021-12-16T15:09:04.493Z"
   },
   {
    "duration": 6,
    "start_time": "2021-12-16T15:09:11.940Z"
   },
   {
    "duration": 9,
    "start_time": "2021-12-16T15:12:28.727Z"
   },
   {
    "duration": 255,
    "start_time": "2021-12-16T15:15:31.173Z"
   },
   {
    "duration": 22,
    "start_time": "2021-12-16T15:15:58.393Z"
   },
   {
    "duration": 8648,
    "start_time": "2021-12-16T15:19:02.711Z"
   },
   {
    "duration": 778,
    "start_time": "2021-12-16T15:19:49.063Z"
   },
   {
    "duration": 33,
    "start_time": "2021-12-16T15:19:55.698Z"
   },
   {
    "duration": 6,
    "start_time": "2021-12-16T15:19:58.884Z"
   },
   {
    "duration": 9,
    "start_time": "2021-12-16T15:20:00.426Z"
   },
   {
    "duration": 7,
    "start_time": "2021-12-16T15:20:01.492Z"
   },
   {
    "duration": 6,
    "start_time": "2021-12-16T15:20:03.116Z"
   },
   {
    "duration": 10,
    "start_time": "2021-12-16T15:20:09.143Z"
   },
   {
    "duration": 8694,
    "start_time": "2021-12-16T15:20:11.423Z"
   },
   {
    "duration": 11,
    "start_time": "2021-12-16T15:20:54.520Z"
   },
   {
    "duration": 11,
    "start_time": "2021-12-16T15:21:06.093Z"
   },
   {
    "duration": 10,
    "start_time": "2021-12-16T15:21:13.110Z"
   },
   {
    "duration": 12,
    "start_time": "2021-12-16T15:24:38.841Z"
   },
   {
    "duration": 9,
    "start_time": "2021-12-16T15:26:08.538Z"
   },
   {
    "duration": 20,
    "start_time": "2021-12-16T15:40:56.576Z"
   },
   {
    "duration": 20,
    "start_time": "2021-12-16T15:41:22.526Z"
   },
   {
    "duration": 29,
    "start_time": "2021-12-16T15:43:20.256Z"
   },
   {
    "duration": 245,
    "start_time": "2021-12-17T05:35:12.795Z"
   },
   {
    "duration": 585,
    "start_time": "2021-12-17T05:35:30.942Z"
   },
   {
    "duration": 20,
    "start_time": "2021-12-17T05:35:31.529Z"
   },
   {
    "duration": 4,
    "start_time": "2021-12-17T05:35:31.550Z"
   },
   {
    "duration": 3,
    "start_time": "2021-12-17T05:35:37.576Z"
   },
   {
    "duration": 58,
    "start_time": "2021-12-17T05:37:57.628Z"
   },
   {
    "duration": 19,
    "start_time": "2021-12-17T05:37:57.688Z"
   },
   {
    "duration": 3,
    "start_time": "2021-12-17T05:37:57.709Z"
   },
   {
    "duration": 5,
    "start_time": "2021-12-17T05:38:02.385Z"
   },
   {
    "duration": 632,
    "start_time": "2021-12-17T05:38:18.163Z"
   },
   {
    "duration": 21,
    "start_time": "2021-12-17T05:38:18.796Z"
   },
   {
    "duration": 4,
    "start_time": "2021-12-17T05:38:18.818Z"
   },
   {
    "duration": 6,
    "start_time": "2021-12-17T05:38:21.773Z"
   },
   {
    "duration": 6,
    "start_time": "2021-12-17T05:39:23.675Z"
   },
   {
    "duration": 6,
    "start_time": "2021-12-17T05:45:09.664Z"
   },
   {
    "duration": 261,
    "start_time": "2021-12-17T05:49:21.914Z"
   },
   {
    "duration": 8,
    "start_time": "2021-12-17T05:52:16.569Z"
   },
   {
    "duration": 6,
    "start_time": "2021-12-17T05:53:22.440Z"
   },
   {
    "duration": 6,
    "start_time": "2021-12-17T05:54:11.696Z"
   },
   {
    "duration": 6,
    "start_time": "2021-12-17T05:54:59.276Z"
   },
   {
    "duration": 6,
    "start_time": "2021-12-17T05:55:13.809Z"
   },
   {
    "duration": 6,
    "start_time": "2021-12-17T05:55:17.275Z"
   },
   {
    "duration": 7,
    "start_time": "2021-12-17T05:55:22.108Z"
   },
   {
    "duration": 74,
    "start_time": "2021-12-17T05:55:38.502Z"
   },
   {
    "duration": 6,
    "start_time": "2021-12-17T05:55:45.640Z"
   },
   {
    "duration": 6,
    "start_time": "2021-12-17T05:57:26.338Z"
   },
   {
    "duration": 7,
    "start_time": "2021-12-17T06:03:17.423Z"
   },
   {
    "duration": 199,
    "start_time": "2021-12-17T06:05:54.669Z"
   },
   {
    "duration": 202,
    "start_time": "2021-12-17T06:06:20.857Z"
   },
   {
    "duration": 61,
    "start_time": "2021-12-17T06:09:00.819Z"
   },
   {
    "duration": 19,
    "start_time": "2021-12-17T06:09:00.882Z"
   },
   {
    "duration": 3,
    "start_time": "2021-12-17T06:09:00.903Z"
   },
   {
    "duration": 233,
    "start_time": "2021-12-17T06:09:17.665Z"
   },
   {
    "duration": 879,
    "start_time": "2021-12-17T06:09:17.021Z"
   },
   {
    "duration": 876,
    "start_time": "2021-12-17T06:09:17.025Z"
   },
   {
    "duration": 249,
    "start_time": "2021-12-17T06:09:30.462Z"
   },
   {
    "duration": 618,
    "start_time": "2021-12-17T06:09:41.361Z"
   },
   {
    "duration": 19,
    "start_time": "2021-12-17T06:09:41.980Z"
   },
   {
    "duration": 3,
    "start_time": "2021-12-17T06:09:42.001Z"
   },
   {
    "duration": 8,
    "start_time": "2021-12-17T06:09:45.216Z"
   },
   {
    "duration": 7,
    "start_time": "2021-12-17T06:10:19.018Z"
   },
   {
    "duration": 701,
    "start_time": "2021-12-17T06:10:44.482Z"
   },
   {
    "duration": 21,
    "start_time": "2021-12-17T06:10:45.185Z"
   },
   {
    "duration": 4,
    "start_time": "2021-12-17T06:10:45.207Z"
   },
   {
    "duration": 9,
    "start_time": "2021-12-17T06:10:45.212Z"
   },
   {
    "duration": 7,
    "start_time": "2021-12-17T06:10:49.228Z"
   },
   {
    "duration": 7,
    "start_time": "2021-12-17T06:11:20.143Z"
   },
   {
    "duration": 4,
    "start_time": "2021-12-17T06:14:27.711Z"
   },
   {
    "duration": 261,
    "start_time": "2021-12-17T06:17:38.474Z"
   },
   {
    "duration": 196,
    "start_time": "2021-12-17T06:18:10.516Z"
   },
   {
    "duration": 240,
    "start_time": "2021-12-17T06:18:33.751Z"
   },
   {
    "duration": 7,
    "start_time": "2021-12-17T06:22:43.456Z"
   },
   {
    "duration": 7,
    "start_time": "2021-12-17T06:23:30.495Z"
   },
   {
    "duration": 9,
    "start_time": "2021-12-17T06:23:43.322Z"
   },
   {
    "duration": 10,
    "start_time": "2021-12-17T06:24:02.096Z"
   },
   {
    "duration": 8,
    "start_time": "2021-12-17T06:24:09.540Z"
   },
   {
    "duration": 601,
    "start_time": "2021-12-17T06:24:34.900Z"
   },
   {
    "duration": 20,
    "start_time": "2021-12-17T06:24:35.502Z"
   },
   {
    "duration": 3,
    "start_time": "2021-12-17T06:24:35.524Z"
   },
   {
    "duration": 8,
    "start_time": "2021-12-17T06:24:35.529Z"
   },
   {
    "duration": 11,
    "start_time": "2021-12-17T06:24:35.538Z"
   },
   {
    "duration": 6,
    "start_time": "2021-12-17T06:24:35.551Z"
   },
   {
    "duration": 7,
    "start_time": "2021-12-17T06:24:38.196Z"
   },
   {
    "duration": 9,
    "start_time": "2021-12-17T06:26:02.777Z"
   },
   {
    "duration": 9,
    "start_time": "2021-12-17T06:27:01.378Z"
   },
   {
    "duration": 7,
    "start_time": "2021-12-17T06:35:21.157Z"
   },
   {
    "duration": 15,
    "start_time": "2021-12-17T06:38:02.891Z"
   },
   {
    "duration": 270,
    "start_time": "2021-12-17T06:38:39.742Z"
   },
   {
    "duration": 7,
    "start_time": "2021-12-17T06:38:49.633Z"
   },
   {
    "duration": 63,
    "start_time": "2021-12-17T06:39:43.709Z"
   },
   {
    "duration": 21,
    "start_time": "2021-12-17T06:39:43.773Z"
   },
   {
    "duration": 3,
    "start_time": "2021-12-17T06:39:43.796Z"
   },
   {
    "duration": 13,
    "start_time": "2021-12-17T06:39:43.800Z"
   },
   {
    "duration": 9,
    "start_time": "2021-12-17T06:39:43.815Z"
   },
   {
    "duration": 8,
    "start_time": "2021-12-17T06:39:43.825Z"
   },
   {
    "duration": 4,
    "start_time": "2021-12-17T06:39:43.835Z"
   },
   {
    "duration": 8,
    "start_time": "2021-12-17T06:39:43.841Z"
   },
   {
    "duration": 40,
    "start_time": "2021-12-17T06:39:43.851Z"
   },
   {
    "duration": 5,
    "start_time": "2021-12-17T06:39:43.893Z"
   },
   {
    "duration": 7,
    "start_time": "2021-12-17T06:39:43.900Z"
   },
   {
    "duration": 630,
    "start_time": "2021-12-17T06:40:14.616Z"
   },
   {
    "duration": 20,
    "start_time": "2021-12-17T06:40:15.248Z"
   },
   {
    "duration": 3,
    "start_time": "2021-12-17T06:40:15.270Z"
   },
   {
    "duration": 17,
    "start_time": "2021-12-17T06:40:15.275Z"
   },
   {
    "duration": 8,
    "start_time": "2021-12-17T06:40:15.293Z"
   },
   {
    "duration": 7,
    "start_time": "2021-12-17T06:40:17.463Z"
   },
   {
    "duration": 5,
    "start_time": "2021-12-17T06:40:49.625Z"
   },
   {
    "duration": 7,
    "start_time": "2021-12-17T06:41:07.153Z"
   },
   {
    "duration": 790,
    "start_time": "2021-12-17T06:41:53.795Z"
   },
   {
    "duration": 26,
    "start_time": "2021-12-17T06:41:54.587Z"
   },
   {
    "duration": 3,
    "start_time": "2021-12-17T06:41:54.615Z"
   },
   {
    "duration": 10,
    "start_time": "2021-12-17T06:41:54.620Z"
   },
   {
    "duration": 8,
    "start_time": "2021-12-17T06:41:54.632Z"
   },
   {
    "duration": 6,
    "start_time": "2021-12-17T06:41:59.334Z"
   },
   {
    "duration": 7,
    "start_time": "2021-12-17T06:42:02.923Z"
   },
   {
    "duration": 6,
    "start_time": "2021-12-17T06:42:20.184Z"
   },
   {
    "duration": 5,
    "start_time": "2021-12-17T06:42:44.435Z"
   },
   {
    "duration": 6,
    "start_time": "2021-12-17T06:43:36.042Z"
   },
   {
    "duration": 798,
    "start_time": "2021-12-17T06:45:30.683Z"
   },
   {
    "duration": 20,
    "start_time": "2021-12-17T06:45:31.483Z"
   },
   {
    "duration": 3,
    "start_time": "2021-12-17T06:45:31.505Z"
   },
   {
    "duration": 11,
    "start_time": "2021-12-17T06:45:31.510Z"
   },
   {
    "duration": 14,
    "start_time": "2021-12-17T06:45:31.523Z"
   },
   {
    "duration": 7,
    "start_time": "2021-12-17T06:45:39.082Z"
   },
   {
    "duration": 6,
    "start_time": "2021-12-17T06:45:49.784Z"
   },
   {
    "duration": 8,
    "start_time": "2021-12-17T06:45:50.885Z"
   },
   {
    "duration": 7,
    "start_time": "2021-12-17T06:45:51.740Z"
   },
   {
    "duration": 6,
    "start_time": "2021-12-17T06:46:17.742Z"
   },
   {
    "duration": 8,
    "start_time": "2021-12-17T06:46:18.592Z"
   },
   {
    "duration": 4,
    "start_time": "2021-12-17T06:47:11.313Z"
   },
   {
    "duration": 249,
    "start_time": "2021-12-17T06:50:43.656Z"
   },
   {
    "duration": 69,
    "start_time": "2021-12-17T06:51:10.240Z"
   },
   {
    "duration": 211,
    "start_time": "2021-12-17T06:51:17.277Z"
   },
   {
    "duration": 4,
    "start_time": "2021-12-17T06:52:02.152Z"
   },
   {
    "duration": 4,
    "start_time": "2021-12-17T06:52:30.457Z"
   },
   {
    "duration": 3,
    "start_time": "2021-12-17T06:52:55.144Z"
   },
   {
    "duration": 7,
    "start_time": "2021-12-17T06:54:48.275Z"
   },
   {
    "duration": 9,
    "start_time": "2021-12-17T06:55:00.516Z"
   },
   {
    "duration": 208,
    "start_time": "2021-12-17T06:55:29.997Z"
   },
   {
    "duration": 594,
    "start_time": "2021-12-17T06:57:33.133Z"
   },
   {
    "duration": 20,
    "start_time": "2021-12-17T06:57:33.729Z"
   },
   {
    "duration": 3,
    "start_time": "2021-12-17T06:57:33.751Z"
   },
   {
    "duration": 8,
    "start_time": "2021-12-17T06:57:37.387Z"
   },
   {
    "duration": 7,
    "start_time": "2021-12-17T06:58:05.524Z"
   },
   {
    "duration": 13,
    "start_time": "2021-12-17T06:59:59.402Z"
   },
   {
    "duration": 7,
    "start_time": "2021-12-17T07:00:28.600Z"
   },
   {
    "duration": 65,
    "start_time": "2021-12-17T07:00:44.957Z"
   },
   {
    "duration": 31,
    "start_time": "2021-12-17T07:00:45.024Z"
   },
   {
    "duration": 3,
    "start_time": "2021-12-17T07:00:45.057Z"
   },
   {
    "duration": 1008,
    "start_time": "2021-12-17T07:01:00.081Z"
   },
   {
    "duration": 20,
    "start_time": "2021-12-17T07:01:01.091Z"
   },
   {
    "duration": 4,
    "start_time": "2021-12-17T07:01:01.113Z"
   },
   {
    "duration": 17,
    "start_time": "2021-12-17T07:01:07.523Z"
   },
   {
    "duration": 8,
    "start_time": "2021-12-17T07:01:10.207Z"
   },
   {
    "duration": 643,
    "start_time": "2021-12-17T07:03:05.962Z"
   },
   {
    "duration": 20,
    "start_time": "2021-12-17T07:03:06.606Z"
   },
   {
    "duration": 26,
    "start_time": "2021-12-17T07:03:06.628Z"
   },
   {
    "duration": 5521,
    "start_time": "2021-12-17T07:03:10.711Z"
   },
   {
    "duration": 16,
    "start_time": "2021-12-17T07:03:32.858Z"
   },
   {
    "duration": 293,
    "start_time": "2021-12-17T07:05:21.435Z"
   },
   {
    "duration": 8,
    "start_time": "2021-12-17T07:05:45.577Z"
   },
   {
    "duration": 5629,
    "start_time": "2021-12-17T07:06:04.007Z"
   },
   {
    "duration": 5788,
    "start_time": "2021-12-17T07:06:23.895Z"
   },
   {
    "duration": 8,
    "start_time": "2021-12-17T07:06:53.619Z"
   },
   {
    "duration": 7,
    "start_time": "2021-12-17T07:08:17.412Z"
   },
   {
    "duration": 10,
    "start_time": "2021-12-17T07:08:34.355Z"
   },
   {
    "duration": 10,
    "start_time": "2021-12-17T07:09:19.245Z"
   },
   {
    "duration": 11,
    "start_time": "2021-12-17T07:10:09.967Z"
   },
   {
    "duration": 1945,
    "start_time": "2021-12-17T07:13:11.106Z"
   },
   {
    "duration": 1132,
    "start_time": "2021-12-17T07:13:23.295Z"
   },
   {
    "duration": 110,
    "start_time": "2021-12-17T07:15:02.942Z"
   },
   {
    "duration": 583,
    "start_time": "2021-12-17T07:15:12.293Z"
   },
   {
    "duration": 9,
    "start_time": "2021-12-17T07:15:55.096Z"
   },
   {
    "duration": 12,
    "start_time": "2021-12-17T07:19:37.566Z"
   },
   {
    "duration": 12,
    "start_time": "2021-12-17T07:20:10.936Z"
   },
   {
    "duration": 2260,
    "start_time": "2021-12-17T07:20:59.420Z"
   },
   {
    "duration": 20,
    "start_time": "2021-12-17T07:21:01.684Z"
   },
   {
    "duration": 4,
    "start_time": "2021-12-17T07:21:01.706Z"
   },
   {
    "duration": 36,
    "start_time": "2021-12-17T07:21:01.712Z"
   },
   {
    "duration": 7,
    "start_time": "2021-12-17T07:21:01.750Z"
   },
   {
    "duration": 12,
    "start_time": "2021-12-17T07:21:01.758Z"
   },
   {
    "duration": 17,
    "start_time": "2021-12-17T07:21:01.771Z"
   },
   {
    "duration": 11,
    "start_time": "2021-12-17T07:21:01.789Z"
   },
   {
    "duration": 12,
    "start_time": "2021-12-17T07:21:09.284Z"
   },
   {
    "duration": 19,
    "start_time": "2021-12-17T07:24:13.243Z"
   },
   {
    "duration": 17,
    "start_time": "2021-12-17T07:25:15.508Z"
   },
   {
    "duration": 1293,
    "start_time": "2021-12-17T07:26:54.892Z"
   },
   {
    "duration": 20,
    "start_time": "2021-12-17T07:26:56.186Z"
   },
   {
    "duration": 3,
    "start_time": "2021-12-17T07:26:56.208Z"
   },
   {
    "duration": 14,
    "start_time": "2021-12-17T07:26:56.212Z"
   },
   {
    "duration": 6,
    "start_time": "2021-12-17T07:26:56.228Z"
   },
   {
    "duration": 8,
    "start_time": "2021-12-17T07:26:56.235Z"
   },
   {
    "duration": 5,
    "start_time": "2021-12-17T07:26:56.245Z"
   },
   {
    "duration": 45,
    "start_time": "2021-12-17T07:26:56.252Z"
   },
   {
    "duration": 91,
    "start_time": "2021-12-17T07:29:42.218Z"
   },
   {
    "duration": 99,
    "start_time": "2021-12-17T07:31:11.954Z"
   },
   {
    "duration": 273,
    "start_time": "2021-12-17T07:31:39.932Z"
   },
   {
    "duration": 218,
    "start_time": "2021-12-17T07:31:55.385Z"
   },
   {
    "duration": 26811,
    "start_time": "2021-12-17T07:32:11.801Z"
   },
   {
    "duration": 58679,
    "start_time": "2021-12-17T07:33:38.958Z"
   },
   {
    "duration": 985,
    "start_time": "2021-12-17T07:34:51.936Z"
   },
   {
    "duration": 26603,
    "start_time": "2021-12-17T07:35:08.849Z"
   },
   {
    "duration": 598,
    "start_time": "2021-12-17T07:36:01.514Z"
   },
   {
    "duration": 20,
    "start_time": "2021-12-17T07:36:02.114Z"
   },
   {
    "duration": 4,
    "start_time": "2021-12-17T07:36:02.136Z"
   },
   {
    "duration": 27,
    "start_time": "2021-12-17T07:36:02.141Z"
   },
   {
    "duration": 20,
    "start_time": "2021-12-17T07:36:02.169Z"
   },
   {
    "duration": 18,
    "start_time": "2021-12-17T07:36:02.191Z"
   },
   {
    "duration": 18,
    "start_time": "2021-12-17T07:36:02.210Z"
   },
   {
    "duration": 19,
    "start_time": "2021-12-17T07:36:02.230Z"
   },
   {
    "duration": 25877,
    "start_time": "2021-12-17T07:36:06.305Z"
   },
   {
    "duration": 43573,
    "start_time": "2021-12-17T07:38:17.036Z"
   },
   {
    "duration": 609,
    "start_time": "2021-12-17T07:41:18.772Z"
   },
   {
    "duration": 21,
    "start_time": "2021-12-17T07:41:19.383Z"
   },
   {
    "duration": 27,
    "start_time": "2021-12-17T07:41:19.406Z"
   },
   {
    "duration": 19,
    "start_time": "2021-12-17T07:41:19.435Z"
   },
   {
    "duration": 19,
    "start_time": "2021-12-17T07:41:19.456Z"
   },
   {
    "duration": 20,
    "start_time": "2021-12-17T07:41:19.477Z"
   },
   {
    "duration": 12,
    "start_time": "2021-12-17T07:41:19.499Z"
   },
   {
    "duration": 33,
    "start_time": "2021-12-17T07:41:19.513Z"
   },
   {
    "duration": 88151,
    "start_time": "2021-12-17T07:41:24.134Z"
   },
   {
    "duration": 53999,
    "start_time": "2021-12-17T07:44:01.029Z"
   },
   {
    "duration": 51874,
    "start_time": "2021-12-17T07:45:26.123Z"
   },
   {
    "duration": 634,
    "start_time": "2021-12-17T07:47:20.068Z"
   },
   {
    "duration": 20,
    "start_time": "2021-12-17T07:47:20.704Z"
   },
   {
    "duration": 3,
    "start_time": "2021-12-17T07:47:20.727Z"
   },
   {
    "duration": 13,
    "start_time": "2021-12-17T07:47:20.732Z"
   },
   {
    "duration": 6,
    "start_time": "2021-12-17T07:47:20.747Z"
   },
   {
    "duration": 37,
    "start_time": "2021-12-17T07:47:20.754Z"
   },
   {
    "duration": 5,
    "start_time": "2021-12-17T07:47:20.792Z"
   },
   {
    "duration": 12,
    "start_time": "2021-12-17T07:47:20.799Z"
   },
   {
    "duration": 86586,
    "start_time": "2021-12-17T07:47:20.812Z"
   },
   {
    "duration": 51949,
    "start_time": "2021-12-17T07:48:47.400Z"
   },
   {
    "duration": 287,
    "start_time": "2021-12-17T07:51:20.818Z"
   },
   {
    "duration": 7,
    "start_time": "2021-12-17T07:52:33.076Z"
   },
   {
    "duration": 72,
    "start_time": "2021-12-17T07:58:35.876Z"
   },
   {
    "duration": 72,
    "start_time": "2021-12-17T07:58:49.836Z"
   },
   {
    "duration": 75,
    "start_time": "2021-12-17T07:58:56.464Z"
   },
   {
    "duration": 30,
    "start_time": "2021-12-17T07:59:19.545Z"
   },
   {
    "duration": 16,
    "start_time": "2021-12-17T07:59:32.942Z"
   },
   {
    "duration": 10,
    "start_time": "2021-12-17T08:00:41.200Z"
   },
   {
    "duration": 11,
    "start_time": "2021-12-17T08:01:40.983Z"
   },
   {
    "duration": 639,
    "start_time": "2021-12-17T08:05:07.679Z"
   },
   {
    "duration": 20,
    "start_time": "2021-12-17T08:05:08.320Z"
   },
   {
    "duration": 3,
    "start_time": "2021-12-17T08:05:08.341Z"
   },
   {
    "duration": 14,
    "start_time": "2021-12-17T08:05:08.346Z"
   },
   {
    "duration": 27,
    "start_time": "2021-12-17T08:05:08.361Z"
   },
   {
    "duration": 7,
    "start_time": "2021-12-17T08:05:08.390Z"
   },
   {
    "duration": 5,
    "start_time": "2021-12-17T08:05:08.398Z"
   },
   {
    "duration": 349,
    "start_time": "2021-12-17T08:05:08.406Z"
   },
   {
    "duration": 1590,
    "start_time": "2021-12-17T08:05:07.167Z"
   },
   {
    "duration": 1585,
    "start_time": "2021-12-17T08:05:07.173Z"
   },
   {
    "duration": 1582,
    "start_time": "2021-12-17T08:05:07.177Z"
   },
   {
    "duration": 1569,
    "start_time": "2021-12-17T08:05:07.191Z"
   },
   {
    "duration": 366,
    "start_time": "2021-12-17T08:05:38.133Z"
   },
   {
    "duration": 732,
    "start_time": "2021-12-17T08:05:58.146Z"
   },
   {
    "duration": 21,
    "start_time": "2021-12-17T08:05:58.880Z"
   },
   {
    "duration": 4,
    "start_time": "2021-12-17T08:05:58.903Z"
   },
   {
    "duration": 24,
    "start_time": "2021-12-17T08:05:58.909Z"
   },
   {
    "duration": 6,
    "start_time": "2021-12-17T08:05:58.935Z"
   },
   {
    "duration": 13,
    "start_time": "2021-12-17T08:05:58.943Z"
   },
   {
    "duration": 5,
    "start_time": "2021-12-17T08:05:58.957Z"
   },
   {
    "duration": 29,
    "start_time": "2021-12-17T08:05:58.964Z"
   },
   {
    "duration": 88694,
    "start_time": "2021-12-17T08:06:05.679Z"
   },
   {
    "duration": 51297,
    "start_time": "2021-12-17T08:07:34.375Z"
   },
   {
    "duration": 14,
    "start_time": "2021-12-17T08:08:25.673Z"
   },
   {
    "duration": 27,
    "start_time": "2021-12-17T08:08:25.689Z"
   },
   {
    "duration": 272,
    "start_time": "2021-12-17T08:08:25.718Z"
   },
   {
    "duration": 12,
    "start_time": "2021-12-17T08:11:09.735Z"
   },
   {
    "duration": 251,
    "start_time": "2021-12-18T05:21:36.059Z"
   },
   {
    "duration": 666,
    "start_time": "2021-12-18T05:22:07.659Z"
   },
   {
    "duration": 23,
    "start_time": "2021-12-18T05:22:08.326Z"
   },
   {
    "duration": 4,
    "start_time": "2021-12-18T05:22:08.363Z"
   },
   {
    "duration": 15,
    "start_time": "2021-12-18T05:22:08.369Z"
   },
   {
    "duration": 7,
    "start_time": "2021-12-18T05:22:08.386Z"
   },
   {
    "duration": 10,
    "start_time": "2021-12-18T05:22:08.395Z"
   },
   {
    "duration": 7,
    "start_time": "2021-12-18T05:22:08.407Z"
   },
   {
    "duration": 50,
    "start_time": "2021-12-18T05:22:08.416Z"
   },
   {
    "duration": 88916,
    "start_time": "2021-12-18T05:22:08.468Z"
   },
   {
    "duration": 53900,
    "start_time": "2021-12-18T05:23:37.386Z"
   },
   {
    "duration": 8,
    "start_time": "2021-12-18T05:24:31.288Z"
   },
   {
    "duration": 21,
    "start_time": "2021-12-18T05:24:31.297Z"
   },
   {
    "duration": 12,
    "start_time": "2021-12-18T05:24:31.320Z"
   },
   {
    "duration": 44,
    "start_time": "2021-12-18T05:24:31.334Z"
   },
   {
    "duration": 27,
    "start_time": "2021-12-18T05:29:05.838Z"
   },
   {
    "duration": 1697,
    "start_time": "2021-12-18T05:34:18.436Z"
   },
   {
    "duration": 1738,
    "start_time": "2021-12-18T05:34:32.890Z"
   },
   {
    "duration": 223,
    "start_time": "2021-12-18T05:35:45.365Z"
   },
   {
    "duration": 234,
    "start_time": "2021-12-18T05:36:17.349Z"
   },
   {
    "duration": 264,
    "start_time": "2021-12-18T05:37:25.893Z"
   },
   {
    "duration": 16,
    "start_time": "2021-12-18T05:38:58.407Z"
   },
   {
    "duration": 227,
    "start_time": "2021-12-18T05:40:39.708Z"
   },
   {
    "duration": 218,
    "start_time": "2021-12-18T05:45:31.976Z"
   },
   {
    "duration": 214,
    "start_time": "2021-12-18T05:45:47.381Z"
   },
   {
    "duration": 35,
    "start_time": "2021-12-18T05:49:19.911Z"
   },
   {
    "duration": 33,
    "start_time": "2021-12-18T05:49:28.031Z"
   },
   {
    "duration": 662,
    "start_time": "2021-12-18T05:49:57.204Z"
   },
   {
    "duration": 23,
    "start_time": "2021-12-18T05:49:57.868Z"
   },
   {
    "duration": 3,
    "start_time": "2021-12-18T05:49:57.893Z"
   },
   {
    "duration": 15,
    "start_time": "2021-12-18T05:49:57.899Z"
   },
   {
    "duration": 7,
    "start_time": "2021-12-18T05:49:57.915Z"
   },
   {
    "duration": 43,
    "start_time": "2021-12-18T05:49:57.924Z"
   },
   {
    "duration": 6,
    "start_time": "2021-12-18T05:49:57.969Z"
   },
   {
    "duration": 14,
    "start_time": "2021-12-18T05:49:57.978Z"
   },
   {
    "duration": 89111,
    "start_time": "2021-12-18T05:49:57.994Z"
   },
   {
    "duration": 53551,
    "start_time": "2021-12-18T05:51:27.107Z"
   },
   {
    "duration": 7,
    "start_time": "2021-12-18T05:52:20.663Z"
   },
   {
    "duration": 18,
    "start_time": "2021-12-18T05:52:20.671Z"
   },
   {
    "duration": 19,
    "start_time": "2021-12-18T05:52:20.691Z"
   },
   {
    "duration": 27,
    "start_time": "2021-12-18T05:52:20.712Z"
   },
   {
    "duration": 50,
    "start_time": "2021-12-18T05:52:20.741Z"
   },
   {
    "duration": 23,
    "start_time": "2021-12-18T05:53:47.812Z"
   },
   {
    "duration": 12,
    "start_time": "2021-12-18T05:53:48.744Z"
   },
   {
    "duration": 13,
    "start_time": "2021-12-18T05:53:53.561Z"
   },
   {
    "duration": 14,
    "start_time": "2021-12-18T05:53:58.441Z"
   },
   {
    "duration": 13,
    "start_time": "2021-12-18T05:54:00.951Z"
   },
   {
    "duration": 12,
    "start_time": "2021-12-18T05:54:03.666Z"
   },
   {
    "duration": 15,
    "start_time": "2021-12-18T05:54:06.376Z"
   },
   {
    "duration": 12,
    "start_time": "2021-12-18T05:54:08.685Z"
   },
   {
    "duration": 13,
    "start_time": "2021-12-18T05:54:57.601Z"
   },
   {
    "duration": 13,
    "start_time": "2021-12-18T05:54:59.631Z"
   },
   {
    "duration": 14,
    "start_time": "2021-12-18T05:55:00.913Z"
   },
   {
    "duration": 15,
    "start_time": "2021-12-18T05:55:02.405Z"
   },
   {
    "duration": 15,
    "start_time": "2021-12-18T05:55:05.969Z"
   },
   {
    "duration": 13,
    "start_time": "2021-12-18T05:55:06.696Z"
   },
   {
    "duration": 15,
    "start_time": "2021-12-18T05:55:10.154Z"
   },
   {
    "duration": 14,
    "start_time": "2021-12-18T05:55:10.848Z"
   },
   {
    "duration": 18,
    "start_time": "2021-12-18T05:55:26.801Z"
   },
   {
    "duration": 10,
    "start_time": "2021-12-18T05:55:50.052Z"
   },
   {
    "duration": 11,
    "start_time": "2021-12-18T05:56:50.773Z"
   },
   {
    "duration": 67,
    "start_time": "2021-12-18T05:57:34.982Z"
   },
   {
    "duration": 23,
    "start_time": "2021-12-18T05:57:35.052Z"
   },
   {
    "duration": 4,
    "start_time": "2021-12-18T05:57:35.077Z"
   },
   {
    "duration": 13,
    "start_time": "2021-12-18T05:57:35.083Z"
   },
   {
    "duration": 7,
    "start_time": "2021-12-18T05:57:35.098Z"
   },
   {
    "duration": 10,
    "start_time": "2021-12-18T05:57:35.106Z"
   },
   {
    "duration": 6,
    "start_time": "2021-12-18T05:57:35.118Z"
   },
   {
    "duration": 45,
    "start_time": "2021-12-18T05:57:35.126Z"
   },
   {
    "duration": 766,
    "start_time": "2021-12-18T05:57:48.071Z"
   },
   {
    "duration": 22,
    "start_time": "2021-12-18T05:57:48.839Z"
   },
   {
    "duration": 4,
    "start_time": "2021-12-18T05:57:48.866Z"
   },
   {
    "duration": 21,
    "start_time": "2021-12-18T05:57:48.872Z"
   },
   {
    "duration": 8,
    "start_time": "2021-12-18T05:57:48.895Z"
   },
   {
    "duration": 10,
    "start_time": "2021-12-18T05:57:48.905Z"
   },
   {
    "duration": 6,
    "start_time": "2021-12-18T05:57:48.917Z"
   },
   {
    "duration": 19,
    "start_time": "2021-12-18T05:57:48.963Z"
   },
   {
    "duration": 147679,
    "start_time": "2021-12-18T05:57:48.985Z"
   },
   {
    "duration": 75372,
    "start_time": "2021-12-18T06:00:16.666Z"
   },
   {
    "duration": 8,
    "start_time": "2021-12-18T06:01:32.040Z"
   },
   {
    "duration": 23,
    "start_time": "2021-12-18T06:01:32.050Z"
   },
   {
    "duration": 14,
    "start_time": "2021-12-18T06:01:32.075Z"
   },
   {
    "duration": 30,
    "start_time": "2021-12-18T06:01:32.091Z"
   },
   {
    "duration": 9,
    "start_time": "2021-12-18T06:01:54.580Z"
   },
   {
    "duration": 11,
    "start_time": "2021-12-18T06:02:11.049Z"
   },
   {
    "duration": 412,
    "start_time": "2021-12-18T06:02:43.721Z"
   },
   {
    "duration": 8,
    "start_time": "2021-12-18T06:04:59.688Z"
   },
   {
    "duration": 10,
    "start_time": "2021-12-18T06:06:26.432Z"
   },
   {
    "duration": 9,
    "start_time": "2021-12-18T06:06:39.815Z"
   },
   {
    "duration": 9,
    "start_time": "2021-12-18T06:07:03.708Z"
   },
   {
    "duration": 227,
    "start_time": "2021-12-18T06:07:31.243Z"
   },
   {
    "duration": 9,
    "start_time": "2021-12-18T06:07:45.362Z"
   },
   {
    "duration": 92,
    "start_time": "2021-12-18T06:09:14.909Z"
   },
   {
    "duration": 73,
    "start_time": "2021-12-18T06:09:15.708Z"
   },
   {
    "duration": 10,
    "start_time": "2021-12-18T06:09:20.660Z"
   },
   {
    "duration": 11,
    "start_time": "2021-12-18T06:09:25.137Z"
   },
   {
    "duration": 11,
    "start_time": "2021-12-18T06:09:28.671Z"
   },
   {
    "duration": 9,
    "start_time": "2021-12-18T06:09:32.854Z"
   },
   {
    "duration": 11,
    "start_time": "2021-12-18T06:09:36.621Z"
   },
   {
    "duration": 8,
    "start_time": "2021-12-18T06:09:40.409Z"
   },
   {
    "duration": 621,
    "start_time": "2021-12-18T06:10:54.611Z"
   },
   {
    "duration": 23,
    "start_time": "2021-12-18T06:10:55.233Z"
   },
   {
    "duration": 5,
    "start_time": "2021-12-18T06:10:55.258Z"
   },
   {
    "duration": 15,
    "start_time": "2021-12-18T06:10:55.265Z"
   },
   {
    "duration": 9,
    "start_time": "2021-12-18T06:10:55.281Z"
   },
   {
    "duration": 9,
    "start_time": "2021-12-18T06:10:55.292Z"
   },
   {
    "duration": 7,
    "start_time": "2021-12-18T06:10:55.303Z"
   },
   {
    "duration": 60,
    "start_time": "2021-12-18T06:10:55.313Z"
   },
   {
    "duration": 89710,
    "start_time": "2021-12-18T06:10:55.375Z"
   },
   {
    "duration": 52761,
    "start_time": "2021-12-18T06:12:25.087Z"
   },
   {
    "duration": 18,
    "start_time": "2021-12-18T06:13:17.850Z"
   },
   {
    "duration": 11,
    "start_time": "2021-12-18T06:13:17.870Z"
   },
   {
    "duration": 26,
    "start_time": "2021-12-18T06:14:31.910Z"
   },
   {
    "duration": 84,
    "start_time": "2021-12-18T06:18:12.825Z"
   },
   {
    "duration": 13,
    "start_time": "2021-12-18T06:18:27.176Z"
   },
   {
    "duration": 22,
    "start_time": "2021-12-18T06:18:33.503Z"
   },
   {
    "duration": 11,
    "start_time": "2021-12-18T06:18:38.069Z"
   },
   {
    "duration": 12,
    "start_time": "2021-12-18T06:18:39.057Z"
   },
   {
    "duration": 10,
    "start_time": "2021-12-18T06:18:39.705Z"
   },
   {
    "duration": 8,
    "start_time": "2021-12-18T06:18:40.723Z"
   },
   {
    "duration": 13,
    "start_time": "2021-12-18T06:18:41.328Z"
   },
   {
    "duration": 9,
    "start_time": "2021-12-18T06:18:41.991Z"
   },
   {
    "duration": 10,
    "start_time": "2021-12-18T06:19:31.342Z"
   },
   {
    "duration": 9,
    "start_time": "2021-12-18T06:20:05.652Z"
   },
   {
    "duration": 744,
    "start_time": "2021-12-18T06:20:45.036Z"
   },
   {
    "duration": 21,
    "start_time": "2021-12-18T06:20:45.782Z"
   },
   {
    "duration": 4,
    "start_time": "2021-12-18T06:20:45.805Z"
   },
   {
    "duration": 15,
    "start_time": "2021-12-18T06:20:45.810Z"
   },
   {
    "duration": 7,
    "start_time": "2021-12-18T06:20:45.826Z"
   },
   {
    "duration": 34,
    "start_time": "2021-12-18T06:20:45.834Z"
   },
   {
    "duration": 6,
    "start_time": "2021-12-18T06:20:45.870Z"
   },
   {
    "duration": 15,
    "start_time": "2021-12-18T06:20:45.878Z"
   },
   {
    "duration": 89651,
    "start_time": "2021-12-18T06:20:45.895Z"
   },
   {
    "duration": 53037,
    "start_time": "2021-12-18T06:22:15.547Z"
   },
   {
    "duration": 7,
    "start_time": "2021-12-18T06:23:08.586Z"
   },
   {
    "duration": 11,
    "start_time": "2021-12-18T06:23:08.595Z"
   },
   {
    "duration": 24,
    "start_time": "2021-12-18T06:23:08.607Z"
   },
   {
    "duration": 42,
    "start_time": "2021-12-18T06:23:08.632Z"
   },
   {
    "duration": 22,
    "start_time": "2021-12-18T06:23:08.676Z"
   },
   {
    "duration": 9,
    "start_time": "2021-12-18T06:23:08.700Z"
   },
   {
    "duration": 32,
    "start_time": "2021-12-18T06:23:08.710Z"
   },
   {
    "duration": 34,
    "start_time": "2021-12-18T06:23:08.743Z"
   },
   {
    "duration": 39,
    "start_time": "2021-12-18T06:23:08.779Z"
   },
   {
    "duration": 32,
    "start_time": "2021-12-18T06:23:08.820Z"
   },
   {
    "duration": 33,
    "start_time": "2021-12-18T06:23:08.854Z"
   },
   {
    "duration": 28,
    "start_time": "2021-12-18T06:23:08.889Z"
   },
   {
    "duration": 94,
    "start_time": "2021-12-18T06:25:06.385Z"
   },
   {
    "duration": 45,
    "start_time": "2021-12-18T06:25:13.232Z"
   },
   {
    "duration": 12,
    "start_time": "2021-12-18T06:25:17.496Z"
   },
   {
    "duration": 76,
    "start_time": "2021-12-18T06:25:53.392Z"
   },
   {
    "duration": 10,
    "start_time": "2021-12-18T06:26:00.982Z"
   },
   {
    "duration": 11,
    "start_time": "2021-12-18T06:26:39.807Z"
   },
   {
    "duration": 45,
    "start_time": "2021-12-18T06:27:22.212Z"
   },
   {
    "duration": 50,
    "start_time": "2021-12-18T06:27:23.183Z"
   },
   {
    "duration": 50,
    "start_time": "2021-12-18T06:27:23.753Z"
   },
   {
    "duration": 36,
    "start_time": "2021-12-18T06:27:24.393Z"
   },
   {
    "duration": 54,
    "start_time": "2021-12-18T06:27:25.280Z"
   },
   {
    "duration": 35,
    "start_time": "2021-12-18T06:27:26.197Z"
   },
   {
    "duration": 10,
    "start_time": "2021-12-18T06:27:27.788Z"
   },
   {
    "duration": 362,
    "start_time": "2021-12-18T06:28:04.742Z"
   },
   {
    "duration": 695,
    "start_time": "2021-12-18T06:28:14.731Z"
   },
   {
    "duration": 21,
    "start_time": "2021-12-18T06:28:15.427Z"
   },
   {
    "duration": 15,
    "start_time": "2021-12-18T06:28:15.450Z"
   },
   {
    "duration": 14,
    "start_time": "2021-12-18T06:28:15.467Z"
   },
   {
    "duration": 7,
    "start_time": "2021-12-18T06:28:15.483Z"
   },
   {
    "duration": 8,
    "start_time": "2021-12-18T06:28:15.491Z"
   },
   {
    "duration": 6,
    "start_time": "2021-12-18T06:28:15.501Z"
   },
   {
    "duration": 12,
    "start_time": "2021-12-18T06:28:15.509Z"
   },
   {
    "duration": 91744,
    "start_time": "2021-12-18T06:28:15.523Z"
   },
   {
    "duration": 55249,
    "start_time": "2021-12-18T06:29:47.268Z"
   },
   {
    "duration": 8,
    "start_time": "2021-12-18T06:30:42.518Z"
   },
   {
    "duration": 11,
    "start_time": "2021-12-18T06:30:42.528Z"
   },
   {
    "duration": 48,
    "start_time": "2021-12-18T06:30:42.541Z"
   },
   {
    "duration": 17,
    "start_time": "2021-12-18T06:30:42.591Z"
   },
   {
    "duration": 53,
    "start_time": "2021-12-18T06:30:42.610Z"
   },
   {
    "duration": 51,
    "start_time": "2021-12-18T06:30:42.665Z"
   },
   {
    "duration": 65,
    "start_time": "2021-12-18T06:30:42.717Z"
   },
   {
    "duration": 50,
    "start_time": "2021-12-18T06:30:42.785Z"
   },
   {
    "duration": 57,
    "start_time": "2021-12-18T06:30:42.837Z"
   },
   {
    "duration": 74,
    "start_time": "2021-12-18T06:30:42.895Z"
   },
   {
    "duration": 39,
    "start_time": "2021-12-18T06:30:42.971Z"
   },
   {
    "duration": 10,
    "start_time": "2021-12-18T06:30:50.920Z"
   },
   {
    "duration": 734,
    "start_time": "2021-12-18T06:31:58.616Z"
   },
   {
    "duration": 22,
    "start_time": "2021-12-18T06:31:59.352Z"
   },
   {
    "duration": 4,
    "start_time": "2021-12-18T06:31:59.376Z"
   },
   {
    "duration": 40,
    "start_time": "2021-12-18T06:31:59.382Z"
   },
   {
    "duration": 7,
    "start_time": "2021-12-18T06:31:59.423Z"
   },
   {
    "duration": 35,
    "start_time": "2021-12-18T06:31:59.432Z"
   },
   {
    "duration": 14,
    "start_time": "2021-12-18T06:31:59.468Z"
   },
   {
    "duration": 26,
    "start_time": "2021-12-18T06:31:59.484Z"
   },
   {
    "duration": 93876,
    "start_time": "2021-12-18T06:31:59.512Z"
   },
   {
    "duration": 55951,
    "start_time": "2021-12-18T06:33:33.390Z"
   },
   {
    "duration": 20,
    "start_time": "2021-12-18T06:34:29.343Z"
   },
   {
    "duration": 12,
    "start_time": "2021-12-18T06:34:29.365Z"
   },
   {
    "duration": 39,
    "start_time": "2021-12-18T06:34:29.379Z"
   },
   {
    "duration": 32,
    "start_time": "2021-12-18T06:34:29.420Z"
   },
   {
    "duration": 22,
    "start_time": "2021-12-18T06:34:29.455Z"
   },
   {
    "duration": 47119,
    "start_time": "2021-12-18T06:34:39.620Z"
   },
   {
    "duration": 9,
    "start_time": "2021-12-18T06:35:26.741Z"
   },
   {
    "duration": 47,
    "start_time": "2021-12-18T06:36:13.567Z"
   },
   {
    "duration": 11,
    "start_time": "2021-12-18T06:36:17.278Z"
   },
   {
    "duration": 48,
    "start_time": "2021-12-18T06:36:25.763Z"
   },
   {
    "duration": 11,
    "start_time": "2021-12-18T06:36:28.956Z"
   },
   {
    "duration": 48,
    "start_time": "2021-12-18T06:36:33.162Z"
   },
   {
    "duration": 10,
    "start_time": "2021-12-18T06:36:35.825Z"
   },
   {
    "duration": 36,
    "start_time": "2021-12-18T06:36:56.775Z"
   },
   {
    "duration": 10,
    "start_time": "2021-12-18T06:36:59.621Z"
   },
   {
    "duration": 55,
    "start_time": "2021-12-18T06:37:09.323Z"
   },
   {
    "duration": 11,
    "start_time": "2021-12-18T06:37:11.744Z"
   },
   {
    "duration": 34,
    "start_time": "2021-12-18T06:37:15.281Z"
   },
   {
    "duration": 10,
    "start_time": "2021-12-18T06:37:18.046Z"
   },
   {
    "duration": 65,
    "start_time": "2021-12-18T06:38:33.178Z"
   },
   {
    "duration": 21,
    "start_time": "2021-12-18T06:38:33.245Z"
   },
   {
    "duration": 4,
    "start_time": "2021-12-18T06:38:33.267Z"
   },
   {
    "duration": 14,
    "start_time": "2021-12-18T06:38:33.272Z"
   },
   {
    "duration": 7,
    "start_time": "2021-12-18T06:38:33.288Z"
   },
   {
    "duration": 10,
    "start_time": "2021-12-18T06:38:33.297Z"
   },
   {
    "duration": 7,
    "start_time": "2021-12-18T06:38:33.308Z"
   },
   {
    "duration": 14,
    "start_time": "2021-12-18T06:38:33.317Z"
   },
   {
    "duration": 92105,
    "start_time": "2021-12-18T06:38:33.333Z"
   },
   {
    "duration": 53025,
    "start_time": "2021-12-18T06:40:05.439Z"
   },
   {
    "duration": 7,
    "start_time": "2021-12-18T06:40:58.466Z"
   },
   {
    "duration": 11,
    "start_time": "2021-12-18T06:40:58.474Z"
   },
   {
    "duration": 23,
    "start_time": "2021-12-18T06:40:58.487Z"
   },
   {
    "duration": 14,
    "start_time": "2021-12-18T06:40:58.511Z"
   },
   {
    "duration": 55,
    "start_time": "2021-12-18T06:40:58.526Z"
   },
   {
    "duration": 225,
    "start_time": "2021-12-18T06:41:45.481Z"
   },
   {
    "duration": 3,
    "start_time": "2021-12-18T06:42:35.628Z"
   },
   {
    "duration": 11,
    "start_time": "2021-12-18T06:42:46.789Z"
   },
   {
    "duration": 641,
    "start_time": "2021-12-18T06:43:57.679Z"
   },
   {
    "duration": 21,
    "start_time": "2021-12-18T06:43:58.321Z"
   },
   {
    "duration": 19,
    "start_time": "2021-12-18T06:43:58.344Z"
   },
   {
    "duration": 15,
    "start_time": "2021-12-18T06:43:58.365Z"
   },
   {
    "duration": 7,
    "start_time": "2021-12-18T06:43:58.381Z"
   },
   {
    "duration": 10,
    "start_time": "2021-12-18T06:43:58.390Z"
   },
   {
    "duration": 5,
    "start_time": "2021-12-18T06:43:58.402Z"
   },
   {
    "duration": 12,
    "start_time": "2021-12-18T06:43:58.410Z"
   },
   {
    "duration": 89883,
    "start_time": "2021-12-18T06:43:58.424Z"
   },
   {
    "duration": 54031,
    "start_time": "2021-12-18T06:45:28.308Z"
   },
   {
    "duration": 7,
    "start_time": "2021-12-18T06:46:22.341Z"
   },
   {
    "duration": 26,
    "start_time": "2021-12-18T06:46:22.349Z"
   },
   {
    "duration": 24,
    "start_time": "2021-12-18T06:46:22.377Z"
   },
   {
    "duration": 11,
    "start_time": "2021-12-18T06:46:22.403Z"
   },
   {
    "duration": 23,
    "start_time": "2021-12-18T06:46:22.415Z"
   },
   {
    "duration": 1022,
    "start_time": "2021-12-18T06:46:29.992Z"
   },
   {
    "duration": 49,
    "start_time": "2021-12-18T06:48:01.278Z"
   },
   {
    "duration": 47,
    "start_time": "2021-12-18T06:48:02.003Z"
   },
   {
    "duration": 33,
    "start_time": "2021-12-18T06:48:02.571Z"
   },
   {
    "duration": 53,
    "start_time": "2021-12-18T06:48:03.088Z"
   },
   {
    "duration": 34,
    "start_time": "2021-12-18T06:48:03.813Z"
   },
   {
    "duration": 10,
    "start_time": "2021-12-18T06:48:04.569Z"
   },
   {
    "duration": 47,
    "start_time": "2021-12-18T06:48:33.366Z"
   },
   {
    "duration": 46,
    "start_time": "2021-12-18T06:48:34.909Z"
   },
   {
    "duration": 51,
    "start_time": "2021-12-18T06:48:45.680Z"
   },
   {
    "duration": 35,
    "start_time": "2021-12-18T06:48:46.364Z"
   },
   {
    "duration": 47,
    "start_time": "2021-12-18T06:48:58.033Z"
   },
   {
    "duration": 48,
    "start_time": "2021-12-18T06:49:08.345Z"
   },
   {
    "duration": 34,
    "start_time": "2021-12-18T06:49:38.249Z"
   },
   {
    "duration": 56,
    "start_time": "2021-12-18T06:49:44.760Z"
   },
   {
    "duration": 35,
    "start_time": "2021-12-18T06:49:50.625Z"
   },
   {
    "duration": 10,
    "start_time": "2021-12-18T06:49:57.333Z"
   },
   {
    "duration": 11,
    "start_time": "2021-12-18T06:50:22.531Z"
   },
   {
    "duration": 11,
    "start_time": "2021-12-18T06:50:30.195Z"
   },
   {
    "duration": 9,
    "start_time": "2021-12-18T06:50:42.869Z"
   },
   {
    "duration": 8,
    "start_time": "2021-12-18T06:51:24.579Z"
   },
   {
    "duration": 10,
    "start_time": "2021-12-18T06:51:34.210Z"
   },
   {
    "duration": 8,
    "start_time": "2021-12-18T06:51:46.379Z"
   },
   {
    "duration": 18716,
    "start_time": "2021-12-18T06:57:41.142Z"
   },
   {
    "duration": 10,
    "start_time": "2021-12-18T07:06:47.955Z"
   },
   {
    "duration": 9,
    "start_time": "2021-12-18T07:06:50.170Z"
   },
   {
    "duration": 10,
    "start_time": "2021-12-18T07:06:51.352Z"
   },
   {
    "duration": 8,
    "start_time": "2021-12-18T07:06:52.302Z"
   },
   {
    "duration": 10,
    "start_time": "2021-12-18T07:06:53.279Z"
   },
   {
    "duration": 8,
    "start_time": "2021-12-18T07:06:54.091Z"
   },
   {
    "duration": 9,
    "start_time": "2021-12-18T07:07:05.923Z"
   },
   {
    "duration": 15,
    "start_time": "2021-12-18T07:07:29.944Z"
   },
   {
    "duration": 17,
    "start_time": "2021-12-18T07:07:48.506Z"
   },
   {
    "duration": 20,
    "start_time": "2021-12-18T07:08:31.660Z"
   },
   {
    "duration": 24,
    "start_time": "2021-12-18T07:08:53.488Z"
   },
   {
    "duration": 120,
    "start_time": "2021-12-18T07:09:53.833Z"
   },
   {
    "duration": 122,
    "start_time": "2021-12-18T07:10:50.398Z"
   },
   {
    "duration": 573,
    "start_time": "2021-12-18T07:12:52.747Z"
   },
   {
    "duration": 76,
    "start_time": "2021-12-18T07:13:46.135Z"
   },
   {
    "duration": 215,
    "start_time": "2021-12-18T07:14:34.392Z"
   },
   {
    "duration": 223,
    "start_time": "2021-12-18T07:14:53.998Z"
   },
   {
    "duration": 64,
    "start_time": "2021-12-18T07:23:59.629Z"
   },
   {
    "duration": 38,
    "start_time": "2021-12-18T07:24:37.633Z"
   },
   {
    "duration": 66,
    "start_time": "2021-12-18T07:26:21.631Z"
   },
   {
    "duration": 663,
    "start_time": "2021-12-18T07:27:20.124Z"
   },
   {
    "duration": 20,
    "start_time": "2021-12-18T07:27:20.789Z"
   },
   {
    "duration": 30,
    "start_time": "2021-12-18T07:27:20.811Z"
   },
   {
    "duration": 35,
    "start_time": "2021-12-18T07:27:20.843Z"
   },
   {
    "duration": 26,
    "start_time": "2021-12-18T07:27:20.879Z"
   },
   {
    "duration": 39,
    "start_time": "2021-12-18T07:27:20.906Z"
   },
   {
    "duration": 12,
    "start_time": "2021-12-18T07:27:20.947Z"
   },
   {
    "duration": 36,
    "start_time": "2021-12-18T07:27:20.962Z"
   },
   {
    "duration": 91468,
    "start_time": "2021-12-18T07:27:21.000Z"
   },
   {
    "duration": 55401,
    "start_time": "2021-12-18T07:28:52.470Z"
   },
   {
    "duration": 7,
    "start_time": "2021-12-18T07:29:47.872Z"
   },
   {
    "duration": 12,
    "start_time": "2021-12-18T07:29:47.880Z"
   },
   {
    "duration": 29,
    "start_time": "2021-12-18T07:29:47.893Z"
   },
   {
    "duration": 41,
    "start_time": "2021-12-18T07:29:47.924Z"
   },
   {
    "duration": 23,
    "start_time": "2021-12-18T07:29:47.967Z"
   },
   {
    "duration": 780,
    "start_time": "2021-12-19T09:07:04.453Z"
   },
   {
    "duration": 9,
    "start_time": "2021-12-19T09:07:05.236Z"
   },
   {
    "duration": 6,
    "start_time": "2021-12-19T09:07:05.249Z"
   },
   {
    "duration": 23,
    "start_time": "2021-12-19T09:07:05.263Z"
   },
   {
    "duration": 10,
    "start_time": "2021-12-19T09:07:05.289Z"
   },
   {
    "duration": 11,
    "start_time": "2021-12-19T09:07:05.302Z"
   },
   {
    "duration": 8,
    "start_time": "2021-12-19T09:07:05.315Z"
   },
   {
    "duration": 60,
    "start_time": "2021-12-19T09:07:05.325Z"
   },
   {
    "duration": 121677,
    "start_time": "2021-12-19T09:07:05.388Z"
   },
   {
    "duration": 54833,
    "start_time": "2021-12-19T09:09:07.067Z"
   },
   {
    "duration": 8,
    "start_time": "2021-12-19T09:10:01.902Z"
   },
   {
    "duration": 17,
    "start_time": "2021-12-19T09:10:01.911Z"
   },
   {
    "duration": 42,
    "start_time": "2021-12-19T09:10:01.930Z"
   },
   {
    "duration": 13,
    "start_time": "2021-12-19T09:10:01.974Z"
   },
   {
    "duration": 24,
    "start_time": "2021-12-19T09:10:01.988Z"
   },
   {
    "duration": 84,
    "start_time": "2021-12-19T09:10:02.014Z"
   },
   {
    "duration": 8,
    "start_time": "2021-12-19T09:10:19.955Z"
   },
   {
    "duration": 9,
    "start_time": "2021-12-19T09:10:55.267Z"
   },
   {
    "duration": 6,
    "start_time": "2021-12-19T09:11:43.664Z"
   },
   {
    "duration": 15,
    "start_time": "2021-12-19T09:15:20.764Z"
   },
   {
    "duration": 6,
    "start_time": "2021-12-19T09:15:29.797Z"
   },
   {
    "duration": 624,
    "start_time": "2021-12-19T09:15:53.114Z"
   },
   {
    "duration": 7,
    "start_time": "2021-12-19T09:15:53.740Z"
   },
   {
    "duration": 8,
    "start_time": "2021-12-19T09:15:53.748Z"
   },
   {
    "duration": 19,
    "start_time": "2021-12-19T09:15:53.758Z"
   },
   {
    "duration": 8,
    "start_time": "2021-12-19T09:15:53.779Z"
   },
   {
    "duration": 12,
    "start_time": "2021-12-19T09:15:53.788Z"
   },
   {
    "duration": 9,
    "start_time": "2021-12-19T09:15:53.802Z"
   },
   {
    "duration": 15,
    "start_time": "2021-12-19T09:15:53.813Z"
   },
   {
    "duration": 91624,
    "start_time": "2021-12-19T09:15:53.830Z"
   },
   {
    "duration": 61604,
    "start_time": "2021-12-19T09:17:25.455Z"
   },
   {
    "duration": 9,
    "start_time": "2021-12-19T09:18:27.063Z"
   },
   {
    "duration": 13,
    "start_time": "2021-12-19T09:18:27.074Z"
   },
   {
    "duration": 24,
    "start_time": "2021-12-19T09:18:27.088Z"
   },
   {
    "duration": 12,
    "start_time": "2021-12-19T09:18:27.114Z"
   },
   {
    "duration": 53,
    "start_time": "2021-12-19T09:18:27.127Z"
   },
   {
    "duration": 31900,
    "start_time": "2021-12-19T09:19:45.231Z"
   },
   {
    "duration": 11,
    "start_time": "2021-12-19T09:20:25.728Z"
   },
   {
    "duration": 85433,
    "start_time": "2021-12-19T09:21:47.008Z"
   },
   {
    "duration": 11,
    "start_time": "2021-12-19T09:23:22.156Z"
   },
   {
    "duration": 8,
    "start_time": "2021-12-19T09:24:11.304Z"
   },
   {
    "duration": 10,
    "start_time": "2021-12-19T09:24:17.001Z"
   },
   {
    "duration": 7,
    "start_time": "2021-12-19T09:24:37.393Z"
   },
   {
    "duration": 11,
    "start_time": "2021-12-19T09:24:39.772Z"
   },
   {
    "duration": 29966,
    "start_time": "2021-12-19T09:25:28.614Z"
   },
   {
    "duration": 10,
    "start_time": "2021-12-19T09:26:15.263Z"
   },
   {
    "duration": 291,
    "start_time": "2021-12-19T09:27:26.901Z"
   },
   {
    "duration": 216,
    "start_time": "2021-12-19T09:27:36.070Z"
   },
   {
    "duration": 232,
    "start_time": "2021-12-19T09:27:52.332Z"
   },
   {
    "duration": 216,
    "start_time": "2021-12-19T09:28:15.887Z"
   },
   {
    "duration": 4,
    "start_time": "2021-12-19T09:29:48.607Z"
   },
   {
    "duration": 11,
    "start_time": "2021-12-19T09:29:51.138Z"
   },
   {
    "duration": 9,
    "start_time": "2021-12-19T09:30:22.352Z"
   },
   {
    "duration": 11,
    "start_time": "2021-12-19T09:30:25.503Z"
   },
   {
    "duration": 12,
    "start_time": "2021-12-19T09:31:07.642Z"
   },
   {
    "duration": 11,
    "start_time": "2021-12-19T09:31:14.101Z"
   },
   {
    "duration": 10,
    "start_time": "2021-12-19T09:31:14.831Z"
   },
   {
    "duration": 25,
    "start_time": "2021-12-19T09:32:40.072Z"
   },
   {
    "duration": 11,
    "start_time": "2021-12-19T09:32:43.750Z"
   },
   {
    "duration": 220,
    "start_time": "2021-12-19T09:37:29.601Z"
   },
   {
    "duration": 11,
    "start_time": "2021-12-19T09:37:40.340Z"
   },
   {
    "duration": 419,
    "start_time": "2021-12-19T09:38:16.773Z"
   },
   {
    "duration": 6,
    "start_time": "2021-12-19T09:38:23.277Z"
   },
   {
    "duration": 16,
    "start_time": "2021-12-19T09:38:25.518Z"
   },
   {
    "duration": 4,
    "start_time": "2021-12-19T09:38:29.874Z"
   },
   {
    "duration": 15,
    "start_time": "2021-12-19T09:38:31.491Z"
   },
   {
    "duration": 844,
    "start_time": "2021-12-19T09:38:44.311Z"
   },
   {
    "duration": 8,
    "start_time": "2021-12-19T09:38:45.163Z"
   },
   {
    "duration": 4,
    "start_time": "2021-12-19T09:38:45.174Z"
   },
   {
    "duration": 16,
    "start_time": "2021-12-19T09:38:45.180Z"
   },
   {
    "duration": 7,
    "start_time": "2021-12-19T09:38:45.197Z"
   },
   {
    "duration": 9,
    "start_time": "2021-12-19T09:38:45.205Z"
   },
   {
    "duration": 48,
    "start_time": "2021-12-19T09:38:45.215Z"
   },
   {
    "duration": 12,
    "start_time": "2021-12-19T09:38:45.266Z"
   },
   {
    "duration": 98719,
    "start_time": "2021-12-19T09:38:45.280Z"
   },
   {
    "duration": 55780,
    "start_time": "2021-12-19T09:40:24.000Z"
   },
   {
    "duration": 8,
    "start_time": "2021-12-19T09:41:19.782Z"
   },
   {
    "duration": 15,
    "start_time": "2021-12-19T09:41:19.791Z"
   },
   {
    "duration": 25,
    "start_time": "2021-12-19T09:41:19.807Z"
   },
   {
    "duration": 38,
    "start_time": "2021-12-19T09:41:19.834Z"
   },
   {
    "duration": 21,
    "start_time": "2021-12-19T09:41:19.874Z"
   },
   {
    "duration": 6,
    "start_time": "2021-12-19T09:41:26.176Z"
   },
   {
    "duration": 16,
    "start_time": "2021-12-19T09:41:27.955Z"
   },
   {
    "duration": 6,
    "start_time": "2021-12-19T09:41:41.559Z"
   },
   {
    "duration": 16,
    "start_time": "2021-12-19T09:41:43.883Z"
   },
   {
    "duration": 4,
    "start_time": "2021-12-19T09:42:00.285Z"
   },
   {
    "duration": 12,
    "start_time": "2021-12-19T09:42:01.898Z"
   },
   {
    "duration": 315,
    "start_time": "2021-12-19T09:42:49.251Z"
   },
   {
    "duration": 216,
    "start_time": "2021-12-19T09:42:57.692Z"
   },
   {
    "duration": 10,
    "start_time": "2021-12-19T09:43:17.456Z"
   },
   {
    "duration": 10,
    "start_time": "2021-12-19T09:44:29.219Z"
   },
   {
    "duration": 291,
    "start_time": "2021-12-19T09:45:29.864Z"
   },
   {
    "duration": 229,
    "start_time": "2021-12-19T09:46:30.808Z"
   },
   {
    "duration": 261,
    "start_time": "2021-12-19T09:46:45.544Z"
   },
   {
    "duration": 4,
    "start_time": "2021-12-19T09:46:54.622Z"
   },
   {
    "duration": 74,
    "start_time": "2021-12-19T09:47:18.795Z"
   },
   {
    "duration": 75,
    "start_time": "2021-12-19T09:47:46.773Z"
   },
   {
    "duration": 243,
    "start_time": "2021-12-19T09:48:01.869Z"
   },
   {
    "duration": 4,
    "start_time": "2021-12-19T09:49:36.831Z"
   },
   {
    "duration": 19,
    "start_time": "2021-12-19T09:49:38.674Z"
   },
   {
    "duration": 10,
    "start_time": "2021-12-19T09:53:42.132Z"
   },
   {
    "duration": 11,
    "start_time": "2021-12-19T09:53:53.804Z"
   },
   {
    "duration": 785,
    "start_time": "2021-12-19T09:54:37.961Z"
   },
   {
    "duration": 7,
    "start_time": "2021-12-19T09:54:38.748Z"
   },
   {
    "duration": 30,
    "start_time": "2021-12-19T09:54:38.757Z"
   },
   {
    "duration": 22,
    "start_time": "2021-12-19T09:54:38.789Z"
   },
   {
    "duration": 10,
    "start_time": "2021-12-19T09:54:38.812Z"
   },
   {
    "duration": 11,
    "start_time": "2021-12-19T09:54:38.824Z"
   },
   {
    "duration": 8,
    "start_time": "2021-12-19T09:54:38.837Z"
   },
   {
    "duration": 33,
    "start_time": "2021-12-19T09:54:38.847Z"
   },
   {
    "duration": 116706,
    "start_time": "2021-12-19T09:54:38.883Z"
   },
   {
    "duration": 61396,
    "start_time": "2021-12-19T09:56:35.598Z"
   },
   {
    "duration": 10,
    "start_time": "2021-12-19T09:57:36.996Z"
   },
   {
    "duration": 15,
    "start_time": "2021-12-19T09:57:37.009Z"
   },
   {
    "duration": 61,
    "start_time": "2021-12-19T09:57:37.026Z"
   },
   {
    "duration": 15,
    "start_time": "2021-12-19T09:57:37.089Z"
   },
   {
    "duration": 24,
    "start_time": "2021-12-19T09:57:37.106Z"
   },
   {
    "duration": 8,
    "start_time": "2021-12-19T09:57:41.690Z"
   },
   {
    "duration": 18,
    "start_time": "2021-12-19T09:57:44.762Z"
   },
   {
    "duration": 24,
    "start_time": "2021-12-19T10:00:12.094Z"
   },
   {
    "duration": 10,
    "start_time": "2021-12-19T10:00:16.123Z"
   },
   {
    "duration": 25,
    "start_time": "2021-12-19T10:02:47.982Z"
   },
   {
    "duration": 15,
    "start_time": "2021-12-19T10:02:52.963Z"
   },
   {
    "duration": 27,
    "start_time": "2021-12-19T10:05:59.017Z"
   },
   {
    "duration": 13,
    "start_time": "2021-12-19T10:06:00.015Z"
   },
   {
    "duration": 20,
    "start_time": "2021-12-19T10:07:43.410Z"
   },
   {
    "duration": 12,
    "start_time": "2021-12-19T10:07:45.727Z"
   },
   {
    "duration": 21,
    "start_time": "2021-12-19T10:09:12.803Z"
   },
   {
    "duration": 13,
    "start_time": "2021-12-19T10:09:14.388Z"
   },
   {
    "duration": 20,
    "start_time": "2021-12-19T10:09:32.628Z"
   },
   {
    "duration": 11,
    "start_time": "2021-12-19T10:09:33.837Z"
   },
   {
    "duration": 23,
    "start_time": "2021-12-19T10:11:25.695Z"
   },
   {
    "duration": 16,
    "start_time": "2021-12-19T10:11:26.908Z"
   },
   {
    "duration": 19,
    "start_time": "2021-12-19T10:11:31.985Z"
   },
   {
    "duration": 718,
    "start_time": "2021-12-19T10:12:16.259Z"
   },
   {
    "duration": 9,
    "start_time": "2021-12-19T10:12:16.979Z"
   },
   {
    "duration": 4,
    "start_time": "2021-12-19T10:12:16.992Z"
   },
   {
    "duration": 16,
    "start_time": "2021-12-19T10:12:16.998Z"
   },
   {
    "duration": 8,
    "start_time": "2021-12-19T10:12:17.015Z"
   },
   {
    "duration": 45,
    "start_time": "2021-12-19T10:12:17.024Z"
   },
   {
    "duration": 8,
    "start_time": "2021-12-19T10:12:17.071Z"
   },
   {
    "duration": 13,
    "start_time": "2021-12-19T10:12:17.083Z"
   },
   {
    "duration": 124027,
    "start_time": "2021-12-19T10:12:17.099Z"
   },
   {
    "duration": 64448,
    "start_time": "2021-12-19T10:14:21.128Z"
   },
   {
    "duration": 11,
    "start_time": "2021-12-19T10:15:25.578Z"
   },
   {
    "duration": 14,
    "start_time": "2021-12-19T10:15:25.591Z"
   },
   {
    "duration": 30,
    "start_time": "2021-12-19T10:15:25.607Z"
   },
   {
    "duration": 17,
    "start_time": "2021-12-19T10:15:25.672Z"
   },
   {
    "duration": 30,
    "start_time": "2021-12-19T10:15:25.691Z"
   },
   {
    "duration": 43,
    "start_time": "2021-12-19T10:15:25.723Z"
   },
   {
    "duration": 25,
    "start_time": "2021-12-19T10:15:25.769Z"
   },
   {
    "duration": 21,
    "start_time": "2021-12-19T10:15:25.796Z"
   },
   {
    "duration": 44,
    "start_time": "2021-12-19T10:15:25.818Z"
   },
   {
    "duration": 36,
    "start_time": "2021-12-19T10:15:25.865Z"
   },
   {
    "duration": 22,
    "start_time": "2021-12-19T10:15:25.903Z"
   },
   {
    "duration": 43,
    "start_time": "2021-12-19T10:15:25.928Z"
   },
   {
    "duration": 16,
    "start_time": "2021-12-19T10:15:25.977Z"
   },
   {
    "duration": 16,
    "start_time": "2021-12-19T10:27:11.039Z"
   },
   {
    "duration": 609,
    "start_time": "2021-12-19T13:00:57.728Z"
   },
   {
    "duration": 6,
    "start_time": "2021-12-19T13:00:58.339Z"
   },
   {
    "duration": 3,
    "start_time": "2021-12-19T13:00:58.347Z"
   },
   {
    "duration": 66,
    "start_time": "2021-12-19T13:00:58.352Z"
   },
   {
    "duration": 477,
    "start_time": "2021-12-19T13:00:57.943Z"
   },
   {
    "duration": 472,
    "start_time": "2021-12-19T13:00:57.949Z"
   },
   {
    "duration": 467,
    "start_time": "2021-12-19T13:00:57.955Z"
   },
   {
    "duration": 464,
    "start_time": "2021-12-19T13:00:57.960Z"
   },
   {
    "duration": 440,
    "start_time": "2021-12-19T13:00:57.985Z"
   },
   {
    "duration": 436,
    "start_time": "2021-12-19T13:00:57.990Z"
   },
   {
    "duration": 432,
    "start_time": "2021-12-19T13:00:57.995Z"
   },
   {
    "duration": 426,
    "start_time": "2021-12-19T13:00:58.001Z"
   },
   {
    "duration": 422,
    "start_time": "2021-12-19T13:00:58.006Z"
   },
   {
    "duration": 417,
    "start_time": "2021-12-19T13:00:58.012Z"
   },
   {
    "duration": 405,
    "start_time": "2021-12-19T13:00:58.025Z"
   },
   {
    "duration": 400,
    "start_time": "2021-12-19T13:00:58.031Z"
   },
   {
    "duration": 396,
    "start_time": "2021-12-19T13:00:58.036Z"
   },
   {
    "duration": 391,
    "start_time": "2021-12-19T13:00:58.041Z"
   },
   {
    "duration": 386,
    "start_time": "2021-12-19T13:00:58.047Z"
   },
   {
    "duration": 382,
    "start_time": "2021-12-19T13:00:58.052Z"
   },
   {
    "duration": 377,
    "start_time": "2021-12-19T13:00:58.058Z"
   },
   {
    "duration": 372,
    "start_time": "2021-12-19T13:00:58.064Z"
   },
   {
    "duration": 363,
    "start_time": "2021-12-19T13:00:58.074Z"
   },
   {
    "duration": 358,
    "start_time": "2021-12-19T13:00:58.080Z"
   },
   {
    "duration": 341,
    "start_time": "2021-12-19T13:00:58.097Z"
   },
   {
    "duration": 40,
    "start_time": "2021-12-19T13:01:55.359Z"
   },
   {
    "duration": 17,
    "start_time": "2021-12-19T13:07:44.108Z"
   },
   {
    "duration": 7,
    "start_time": "2021-12-19T13:07:44.126Z"
   },
   {
    "duration": 9,
    "start_time": "2021-12-19T13:07:44.134Z"
   },
   {
    "duration": 5,
    "start_time": "2021-12-19T13:07:44.144Z"
   },
   {
    "duration": 12,
    "start_time": "2021-12-19T13:07:44.151Z"
   },
   {
    "duration": 90791,
    "start_time": "2021-12-19T13:07:44.164Z"
   },
   {
    "duration": 54426,
    "start_time": "2021-12-19T13:09:14.957Z"
   },
   {
    "duration": 6,
    "start_time": "2021-12-19T13:10:09.388Z"
   },
   {
    "duration": 10,
    "start_time": "2021-12-19T13:10:09.396Z"
   },
   {
    "duration": 22,
    "start_time": "2021-12-19T13:10:09.407Z"
   },
   {
    "duration": 11,
    "start_time": "2021-12-19T13:10:09.431Z"
   },
   {
    "duration": 54,
    "start_time": "2021-12-19T13:10:09.444Z"
   },
   {
    "duration": 16,
    "start_time": "2021-12-19T13:10:09.499Z"
   },
   {
    "duration": 17,
    "start_time": "2021-12-19T13:10:09.517Z"
   },
   {
    "duration": 18,
    "start_time": "2021-12-19T13:10:09.535Z"
   },
   {
    "duration": 41,
    "start_time": "2021-12-19T13:10:09.555Z"
   },
   {
    "duration": 19,
    "start_time": "2021-12-19T13:10:09.598Z"
   },
   {
    "duration": 15,
    "start_time": "2021-12-19T13:10:09.618Z"
   },
   {
    "duration": 9,
    "start_time": "2021-12-19T13:10:09.635Z"
   },
   {
    "duration": 42,
    "start_time": "2021-12-19T13:10:09.646Z"
   },
   {
    "duration": 12,
    "start_time": "2021-12-19T13:10:09.689Z"
   },
   {
    "duration": 16,
    "start_time": "2021-12-19T13:14:46.937Z"
   },
   {
    "duration": 16,
    "start_time": "2021-12-19T13:15:21.735Z"
   },
   {
    "duration": 3,
    "start_time": "2021-12-19T13:17:33.537Z"
   },
   {
    "duration": 4,
    "start_time": "2021-12-19T13:17:53.005Z"
   },
   {
    "duration": 29,
    "start_time": "2021-12-19T13:22:00.564Z"
   },
   {
    "duration": 29,
    "start_time": "2021-12-19T13:22:23.889Z"
   },
   {
    "duration": 6,
    "start_time": "2021-12-19T13:35:10.615Z"
   },
   {
    "duration": 289,
    "start_time": "2021-12-19T13:37:20.497Z"
   },
   {
    "duration": 3173,
    "start_time": "2021-12-19T13:41:06.854Z"
   },
   {
    "duration": 2661,
    "start_time": "2021-12-19T13:41:27.372Z"
   },
   {
    "duration": 1372,
    "start_time": "2021-12-19T13:49:04.103Z"
   },
   {
    "duration": 1787,
    "start_time": "2021-12-19T13:50:43.272Z"
   },
   {
    "duration": 6,
    "start_time": "2021-12-19T13:50:55.130Z"
   },
   {
    "duration": 216,
    "start_time": "2021-12-19T13:53:12.153Z"
   },
   {
    "duration": 5050,
    "start_time": "2021-12-19T13:53:20.586Z"
   },
   {
    "duration": 219,
    "start_time": "2021-12-19T13:54:09.436Z"
   },
   {
    "duration": 212,
    "start_time": "2021-12-19T13:56:44.105Z"
   },
   {
    "duration": 4,
    "start_time": "2021-12-19T13:56:52.869Z"
   },
   {
    "duration": 5,
    "start_time": "2021-12-19T13:57:07.987Z"
   },
   {
    "duration": 29,
    "start_time": "2021-12-19T14:20:19.691Z"
   },
   {
    "duration": 70,
    "start_time": "2021-12-19T14:23:21.004Z"
   },
   {
    "duration": 223,
    "start_time": "2021-12-19T14:23:26.255Z"
   },
   {
    "duration": 195,
    "start_time": "2021-12-19T14:24:08.013Z"
   },
   {
    "duration": 195,
    "start_time": "2021-12-19T14:25:25.841Z"
   },
   {
    "duration": 248,
    "start_time": "2021-12-19T14:28:47.915Z"
   },
   {
    "duration": 1922,
    "start_time": "2021-12-19T14:29:19.158Z"
   },
   {
    "duration": 1752,
    "start_time": "2021-12-19T14:31:49.396Z"
   },
   {
    "duration": 617,
    "start_time": "2021-12-19T14:36:31.730Z"
   },
   {
    "duration": 6,
    "start_time": "2021-12-19T14:36:32.349Z"
   },
   {
    "duration": 17,
    "start_time": "2021-12-19T14:36:32.357Z"
   },
   {
    "duration": 62,
    "start_time": "2021-12-19T14:36:32.376Z"
   },
   {
    "duration": 11,
    "start_time": "2021-12-19T14:36:32.440Z"
   },
   {
    "duration": 21,
    "start_time": "2021-12-19T14:36:32.453Z"
   },
   {
    "duration": 21,
    "start_time": "2021-12-19T14:36:32.475Z"
   },
   {
    "duration": 10,
    "start_time": "2021-12-19T14:36:32.499Z"
   },
   {
    "duration": 30,
    "start_time": "2021-12-19T14:36:32.511Z"
   },
   {
    "duration": 109260,
    "start_time": "2021-12-19T14:36:32.543Z"
   },
   {
    "duration": 57636,
    "start_time": "2021-12-19T14:38:21.805Z"
   },
   {
    "duration": 7,
    "start_time": "2021-12-19T14:39:19.443Z"
   },
   {
    "duration": 13,
    "start_time": "2021-12-19T14:39:19.452Z"
   },
   {
    "duration": 52,
    "start_time": "2021-12-19T14:39:19.466Z"
   },
   {
    "duration": 14,
    "start_time": "2021-12-19T14:39:19.521Z"
   },
   {
    "duration": 24,
    "start_time": "2021-12-19T14:39:19.537Z"
   },
   {
    "duration": 48,
    "start_time": "2021-12-19T14:39:19.563Z"
   },
   {
    "duration": 20,
    "start_time": "2021-12-19T14:39:19.616Z"
   },
   {
    "duration": 25,
    "start_time": "2021-12-19T14:39:19.638Z"
   },
   {
    "duration": 44,
    "start_time": "2021-12-19T14:39:19.665Z"
   },
   {
    "duration": 28,
    "start_time": "2021-12-19T14:39:19.710Z"
   },
   {
    "duration": 22,
    "start_time": "2021-12-19T14:39:19.740Z"
   },
   {
    "duration": 34,
    "start_time": "2021-12-19T14:39:19.766Z"
   },
   {
    "duration": 18,
    "start_time": "2021-12-19T14:39:19.802Z"
   },
   {
    "duration": 13,
    "start_time": "2021-12-19T14:39:19.822Z"
   },
   {
    "duration": 17,
    "start_time": "2021-12-19T14:39:19.836Z"
   },
   {
    "duration": 32,
    "start_time": "2021-12-19T14:39:19.855Z"
   },
   {
    "duration": 33,
    "start_time": "2021-12-19T14:39:19.894Z"
   },
   {
    "duration": 8,
    "start_time": "2021-12-19T14:39:19.928Z"
   },
   {
    "duration": 2639,
    "start_time": "2021-12-19T14:39:19.937Z"
   },
   {
    "duration": 165,
    "start_time": "2021-12-20T04:42:52.423Z"
   },
   {
    "duration": 592,
    "start_time": "2021-12-20T04:43:18.237Z"
   },
   {
    "duration": 8,
    "start_time": "2021-12-20T04:43:18.832Z"
   },
   {
    "duration": 4,
    "start_time": "2021-12-20T04:43:18.842Z"
   },
   {
    "duration": 72,
    "start_time": "2021-12-20T04:43:18.848Z"
   },
   {
    "duration": 11,
    "start_time": "2021-12-20T04:43:18.922Z"
   },
   {
    "duration": 7,
    "start_time": "2021-12-20T04:43:18.935Z"
   },
   {
    "duration": 8,
    "start_time": "2021-12-20T04:43:18.944Z"
   },
   {
    "duration": 38,
    "start_time": "2021-12-20T04:43:18.954Z"
   },
   {
    "duration": 12,
    "start_time": "2021-12-20T04:43:18.994Z"
   },
   {
    "duration": 92263,
    "start_time": "2021-12-20T04:43:19.008Z"
   },
   {
    "duration": 54827,
    "start_time": "2021-12-20T04:44:51.272Z"
   },
   {
    "duration": 7,
    "start_time": "2021-12-20T04:45:46.101Z"
   },
   {
    "duration": 11,
    "start_time": "2021-12-20T04:45:46.110Z"
   },
   {
    "duration": 23,
    "start_time": "2021-12-20T04:45:46.123Z"
   },
   {
    "duration": 45,
    "start_time": "2021-12-20T04:45:46.147Z"
   },
   {
    "duration": 23,
    "start_time": "2021-12-20T04:45:46.194Z"
   },
   {
    "duration": 17,
    "start_time": "2021-12-20T04:45:46.219Z"
   },
   {
    "duration": 17,
    "start_time": "2021-12-20T04:45:46.238Z"
   },
   {
    "duration": 52,
    "start_time": "2021-12-20T04:45:46.257Z"
   },
   {
    "duration": 17,
    "start_time": "2021-12-20T04:45:46.310Z"
   },
   {
    "duration": 19,
    "start_time": "2021-12-20T04:45:46.329Z"
   },
   {
    "duration": 48,
    "start_time": "2021-12-20T04:45:46.350Z"
   },
   {
    "duration": 10,
    "start_time": "2021-12-20T04:45:46.401Z"
   },
   {
    "duration": 13,
    "start_time": "2021-12-20T04:45:46.413Z"
   },
   {
    "duration": 13,
    "start_time": "2021-12-20T04:45:46.428Z"
   },
   {
    "duration": 51,
    "start_time": "2021-12-20T04:45:46.442Z"
   },
   {
    "duration": 4,
    "start_time": "2021-12-20T04:45:46.495Z"
   },
   {
    "duration": 34,
    "start_time": "2021-12-20T04:45:46.501Z"
   },
   {
    "duration": 4,
    "start_time": "2021-12-20T04:45:46.537Z"
   },
   {
    "duration": 2631,
    "start_time": "2021-12-20T04:45:46.542Z"
   },
   {
    "duration": 8,
    "start_time": "2021-12-20T04:50:37.348Z"
   },
   {
    "duration": 8,
    "start_time": "2021-12-20T04:53:05.759Z"
   },
   {
    "duration": 9,
    "start_time": "2021-12-20T04:55:38.882Z"
   },
   {
    "duration": 14,
    "start_time": "2021-12-20T04:55:50.110Z"
   },
   {
    "duration": 11,
    "start_time": "2021-12-20T04:57:02.721Z"
   },
   {
    "duration": 442,
    "start_time": "2021-12-20T06:33:13.434Z"
   },
   {
    "duration": 1071,
    "start_time": "2021-12-20T06:33:24.955Z"
   },
   {
    "duration": 9,
    "start_time": "2021-12-20T06:33:26.029Z"
   },
   {
    "duration": 26,
    "start_time": "2021-12-20T06:33:26.042Z"
   },
   {
    "duration": 63,
    "start_time": "2021-12-20T06:33:26.072Z"
   },
   {
    "duration": 54,
    "start_time": "2021-12-20T06:33:26.137Z"
   },
   {
    "duration": 10,
    "start_time": "2021-12-20T06:33:26.193Z"
   },
   {
    "duration": 13,
    "start_time": "2021-12-20T06:33:26.206Z"
   },
   {
    "duration": 8,
    "start_time": "2021-12-20T06:33:26.222Z"
   },
   {
    "duration": 21,
    "start_time": "2021-12-20T06:33:26.261Z"
   },
   {
    "duration": 143941,
    "start_time": "2021-12-20T06:33:26.285Z"
   },
   {
    "duration": 95467,
    "start_time": "2021-12-20T06:35:50.229Z"
   },
   {
    "duration": 11,
    "start_time": "2021-12-20T06:37:25.699Z"
   },
   {
    "duration": 15,
    "start_time": "2021-12-20T06:37:25.713Z"
   },
   {
    "duration": 57,
    "start_time": "2021-12-20T06:37:25.731Z"
   },
   {
    "duration": 18,
    "start_time": "2021-12-20T06:37:25.791Z"
   },
   {
    "duration": 62,
    "start_time": "2021-12-20T06:37:25.811Z"
   },
   {
    "duration": 25,
    "start_time": "2021-12-20T06:37:25.875Z"
   },
   {
    "duration": 26,
    "start_time": "2021-12-20T06:37:25.902Z"
   },
   {
    "duration": 51,
    "start_time": "2021-12-20T06:37:25.930Z"
   },
   {
    "duration": 27,
    "start_time": "2021-12-20T06:37:25.983Z"
   },
   {
    "duration": 58,
    "start_time": "2021-12-20T06:37:26.012Z"
   },
   {
    "duration": 24,
    "start_time": "2021-12-20T06:37:26.073Z"
   },
   {
    "duration": 17,
    "start_time": "2021-12-20T06:37:26.100Z"
   },
   {
    "duration": 52,
    "start_time": "2021-12-20T06:37:26.120Z"
   },
   {
    "duration": 19,
    "start_time": "2021-12-20T06:37:26.175Z"
   },
   {
    "duration": 72,
    "start_time": "2021-12-20T06:37:26.197Z"
   },
   {
    "duration": 5,
    "start_time": "2021-12-20T06:37:26.275Z"
   },
   {
    "duration": 49,
    "start_time": "2021-12-20T06:37:26.283Z"
   },
   {
    "duration": 143,
    "start_time": "2021-12-20T06:37:26.360Z"
   },
   {
    "duration": 3265,
    "start_time": "2021-12-20T06:37:26.506Z"
   },
   {
    "duration": 10,
    "start_time": "2021-12-20T06:37:29.773Z"
   },
   {
    "duration": 6,
    "start_time": "2021-12-20T06:37:29.785Z"
   },
   {
    "duration": 20,
    "start_time": "2021-12-20T06:37:29.794Z"
   },
   {
    "duration": 5,
    "start_time": "2021-12-20T06:39:11.570Z"
   },
   {
    "duration": 2022,
    "start_time": "2021-12-20T06:39:13.930Z"
   },
   {
    "duration": 381,
    "start_time": "2021-12-20T06:41:57.528Z"
   },
   {
    "duration": 9,
    "start_time": "2021-12-20T06:42:05.961Z"
   },
   {
    "duration": 19,
    "start_time": "2021-12-20T06:42:26.560Z"
   },
   {
    "duration": 12,
    "start_time": "2021-12-20T06:42:52.976Z"
   },
   {
    "duration": 1145,
    "start_time": "2021-12-20T08:10:03.436Z"
   },
   {
    "duration": 12,
    "start_time": "2021-12-20T08:10:14.680Z"
   },
   {
    "duration": 7,
    "start_time": "2021-12-20T08:13:22.436Z"
   },
   {
    "duration": 13,
    "start_time": "2021-12-20T08:13:33.516Z"
   },
   {
    "duration": 9,
    "start_time": "2021-12-20T08:14:43.836Z"
   },
   {
    "duration": 12,
    "start_time": "2021-12-20T08:14:53.836Z"
   },
   {
    "duration": 12,
    "start_time": "2021-12-20T08:15:12.556Z"
   },
   {
    "duration": 9,
    "start_time": "2021-12-20T08:15:20.718Z"
   },
   {
    "duration": 11,
    "start_time": "2021-12-20T08:15:28.277Z"
   },
   {
    "duration": 15,
    "start_time": "2021-12-20T08:16:37.077Z"
   },
   {
    "duration": 15,
    "start_time": "2021-12-20T08:16:45.596Z"
   },
   {
    "duration": 457,
    "start_time": "2021-12-20T08:18:40.021Z"
   },
   {
    "duration": 349,
    "start_time": "2021-12-20T08:18:58.437Z"
   },
   {
    "duration": 16,
    "start_time": "2021-12-20T08:19:22.797Z"
   },
   {
    "duration": 8271,
    "start_time": "2021-12-20T09:46:14.662Z"
   },
   {
    "duration": 9102,
    "start_time": "2021-12-20T09:46:56.429Z"
   },
   {
    "duration": 319,
    "start_time": "2021-12-20T09:50:53.824Z"
   },
   {
    "duration": 22,
    "start_time": "2021-12-20T09:51:17.153Z"
   },
   {
    "duration": 24,
    "start_time": "2021-12-20T09:52:03.741Z"
   },
   {
    "duration": 22,
    "start_time": "2021-12-20T09:52:20.021Z"
   },
   {
    "duration": 21,
    "start_time": "2021-12-20T09:52:35.448Z"
   },
   {
    "duration": 29,
    "start_time": "2021-12-20T09:52:46.423Z"
   },
   {
    "duration": 20,
    "start_time": "2021-12-20T09:53:24.563Z"
   },
   {
    "duration": 20,
    "start_time": "2021-12-20T09:53:33.722Z"
   },
   {
    "duration": 24,
    "start_time": "2021-12-20T09:53:46.875Z"
   },
   {
    "duration": 21,
    "start_time": "2021-12-20T09:54:07.154Z"
   },
   {
    "duration": 22,
    "start_time": "2021-12-20T09:54:25.123Z"
   },
   {
    "duration": 103,
    "start_time": "2021-12-20T09:54:38.275Z"
   },
   {
    "duration": 21,
    "start_time": "2021-12-20T09:54:43.554Z"
   },
   {
    "duration": 352,
    "start_time": "2021-12-20T09:56:36.955Z"
   },
   {
    "duration": 25,
    "start_time": "2021-12-20T09:58:00.258Z"
   },
   {
    "duration": 22,
    "start_time": "2021-12-20T09:58:10.635Z"
   },
   {
    "duration": 11,
    "start_time": "2021-12-20T09:58:35.454Z"
   },
   {
    "duration": 23,
    "start_time": "2021-12-20T09:59:15.515Z"
   },
   {
    "duration": 26,
    "start_time": "2021-12-20T09:59:26.435Z"
   },
   {
    "duration": 24,
    "start_time": "2021-12-20T09:59:35.675Z"
   },
   {
    "duration": 22,
    "start_time": "2021-12-20T10:00:05.596Z"
   },
   {
    "duration": 22,
    "start_time": "2021-12-20T10:00:37.954Z"
   },
   {
    "duration": 24,
    "start_time": "2021-12-20T10:00:57.437Z"
   },
   {
    "duration": 22,
    "start_time": "2021-12-20T10:01:10.970Z"
   },
   {
    "duration": 22,
    "start_time": "2021-12-20T10:01:24.099Z"
   },
   {
    "duration": 21,
    "start_time": "2021-12-20T10:01:34.221Z"
   },
   {
    "duration": 21,
    "start_time": "2021-12-20T10:01:52.005Z"
   },
   {
    "duration": 21,
    "start_time": "2021-12-20T10:02:02.220Z"
   },
   {
    "duration": 105,
    "start_time": "2021-12-20T10:02:37.463Z"
   },
   {
    "duration": 113,
    "start_time": "2021-12-20T10:02:44.443Z"
   },
   {
    "duration": 184,
    "start_time": "2021-12-20T10:02:53.853Z"
   },
   {
    "duration": 22,
    "start_time": "2021-12-20T10:03:07.592Z"
   },
   {
    "duration": 21,
    "start_time": "2021-12-20T10:04:30.847Z"
   },
   {
    "duration": 21,
    "start_time": "2021-12-20T10:04:39.497Z"
   },
   {
    "duration": 21,
    "start_time": "2021-12-20T10:05:15.660Z"
   },
   {
    "duration": 7,
    "start_time": "2021-12-20T10:06:36.169Z"
   },
   {
    "duration": 4,
    "start_time": "2021-12-20T10:07:41.338Z"
   },
   {
    "duration": 107,
    "start_time": "2021-12-20T10:09:26.253Z"
   },
   {
    "duration": 18,
    "start_time": "2021-12-20T10:09:37.781Z"
   },
   {
    "duration": 19,
    "start_time": "2021-12-20T10:12:01.128Z"
   },
   {
    "duration": 16,
    "start_time": "2021-12-20T10:12:09.080Z"
   },
   {
    "duration": 132,
    "start_time": "2021-12-20T10:13:00.551Z"
   },
   {
    "duration": 351,
    "start_time": "2021-12-20T10:14:50.354Z"
   },
   {
    "duration": 373,
    "start_time": "2021-12-20T10:15:16.236Z"
   },
   {
    "duration": 16,
    "start_time": "2021-12-20T10:15:33.074Z"
   },
   {
    "duration": 1237,
    "start_time": "2021-12-20T14:13:08.290Z"
   },
   {
    "duration": 11,
    "start_time": "2021-12-20T14:13:09.530Z"
   },
   {
    "duration": 36,
    "start_time": "2021-12-20T14:13:09.545Z"
   },
   {
    "duration": 105,
    "start_time": "2021-12-20T14:13:09.584Z"
   },
   {
    "duration": 19,
    "start_time": "2021-12-20T14:13:09.692Z"
   },
   {
    "duration": 10,
    "start_time": "2021-12-20T14:13:09.714Z"
   },
   {
    "duration": 43,
    "start_time": "2021-12-20T14:13:09.727Z"
   },
   {
    "duration": 11,
    "start_time": "2021-12-20T14:13:09.772Z"
   },
   {
    "duration": 21,
    "start_time": "2021-12-20T14:13:09.787Z"
   },
   {
    "duration": 154703,
    "start_time": "2021-12-20T14:13:09.811Z"
   },
   {
    "duration": 121873,
    "start_time": "2021-12-20T14:15:44.517Z"
   },
   {
    "duration": 10,
    "start_time": "2021-12-20T14:17:46.393Z"
   },
   {
    "duration": 15,
    "start_time": "2021-12-20T14:17:46.405Z"
   },
   {
    "duration": 67,
    "start_time": "2021-12-20T14:17:46.423Z"
   },
   {
    "duration": 36,
    "start_time": "2021-12-20T14:17:46.494Z"
   },
   {
    "duration": 72,
    "start_time": "2021-12-20T14:17:46.534Z"
   },
   {
    "duration": 24,
    "start_time": "2021-12-20T14:17:46.609Z"
   },
   {
    "duration": 28,
    "start_time": "2021-12-20T14:17:46.636Z"
   },
   {
    "duration": 26,
    "start_time": "2021-12-20T14:17:46.666Z"
   },
   {
    "duration": 32,
    "start_time": "2021-12-20T14:17:46.694Z"
   },
   {
    "duration": 51,
    "start_time": "2021-12-20T14:17:46.728Z"
   },
   {
    "duration": 24,
    "start_time": "2021-12-20T14:17:46.782Z"
   },
   {
    "duration": 25,
    "start_time": "2021-12-20T14:17:46.808Z"
   },
   {
    "duration": 34,
    "start_time": "2021-12-20T14:17:46.835Z"
   },
   {
    "duration": 27,
    "start_time": "2021-12-20T14:17:46.873Z"
   },
   {
    "duration": 27,
    "start_time": "2021-12-20T14:17:46.902Z"
   },
   {
    "duration": 5,
    "start_time": "2021-12-20T14:17:46.963Z"
   },
   {
    "duration": 65,
    "start_time": "2021-12-20T14:17:46.970Z"
   },
   {
    "duration": 9,
    "start_time": "2021-12-20T14:17:47.037Z"
   },
   {
    "duration": 3414,
    "start_time": "2021-12-20T14:17:47.049Z"
   },
   {
    "duration": 9,
    "start_time": "2021-12-20T14:17:50.465Z"
   },
   {
    "duration": 34,
    "start_time": "2021-12-20T14:17:50.476Z"
   },
   {
    "duration": 50,
    "start_time": "2021-12-20T14:17:50.513Z"
   },
   {
    "duration": 23,
    "start_time": "2021-12-20T14:17:50.566Z"
   },
   {
    "duration": 39,
    "start_time": "2021-12-20T14:17:50.592Z"
   },
   {
    "duration": 28,
    "start_time": "2021-12-20T14:17:50.634Z"
   },
   {
    "duration": 26,
    "start_time": "2021-12-20T14:17:50.664Z"
   },
   {
    "duration": 17,
    "start_time": "2021-12-20T14:18:54.216Z"
   },
   {
    "duration": 3284,
    "start_time": "2021-12-20T14:23:23.690Z"
   },
   {
    "duration": 10,
    "start_time": "2021-12-20T14:23:54.778Z"
   },
   {
    "duration": 7,
    "start_time": "2021-12-20T14:24:22.530Z"
   },
   {
    "duration": 12,
    "start_time": "2021-12-20T14:25:07.170Z"
   },
   {
    "duration": 252,
    "start_time": "2021-12-20T18:34:43.536Z"
   },
   {
    "duration": 676,
    "start_time": "2021-12-20T18:35:05.687Z"
   },
   {
    "duration": 7,
    "start_time": "2021-12-20T18:35:06.365Z"
   },
   {
    "duration": 28,
    "start_time": "2021-12-20T18:35:06.374Z"
   },
   {
    "duration": 60,
    "start_time": "2021-12-20T18:35:06.404Z"
   },
   {
    "duration": 13,
    "start_time": "2021-12-20T18:35:06.466Z"
   },
   {
    "duration": 28,
    "start_time": "2021-12-20T18:35:06.481Z"
   },
   {
    "duration": 29,
    "start_time": "2021-12-20T18:35:06.511Z"
   },
   {
    "duration": 31,
    "start_time": "2021-12-20T18:35:06.543Z"
   },
   {
    "duration": 18,
    "start_time": "2021-12-20T18:35:06.577Z"
   },
   {
    "duration": 111247,
    "start_time": "2021-12-20T18:35:06.597Z"
   },
   {
    "duration": 61881,
    "start_time": "2021-12-20T18:36:57.846Z"
   },
   {
    "duration": 14,
    "start_time": "2021-12-20T18:37:59.729Z"
   },
   {
    "duration": 12,
    "start_time": "2021-12-20T18:37:59.745Z"
   },
   {
    "duration": 30,
    "start_time": "2021-12-20T18:37:59.758Z"
   },
   {
    "duration": 14,
    "start_time": "2021-12-20T18:37:59.790Z"
   },
   {
    "duration": 26,
    "start_time": "2021-12-20T18:37:59.842Z"
   },
   {
    "duration": 22,
    "start_time": "2021-12-20T18:37:59.870Z"
   },
   {
    "duration": 48,
    "start_time": "2021-12-20T18:37:59.894Z"
   },
   {
    "duration": 21,
    "start_time": "2021-12-20T18:37:59.944Z"
   },
   {
    "duration": 20,
    "start_time": "2021-12-20T18:37:59.967Z"
   },
   {
    "duration": 54,
    "start_time": "2021-12-20T18:37:59.989Z"
   },
   {
    "duration": 21,
    "start_time": "2021-12-20T18:38:00.046Z"
   },
   {
    "duration": 13,
    "start_time": "2021-12-20T18:38:00.073Z"
   },
   {
    "duration": 19,
    "start_time": "2021-12-20T18:38:00.089Z"
   },
   {
    "duration": 14,
    "start_time": "2021-12-20T18:38:00.142Z"
   },
   {
    "duration": 29,
    "start_time": "2021-12-20T18:38:00.158Z"
   },
   {
    "duration": 18,
    "start_time": "2021-12-20T18:38:00.189Z"
   },
   {
    "duration": 62,
    "start_time": "2021-12-20T18:38:00.217Z"
   },
   {
    "duration": 8,
    "start_time": "2021-12-20T18:38:00.281Z"
   },
   {
    "duration": 2996,
    "start_time": "2021-12-20T18:38:00.291Z"
   },
   {
    "duration": 3722,
    "start_time": "2021-12-20T18:38:03.289Z"
   },
   {
    "duration": 7,
    "start_time": "2021-12-20T18:38:07.013Z"
   },
   {
    "duration": 21,
    "start_time": "2021-12-20T18:38:07.021Z"
   },
   {
    "duration": 15,
    "start_time": "2021-12-20T18:38:07.045Z"
   },
   {
    "duration": 9,
    "start_time": "2021-12-20T18:38:07.063Z"
   },
   {
    "duration": 14,
    "start_time": "2021-12-20T18:38:07.074Z"
   },
   {
    "duration": 10,
    "start_time": "2021-12-20T18:38:07.090Z"
   },
   {
    "duration": 41,
    "start_time": "2021-12-20T18:38:07.102Z"
   },
   {
    "duration": 21,
    "start_time": "2021-12-20T18:38:07.145Z"
   },
   {
    "duration": 15,
    "start_time": "2021-12-20T18:38:07.168Z"
   },
   {
    "duration": 12,
    "start_time": "2021-12-20T18:38:07.185Z"
   },
   {
    "duration": 6,
    "start_time": "2021-12-20T18:39:46.090Z"
   },
   {
    "duration": 2192,
    "start_time": "2021-12-20T18:41:23.403Z"
   },
   {
    "duration": 14,
    "start_time": "2021-12-20T18:41:55.207Z"
   },
   {
    "duration": 927,
    "start_time": "2021-12-20T18:47:00.061Z"
   },
   {
    "duration": 4,
    "start_time": "2021-12-20T18:48:20.196Z"
   },
   {
    "duration": 4,
    "start_time": "2021-12-20T18:48:34.145Z"
   },
   {
    "duration": 7561,
    "start_time": "2021-12-20T18:49:27.425Z"
   },
   {
    "duration": 290,
    "start_time": "2021-12-20T18:52:00.988Z"
   },
   {
    "duration": 254,
    "start_time": "2021-12-20T18:52:59.585Z"
   },
   {
    "duration": 9,
    "start_time": "2021-12-20T18:54:49.355Z"
   },
   {
    "duration": 6,
    "start_time": "2021-12-20T18:56:01.285Z"
   },
   {
    "duration": 6,
    "start_time": "2021-12-20T18:56:20.942Z"
   },
   {
    "duration": 5,
    "start_time": "2021-12-20T18:56:42.609Z"
   },
   {
    "duration": 223,
    "start_time": "2021-12-20T19:04:47.997Z"
   },
   {
    "duration": 226,
    "start_time": "2021-12-20T19:05:36.425Z"
   },
   {
    "duration": 74,
    "start_time": "2021-12-20T19:05:59.501Z"
   },
   {
    "duration": 12,
    "start_time": "2021-12-20T19:06:11.492Z"
   },
   {
    "duration": 13,
    "start_time": "2021-12-20T19:06:41.631Z"
   },
   {
    "duration": 5,
    "start_time": "2021-12-20T19:07:23.429Z"
   },
   {
    "duration": 14,
    "start_time": "2021-12-20T19:12:17.609Z"
   },
   {
    "duration": 11,
    "start_time": "2021-12-20T19:12:32.441Z"
   },
   {
    "duration": 8,
    "start_time": "2021-12-20T19:13:04.959Z"
   },
   {
    "duration": 8,
    "start_time": "2021-12-20T19:16:07.177Z"
   },
   {
    "duration": 9,
    "start_time": "2021-12-20T19:17:54.884Z"
   },
   {
    "duration": 9,
    "start_time": "2021-12-20T19:18:38.691Z"
   },
   {
    "duration": 12,
    "start_time": "2021-12-20T19:18:42.953Z"
   },
   {
    "duration": 8,
    "start_time": "2021-12-20T19:18:45.615Z"
   },
   {
    "duration": 7,
    "start_time": "2021-12-20T19:19:14.689Z"
   },
   {
    "duration": 8,
    "start_time": "2021-12-20T19:21:52.733Z"
   },
   {
    "duration": 9,
    "start_time": "2021-12-20T19:21:54.114Z"
   },
   {
    "duration": 8,
    "start_time": "2021-12-20T19:21:55.406Z"
   },
   {
    "duration": 9,
    "start_time": "2021-12-20T19:21:57.676Z"
   },
   {
    "duration": 7,
    "start_time": "2021-12-20T19:21:59.509Z"
   },
   {
    "duration": 9,
    "start_time": "2021-12-20T19:22:14.819Z"
   },
   {
    "duration": 9,
    "start_time": "2021-12-20T19:22:50.478Z"
   },
   {
    "duration": 8,
    "start_time": "2021-12-20T19:23:13.996Z"
   },
   {
    "duration": 9,
    "start_time": "2021-12-20T19:23:50.555Z"
   },
   {
    "duration": 9,
    "start_time": "2021-12-20T19:24:28.600Z"
   },
   {
    "duration": 9,
    "start_time": "2021-12-20T19:24:57.103Z"
   },
   {
    "duration": 11,
    "start_time": "2021-12-20T19:26:33.919Z"
   },
   {
    "duration": 10,
    "start_time": "2021-12-20T19:31:09.665Z"
   },
   {
    "duration": 10,
    "start_time": "2021-12-20T19:32:00.196Z"
   },
   {
    "duration": 7,
    "start_time": "2021-12-20T19:32:45.019Z"
   },
   {
    "duration": 8,
    "start_time": "2021-12-20T19:32:57.672Z"
   },
   {
    "duration": 9,
    "start_time": "2021-12-20T19:33:07.430Z"
   },
   {
    "duration": 114,
    "start_time": "2021-12-20T19:37:27.651Z"
   },
   {
    "duration": 70,
    "start_time": "2021-12-20T19:42:01.311Z"
   },
   {
    "duration": 3,
    "start_time": "2021-12-20T19:42:12.478Z"
   },
   {
    "duration": 4,
    "start_time": "2021-12-20T19:42:45.222Z"
   },
   {
    "duration": 4,
    "start_time": "2021-12-20T19:45:10.177Z"
   },
   {
    "duration": 3,
    "start_time": "2021-12-20T19:45:13.874Z"
   },
   {
    "duration": 4,
    "start_time": "2021-12-20T19:45:29.181Z"
   },
   {
    "duration": 4,
    "start_time": "2021-12-20T19:45:39.146Z"
   },
   {
    "duration": 5,
    "start_time": "2021-12-20T19:46:00.716Z"
   },
   {
    "duration": 3,
    "start_time": "2021-12-20T19:46:02.894Z"
   },
   {
    "duration": 4,
    "start_time": "2021-12-20T19:46:41.488Z"
   },
   {
    "duration": 4,
    "start_time": "2021-12-20T19:46:49.702Z"
   },
   {
    "duration": 4,
    "start_time": "2021-12-20T19:46:58.219Z"
   },
   {
    "duration": 5,
    "start_time": "2021-12-20T19:47:13.455Z"
   },
   {
    "duration": 4,
    "start_time": "2021-12-20T19:48:23.811Z"
   },
   {
    "duration": 4,
    "start_time": "2021-12-20T19:48:27.355Z"
   },
   {
    "duration": 4,
    "start_time": "2021-12-20T19:48:41.062Z"
   },
   {
    "duration": 4,
    "start_time": "2021-12-20T19:48:50.144Z"
   },
   {
    "duration": 4,
    "start_time": "2021-12-20T19:48:58.338Z"
   },
   {
    "duration": 4,
    "start_time": "2021-12-20T19:49:06.738Z"
   },
   {
    "duration": 10,
    "start_time": "2021-12-20T19:50:23.295Z"
   },
   {
    "duration": 9,
    "start_time": "2021-12-20T19:50:42.625Z"
   },
   {
    "duration": 17,
    "start_time": "2021-12-20T19:52:06.274Z"
   },
   {
    "duration": 785,
    "start_time": "2021-12-20T19:54:19.942Z"
   },
   {
    "duration": 8,
    "start_time": "2021-12-20T19:54:20.729Z"
   },
   {
    "duration": 19,
    "start_time": "2021-12-20T19:54:20.740Z"
   },
   {
    "duration": 50,
    "start_time": "2021-12-20T19:54:20.762Z"
   },
   {
    "duration": 14,
    "start_time": "2021-12-20T19:54:20.814Z"
   },
   {
    "duration": 20,
    "start_time": "2021-12-20T19:54:20.829Z"
   },
   {
    "duration": 16,
    "start_time": "2021-12-20T19:54:20.852Z"
   },
   {
    "duration": 7,
    "start_time": "2021-12-20T19:54:20.871Z"
   },
   {
    "duration": 15,
    "start_time": "2021-12-20T19:54:20.881Z"
   },
   {
    "duration": 114489,
    "start_time": "2021-12-20T19:54:20.898Z"
   },
   {
    "duration": 67166,
    "start_time": "2021-12-20T19:56:15.389Z"
   },
   {
    "duration": 9,
    "start_time": "2021-12-20T19:57:22.560Z"
   },
   {
    "duration": 13,
    "start_time": "2021-12-20T19:57:22.571Z"
   },
   {
    "duration": 66,
    "start_time": "2021-12-20T19:57:22.586Z"
   },
   {
    "duration": 17,
    "start_time": "2021-12-20T19:57:22.654Z"
   },
   {
    "duration": 27,
    "start_time": "2021-12-20T19:57:22.673Z"
   },
   {
    "duration": 39,
    "start_time": "2021-12-20T19:57:22.702Z"
   },
   {
    "duration": 26,
    "start_time": "2021-12-20T19:57:22.746Z"
   },
   {
    "duration": 21,
    "start_time": "2021-12-20T19:57:22.774Z"
   },
   {
    "duration": 45,
    "start_time": "2021-12-20T19:57:22.797Z"
   },
   {
    "duration": 29,
    "start_time": "2021-12-20T19:57:22.844Z"
   },
   {
    "duration": 20,
    "start_time": "2021-12-20T19:57:22.875Z"
   },
   {
    "duration": 13,
    "start_time": "2021-12-20T19:57:22.899Z"
   },
   {
    "duration": 47,
    "start_time": "2021-12-20T19:57:22.914Z"
   },
   {
    "duration": 23,
    "start_time": "2021-12-20T19:57:22.964Z"
   },
   {
    "duration": 55,
    "start_time": "2021-12-20T19:57:22.990Z"
   },
   {
    "duration": 5,
    "start_time": "2021-12-20T19:57:23.046Z"
   },
   {
    "duration": 64,
    "start_time": "2021-12-20T19:57:23.054Z"
   },
   {
    "duration": 8,
    "start_time": "2021-12-20T19:57:23.120Z"
   },
   {
    "duration": 2923,
    "start_time": "2021-12-20T19:57:23.130Z"
   },
   {
    "duration": 3620,
    "start_time": "2021-12-20T19:57:26.055Z"
   },
   {
    "duration": 7,
    "start_time": "2021-12-20T19:57:29.676Z"
   },
   {
    "duration": 7,
    "start_time": "2021-12-20T19:57:29.685Z"
   },
   {
    "duration": 17,
    "start_time": "2021-12-20T19:57:29.694Z"
   },
   {
    "duration": 3,
    "start_time": "2021-12-20T19:57:29.713Z"
   },
   {
    "duration": 13,
    "start_time": "2021-12-20T19:57:29.746Z"
   },
   {
    "duration": 13,
    "start_time": "2021-12-20T19:57:29.761Z"
   },
   {
    "duration": 9,
    "start_time": "2021-12-20T19:57:29.777Z"
   },
   {
    "duration": 47,
    "start_time": "2021-12-20T19:57:29.788Z"
   },
   {
    "duration": 16,
    "start_time": "2021-12-20T19:57:29.838Z"
   },
   {
    "duration": 29,
    "start_time": "2021-12-20T19:57:29.856Z"
   },
   {
    "duration": 29,
    "start_time": "2021-12-20T19:57:29.887Z"
   },
   {
    "duration": 24,
    "start_time": "2021-12-20T19:57:29.918Z"
   },
   {
    "duration": 27,
    "start_time": "2021-12-20T19:57:29.944Z"
   },
   {
    "duration": 37,
    "start_time": "2021-12-20T19:57:29.973Z"
   },
   {
    "duration": 42,
    "start_time": "2021-12-20T19:57:30.012Z"
   },
   {
    "duration": 30,
    "start_time": "2021-12-20T19:57:30.056Z"
   },
   {
    "duration": 38,
    "start_time": "2021-12-20T19:57:30.088Z"
   },
   {
    "duration": 18,
    "start_time": "2021-12-20T19:57:30.128Z"
   },
   {
    "duration": 28,
    "start_time": "2021-12-20T19:57:30.148Z"
   },
   {
    "duration": 11,
    "start_time": "2021-12-20T19:57:30.179Z"
   },
   {
    "duration": 26,
    "start_time": "2021-12-20T19:57:30.192Z"
   },
   {
    "duration": 12,
    "start_time": "2021-12-20T19:57:30.220Z"
   },
   {
    "duration": 37,
    "start_time": "2021-12-20T19:57:30.234Z"
   },
   {
    "duration": 31,
    "start_time": "2021-12-20T19:57:30.275Z"
   },
   {
    "duration": 1002,
    "start_time": "2021-12-21T09:41:59.324Z"
   },
   {
    "duration": 11,
    "start_time": "2021-12-21T09:42:00.330Z"
   },
   {
    "duration": 15,
    "start_time": "2021-12-21T09:42:00.344Z"
   },
   {
    "duration": 92,
    "start_time": "2021-12-21T09:42:00.362Z"
   },
   {
    "duration": 22,
    "start_time": "2021-12-21T09:42:00.457Z"
   },
   {
    "duration": 10,
    "start_time": "2021-12-21T09:42:00.482Z"
   },
   {
    "duration": 38,
    "start_time": "2021-12-21T09:42:00.494Z"
   },
   {
    "duration": 24,
    "start_time": "2021-12-21T09:42:00.537Z"
   },
   {
    "duration": 47,
    "start_time": "2021-12-21T09:42:00.564Z"
   },
   {
    "duration": 155620,
    "start_time": "2021-12-21T09:42:00.614Z"
   },
   {
    "duration": 101782,
    "start_time": "2021-12-21T09:44:36.237Z"
   },
   {
    "duration": 13,
    "start_time": "2021-12-21T09:46:18.026Z"
   },
   {
    "duration": 31,
    "start_time": "2021-12-21T09:46:18.041Z"
   },
   {
    "duration": 66,
    "start_time": "2021-12-21T09:46:18.074Z"
   },
   {
    "duration": 63,
    "start_time": "2021-12-21T09:46:18.142Z"
   },
   {
    "duration": 44,
    "start_time": "2021-12-21T09:46:18.209Z"
   },
   {
    "duration": 45,
    "start_time": "2021-12-21T09:46:18.256Z"
   },
   {
    "duration": 66,
    "start_time": "2021-12-21T09:46:18.304Z"
   },
   {
    "duration": 43,
    "start_time": "2021-12-21T09:46:18.374Z"
   },
   {
    "duration": 34,
    "start_time": "2021-12-21T09:46:18.419Z"
   },
   {
    "duration": 42,
    "start_time": "2021-12-21T09:46:18.462Z"
   },
   {
    "duration": 36,
    "start_time": "2021-12-21T09:46:18.524Z"
   },
   {
    "duration": 18,
    "start_time": "2021-12-21T09:46:18.567Z"
   },
   {
    "duration": 68,
    "start_time": "2021-12-21T09:46:18.589Z"
   },
   {
    "duration": 40,
    "start_time": "2021-12-21T09:46:18.660Z"
   },
   {
    "duration": 38,
    "start_time": "2021-12-21T09:46:18.703Z"
   },
   {
    "duration": 7,
    "start_time": "2021-12-21T09:46:18.744Z"
   },
   {
    "duration": 72,
    "start_time": "2021-12-21T09:46:18.754Z"
   },
   {
    "duration": 10,
    "start_time": "2021-12-21T09:46:18.828Z"
   },
   {
    "duration": 3815,
    "start_time": "2021-12-21T09:46:18.841Z"
   },
   {
    "duration": 4695,
    "start_time": "2021-12-21T09:46:22.659Z"
   },
   {
    "duration": 8,
    "start_time": "2021-12-21T09:46:27.357Z"
   },
   {
    "duration": 7,
    "start_time": "2021-12-21T09:46:27.368Z"
   },
   {
    "duration": 20,
    "start_time": "2021-12-21T09:46:27.378Z"
   },
   {
    "duration": 5,
    "start_time": "2021-12-21T09:46:27.425Z"
   },
   {
    "duration": 26,
    "start_time": "2021-12-21T09:46:27.433Z"
   },
   {
    "duration": 12,
    "start_time": "2021-12-21T09:46:27.462Z"
   },
   {
    "duration": 4,
    "start_time": "2021-12-21T09:46:27.477Z"
   },
   {
    "duration": 53,
    "start_time": "2021-12-21T09:46:27.483Z"
   },
   {
    "duration": 9,
    "start_time": "2021-12-21T09:46:27.538Z"
   },
   {
    "duration": 13,
    "start_time": "2021-12-21T09:46:27.549Z"
   },
   {
    "duration": 12,
    "start_time": "2021-12-21T09:46:27.564Z"
   },
   {
    "duration": 46,
    "start_time": "2021-12-21T09:46:27.579Z"
   },
   {
    "duration": 8,
    "start_time": "2021-12-21T09:46:27.628Z"
   },
   {
    "duration": 18,
    "start_time": "2021-12-21T09:46:27.639Z"
   },
   {
    "duration": 7,
    "start_time": "2021-12-21T09:46:27.660Z"
   },
   {
    "duration": 11,
    "start_time": "2021-12-21T09:46:27.670Z"
   },
   {
    "duration": 9,
    "start_time": "2021-12-21T09:46:27.684Z"
   },
   {
    "duration": 12,
    "start_time": "2021-12-21T09:46:27.724Z"
   },
   {
    "duration": 27,
    "start_time": "2021-12-21T09:46:27.739Z"
   },
   {
    "duration": 10,
    "start_time": "2021-12-21T09:46:27.769Z"
   },
   {
    "duration": 13,
    "start_time": "2021-12-21T09:46:27.781Z"
   },
   {
    "duration": 16,
    "start_time": "2021-12-21T09:46:27.824Z"
   },
   {
    "duration": 10,
    "start_time": "2021-12-21T09:46:27.845Z"
   },
   {
    "duration": 24,
    "start_time": "2021-12-21T09:46:27.858Z"
   },
   {
    "duration": 15,
    "start_time": "2021-12-21T09:47:51.123Z"
   },
   {
    "duration": 12,
    "start_time": "2021-12-21T09:54:39.112Z"
   },
   {
    "duration": 8,
    "start_time": "2021-12-21T09:54:51.437Z"
   },
   {
    "duration": 8,
    "start_time": "2021-12-21T09:55:13.053Z"
   },
   {
    "duration": 9,
    "start_time": "2021-12-21T09:55:29.580Z"
   },
   {
    "duration": 10,
    "start_time": "2021-12-21T09:55:38.866Z"
   },
   {
    "duration": 8,
    "start_time": "2021-12-21T09:56:37.441Z"
   },
   {
    "duration": 9,
    "start_time": "2021-12-21T09:56:51.469Z"
   },
   {
    "duration": 138,
    "start_time": "2021-12-21T10:00:27.459Z"
   },
   {
    "duration": 128,
    "start_time": "2021-12-21T10:00:27.472Z"
   },
   {
    "duration": 4,
    "start_time": "2021-12-21T10:01:00.832Z"
   },
   {
    "duration": 9005,
    "start_time": "2021-12-21T10:01:02.948Z"
   },
   {
    "duration": 18,
    "start_time": "2021-12-21T10:01:29.636Z"
   },
   {
    "duration": 4,
    "start_time": "2021-12-21T10:03:40.283Z"
   },
   {
    "duration": 22,
    "start_time": "2021-12-21T10:03:41.598Z"
   },
   {
    "duration": 107,
    "start_time": "2021-12-21T10:10:04.374Z"
   },
   {
    "duration": 121,
    "start_time": "2021-12-21T10:10:27.966Z"
   },
   {
    "duration": 4,
    "start_time": "2021-12-21T10:10:35.344Z"
   },
   {
    "duration": 880,
    "start_time": "2021-12-21T10:12:32.883Z"
   },
   {
    "duration": 11,
    "start_time": "2021-12-21T10:12:33.765Z"
   },
   {
    "duration": 30,
    "start_time": "2021-12-21T10:12:33.779Z"
   },
   {
    "duration": 91,
    "start_time": "2021-12-21T10:12:33.811Z"
   },
   {
    "duration": 27,
    "start_time": "2021-12-21T10:12:33.905Z"
   },
   {
    "duration": 20,
    "start_time": "2021-12-21T10:12:33.935Z"
   },
   {
    "duration": 28,
    "start_time": "2021-12-21T10:12:33.958Z"
   },
   {
    "duration": 22,
    "start_time": "2021-12-21T10:12:33.988Z"
   },
   {
    "duration": 44,
    "start_time": "2021-12-21T10:12:34.014Z"
   },
   {
    "duration": 147722,
    "start_time": "2021-12-21T10:12:34.060Z"
   },
   {
    "duration": 95139,
    "start_time": "2021-12-21T10:15:01.784Z"
   },
   {
    "duration": 12,
    "start_time": "2021-12-21T10:16:36.926Z"
   },
   {
    "duration": 20,
    "start_time": "2021-12-21T10:16:36.941Z"
   },
   {
    "duration": 74,
    "start_time": "2021-12-21T10:16:36.963Z"
   },
   {
    "duration": 21,
    "start_time": "2021-12-21T10:16:37.040Z"
   },
   {
    "duration": 61,
    "start_time": "2021-12-21T10:16:37.064Z"
   },
   {
    "duration": 28,
    "start_time": "2021-12-21T10:16:37.128Z"
   },
   {
    "duration": 28,
    "start_time": "2021-12-21T10:16:37.160Z"
   },
   {
    "duration": 31,
    "start_time": "2021-12-21T10:16:37.223Z"
   },
   {
    "duration": 34,
    "start_time": "2021-12-21T10:16:37.257Z"
   },
   {
    "duration": 65,
    "start_time": "2021-12-21T10:16:37.294Z"
   },
   {
    "duration": 31,
    "start_time": "2021-12-21T10:16:37.362Z"
   },
   {
    "duration": 40,
    "start_time": "2021-12-21T10:16:37.395Z"
   },
   {
    "duration": 20,
    "start_time": "2021-12-21T10:16:37.437Z"
   },
   {
    "duration": 24,
    "start_time": "2021-12-21T10:16:37.460Z"
   },
   {
    "duration": 70,
    "start_time": "2021-12-21T10:16:37.486Z"
   },
   {
    "duration": 5,
    "start_time": "2021-12-21T10:16:37.563Z"
   },
   {
    "duration": 86,
    "start_time": "2021-12-21T10:16:37.572Z"
   },
   {
    "duration": 9,
    "start_time": "2021-12-21T10:16:37.662Z"
   },
   {
    "duration": 3208,
    "start_time": "2021-12-21T10:16:37.674Z"
   },
   {
    "duration": 4361,
    "start_time": "2021-12-21T10:16:40.885Z"
   },
   {
    "duration": 8,
    "start_time": "2021-12-21T10:16:45.249Z"
   },
   {
    "duration": 6,
    "start_time": "2021-12-21T10:16:45.259Z"
   },
   {
    "duration": 18,
    "start_time": "2021-12-21T10:16:45.267Z"
   },
   {
    "duration": 38,
    "start_time": "2021-12-21T10:16:45.287Z"
   },
   {
    "duration": 15,
    "start_time": "2021-12-21T10:16:45.328Z"
   },
   {
    "duration": 13,
    "start_time": "2021-12-21T10:16:45.346Z"
   },
   {
    "duration": 5,
    "start_time": "2021-12-21T10:16:45.362Z"
   },
   {
    "duration": 62,
    "start_time": "2021-12-21T10:16:45.370Z"
   },
   {
    "duration": 15,
    "start_time": "2021-12-21T10:16:45.435Z"
   },
   {
    "duration": 18,
    "start_time": "2021-12-21T10:16:45.452Z"
   },
   {
    "duration": 15,
    "start_time": "2021-12-21T10:16:45.472Z"
   },
   {
    "duration": 44,
    "start_time": "2021-12-21T10:16:45.490Z"
   },
   {
    "duration": 10,
    "start_time": "2021-12-21T10:16:45.536Z"
   },
   {
    "duration": 10,
    "start_time": "2021-12-21T10:16:45.548Z"
   },
   {
    "duration": 15,
    "start_time": "2021-12-21T10:16:45.560Z"
   },
   {
    "duration": 8,
    "start_time": "2021-12-21T10:16:45.577Z"
   },
   {
    "duration": 15,
    "start_time": "2021-12-21T10:16:45.624Z"
   },
   {
    "duration": 12,
    "start_time": "2021-12-21T10:16:45.641Z"
   },
   {
    "duration": 9,
    "start_time": "2021-12-21T10:16:45.655Z"
   },
   {
    "duration": 10,
    "start_time": "2021-12-21T10:16:45.667Z"
   },
   {
    "duration": 50,
    "start_time": "2021-12-21T10:16:45.679Z"
   },
   {
    "duration": 48,
    "start_time": "2021-12-21T10:16:45.731Z"
   },
   {
    "duration": 7,
    "start_time": "2021-12-21T10:16:45.782Z"
   },
   {
    "duration": 24,
    "start_time": "2021-12-21T10:16:45.792Z"
   },
   {
    "duration": 10,
    "start_time": "2021-12-21T10:16:45.822Z"
   },
   {
    "duration": 11,
    "start_time": "2021-12-21T10:16:45.835Z"
   },
   {
    "duration": 6,
    "start_time": "2021-12-21T10:16:45.849Z"
   },
   {
    "duration": 155410,
    "start_time": "2021-12-21T10:16:56.693Z"
   },
   {
    "duration": 188,
    "start_time": "2021-12-21T10:21:25.989Z"
   },
   {
    "duration": 138,
    "start_time": "2021-12-21T10:24:18.347Z"
   },
   {
    "duration": 329,
    "start_time": "2021-12-21T10:24:18.159Z"
   },
   {
    "duration": 4,
    "start_time": "2021-12-21T10:24:29.002Z"
   },
   {
    "duration": 2065,
    "start_time": "2021-12-21T10:24:33.039Z"
   },
   {
    "duration": 4,
    "start_time": "2021-12-21T10:31:30.147Z"
   },
   {
    "duration": 490,
    "start_time": "2021-12-21T10:31:30.841Z"
   },
   {
    "duration": 4,
    "start_time": "2021-12-21T10:32:39.941Z"
   },
   {
    "duration": 6,
    "start_time": "2021-12-21T10:33:24.394Z"
   },
   {
    "duration": 438,
    "start_time": "2021-12-21T10:33:25.280Z"
   },
   {
    "duration": 5,
    "start_time": "2021-12-21T10:34:03.616Z"
   },
   {
    "duration": 40,
    "start_time": "2021-12-21T10:34:04.316Z"
   },
   {
    "duration": 6,
    "start_time": "2021-12-21T10:36:16.617Z"
   },
   {
    "duration": 44,
    "start_time": "2021-12-21T10:36:17.991Z"
   },
   {
    "duration": 37,
    "start_time": "2021-12-21T10:44:34.610Z"
   },
   {
    "duration": 13,
    "start_time": "2021-12-21T10:46:06.845Z"
   },
   {
    "duration": 14,
    "start_time": "2021-12-21T10:47:19.627Z"
   },
   {
    "duration": 342,
    "start_time": "2021-12-21T10:47:46.352Z"
   },
   {
    "duration": 8,
    "start_time": "2021-12-21T10:47:53.442Z"
   },
   {
    "duration": 10,
    "start_time": "2021-12-21T10:48:11.528Z"
   },
   {
    "duration": 11,
    "start_time": "2021-12-21T10:48:36.627Z"
   },
   {
    "duration": 15,
    "start_time": "2021-12-21T10:48:48.830Z"
   },
   {
    "duration": 413,
    "start_time": "2021-12-21T10:49:23.397Z"
   },
   {
    "duration": 11,
    "start_time": "2021-12-21T10:49:44.623Z"
   },
   {
    "duration": 10,
    "start_time": "2021-12-21T10:56:39.144Z"
   },
   {
    "duration": 396,
    "start_time": "2021-12-21T10:57:25.852Z"
   },
   {
    "duration": 14,
    "start_time": "2021-12-21T10:57:41.827Z"
   },
   {
    "duration": 10,
    "start_time": "2021-12-21T11:03:28.965Z"
   },
   {
    "duration": 19,
    "start_time": "2021-12-21T11:05:05.124Z"
   },
   {
    "duration": 358,
    "start_time": "2021-12-21T11:06:07.963Z"
   },
   {
    "duration": 17,
    "start_time": "2021-12-21T11:07:28.212Z"
   },
   {
    "duration": 20,
    "start_time": "2021-12-21T11:07:48.019Z"
   },
   {
    "duration": 16,
    "start_time": "2021-12-21T11:08:03.363Z"
   },
   {
    "duration": 14,
    "start_time": "2021-12-21T12:03:45.552Z"
   },
   {
    "duration": 53,
    "start_time": "2021-12-21T12:04:04.412Z"
   },
   {
    "duration": 64,
    "start_time": "2021-12-21T12:04:21.159Z"
   },
   {
    "duration": 989,
    "start_time": "2021-12-21T12:11:42.269Z"
   },
   {
    "duration": 9,
    "start_time": "2021-12-21T12:11:43.261Z"
   },
   {
    "duration": 8,
    "start_time": "2021-12-21T12:11:43.273Z"
   },
   {
    "duration": 104,
    "start_time": "2021-12-21T12:11:43.284Z"
   },
   {
    "duration": 42,
    "start_time": "2021-12-21T12:11:43.391Z"
   },
   {
    "duration": 11,
    "start_time": "2021-12-21T12:11:43.438Z"
   },
   {
    "duration": 38,
    "start_time": "2021-12-21T12:11:43.452Z"
   },
   {
    "duration": 51,
    "start_time": "2021-12-21T12:11:43.494Z"
   },
   {
    "duration": 52,
    "start_time": "2021-12-21T12:11:43.548Z"
   },
   {
    "duration": 172883,
    "start_time": "2021-12-21T12:11:43.602Z"
   },
   {
    "duration": 112434,
    "start_time": "2021-12-21T12:14:36.489Z"
   },
   {
    "duration": 14,
    "start_time": "2021-12-21T12:16:28.927Z"
   },
   {
    "duration": 43,
    "start_time": "2021-12-21T12:16:28.944Z"
   },
   {
    "duration": 43,
    "start_time": "2021-12-21T12:16:28.990Z"
   },
   {
    "duration": 37,
    "start_time": "2021-12-21T12:16:29.037Z"
   },
   {
    "duration": 31,
    "start_time": "2021-12-21T12:16:29.076Z"
   },
   {
    "duration": 39,
    "start_time": "2021-12-21T12:16:29.109Z"
   },
   {
    "duration": 28,
    "start_time": "2021-12-21T12:16:29.151Z"
   },
   {
    "duration": 61,
    "start_time": "2021-12-21T12:16:29.182Z"
   },
   {
    "duration": 32,
    "start_time": "2021-12-21T12:16:29.246Z"
   },
   {
    "duration": 44,
    "start_time": "2021-12-21T12:16:29.280Z"
   },
   {
    "duration": 31,
    "start_time": "2021-12-21T12:16:29.328Z"
   },
   {
    "duration": 14,
    "start_time": "2021-12-21T12:16:29.365Z"
   },
   {
    "duration": 68,
    "start_time": "2021-12-21T12:16:29.383Z"
   },
   {
    "duration": 23,
    "start_time": "2021-12-21T12:16:29.454Z"
   },
   {
    "duration": 69,
    "start_time": "2021-12-21T12:16:29.480Z"
   },
   {
    "duration": 9,
    "start_time": "2021-12-21T12:16:29.553Z"
   },
   {
    "duration": 80,
    "start_time": "2021-12-21T12:16:29.565Z"
   },
   {
    "duration": 9,
    "start_time": "2021-12-21T12:16:29.648Z"
   },
   {
    "duration": 3589,
    "start_time": "2021-12-21T12:16:29.659Z"
   },
   {
    "duration": 5151,
    "start_time": "2021-12-21T12:16:33.251Z"
   },
   {
    "duration": 19,
    "start_time": "2021-12-21T12:16:38.409Z"
   },
   {
    "duration": 54,
    "start_time": "2021-12-21T12:16:38.432Z"
   },
   {
    "duration": 33,
    "start_time": "2021-12-21T12:16:38.489Z"
   },
   {
    "duration": 30,
    "start_time": "2021-12-21T12:16:38.525Z"
   },
   {
    "duration": 16,
    "start_time": "2021-12-21T12:16:38.558Z"
   },
   {
    "duration": 14,
    "start_time": "2021-12-21T12:16:38.577Z"
   },
   {
    "duration": 4,
    "start_time": "2021-12-21T12:16:38.594Z"
   },
   {
    "duration": 51,
    "start_time": "2021-12-21T12:16:38.600Z"
   },
   {
    "duration": 12,
    "start_time": "2021-12-21T12:16:38.654Z"
   },
   {
    "duration": 8,
    "start_time": "2021-12-21T12:16:38.669Z"
   },
   {
    "duration": 54,
    "start_time": "2021-12-21T12:16:38.679Z"
   },
   {
    "duration": 15,
    "start_time": "2021-12-21T12:16:38.737Z"
   },
   {
    "duration": 6,
    "start_time": "2021-12-21T12:16:38.754Z"
   },
   {
    "duration": 7,
    "start_time": "2021-12-21T12:16:38.763Z"
   },
   {
    "duration": 56,
    "start_time": "2021-12-21T12:16:38.772Z"
   },
   {
    "duration": 21,
    "start_time": "2021-12-21T12:16:38.831Z"
   },
   {
    "duration": 10,
    "start_time": "2021-12-21T12:16:38.854Z"
   },
   {
    "duration": 14,
    "start_time": "2021-12-21T12:16:38.867Z"
   },
   {
    "duration": 42,
    "start_time": "2021-12-21T12:16:38.884Z"
   },
   {
    "duration": 14,
    "start_time": "2021-12-21T12:16:38.929Z"
   },
   {
    "duration": 10,
    "start_time": "2021-12-21T12:16:38.947Z"
   },
   {
    "duration": 19,
    "start_time": "2021-12-21T12:16:38.960Z"
   },
   {
    "duration": 49,
    "start_time": "2021-12-21T12:16:38.982Z"
   },
   {
    "duration": 42,
    "start_time": "2021-12-21T12:16:39.034Z"
   },
   {
    "duration": 10,
    "start_time": "2021-12-21T12:16:39.079Z"
   },
   {
    "duration": 5,
    "start_time": "2021-12-21T12:16:39.092Z"
   },
   {
    "duration": 71,
    "start_time": "2021-12-21T12:16:39.124Z"
   },
   {
    "duration": 30,
    "start_time": "2021-12-21T12:16:39.198Z"
   },
   {
    "duration": 28,
    "start_time": "2021-12-21T12:16:39.231Z"
   },
   {
    "duration": 9,
    "start_time": "2021-12-21T12:16:39.262Z"
   },
   {
    "duration": 18,
    "start_time": "2021-12-21T12:16:39.274Z"
   },
   {
    "duration": 40,
    "start_time": "2021-12-21T12:16:39.294Z"
   },
   {
    "duration": 28,
    "start_time": "2021-12-21T12:16:39.337Z"
   },
   {
    "duration": 14,
    "start_time": "2021-12-21T12:16:39.368Z"
   },
   {
    "duration": 19,
    "start_time": "2021-12-21T12:17:02.123Z"
   },
   {
    "duration": 425,
    "start_time": "2021-12-21T12:17:45.597Z"
   },
   {
    "duration": 17,
    "start_time": "2021-12-21T12:17:58.111Z"
   },
   {
    "duration": 18,
    "start_time": "2021-12-21T12:18:05.643Z"
   },
   {
    "duration": 977,
    "start_time": "2021-12-21T20:59:39.068Z"
   },
   {
    "duration": 21,
    "start_time": "2021-12-21T20:59:40.047Z"
   },
   {
    "duration": 7,
    "start_time": "2021-12-21T20:59:40.071Z"
   },
   {
    "duration": 118,
    "start_time": "2021-12-21T20:59:40.081Z"
   },
   {
    "duration": 24,
    "start_time": "2021-12-21T20:59:40.202Z"
   },
   {
    "duration": 12,
    "start_time": "2021-12-21T20:59:40.229Z"
   },
   {
    "duration": 15,
    "start_time": "2021-12-21T20:59:40.268Z"
   },
   {
    "duration": 9,
    "start_time": "2021-12-21T20:59:40.287Z"
   },
   {
    "duration": 22,
    "start_time": "2021-12-21T20:59:40.300Z"
   },
   {
    "duration": 1012,
    "start_time": "2021-12-21T21:02:21.677Z"
   },
   {
    "duration": 11,
    "start_time": "2021-12-21T21:02:22.691Z"
   },
   {
    "duration": 7,
    "start_time": "2021-12-21T21:02:22.705Z"
   },
   {
    "duration": 114,
    "start_time": "2021-12-21T21:02:22.714Z"
   },
   {
    "duration": 37,
    "start_time": "2021-12-21T21:02:22.831Z"
   },
   {
    "duration": 10,
    "start_time": "2021-12-21T21:02:22.871Z"
   },
   {
    "duration": 16,
    "start_time": "2021-12-21T21:02:22.883Z"
   },
   {
    "duration": 11,
    "start_time": "2021-12-21T21:02:22.903Z"
   },
   {
    "duration": 21,
    "start_time": "2021-12-21T21:02:22.967Z"
   },
   {
    "duration": 159627,
    "start_time": "2021-12-21T21:02:22.990Z"
   },
   {
    "duration": 96466,
    "start_time": "2021-12-21T21:05:02.619Z"
   },
   {
    "duration": 11,
    "start_time": "2021-12-21T21:06:39.087Z"
   },
   {
    "duration": 16,
    "start_time": "2021-12-21T21:06:39.101Z"
   },
   {
    "duration": 76,
    "start_time": "2021-12-21T21:06:39.120Z"
   },
   {
    "duration": 20,
    "start_time": "2021-12-21T21:06:39.199Z"
   },
   {
    "duration": 66,
    "start_time": "2021-12-21T21:06:39.221Z"
   },
   {
    "duration": 29,
    "start_time": "2021-12-21T21:06:39.290Z"
   },
   {
    "duration": 61,
    "start_time": "2021-12-21T21:06:39.322Z"
   },
   {
    "duration": 29,
    "start_time": "2021-12-21T21:06:39.386Z"
   },
   {
    "duration": 52,
    "start_time": "2021-12-21T21:06:39.418Z"
   },
   {
    "duration": 31,
    "start_time": "2021-12-21T21:06:39.472Z"
   },
   {
    "duration": 65,
    "start_time": "2021-12-21T21:06:39.506Z"
   },
   {
    "duration": 15,
    "start_time": "2021-12-21T21:06:39.578Z"
   },
   {
    "duration": 22,
    "start_time": "2021-12-21T21:06:39.597Z"
   },
   {
    "duration": 52,
    "start_time": "2021-12-21T21:06:39.622Z"
   },
   {
    "duration": 28,
    "start_time": "2021-12-21T21:06:39.676Z"
   },
   {
    "duration": 7,
    "start_time": "2021-12-21T21:06:39.707Z"
   },
   {
    "duration": 89,
    "start_time": "2021-12-21T21:06:39.717Z"
   },
   {
    "duration": 8,
    "start_time": "2021-12-21T21:06:39.809Z"
   },
   {
    "duration": 3470,
    "start_time": "2021-12-21T21:06:39.820Z"
   },
   {
    "duration": 4620,
    "start_time": "2021-12-21T21:06:43.292Z"
   },
   {
    "duration": 9,
    "start_time": "2021-12-21T21:06:47.915Z"
   },
   {
    "duration": 8,
    "start_time": "2021-12-21T21:06:47.927Z"
   },
   {
    "duration": 41,
    "start_time": "2021-12-21T21:06:47.938Z"
   },
   {
    "duration": 11,
    "start_time": "2021-12-21T21:06:47.981Z"
   },
   {
    "duration": 32,
    "start_time": "2021-12-21T21:06:47.994Z"
   },
   {
    "duration": 43,
    "start_time": "2021-12-21T21:06:48.029Z"
   },
   {
    "duration": 17,
    "start_time": "2021-12-21T21:06:48.076Z"
   },
   {
    "duration": 32,
    "start_time": "2021-12-21T21:06:48.097Z"
   },
   {
    "duration": 34,
    "start_time": "2021-12-21T21:06:48.133Z"
   },
   {
    "duration": 11,
    "start_time": "2021-12-21T21:06:48.171Z"
   },
   {
    "duration": 20,
    "start_time": "2021-12-21T21:06:48.185Z"
   },
   {
    "duration": 59,
    "start_time": "2021-12-21T21:06:48.208Z"
   },
   {
    "duration": 6,
    "start_time": "2021-12-21T21:06:48.270Z"
   },
   {
    "duration": 8,
    "start_time": "2021-12-21T21:06:48.279Z"
   },
   {
    "duration": 13,
    "start_time": "2021-12-21T21:06:48.289Z"
   },
   {
    "duration": 10,
    "start_time": "2021-12-21T21:06:48.305Z"
   },
   {
    "duration": 51,
    "start_time": "2021-12-21T21:06:48.318Z"
   },
   {
    "duration": 13,
    "start_time": "2021-12-21T21:06:48.372Z"
   },
   {
    "duration": 14,
    "start_time": "2021-12-21T21:06:48.388Z"
   },
   {
    "duration": 66,
    "start_time": "2021-12-21T21:06:48.404Z"
   },
   {
    "duration": 13,
    "start_time": "2021-12-21T21:06:48.473Z"
   },
   {
    "duration": 16,
    "start_time": "2021-12-21T21:06:48.490Z"
   },
   {
    "duration": 5,
    "start_time": "2021-12-21T21:06:48.509Z"
   },
   {
    "duration": 65,
    "start_time": "2021-12-21T21:06:48.517Z"
   },
   {
    "duration": 11,
    "start_time": "2021-12-21T21:06:48.584Z"
   },
   {
    "duration": 6,
    "start_time": "2021-12-21T21:06:48.598Z"
   },
   {
    "duration": 97,
    "start_time": "2021-12-21T21:06:48.607Z"
   },
   {
    "duration": 11,
    "start_time": "2021-12-21T21:06:48.707Z"
   },
   {
    "duration": 48,
    "start_time": "2021-12-21T21:06:48.721Z"
   },
   {
    "duration": 14,
    "start_time": "2021-12-21T21:06:48.772Z"
   },
   {
    "duration": 26,
    "start_time": "2021-12-21T21:06:48.789Z"
   },
   {
    "duration": 51,
    "start_time": "2021-12-21T21:06:48.818Z"
   },
   {
    "duration": 19,
    "start_time": "2021-12-21T21:06:48.871Z"
   },
   {
    "duration": 15,
    "start_time": "2021-12-21T21:06:48.894Z"
   },
   {
    "duration": 60,
    "start_time": "2021-12-21T21:06:48.912Z"
   },
   {
    "duration": 14,
    "start_time": "2021-12-21T21:31:19.486Z"
   },
   {
    "duration": 19,
    "start_time": "2021-12-21T21:31:31.210Z"
   },
   {
    "duration": 19,
    "start_time": "2021-12-21T21:32:03.265Z"
   },
   {
    "duration": 44,
    "start_time": "2021-12-21T21:32:30.456Z"
   },
   {
    "duration": 14,
    "start_time": "2021-12-21T21:32:49.160Z"
   },
   {
    "duration": 971,
    "start_time": "2021-12-21T21:32:55.771Z"
   },
   {
    "duration": 24,
    "start_time": "2021-12-21T21:32:56.745Z"
   },
   {
    "duration": 6,
    "start_time": "2021-12-21T21:32:56.773Z"
   },
   {
    "duration": 123,
    "start_time": "2021-12-21T21:32:56.782Z"
   },
   {
    "duration": 23,
    "start_time": "2021-12-21T21:32:56.908Z"
   },
   {
    "duration": 35,
    "start_time": "2021-12-21T21:32:56.934Z"
   },
   {
    "duration": 16,
    "start_time": "2021-12-21T21:32:56.972Z"
   },
   {
    "duration": 11,
    "start_time": "2021-12-21T21:32:56.994Z"
   },
   {
    "duration": 99,
    "start_time": "2021-12-21T21:32:57.009Z"
   },
   {
    "duration": 22,
    "start_time": "2021-12-21T21:32:57.110Z"
   },
   {
    "duration": 152865,
    "start_time": "2021-12-21T21:32:57.134Z"
   },
   {
    "duration": 94800,
    "start_time": "2021-12-21T21:35:30.001Z"
   },
   {
    "duration": 12,
    "start_time": "2021-12-21T21:37:04.803Z"
   },
   {
    "duration": 18,
    "start_time": "2021-12-21T21:37:04.817Z"
   },
   {
    "duration": 45,
    "start_time": "2021-12-21T21:37:04.868Z"
   },
   {
    "duration": 52,
    "start_time": "2021-12-21T21:37:04.916Z"
   },
   {
    "duration": 34,
    "start_time": "2021-12-21T21:37:04.970Z"
   },
   {
    "duration": 60,
    "start_time": "2021-12-21T21:37:05.007Z"
   },
   {
    "duration": 41,
    "start_time": "2021-12-21T21:37:05.070Z"
   },
   {
    "duration": 62,
    "start_time": "2021-12-21T21:37:05.114Z"
   },
   {
    "duration": 35,
    "start_time": "2021-12-21T21:37:05.180Z"
   },
   {
    "duration": 67,
    "start_time": "2021-12-21T21:37:05.220Z"
   },
   {
    "duration": 39,
    "start_time": "2021-12-21T21:37:05.299Z"
   },
   {
    "duration": 43,
    "start_time": "2021-12-21T21:37:05.344Z"
   },
   {
    "duration": 32,
    "start_time": "2021-12-21T21:37:05.390Z"
   },
   {
    "duration": 56,
    "start_time": "2021-12-21T21:37:05.425Z"
   },
   {
    "duration": 43,
    "start_time": "2021-12-21T21:37:05.484Z"
   },
   {
    "duration": 6,
    "start_time": "2021-12-21T21:37:05.530Z"
   },
   {
    "duration": 104,
    "start_time": "2021-12-21T21:37:05.539Z"
   },
   {
    "duration": 22,
    "start_time": "2021-12-21T21:37:05.646Z"
   },
   {
    "duration": 3408,
    "start_time": "2021-12-21T21:37:05.671Z"
   },
   {
    "duration": 4111,
    "start_time": "2021-12-21T21:37:09.081Z"
   },
   {
    "duration": 11,
    "start_time": "2021-12-21T21:37:13.195Z"
   },
   {
    "duration": 12,
    "start_time": "2021-12-21T21:37:13.209Z"
   },
   {
    "duration": 46,
    "start_time": "2021-12-21T21:37:13.224Z"
   },
   {
    "duration": 6,
    "start_time": "2021-12-21T21:37:13.273Z"
   },
   {
    "duration": 26,
    "start_time": "2021-12-21T21:37:13.283Z"
   },
   {
    "duration": 21,
    "start_time": "2021-12-21T21:37:13.311Z"
   },
   {
    "duration": 32,
    "start_time": "2021-12-21T21:37:13.335Z"
   },
   {
    "duration": 36,
    "start_time": "2021-12-21T21:37:13.370Z"
   },
   {
    "duration": 24,
    "start_time": "2021-12-21T21:37:13.409Z"
   },
   {
    "duration": 13,
    "start_time": "2021-12-21T21:37:13.436Z"
   },
   {
    "duration": 15,
    "start_time": "2021-12-21T21:37:13.468Z"
   },
   {
    "duration": 17,
    "start_time": "2021-12-21T21:37:13.485Z"
   },
   {
    "duration": 6,
    "start_time": "2021-12-21T21:37:13.504Z"
   },
   {
    "duration": 9,
    "start_time": "2021-12-21T21:37:13.512Z"
   },
   {
    "duration": 45,
    "start_time": "2021-12-21T21:37:13.523Z"
   },
   {
    "duration": 8,
    "start_time": "2021-12-21T21:37:13.571Z"
   },
   {
    "duration": 21,
    "start_time": "2021-12-21T21:37:13.582Z"
   },
   {
    "duration": 11,
    "start_time": "2021-12-21T21:37:13.605Z"
   },
   {
    "duration": 11,
    "start_time": "2021-12-21T21:37:13.619Z"
   },
   {
    "duration": 41,
    "start_time": "2021-12-21T21:37:13.632Z"
   },
   {
    "duration": 9,
    "start_time": "2021-12-21T21:37:13.675Z"
   },
   {
    "duration": 14,
    "start_time": "2021-12-21T21:37:13.686Z"
   },
   {
    "duration": 6,
    "start_time": "2021-12-21T21:37:13.702Z"
   },
   {
    "duration": 70,
    "start_time": "2021-12-21T21:37:13.710Z"
   },
   {
    "duration": 11,
    "start_time": "2021-12-21T21:37:13.782Z"
   },
   {
    "duration": 10,
    "start_time": "2021-12-21T21:37:13.796Z"
   },
   {
    "duration": 69,
    "start_time": "2021-12-21T21:37:13.808Z"
   },
   {
    "duration": 11,
    "start_time": "2021-12-21T21:37:13.881Z"
   },
   {
    "duration": 27,
    "start_time": "2021-12-21T21:37:13.895Z"
   },
   {
    "duration": 18,
    "start_time": "2021-12-21T21:37:13.925Z"
   },
   {
    "duration": 39,
    "start_time": "2021-12-21T21:37:13.946Z"
   },
   {
    "duration": 13,
    "start_time": "2021-12-21T21:37:13.988Z"
   },
   {
    "duration": 23,
    "start_time": "2021-12-21T21:37:14.003Z"
   },
   {
    "duration": 42,
    "start_time": "2021-12-21T21:37:14.029Z"
   },
   {
    "duration": 22,
    "start_time": "2021-12-21T21:37:14.073Z"
   },
   {
    "duration": 173,
    "start_time": "2021-12-21T21:58:48.195Z"
   },
   {
    "duration": 114,
    "start_time": "2021-12-21T22:00:45.785Z"
   },
   {
    "duration": 832,
    "start_time": "2021-12-22T12:44:27.717Z"
   },
   {
    "duration": 9,
    "start_time": "2021-12-22T12:44:33.855Z"
   },
   {
    "duration": 6,
    "start_time": "2021-12-22T12:44:35.645Z"
   },
   {
    "duration": 65,
    "start_time": "2021-12-22T12:44:40.257Z"
   },
   {
    "duration": 22,
    "start_time": "2021-12-22T12:45:01.102Z"
   },
   {
    "duration": 11,
    "start_time": "2021-12-22T12:45:06.824Z"
   },
   {
    "duration": 14,
    "start_time": "2021-12-22T12:45:12.716Z"
   },
   {
    "duration": 9,
    "start_time": "2021-12-22T12:45:20.308Z"
   },
   {
    "duration": 20,
    "start_time": "2021-12-22T12:45:26.273Z"
   },
   {
    "duration": 20,
    "start_time": "2021-12-22T12:56:56.057Z"
   },
   {
    "duration": 19,
    "start_time": "2021-12-22T12:58:44.761Z"
   },
   {
    "duration": 283922,
    "start_time": "2021-12-22T13:12:32.339Z"
   },
   {
    "duration": 149940,
    "start_time": "2021-12-22T13:21:32.584Z"
   },
   {
    "duration": 105768,
    "start_time": "2021-12-22T13:24:51.026Z"
   },
   {
    "duration": 697,
    "start_time": "2021-12-22T18:13:06.289Z"
   },
   {
    "duration": 7,
    "start_time": "2021-12-22T18:13:12.591Z"
   },
   {
    "duration": 4,
    "start_time": "2021-12-22T18:13:14.569Z"
   },
   {
    "duration": 47,
    "start_time": "2021-12-22T18:13:22.453Z"
   },
   {
    "duration": 64,
    "start_time": "2021-12-22T18:14:25.405Z"
   },
   {
    "duration": 7,
    "start_time": "2021-12-22T18:14:25.471Z"
   },
   {
    "duration": 4,
    "start_time": "2021-12-22T18:14:25.479Z"
   },
   {
    "duration": 57,
    "start_time": "2021-12-22T18:14:25.485Z"
   },
   {
    "duration": 16,
    "start_time": "2021-12-22T18:14:25.544Z"
   },
   {
    "duration": 8,
    "start_time": "2021-12-22T18:14:25.562Z"
   },
   {
    "duration": 9,
    "start_time": "2021-12-22T18:14:25.571Z"
   },
   {
    "duration": 6,
    "start_time": "2021-12-22T18:14:25.606Z"
   },
   {
    "duration": 12,
    "start_time": "2021-12-22T18:14:25.613Z"
   },
   {
    "duration": 13,
    "start_time": "2021-12-22T18:14:43.399Z"
   },
   {
    "duration": 3,
    "start_time": "2021-12-22T18:18:05.072Z"
   },
   {
    "duration": 378,
    "start_time": "2021-12-22T18:19:11.661Z"
   },
   {
    "duration": 2,
    "start_time": "2021-12-22T18:19:31.419Z"
   },
   {
    "duration": 317,
    "start_time": "2021-12-22T18:19:33.063Z"
   },
   {
    "duration": 278,
    "start_time": "2021-12-22T18:19:53.557Z"
   },
   {
    "duration": 3,
    "start_time": "2021-12-22T18:20:22.786Z"
   },
   {
    "duration": 368,
    "start_time": "2021-12-22T18:20:24.261Z"
   },
   {
    "duration": 98,
    "start_time": "2021-12-22T18:24:02.832Z"
   },
   {
    "duration": 3,
    "start_time": "2021-12-22T18:24:14.184Z"
   },
   {
    "duration": 279,
    "start_time": "2021-12-22T18:24:54.338Z"
   },
   {
    "duration": 292,
    "start_time": "2021-12-22T18:25:22.003Z"
   },
   {
    "duration": 61372,
    "start_time": "2021-12-22T18:27:05.629Z"
   },
   {
    "duration": 96,
    "start_time": "2021-12-22T18:31:23.683Z"
   },
   {
    "duration": 15,
    "start_time": "2021-12-22T18:32:12.485Z"
   },
   {
    "duration": 18,
    "start_time": "2021-12-22T18:32:26.612Z"
   },
   {
    "duration": 27,
    "start_time": "2021-12-22T18:33:54.450Z"
   },
   {
    "duration": 740,
    "start_time": "2021-12-22T18:34:22.749Z"
   },
   {
    "duration": 9,
    "start_time": "2021-12-22T18:34:23.491Z"
   },
   {
    "duration": 5,
    "start_time": "2021-12-22T18:34:23.507Z"
   },
   {
    "duration": 44,
    "start_time": "2021-12-22T18:34:23.514Z"
   },
   {
    "duration": 12,
    "start_time": "2021-12-22T18:34:23.560Z"
   },
   {
    "duration": 35,
    "start_time": "2021-12-22T18:34:23.573Z"
   },
   {
    "duration": 9,
    "start_time": "2021-12-22T18:34:23.610Z"
   },
   {
    "duration": 6,
    "start_time": "2021-12-22T18:34:23.622Z"
   },
   {
    "duration": 15,
    "start_time": "2021-12-22T18:34:23.630Z"
   },
   {
    "duration": 13,
    "start_time": "2021-12-22T18:34:23.647Z"
   },
   {
    "duration": 30,
    "start_time": "2021-12-22T18:34:52.994Z"
   },
   {
    "duration": 25,
    "start_time": "2021-12-22T18:38:03.912Z"
   },
   {
    "duration": 8,
    "start_time": "2021-12-22T18:38:47.709Z"
   },
   {
    "duration": 12,
    "start_time": "2021-12-22T18:38:49.780Z"
   },
   {
    "duration": 24,
    "start_time": "2021-12-22T18:39:31.888Z"
   },
   {
    "duration": 12,
    "start_time": "2021-12-22T18:39:36.782Z"
   },
   {
    "duration": 11,
    "start_time": "2021-12-22T18:40:37.683Z"
   },
   {
    "duration": 18,
    "start_time": "2021-12-22T18:41:20.966Z"
   },
   {
    "duration": 107,
    "start_time": "2021-12-22T18:45:38.538Z"
   },
   {
    "duration": 12,
    "start_time": "2021-12-22T18:48:40.463Z"
   },
   {
    "duration": 14,
    "start_time": "2021-12-22T18:48:50.233Z"
   },
   {
    "duration": 677,
    "start_time": "2021-12-22T18:52:54.047Z"
   },
   {
    "duration": 8,
    "start_time": "2021-12-22T18:52:54.726Z"
   },
   {
    "duration": 7,
    "start_time": "2021-12-22T18:52:54.736Z"
   },
   {
    "duration": 65,
    "start_time": "2021-12-22T18:52:54.746Z"
   },
   {
    "duration": 17,
    "start_time": "2021-12-22T18:52:54.813Z"
   },
   {
    "duration": 10,
    "start_time": "2021-12-22T18:52:54.833Z"
   },
   {
    "duration": 8,
    "start_time": "2021-12-22T18:52:54.846Z"
   },
   {
    "duration": 7,
    "start_time": "2021-12-22T18:52:54.857Z"
   },
   {
    "duration": 57,
    "start_time": "2021-12-22T18:52:54.866Z"
   },
   {
    "duration": 14,
    "start_time": "2021-12-22T18:52:54.925Z"
   },
   {
    "duration": 28,
    "start_time": "2021-12-22T18:52:54.940Z"
   },
   {
    "duration": 58,
    "start_time": "2021-12-22T18:52:54.970Z"
   },
   {
    "duration": 6,
    "start_time": "2021-12-22T18:52:55.031Z"
   },
   {
    "duration": 17,
    "start_time": "2021-12-22T18:52:55.039Z"
   },
   {
    "duration": 24,
    "start_time": "2021-12-22T18:52:55.058Z"
   },
   {
    "duration": 33,
    "start_time": "2021-12-22T18:52:55.084Z"
   },
   {
    "duration": 23,
    "start_time": "2021-12-22T18:52:55.119Z"
   },
   {
    "duration": 11,
    "start_time": "2021-12-22T18:52:55.143Z"
   },
   {
    "duration": 12,
    "start_time": "2021-12-22T18:52:55.156Z"
   },
   {
    "duration": 41,
    "start_time": "2021-12-22T18:52:55.170Z"
   },
   {
    "duration": 13,
    "start_time": "2021-12-22T18:52:58.137Z"
   },
   {
    "duration": 13,
    "start_time": "2021-12-22T18:53:08.567Z"
   },
   {
    "duration": 18,
    "start_time": "2021-12-22T18:53:24.716Z"
   },
   {
    "duration": 4,
    "start_time": "2021-12-22T18:53:25.669Z"
   },
   {
    "duration": 32,
    "start_time": "2021-12-22T18:53:30.319Z"
   },
   {
    "duration": 7,
    "start_time": "2021-12-22T18:53:34.859Z"
   },
   {
    "duration": 2435,
    "start_time": "2021-12-22T18:53:41.786Z"
   },
   {
    "duration": 3217,
    "start_time": "2021-12-22T18:53:44.546Z"
   },
   {
    "duration": 7,
    "start_time": "2021-12-22T18:54:03.963Z"
   },
   {
    "duration": 4,
    "start_time": "2021-12-22T18:54:05.809Z"
   },
   {
    "duration": 13,
    "start_time": "2021-12-22T18:54:09.158Z"
   },
   {
    "duration": 4,
    "start_time": "2021-12-22T18:54:13.299Z"
   },
   {
    "duration": 10,
    "start_time": "2021-12-22T18:54:15.428Z"
   },
   {
    "duration": 9,
    "start_time": "2021-12-22T18:54:20.461Z"
   },
   {
    "duration": 3,
    "start_time": "2021-12-22T18:54:23.835Z"
   },
   {
    "duration": 14,
    "start_time": "2021-12-22T18:54:44.066Z"
   },
   {
    "duration": 8,
    "start_time": "2021-12-22T18:54:47.945Z"
   },
   {
    "duration": 7,
    "start_time": "2021-12-22T18:54:49.571Z"
   },
   {
    "duration": 8,
    "start_time": "2021-12-22T18:54:53.279Z"
   },
   {
    "duration": 9,
    "start_time": "2021-12-22T18:54:56.711Z"
   },
   {
    "duration": 5,
    "start_time": "2021-12-22T18:55:01.260Z"
   },
   {
    "duration": 5,
    "start_time": "2021-12-22T18:55:01.410Z"
   },
   {
    "duration": 6,
    "start_time": "2021-12-22T18:55:02.530Z"
   },
   {
    "duration": 7,
    "start_time": "2021-12-22T18:55:08.621Z"
   },
   {
    "duration": 9,
    "start_time": "2021-12-22T18:55:09.206Z"
   },
   {
    "duration": 8,
    "start_time": "2021-12-22T18:55:09.807Z"
   },
   {
    "duration": 9,
    "start_time": "2021-12-22T18:55:10.369Z"
   },
   {
    "duration": 8,
    "start_time": "2021-12-22T18:55:10.930Z"
   },
   {
    "duration": 7,
    "start_time": "2021-12-22T18:55:11.582Z"
   },
   {
    "duration": 9,
    "start_time": "2021-12-22T18:55:13.376Z"
   },
   {
    "duration": 4,
    "start_time": "2021-12-22T18:57:55.419Z"
   },
   {
    "duration": 18,
    "start_time": "2021-12-22T18:58:04.545Z"
   },
   {
    "duration": 13,
    "start_time": "2021-12-22T18:58:08.715Z"
   },
   {
    "duration": 4,
    "start_time": "2021-12-22T18:58:11.998Z"
   },
   {
    "duration": 26,
    "start_time": "2021-12-22T18:58:15.356Z"
   },
   {
    "duration": 9,
    "start_time": "2021-12-22T18:58:42.815Z"
   },
   {
    "duration": 10,
    "start_time": "2021-12-22T18:58:42.827Z"
   },
   {
    "duration": 6,
    "start_time": "2021-12-22T18:58:42.839Z"
   },
   {
    "duration": 12,
    "start_time": "2021-12-22T18:58:42.847Z"
   },
   {
    "duration": 7,
    "start_time": "2021-12-22T18:58:42.861Z"
   },
   {
    "duration": 42,
    "start_time": "2021-12-22T18:58:42.870Z"
   },
   {
    "duration": 15,
    "start_time": "2021-12-22T18:58:42.915Z"
   },
   {
    "duration": 15,
    "start_time": "2021-12-22T18:58:42.932Z"
   }
  ],
  "kernelspec": {
   "display_name": "Python 3 (ipykernel)",
   "language": "python",
   "name": "python3"
  },
  "language_info": {
   "codemirror_mode": {
    "name": "ipython",
    "version": 3
   },
   "file_extension": ".py",
   "mimetype": "text/x-python",
   "name": "python",
   "nbconvert_exporter": "python",
   "pygments_lexer": "ipython3",
   "version": "3.9.5"
  },
  "toc": {
   "base_numbering": 1,
   "nav_menu": {},
   "number_sections": true,
   "sideBar": true,
   "skip_h1_title": true,
   "title_cell": "Table of Contents",
   "title_sidebar": "Contents",
   "toc_cell": false,
   "toc_position": {
    "height": "calc(100% - 180px)",
    "left": "10px",
    "top": "150px",
    "width": "273.797px"
   },
   "toc_section_display": true,
   "toc_window_display": true
  }
 },
 "nbformat": 4,
 "nbformat_minor": 2
}
