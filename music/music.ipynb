{
 "cells": [
  {
   "cell_type": "markdown",
   "metadata": {
    "id": "E0vqbgi9ay0H"
   },
   "source": [
    "# Яндекс.Музыка"
   ]
  },
  {
   "cell_type": "markdown",
   "metadata": {
    "id": "VUC88oWjTJw2"
   },
   "source": [
    "Сравнение Москвы и Петербурга окружено мифами. Например:\n",
    " * Москва — мегаполис, подчинённый жёсткому ритму рабочей недели;\n",
    " * Петербург — культурная столица, со своими вкусами.\n",
    "\n",
    "На данных Яндекс.Музыки вы сравните поведение пользователей двух столиц.\n",
    "\n",
    "**Цель исследования** — проверьте три гипотезы:\n",
    "1. Активность пользователей зависит от дня недели. Причём в Москве и Петербурге это проявляется по-разному.\n",
    "2. В понедельник утром в Москве преобладают одни жанры, а в Петербурге — другие. Так же и вечером пятницы преобладают разные жанры — в зависимости от города. \n",
    "3. Москва и Петербург предпочитают разные жанры музыки. В Москве чаще слушают поп-музыку, в Петербурге — русский рэп.\n",
    "\n",
    "**Ход исследования**\n",
    "\n",
    "Данные о поведении пользователей вы получите из файла `yandex_music_project.csv`. О качестве данных ничего не известно. Поэтому перед проверкой гипотез понадобится обзор данных. \n",
    "\n",
    "Вы проверите данные на ошибки и оцените их влияние на исследование. Затем, на этапе предобработки вы поищете возможность исправить самые критичные ошибки данных.\n",
    " \n",
    "Таким образом, исследование пройдёт в три этапа:\n",
    " 1. Обзор данных.\n",
    " 2. Предобработка данных.\n",
    " 3. Проверка гипотез.\n",
    "\n"
   ]
  },
  {
   "cell_type": "markdown",
   "metadata": {
    "id": "Ml1hmfXC_Zcs"
   },
   "source": [
    "## Обзор данных\n",
    "\n",
    "Составьте первое представление о данных Яндекс.Музыки.\n",
    "\n",
    "\n"
   ]
  },
  {
   "cell_type": "markdown",
   "metadata": {
    "id": "57eAOGIz_Zcs"
   },
   "source": [
    "Основной инструмент аналитика — `pandas`. Импортируйте эту библиотеку."
   ]
  },
  {
   "cell_type": "code",
   "execution_count": 1,
   "metadata": {
    "id": "AXN7PHPN_Zcs"
   },
   "outputs": [],
   "source": [
    "import pandas as pd # импорт библиотеки pandas"
   ]
  },
  {
   "cell_type": "markdown",
   "metadata": {},
   "source": [
    "<div class=\"alert alert-success\">\n",
    "<b>✔️ Комментарий ревьюера:</b> \n",
    "<br>Очень здорово, что ты используешь сокращение pd для Pandas, это общепринятое сокращение для этой библиотеки для удобной дальнейшей работы.\n",
    "</div>"
   ]
  },
  {
   "cell_type": "markdown",
   "metadata": {
    "id": "SG23P8tt_Zcs"
   },
   "source": [
    "Прочитайте файл `yandex_music_project.csv` из папки `/datasets` и сохраните его в переменной `df`:"
   ]
  },
  {
   "cell_type": "code",
   "execution_count": 2,
   "metadata": {
    "id": "fFVu7vqh_Zct"
   },
   "outputs": [],
   "source": [
    "df = pd.read_csv('/datasets/yandex_music_project.csv')# чтение файла с данными и сохранение в df"
   ]
  },
  {
   "cell_type": "markdown",
   "metadata": {
    "id": "rDoOMd3uTqnZ"
   },
   "source": [
    "Выведите на экран первые десять строк таблицы:"
   ]
  },
  {
   "cell_type": "code",
   "execution_count": 3,
   "metadata": {
    "id": "oWTVX3gW_Zct"
   },
   "outputs": [
    {
     "data": {
      "text/html": [
       "<div>\n",
       "<style scoped>\n",
       "    .dataframe tbody tr th:only-of-type {\n",
       "        vertical-align: middle;\n",
       "    }\n",
       "\n",
       "    .dataframe tbody tr th {\n",
       "        vertical-align: top;\n",
       "    }\n",
       "\n",
       "    .dataframe thead th {\n",
       "        text-align: right;\n",
       "    }\n",
       "</style>\n",
       "<table border=\"1\" class=\"dataframe\">\n",
       "  <thead>\n",
       "    <tr style=\"text-align: right;\">\n",
       "      <th></th>\n",
       "      <th>userID</th>\n",
       "      <th>Track</th>\n",
       "      <th>artist</th>\n",
       "      <th>genre</th>\n",
       "      <th>City</th>\n",
       "      <th>time</th>\n",
       "      <th>Day</th>\n",
       "    </tr>\n",
       "  </thead>\n",
       "  <tbody>\n",
       "    <tr>\n",
       "      <td>0</td>\n",
       "      <td>FFB692EC</td>\n",
       "      <td>Kamigata To Boots</td>\n",
       "      <td>The Mass Missile</td>\n",
       "      <td>rock</td>\n",
       "      <td>Saint-Petersburg</td>\n",
       "      <td>20:28:33</td>\n",
       "      <td>Wednesday</td>\n",
       "    </tr>\n",
       "    <tr>\n",
       "      <td>1</td>\n",
       "      <td>55204538</td>\n",
       "      <td>Delayed Because of Accident</td>\n",
       "      <td>Andreas Rönnberg</td>\n",
       "      <td>rock</td>\n",
       "      <td>Moscow</td>\n",
       "      <td>14:07:09</td>\n",
       "      <td>Friday</td>\n",
       "    </tr>\n",
       "    <tr>\n",
       "      <td>2</td>\n",
       "      <td>20EC38</td>\n",
       "      <td>Funiculì funiculà</td>\n",
       "      <td>Mario Lanza</td>\n",
       "      <td>pop</td>\n",
       "      <td>Saint-Petersburg</td>\n",
       "      <td>20:58:07</td>\n",
       "      <td>Wednesday</td>\n",
       "    </tr>\n",
       "    <tr>\n",
       "      <td>3</td>\n",
       "      <td>A3DD03C9</td>\n",
       "      <td>Dragons in the Sunset</td>\n",
       "      <td>Fire + Ice</td>\n",
       "      <td>folk</td>\n",
       "      <td>Saint-Petersburg</td>\n",
       "      <td>08:37:09</td>\n",
       "      <td>Monday</td>\n",
       "    </tr>\n",
       "    <tr>\n",
       "      <td>4</td>\n",
       "      <td>E2DC1FAE</td>\n",
       "      <td>Soul People</td>\n",
       "      <td>Space Echo</td>\n",
       "      <td>dance</td>\n",
       "      <td>Moscow</td>\n",
       "      <td>08:34:34</td>\n",
       "      <td>Monday</td>\n",
       "    </tr>\n",
       "    <tr>\n",
       "      <td>5</td>\n",
       "      <td>842029A1</td>\n",
       "      <td>Преданная</td>\n",
       "      <td>IMPERVTOR</td>\n",
       "      <td>rusrap</td>\n",
       "      <td>Saint-Petersburg</td>\n",
       "      <td>13:09:41</td>\n",
       "      <td>Friday</td>\n",
       "    </tr>\n",
       "    <tr>\n",
       "      <td>6</td>\n",
       "      <td>4CB90AA5</td>\n",
       "      <td>True</td>\n",
       "      <td>Roman Messer</td>\n",
       "      <td>dance</td>\n",
       "      <td>Moscow</td>\n",
       "      <td>13:00:07</td>\n",
       "      <td>Wednesday</td>\n",
       "    </tr>\n",
       "    <tr>\n",
       "      <td>7</td>\n",
       "      <td>F03E1C1F</td>\n",
       "      <td>Feeling This Way</td>\n",
       "      <td>Polina Griffith</td>\n",
       "      <td>dance</td>\n",
       "      <td>Moscow</td>\n",
       "      <td>20:47:49</td>\n",
       "      <td>Wednesday</td>\n",
       "    </tr>\n",
       "    <tr>\n",
       "      <td>8</td>\n",
       "      <td>8FA1D3BE</td>\n",
       "      <td>И вновь продолжается бой</td>\n",
       "      <td>NaN</td>\n",
       "      <td>ruspop</td>\n",
       "      <td>Moscow</td>\n",
       "      <td>09:17:40</td>\n",
       "      <td>Friday</td>\n",
       "    </tr>\n",
       "    <tr>\n",
       "      <td>9</td>\n",
       "      <td>E772D5C0</td>\n",
       "      <td>Pessimist</td>\n",
       "      <td>NaN</td>\n",
       "      <td>dance</td>\n",
       "      <td>Saint-Petersburg</td>\n",
       "      <td>21:20:49</td>\n",
       "      <td>Wednesday</td>\n",
       "    </tr>\n",
       "  </tbody>\n",
       "</table>\n",
       "</div>"
      ],
      "text/plain": [
       "     userID                        Track            artist   genre  \\\n",
       "0  FFB692EC            Kamigata To Boots  The Mass Missile    rock   \n",
       "1  55204538  Delayed Because of Accident  Andreas Rönnberg    rock   \n",
       "2    20EC38            Funiculì funiculà       Mario Lanza     pop   \n",
       "3  A3DD03C9        Dragons in the Sunset        Fire + Ice    folk   \n",
       "4  E2DC1FAE                  Soul People        Space Echo   dance   \n",
       "5  842029A1                    Преданная         IMPERVTOR  rusrap   \n",
       "6  4CB90AA5                         True      Roman Messer   dance   \n",
       "7  F03E1C1F             Feeling This Way   Polina Griffith   dance   \n",
       "8  8FA1D3BE     И вновь продолжается бой               NaN  ruspop   \n",
       "9  E772D5C0                    Pessimist               NaN   dance   \n",
       "\n",
       "             City        time        Day  \n",
       "0  Saint-Petersburg  20:28:33  Wednesday  \n",
       "1            Moscow  14:07:09     Friday  \n",
       "2  Saint-Petersburg  20:58:07  Wednesday  \n",
       "3  Saint-Petersburg  08:37:09     Monday  \n",
       "4            Moscow  08:34:34     Monday  \n",
       "5  Saint-Petersburg  13:09:41     Friday  \n",
       "6            Moscow  13:00:07  Wednesday  \n",
       "7            Moscow  20:47:49  Wednesday  \n",
       "8            Moscow  09:17:40     Friday  \n",
       "9  Saint-Petersburg  21:20:49  Wednesday  "
      ]
     },
     "execution_count": 3,
     "metadata": {},
     "output_type": "execute_result"
    }
   ],
   "source": [
    "df.head(10)# получение первых 10 строк таблицы df"
   ]
  },
  {
   "cell_type": "markdown",
   "metadata": {
    "id": "EO73Kwic_Zct"
   },
   "source": [
    "Одной командой получить общую информацию о таблице:"
   ]
  },
  {
   "cell_type": "code",
   "execution_count": 4,
   "metadata": {
    "id": "DSf2kIb-_Zct"
   },
   "outputs": [
    {
     "name": "stdout",
     "output_type": "stream",
     "text": [
      "<class 'pandas.core.frame.DataFrame'>\n",
      "RangeIndex: 65079 entries, 0 to 65078\n",
      "Data columns (total 7 columns):\n",
      "  userID    65079 non-null object\n",
      "Track       63848 non-null object\n",
      "artist      57876 non-null object\n",
      "genre       63881 non-null object\n",
      "  City      65079 non-null object\n",
      "time        65079 non-null object\n",
      "Day         65079 non-null object\n",
      "dtypes: object(7)\n",
      "memory usage: 3.5+ MB\n"
     ]
    }
   ],
   "source": [
    "df.info()# получение общей информации о данных в таблице df"
   ]
  },
  {
   "cell_type": "markdown",
   "metadata": {
    "id": "TaQ2Iwbr_Zct"
   },
   "source": [
    "Итак, в таблице семь столбцов. Тип данных во всех столбцах — `object`.\n",
    "\n",
    "Согласно документации к данным:\n",
    "* `userID` — идентификатор пользователя;\n",
    "* `Track` — название трека;  \n",
    "* `artist` — имя исполнителя;\n",
    "* `genre` — название жанра;\n",
    "* `City` — город пользователя;\n",
    "* `time` — время начала прослушивания;\n",
    "* `Day` — день недели.\n",
    "\n",
    "В названиях колонок видны три нарушения стиля:\n",
    "1. Строчные буквы сочетаются с прописными.\n",
    "2. Встречаются пробелы.\n",
    "3. В колонке userID \"верблюжий\" стиль написания.\n",
    "\n",
    "\n",
    "\n",
    "\n",
    "Количество значений в столбцах различается. Значит, в данных есть пропущенные значения.\n"
   ]
  },
  {
   "cell_type": "markdown",
   "metadata": {},
   "source": [
    "<div class=\"alert alert-success\">\n",
    "<b>✔️ Комментарий ревьюера:</b> \n",
    "<br>Ты абсолютно правильно ответила на вопрос в этом задании! Отличная работа!\n",
    "</div>"
   ]
  },
  {
   "cell_type": "markdown",
   "metadata": {
    "id": "MCB6-dXG_Zct"
   },
   "source": [
    "**Выводы**\n",
    "\n",
    "В каждой строке таблицы — данные о прослушанном треке. Часть колонок описывает саму композицию: название, исполнителя и жанр. Остальные данные рассказывают о пользователе: из какого он города, когда он слушал музыку. \n",
    "\n",
    "Предварительно можно утверждать, что, данных достаточно для проверки гипотез. Но встречаются пропуски в данных, а в названиях колонок — расхождения с хорошим стилем.\n",
    "\n",
    "Чтобы двигаться дальше, нужно устранить проблемы в данных."
   ]
  },
  {
   "cell_type": "markdown",
   "metadata": {
    "id": "SjYF6Ub9_Zct"
   },
   "source": [
    "## Предобработка данных\n",
    "Исправьте стиль в заголовках столбцов, исключите пропуски. Затем проверьте данные на дубликаты."
   ]
  },
  {
   "cell_type": "markdown",
   "metadata": {
    "id": "dIaKXr29_Zct"
   },
   "source": [
    "### Стиль заголовков\n",
    "Выведите на экран названия столбцов:"
   ]
  },
  {
   "cell_type": "code",
   "execution_count": 5,
   "metadata": {
    "id": "oKOTdF_Q_Zct"
   },
   "outputs": [
    {
     "data": {
      "text/plain": [
       "Index(['  userID', 'Track', 'artist', 'genre', '  City  ', 'time', 'Day'], dtype='object')"
      ]
     },
     "execution_count": 5,
     "metadata": {},
     "output_type": "execute_result"
    }
   ],
   "source": [
    "df.columns# перечень названий столбцов таблицы df"
   ]
  },
  {
   "cell_type": "markdown",
   "metadata": {
    "id": "zj5534cv_Zct"
   },
   "source": [
    "Приведите названия в соответствие с хорошим стилем:\n",
    "* несколько слов в названии запишите в «змеином_регистре»,\n",
    "* все символы сделайте строчными,\n",
    "* устраните пробелы.\n",
    "\n",
    "Для этого переименуйте колонки так:\n",
    "* `'  userID'` → `'user_id'`;\n",
    "* `'Track'` → `'track'`;\n",
    "* `'  City  '` → `'city'`;\n",
    "* `'Day'` → `'day'`."
   ]
  },
  {
   "cell_type": "code",
   "execution_count": 6,
   "metadata": {
    "id": "ISlFqs5y_Zct"
   },
   "outputs": [],
   "source": [
    "df = df.rename(columns={'  userID': 'user_id', 'Track': 'track', '  City  ': 'city', 'Day':'day'})# переименование столбцов"
   ]
  },
  {
   "cell_type": "markdown",
   "metadata": {
    "id": "1dqbh00J_Zct"
   },
   "source": [
    "Проверьте результат. Для этого ещё раз выведите на экран названия столбцов:"
   ]
  },
  {
   "cell_type": "code",
   "execution_count": 7,
   "metadata": {
    "id": "d4NOAmTW_Zct"
   },
   "outputs": [
    {
     "data": {
      "text/plain": [
       "Index(['user_id', 'track', 'artist', 'genre', 'city', 'time', 'day'], dtype='object')"
      ]
     },
     "execution_count": 7,
     "metadata": {},
     "output_type": "execute_result"
    }
   ],
   "source": [
    "df.columns# проверка результатов - перечень названий столбцов"
   ]
  },
  {
   "cell_type": "markdown",
   "metadata": {
    "id": "5ISfbcfY_Zct"
   },
   "source": [
    "### Пропуски значений\n",
    "Сначала посчитайте, сколько в таблице пропущенных значений. Для этого достаточно двух методов `pandas`:"
   ]
  },
  {
   "cell_type": "code",
   "execution_count": 8,
   "metadata": {
    "id": "RskX29qr_Zct"
   },
   "outputs": [
    {
     "data": {
      "text/plain": [
       "user_id       0\n",
       "track      1231\n",
       "artist     7203\n",
       "genre      1198\n",
       "city          0\n",
       "time          0\n",
       "day           0\n",
       "dtype: int64"
      ]
     },
     "execution_count": 8,
     "metadata": {},
     "output_type": "execute_result"
    }
   ],
   "source": [
    "df.isna().sum() # подсчёт пропусков"
   ]
  },
  {
   "cell_type": "markdown",
   "metadata": {
    "id": "qubhgnlO_Zct"
   },
   "source": [
    "Не все пропущенные значения влияют на исследование. Так в `track` и `artist` пропуски не важны для вашей работы. Достаточно заменить их явными обозначениями.\n",
    "\n",
    "Но пропуски в `genre` могут помешать сравнению музыкальных вкусов в Москве и Санкт-Петербурге. На практике было бы правильно установить причину пропусков и восстановить данные. Такой возможности нет в учебном проекте. Придётся:\n",
    "* заполнить и эти пропуски явными обозначениями,\n",
    "* оценить, насколько они повредят расчётам. "
   ]
  },
  {
   "cell_type": "markdown",
   "metadata": {
    "id": "fSv2laPA_Zct"
   },
   "source": [
    "Замените пропущенные значения в столбцах `track`, `artist` и `genre` на строку `'unknown'`. Для этого создайте список `columns_to_replace`, переберите его элементы циклом `for` и для каждого столбца выполните замену пропущенных значений:"
   ]
  },
  {
   "cell_type": "code",
   "execution_count": 9,
   "metadata": {
    "id": "KplB5qWs_Zct"
   },
   "outputs": [],
   "source": [
    "columns_to_replace = ['track', 'artist', 'genre']\n",
    "for index in columns_to_replace:\n",
    "    df[index]=df[index].fillna('unknown')\n",
    "    # перебор названий столбцов в цикле и замена пропущенных значений на 'unknown'"
   ]
  },
  {
   "cell_type": "markdown",
   "metadata": {
    "id": "Ilsm-MZo_Zct"
   },
   "source": [
    "Убедитесь, что в таблице не осталось пропусков. Для этого ещё раз посчитайте пропущенные значения."
   ]
  },
  {
   "cell_type": "code",
   "execution_count": 10,
   "metadata": {
    "id": "Tq4nYRX4_Zct"
   },
   "outputs": [
    {
     "data": {
      "text/plain": [
       "user_id    0\n",
       "track      0\n",
       "artist     0\n",
       "genre      0\n",
       "city       0\n",
       "time       0\n",
       "day        0\n",
       "dtype: int64"
      ]
     },
     "execution_count": 10,
     "metadata": {},
     "output_type": "execute_result"
    }
   ],
   "source": [
    "df.isna().sum()# подсчёт пропусков"
   ]
  },
  {
   "cell_type": "markdown",
   "metadata": {
    "id": "BWKRtBJ3_Zct"
   },
   "source": [
    "### Дубликаты\n",
    "Посчитайте явные дубликаты в таблице одной командой:"
   ]
  },
  {
   "cell_type": "code",
   "execution_count": 11,
   "metadata": {
    "id": "36eES_S0_Zct"
   },
   "outputs": [
    {
     "data": {
      "text/plain": [
       "3826"
      ]
     },
     "execution_count": 11,
     "metadata": {},
     "output_type": "execute_result"
    }
   ],
   "source": [
    "df.duplicated().sum()# подсчёт явных дубликатов"
   ]
  },
  {
   "cell_type": "markdown",
   "metadata": {
    "id": "Ot25h6XR_Zct"
   },
   "source": [
    "Вызовите специальный метод `pandas`, чтобы удалить явные дубликаты:"
   ]
  },
  {
   "cell_type": "code",
   "execution_count": 12,
   "metadata": {
    "id": "exFHq6tt_Zct"
   },
   "outputs": [],
   "source": [
    "df = df.drop_duplicates().reset_index(drop=True)# удаление явных дубликатов (с удалением старых индексов и формированием новых)"
   ]
  },
  {
   "cell_type": "markdown",
   "metadata": {
    "id": "Im2YwBEG_Zct"
   },
   "source": [
    "Ещё раз посчитайте явные дубликаты в таблице — убедитесь, что полностью от них избавились:"
   ]
  },
  {
   "cell_type": "code",
   "execution_count": 13,
   "metadata": {
    "id": "-8PuNWQ0_Zct"
   },
   "outputs": [
    {
     "data": {
      "text/plain": [
       "0"
      ]
     },
     "execution_count": 13,
     "metadata": {},
     "output_type": "execute_result"
    }
   ],
   "source": [
    "df.duplicated().sum()# проверка на отсутствие дубликатов"
   ]
  },
  {
   "cell_type": "markdown",
   "metadata": {
    "id": "QlFBsxAr_Zct"
   },
   "source": [
    "Теперь избавьтесь от неявных дубликатов в колонке `genre`. Например, название одного и того же жанра может быть записано немного по-разному. Такие ошибки тоже повлияют на результат исследования."
   ]
  },
  {
   "cell_type": "markdown",
   "metadata": {
    "id": "eSjWwsOh_Zct"
   },
   "source": [
    "Выведите на экран список уникальных названий жанров, отсортированный в алфавитном порядке. Для этого:\n",
    "* извлеките нужный столбец датафрейма, \n",
    "* примените к нему метод сортировки,\n",
    "* для отсортированного столбца вызовите метод, который вернёт уникальные значения из столбца."
   ]
  },
  {
   "cell_type": "code",
   "execution_count": 14,
   "metadata": {
    "id": "JIUcqzZN_Zct"
   },
   "outputs": [
    {
     "data": {
      "text/plain": [
       "array(['acid', 'acoustic', 'action', 'adult', 'africa', 'afrikaans',\n",
       "       'alternative', 'alternativepunk', 'ambient', 'americana',\n",
       "       'animated', 'anime', 'arabesk', 'arabic', 'arena',\n",
       "       'argentinetango', 'art', 'audiobook', 'author', 'avantgarde',\n",
       "       'axé', 'baile', 'balkan', 'beats', 'bigroom', 'black', 'bluegrass',\n",
       "       'blues', 'bollywood', 'bossa', 'brazilian', 'breakbeat', 'breaks',\n",
       "       'broadway', 'cantautori', 'cantopop', 'canzone', 'caribbean',\n",
       "       'caucasian', 'celtic', 'chamber', 'chanson', 'children', 'chill',\n",
       "       'chinese', 'choral', 'christian', 'christmas', 'classical',\n",
       "       'classicmetal', 'club', 'colombian', 'comedy', 'conjazz',\n",
       "       'contemporary', 'country', 'cuban', 'dance', 'dancehall',\n",
       "       'dancepop', 'dark', 'death', 'deep', 'deutschrock', 'deutschspr',\n",
       "       'dirty', 'disco', 'dnb', 'documentary', 'downbeat', 'downtempo',\n",
       "       'drum', 'dub', 'dubstep', 'eastern', 'easy', 'electronic',\n",
       "       'electropop', 'emo', 'entehno', 'epicmetal', 'estrada', 'ethnic',\n",
       "       'eurofolk', 'european', 'experimental', 'extrememetal', 'fado',\n",
       "       'fairytail', 'film', 'fitness', 'flamenco', 'folk', 'folklore',\n",
       "       'folkmetal', 'folkrock', 'folktronica', 'forró', 'frankreich',\n",
       "       'französisch', 'french', 'funk', 'future', 'gangsta', 'garage',\n",
       "       'german', 'ghazal', 'gitarre', 'glitch', 'gospel', 'gothic',\n",
       "       'grime', 'grunge', 'gypsy', 'handsup', \"hard'n'heavy\", 'hardcore',\n",
       "       'hardstyle', 'hardtechno', 'hip', 'hip-hop', 'hiphop',\n",
       "       'historisch', 'holiday', 'hop', 'horror', 'house', 'hymn', 'idm',\n",
       "       'independent', 'indian', 'indie', 'indipop', 'industrial',\n",
       "       'inspirational', 'instrumental', 'international', 'irish', 'jam',\n",
       "       'japanese', 'jazz', 'jewish', 'jpop', 'jungle', 'k-pop',\n",
       "       'karadeniz', 'karaoke', 'kayokyoku', 'korean', 'laiko', 'latin',\n",
       "       'latino', 'leftfield', 'local', 'lounge', 'loungeelectronic',\n",
       "       'lovers', 'malaysian', 'mandopop', 'marschmusik', 'meditative',\n",
       "       'mediterranean', 'melodic', 'metal', 'metalcore', 'mexican',\n",
       "       'middle', 'minimal', 'miscellaneous', 'modern', 'mood', 'mpb',\n",
       "       'muslim', 'native', 'neoklassik', 'neue', 'new', 'newage',\n",
       "       'newwave', 'nu', 'nujazz', 'numetal', 'oceania', 'old', 'opera',\n",
       "       'orchestral', 'other', 'piano', 'podcasts', 'pop', 'popdance',\n",
       "       'popelectronic', 'popeurodance', 'poprussian', 'post',\n",
       "       'posthardcore', 'postrock', 'power', 'progmetal', 'progressive',\n",
       "       'psychedelic', 'punjabi', 'punk', 'quebecois', 'ragga', 'ram',\n",
       "       'rancheras', 'rap', 'rave', 'reggae', 'reggaeton', 'regional',\n",
       "       'relax', 'religious', 'retro', 'rhythm', 'rnb', 'rnr', 'rock',\n",
       "       'rockabilly', 'rockalternative', 'rockindie', 'rockother',\n",
       "       'romance', 'roots', 'ruspop', 'rusrap', 'rusrock', 'russian',\n",
       "       'salsa', 'samba', 'scenic', 'schlager', 'self', 'sertanejo',\n",
       "       'shanson', 'shoegazing', 'showtunes', 'singer', 'ska', 'skarock',\n",
       "       'slow', 'smooth', 'soft', 'soul', 'soulful', 'sound', 'soundtrack',\n",
       "       'southern', 'specialty', 'speech', 'spiritual', 'sport',\n",
       "       'stonerrock', 'surf', 'swing', 'synthpop', 'synthrock',\n",
       "       'sängerportrait', 'tango', 'tanzorchester', 'taraftar', 'tatar',\n",
       "       'tech', 'techno', 'teen', 'thrash', 'top', 'traditional',\n",
       "       'tradjazz', 'trance', 'tribal', 'trip', 'triphop', 'tropical',\n",
       "       'türk', 'türkçe', 'ukrrock', 'unknown', 'urban', 'uzbek',\n",
       "       'variété', 'vi', 'videogame', 'vocal', 'western', 'world',\n",
       "       'worldbeat', 'ïîï', 'электроника'], dtype=object)"
      ]
     },
     "execution_count": 14,
     "metadata": {},
     "output_type": "execute_result"
    }
   ],
   "source": [
    "df['genre'].sort_values().unique()# Просмотр уникальных названий жанров"
   ]
  },
  {
   "cell_type": "markdown",
   "metadata": {
    "id": "qej-Qmuo_Zct"
   },
   "source": [
    "Просмотрите список и найдите неявные дубликаты названия `hiphop`. Это могут быть названия с ошибками или альтернативные названия того же жанра.\n",
    "\n",
    "Вы увидите следующие неявные дубликаты:\n",
    "* *hip*,\n",
    "* *hop*,\n",
    "* *hip-hop*.\n",
    "\n",
    "Чтобы очистить от них таблицу, напишите функцию `replace_wrong_genres()` с двумя параметрами: \n",
    "* `wrong_genres` — список дубликатов,\n",
    "* `correct_genre` — строка с правильным значением.\n",
    "\n",
    "Функция должна исправить колонку `genre` в таблице `df`: заменить каждое значение из списка `wrong_genres` на значение из `correct_genre`."
   ]
  },
  {
   "cell_type": "code",
   "execution_count": 15,
   "metadata": {
    "id": "ErNDkmns_Zct"
   },
   "outputs": [],
   "source": [
    "def replace_wrong_genres(wrong_genres, correct_genre):\n",
    "    for wrong_genre in wrong_genres:\n",
    "        df['genre'] = df['genre'].replace(wrong_genre, correct_genre)# Функция для замены неявных дубликатов"
   ]
  },
  {
   "cell_type": "markdown",
   "metadata": {
    "id": "aDoBJxbA_Zct"
   },
   "source": [
    "Вызовите `replace_wrong_genres()` и передайте ей такие аргументы, чтобы она устранила неявные дубликаты: вместо `hip`, `hop` и `hip-hop` в таблице должно быть значение `hiphop`:"
   ]
  },
  {
   "cell_type": "code",
   "execution_count": 16,
   "metadata": {
    "id": "YN5i2hpmSo09"
   },
   "outputs": [],
   "source": [
    "replace_wrong_genres(['hip', 'hop', 'hip-hop'], 'hiphop')\n",
    "replace_wrong_genres(['электроника'], 'electronic')# Устранение неявных дубликатов"
   ]
  },
  {
   "cell_type": "markdown",
   "metadata": {
    "id": "zQKF16_RG15m"
   },
   "source": [
    "Проверьте, что заменили неправильные названия:\n",
    "\n",
    "*   hip\n",
    "*   hop\n",
    "*   hip-hop\n",
    "\n",
    "Выведите отсортированный список уникальных значений столбца `genre`:"
   ]
  },
  {
   "cell_type": "code",
   "execution_count": 17,
   "metadata": {
    "id": "wvixALnFG15m"
   },
   "outputs": [
    {
     "data": {
      "text/plain": [
       "array(['acid', 'acoustic', 'action', 'adult', 'africa', 'afrikaans',\n",
       "       'alternative', 'alternativepunk', 'ambient', 'americana',\n",
       "       'animated', 'anime', 'arabesk', 'arabic', 'arena',\n",
       "       'argentinetango', 'art', 'audiobook', 'author', 'avantgarde',\n",
       "       'axé', 'baile', 'balkan', 'beats', 'bigroom', 'black', 'bluegrass',\n",
       "       'blues', 'bollywood', 'bossa', 'brazilian', 'breakbeat', 'breaks',\n",
       "       'broadway', 'cantautori', 'cantopop', 'canzone', 'caribbean',\n",
       "       'caucasian', 'celtic', 'chamber', 'chanson', 'children', 'chill',\n",
       "       'chinese', 'choral', 'christian', 'christmas', 'classical',\n",
       "       'classicmetal', 'club', 'colombian', 'comedy', 'conjazz',\n",
       "       'contemporary', 'country', 'cuban', 'dance', 'dancehall',\n",
       "       'dancepop', 'dark', 'death', 'deep', 'deutschrock', 'deutschspr',\n",
       "       'dirty', 'disco', 'dnb', 'documentary', 'downbeat', 'downtempo',\n",
       "       'drum', 'dub', 'dubstep', 'eastern', 'easy', 'electronic',\n",
       "       'electropop', 'emo', 'entehno', 'epicmetal', 'estrada', 'ethnic',\n",
       "       'eurofolk', 'european', 'experimental', 'extrememetal', 'fado',\n",
       "       'fairytail', 'film', 'fitness', 'flamenco', 'folk', 'folklore',\n",
       "       'folkmetal', 'folkrock', 'folktronica', 'forró', 'frankreich',\n",
       "       'französisch', 'french', 'funk', 'future', 'gangsta', 'garage',\n",
       "       'german', 'ghazal', 'gitarre', 'glitch', 'gospel', 'gothic',\n",
       "       'grime', 'grunge', 'gypsy', 'handsup', \"hard'n'heavy\", 'hardcore',\n",
       "       'hardstyle', 'hardtechno', 'hiphop', 'historisch', 'holiday',\n",
       "       'horror', 'house', 'hymn', 'idm', 'independent', 'indian', 'indie',\n",
       "       'indipop', 'industrial', 'inspirational', 'instrumental',\n",
       "       'international', 'irish', 'jam', 'japanese', 'jazz', 'jewish',\n",
       "       'jpop', 'jungle', 'k-pop', 'karadeniz', 'karaoke', 'kayokyoku',\n",
       "       'korean', 'laiko', 'latin', 'latino', 'leftfield', 'local',\n",
       "       'lounge', 'loungeelectronic', 'lovers', 'malaysian', 'mandopop',\n",
       "       'marschmusik', 'meditative', 'mediterranean', 'melodic', 'metal',\n",
       "       'metalcore', 'mexican', 'middle', 'minimal', 'miscellaneous',\n",
       "       'modern', 'mood', 'mpb', 'muslim', 'native', 'neoklassik', 'neue',\n",
       "       'new', 'newage', 'newwave', 'nu', 'nujazz', 'numetal', 'oceania',\n",
       "       'old', 'opera', 'orchestral', 'other', 'piano', 'podcasts', 'pop',\n",
       "       'popdance', 'popelectronic', 'popeurodance', 'poprussian', 'post',\n",
       "       'posthardcore', 'postrock', 'power', 'progmetal', 'progressive',\n",
       "       'psychedelic', 'punjabi', 'punk', 'quebecois', 'ragga', 'ram',\n",
       "       'rancheras', 'rap', 'rave', 'reggae', 'reggaeton', 'regional',\n",
       "       'relax', 'religious', 'retro', 'rhythm', 'rnb', 'rnr', 'rock',\n",
       "       'rockabilly', 'rockalternative', 'rockindie', 'rockother',\n",
       "       'romance', 'roots', 'ruspop', 'rusrap', 'rusrock', 'russian',\n",
       "       'salsa', 'samba', 'scenic', 'schlager', 'self', 'sertanejo',\n",
       "       'shanson', 'shoegazing', 'showtunes', 'singer', 'ska', 'skarock',\n",
       "       'slow', 'smooth', 'soft', 'soul', 'soulful', 'sound', 'soundtrack',\n",
       "       'southern', 'specialty', 'speech', 'spiritual', 'sport',\n",
       "       'stonerrock', 'surf', 'swing', 'synthpop', 'synthrock',\n",
       "       'sängerportrait', 'tango', 'tanzorchester', 'taraftar', 'tatar',\n",
       "       'tech', 'techno', 'teen', 'thrash', 'top', 'traditional',\n",
       "       'tradjazz', 'trance', 'tribal', 'trip', 'triphop', 'tropical',\n",
       "       'türk', 'türkçe', 'ukrrock', 'unknown', 'urban', 'uzbek',\n",
       "       'variété', 'vi', 'videogame', 'vocal', 'western', 'world',\n",
       "       'worldbeat', 'ïîï'], dtype=object)"
      ]
     },
     "execution_count": 17,
     "metadata": {},
     "output_type": "execute_result"
    }
   ],
   "source": [
    "df['genre'].sort_values().unique()# Проверка на неявные дубликаты"
   ]
  },
  {
   "cell_type": "markdown",
   "metadata": {},
   "source": [
    "<div class=\"alert alert-danger\">\n",
    "<b>❌ Комментарий ревьюера:</b> \n",
    "<br>Здесь тоже нужен метод .sort_values()\n",
    "</div>"
   ]
  },
  {
   "cell_type": "markdown",
   "metadata": {},
   "source": [
    "<div class=\"alert alert-success\">\n",
    "<b>✔️ Комментарий ревьюера v2:</b>\n",
    "<br>👍\n",
    "</div>"
   ]
  },
  {
   "cell_type": "markdown",
   "metadata": {
    "id": "jz6a9-7HQUDd"
   },
   "source": [
    "**Выводы**\n",
    "\n",
    "Предобработка обнаружила три проблемы в данных:\n",
    "\n",
    "- нарушения в стиле заголовков,\n",
    "- пропущенные значения,\n",
    "- дубликаты — явные и неявные.\n",
    "\n",
    "Вы исправили заголовки, чтобы упростить работу с таблицей. Без дубликатов исследование станет более точным.\n",
    "\n",
    "Пропущенные значения вы заменили на `'unknown'`. Ещё предстоит увидеть, не повредят ли исследованию пропуски в колонке `genre`.\n",
    "\n",
    "Теперь можно перейти к проверке гипотез. "
   ]
  },
  {
   "cell_type": "markdown",
   "metadata": {
    "id": "WttZHXH0SqKk"
   },
   "source": [
    "## Проверка гипотез"
   ]
  },
  {
   "cell_type": "markdown",
   "metadata": {
    "id": "Im936VVi_Zcu"
   },
   "source": [
    "### Сравнение поведения пользователей двух столиц"
   ]
  },
  {
   "cell_type": "markdown",
   "metadata": {
    "id": "nwt_MuaL_Zcu"
   },
   "source": [
    "Первая гипотеза утверждает, что пользователи по-разному слушают музыку в Москве и Санкт-Петербурге. Проверьте это предположение по данным о трёх днях недели — понедельнике, среде и пятнице. Для этого:\n",
    "\n",
    "* Разделите пользователей Москвы и Санкт-Петербурга\n",
    "* Сравните, сколько треков послушала каждая группа пользователей в понедельник, среду и пятницу.\n"
   ]
  },
  {
   "cell_type": "markdown",
   "metadata": {
    "id": "8Dw_YMmT_Zcu"
   },
   "source": [
    "Для тренировки сначала выполните каждый из расчётов по отдельности. \n",
    "\n",
    "Оцените активность пользователей в каждом городе. Сгруппируйте данные по городу и посчитайте прослушивания в каждой группе.\n",
    "\n"
   ]
  },
  {
   "cell_type": "code",
   "execution_count": 18,
   "metadata": {
    "id": "0_Qs96oh_Zcu"
   },
   "outputs": [
    {
     "data": {
      "text/plain": [
       "city\n",
       "Moscow              42741\n",
       "Saint-Petersburg    18512\n",
       "Name: genre, dtype: int64"
      ]
     },
     "execution_count": 18,
     "metadata": {},
     "output_type": "execute_result"
    }
   ],
   "source": [
    "df.groupby('city')['genre'].count()# Подсчёт прослушиваний в каждом городе"
   ]
  },
  {
   "cell_type": "markdown",
   "metadata": {
    "id": "dzli3w8o_Zcu"
   },
   "source": [
    "В Москве прослушиваний больше, чем в Петербурге. Из этого не следует, что московские пользователи чаще слушают музыку. Просто самих пользователей в Москве больше.\n",
    "\n",
    "Теперь сгруппируйте данные по дню недели и подсчитайте прослушивания в понедельник, среду и пятницу. Учтите, что в данных есть информация только о прослушиваниях только за эти дни.\n"
   ]
  },
  {
   "cell_type": "code",
   "execution_count": 19,
   "metadata": {
    "id": "uZMKjiJz_Zcu"
   },
   "outputs": [
    {
     "name": "stdout",
     "output_type": "stream",
     "text": [
      "количество прослушиваний в понедельние: user_id    21354\n",
      "track      21354\n",
      "artist     21354\n",
      "genre      21354\n",
      "city       21354\n",
      "time       21354\n",
      "day        21354\n",
      "dtype: int64 количество прослушиваний в среду user_id    18059\n",
      "track      18059\n",
      "artist     18059\n",
      "genre      18059\n",
      "city       18059\n",
      "time       18059\n",
      "day        18059\n",
      "dtype: int64 количество прослушиваний в пятницу user_id    21840\n",
      "track      21840\n",
      "artist     21840\n",
      "genre      21840\n",
      "city       21840\n",
      "time       21840\n",
      "day        21840\n",
      "dtype: int64\n"
     ]
    }
   ],
   "source": [
    "monday_users = df[(df['day']=='Monday')]\n",
    "wednesday_users = df[(df['day']=='Wednesday')]\n",
    "friday_users = df[(df['day']=='Friday')]\n",
    "print('количество прослушиваний в понедельние:', monday_users.count(), \"количество прослушиваний в среду\", wednesday_users.count(), \"количество прослушиваний в пятницу\", friday_users.count())\n",
    "# Подсчёт прослушиваний в каждый из трёх дней"
   ]
  },
  {
   "cell_type": "markdown",
   "metadata": {
    "id": "cC2tNrlL_Zcu"
   },
   "source": [
    "В среднем пользователи из двух городов менее активны по средам. Но картина может измениться, если рассмотреть каждый город в отдельности."
   ]
  },
  {
   "cell_type": "markdown",
   "metadata": {
    "id": "POzs8bGa_Zcu"
   },
   "source": [
    "Вы видели, как работает группировка по городу и по дням недели. Теперь напишите функцию, которая объединит два эти расчёта.\n",
    "\n",
    "Создайте функцию `number_tracks()`, которая посчитает прослушивания для заданного дня и города. Ей понадобятся два параметра:\n",
    "* день недели,\n",
    "* название города.\n",
    "\n",
    "В функции сохраните в переменную строки исходной таблицы, у которых значение:\n",
    "  * в колонке `day` равно параметру `day`,\n",
    "  * в колонке `city` равно параметру `city`.\n",
    "\n",
    "Для этого примените последовательную фильтрацию с логической индексацией.\n",
    "\n",
    "Затем посчитайте значения в столбце `user_id` получившейся таблицы. Результат сохраните в новую переменную. Верните эту переменную из функции."
   ]
  },
  {
   "cell_type": "code",
   "execution_count": 20,
   "metadata": {
    "id": "Nz3GdQB1_Zcu"
   },
   "outputs": [],
   "source": [
    "def number_tracks(day, city):# <создание функции number_tracks()># Объявляется функция с двумя параметрами: day, city.\n",
    "    track_list = df[(df['day']==day) & (df['city']==city)]# В переменной track_list сохраняются те строки таблицы df, для которых \n",
    "\n",
    "# значение в столбце 'day' равно параметру day и одновременно значение\n",
    "# в столбце 'city' равно параметру city (используйте последовательную фильтрацию\n",
    "# с помощью логической индексации).\n",
    "# В переменной track_list_count сохраняется число значений столбца 'user_id',\n",
    "    track_list_count = track_list['user_id'].count()# рассчитанное методом count() для таблицы track_list.\n",
    "    return track_list_count# Функция возвращает число - значение track_list_count.\n",
    "\n",
    "\n",
    "# Функция для подсчёта прослушиваний для конкретного города и дня.\n",
    "# С помощью последовательной фильтрации с логической индексацией она \n",
    "# сначала получит из исходной таблицы строки с нужным днём,\n",
    "# затем из результата отфильтрует строки с нужным городом,\n",
    "# методом count() посчитает количество значений в колонке user_id. \n",
    "# Это количество функция вернёт в качестве результата"
   ]
  },
  {
   "cell_type": "markdown",
   "metadata": {
    "id": "ytf7xFrFJQ2r"
   },
   "source": [
    "Вызовите `number_tracks()` шесть раз, меняя значение параметров — так, чтобы получить данные для каждого города в каждый из трёх дней."
   ]
  },
  {
   "cell_type": "code",
   "execution_count": 21,
   "metadata": {
    "id": "rJcRATNQ_Zcu"
   },
   "outputs": [
    {
     "data": {
      "text/plain": [
       "15740"
      ]
     },
     "execution_count": 21,
     "metadata": {},
     "output_type": "execute_result"
    }
   ],
   "source": [
    "number_tracks('Monday', 'Moscow')# количество прослушиваний в Москве по понедельникам"
   ]
  },
  {
   "cell_type": "code",
   "execution_count": 22,
   "metadata": {
    "id": "hq_ncZ5T_Zcu"
   },
   "outputs": [
    {
     "data": {
      "text/plain": [
       "5614"
      ]
     },
     "execution_count": 22,
     "metadata": {},
     "output_type": "execute_result"
    }
   ],
   "source": [
    "number_tracks('Monday', 'Saint-Petersburg')# количество прослушиваний в Санкт-Петербурге по понедельникам"
   ]
  },
  {
   "cell_type": "code",
   "execution_count": 23,
   "metadata": {
    "id": "_NTy2VPU_Zcu"
   },
   "outputs": [
    {
     "data": {
      "text/plain": [
       "11056"
      ]
     },
     "execution_count": 23,
     "metadata": {},
     "output_type": "execute_result"
    }
   ],
   "source": [
    "number_tracks('Wednesday', 'Moscow')# количество прослушиваний в Москве по средам"
   ]
  },
  {
   "cell_type": "code",
   "execution_count": 24,
   "metadata": {
    "id": "j2y3TAwo_Zcu"
   },
   "outputs": [
    {
     "data": {
      "text/plain": [
       "7003"
      ]
     },
     "execution_count": 24,
     "metadata": {},
     "output_type": "execute_result"
    }
   ],
   "source": [
    "number_tracks('Wednesday', 'Saint-Petersburg')# количество прослушиваний в Санкт-Петербурге по средам"
   ]
  },
  {
   "cell_type": "code",
   "execution_count": 25,
   "metadata": {
    "id": "vYDw5u_K_Zcu"
   },
   "outputs": [
    {
     "data": {
      "text/plain": [
       "15945"
      ]
     },
     "execution_count": 25,
     "metadata": {},
     "output_type": "execute_result"
    }
   ],
   "source": [
    "number_tracks('Friday', 'Moscow')# количество прослушиваний в Москве по пятницам"
   ]
  },
  {
   "cell_type": "code",
   "execution_count": 26,
   "metadata": {
    "id": "8_yzFtW3_Zcu"
   },
   "outputs": [
    {
     "data": {
      "text/plain": [
       "5895"
      ]
     },
     "execution_count": 26,
     "metadata": {},
     "output_type": "execute_result"
    }
   ],
   "source": [
    "number_tracks('Friday', 'Saint-Petersburg')# количество прослушиваний в Санкт-Петербурге по пятницам"
   ]
  },
  {
   "cell_type": "markdown",
   "metadata": {
    "id": "7QXffbO-_Zcu"
   },
   "source": [
    "Создайте c помощью конструктора `pd.DataFrame` таблицу, где\n",
    "* названия колонок — `['city', 'monday', 'wednesday', 'friday']`;\n",
    "* данные — результаты, которые вы получили с помощью `number_tracks`."
   ]
  },
  {
   "cell_type": "code",
   "execution_count": 27,
   "metadata": {
    "id": "APAcLpOr_Zcu"
   },
   "outputs": [
    {
     "data": {
      "text/html": [
       "<div>\n",
       "<style scoped>\n",
       "    .dataframe tbody tr th:only-of-type {\n",
       "        vertical-align: middle;\n",
       "    }\n",
       "\n",
       "    .dataframe tbody tr th {\n",
       "        vertical-align: top;\n",
       "    }\n",
       "\n",
       "    .dataframe thead th {\n",
       "        text-align: right;\n",
       "    }\n",
       "</style>\n",
       "<table border=\"1\" class=\"dataframe\">\n",
       "  <thead>\n",
       "    <tr style=\"text-align: right;\">\n",
       "      <th></th>\n",
       "      <th>city</th>\n",
       "      <th>monday</th>\n",
       "      <th>wednesday</th>\n",
       "      <th>friday</th>\n",
       "    </tr>\n",
       "  </thead>\n",
       "  <tbody>\n",
       "    <tr>\n",
       "      <td>0</td>\n",
       "      <td>Moscow</td>\n",
       "      <td>15740</td>\n",
       "      <td>11056</td>\n",
       "      <td>15945</td>\n",
       "    </tr>\n",
       "    <tr>\n",
       "      <td>1</td>\n",
       "      <td>Saint-Petersburg</td>\n",
       "      <td>5614</td>\n",
       "      <td>7003</td>\n",
       "      <td>5895</td>\n",
       "    </tr>\n",
       "  </tbody>\n",
       "</table>\n",
       "</div>"
      ],
      "text/plain": [
       "               city  monday  wednesday  friday\n",
       "0            Moscow   15740      11056   15945\n",
       "1  Saint-Petersburg    5614       7003    5895"
      ]
     },
     "execution_count": 27,
     "metadata": {},
     "output_type": "execute_result"
    }
   ],
   "source": [
    "data = [['Moscow', 15740, 11056, 15945],\n",
    "       ['Saint-Petersburg', 5614, 7003, 5895]]\n",
    "columns = ['city','monday','wednesday','friday']\n",
    "table = pd.DataFrame(data = data, columns = columns)\n",
    "table# Таблица с результатами"
   ]
  },
  {
   "cell_type": "markdown",
   "metadata": {
    "id": "-EgPIHYu_Zcu"
   },
   "source": [
    "**Выводы**\n",
    "\n",
    "Данные показывают разницу поведения пользователей:\n",
    "\n",
    "- В Москве пик прослушиваний приходится на понедельник и пятницу, а в среду заметен спад.\n",
    "- В Петербурге, наоборот, больше слушают музыку по средам. Активность в понедельник и пятницу здесь почти в равной мере уступает среде.\n",
    "\n",
    "Значит, данные говорят в пользу первой гипотезы."
   ]
  },
  {
   "cell_type": "markdown",
   "metadata": {
    "id": "atZAxtq4_Zcu"
   },
   "source": [
    "### Музыка в начале и в конце недели"
   ]
  },
  {
   "cell_type": "markdown",
   "metadata": {
    "id": "eXrQqXFH_Zcu"
   },
   "source": [
    "Согласно второй гипотезе, утром в понедельник в Москве преобладают одни жанры, а в Петербурге — другие. Так же и вечером пятницы преобладают разные жанры — в зависимости от города."
   ]
  },
  {
   "cell_type": "markdown",
   "metadata": {
    "id": "S8UcW6Hw_Zcu"
   },
   "source": [
    "Сохраните таблицы с данными в две переменные:\n",
    "* по Москве — в `moscow_general`;\n",
    "* по Санкт-Петербургу — в `spb_general`."
   ]
  },
  {
   "cell_type": "code",
   "execution_count": 28,
   "metadata": {
    "id": "qeaFfM_P_Zcu"
   },
   "outputs": [],
   "source": [
    "moscow_general=df[df['city'] == 'Moscow'] # получение таблицы moscow_general из тех строк таблицы df, \n",
    "# для которых значение в столбце 'city' равно 'Moscow'\n"
   ]
  },
  {
   "cell_type": "code",
   "execution_count": 29,
   "metadata": {
    "id": "ORaVRKto_Zcu"
   },
   "outputs": [],
   "source": [
    "spb_general=df[df['city'] == 'Saint-Petersburg'] # получение таблицы spb_general из тех строк таблицы df,\n",
    "# для которых значение в столбце 'city' равно 'Saint-Petersburg'\n"
   ]
  },
  {
   "cell_type": "markdown",
   "metadata": {
    "id": "MEJV-CX2_Zcu"
   },
   "source": [
    "Создайте функцию `genre_weekday()` с четырьмя параметрами:\n",
    "* таблица (датафрейм) с данными,\n",
    "* день недели,\n",
    "* начальная временная метка в формате 'hh:mm', \n",
    "* последняя временная метка в формате 'hh:mm'.\n",
    "\n",
    "Функция должна вернуть информацию о топ-10 жанров тех треков, которые прослушивали в указанный день, в промежутке между двумя отметками времени."
   ]
  },
  {
   "cell_type": "code",
   "execution_count": 30,
   "metadata": {
    "id": "laJT9BYl_Zcu"
   },
   "outputs": [],
   "source": [
    "def genre_weekday(table, day, time1, time2):# Объявление функции genre_weekday() с параметрами table, day, time1, time2,\n",
    "# которая возвращает информацию о самых популярных жанрах в указанный день в\n",
    "# заданное время:\n",
    "# 1) в переменную genre_df сохраняются те строки переданного датафрейма table, для\n",
    "#    которых одновременно:\n",
    "#    - значение в столбце day равно значению аргумента day\n",
    "#    - значение в столбце time больше значения аргумента time1\n",
    "#    - значение в столбце time меньше значения аргумента time2\n",
    "#    Используйте последовательную фильтрацию с помощью логической индексации.\n",
    "    genre_list=table[(table['day']==day) & (table['time']>time1) & (table['time']<=time2)]\n",
    "# 2) сгруппировать датафрейм genre_df по столбцу genre, взять один из его\n",
    "#    столбцов и посчитать методом count() количество записей для каждого из\n",
    "#    присутствующих жанров, получившийся Series записать в переменную\n",
    "#    genre_df_count\n",
    "    genre_df_count = genre_list.groupby('genre')['genre'].count()\n",
    "# 3) отсортировать genre_df_count по убыванию встречаемости и сохранить\n",
    "#    в переменную genre_df_sorted\n",
    "    genre_df_sorted = genre_df_count.sort_values(ascending = False)\n",
    "# 4) вернуть Series из 10 первых значений genre_df_sorted, это будут топ-10\n",
    "#    популярных жанров (в указанный день, в заданное время)\n",
    "    return genre_df_sorted.head(10)"
   ]
  },
  {
   "cell_type": "markdown",
   "metadata": {
    "id": "la2s2_PF_Zcu"
   },
   "source": [
    "Cравните результаты функции `genre_weekday()` для Москвы и Санкт-Петербурга в понедельник утром (с 7:00 до 11:00) и в пятницу вечером (с 17:00 до 23:00):"
   ]
  },
  {
   "cell_type": "code",
   "execution_count": 31,
   "metadata": {
    "id": "yz7itPUQ_Zcu"
   },
   "outputs": [
    {
     "data": {
      "text/plain": [
       "genre\n",
       "pop            781\n",
       "dance          549\n",
       "electronic     480\n",
       "rock           474\n",
       "hiphop         286\n",
       "ruspop         186\n",
       "world          181\n",
       "rusrap         175\n",
       "alternative    164\n",
       "unknown        161\n",
       "Name: genre, dtype: int64"
      ]
     },
     "execution_count": 31,
     "metadata": {},
     "output_type": "execute_result"
    }
   ],
   "source": [
    "genre_weekday(moscow_general, 'Monday', '07:00:00', '11:00:00')# вызов функции для утра понедельника в Москве (вместо df — таблица moscow_general)\n",
    "# объекты, хранящие время, являются строками и сравниваются как строки\n",
    "# пример вызова: genre_weekday(moscow_general, 'Monday', '07:00', '11:00')"
   ]
  },
  {
   "cell_type": "code",
   "execution_count": 32,
   "metadata": {
    "id": "kwUcHPdy_Zcu",
    "scrolled": true
   },
   "outputs": [
    {
     "data": {
      "text/plain": [
       "genre\n",
       "pop            218\n",
       "dance          182\n",
       "rock           162\n",
       "electronic     147\n",
       "hiphop          80\n",
       "ruspop          64\n",
       "alternative     58\n",
       "rusrap          55\n",
       "jazz            44\n",
       "classical       40\n",
       "Name: genre, dtype: int64"
      ]
     },
     "execution_count": 32,
     "metadata": {},
     "output_type": "execute_result"
    }
   ],
   "source": [
    "genre_weekday(spb_general, 'Monday', '07:00:00', '11:00:00')# вызов функции для утра понедельника в Петербурге (вместо df — таблица spb_general)"
   ]
  },
  {
   "cell_type": "code",
   "execution_count": 33,
   "metadata": {
    "id": "EzXVRE1o_Zcu"
   },
   "outputs": [
    {
     "data": {
      "text/plain": [
       "genre\n",
       "pop            713\n",
       "rock           517\n",
       "dance          495\n",
       "electronic     482\n",
       "hiphop         273\n",
       "world          208\n",
       "ruspop         170\n",
       "alternative    163\n",
       "classical      163\n",
       "rusrap         142\n",
       "Name: genre, dtype: int64"
      ]
     },
     "execution_count": 33,
     "metadata": {},
     "output_type": "execute_result"
    }
   ],
   "source": [
    "genre_weekday(moscow_general, 'Friday', '17:00:00', '23:00:00')# вызов функции для вечера пятницы в Москве"
   ]
  },
  {
   "cell_type": "code",
   "execution_count": 34,
   "metadata": {
    "id": "JZaEKu5v_Zcu"
   },
   "outputs": [
    {
     "data": {
      "text/plain": [
       "genre\n",
       "pop            256\n",
       "rock           216\n",
       "electronic     216\n",
       "dance          210\n",
       "hiphop          97\n",
       "alternative     63\n",
       "jazz            61\n",
       "classical       60\n",
       "rusrap          59\n",
       "world           54\n",
       "Name: genre, dtype: int64"
      ]
     },
     "execution_count": 34,
     "metadata": {},
     "output_type": "execute_result"
    }
   ],
   "source": [
    "genre_weekday(spb_general, 'Friday', '17:00:00', '23:00:00')# вызов функции для вечера пятницы в Петербурге"
   ]
  },
  {
   "cell_type": "markdown",
   "metadata": {
    "id": "wrCe4MNX_Zcu"
   },
   "source": [
    "**Выводы**\n",
    "\n",
    "Если сравнить топ-10 жанров в понедельник утром, можно сделать такие выводы:\n",
    "\n",
    "1. В Москве и Петербурге слушают похожую музыку. Единственное отличие — в московский рейтинг вошёл жанр “world”, а в петербургский — джаз и классика.\n",
    "\n",
    "2. В Москве пропущенных значений оказалось так много, что значение `'unknown'` заняло десятое место среди самых популярных жанров. Значит, пропущенные значения занимают существенную долю в данных и угрожают достоверности исследования.\n",
    "\n",
    "Вечер пятницы не меняет эту картину. Некоторые жанры поднимаются немного выше, другие спускаются, но в целом топ-10 остаётся тем же самым.\n",
    "\n",
    "Таким образом, вторая гипотеза подтвердилась лишь частично:\n",
    "* Пользователи слушают похожую музыку в начале недели и в конце.\n",
    "* Разница между Москвой и Петербургом не слишком выражена. В Москве чаще слушают русскую популярную музыку, в Петербурге — джаз.\n",
    "\n",
    "Однако пропуски в данных ставят под сомнение этот результат. В Москве их так много, что рейтинг топ-10 мог бы выглядеть иначе, если бы не утерянные  данные о жанрах."
   ]
  },
  {
   "cell_type": "markdown",
   "metadata": {
    "id": "JolODAqr_Zcu"
   },
   "source": [
    "### Жанровые предпочтения в Москве и Петербурге\n",
    "\n",
    "Гипотеза: Петербург — столица рэпа, музыку этого жанра там слушают чаще, чем в Москве.  А Москва — город контрастов, в котором, тем не менее, преобладает поп-музыка."
   ]
  },
  {
   "cell_type": "markdown",
   "metadata": {
    "id": "DlegSvaT_Zcu"
   },
   "source": [
    "Сгруппируйте таблицу `moscow_general` по жанру и посчитайте прослушивания треков каждого жанра методом `count()`. Затем отсортируйте результат в порядке убывания и сохраните его в таблице `moscow_genres`."
   ]
  },
  {
   "cell_type": "code",
   "execution_count": 35,
   "metadata": {
    "id": "r19lIPke_Zcu"
   },
   "outputs": [],
   "source": [
    "# одной строкой: группировка таблицы moscow_general по столбцу 'genre', \n",
    "# подсчёт числа значений 'genre' в этой группировке методом count(), \n",
    "# сортировка получившегося Series в порядке убывания и сохранение в moscow_genres\n",
    "moscow_genres=moscow_general.groupby('genre')['genre'].count().sort_values(ascending = False)"
   ]
  },
  {
   "cell_type": "markdown",
   "metadata": {
    "id": "6kMuomxTiIr8"
   },
   "source": [
    "Выведите на экран первые десять строк `moscow_genres`:"
   ]
  },
  {
   "cell_type": "code",
   "execution_count": 36,
   "metadata": {
    "id": "WhCSooF8_Zcv"
   },
   "outputs": [
    {
     "data": {
      "text/plain": [
       "genre\n",
       "pop            5892\n",
       "dance          4435\n",
       "rock           3965\n",
       "electronic     3786\n",
       "hiphop         2096\n",
       "classical      1616\n",
       "world          1432\n",
       "alternative    1379\n",
       "ruspop         1372\n",
       "rusrap         1161\n",
       "Name: genre, dtype: int64"
      ]
     },
     "execution_count": 36,
     "metadata": {},
     "output_type": "execute_result"
    }
   ],
   "source": [
    "moscow_genres.head(10)# просмотр первых 10 строк moscow_genres"
   ]
  },
  {
   "cell_type": "markdown",
   "metadata": {
    "id": "cnPG2vnN_Zcv"
   },
   "source": [
    "Теперь повторите то же и для Петербурга.\n",
    "\n",
    "Сгруппируйте таблицу `spb_general` по жанру. Посчитайте прослушивания треков каждого жанра. Результат отсортируйте в порядке убывания и сохраните в таблице `spb_genres`:\n"
   ]
  },
  {
   "cell_type": "code",
   "execution_count": 37,
   "metadata": {
    "id": "gluLIpE7_Zcv"
   },
   "outputs": [],
   "source": [
    "# одной строкой: группировка таблицы spb_general по столбцу 'genre', \n",
    "# подсчёт числа значений 'genre' в этой группировке методом count(), \n",
    "# сортировка получившегося Series в порядке убывания и сохранение в spb_genres\n",
    "spb_genres=spb_general.groupby('genre')['genre'].count().sort_values(ascending = False)"
   ]
  },
  {
   "cell_type": "markdown",
   "metadata": {
    "id": "5Doha_ODgyQ8"
   },
   "source": [
    "Выведите на экран первые десять строк `spb_genres`:"
   ]
  },
  {
   "cell_type": "code",
   "execution_count": 38,
   "metadata": {
    "id": "uaGJHjVU_Zcv"
   },
   "outputs": [
    {
     "data": {
      "text/plain": [
       "genre\n",
       "pop            2431\n",
       "dance          1932\n",
       "rock           1879\n",
       "electronic     1737\n",
       "hiphop          960\n",
       "alternative     649\n",
       "classical       646\n",
       "rusrap          564\n",
       "ruspop          538\n",
       "world           515\n",
       "Name: genre, dtype: int64"
      ]
     },
     "execution_count": 38,
     "metadata": {},
     "output_type": "execute_result"
    }
   ],
   "source": [
    "spb_genres.head(10)# просмотр первых 10 строк spb_genres"
   ]
  },
  {
   "cell_type": "markdown",
   "metadata": {
    "id": "RY51YJYu_Zcv"
   },
   "source": [
    "**Выводы**"
   ]
  },
  {
   "cell_type": "markdown",
   "metadata": {
    "id": "nVhnJEm__Zcv"
   },
   "source": [
    "Гипотеза частично подтвердилась:\n",
    "* Поп-музыка — самый популярный жанр в Москве, как и предполагала гипотеза. Более того, в топ-10 жанров встречается близкий жанр — русская популярная музыка.\n",
    "* Вопреки ожиданиям, рэп одинаково популярен в Москве и Петербурге. \n"
   ]
  },
  {
   "cell_type": "markdown",
   "metadata": {
    "id": "ykKQ0N65_Zcv"
   },
   "source": [
    "## Итоги исследования"
   ]
  },
  {
   "cell_type": "markdown",
   "metadata": {
    "id": "tjUwbHb3_Zcv"
   },
   "source": [
    "Вы проверили три гипотезы и установили:\n",
    "\n",
    "1. День недели по-разному влияет на активность пользователей в Москве и Петербурге. \n",
    "\n",
    "Первая гипотеза полностью подтвердилась.\n",
    "\n",
    "2. Музыкальные предпочтения не сильно меняются в течение недели — будь то Москва или Петербург. Небольшие различия заметны в начале недели, по понедельникам:\n",
    "* в Москве слушают музыку жанра “world”,\n",
    "* в Петербурге — джаз и классику.\n",
    "\n",
    "Таким образом, вторая гипотеза подтвердилась лишь отчасти. Этот результат мог оказаться иным, если бы не пропуски в данных.\n",
    "\n",
    "3. Во вкусах пользователей Москвы и Петербурга больше общего чем различий. Вопреки ожиданиям, предпочтения жанров в Петербурге напоминают московские.\n",
    "\n",
    "Третья гипотеза не подтвердилась. Если различия в предпочтениях и существуют, на основной массе пользователей они незаметны.\n",
    "\n",
    "**На практике исследования содержат проверки статистических гипотез.**\n",
    "Из данных одного сервиса не всегда можно сделать вывод о всех жителях города.\n",
    "Проверки статистических гипотез покажут, насколько они достоверны, исходя из имеющихся данных. \n",
    "С методами проверок гипотез вы ещё познакомитесь в следующих темах."
   ]
  }
 ],
 "metadata": {
  "ExecuteTimeLog": [
   {
    "duration": 367,
    "start_time": "2021-12-06T08:49:25.862Z"
   },
   {
    "duration": 326,
    "start_time": "2021-12-06T08:49:39.062Z"
   },
   {
    "duration": 790,
    "start_time": "2021-12-06T08:49:55.625Z"
   },
   {
    "duration": 195,
    "start_time": "2021-12-06T08:50:01.372Z"
   },
   {
    "duration": 329,
    "start_time": "2021-12-06T08:50:04.852Z"
   },
   {
    "duration": 11,
    "start_time": "2021-12-06T08:50:16.104Z"
   },
   {
    "duration": 33,
    "start_time": "2021-12-06T08:50:24.753Z"
   },
   {
    "duration": 4,
    "start_time": "2021-12-06T08:57:28.899Z"
   },
   {
    "duration": 31,
    "start_time": "2021-12-06T09:00:00.800Z"
   },
   {
    "duration": 4,
    "start_time": "2021-12-06T09:00:23.152Z"
   },
   {
    "duration": 32,
    "start_time": "2021-12-06T09:03:10.770Z"
   },
   {
    "duration": 29,
    "start_time": "2021-12-06T09:06:25.033Z"
   },
   {
    "duration": 100,
    "start_time": "2021-12-06T09:06:39.083Z"
   },
   {
    "duration": 29,
    "start_time": "2021-12-06T09:07:03.526Z"
   },
   {
    "duration": 91,
    "start_time": "2021-12-06T09:10:42.613Z"
   },
   {
    "duration": 94,
    "start_time": "2021-12-06T09:11:38.881Z"
   },
   {
    "duration": 77,
    "start_time": "2021-12-06T09:11:53.125Z"
   },
   {
    "duration": 130,
    "start_time": "2021-12-06T09:13:02.365Z"
   },
   {
    "duration": 93,
    "start_time": "2021-12-06T09:13:23.794Z"
   },
   {
    "duration": 76,
    "start_time": "2021-12-06T09:13:29.526Z"
   },
   {
    "duration": 10,
    "start_time": "2021-12-06T09:15:17.081Z"
   },
   {
    "duration": 7,
    "start_time": "2021-12-06T09:22:02.946Z"
   },
   {
    "duration": 278,
    "start_time": "2021-12-06T09:24:16.943Z"
   },
   {
    "duration": 715,
    "start_time": "2021-12-06T09:24:31.360Z"
   },
   {
    "duration": 554,
    "start_time": "2021-12-06T09:27:32.238Z"
   },
   {
    "duration": 5,
    "start_time": "2021-12-06T09:35:34.130Z"
   },
   {
    "duration": 575,
    "start_time": "2021-12-06T09:39:16.539Z"
   },
   {
    "duration": 18,
    "start_time": "2021-12-06T09:40:03.608Z"
   },
   {
    "duration": 9,
    "start_time": "2021-12-06T09:40:54.709Z"
   },
   {
    "duration": 454,
    "start_time": "2021-12-07T08:13:12.312Z"
   },
   {
    "duration": 2,
    "start_time": "2021-12-07T08:15:34.272Z"
   },
   {
    "duration": 3,
    "start_time": "2021-12-07T08:15:37.537Z"
   },
   {
    "duration": 137,
    "start_time": "2021-12-07T08:15:41.499Z"
   },
   {
    "duration": 7,
    "start_time": "2021-12-07T08:15:44.424Z"
   },
   {
    "duration": 23,
    "start_time": "2021-12-07T08:15:47.355Z"
   },
   {
    "duration": 4,
    "start_time": "2021-12-07T08:15:51.737Z"
   },
   {
    "duration": 20,
    "start_time": "2021-12-07T08:15:56.013Z"
   },
   {
    "duration": 3,
    "start_time": "2021-12-07T08:15:58.106Z"
   },
   {
    "duration": 22,
    "start_time": "2021-12-07T08:16:00.534Z"
   },
   {
    "duration": 18,
    "start_time": "2021-12-07T08:16:03.540Z"
   },
   {
    "duration": 24,
    "start_time": "2021-12-07T08:16:06.841Z"
   },
   {
    "duration": 55,
    "start_time": "2021-12-07T08:16:09.806Z"
   },
   {
    "duration": 60,
    "start_time": "2021-12-07T08:16:11.759Z"
   },
   {
    "duration": 56,
    "start_time": "2021-12-07T08:16:13.691Z"
   },
   {
    "duration": 7,
    "start_time": "2021-12-07T08:16:16.518Z"
   },
   {
    "duration": 3,
    "start_time": "2021-12-07T08:16:19.702Z"
   },
   {
    "duration": 11,
    "start_time": "2021-12-07T08:16:21.965Z"
   },
   {
    "duration": 7,
    "start_time": "2021-12-07T08:16:25.242Z"
   },
   {
    "duration": 10,
    "start_time": "2021-12-07T08:16:31.006Z"
   },
   {
    "duration": 458,
    "start_time": "2021-12-07T08:19:53.404Z"
   },
   {
    "duration": 399,
    "start_time": "2021-12-07T08:20:22.256Z"
   },
   {
    "duration": 25,
    "start_time": "2021-12-07T08:24:27.675Z"
   },
   {
    "duration": 32,
    "start_time": "2021-12-07T08:27:03.105Z"
   },
   {
    "duration": 344,
    "start_time": "2021-12-07T08:27:52.076Z"
   },
   {
    "duration": 39,
    "start_time": "2021-12-07T08:35:18.914Z"
   },
   {
    "duration": 47,
    "start_time": "2021-12-07T08:46:32.192Z"
   },
   {
    "duration": 4,
    "start_time": "2021-12-07T08:57:10.193Z"
   },
   {
    "duration": 377,
    "start_time": "2021-12-07T08:57:29.236Z"
   },
   {
    "duration": -118,
    "start_time": "2021-12-07T08:58:00.817Z"
   },
   {
    "duration": 9828,
    "start_time": "2021-12-07T08:58:59.336Z"
   },
   {
    "duration": -160,
    "start_time": "2021-12-07T08:59:09.326Z"
   },
   {
    "duration": -174,
    "start_time": "2021-12-07T08:59:09.341Z"
   },
   {
    "duration": -184,
    "start_time": "2021-12-07T08:59:09.352Z"
   },
   {
    "duration": -191,
    "start_time": "2021-12-07T08:59:09.360Z"
   },
   {
    "duration": -200,
    "start_time": "2021-12-07T08:59:09.369Z"
   },
   {
    "duration": 3,
    "start_time": "2021-12-07T09:01:22.238Z"
   },
   {
    "duration": 25,
    "start_time": "2021-12-07T09:01:25.611Z"
   },
   {
    "duration": 15,
    "start_time": "2021-12-07T09:01:29.047Z"
   },
   {
    "duration": 23,
    "start_time": "2021-12-07T09:01:31.486Z"
   },
   {
    "duration": 21,
    "start_time": "2021-12-07T09:01:34.099Z"
   },
   {
    "duration": 25,
    "start_time": "2021-12-07T09:01:39.033Z"
   },
   {
    "duration": 14,
    "start_time": "2021-12-07T09:01:41.646Z"
   },
   {
    "duration": 4,
    "start_time": "2021-12-07T09:02:52.393Z"
   },
   {
    "duration": 5,
    "start_time": "2021-12-07T09:02:56.188Z"
   },
   {
    "duration": 12,
    "start_time": "2021-12-07T09:03:13.581Z"
   },
   {
    "duration": 11,
    "start_time": "2021-12-07T10:27:01.383Z"
   },
   {
    "duration": 10,
    "start_time": "2021-12-07T10:27:21.866Z"
   },
   {
    "duration": 4,
    "start_time": "2021-12-07T10:34:07.049Z"
   },
   {
    "duration": 23,
    "start_time": "2021-12-07T10:35:53.092Z"
   },
   {
    "duration": 28,
    "start_time": "2021-12-07T10:36:01.171Z"
   },
   {
    "duration": 22,
    "start_time": "2021-12-07T10:36:13.010Z"
   },
   {
    "duration": 22,
    "start_time": "2021-12-07T10:36:16.971Z"
   },
   {
    "duration": 651,
    "start_time": "2021-12-07T10:38:34.282Z"
   },
   {
    "duration": 134,
    "start_time": "2021-12-07T10:38:36.749Z"
   },
   {
    "duration": 7,
    "start_time": "2021-12-07T10:38:39.049Z"
   },
   {
    "duration": 25,
    "start_time": "2021-12-07T10:38:42.392Z"
   },
   {
    "duration": 3,
    "start_time": "2021-12-07T10:38:47.533Z"
   },
   {
    "duration": 22,
    "start_time": "2021-12-07T10:38:49.971Z"
   },
   {
    "duration": 4,
    "start_time": "2021-12-07T10:38:53.943Z"
   },
   {
    "duration": 22,
    "start_time": "2021-12-07T10:38:56.861Z"
   },
   {
    "duration": 17,
    "start_time": "2021-12-07T10:38:59.408Z"
   },
   {
    "duration": 23,
    "start_time": "2021-12-07T10:39:01.409Z"
   },
   {
    "duration": 62,
    "start_time": "2021-12-07T10:39:06.272Z"
   },
   {
    "duration": 75,
    "start_time": "2021-12-07T10:39:08.299Z"
   },
   {
    "duration": 52,
    "start_time": "2021-12-07T10:39:10.518Z"
   },
   {
    "duration": 6,
    "start_time": "2021-12-07T10:39:12.743Z"
   },
   {
    "duration": 3,
    "start_time": "2021-12-07T10:39:16.249Z"
   },
   {
    "duration": 11,
    "start_time": "2021-12-07T10:39:18.126Z"
   },
   {
    "duration": 8,
    "start_time": "2021-12-07T10:39:20.723Z"
   },
   {
    "duration": 40,
    "start_time": "2021-12-07T10:39:24.636Z"
   },
   {
    "duration": 47,
    "start_time": "2021-12-07T10:39:28.545Z"
   },
   {
    "duration": 3,
    "start_time": "2021-12-07T10:39:32.447Z"
   },
   {
    "duration": 21,
    "start_time": "2021-12-07T10:39:35.444Z"
   },
   {
    "duration": 14,
    "start_time": "2021-12-07T10:39:37.468Z"
   },
   {
    "duration": 15,
    "start_time": "2021-12-07T10:39:39.317Z"
   },
   {
    "duration": 14,
    "start_time": "2021-12-07T10:39:41.927Z"
   },
   {
    "duration": 16,
    "start_time": "2021-12-07T10:39:44.288Z"
   },
   {
    "duration": 14,
    "start_time": "2021-12-07T10:39:46.438Z"
   },
   {
    "duration": 10,
    "start_time": "2021-12-07T10:39:49.914Z"
   },
   {
    "duration": 12,
    "start_time": "2021-12-07T10:39:53.112Z"
   },
   {
    "duration": 10,
    "start_time": "2021-12-07T10:39:55.015Z"
   },
   {
    "duration": 4,
    "start_time": "2021-12-07T10:39:58.180Z"
   },
   {
    "duration": 27,
    "start_time": "2021-12-07T10:40:01.446Z"
   },
   {
    "duration": 22,
    "start_time": "2021-12-07T10:40:04.678Z"
   },
   {
    "duration": 32,
    "start_time": "2021-12-07T10:40:06.614Z"
   },
   {
    "duration": 29,
    "start_time": "2021-12-07T10:40:08.432Z"
   },
   {
    "duration": 11,
    "start_time": "2021-12-07T10:45:28.455Z"
   },
   {
    "duration": 4,
    "start_time": "2021-12-07T10:45:31.439Z"
   },
   {
    "duration": 22,
    "start_time": "2021-12-07T10:45:34.780Z"
   },
   {
    "duration": 21,
    "start_time": "2021-12-07T10:45:37.794Z"
   },
   {
    "duration": 21,
    "start_time": "2021-12-07T10:45:39.718Z"
   },
   {
    "duration": 25,
    "start_time": "2021-12-07T10:45:40.582Z"
   },
   {
    "duration": 10,
    "start_time": "2021-12-07T10:46:48.381Z"
   },
   {
    "duration": 5,
    "start_time": "2021-12-07T10:46:51.344Z"
   },
   {
    "duration": 21,
    "start_time": "2021-12-07T10:46:55.880Z"
   },
   {
    "duration": 22,
    "start_time": "2021-12-07T10:46:58.159Z"
   },
   {
    "duration": 23,
    "start_time": "2021-12-07T10:47:00.538Z"
   },
   {
    "duration": 22,
    "start_time": "2021-12-07T10:47:03.090Z"
   },
   {
    "duration": 2,
    "start_time": "2021-12-07T10:49:48.724Z"
   },
   {
    "duration": 138,
    "start_time": "2021-12-07T10:49:48.730Z"
   },
   {
    "duration": 6,
    "start_time": "2021-12-07T10:49:48.870Z"
   },
   {
    "duration": 34,
    "start_time": "2021-12-07T10:49:48.878Z"
   },
   {
    "duration": 6,
    "start_time": "2021-12-07T10:49:48.914Z"
   },
   {
    "duration": 24,
    "start_time": "2021-12-07T10:49:48.922Z"
   },
   {
    "duration": 3,
    "start_time": "2021-12-07T10:49:48.948Z"
   },
   {
    "duration": 27,
    "start_time": "2021-12-07T10:49:48.953Z"
   },
   {
    "duration": 21,
    "start_time": "2021-12-07T10:49:49.006Z"
   },
   {
    "duration": 22,
    "start_time": "2021-12-07T10:49:49.029Z"
   },
   {
    "duration": 85,
    "start_time": "2021-12-07T10:49:49.053Z"
   },
   {
    "duration": 69,
    "start_time": "2021-12-07T10:49:49.140Z"
   },
   {
    "duration": 50,
    "start_time": "2021-12-07T10:49:49.211Z"
   },
   {
    "duration": 8,
    "start_time": "2021-12-07T10:49:49.263Z"
   },
   {
    "duration": 3,
    "start_time": "2021-12-07T10:49:49.273Z"
   },
   {
    "duration": 39,
    "start_time": "2021-12-07T10:49:49.278Z"
   },
   {
    "duration": 8,
    "start_time": "2021-12-07T10:49:49.319Z"
   },
   {
    "duration": 45,
    "start_time": "2021-12-07T10:49:49.329Z"
   },
   {
    "duration": 73,
    "start_time": "2021-12-07T10:49:49.376Z"
   },
   {
    "duration": 4,
    "start_time": "2021-12-07T10:49:49.451Z"
   },
   {
    "duration": 20,
    "start_time": "2021-12-07T10:49:49.457Z"
   },
   {
    "duration": 34,
    "start_time": "2021-12-07T10:49:49.478Z"
   },
   {
    "duration": 16,
    "start_time": "2021-12-07T10:49:49.514Z"
   },
   {
    "duration": 14,
    "start_time": "2021-12-07T10:49:49.533Z"
   },
   {
    "duration": 16,
    "start_time": "2021-12-07T10:49:49.548Z"
   },
   {
    "duration": 43,
    "start_time": "2021-12-07T10:49:49.566Z"
   },
   {
    "duration": 8,
    "start_time": "2021-12-07T10:49:49.611Z"
   },
   {
    "duration": 16,
    "start_time": "2021-12-07T10:49:49.621Z"
   },
   {
    "duration": 12,
    "start_time": "2021-12-07T10:49:49.639Z"
   },
   {
    "duration": 4,
    "start_time": "2021-12-07T10:49:49.653Z"
   },
   {
    "duration": 52,
    "start_time": "2021-12-07T10:49:49.658Z"
   },
   {
    "duration": 20,
    "start_time": "2021-12-07T10:49:49.712Z"
   },
   {
    "duration": 21,
    "start_time": "2021-12-07T10:49:49.734Z"
   },
   {
    "duration": 22,
    "start_time": "2021-12-07T10:49:49.756Z"
   },
   {
    "duration": 27,
    "start_time": "2021-12-07T10:49:49.780Z"
   },
   {
    "duration": 4,
    "start_time": "2021-12-07T10:49:49.809Z"
   },
   {
    "duration": 5,
    "start_time": "2021-12-07T10:49:49.815Z"
   },
   {
    "duration": 6,
    "start_time": "2021-12-07T10:49:49.822Z"
   },
   {
    "duration": 616,
    "start_time": "2021-12-07T10:50:32.859Z"
   },
   {
    "duration": 142,
    "start_time": "2021-12-07T10:50:33.478Z"
   },
   {
    "duration": 8,
    "start_time": "2021-12-07T10:50:33.622Z"
   },
   {
    "duration": 37,
    "start_time": "2021-12-07T10:50:33.632Z"
   },
   {
    "duration": 4,
    "start_time": "2021-12-07T10:50:33.671Z"
   },
   {
    "duration": 41,
    "start_time": "2021-12-07T10:50:33.677Z"
   },
   {
    "duration": 4,
    "start_time": "2021-12-07T10:50:33.720Z"
   },
   {
    "duration": 25,
    "start_time": "2021-12-07T10:50:33.728Z"
   },
   {
    "duration": 18,
    "start_time": "2021-12-07T10:50:33.756Z"
   },
   {
    "duration": 53,
    "start_time": "2021-12-07T10:50:33.776Z"
   },
   {
    "duration": 77,
    "start_time": "2021-12-07T10:50:33.831Z"
   },
   {
    "duration": 73,
    "start_time": "2021-12-07T10:50:33.911Z"
   },
   {
    "duration": 70,
    "start_time": "2021-12-07T10:50:33.986Z"
   },
   {
    "duration": 6,
    "start_time": "2021-12-07T10:50:34.058Z"
   },
   {
    "duration": 7,
    "start_time": "2021-12-07T10:50:34.066Z"
   },
   {
    "duration": 12,
    "start_time": "2021-12-07T10:50:34.075Z"
   },
   {
    "duration": 19,
    "start_time": "2021-12-07T10:50:34.089Z"
   },
   {
    "duration": 40,
    "start_time": "2021-12-07T10:50:34.109Z"
   },
   {
    "duration": 68,
    "start_time": "2021-12-07T10:50:34.150Z"
   },
   {
    "duration": 4,
    "start_time": "2021-12-07T10:50:34.219Z"
   },
   {
    "duration": 26,
    "start_time": "2021-12-07T10:50:34.224Z"
   },
   {
    "duration": 14,
    "start_time": "2021-12-07T10:50:34.252Z"
   },
   {
    "duration": 39,
    "start_time": "2021-12-07T10:50:34.270Z"
   },
   {
    "duration": 14,
    "start_time": "2021-12-07T10:50:34.311Z"
   },
   {
    "duration": 16,
    "start_time": "2021-12-07T10:50:34.327Z"
   },
   {
    "duration": 14,
    "start_time": "2021-12-07T10:50:34.345Z"
   },
   {
    "duration": 9,
    "start_time": "2021-12-07T10:50:34.361Z"
   },
   {
    "duration": 41,
    "start_time": "2021-12-07T10:50:34.372Z"
   },
   {
    "duration": 10,
    "start_time": "2021-12-07T10:50:34.415Z"
   },
   {
    "duration": 4,
    "start_time": "2021-12-07T10:50:34.427Z"
   },
   {
    "duration": 37,
    "start_time": "2021-12-07T10:50:34.433Z"
   },
   {
    "duration": 35,
    "start_time": "2021-12-07T10:50:34.472Z"
   },
   {
    "duration": 21,
    "start_time": "2021-12-07T10:50:34.509Z"
   },
   {
    "duration": 22,
    "start_time": "2021-12-07T10:50:34.532Z"
   },
   {
    "duration": 2,
    "start_time": "2021-12-07T10:50:34.556Z"
   },
   {
    "duration": 5,
    "start_time": "2021-12-07T10:50:34.560Z"
   },
   {
    "duration": 5,
    "start_time": "2021-12-07T10:50:34.567Z"
   },
   {
    "duration": 33,
    "start_time": "2021-12-07T10:50:34.574Z"
   },
   {
    "duration": 9,
    "start_time": "2021-12-07T10:51:50.943Z"
   },
   {
    "duration": 5,
    "start_time": "2021-12-07T10:52:20.527Z"
   },
   {
    "duration": 7,
    "start_time": "2021-12-07T10:53:08.699Z"
   },
   {
    "duration": 5,
    "start_time": "2021-12-07T10:53:20.133Z"
   },
   {
    "duration": 5,
    "start_time": "2021-12-07T10:53:30.964Z"
   },
   {
    "duration": 654,
    "start_time": "2021-12-07T10:53:52.075Z"
   },
   {
    "duration": 140,
    "start_time": "2021-12-07T10:53:52.731Z"
   },
   {
    "duration": 7,
    "start_time": "2021-12-07T10:53:52.874Z"
   },
   {
    "duration": 34,
    "start_time": "2021-12-07T10:53:52.883Z"
   },
   {
    "duration": 3,
    "start_time": "2021-12-07T10:53:52.919Z"
   },
   {
    "duration": 25,
    "start_time": "2021-12-07T10:53:52.924Z"
   },
   {
    "duration": 5,
    "start_time": "2021-12-07T10:53:52.950Z"
   },
   {
    "duration": 25,
    "start_time": "2021-12-07T10:53:52.958Z"
   },
   {
    "duration": 19,
    "start_time": "2021-12-07T10:53:53.007Z"
   },
   {
    "duration": 27,
    "start_time": "2021-12-07T10:53:53.028Z"
   },
   {
    "duration": 75,
    "start_time": "2021-12-07T10:53:53.057Z"
   },
   {
    "duration": 81,
    "start_time": "2021-12-07T10:53:53.134Z"
   },
   {
    "duration": 61,
    "start_time": "2021-12-07T10:53:53.216Z"
   },
   {
    "duration": 6,
    "start_time": "2021-12-07T10:53:53.279Z"
   },
   {
    "duration": 21,
    "start_time": "2021-12-07T10:53:53.287Z"
   },
   {
    "duration": 14,
    "start_time": "2021-12-07T10:53:53.309Z"
   },
   {
    "duration": 8,
    "start_time": "2021-12-07T10:53:53.324Z"
   },
   {
    "duration": 41,
    "start_time": "2021-12-07T10:53:53.333Z"
   },
   {
    "duration": 69,
    "start_time": "2021-12-07T10:53:53.375Z"
   },
   {
    "duration": 3,
    "start_time": "2021-12-07T10:53:53.446Z"
   },
   {
    "duration": 27,
    "start_time": "2021-12-07T10:53:53.451Z"
   },
   {
    "duration": 32,
    "start_time": "2021-12-07T10:53:53.479Z"
   },
   {
    "duration": 14,
    "start_time": "2021-12-07T10:53:53.514Z"
   },
   {
    "duration": 15,
    "start_time": "2021-12-07T10:53:53.530Z"
   },
   {
    "duration": 15,
    "start_time": "2021-12-07T10:53:53.547Z"
   },
   {
    "duration": 42,
    "start_time": "2021-12-07T10:53:53.564Z"
   },
   {
    "duration": 10,
    "start_time": "2021-12-07T10:53:53.608Z"
   },
   {
    "duration": 12,
    "start_time": "2021-12-07T10:53:53.620Z"
   },
   {
    "duration": 8,
    "start_time": "2021-12-07T10:53:53.634Z"
   },
   {
    "duration": 5,
    "start_time": "2021-12-07T10:53:53.644Z"
   },
   {
    "duration": 25,
    "start_time": "2021-12-07T10:53:53.651Z"
   },
   {
    "duration": 46,
    "start_time": "2021-12-07T10:53:53.678Z"
   },
   {
    "duration": 22,
    "start_time": "2021-12-07T10:53:53.726Z"
   },
   {
    "duration": 21,
    "start_time": "2021-12-07T10:53:53.749Z"
   },
   {
    "duration": 37,
    "start_time": "2021-12-07T10:53:53.772Z"
   },
   {
    "duration": 5,
    "start_time": "2021-12-07T10:53:53.810Z"
   },
   {
    "duration": 9,
    "start_time": "2021-12-07T10:53:53.816Z"
   },
   {
    "duration": 5,
    "start_time": "2021-12-07T10:53:53.827Z"
   },
   {
    "duration": 6,
    "start_time": "2021-12-07T10:57:50.990Z"
   },
   {
    "duration": 23,
    "start_time": "2021-12-07T10:57:53.793Z"
   },
   {
    "duration": 21,
    "start_time": "2021-12-07T10:57:56.357Z"
   },
   {
    "duration": 759,
    "start_time": "2021-12-07T10:59:06.278Z"
   },
   {
    "duration": 149,
    "start_time": "2021-12-07T10:59:07.040Z"
   },
   {
    "duration": 16,
    "start_time": "2021-12-07T10:59:07.191Z"
   },
   {
    "duration": 31,
    "start_time": "2021-12-07T10:59:07.209Z"
   },
   {
    "duration": 5,
    "start_time": "2021-12-07T10:59:07.242Z"
   },
   {
    "duration": 23,
    "start_time": "2021-12-07T10:59:07.249Z"
   },
   {
    "duration": 33,
    "start_time": "2021-12-07T10:59:07.274Z"
   },
   {
    "duration": 24,
    "start_time": "2021-12-07T10:59:07.309Z"
   },
   {
    "duration": 19,
    "start_time": "2021-12-07T10:59:07.335Z"
   },
   {
    "duration": 22,
    "start_time": "2021-12-07T10:59:07.356Z"
   },
   {
    "duration": 86,
    "start_time": "2021-12-07T10:59:07.380Z"
   },
   {
    "duration": 149,
    "start_time": "2021-12-07T10:59:07.468Z"
   },
   {
    "duration": 57,
    "start_time": "2021-12-07T10:59:07.620Z"
   },
   {
    "duration": 7,
    "start_time": "2021-12-07T10:59:07.679Z"
   },
   {
    "duration": 3,
    "start_time": "2021-12-07T10:59:07.706Z"
   },
   {
    "duration": 10,
    "start_time": "2021-12-07T10:59:07.712Z"
   },
   {
    "duration": 7,
    "start_time": "2021-12-07T10:59:07.724Z"
   },
   {
    "duration": 78,
    "start_time": "2021-12-07T10:59:07.733Z"
   },
   {
    "duration": 104,
    "start_time": "2021-12-07T10:59:07.814Z"
   },
   {
    "duration": 5,
    "start_time": "2021-12-07T10:59:07.921Z"
   },
   {
    "duration": 44,
    "start_time": "2021-12-07T10:59:07.929Z"
   },
   {
    "duration": 33,
    "start_time": "2021-12-07T10:59:07.975Z"
   },
   {
    "duration": 17,
    "start_time": "2021-12-07T10:59:08.011Z"
   },
   {
    "duration": 15,
    "start_time": "2021-12-07T10:59:08.030Z"
   },
   {
    "duration": 17,
    "start_time": "2021-12-07T10:59:08.047Z"
   },
   {
    "duration": 52,
    "start_time": "2021-12-07T10:59:08.066Z"
   },
   {
    "duration": 10,
    "start_time": "2021-12-07T10:59:08.121Z"
   },
   {
    "duration": 16,
    "start_time": "2021-12-07T10:59:08.133Z"
   },
   {
    "duration": 16,
    "start_time": "2021-12-07T10:59:08.151Z"
   },
   {
    "duration": 39,
    "start_time": "2021-12-07T10:59:08.169Z"
   },
   {
    "duration": 44,
    "start_time": "2021-12-07T10:59:08.211Z"
   },
   {
    "duration": 33,
    "start_time": "2021-12-07T10:59:08.257Z"
   },
   {
    "duration": 37,
    "start_time": "2021-12-07T10:59:08.291Z"
   },
   {
    "duration": 24,
    "start_time": "2021-12-07T10:59:08.330Z"
   },
   {
    "duration": 10,
    "start_time": "2021-12-07T10:59:08.356Z"
   },
   {
    "duration": 40,
    "start_time": "2021-12-07T10:59:08.368Z"
   },
   {
    "duration": 7,
    "start_time": "2021-12-07T10:59:08.409Z"
   },
   {
    "duration": 6,
    "start_time": "2021-12-07T10:59:08.418Z"
   },
   {
    "duration": 4,
    "start_time": "2021-12-07T11:00:45.443Z"
   },
   {
    "duration": 21,
    "start_time": "2021-12-07T11:00:49.128Z"
   },
   {
    "duration": 22,
    "start_time": "2021-12-07T11:00:52.442Z"
   },
   {
    "duration": 778,
    "start_time": "2021-12-08T05:28:43.951Z"
   },
   {
    "duration": 198,
    "start_time": "2021-12-08T05:28:44.731Z"
   },
   {
    "duration": 10,
    "start_time": "2021-12-08T05:28:44.933Z"
   },
   {
    "duration": 34,
    "start_time": "2021-12-08T05:28:44.946Z"
   },
   {
    "duration": 5,
    "start_time": "2021-12-08T05:28:44.982Z"
   },
   {
    "duration": 58,
    "start_time": "2021-12-08T05:28:44.989Z"
   },
   {
    "duration": 10,
    "start_time": "2021-12-08T05:28:45.049Z"
   },
   {
    "duration": 54,
    "start_time": "2021-12-08T05:28:45.062Z"
   },
   {
    "duration": 25,
    "start_time": "2021-12-08T05:28:45.119Z"
   },
   {
    "duration": 29,
    "start_time": "2021-12-08T05:28:45.146Z"
   },
   {
    "duration": 114,
    "start_time": "2021-12-08T05:28:45.178Z"
   },
   {
    "duration": 122,
    "start_time": "2021-12-08T05:28:45.295Z"
   },
   {
    "duration": 80,
    "start_time": "2021-12-08T05:28:45.419Z"
   },
   {
    "duration": 16,
    "start_time": "2021-12-08T05:28:45.501Z"
   },
   {
    "duration": 6,
    "start_time": "2021-12-08T05:28:45.520Z"
   },
   {
    "duration": 31,
    "start_time": "2021-12-08T05:28:45.528Z"
   },
   {
    "duration": 17,
    "start_time": "2021-12-08T05:28:45.562Z"
   },
   {
    "duration": 71,
    "start_time": "2021-12-08T05:28:45.582Z"
   },
   {
    "duration": 79,
    "start_time": "2021-12-08T05:28:45.656Z"
   },
   {
    "duration": 6,
    "start_time": "2021-12-08T05:28:45.738Z"
   },
   {
    "duration": 50,
    "start_time": "2021-12-08T05:28:45.747Z"
   },
   {
    "duration": 29,
    "start_time": "2021-12-08T05:28:45.800Z"
   },
   {
    "duration": 22,
    "start_time": "2021-12-08T05:28:45.836Z"
   },
   {
    "duration": 42,
    "start_time": "2021-12-08T05:28:45.861Z"
   },
   {
    "duration": 30,
    "start_time": "2021-12-08T05:28:45.918Z"
   },
   {
    "duration": 39,
    "start_time": "2021-12-08T05:28:45.951Z"
   },
   {
    "duration": 38,
    "start_time": "2021-12-08T05:28:45.994Z"
   },
   {
    "duration": 20,
    "start_time": "2021-12-08T05:28:46.034Z"
   },
   {
    "duration": 33,
    "start_time": "2021-12-08T05:28:46.057Z"
   },
   {
    "duration": 19,
    "start_time": "2021-12-08T05:28:46.092Z"
   },
   {
    "duration": 68,
    "start_time": "2021-12-08T05:28:46.114Z"
   },
   {
    "duration": 49,
    "start_time": "2021-12-08T05:28:46.185Z"
   },
   {
    "duration": 47,
    "start_time": "2021-12-08T05:28:46.236Z"
   },
   {
    "duration": 61,
    "start_time": "2021-12-08T05:28:46.286Z"
   },
   {
    "duration": 18,
    "start_time": "2021-12-08T05:28:46.350Z"
   },
   {
    "duration": 7,
    "start_time": "2021-12-08T05:28:46.371Z"
   },
   {
    "duration": 41,
    "start_time": "2021-12-08T05:28:46.380Z"
   },
   {
    "duration": 6,
    "start_time": "2021-12-08T05:28:46.424Z"
   },
   {
    "duration": 796,
    "start_time": "2021-12-08T05:31:50.042Z"
   },
   {
    "duration": 194,
    "start_time": "2021-12-08T05:31:50.841Z"
   },
   {
    "duration": 11,
    "start_time": "2021-12-08T05:31:51.043Z"
   },
   {
    "duration": 36,
    "start_time": "2021-12-08T05:31:51.056Z"
   },
   {
    "duration": 26,
    "start_time": "2021-12-08T05:31:51.094Z"
   },
   {
    "duration": 42,
    "start_time": "2021-12-08T05:31:51.123Z"
   },
   {
    "duration": 15,
    "start_time": "2021-12-08T05:31:51.168Z"
   },
   {
    "duration": 47,
    "start_time": "2021-12-08T05:31:51.187Z"
   },
   {
    "duration": 26,
    "start_time": "2021-12-08T05:31:51.237Z"
   },
   {
    "duration": 28,
    "start_time": "2021-12-08T05:31:51.265Z"
   },
   {
    "duration": 106,
    "start_time": "2021-12-08T05:31:51.295Z"
   },
   {
    "duration": 117,
    "start_time": "2021-12-08T05:31:51.418Z"
   },
   {
    "duration": 79,
    "start_time": "2021-12-08T05:31:51.538Z"
   },
   {
    "duration": 8,
    "start_time": "2021-12-08T05:31:51.619Z"
   },
   {
    "duration": 16,
    "start_time": "2021-12-08T05:31:51.629Z"
   },
   {
    "duration": 25,
    "start_time": "2021-12-08T05:31:51.647Z"
   },
   {
    "duration": 28,
    "start_time": "2021-12-08T05:31:51.674Z"
   },
   {
    "duration": 61,
    "start_time": "2021-12-08T05:31:51.704Z"
   },
   {
    "duration": 80,
    "start_time": "2021-12-08T05:31:51.768Z"
   },
   {
    "duration": 5,
    "start_time": "2021-12-08T05:31:51.850Z"
   },
   {
    "duration": 35,
    "start_time": "2021-12-08T05:31:51.857Z"
   },
   {
    "duration": 36,
    "start_time": "2021-12-08T05:31:51.895Z"
   },
   {
    "duration": 29,
    "start_time": "2021-12-08T05:31:51.934Z"
   },
   {
    "duration": 21,
    "start_time": "2021-12-08T05:31:51.966Z"
   },
   {
    "duration": 24,
    "start_time": "2021-12-08T05:31:52.017Z"
   },
   {
    "duration": 21,
    "start_time": "2021-12-08T05:31:52.048Z"
   },
   {
    "duration": 49,
    "start_time": "2021-12-08T05:31:52.073Z"
   },
   {
    "duration": 20,
    "start_time": "2021-12-08T05:31:52.125Z"
   },
   {
    "duration": 18,
    "start_time": "2021-12-08T05:31:52.148Z"
   },
   {
    "duration": 6,
    "start_time": "2021-12-08T05:31:52.168Z"
   },
   {
    "duration": 62,
    "start_time": "2021-12-08T05:31:52.176Z"
   },
   {
    "duration": 17,
    "start_time": "2021-12-08T05:31:52.240Z"
   },
   {
    "duration": 25,
    "start_time": "2021-12-08T05:31:52.259Z"
   },
   {
    "duration": 17,
    "start_time": "2021-12-08T05:31:52.317Z"
   },
   {
    "duration": 12,
    "start_time": "2021-12-08T05:31:52.337Z"
   },
   {
    "duration": 6,
    "start_time": "2021-12-08T05:31:52.351Z"
   },
   {
    "duration": 9,
    "start_time": "2021-12-08T05:31:52.360Z"
   },
   {
    "duration": 6,
    "start_time": "2021-12-08T05:31:52.372Z"
   },
   {
    "duration": 822,
    "start_time": "2021-12-08T05:32:25.690Z"
   },
   {
    "duration": 198,
    "start_time": "2021-12-08T05:32:26.515Z"
   },
   {
    "duration": 11,
    "start_time": "2021-12-08T05:32:26.716Z"
   },
   {
    "duration": 36,
    "start_time": "2021-12-08T05:32:26.730Z"
   },
   {
    "duration": 4,
    "start_time": "2021-12-08T05:32:26.769Z"
   },
   {
    "duration": 62,
    "start_time": "2021-12-08T05:32:26.776Z"
   },
   {
    "duration": 9,
    "start_time": "2021-12-08T05:32:26.841Z"
   },
   {
    "duration": 31,
    "start_time": "2021-12-08T05:32:26.854Z"
   },
   {
    "duration": 46,
    "start_time": "2021-12-08T05:32:26.888Z"
   },
   {
    "duration": 31,
    "start_time": "2021-12-08T05:32:26.937Z"
   },
   {
    "duration": 111,
    "start_time": "2021-12-08T05:32:26.970Z"
   },
   {
    "duration": 121,
    "start_time": "2021-12-08T05:32:27.084Z"
   },
   {
    "duration": 79,
    "start_time": "2021-12-08T05:32:27.208Z"
   },
   {
    "duration": 27,
    "start_time": "2021-12-08T05:32:27.290Z"
   },
   {
    "duration": 4,
    "start_time": "2021-12-08T05:32:27.320Z"
   },
   {
    "duration": 19,
    "start_time": "2021-12-08T05:32:27.326Z"
   },
   {
    "duration": 8,
    "start_time": "2021-12-08T05:32:27.348Z"
   },
   {
    "duration": 83,
    "start_time": "2021-12-08T05:32:27.358Z"
   },
   {
    "duration": 89,
    "start_time": "2021-12-08T05:32:27.444Z"
   },
   {
    "duration": 6,
    "start_time": "2021-12-08T05:32:27.536Z"
   },
   {
    "duration": 37,
    "start_time": "2021-12-08T05:32:27.544Z"
   },
   {
    "duration": 40,
    "start_time": "2021-12-08T05:32:27.583Z"
   },
   {
    "duration": 19,
    "start_time": "2021-12-08T05:32:27.628Z"
   },
   {
    "duration": 26,
    "start_time": "2021-12-08T05:32:27.651Z"
   },
   {
    "duration": 49,
    "start_time": "2021-12-08T05:32:27.680Z"
   },
   {
    "duration": 20,
    "start_time": "2021-12-08T05:32:27.732Z"
   },
   {
    "duration": 18,
    "start_time": "2021-12-08T05:32:27.755Z"
   },
   {
    "duration": 17,
    "start_time": "2021-12-08T05:32:27.816Z"
   },
   {
    "duration": 12,
    "start_time": "2021-12-08T05:32:27.836Z"
   },
   {
    "duration": 5,
    "start_time": "2021-12-08T05:32:27.851Z"
   },
   {
    "duration": 63,
    "start_time": "2021-12-08T05:32:27.859Z"
   },
   {
    "duration": 31,
    "start_time": "2021-12-08T05:32:27.924Z"
   },
   {
    "duration": 30,
    "start_time": "2021-12-08T05:32:27.957Z"
   },
   {
    "duration": 55,
    "start_time": "2021-12-08T05:32:27.990Z"
   },
   {
    "duration": 13,
    "start_time": "2021-12-08T05:32:28.047Z"
   },
   {
    "duration": 6,
    "start_time": "2021-12-08T05:32:28.063Z"
   },
   {
    "duration": 47,
    "start_time": "2021-12-08T05:32:28.072Z"
   },
   {
    "duration": 7,
    "start_time": "2021-12-08T05:32:28.122Z"
   },
   {
    "duration": 485,
    "start_time": "2021-12-08T07:38:23.961Z"
   },
   {
    "duration": 805,
    "start_time": "2021-12-08T07:38:36.844Z"
   },
   {
    "duration": 177,
    "start_time": "2021-12-08T07:38:37.652Z"
   },
   {
    "duration": 36,
    "start_time": "2021-12-08T07:38:37.832Z"
   },
   {
    "duration": 33,
    "start_time": "2021-12-08T07:38:37.872Z"
   },
   {
    "duration": 6,
    "start_time": "2021-12-08T07:38:37.907Z"
   },
   {
    "duration": 59,
    "start_time": "2021-12-08T07:38:37.916Z"
   },
   {
    "duration": 7,
    "start_time": "2021-12-08T07:38:37.977Z"
   },
   {
    "duration": 30,
    "start_time": "2021-12-08T07:38:37.987Z"
   },
   {
    "duration": 46,
    "start_time": "2021-12-08T07:38:38.020Z"
   },
   {
    "duration": 29,
    "start_time": "2021-12-08T07:38:38.068Z"
   },
   {
    "duration": 99,
    "start_time": "2021-12-08T07:38:38.099Z"
   },
   {
    "duration": 102,
    "start_time": "2021-12-08T07:38:38.200Z"
   },
   {
    "duration": 92,
    "start_time": "2021-12-08T07:38:38.305Z"
   },
   {
    "duration": 9,
    "start_time": "2021-12-08T07:38:38.399Z"
   },
   {
    "duration": 4,
    "start_time": "2021-12-08T07:38:38.410Z"
   },
   {
    "duration": 15,
    "start_time": "2021-12-08T07:38:38.416Z"
   },
   {
    "duration": 8,
    "start_time": "2021-12-08T07:38:38.459Z"
   },
   {
    "duration": 49,
    "start_time": "2021-12-08T07:38:38.469Z"
   },
   {
    "duration": 81,
    "start_time": "2021-12-08T07:38:38.521Z"
   },
   {
    "duration": 5,
    "start_time": "2021-12-08T07:38:38.604Z"
   },
   {
    "duration": 28,
    "start_time": "2021-12-08T07:38:38.611Z"
   },
   {
    "duration": 33,
    "start_time": "2021-12-08T07:38:38.641Z"
   },
   {
    "duration": 18,
    "start_time": "2021-12-08T07:38:38.678Z"
   },
   {
    "duration": 18,
    "start_time": "2021-12-08T07:38:38.699Z"
   },
   {
    "duration": 52,
    "start_time": "2021-12-08T07:38:38.719Z"
   },
   {
    "duration": 17,
    "start_time": "2021-12-08T07:38:38.774Z"
   },
   {
    "duration": 12,
    "start_time": "2021-12-08T07:38:38.793Z"
   },
   {
    "duration": 52,
    "start_time": "2021-12-08T07:38:38.808Z"
   },
   {
    "duration": 12,
    "start_time": "2021-12-08T07:38:38.864Z"
   },
   {
    "duration": 5,
    "start_time": "2021-12-08T07:38:38.879Z"
   },
   {
    "duration": 34,
    "start_time": "2021-12-08T07:38:38.886Z"
   },
   {
    "duration": 53,
    "start_time": "2021-12-08T07:38:38.922Z"
   },
   {
    "duration": 28,
    "start_time": "2021-12-08T07:38:38.977Z"
   },
   {
    "duration": 57,
    "start_time": "2021-12-08T07:38:39.008Z"
   },
   {
    "duration": 12,
    "start_time": "2021-12-08T07:38:39.067Z"
   },
   {
    "duration": 6,
    "start_time": "2021-12-08T07:38:39.081Z"
   },
   {
    "duration": 9,
    "start_time": "2021-12-08T07:38:39.089Z"
   },
   {
    "duration": 9,
    "start_time": "2021-12-08T07:38:39.100Z"
   },
   {
    "duration": 1173,
    "start_time": "2021-12-08T07:46:17.414Z"
   },
   {
    "duration": 199,
    "start_time": "2021-12-08T07:46:19.641Z"
   },
   {
    "duration": 41,
    "start_time": "2021-12-08T07:46:22.375Z"
   },
   {
    "duration": 37,
    "start_time": "2021-12-08T07:46:27.571Z"
   },
   {
    "duration": 6,
    "start_time": "2021-12-08T07:46:33.066Z"
   },
   {
    "duration": 33,
    "start_time": "2021-12-08T07:46:40.036Z"
   },
   {
    "duration": 7,
    "start_time": "2021-12-08T07:46:46.690Z"
   },
   {
    "duration": 52,
    "start_time": "2021-12-08T07:46:58.291Z"
   },
   {
    "duration": 464,
    "start_time": "2021-12-08T07:47:03.963Z"
   },
   {
    "duration": 385,
    "start_time": "2021-12-08T07:47:28.340Z"
   },
   {
    "duration": 136,
    "start_time": "2021-12-08T07:49:09.484Z"
   },
   {
    "duration": 377,
    "start_time": "2021-12-08T07:51:04.297Z"
   },
   {
    "duration": 28,
    "start_time": "2021-12-08T07:51:19.976Z"
   },
   {
    "duration": 30,
    "start_time": "2021-12-08T07:51:32.904Z"
   },
   {
    "duration": 31,
    "start_time": "2021-12-08T07:51:44.642Z"
   },
   {
    "duration": 81,
    "start_time": "2021-12-08T07:51:56.323Z"
   },
   {
    "duration": 95,
    "start_time": "2021-12-08T07:51:59.680Z"
   },
   {
    "duration": 76,
    "start_time": "2021-12-08T07:52:07.348Z"
   },
   {
    "duration": 13,
    "start_time": "2021-12-08T07:52:16.429Z"
   },
   {
    "duration": 21,
    "start_time": "2021-12-08T07:52:30.552Z"
   },
   {
    "duration": 32,
    "start_time": "2021-12-08T07:52:32.667Z"
   },
   {
    "duration": 76,
    "start_time": "2021-12-08T07:52:35.389Z"
   },
   {
    "duration": 89,
    "start_time": "2021-12-08T07:52:42.518Z"
   },
   {
    "duration": 76,
    "start_time": "2021-12-08T07:52:45.452Z"
   },
   {
    "duration": 771,
    "start_time": "2021-12-08T07:53:05.269Z"
   },
   {
    "duration": 188,
    "start_time": "2021-12-08T07:53:07.299Z"
   },
   {
    "duration": 25,
    "start_time": "2021-12-08T07:53:09.661Z"
   },
   {
    "duration": 31,
    "start_time": "2021-12-08T07:53:13.148Z"
   },
   {
    "duration": 5,
    "start_time": "2021-12-08T07:53:17.834Z"
   },
   {
    "duration": 25,
    "start_time": "2021-12-08T07:53:22.036Z"
   },
   {
    "duration": 748,
    "start_time": "2021-12-08T07:53:45.180Z"
   },
   {
    "duration": 190,
    "start_time": "2021-12-08T07:53:45.930Z"
   },
   {
    "duration": 27,
    "start_time": "2021-12-08T07:53:46.124Z"
   },
   {
    "duration": 32,
    "start_time": "2021-12-08T07:53:46.160Z"
   },
   {
    "duration": 5,
    "start_time": "2021-12-08T07:53:46.195Z"
   },
   {
    "duration": 56,
    "start_time": "2021-12-08T07:53:46.203Z"
   },
   {
    "duration": 31,
    "start_time": "2021-12-08T07:53:52.072Z"
   },
   {
    "duration": 23,
    "start_time": "2021-12-08T07:53:58.084Z"
   },
   {
    "duration": 30,
    "start_time": "2021-12-08T07:54:02.473Z"
   },
   {
    "duration": 94,
    "start_time": "2021-12-08T07:54:07.297Z"
   },
   {
    "duration": 92,
    "start_time": "2021-12-08T07:54:10.955Z"
   },
   {
    "duration": 75,
    "start_time": "2021-12-08T07:54:13.883Z"
   },
   {
    "duration": 14,
    "start_time": "2021-12-08T07:54:20.553Z"
   },
   {
    "duration": 55,
    "start_time": "2021-12-08T07:54:44.253Z"
   },
   {
    "duration": 456,
    "start_time": "2021-12-08T07:55:48.613Z"
   },
   {
    "duration": 1016,
    "start_time": "2021-12-08T07:55:57.742Z"
   },
   {
    "duration": 11,
    "start_time": "2021-12-08T07:56:14.051Z"
   },
   {
    "duration": 772,
    "start_time": "2021-12-08T08:00:21.696Z"
   },
   {
    "duration": 385,
    "start_time": "2021-12-08T08:01:05.581Z"
   },
   {
    "duration": 366,
    "start_time": "2021-12-08T08:01:38.868Z"
   },
   {
    "duration": 501,
    "start_time": "2021-12-08T08:04:14.374Z"
   },
   {
    "duration": 349,
    "start_time": "2021-12-08T08:07:11.206Z"
   },
   {
    "duration": 10205,
    "start_time": "2021-12-08T08:07:23.579Z"
   },
   {
    "duration": 55,
    "start_time": "2021-12-08T08:08:04.472Z"
   },
   {
    "duration": 57,
    "start_time": "2021-12-08T08:08:14.230Z"
   },
   {
    "duration": 793,
    "start_time": "2021-12-08T08:08:28.146Z"
   },
   {
    "duration": 198,
    "start_time": "2021-12-08T08:08:28.941Z"
   },
   {
    "duration": 30,
    "start_time": "2021-12-08T08:08:29.143Z"
   },
   {
    "duration": 32,
    "start_time": "2021-12-08T08:08:29.176Z"
   },
   {
    "duration": 5,
    "start_time": "2021-12-08T08:08:29.211Z"
   },
   {
    "duration": 62,
    "start_time": "2021-12-08T08:08:29.219Z"
   },
   {
    "duration": 7,
    "start_time": "2021-12-08T08:08:29.284Z"
   },
   {
    "duration": 66,
    "start_time": "2021-12-08T08:08:29.295Z"
   },
   {
    "duration": 23,
    "start_time": "2021-12-08T08:08:29.363Z"
   },
   {
    "duration": 30,
    "start_time": "2021-12-08T08:08:29.388Z"
   },
   {
    "duration": 114,
    "start_time": "2021-12-08T08:08:29.421Z"
   },
   {
    "duration": 123,
    "start_time": "2021-12-08T08:08:29.538Z"
   },
   {
    "duration": 80,
    "start_time": "2021-12-08T08:08:29.664Z"
   },
   {
    "duration": 62,
    "start_time": "2021-12-08T08:08:33.579Z"
   },
   {
    "duration": 61,
    "start_time": "2021-12-08T08:09:23.717Z"
   },
   {
    "duration": 642,
    "start_time": "2021-12-08T08:09:30.124Z"
   },
   {
    "duration": 56,
    "start_time": "2021-12-08T08:09:43.103Z"
   },
   {
    "duration": 97,
    "start_time": "2021-12-08T08:09:51.814Z"
   },
   {
    "duration": 10,
    "start_time": "2021-12-08T08:10:24.136Z"
   },
   {
    "duration": 16,
    "start_time": "2021-12-08T08:12:03.610Z"
   },
   {
    "duration": 58,
    "start_time": "2021-12-08T08:12:26.712Z"
   },
   {
    "duration": 376,
    "start_time": "2021-12-08T08:16:07.675Z"
   },
   {
    "duration": 14,
    "start_time": "2021-12-08T08:16:15.891Z"
   },
   {
    "duration": 786,
    "start_time": "2021-12-08T08:20:23.271Z"
   },
   {
    "duration": 184,
    "start_time": "2021-12-08T08:20:25.931Z"
   },
   {
    "duration": 26,
    "start_time": "2021-12-08T08:20:28.425Z"
   },
   {
    "duration": 35,
    "start_time": "2021-12-08T08:20:31.944Z"
   },
   {
    "duration": 7,
    "start_time": "2021-12-08T08:20:36.210Z"
   },
   {
    "duration": 26,
    "start_time": "2021-12-08T08:20:39.097Z"
   },
   {
    "duration": 5,
    "start_time": "2021-12-08T08:20:41.720Z"
   },
   {
    "duration": 32,
    "start_time": "2021-12-08T08:20:44.112Z"
   },
   {
    "duration": 31,
    "start_time": "2021-12-08T08:22:09.262Z"
   },
   {
    "duration": 781,
    "start_time": "2021-12-08T08:22:30.899Z"
   },
   {
    "duration": 185,
    "start_time": "2021-12-08T08:22:33.176Z"
   },
   {
    "duration": 26,
    "start_time": "2021-12-08T08:22:36.032Z"
   },
   {
    "duration": 32,
    "start_time": "2021-12-08T08:22:39.047Z"
   },
   {
    "duration": 6,
    "start_time": "2021-12-08T08:22:42.578Z"
   },
   {
    "duration": 24,
    "start_time": "2021-12-08T08:22:45.419Z"
   },
   {
    "duration": 6,
    "start_time": "2021-12-08T08:22:47.160Z"
   },
   {
    "duration": 29,
    "start_time": "2021-12-08T08:22:49.570Z"
   },
   {
    "duration": 23,
    "start_time": "2021-12-08T08:22:52.970Z"
   },
   {
    "duration": 31,
    "start_time": "2021-12-08T08:22:55.669Z"
   },
   {
    "duration": 83,
    "start_time": "2021-12-08T08:22:58.297Z"
   },
   {
    "duration": 102,
    "start_time": "2021-12-08T08:23:01.673Z"
   },
   {
    "duration": 74,
    "start_time": "2021-12-08T08:23:04.569Z"
   },
   {
    "duration": 66,
    "start_time": "2021-12-08T08:23:07.350Z"
   },
   {
    "duration": 4,
    "start_time": "2021-12-08T08:23:12.264Z"
   },
   {
    "duration": 17,
    "start_time": "2021-12-08T08:23:14.788Z"
   },
   {
    "duration": 58,
    "start_time": "2021-12-08T08:23:18.884Z"
   },
   {
    "duration": 15,
    "start_time": "2021-12-08T08:23:29.759Z"
   },
   {
    "duration": 57,
    "start_time": "2021-12-08T08:23:32.226Z"
   },
   {
    "duration": 4,
    "start_time": "2021-12-08T08:23:39.035Z"
   },
   {
    "duration": 23,
    "start_time": "2021-12-08T08:23:44.302Z"
   },
   {
    "duration": 17,
    "start_time": "2021-12-08T08:23:48.764Z"
   },
   {
    "duration": 19,
    "start_time": "2021-12-08T08:23:50.920Z"
   },
   {
    "duration": 19,
    "start_time": "2021-12-08T08:23:51.630Z"
   },
   {
    "duration": 21,
    "start_time": "2021-12-08T08:23:52.463Z"
   },
   {
    "duration": 17,
    "start_time": "2021-12-08T08:23:56.397Z"
   },
   {
    "duration": 13,
    "start_time": "2021-12-08T08:23:59.664Z"
   },
   {
    "duration": 14,
    "start_time": "2021-12-08T08:24:07.850Z"
   },
   {
    "duration": 11,
    "start_time": "2021-12-08T08:24:08.527Z"
   },
   {
    "duration": 5,
    "start_time": "2021-12-08T08:24:11.278Z"
   },
   {
    "duration": 5,
    "start_time": "2021-12-08T08:24:33.865Z"
   },
   {
    "duration": 32,
    "start_time": "2021-12-08T08:24:38.044Z"
   },
   {
    "duration": 31,
    "start_time": "2021-12-08T08:24:44.304Z"
   },
   {
    "duration": 30,
    "start_time": "2021-12-08T08:24:50.470Z"
   },
   {
    "duration": 29,
    "start_time": "2021-12-08T08:24:53.495Z"
   },
   {
    "duration": 762,
    "start_time": "2021-12-08T08:25:22.479Z"
   },
   {
    "duration": 185,
    "start_time": "2021-12-08T08:25:23.244Z"
   },
   {
    "duration": 30,
    "start_time": "2021-12-08T08:25:23.431Z"
   },
   {
    "duration": 36,
    "start_time": "2021-12-08T08:25:23.463Z"
   },
   {
    "duration": 5,
    "start_time": "2021-12-08T08:25:23.501Z"
   },
   {
    "duration": 55,
    "start_time": "2021-12-08T08:25:23.509Z"
   },
   {
    "duration": 6,
    "start_time": "2021-12-08T08:25:23.566Z"
   },
   {
    "duration": 30,
    "start_time": "2021-12-08T08:25:23.576Z"
   },
   {
    "duration": 50,
    "start_time": "2021-12-08T08:25:23.609Z"
   },
   {
    "duration": 31,
    "start_time": "2021-12-08T08:25:23.662Z"
   },
   {
    "duration": 102,
    "start_time": "2021-12-08T08:25:23.695Z"
   },
   {
    "duration": 107,
    "start_time": "2021-12-08T08:25:23.799Z"
   },
   {
    "duration": 83,
    "start_time": "2021-12-08T08:25:23.908Z"
   },
   {
    "duration": 73,
    "start_time": "2021-12-08T08:25:23.993Z"
   },
   {
    "duration": 4,
    "start_time": "2021-12-08T08:25:24.068Z"
   },
   {
    "duration": 18,
    "start_time": "2021-12-08T08:25:24.075Z"
   },
   {
    "duration": 77,
    "start_time": "2021-12-08T08:25:24.095Z"
   },
   {
    "duration": 14,
    "start_time": "2021-12-08T08:25:24.174Z"
   },
   {
    "duration": 87,
    "start_time": "2021-12-08T08:25:24.190Z"
   },
   {
    "duration": 4,
    "start_time": "2021-12-08T08:25:24.280Z"
   },
   {
    "duration": 25,
    "start_time": "2021-12-08T08:25:24.286Z"
   },
   {
    "duration": 18,
    "start_time": "2021-12-08T08:25:24.313Z"
   },
   {
    "duration": 21,
    "start_time": "2021-12-08T08:25:24.363Z"
   },
   {
    "duration": 18,
    "start_time": "2021-12-08T08:25:24.387Z"
   },
   {
    "duration": 58,
    "start_time": "2021-12-08T08:25:24.407Z"
   },
   {
    "duration": 18,
    "start_time": "2021-12-08T08:25:24.468Z"
   },
   {
    "duration": 12,
    "start_time": "2021-12-08T08:25:24.488Z"
   },
   {
    "duration": 15,
    "start_time": "2021-12-08T08:25:24.502Z"
   },
   {
    "duration": 45,
    "start_time": "2021-12-08T08:25:24.519Z"
   },
   {
    "duration": 5,
    "start_time": "2021-12-08T08:25:24.566Z"
   },
   {
    "duration": 37,
    "start_time": "2021-12-08T08:25:24.574Z"
   },
   {
    "duration": 55,
    "start_time": "2021-12-08T08:25:24.614Z"
   },
   {
    "duration": 32,
    "start_time": "2021-12-08T08:25:24.673Z"
   },
   {
    "duration": 63,
    "start_time": "2021-12-08T08:25:24.708Z"
   },
   {
    "duration": 14,
    "start_time": "2021-12-08T08:25:24.774Z"
   },
   {
    "duration": 7,
    "start_time": "2021-12-08T08:25:24.791Z"
   },
   {
    "duration": 10,
    "start_time": "2021-12-08T08:25:24.800Z"
   },
   {
    "duration": 5,
    "start_time": "2021-12-08T08:25:24.813Z"
   },
   {
    "duration": 5,
    "start_time": "2021-12-08T08:29:26.580Z"
   },
   {
    "duration": 25,
    "start_time": "2021-12-08T08:29:29.901Z"
   },
   {
    "duration": 17,
    "start_time": "2021-12-08T08:29:33.597Z"
   },
   {
    "duration": 34,
    "start_time": "2021-12-08T08:29:35.063Z"
   },
   {
    "duration": 18,
    "start_time": "2021-12-08T08:29:37.746Z"
   },
   {
    "duration": 797,
    "start_time": "2021-12-08T08:29:56.524Z"
   },
   {
    "duration": 183,
    "start_time": "2021-12-08T08:29:57.324Z"
   },
   {
    "duration": 28,
    "start_time": "2021-12-08T08:29:57.511Z"
   },
   {
    "duration": 34,
    "start_time": "2021-12-08T08:29:57.559Z"
   },
   {
    "duration": 6,
    "start_time": "2021-12-08T08:29:57.596Z"
   },
   {
    "duration": 55,
    "start_time": "2021-12-08T08:29:57.604Z"
   },
   {
    "duration": 6,
    "start_time": "2021-12-08T08:29:57.662Z"
   },
   {
    "duration": 30,
    "start_time": "2021-12-08T08:29:57.673Z"
   },
   {
    "duration": 53,
    "start_time": "2021-12-08T08:29:57.706Z"
   },
   {
    "duration": 29,
    "start_time": "2021-12-08T08:29:57.762Z"
   },
   {
    "duration": 95,
    "start_time": "2021-12-08T08:29:57.794Z"
   },
   {
    "duration": 109,
    "start_time": "2021-12-08T08:29:57.892Z"
   },
   {
    "duration": 82,
    "start_time": "2021-12-08T08:29:58.003Z"
   },
   {
    "duration": 57,
    "start_time": "2021-12-08T08:29:58.088Z"
   },
   {
    "duration": 4,
    "start_time": "2021-12-08T08:29:58.160Z"
   },
   {
    "duration": 19,
    "start_time": "2021-12-08T08:29:58.166Z"
   },
   {
    "duration": 76,
    "start_time": "2021-12-08T08:29:58.187Z"
   },
   {
    "duration": 14,
    "start_time": "2021-12-08T08:29:58.265Z"
   },
   {
    "duration": 78,
    "start_time": "2021-12-08T08:29:58.282Z"
   },
   {
    "duration": 4,
    "start_time": "2021-12-08T08:29:58.362Z"
   },
   {
    "duration": 28,
    "start_time": "2021-12-08T08:29:58.369Z"
   },
   {
    "duration": 17,
    "start_time": "2021-12-08T08:29:58.400Z"
   },
   {
    "duration": 45,
    "start_time": "2021-12-08T08:29:58.422Z"
   },
   {
    "duration": 17,
    "start_time": "2021-12-08T08:29:58.470Z"
   },
   {
    "duration": 22,
    "start_time": "2021-12-08T08:29:58.490Z"
   },
   {
    "duration": 52,
    "start_time": "2021-12-08T08:29:58.515Z"
   },
   {
    "duration": 14,
    "start_time": "2021-12-08T08:29:58.570Z"
   },
   {
    "duration": 16,
    "start_time": "2021-12-08T08:29:58.587Z"
   },
   {
    "duration": 55,
    "start_time": "2021-12-08T08:29:58.606Z"
   },
   {
    "duration": 6,
    "start_time": "2021-12-08T08:29:58.664Z"
   },
   {
    "duration": 28,
    "start_time": "2021-12-08T08:29:58.673Z"
   },
   {
    "duration": 18,
    "start_time": "2021-12-08T08:29:58.704Z"
   },
   {
    "duration": 26,
    "start_time": "2021-12-08T08:29:58.760Z"
   },
   {
    "duration": 19,
    "start_time": "2021-12-08T08:29:58.789Z"
   },
   {
    "duration": 50,
    "start_time": "2021-12-08T08:29:58.811Z"
   },
   {
    "duration": 7,
    "start_time": "2021-12-08T08:29:58.864Z"
   },
   {
    "duration": 13,
    "start_time": "2021-12-08T08:29:58.874Z"
   },
   {
    "duration": 9,
    "start_time": "2021-12-08T08:29:58.890Z"
   },
   {
    "duration": 934,
    "start_time": "2021-12-08T18:03:50.669Z"
   },
   {
    "duration": 231,
    "start_time": "2021-12-08T18:03:51.607Z"
   },
   {
    "duration": 29,
    "start_time": "2021-12-08T18:03:51.844Z"
   },
   {
    "duration": 68,
    "start_time": "2021-12-08T18:03:51.876Z"
   },
   {
    "duration": 7,
    "start_time": "2021-12-08T18:03:51.947Z"
   },
   {
    "duration": 29,
    "start_time": "2021-12-08T18:03:51.957Z"
   },
   {
    "duration": 7,
    "start_time": "2021-12-08T18:03:52.018Z"
   },
   {
    "duration": 34,
    "start_time": "2021-12-08T18:03:52.030Z"
   },
   {
    "duration": 64,
    "start_time": "2021-12-08T18:03:52.067Z"
   },
   {
    "duration": 31,
    "start_time": "2021-12-08T18:03:52.134Z"
   },
   {
    "duration": 117,
    "start_time": "2021-12-08T18:03:52.168Z"
   },
   {
    "duration": 117,
    "start_time": "2021-12-08T18:03:52.288Z"
   },
   {
    "duration": 87,
    "start_time": "2021-12-08T18:03:52.407Z"
   },
   {
    "duration": 70,
    "start_time": "2021-12-08T18:03:52.497Z"
   },
   {
    "duration": 3,
    "start_time": "2021-12-08T18:03:52.570Z"
   },
   {
    "duration": 19,
    "start_time": "2021-12-08T18:03:52.576Z"
   },
   {
    "duration": 59,
    "start_time": "2021-12-08T18:03:52.617Z"
   },
   {
    "duration": 39,
    "start_time": "2021-12-08T18:03:52.679Z"
   },
   {
    "duration": 77,
    "start_time": "2021-12-08T18:03:52.721Z"
   },
   {
    "duration": 18,
    "start_time": "2021-12-08T18:03:52.800Z"
   },
   {
    "duration": 29,
    "start_time": "2021-12-08T18:03:52.821Z"
   },
   {
    "duration": 20,
    "start_time": "2021-12-08T18:03:52.852Z"
   },
   {
    "duration": 52,
    "start_time": "2021-12-08T18:03:52.875Z"
   },
   {
    "duration": 26,
    "start_time": "2021-12-08T18:03:52.930Z"
   },
   {
    "duration": 22,
    "start_time": "2021-12-08T18:03:52.958Z"
   },
   {
    "duration": 49,
    "start_time": "2021-12-08T18:03:52.985Z"
   },
   {
    "duration": 13,
    "start_time": "2021-12-08T18:03:53.037Z"
   },
   {
    "duration": 19,
    "start_time": "2021-12-08T18:03:53.052Z"
   },
   {
    "duration": 12,
    "start_time": "2021-12-08T18:03:53.074Z"
   },
   {
    "duration": 5,
    "start_time": "2021-12-08T18:03:53.118Z"
   },
   {
    "duration": 32,
    "start_time": "2021-12-08T18:03:53.125Z"
   },
   {
    "duration": 18,
    "start_time": "2021-12-08T18:03:53.160Z"
   },
   {
    "duration": 52,
    "start_time": "2021-12-08T18:03:53.181Z"
   },
   {
    "duration": 19,
    "start_time": "2021-12-08T18:03:53.236Z"
   },
   {
    "duration": 12,
    "start_time": "2021-12-08T18:03:53.257Z"
   },
   {
    "duration": 46,
    "start_time": "2021-12-08T18:03:53.272Z"
   },
   {
    "duration": 8,
    "start_time": "2021-12-08T18:03:53.320Z"
   },
   {
    "duration": 12,
    "start_time": "2021-12-08T18:03:53.331Z"
   }
  ],
  "colab": {
   "collapsed_sections": [
    "E0vqbgi9ay0H",
    "VUC88oWjTJw2"
   ],
   "name": "yandex_music_project_2021.2.ipynb",
   "provenance": []
  },
  "kernelspec": {
   "display_name": "Python 3 (ipykernel)",
   "language": "python",
   "name": "python3"
  },
  "language_info": {
   "codemirror_mode": {
    "name": "ipython",
    "version": 3
   },
   "file_extension": ".py",
   "mimetype": "text/x-python",
   "name": "python",
   "nbconvert_exporter": "python",
   "pygments_lexer": "ipython3",
   "version": "3.9.5"
  },
  "toc": {
   "base_numbering": 1,
   "nav_menu": {},
   "number_sections": true,
   "sideBar": true,
   "skip_h1_title": true,
   "title_cell": "Table of Contents",
   "title_sidebar": "Contents",
   "toc_cell": false,
   "toc_position": {
    "height": "calc(100% - 180px)",
    "left": "10px",
    "top": "150px",
    "width": "330.391px"
   },
   "toc_section_display": true,
   "toc_window_display": true
  }
 },
 "nbformat": 4,
 "nbformat_minor": 1
}
