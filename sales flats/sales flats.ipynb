{
 "cells": [
  {
   "cell_type": "markdown",
   "metadata": {
    "toc": true
   },
   "source": [
    "<h1>Содержание<span class=\"tocSkip\"></span></h1>\n",
    "<div class=\"toc\"><ul class=\"toc-item\"><li><span><a href=\"#Изучение-данных-из-файла\" data-toc-modified-id=\"Изучение-данных-из-файла-1\"><span class=\"toc-item-num\">1&nbsp;&nbsp;</span>Изучение данных из файла</a></span><ul class=\"toc-item\"><li><span><a href=\"#Вывод\" data-toc-modified-id=\"Вывод-1.1\"><span class=\"toc-item-num\">1.1&nbsp;&nbsp;</span>Вывод</a></span></li></ul></li><li><span><a href=\"#Предобработка-данных\" data-toc-modified-id=\"Предобработка-данных-2\"><span class=\"toc-item-num\">2&nbsp;&nbsp;</span>Предобработка данных</a></span><ul class=\"toc-item\"><li><span><a href=\"#работа-с-пропусками\" data-toc-modified-id=\"работа-с-пропусками-2.1\"><span class=\"toc-item-num\">2.1&nbsp;&nbsp;</span>работа с пропусками</a></span><ul class=\"toc-item\"><li><span><a href=\"#пропуски-высоты-потолков\" data-toc-modified-id=\"пропуски-высоты-потолков-2.1.1\"><span class=\"toc-item-num\">2.1.1&nbsp;&nbsp;</span>пропуски высоты потолков</a></span></li><li><span><a href=\"#пропуски-этажности-здания\" data-toc-modified-id=\"пропуски-этажности-здания-2.1.2\"><span class=\"toc-item-num\">2.1.2&nbsp;&nbsp;</span>пропуски этажности здания</a></span></li><li><span><a href=\"#пропуски-жилой-площади-и-площади-кухни\" data-toc-modified-id=\"пропуски-жилой-площади-и-площади-кухни-2.1.3\"><span class=\"toc-item-num\">2.1.3&nbsp;&nbsp;</span>пропуски жилой площади и площади кухни</a></span></li><li><span><a href=\"#пропуски-данных-о-балконе\" data-toc-modified-id=\"пропуски-данных-о-балконе-2.1.4\"><span class=\"toc-item-num\">2.1.4&nbsp;&nbsp;</span>пропуски данных о балконе</a></span></li><li><span><a href=\"#пропуски-с-названием-населенного-пункта-(locality_name)\" data-toc-modified-id=\"пропуски-с-названием-населенного-пункта-(locality_name)-2.1.5\"><span class=\"toc-item-num\">2.1.5&nbsp;&nbsp;</span>пропуски с названием населенного пункта (locality_name)</a></span></li><li><span><a href=\"#пропуски-является-квартира-апартаментами-(is_apartment)\" data-toc-modified-id=\"пропуски-является-квартира-апартаментами-(is_apartment)-2.1.6\"><span class=\"toc-item-num\">2.1.6&nbsp;&nbsp;</span>пропуски является квартира апартаментами (is_apartment)</a></span></li><li><span><a href=\"#пропуски-в-расстоянии-до-аэропорта-(airports_nearest)-и-до-центра-города-(cityCenters_nearest)\" data-toc-modified-id=\"пропуски-в-расстоянии-до-аэропорта-(airports_nearest)-и-до-центра-города-(cityCenters_nearest)-2.1.7\"><span class=\"toc-item-num\">2.1.7&nbsp;&nbsp;</span>пропуски в расстоянии до аэропорта (airports_nearest) и до центра города (cityCenters_nearest)</a></span></li><li><span><a href=\"#Пропуски-данных-о-парках---количество-парков-на-расттоянии-3000-метров-(parks_around3000)-и-расстояние-до-ближайшего-парка-(parks_nearest).\" data-toc-modified-id=\"Пропуски-данных-о-парках---количество-парков-на-расттоянии-3000-метров-(parks_around3000)-и-расстояние-до-ближайшего-парка-(parks_nearest).-2.1.8\"><span class=\"toc-item-num\">2.1.8&nbsp;&nbsp;</span>Пропуски данных о парках - количество парков на расттоянии 3000 метров (parks_around3000) и расстояние до ближайшего парка (parks_nearest).</a></span></li><li><span><a href=\"#Пропуски-данных-о-водоемах----количество-водоемов-на-расстоянии-3000-метров-(ponds_around3000)-и-расстояние-до-ближайшего-водоема-(ponds_nearest)\" data-toc-modified-id=\"Пропуски-данных-о-водоемах----количество-водоемов-на-расстоянии-3000-метров-(ponds_around3000)-и-расстояние-до-ближайшего-водоема-(ponds_nearest)-2.1.9\"><span class=\"toc-item-num\">2.1.9&nbsp;&nbsp;</span>Пропуски данных о водоемах -  количество водоемов на расстоянии 3000 метров (ponds_around3000) и расстояние до ближайшего водоема (ponds_nearest)</a></span></li><li><span><a href=\"#Пропуски-сколько-дней-висит-объявление-(days_exposition)\" data-toc-modified-id=\"Пропуски-сколько-дней-висит-объявление-(days_exposition)-2.1.10\"><span class=\"toc-item-num\">2.1.10&nbsp;&nbsp;</span>Пропуски сколько дней висит объявление (days_exposition)</a></span></li></ul></li><li><span><a href=\"#работа-с-типами-данных\" data-toc-modified-id=\"работа-с-типами-данных-2.2\"><span class=\"toc-item-num\">2.2&nbsp;&nbsp;</span>работа с типами данных</a></span></li></ul></li><li><span><a href=\"#Расчёты-и-добавление-результатов-в-таблицу\" data-toc-modified-id=\"Расчёты-и-добавление-результатов-в-таблицу-3\"><span class=\"toc-item-num\">3&nbsp;&nbsp;</span>Расчёты и добавление результатов в таблицу</a></span><ul class=\"toc-item\"><li><span><a href=\"#цена-квадратного-метра\" data-toc-modified-id=\"цена-квадратного-метра-3.1\"><span class=\"toc-item-num\">3.1&nbsp;&nbsp;</span>цена квадратного метра</a></span></li><li><span><a href=\"#день-недели,-месяц-и-год-публикации-объявления\" data-toc-modified-id=\"день-недели,-месяц-и-год-публикации-объявления-3.2\"><span class=\"toc-item-num\">3.2&nbsp;&nbsp;</span>день недели, месяц и год публикации объявления</a></span></li><li><span><a href=\"#этаж-квартиры;-варианты-—-первый,-последний,-другой\" data-toc-modified-id=\"этаж-квартиры;-варианты-—-первый,-последний,-другой-3.3\"><span class=\"toc-item-num\">3.3&nbsp;&nbsp;</span>этаж квартиры; варианты — первый, последний, другой</a></span></li><li><span><a href=\"#соотношение-жилой-и-общей-площади,-а-также-отношение-площади-кухни-к-общей\" data-toc-modified-id=\"соотношение-жилой-и-общей-площади,-а-также-отношение-площади-кухни-к-общей-3.4\"><span class=\"toc-item-num\">3.4&nbsp;&nbsp;</span>соотношение жилой и общей площади, а также отношение площади кухни к общей</a></span></li></ul></li><li><span><a href=\"#Исследовательский-анализ-данных\" data-toc-modified-id=\"Исследовательский-анализ-данных-4\"><span class=\"toc-item-num\">4&nbsp;&nbsp;</span>Исследовательский анализ данных</a></span><ul class=\"toc-item\"><li><span><a href=\"#Изучим-общую-площадь\" data-toc-modified-id=\"Изучим-общую-площадь-4.1\"><span class=\"toc-item-num\">4.1&nbsp;&nbsp;</span>Изучим общую площадь</a></span></li><li><span><a href=\"#Изучим-цены-на-квартиры\" data-toc-modified-id=\"Изучим-цены-на-квартиры-4.2\"><span class=\"toc-item-num\">4.2&nbsp;&nbsp;</span>Изучим цены на квартиры</a></span></li><li><span><a href=\"#Изучим-число-комнат-в-квартирах\" data-toc-modified-id=\"Изучим-число-комнат-в-квартирах-4.3\"><span class=\"toc-item-num\">4.3&nbsp;&nbsp;</span>Изучим число комнат в квартирах</a></span></li><li><span><a href=\"#Изучим-высоту-потолков.\" data-toc-modified-id=\"Изучим-высоту-потолков.-4.4\"><span class=\"toc-item-num\">4.4&nbsp;&nbsp;</span>Изучим высоту потолков.</a></span></li><li><span><a href=\"#Изучим-время-продажи-квартиры.\" data-toc-modified-id=\"Изучим-время-продажи-квартиры.-4.5\"><span class=\"toc-item-num\">4.5&nbsp;&nbsp;</span>Изучим время продажи квартиры.</a></span></li><li><span><a href=\"#Уберем-редкие-и-выбивающиеся-значения.\" data-toc-modified-id=\"Уберем-редкие-и-выбивающиеся-значения.-4.6\"><span class=\"toc-item-num\">4.6&nbsp;&nbsp;</span>Уберем редкие и выбивающиеся значения.</a></span></li><li><span><a href=\"#Изучим-зависимость-цены-квадратного-метра-от-общей-площади-квартиры.\" data-toc-modified-id=\"Изучим-зависимость-цены-квадратного-метра-от-общей-площади-квартиры.-4.7\"><span class=\"toc-item-num\">4.7&nbsp;&nbsp;</span>Изучим зависимость цены квадратного метра от общей площади квартиры.</a></span></li><li><span><a href=\"#Изучим-зависимость-цены-квадратного-метра-от-числа-комнат.\" data-toc-modified-id=\"Изучим-зависимость-цены-квадратного-метра-от-числа-комнат.-4.8\"><span class=\"toc-item-num\">4.8&nbsp;&nbsp;</span>Изучим зависимость цены квадратного метра от числа комнат.</a></span></li><li><span><a href=\"#Изучим-зависимость-цены-квадратного-метра-от-этажа-(первого-или-последнего).\" data-toc-modified-id=\"Изучим-зависимость-цены-квадратного-метра-от-этажа-(первого-или-последнего).-4.9\"><span class=\"toc-item-num\">4.9&nbsp;&nbsp;</span>Изучим зависимость цены квадратного метра от этажа (первого или последнего).</a></span></li><li><span><a href=\"#Изучим-зависимость-цены-квадратного-метра-от-удалённости-от-центра.\" data-toc-modified-id=\"Изучим-зависимость-цены-квадратного-метра-от-удалённости-от-центра.-4.10\"><span class=\"toc-item-num\">4.10&nbsp;&nbsp;</span>Изучим зависимость цены квадратного метра от удалённости от центра.</a></span></li><li><span><a href=\"#изучим-зависимость-от-даты-размещения\" data-toc-modified-id=\"изучим-зависимость-от-даты-размещения-4.11\"><span class=\"toc-item-num\">4.11&nbsp;&nbsp;</span>изучим зависимость от даты размещения</a></span></li><li><span><a href=\"#Выберем-10-населённых-пунктов-с-наибольшим-числом-объявлений.\" data-toc-modified-id=\"Выберем-10-населённых-пунктов-с-наибольшим-числом-объявлений.-4.12\"><span class=\"toc-item-num\">4.12&nbsp;&nbsp;</span>Выберем 10 населённых пунктов с наибольшим числом объявлений.</a></span><ul class=\"toc-item\"><li><span><a href=\"#Самая-высокая-стоимость-жилья.\" data-toc-modified-id=\"Самая-высокая-стоимость-жилья.-4.12.1\"><span class=\"toc-item-num\">4.12.1&nbsp;&nbsp;</span>Самая высокая стоимость жилья.</a></span></li><li><span><a href=\"#Самая-низкая-стоимость\" data-toc-modified-id=\"Самая-низкая-стоимость-4.12.2\"><span class=\"toc-item-num\">4.12.2&nbsp;&nbsp;</span>Самая низкая стоимость</a></span></li></ul></li><li><span><a href=\"#Как-именно-цена-зависит-от-удалённости-от-центра.\" data-toc-modified-id=\"Как-именно-цена-зависит-от-удалённости-от-центра.-4.13\"><span class=\"toc-item-num\">4.13&nbsp;&nbsp;</span>Как именно цена зависит от удалённости от центра.</a></span></li><li><span><a href=\"#Выделим-сегмент-квартир-в-центре-и-проанализируем-эту-территорию\" data-toc-modified-id=\"Выделим-сегмент-квартир-в-центре-и-проанализируем-эту-территорию-4.14\"><span class=\"toc-item-num\">4.14&nbsp;&nbsp;</span>Выделим сегмент квартир в центре и проанализируем эту территорию</a></span><ul class=\"toc-item\"><li><span><a href=\"#Зависимость-стоимости-квадратного-метра-от-количества-комнат.\" data-toc-modified-id=\"Зависимость-стоимости-квадратного-метра-от-количества-комнат.-4.14.1\"><span class=\"toc-item-num\">4.14.1&nbsp;&nbsp;</span>Зависимость стоимости квадратного метра от количества комнат.</a></span></li><li><span><a href=\"#Зависимость-стоимости-квадратного-метра-от-этажа.\" data-toc-modified-id=\"Зависимость-стоимости-квадратного-метра-от-этажа.-4.14.2\"><span class=\"toc-item-num\">4.14.2&nbsp;&nbsp;</span>Зависимость стоимости квадратного метра от этажа.</a></span></li><li><span><a href=\"#Зависимость-стоимости-квадратного-метра-от-удаленности-от-центра.\" data-toc-modified-id=\"Зависимость-стоимости-квадратного-метра-от-удаленности-от-центра.-4.14.3\"><span class=\"toc-item-num\">4.14.3&nbsp;&nbsp;</span>Зависимость стоимости квадратного метра от удаленности от центра.</a></span></li><li><span><a href=\"#Зависимость-стоимости-квадратного-метра-от-дня-недели-размещения-объявления.\" data-toc-modified-id=\"Зависимость-стоимости-квадратного-метра-от-дня-недели-размещения-объявления.-4.14.4\"><span class=\"toc-item-num\">4.14.4&nbsp;&nbsp;</span>Зависимость стоимости квадратного метра от дня недели размещения объявления.</a></span></li><li><span><a href=\"#Зависимость-стоимости-квадратного-метра-от-месяца-размещения-объявления.\" data-toc-modified-id=\"Зависимость-стоимости-квадратного-метра-от-месяца-размещения-объявления.-4.14.5\"><span class=\"toc-item-num\">4.14.5&nbsp;&nbsp;</span>Зависимость стоимости квадратного метра от месяца размещения объявления.</a></span></li><li><span><a href=\"#Зависимость-стоимости-квадратного-метра-от-года-размещения-объявления.\" data-toc-modified-id=\"Зависимость-стоимости-квадратного-метра-от-года-размещения-объявления.-4.14.6\"><span class=\"toc-item-num\">4.14.6&nbsp;&nbsp;</span>Зависимость стоимости квадратного метра от года размещения объявления.</a></span></li></ul></li></ul></li><li><span><a href=\"#Общий-вывод\" data-toc-modified-id=\"Общий-вывод-5\"><span class=\"toc-item-num\">5&nbsp;&nbsp;</span>Общий вывод</a></span></li><li><span><a href=\"#Чек-лист-готовности-проекта\" data-toc-modified-id=\"Чек-лист-готовности-проекта-6\"><span class=\"toc-item-num\">6&nbsp;&nbsp;</span>Чек-лист готовности проекта</a></span></li></ul></div>"
   ]
  },
  {
   "cell_type": "markdown",
   "metadata": {},
   "source": [
    "# Исследование объявлений о продаже квартир\n",
    "\n",
    "В вашем распоряжении данные сервиса Яндекс.Недвижимость — архив объявлений о продаже квартир в Санкт-Петербурге и соседних населённых пунктах за несколько лет. Нужно научиться определять рыночную стоимость объектов недвижимости. Ваша задача — установить параметры. Это позволит построить автоматизированную систему: она отследит аномалии и мошенническую деятельность. \n",
    "\n",
    "По каждой квартире на продажу доступны два вида данных. Первые вписаны пользователем, вторые получены автоматически на основе картографических данных. Например, расстояние до центра, аэропорта, ближайшего парка и водоёма. "
   ]
  },
  {
   "cell_type": "markdown",
   "metadata": {},
   "source": [
    "<div class=\"alert alert-block alert-success\">\n",
    "<b>Success:</b> отличное введение в работу!"
   ]
  },
  {
   "cell_type": "markdown",
   "metadata": {},
   "source": [
    "## Изучение данных из файла"
   ]
  },
  {
   "cell_type": "markdown",
   "metadata": {},
   "source": [
    "Выведем первые строки таблицы методом head():"
   ]
  },
  {
   "cell_type": "code",
   "execution_count": 1,
   "metadata": {},
   "outputs": [],
   "source": [
    "import pandas as pd\n",
    "import matplotlib.pyplot as plt\n",
    "import seaborn as sns\n",
    "from pymystem3 import Mystem\n",
    "m = Mystem()\n",
    "from collections import Counter"
   ]
  },
  {
   "cell_type": "code",
   "execution_count": 2,
   "metadata": {},
   "outputs": [
    {
     "name": "stdout",
     "output_type": "stream",
     "text": [
      "  total_images\\tlast_price\\ttotal_area\\tfirst_day_exposition\\trooms\\tceiling_height\\tfloors_total\\tliving_area\\tfloor\\tis_apartment\\tstudio\\topen_plan\\tkitchen_area\\tbalcony\\tlocality_name\\tairports_nearest\\tcityCenters_nearest\\tparks_around3000\\tparks_nearest\\tponds_around3000\\tponds_nearest\\tdays_exposition\n",
      "0  20\\t13000000.0\\t108.0\\t2019-03-07T00:00:00\\t3\\...                                                                                                                                                                                                                                                                  \n",
      "1  7\\t3350000.0\\t40.4\\t2018-12-04T00:00:00\\t1\\t\\t...                                                                                                                                                                                                                                                                  \n",
      "2  10\\t5196000.0\\t56.0\\t2015-08-20T00:00:00\\t2\\t\\...                                                                                                                                                                                                                                                                  \n",
      "3  0\\t64900000.0\\t159.0\\t2015-07-24T00:00:00\\t3\\t...                                                                                                                                                                                                                                                                  \n",
      "4  2\\t10000000.0\\t100.0\\t2018-06-19T00:00:00\\t2\\t...                                                                                                                                                                                                                                                                  \n"
     ]
    }
   ],
   "source": [
    "data = pd.read_csv('/datasets/real_estate_data.csv')\n",
    "print(data.head()) "
   ]
  },
  {
   "cell_type": "markdown",
   "metadata": {},
   "source": [
    "Данные склеились в одну строку вместо того, чтобы разбиться по колонкам. "
   ]
  },
  {
   "cell_type": "markdown",
   "metadata": {},
   "source": [
    "Прочитаем файл real_estate_data.csv из папки /datasets/, указав в качестве разделителя знак табуляции \\t"
   ]
  },
  {
   "cell_type": "code",
   "execution_count": 3,
   "metadata": {},
   "outputs": [
    {
     "data": {
      "text/html": [
       "<div>\n",
       "<style scoped>\n",
       "    .dataframe tbody tr th:only-of-type {\n",
       "        vertical-align: middle;\n",
       "    }\n",
       "\n",
       "    .dataframe tbody tr th {\n",
       "        vertical-align: top;\n",
       "    }\n",
       "\n",
       "    .dataframe thead th {\n",
       "        text-align: right;\n",
       "    }\n",
       "</style>\n",
       "<table border=\"1\" class=\"dataframe\">\n",
       "  <thead>\n",
       "    <tr style=\"text-align: right;\">\n",
       "      <th></th>\n",
       "      <th>total_images</th>\n",
       "      <th>last_price</th>\n",
       "      <th>total_area</th>\n",
       "      <th>first_day_exposition</th>\n",
       "      <th>rooms</th>\n",
       "      <th>ceiling_height</th>\n",
       "      <th>floors_total</th>\n",
       "      <th>living_area</th>\n",
       "      <th>floor</th>\n",
       "      <th>is_apartment</th>\n",
       "      <th>...</th>\n",
       "      <th>kitchen_area</th>\n",
       "      <th>balcony</th>\n",
       "      <th>locality_name</th>\n",
       "      <th>airports_nearest</th>\n",
       "      <th>cityCenters_nearest</th>\n",
       "      <th>parks_around3000</th>\n",
       "      <th>parks_nearest</th>\n",
       "      <th>ponds_around3000</th>\n",
       "      <th>ponds_nearest</th>\n",
       "      <th>days_exposition</th>\n",
       "    </tr>\n",
       "  </thead>\n",
       "  <tbody>\n",
       "    <tr>\n",
       "      <td>0</td>\n",
       "      <td>20</td>\n",
       "      <td>13000000.0</td>\n",
       "      <td>108.0</td>\n",
       "      <td>2019-03-07T00:00:00</td>\n",
       "      <td>3</td>\n",
       "      <td>2.70</td>\n",
       "      <td>16.0</td>\n",
       "      <td>51.0</td>\n",
       "      <td>8</td>\n",
       "      <td>NaN</td>\n",
       "      <td>...</td>\n",
       "      <td>25.0</td>\n",
       "      <td>NaN</td>\n",
       "      <td>Санкт-Петербург</td>\n",
       "      <td>18863.0</td>\n",
       "      <td>16028.0</td>\n",
       "      <td>1.0</td>\n",
       "      <td>482.0</td>\n",
       "      <td>2.0</td>\n",
       "      <td>755.0</td>\n",
       "      <td>NaN</td>\n",
       "    </tr>\n",
       "    <tr>\n",
       "      <td>1</td>\n",
       "      <td>7</td>\n",
       "      <td>3350000.0</td>\n",
       "      <td>40.4</td>\n",
       "      <td>2018-12-04T00:00:00</td>\n",
       "      <td>1</td>\n",
       "      <td>NaN</td>\n",
       "      <td>11.0</td>\n",
       "      <td>18.6</td>\n",
       "      <td>1</td>\n",
       "      <td>NaN</td>\n",
       "      <td>...</td>\n",
       "      <td>11.0</td>\n",
       "      <td>2.0</td>\n",
       "      <td>посёлок Шушары</td>\n",
       "      <td>12817.0</td>\n",
       "      <td>18603.0</td>\n",
       "      <td>0.0</td>\n",
       "      <td>NaN</td>\n",
       "      <td>0.0</td>\n",
       "      <td>NaN</td>\n",
       "      <td>81.0</td>\n",
       "    </tr>\n",
       "    <tr>\n",
       "      <td>2</td>\n",
       "      <td>10</td>\n",
       "      <td>5196000.0</td>\n",
       "      <td>56.0</td>\n",
       "      <td>2015-08-20T00:00:00</td>\n",
       "      <td>2</td>\n",
       "      <td>NaN</td>\n",
       "      <td>5.0</td>\n",
       "      <td>34.3</td>\n",
       "      <td>4</td>\n",
       "      <td>NaN</td>\n",
       "      <td>...</td>\n",
       "      <td>8.3</td>\n",
       "      <td>0.0</td>\n",
       "      <td>Санкт-Петербург</td>\n",
       "      <td>21741.0</td>\n",
       "      <td>13933.0</td>\n",
       "      <td>1.0</td>\n",
       "      <td>90.0</td>\n",
       "      <td>2.0</td>\n",
       "      <td>574.0</td>\n",
       "      <td>558.0</td>\n",
       "    </tr>\n",
       "    <tr>\n",
       "      <td>3</td>\n",
       "      <td>0</td>\n",
       "      <td>64900000.0</td>\n",
       "      <td>159.0</td>\n",
       "      <td>2015-07-24T00:00:00</td>\n",
       "      <td>3</td>\n",
       "      <td>NaN</td>\n",
       "      <td>14.0</td>\n",
       "      <td>NaN</td>\n",
       "      <td>9</td>\n",
       "      <td>NaN</td>\n",
       "      <td>...</td>\n",
       "      <td>NaN</td>\n",
       "      <td>0.0</td>\n",
       "      <td>Санкт-Петербург</td>\n",
       "      <td>28098.0</td>\n",
       "      <td>6800.0</td>\n",
       "      <td>2.0</td>\n",
       "      <td>84.0</td>\n",
       "      <td>3.0</td>\n",
       "      <td>234.0</td>\n",
       "      <td>424.0</td>\n",
       "    </tr>\n",
       "    <tr>\n",
       "      <td>4</td>\n",
       "      <td>2</td>\n",
       "      <td>10000000.0</td>\n",
       "      <td>100.0</td>\n",
       "      <td>2018-06-19T00:00:00</td>\n",
       "      <td>2</td>\n",
       "      <td>3.03</td>\n",
       "      <td>14.0</td>\n",
       "      <td>32.0</td>\n",
       "      <td>13</td>\n",
       "      <td>NaN</td>\n",
       "      <td>...</td>\n",
       "      <td>41.0</td>\n",
       "      <td>NaN</td>\n",
       "      <td>Санкт-Петербург</td>\n",
       "      <td>31856.0</td>\n",
       "      <td>8098.0</td>\n",
       "      <td>2.0</td>\n",
       "      <td>112.0</td>\n",
       "      <td>1.0</td>\n",
       "      <td>48.0</td>\n",
       "      <td>121.0</td>\n",
       "    </tr>\n",
       "  </tbody>\n",
       "</table>\n",
       "<p>5 rows × 22 columns</p>\n",
       "</div>"
      ],
      "text/plain": [
       "   total_images  last_price  total_area first_day_exposition  rooms  \\\n",
       "0            20  13000000.0       108.0  2019-03-07T00:00:00      3   \n",
       "1             7   3350000.0        40.4  2018-12-04T00:00:00      1   \n",
       "2            10   5196000.0        56.0  2015-08-20T00:00:00      2   \n",
       "3             0  64900000.0       159.0  2015-07-24T00:00:00      3   \n",
       "4             2  10000000.0       100.0  2018-06-19T00:00:00      2   \n",
       "\n",
       "   ceiling_height  floors_total  living_area  floor is_apartment  ...  \\\n",
       "0            2.70          16.0         51.0      8          NaN  ...   \n",
       "1             NaN          11.0         18.6      1          NaN  ...   \n",
       "2             NaN           5.0         34.3      4          NaN  ...   \n",
       "3             NaN          14.0          NaN      9          NaN  ...   \n",
       "4            3.03          14.0         32.0     13          NaN  ...   \n",
       "\n",
       "   kitchen_area  balcony    locality_name  airports_nearest  \\\n",
       "0          25.0      NaN  Санкт-Петербург           18863.0   \n",
       "1          11.0      2.0   посёлок Шушары           12817.0   \n",
       "2           8.3      0.0  Санкт-Петербург           21741.0   \n",
       "3           NaN      0.0  Санкт-Петербург           28098.0   \n",
       "4          41.0      NaN  Санкт-Петербург           31856.0   \n",
       "\n",
       "  cityCenters_nearest  parks_around3000  parks_nearest  ponds_around3000  \\\n",
       "0             16028.0               1.0          482.0               2.0   \n",
       "1             18603.0               0.0            NaN               0.0   \n",
       "2             13933.0               1.0           90.0               2.0   \n",
       "3              6800.0               2.0           84.0               3.0   \n",
       "4              8098.0               2.0          112.0               1.0   \n",
       "\n",
       "   ponds_nearest  days_exposition  \n",
       "0          755.0              NaN  \n",
       "1            NaN             81.0  \n",
       "2          574.0            558.0  \n",
       "3          234.0            424.0  \n",
       "4           48.0            121.0  \n",
       "\n",
       "[5 rows x 22 columns]"
      ]
     },
     "execution_count": 3,
     "metadata": {},
     "output_type": "execute_result"
    }
   ],
   "source": [
    "data = pd.read_csv('/datasets/real_estate_data.csv', sep='\\t') \n",
    "data.head()"
   ]
  },
  {
   "cell_type": "code",
   "execution_count": 4,
   "metadata": {},
   "outputs": [
    {
     "data": {
      "text/html": [
       "<div>\n",
       "<style scoped>\n",
       "    .dataframe tbody tr th:only-of-type {\n",
       "        vertical-align: middle;\n",
       "    }\n",
       "\n",
       "    .dataframe tbody tr th {\n",
       "        vertical-align: top;\n",
       "    }\n",
       "\n",
       "    .dataframe thead th {\n",
       "        text-align: right;\n",
       "    }\n",
       "</style>\n",
       "<table border=\"1\" class=\"dataframe\">\n",
       "  <thead>\n",
       "    <tr style=\"text-align: right;\">\n",
       "      <th></th>\n",
       "      <th>count</th>\n",
       "      <th>mean</th>\n",
       "      <th>std</th>\n",
       "      <th>min</th>\n",
       "      <th>25%</th>\n",
       "      <th>50%</th>\n",
       "      <th>75%</th>\n",
       "      <th>max</th>\n",
       "    </tr>\n",
       "  </thead>\n",
       "  <tbody>\n",
       "    <tr>\n",
       "      <td>total_images</td>\n",
       "      <td>23699.0</td>\n",
       "      <td>9.858475e+00</td>\n",
       "      <td>5.682529e+00</td>\n",
       "      <td>0.0</td>\n",
       "      <td>6.00</td>\n",
       "      <td>9.00</td>\n",
       "      <td>14.0</td>\n",
       "      <td>50.0</td>\n",
       "    </tr>\n",
       "    <tr>\n",
       "      <td>last_price</td>\n",
       "      <td>23699.0</td>\n",
       "      <td>6.541549e+06</td>\n",
       "      <td>1.088701e+07</td>\n",
       "      <td>12190.0</td>\n",
       "      <td>3400000.00</td>\n",
       "      <td>4650000.00</td>\n",
       "      <td>6800000.0</td>\n",
       "      <td>763000000.0</td>\n",
       "    </tr>\n",
       "    <tr>\n",
       "      <td>total_area</td>\n",
       "      <td>23699.0</td>\n",
       "      <td>6.034865e+01</td>\n",
       "      <td>3.565408e+01</td>\n",
       "      <td>12.0</td>\n",
       "      <td>40.00</td>\n",
       "      <td>52.00</td>\n",
       "      <td>69.9</td>\n",
       "      <td>900.0</td>\n",
       "    </tr>\n",
       "    <tr>\n",
       "      <td>rooms</td>\n",
       "      <td>23699.0</td>\n",
       "      <td>2.070636e+00</td>\n",
       "      <td>1.078405e+00</td>\n",
       "      <td>0.0</td>\n",
       "      <td>1.00</td>\n",
       "      <td>2.00</td>\n",
       "      <td>3.0</td>\n",
       "      <td>19.0</td>\n",
       "    </tr>\n",
       "    <tr>\n",
       "      <td>ceiling_height</td>\n",
       "      <td>14504.0</td>\n",
       "      <td>2.771499e+00</td>\n",
       "      <td>1.261056e+00</td>\n",
       "      <td>1.0</td>\n",
       "      <td>2.52</td>\n",
       "      <td>2.65</td>\n",
       "      <td>2.8</td>\n",
       "      <td>100.0</td>\n",
       "    </tr>\n",
       "    <tr>\n",
       "      <td>floors_total</td>\n",
       "      <td>23613.0</td>\n",
       "      <td>1.067382e+01</td>\n",
       "      <td>6.597173e+00</td>\n",
       "      <td>1.0</td>\n",
       "      <td>5.00</td>\n",
       "      <td>9.00</td>\n",
       "      <td>16.0</td>\n",
       "      <td>60.0</td>\n",
       "    </tr>\n",
       "    <tr>\n",
       "      <td>living_area</td>\n",
       "      <td>21796.0</td>\n",
       "      <td>3.445785e+01</td>\n",
       "      <td>2.203045e+01</td>\n",
       "      <td>2.0</td>\n",
       "      <td>18.60</td>\n",
       "      <td>30.00</td>\n",
       "      <td>42.3</td>\n",
       "      <td>409.7</td>\n",
       "    </tr>\n",
       "    <tr>\n",
       "      <td>floor</td>\n",
       "      <td>23699.0</td>\n",
       "      <td>5.892358e+00</td>\n",
       "      <td>4.885249e+00</td>\n",
       "      <td>1.0</td>\n",
       "      <td>2.00</td>\n",
       "      <td>4.00</td>\n",
       "      <td>8.0</td>\n",
       "      <td>33.0</td>\n",
       "    </tr>\n",
       "    <tr>\n",
       "      <td>kitchen_area</td>\n",
       "      <td>21421.0</td>\n",
       "      <td>1.056981e+01</td>\n",
       "      <td>5.905438e+00</td>\n",
       "      <td>1.3</td>\n",
       "      <td>7.00</td>\n",
       "      <td>9.10</td>\n",
       "      <td>12.0</td>\n",
       "      <td>112.0</td>\n",
       "    </tr>\n",
       "    <tr>\n",
       "      <td>balcony</td>\n",
       "      <td>12180.0</td>\n",
       "      <td>1.150082e+00</td>\n",
       "      <td>1.071300e+00</td>\n",
       "      <td>0.0</td>\n",
       "      <td>0.00</td>\n",
       "      <td>1.00</td>\n",
       "      <td>2.0</td>\n",
       "      <td>5.0</td>\n",
       "    </tr>\n",
       "    <tr>\n",
       "      <td>airports_nearest</td>\n",
       "      <td>18157.0</td>\n",
       "      <td>2.879367e+04</td>\n",
       "      <td>1.263088e+04</td>\n",
       "      <td>0.0</td>\n",
       "      <td>18585.00</td>\n",
       "      <td>26726.00</td>\n",
       "      <td>37273.0</td>\n",
       "      <td>84869.0</td>\n",
       "    </tr>\n",
       "    <tr>\n",
       "      <td>cityCenters_nearest</td>\n",
       "      <td>18180.0</td>\n",
       "      <td>1.419128e+04</td>\n",
       "      <td>8.608386e+03</td>\n",
       "      <td>181.0</td>\n",
       "      <td>9238.00</td>\n",
       "      <td>13098.50</td>\n",
       "      <td>16293.0</td>\n",
       "      <td>65968.0</td>\n",
       "    </tr>\n",
       "    <tr>\n",
       "      <td>parks_around3000</td>\n",
       "      <td>18181.0</td>\n",
       "      <td>6.114075e-01</td>\n",
       "      <td>8.020736e-01</td>\n",
       "      <td>0.0</td>\n",
       "      <td>0.00</td>\n",
       "      <td>0.00</td>\n",
       "      <td>1.0</td>\n",
       "      <td>3.0</td>\n",
       "    </tr>\n",
       "    <tr>\n",
       "      <td>parks_nearest</td>\n",
       "      <td>8079.0</td>\n",
       "      <td>4.908046e+02</td>\n",
       "      <td>3.423180e+02</td>\n",
       "      <td>1.0</td>\n",
       "      <td>288.00</td>\n",
       "      <td>455.00</td>\n",
       "      <td>612.0</td>\n",
       "      <td>3190.0</td>\n",
       "    </tr>\n",
       "    <tr>\n",
       "      <td>ponds_around3000</td>\n",
       "      <td>18181.0</td>\n",
       "      <td>7.702547e-01</td>\n",
       "      <td>9.383456e-01</td>\n",
       "      <td>0.0</td>\n",
       "      <td>0.00</td>\n",
       "      <td>1.00</td>\n",
       "      <td>1.0</td>\n",
       "      <td>3.0</td>\n",
       "    </tr>\n",
       "    <tr>\n",
       "      <td>ponds_nearest</td>\n",
       "      <td>9110.0</td>\n",
       "      <td>5.179809e+02</td>\n",
       "      <td>2.777206e+02</td>\n",
       "      <td>13.0</td>\n",
       "      <td>294.00</td>\n",
       "      <td>502.00</td>\n",
       "      <td>729.0</td>\n",
       "      <td>1344.0</td>\n",
       "    </tr>\n",
       "    <tr>\n",
       "      <td>days_exposition</td>\n",
       "      <td>20518.0</td>\n",
       "      <td>1.808886e+02</td>\n",
       "      <td>2.197280e+02</td>\n",
       "      <td>1.0</td>\n",
       "      <td>45.00</td>\n",
       "      <td>95.00</td>\n",
       "      <td>232.0</td>\n",
       "      <td>1580.0</td>\n",
       "    </tr>\n",
       "  </tbody>\n",
       "</table>\n",
       "</div>"
      ],
      "text/plain": [
       "                       count          mean           std      min         25%  \\\n",
       "total_images         23699.0  9.858475e+00  5.682529e+00      0.0        6.00   \n",
       "last_price           23699.0  6.541549e+06  1.088701e+07  12190.0  3400000.00   \n",
       "total_area           23699.0  6.034865e+01  3.565408e+01     12.0       40.00   \n",
       "rooms                23699.0  2.070636e+00  1.078405e+00      0.0        1.00   \n",
       "ceiling_height       14504.0  2.771499e+00  1.261056e+00      1.0        2.52   \n",
       "floors_total         23613.0  1.067382e+01  6.597173e+00      1.0        5.00   \n",
       "living_area          21796.0  3.445785e+01  2.203045e+01      2.0       18.60   \n",
       "floor                23699.0  5.892358e+00  4.885249e+00      1.0        2.00   \n",
       "kitchen_area         21421.0  1.056981e+01  5.905438e+00      1.3        7.00   \n",
       "balcony              12180.0  1.150082e+00  1.071300e+00      0.0        0.00   \n",
       "airports_nearest     18157.0  2.879367e+04  1.263088e+04      0.0    18585.00   \n",
       "cityCenters_nearest  18180.0  1.419128e+04  8.608386e+03    181.0     9238.00   \n",
       "parks_around3000     18181.0  6.114075e-01  8.020736e-01      0.0        0.00   \n",
       "parks_nearest         8079.0  4.908046e+02  3.423180e+02      1.0      288.00   \n",
       "ponds_around3000     18181.0  7.702547e-01  9.383456e-01      0.0        0.00   \n",
       "ponds_nearest         9110.0  5.179809e+02  2.777206e+02     13.0      294.00   \n",
       "days_exposition      20518.0  1.808886e+02  2.197280e+02      1.0       45.00   \n",
       "\n",
       "                            50%        75%          max  \n",
       "total_images               9.00       14.0         50.0  \n",
       "last_price           4650000.00  6800000.0  763000000.0  \n",
       "total_area                52.00       69.9        900.0  \n",
       "rooms                      2.00        3.0         19.0  \n",
       "ceiling_height             2.65        2.8        100.0  \n",
       "floors_total               9.00       16.0         60.0  \n",
       "living_area               30.00       42.3        409.7  \n",
       "floor                      4.00        8.0         33.0  \n",
       "kitchen_area               9.10       12.0        112.0  \n",
       "balcony                    1.00        2.0          5.0  \n",
       "airports_nearest       26726.00    37273.0      84869.0  \n",
       "cityCenters_nearest    13098.50    16293.0      65968.0  \n",
       "parks_around3000           0.00        1.0          3.0  \n",
       "parks_nearest            455.00      612.0       3190.0  \n",
       "ponds_around3000           1.00        1.0          3.0  \n",
       "ponds_nearest            502.00      729.0       1344.0  \n",
       "days_exposition           95.00      232.0       1580.0  "
      ]
     },
     "execution_count": 4,
     "metadata": {},
     "output_type": "execute_result"
    }
   ],
   "source": [
    "data.describe().T"
   ]
  },
  {
   "cell_type": "markdown",
   "metadata": {},
   "source": [
    "### Вывод"
   ]
  },
  {
   "cell_type": "markdown",
   "metadata": {},
   "source": [
    "В таблице есть 22 колонки:\n",
    "* total_images - количество фотографий;\n",
    "* last_price - последняя (актуальная цена);\n",
    "* total_area - общая площадь;\n",
    "* first_day_exposition - время появления объявления;\n",
    "* rooms - количество комнат;\n",
    "* ceiling_height - высота потолков;\n",
    "* floors_total - количество этажей в доме;\n",
    "* living_area - жилая площадь;\n",
    "* floor - этаж квартиры;\n",
    "* is_apartment - яляется ли квартира апартаментами;\n",
    "* studio - является ли квартира студией;\n",
    "* open_plan - открытая планировка;\n",
    "* kitchen_area - площадь кухни;\n",
    "* balcony - наличие балкона;\n",
    "* locality_name - населенный пункт;\n",
    "* airports_nearest - расстояние до аэропорта;\n",
    "* cityCenters_nearest - расстояние до центра города;\n",
    "* parks_around3000 - количество парков на расттоянии 3000 метров;\n",
    "* parks_nearest - расстояние до ближайшего парка;\n",
    "* ponds_around3000 - количество водоемов на расстоянии 3000 метров;\n",
    "* ponds_nearest - расстояние до ближайшего водоема;\n",
    "* days_exposition - сколько дней висит объявление.\n",
    "\n",
    "Всего в датасете 23699 объявлений. Обращают на себя внимание пропуски данных в столбцах  высота потолков (ceiling_height), количество этажей в доме (floors_total), жилая площадь (living_area), является квартира апартаментами (is_apartment), площадь кухни (kitchen_area), наличие балкона (balcony), название населенного пункта (locality_name), расстояние до аэропорта (airports_nearest), расстояние до центра города (cityCenters_nearest), количество парков на расттоянии 3000 метров (parks_around3000), расстояние до ближайшего парка (parks_nearest), количество водоемов на расстоянии 3000 метров (ponds_around3000), расстояние до ближайшего водоема (ponds_nearest) и сколько дней висит объявление (days_exposition)"
   ]
  },
  {
   "cell_type": "markdown",
   "metadata": {},
   "source": [
    "## Предобработка данных"
   ]
  },
  {
   "cell_type": "markdown",
   "metadata": {},
   "source": [
    "### работа с пропусками"
   ]
  },
  {
   "cell_type": "markdown",
   "metadata": {},
   "source": [
    "#### пропуски высоты потолков"
   ]
  },
  {
   "cell_type": "markdown",
   "metadata": {},
   "source": [
    "Проверим сколько процентов значений от общего числа входящих данных пропущенно в столбце с высотой потолков. Для этого используем методы isna() и sum(), и разделим полученное значение на число входящих данных в таблице."
   ]
  },
  {
   "cell_type": "code",
   "execution_count": 5,
   "metadata": {},
   "outputs": [
    {
     "data": {
      "text/plain": [
       "38.799105447487236"
      ]
     },
     "execution_count": 5,
     "metadata": {},
     "output_type": "execute_result"
    }
   ],
   "source": [
    "data['ceiling_height'].isna().sum()/23699*100"
   ]
  },
  {
   "cell_type": "markdown",
   "metadata": {},
   "source": [
    "Пропущено почти 40% данных о высоте потолков. Вероятно люди не указывали их так как считали это несущественной информацией.\n",
    "\n",
    "Удалить строки с отсутвующей информацией нельзя, заменим ее на медиану."
   ]
  },
  {
   "cell_type": "code",
   "execution_count": 6,
   "metadata": {},
   "outputs": [
    {
     "data": {
      "text/plain": [
       "0"
      ]
     },
     "execution_count": 6,
     "metadata": {},
     "output_type": "execute_result"
    }
   ],
   "source": [
    "data['ceiling_height'] = data['ceiling_height'].fillna(data['ceiling_height'].median())\n",
    "data['ceiling_height'].isna().sum()"
   ]
  },
  {
   "cell_type": "markdown",
   "metadata": {},
   "source": [
    "<div class=\"alert alert-block alert-success\">\n",
    "<b>Success:</b> хорошо, что заменяешь медианой, а не, нарпимер, средним - она менее чувствительна к выбросам"
   ]
  },
  {
   "cell_type": "markdown",
   "metadata": {},
   "source": [
    "В столбце с высотой потолков было пропущено достаточно много значений. Вероятно при подаче документов этот пункт клиенты считали несущенственным и не указывали его. Предположила что если бы значение отличалось от стандартного, то этого указывали бы в объявлении, поэтому заменила отсутвующие значения на медианное."
   ]
  },
  {
   "cell_type": "markdown",
   "metadata": {},
   "source": [
    "#### пропуски этажности здания"
   ]
  },
  {
   "cell_type": "markdown",
   "metadata": {},
   "source": [
    "Проверим сколько процентов значений от общего числа входящих данных пропущенно в столбце с количеством этажей в здании (floors_total). Для этого используем методы isna() и sum(), и разделим полученное значение на число входящих данных в таблице."
   ]
  },
  {
   "cell_type": "code",
   "execution_count": 7,
   "metadata": {},
   "outputs": [
    {
     "data": {
      "text/plain": [
       "0.36288450989493226"
      ]
     },
     "execution_count": 7,
     "metadata": {},
     "output_type": "execute_result"
    }
   ],
   "source": [
    "data['floors_total'].isna().sum()/23699*100"
   ]
  },
  {
   "cell_type": "markdown",
   "metadata": {},
   "source": [
    "У 0,36% объявлений пропущено количество этажей в доме, можем удалить эти данные методом dropna()."
   ]
  },
  {
   "cell_type": "code",
   "execution_count": 8,
   "metadata": {},
   "outputs": [
    {
     "data": {
      "text/plain": [
       "0"
      ]
     },
     "execution_count": 8,
     "metadata": {},
     "output_type": "execute_result"
    }
   ],
   "source": [
    "data.dropna(subset=['floors_total'], inplace = True)\n",
    "data['floors_total'].isna().sum()"
   ]
  },
  {
   "cell_type": "markdown",
   "metadata": {},
   "source": [
    "Количество объявлений с пропуском этажности здания очень нельшое и количество этажей может сильно отличаться в разных зданиях, поэтому строки с недостающим количеством этажей в здании удалили."
   ]
  },
  {
   "cell_type": "markdown",
   "metadata": {},
   "source": [
    "#### пропуски жилой площади и площади кухни"
   ]
  },
  {
   "cell_type": "markdown",
   "metadata": {},
   "source": [
    "Проверим сколько процентов значений от общего числа входящих данных пропущенно в столбце с жилой площадью (living_area). Для этого используем методы isna() и sum(), и разделим полученное значение на число входящих данных в таблице."
   ]
  },
  {
   "cell_type": "markdown",
   "metadata": {},
   "source": [
    "Проверим есть ли квартиры у которых сумма жилой площади и площади кухни больше общей площади квартиры."
   ]
  },
  {
   "cell_type": "code",
   "execution_count": 9,
   "metadata": {},
   "outputs": [
    {
     "name": "stdout",
     "output_type": "stream",
     "text": [
      "7.919366450683945\n"
     ]
    },
    {
     "data": {
      "text/plain": [
       "1870"
      ]
     },
     "execution_count": 9,
     "metadata": {},
     "output_type": "execute_result"
    }
   ],
   "source": [
    "print(data['living_area'].isna().sum()/23613*100)\n",
    "data['living_area'].isna().sum()"
   ]
  },
  {
   "cell_type": "markdown",
   "metadata": {},
   "source": [
    "Сравним процент пропусков в столбце с жилой площадью и количеством пропусков в столбце с площадью кухни."
   ]
  },
  {
   "cell_type": "code",
   "execution_count": 10,
   "metadata": {},
   "outputs": [
    {
     "name": "stdout",
     "output_type": "stream",
     "text": [
      "9.448185321644857\n"
     ]
    },
    {
     "data": {
      "text/plain": [
       "2231"
      ]
     },
     "execution_count": 10,
     "metadata": {},
     "output_type": "execute_result"
    }
   ],
   "source": [
    "print(data['kitchen_area'].isna().sum()/23613*100)\n",
    "data['kitchen_area'].isna().sum()"
   ]
  },
  {
   "cell_type": "markdown",
   "metadata": {},
   "source": [
    "Посмотрим в каком количестве объявлений не указана ни жилая площадь, ни площадь кухни."
   ]
  },
  {
   "cell_type": "code",
   "execution_count": 11,
   "metadata": {},
   "outputs": [
    {
     "data": {
      "text/plain": [
       "1431"
      ]
     },
     "execution_count": 11,
     "metadata": {},
     "output_type": "execute_result"
    }
   ],
   "source": [
    "data_abs_area = data[ (data['kitchen_area'].isna()) & (data['living_area'].isna()) ]\n",
    "len(data_abs_area)"
   ]
  },
  {
   "cell_type": "markdown",
   "metadata": {},
   "source": [
    "у части квартир отсутствуют данные или о жилой площади или о площади кухни. В этих квартирах могут быть не указаны данные случайно и их можно грубо оценить в разницу между общей и указанной площадью (возьмем за грубую формулу подсчета общая площадь = жилая площадь + площадь кухни).\n",
    "У 1431 квартир отсутствуют данные о жилой площади и площади кухни."
   ]
  },
  {
   "cell_type": "markdown",
   "metadata": {},
   "source": [
    "заполним пропуски плошади кухни разницей между общей и жилой площади."
   ]
  },
  {
   "cell_type": "code",
   "execution_count": 12,
   "metadata": {},
   "outputs": [
    {
     "data": {
      "text/plain": [
       "1431"
      ]
     },
     "execution_count": 12,
     "metadata": {},
     "output_type": "execute_result"
    }
   ],
   "source": [
    "data['kitchen_area'] = data['kitchen_area'].fillna(data['total_area'] - data['living_area'])\n",
    "data['kitchen_area'].isna().sum()"
   ]
  },
  {
   "cell_type": "markdown",
   "metadata": {},
   "source": [
    "Заполним остальные пропуски площади кухни медианным значением площади кухни."
   ]
  },
  {
   "cell_type": "code",
   "execution_count": 13,
   "metadata": {},
   "outputs": [
    {
     "data": {
      "text/plain": [
       "0"
      ]
     },
     "execution_count": 13,
     "metadata": {},
     "output_type": "execute_result"
    }
   ],
   "source": [
    "data['kitchen_area'] = data['kitchen_area'].fillna(data['kitchen_area'].median())\n",
    "data['kitchen_area'].isna().sum()"
   ]
  },
  {
   "cell_type": "markdown",
   "metadata": {},
   "source": [
    "Заполним пропуски жилой площади разницей между общей площадью и площадью кухни."
   ]
  },
  {
   "cell_type": "code",
   "execution_count": 14,
   "metadata": {},
   "outputs": [
    {
     "data": {
      "text/plain": [
       "0"
      ]
     },
     "execution_count": 14,
     "metadata": {},
     "output_type": "execute_result"
    }
   ],
   "source": [
    "data['living_area'] = data['living_area'].fillna(data['total_area'] - data['kitchen_area'])\n",
    "data['living_area'].isna().sum()"
   ]
  },
  {
   "cell_type": "markdown",
   "metadata": {},
   "source": [
    "Проверим есть ли квартиры у которых сумма жилой площади и площади кухни больше общей площади квартиры."
   ]
  },
  {
   "cell_type": "code",
   "execution_count": 15,
   "metadata": {},
   "outputs": [
    {
     "data": {
      "text/plain": [
       "71"
      ]
     },
     "execution_count": 15,
     "metadata": {},
     "output_type": "execute_result"
    }
   ],
   "source": [
    "data['sum_area'] = data['kitchen_area'] +  data['living_area']\n",
    "len(data.query('sum_area > total_area'))"
   ]
  },
  {
   "cell_type": "markdown",
   "metadata": {},
   "source": [
    "Посмотрим у какого процента квартир  сумма жилой площади и площади кухни больше общей площади квартиры."
   ]
  },
  {
   "cell_type": "code",
   "execution_count": 16,
   "metadata": {},
   "outputs": [
    {
     "data": {
      "text/plain": [
       "0.30068182780671665"
      ]
     },
     "execution_count": 16,
     "metadata": {},
     "output_type": "execute_result"
    }
   ],
   "source": [
    "(len(data.query('sum_area > total_area'))/len(data))*100"
   ]
  },
  {
   "cell_type": "markdown",
   "metadata": {},
   "source": [
    "Удалим строки с  суммой жилой площади и площади кухни больше общей площади квартиры."
   ]
  },
  {
   "cell_type": "code",
   "execution_count": 17,
   "metadata": {},
   "outputs": [
    {
     "data": {
      "text/plain": [
       "0"
      ]
     },
     "execution_count": 17,
     "metadata": {},
     "output_type": "execute_result"
    }
   ],
   "source": [
    "data = data.loc[data['sum_area'] < data['total_area']]\n",
    "len(data.query('sum_area > total_area'))"
   ]
  },
  {
   "cell_type": "markdown",
   "metadata": {},
   "source": [
    "В объявлениях есть три типа площади - общая, жилая и площадь кухни. В столбце с общей площадью пропуски данных отсутвовали, тогда как пропуски о жилой площади и площади кухни были в 8-10%. Просто удалить их нельзя.\n",
    "Для начала приняли грубую формулу общая площадь = жилая площадь + площадь кухни.\n",
    "Где это было возможно заполнили пропуски площади кухни согласно этой формулею.\n",
    "В тех местах где отсутствовала и площадь кухни и жилая площадь пропуски по этой формуле не заполнились. Для этого случая пропуски в площади кухни заменили на медианное значение.\n",
    "И затем так как уже у всех объявлений появилась информация о площади кухни, заменили пропуски в данных о жилой площади согласно нашей формуле."
   ]
  },
  {
   "cell_type": "markdown",
   "metadata": {},
   "source": [
    "#### пропуски данных о балконе"
   ]
  },
  {
   "cell_type": "markdown",
   "metadata": {},
   "source": [
    "Проверим сколько процентов значений от общего числа входящих данных пропущенно в столбце с наличием балкона (balcony). Для этого используем методы isna() и sum(), и разделим полученное значение на число входящих данных в таблице."
   ]
  },
  {
   "cell_type": "code",
   "execution_count": 18,
   "metadata": {},
   "outputs": [
    {
     "name": "stdout",
     "output_type": "stream",
     "text": [
      "41.06212679456232\n"
     ]
    },
    {
     "data": {
      "text/plain": [
       "9696"
      ]
     },
     "execution_count": 18,
     "metadata": {},
     "output_type": "execute_result"
    }
   ],
   "source": [
    "print(data['balcony'].isna().sum()/23613*100)\n",
    "data['balcony'].isna().sum()"
   ]
  },
  {
   "cell_type": "markdown",
   "metadata": {},
   "source": [
    "У огромного количества объявлений (48%) отсутствует информация о балконе.\n",
    "Предположим что если бы в квартире был балкон, то об этом бы сообщили в объявлении и заменим пропущенные значения на 0."
   ]
  },
  {
   "cell_type": "code",
   "execution_count": 19,
   "metadata": {},
   "outputs": [
    {
     "data": {
      "text/plain": [
       "0"
      ]
     },
     "execution_count": 19,
     "metadata": {},
     "output_type": "execute_result"
    }
   ],
   "source": [
    "data['balcony'] = data['balcony'].fillna(0)\n",
    "data['balcony'].isna().sum()"
   ]
  },
  {
   "cell_type": "markdown",
   "metadata": {},
   "source": [
    "У 48% объявлений отсутствовала информация о балконе. Возможно если у квартиры нет балкона, то при подаче объявления клиенты решили что этот пункт стоит указывать только когда балкон в квартире есть. Заменили пропуски информации о балконах на 0."
   ]
  },
  {
   "cell_type": "markdown",
   "metadata": {},
   "source": [
    "#### пропуски с названием населенного пункта (locality_name)"
   ]
  },
  {
   "cell_type": "markdown",
   "metadata": {},
   "source": [
    "Проверим сколько процентов значений от общего числа входящих данных пропущенно в столбце с  названием населенного пункта (locality_name). Для этого используем методы isna() и sum(), и разделим полученное значение на число входящих данных в таблице."
   ]
  },
  {
   "cell_type": "code",
   "execution_count": 20,
   "metadata": {},
   "outputs": [
    {
     "name": "stdout",
     "output_type": "stream",
     "text": [
      "0.1825694244258672\n"
     ]
    },
    {
     "data": {
      "text/plain": [
       "38"
      ]
     },
     "execution_count": 20,
     "metadata": {},
     "output_type": "execute_result"
    }
   ],
   "source": [
    "print(data['locality_name'].isna().sum()/len(data['locality_name'])*100)\n",
    "data['locality_name'].isna().sum()"
   ]
  },
  {
   "cell_type": "markdown",
   "metadata": {},
   "source": [
    "Название населенного пункта отсутвует в менее 1% объявлений. Заменить его на какое-то самое значение нельзя, так как это очень важный пункт при оценке статистики стоимости жилья и цена на жилье в разных населенных пунктах может сильно различаться.\n",
    "Вероятно пропуск данных в этом столбце оказался из-за какой-то технической ошибки и наприменр клиент указал населенных пункт в названии объявления или в каком-то другом неправильном пункте.\n",
    "Удалим сроки с отсутвующим населенным пунктом."
   ]
  },
  {
   "cell_type": "code",
   "execution_count": 21,
   "metadata": {},
   "outputs": [
    {
     "data": {
      "text/plain": [
       "0"
      ]
     },
     "execution_count": 21,
     "metadata": {},
     "output_type": "execute_result"
    }
   ],
   "source": [
    "data.dropna(subset=['locality_name'], inplace = True)\n",
    "data['locality_name'].isna().sum()"
   ]
  },
  {
   "cell_type": "markdown",
   "metadata": {},
   "source": [
    "Проверим столбец locality_name на дубликаты"
   ]
  },
  {
   "cell_type": "code",
   "execution_count": 22,
   "metadata": {
    "scrolled": false
   },
   "outputs": [
    {
     "data": {
      "text/plain": [
       "array(['Бокситогорск', 'Волосово', 'Волхов', 'Всеволожск', 'Выборг',\n",
       "       'Высоцк', 'Гатчина', 'Зеленогорск', 'Ивангород', 'Каменногорск',\n",
       "       'Кингисепп', 'Кириши', 'Кировск', 'Колпино', 'Коммунар',\n",
       "       'Красное Село', 'Кронштадт', 'Кудрово', 'Лодейное Поле',\n",
       "       'Ломоносов', 'Луга', 'Любань', 'Мурино', 'Никольское',\n",
       "       'Новая Ладога', 'Отрадное', 'Павловск', 'Петергоф', 'Пикалёво',\n",
       "       'Подпорожье', 'Приморск', 'Приозерск', 'Пушкин', 'Санкт-Петербург',\n",
       "       'Светогорск', 'Сертолово', 'Сестрорецк', 'Сланцы', 'Сосновый Бор',\n",
       "       'Сясьстрой', 'Тихвин', 'Тосно', 'Шлиссельбург',\n",
       "       'городской поселок Большая Ижора', 'городской поселок Янино-1',\n",
       "       'городской посёлок Будогощь', 'городской посёлок Виллози',\n",
       "       'городской посёлок Лесогорский', 'городской посёлок Мга',\n",
       "       'городской посёлок Назия', 'городской посёлок Новоселье',\n",
       "       'городской посёлок Павлово', 'городской посёлок Рощино',\n",
       "       'городской посёлок Советский', 'городской посёлок Фёдоровское',\n",
       "       'городской посёлок Янино-1', 'деревня Агалатово', 'деревня Аро',\n",
       "       'деревня Батово', 'деревня Бегуницы', 'деревня Белогорка',\n",
       "       'деревня Большая Вруда', 'деревня Большая Пустомержа',\n",
       "       'деревня Большие Колпаны', 'деревня Большое Рейзино',\n",
       "       'деревня Большой Сабск', 'деревня Бор', 'деревня Борисова Грива',\n",
       "       'деревня Ваганово', 'деревня Вартемяги', 'деревня Выскатка',\n",
       "       'деревня Гарболово', 'деревня Глинка', 'деревня Горбунки',\n",
       "       'деревня Гостилицы', 'деревня Заклинье', 'деревня Заневка',\n",
       "       'деревня Зимитицы', 'деревня Извара', 'деревня Калитино',\n",
       "       'деревня Кальтино', 'деревня Камышовка', 'деревня Каськово',\n",
       "       'деревня Келози', 'деревня Кипень', 'деревня Кисельня',\n",
       "       'деревня Колтуши', 'деревня Коркино', 'деревня Котлы',\n",
       "       'деревня Кривко', 'деревня Кудрово', 'деревня Кузьмолово',\n",
       "       'деревня Курковицы', 'деревня Куровицы', 'деревня Куттузи',\n",
       "       'деревня Лаголово', 'деревня Лампово', 'деревня Лесколово',\n",
       "       'деревня Лопухинка', 'деревня Лупполово',\n",
       "       'деревня Малая Романовка', 'деревня Малое Верево',\n",
       "       'деревня Малое Карлино', 'деревня Малые Колпаны',\n",
       "       'деревня Мануйлово', 'деревня Меньково', 'деревня Мины',\n",
       "       'деревня Мистолово', 'деревня Ненимяки', 'деревня Нижние Осельки',\n",
       "       'деревня Нижняя', 'деревня Низино', 'деревня Новое Девяткино',\n",
       "       'деревня Новолисино', 'деревня Нурма', 'деревня Оржицы',\n",
       "       'деревня Парицы', 'деревня Пельгора', 'деревня Пеники',\n",
       "       'деревня Пижма', 'деревня Пикколово', 'деревня Пудомяги',\n",
       "       'деревня Пустынка', 'деревня Рабитицы', 'деревня Разбегаево',\n",
       "       'деревня Разметелево', 'деревня Рапполово', 'деревня Реброво',\n",
       "       'деревня Сижно', 'деревня Снегирёвка', 'деревня Старая',\n",
       "       'деревня Старая Пустошь', 'деревня Старое Хинколово',\n",
       "       'деревня Старополье', 'деревня Старосиверская',\n",
       "       'деревня Старые Бегуницы', 'деревня Суоранда',\n",
       "       'деревня Сяськелево', 'деревня Терпилицы', 'деревня Тихковицы',\n",
       "       'деревня Тойворово', 'деревня Торосово', 'деревня Торошковичи',\n",
       "       'деревня Фалилеево', 'деревня Фёдоровское', 'деревня Хапо-Ое',\n",
       "       'деревня Чудской Бор', 'деревня Шпаньково', 'деревня Щеглово',\n",
       "       'деревня Юкки', 'деревня Ялгино', 'деревня Яльгелево',\n",
       "       'деревня Ям-Тесово', 'коттеджный поселок Кивеннапа Север',\n",
       "       'коттеджный посёлок Лесное', 'поселок Аннино', 'поселок Барышево',\n",
       "       'поселок Бугры', 'поселок Возрождение', 'поселок Войсковицы',\n",
       "       'поселок Володарское', 'поселок Гаврилово', 'поселок Гарболово',\n",
       "       'поселок Гладкое', 'поселок Глажево', 'поселок Глебычево',\n",
       "       'поселок Гончарово', 'поселок Громово', 'поселок Дружноселье',\n",
       "       'поселок Елизаветино', 'поселок Жилгородок', 'поселок Жилпосёлок',\n",
       "       'поселок Житково', 'поселок Заводской', 'поселок Запорожское',\n",
       "       'поселок Зимитицы', 'поселок Ильичёво', 'поселок Калитино',\n",
       "       'поселок Каложицы', 'поселок Кингисеппский', 'поселок Кирпичное',\n",
       "       'поселок Кобралово', 'поселок Кобринское', 'поселок Коммунары',\n",
       "       'поселок Коробицыно', 'поселок Котельский',\n",
       "       'поселок Красная Долина', 'поселок Лесное', 'поселок Лисий Нос',\n",
       "       'поселок Лукаши', 'поселок Любань', 'поселок Мельниково',\n",
       "       'поселок Мичуринское', 'поселок Молодцово', 'поселок Мурино',\n",
       "       'поселок Новый Свет', 'поселок Новый Учхоз', 'поселок Оредеж',\n",
       "       'поселок Пансионат Зелёный Бор', 'поселок Первомайское',\n",
       "       'поселок Перово', 'поселок Петровское', 'поселок Победа',\n",
       "       'поселок Поляны', 'поселок Почап', 'поселок Починок',\n",
       "       'поселок Пушное', 'поселок Рабитицы', 'поселок Романовка',\n",
       "       'поселок Ромашки', 'поселок Рябово', 'поселок Селезнёво',\n",
       "       'поселок Сельцо', 'поселок Семиозерье', 'поселок Семрино',\n",
       "       'поселок Серебрянский', 'поселок Совхозный',\n",
       "       'поселок Старая Малукса', 'поселок Стеклянный', 'поселок Сумино',\n",
       "       'поселок Суходолье', 'поселок Тельмана', 'поселок Терволово',\n",
       "       'поселок Торковичи', 'поселок Тёсово-4', 'поселок Углово',\n",
       "       'поселок Усть-Луга', 'поселок Ушаки', 'поселок Цвелодубово',\n",
       "       'поселок Цвылёво', 'поселок городского типа Большая Ижора',\n",
       "       'поселок городского типа Вырица',\n",
       "       'поселок городского типа Дружная Горка',\n",
       "       'поселок городского типа Дубровка',\n",
       "       'поселок городского типа Ефимовский',\n",
       "       'поселок городского типа Кондратьево',\n",
       "       'поселок городского типа Красный Бор',\n",
       "       'поселок городского типа Кузьмоловский',\n",
       "       'поселок городского типа Лебяжье',\n",
       "       'поселок городского типа Лесогорский',\n",
       "       'поселок городского типа Назия',\n",
       "       'поселок городского типа Никольский',\n",
       "       'поселок городского типа Приладожский',\n",
       "       'поселок городского типа Рахья', 'поселок городского типа Рощино',\n",
       "       'поселок городского типа Рябово',\n",
       "       'поселок городского типа Синявино',\n",
       "       'поселок городского типа Советский',\n",
       "       'поселок городского типа Токсово',\n",
       "       'поселок городского типа Форносово',\n",
       "       'поселок городского типа имени Свердлова',\n",
       "       'поселок станции Вещево', 'поселок станции Приветнинское',\n",
       "       'посёлок Александровская', 'посёлок Алексеевка', 'посёлок Аннино',\n",
       "       'посёлок Белоостров', 'посёлок Бугры', 'посёлок Возрождение',\n",
       "       'посёлок Войскорово', 'посёлок Высокоключевой',\n",
       "       'посёлок Гаврилово', 'посёлок Дзержинского', 'посёлок Жилгородок',\n",
       "       'посёлок Ильичёво', 'посёлок Кикерино', 'посёлок Кобралово',\n",
       "       'посёлок Коробицыно', 'посёлок Ленинское', 'посёлок Лисий Нос',\n",
       "       'посёлок Мельниково', 'посёлок Металлострой',\n",
       "       'посёлок Мичуринское', 'посёлок Молодёжное', 'посёлок Мурино',\n",
       "       'посёлок Мыза-Ивановка', 'посёлок Новогорелово',\n",
       "       'посёлок Новый Свет', 'посёлок Пансионат Зелёный Бор',\n",
       "       'посёлок Парголово', 'посёлок Перово', 'посёлок Песочный',\n",
       "       'посёлок Петровское', 'посёлок Платформа 69-й километр',\n",
       "       'посёлок Плодовое', 'посёлок Победа', 'посёлок Поляны',\n",
       "       'посёлок Понтонный', 'посёлок Пригородный', 'посёлок Пудость',\n",
       "       'посёлок Репино', 'посёлок Ропша', 'посёлок Сапёрное',\n",
       "       'посёлок Сапёрный', 'посёлок Сосново', 'посёлок Старая Малукса',\n",
       "       'посёлок Стеклянный', 'посёлок Стрельна', 'посёлок Суйда',\n",
       "       'посёлок Сумино', 'посёлок Тельмана', 'посёлок Терволово',\n",
       "       'посёлок Торфяное', 'посёлок Усть-Ижора', 'посёлок Усть-Луга',\n",
       "       'посёлок Форт Красная Горка', 'посёлок Шугозеро', 'посёлок Шушары',\n",
       "       'посёлок Щеглово', 'посёлок городского типа Важины',\n",
       "       'посёлок городского типа Вознесенье',\n",
       "       'посёлок городского типа Вырица',\n",
       "       'посёлок городского типа Красный Бор',\n",
       "       'посёлок городского типа Кузнечное',\n",
       "       'посёлок городского типа Кузьмоловский',\n",
       "       'посёлок городского типа Лебяжье', 'посёлок городского типа Мга',\n",
       "       'посёлок городского типа Павлово',\n",
       "       'посёлок городского типа Рощино', 'посёлок городского типа Рябово',\n",
       "       'посёлок городского типа Сиверский',\n",
       "       'посёлок городского типа Тайцы', 'посёлок городского типа Токсово',\n",
       "       'посёлок городского типа Ульяновка',\n",
       "       'посёлок городского типа Форносово',\n",
       "       'посёлок городского типа имени Морозова',\n",
       "       'посёлок городского типа имени Свердлова',\n",
       "       'посёлок при железнодорожной станции Вещево',\n",
       "       'посёлок при железнодорожной станции Приветнинское',\n",
       "       'посёлок станции Громово', 'посёлок станции Свирь',\n",
       "       'садоводческое некоммерческое товарищество Лесная Поляна',\n",
       "       'садовое товарищество Новая Ропша',\n",
       "       'садовое товарищество Приладожский', 'садовое товарищество Рахья',\n",
       "       'садовое товарищество Садко', 'село Копорье', 'село Никольское',\n",
       "       'село Павлово', 'село Паша', 'село Путилово', 'село Рождествено',\n",
       "       'село Русско-Высоцкое', 'село Старая Ладога', 'село Шум'],\n",
       "      dtype=object)"
      ]
     },
     "execution_count": 22,
     "metadata": {},
     "output_type": "execute_result"
    }
   ],
   "source": [
    "data['locality_name'].sort_values().unique()"
   ]
  },
  {
   "cell_type": "markdown",
   "metadata": {},
   "source": [
    "Список неявных дубликатов:\n",
    "* Кудрово и деревня Кудрово\n",
    "* Любань и поселок Любань\n",
    "* Мурино и поселок Мурино и посёлок Мурино',\n",
    "* Никольское и село Никольское\n",
    "* городской поселок Большая Ижора и поселок городского типа Большая Ижора\n",
    "* городской поселок Янино-1 и городской посёлок Янино-1\n",
    "* городской посёлок Лесогорский и поселок городского типа Лесогорский\n",
    "* городской посёлок Мга и посёлок городского типа Мга\n",
    "* городской посёлок Павлово и посёлок городского типа Павлово и село Павлово\n",
    "* городской посёлок Рощино и поселок городского типа Рощино и посёлок городского типа Рощино\n",
    "* городской посёлок Советский и поселок городского типа Советский\n",
    "* городской посёлок Фёдоровское и деревня Фёдоровское\n",
    "* деревня Гарболово и поселок Гарболово\n",
    "* деревня Зимитицы и поселок Зимитицы\n",
    "* деревня Калитино и поселок Калитино\n",
    "* деревня Рабитицы и поселок Рабитицы\n",
    "* деревня Щеглово и посёлок Щеглово\n",
    "* коттеджный посёлок Лесное и поселок Лесное\n",
    "* поселок Аннино и посёлок Аннино\n",
    "* поселок Мичуринское и посёлок Мичуринское\n",
    "* поселок Новый Свет и посёлок Новый Свет\n",
    "* поселок Перово и посёлок Перово\n",
    "* поселок Петровское и посёлок Петровское\n",
    "* поселок Победа и посёлок Победа\n",
    "* поселок Старая Малукса и посёлок Старая Малукса\n",
    "* поселок Стеклянный и посёлок Стеклянный\n",
    "* поселок городского типа Вырица и посёлок городского типа Вырица\n",
    "* поселок городского типа Красный Бор и посёлок городского типа Красный Бор\n",
    "* поселок городского типа Кузьмоловский и посёлок городского типа Кузьмоловский\n",
    "* поселок городского типа Лебяжье и посёлок городского типа Лебяжье\n",
    "* поселок Рябово и поселок городского типа Рябово и посёлок городского типа Рябово\n",
    "* поселок городского типа Токсово и посёлок городского типа Токсово\n",
    "* поселок городского типа Форносово и посёлок городского типа Форносово\n",
    "* поселок городского типа имени Свердлова и посёлок городского типа имени Свердлова\n",
    "* поселок станции Вещево и посёлок при железнодорожной станции Вещево\n",
    "* поселок станции Приветнинское и посёлок при железнодорожной станции Приветнинское\n",
    "* поселок Громово и посёлок станции Громово\n"
   ]
  },
  {
   "cell_type": "markdown",
   "metadata": {},
   "source": [
    "Заменим неявные дубликаты"
   ]
  },
  {
   "cell_type": "code",
   "execution_count": 23,
   "metadata": {},
   "outputs": [],
   "source": [
    "data['locality_name'] = data['locality_name'].replace('деревня Кудрово', 'Кудрово')\n",
    "data['locality_name'] = data['locality_name'].replace('Любань', 'поселок Любань')\n",
    "data['locality_name'] = data['locality_name'].replace('Мурино', 'поселок Мурино')\n",
    "data['locality_name'] = data['locality_name'].replace('посёлок Мурино', 'поселок Мурино')\n",
    "data['locality_name'] = data['locality_name'].replace('Никольское', 'село Никольское')\n",
    "data['locality_name'] = data['locality_name'].replace('городской поселок Большая Ижора', 'поселок городского типа Большая Ижора')\n",
    "data['locality_name'] = data['locality_name'].replace('городской посёлок Янино-1', 'городской поселок Янино-1')\n",
    "data['locality_name'] = data['locality_name'].replace('посёлок Лесогорский', 'поселок городского типа Лесогорский')\n",
    "data['locality_name'] = data['locality_name'].replace('городской посёлок Мга', 'посёлок городского типа Мга')\n",
    "data['locality_name'] = data['locality_name'].replace('городской посёлок Павлово', 'посёлок городского типа Павлово')\n",
    "data['locality_name'] = data['locality_name'].replace('село Павлово', 'посёлок городского типа Павлово')\n",
    "data['locality_name'] = data['locality_name'].replace('село Рощино', 'посёлок городского типа Рощино')\n",
    "data['locality_name'] = data['locality_name'].replace('поселок городского типа Рощино', 'посёлок городского типа Рощино')\n",
    "data['locality_name'] = data['locality_name'].replace('городской посёлок Советский', 'поселок городского типа Советский')\n",
    "data['locality_name'] = data['locality_name'].replace('городской посёлок Фёдоровское', 'деревня Фёдоровское')\n",
    "data['locality_name'] = data['locality_name'].replace('деревня Гарболово', 'поселок Гарболово')\n",
    "data['locality_name'] = data['locality_name'].replace('деревня Зимитицы', 'поселок Зимитицы')\n",
    "data['locality_name'] = data['locality_name'].replace('деревня Калитино', 'поселок Калитино')\n",
    "data['locality_name'] = data['locality_name'].replace('деревня Рабитицы', 'поселок Рабитицы')\n",
    "data['locality_name'] = data['locality_name'].replace('деревня Щеглово', 'посёлок Щеглово')\n",
    "data['locality_name'] = data['locality_name'].replace('коттеджный посёлок Лесное', 'поселок Лесное')\n",
    "data['locality_name'] = data['locality_name'].replace('поселок Аннино', 'посёлок Аннино')\n",
    "data['locality_name'] = data['locality_name'].replace('поселок Мичуринское', 'посёлок Мичуринское')\n",
    "data['locality_name'] = data['locality_name'].replace('поселок Новый Свет', 'посёлок Новый Свет')\n",
    "data['locality_name'] = data['locality_name'].replace('поселок Перово', 'посёлок Перово')\n",
    "data['locality_name'] = data['locality_name'].replace('поселок Петровское', 'посёлок Петровское')\n",
    "data['locality_name'] = data['locality_name'].replace('поселок Победа', 'посёлок Победа')\n",
    "data['locality_name'] = data['locality_name'].replace('поселок Старая Малукса', 'посёлок Старая Малукса')\n",
    "data['locality_name'] = data['locality_name'].replace('поселок Стеклянный', 'посёлок Стеклянный')\n",
    "data['locality_name'] = data['locality_name'].replace('поселок городского типа Вырица', 'посёлок городского типа Вырица')\n",
    "data['locality_name'] = data['locality_name'].replace('поселок городского типа Красный Бор', 'посёлок городского типа Красный Бор')\n",
    "data['locality_name'] = data['locality_name'].replace('поселок городского типа Кузьмоловский', 'посёлок городского типа Кузьмоловский')\n",
    "data['locality_name'] = data['locality_name'].replace('поселок городского типа Лебяжье', 'посёлок городского типа Лебяжье')\n",
    "data['locality_name'] = data['locality_name'].replace('поселок городского типа Рябово', 'посёлок городского типа Рябово')\n",
    "data['locality_name'] = data['locality_name'].replace('поселок Рябово', 'посёлок городского типа Рябово')\n",
    "data['locality_name'] = data['locality_name'].replace('поселок городского типа Токсово', 'посёлок городского типа Токсово')\n",
    "data['locality_name'] = data['locality_name'].replace('поселок городского типа Форносово', 'посёлок городского типа Форносово')\n",
    "data['locality_name'] = data['locality_name'].replace('поселок городского типа Свердлова', 'посёлок городского типа Свердлова')\n",
    "data['locality_name'] = data['locality_name'].replace('поселок станции Вещево', 'посёлок при железнодорожной станции Вещево')\n",
    "data['locality_name'] = data['locality_name'].replace('поселок станции Приветнинское', 'посёлок при железнодорожной станции Приветнинское')\n",
    "data['locality_name'] = data['locality_name'].replace('поселок Громово', 'посёлок станции Громово')"
   ]
  },
  {
   "cell_type": "markdown",
   "metadata": {},
   "source": [
    "#### пропуски является квартира апартаментами (is_apartment)"
   ]
  },
  {
   "cell_type": "markdown",
   "metadata": {},
   "source": [
    "Проверим сколько процентов значений от общего числа входящих данных пропущенно в столбце с является квартира апартаментами (is_apartment). Для этого используем методы isna() и sum(), и разделим полученное значение на число входящих данных в таблице. "
   ]
  },
  {
   "cell_type": "code",
   "execution_count": 24,
   "metadata": {},
   "outputs": [
    {
     "name": "stdout",
     "output_type": "stream",
     "text": [
      "87.97169811320755\n"
     ]
    },
    {
     "data": {
      "text/plain": [
       "18277"
      ]
     },
     "execution_count": 24,
     "metadata": {},
     "output_type": "execute_result"
    }
   ],
   "source": [
    "print(data['is_apartment'].isna().sum()/ len(data['is_apartment'])*100)\n",
    "data['is_apartment'].isna().sum()"
   ]
  },
  {
   "cell_type": "code",
   "execution_count": 25,
   "metadata": {},
   "outputs": [
    {
     "data": {
      "text/plain": [
       "False    2467\n",
       "True       32\n",
       "Name: is_apartment, dtype: int64"
      ]
     },
     "execution_count": 25,
     "metadata": {},
     "output_type": "execute_result"
    }
   ],
   "source": [
    "data['is_apartment'].value_counts()"
   ]
  },
  {
   "cell_type": "markdown",
   "metadata": {},
   "source": [
    "В 88% этот столбец отсутвовал в объявлениях. Вероятно клиенты у которых квартира не апартаменты решили не указывать этот пункт. Заменим пропуски данных в этом столбце на False"
   ]
  },
  {
   "cell_type": "code",
   "execution_count": 26,
   "metadata": {},
   "outputs": [
    {
     "data": {
      "text/plain": [
       "0"
      ]
     },
     "execution_count": 26,
     "metadata": {},
     "output_type": "execute_result"
    }
   ],
   "source": [
    "data['is_apartment'] = data['is_apartment'].fillna(False)\n",
    "data['is_apartment'].isna().sum()"
   ]
  },
  {
   "cell_type": "markdown",
   "metadata": {},
   "source": [
    "<div class=\"alert alert-block alert-success\">\n",
    "<b>Success:</b> согалсен"
   ]
  },
  {
   "cell_type": "markdown",
   "metadata": {},
   "source": [
    "#### пропуски в расстоянии до аэропорта (airports_nearest) и до центра города (cityCenters_nearest)"
   ]
  },
  {
   "cell_type": "markdown",
   "metadata": {},
   "source": [
    "Проверим сколько процентов значений от общего числа входящих данных пропущенно в столбце с расстоянием до аэропорта (airports_nearest). Для этого используем методы isna() и sum(), и разделим полученное значение на число входящих данных в таблице. "
   ]
  },
  {
   "cell_type": "code",
   "execution_count": 27,
   "metadata": {},
   "outputs": [
    {
     "name": "stdout",
     "output_type": "stream",
     "text": [
      "22.222757027339238\n"
     ]
    },
    {
     "data": {
      "text/plain": [
       "4617"
      ]
     },
     "execution_count": 27,
     "metadata": {},
     "output_type": "execute_result"
    }
   ],
   "source": [
    "print(data['airports_nearest'].isna().sum()/ len(data['airports_nearest'])*100)\n",
    "data['airports_nearest'].isna().sum()"
   ]
  },
  {
   "cell_type": "code",
   "execution_count": 28,
   "metadata": {},
   "outputs": [
    {
     "data": {
      "text/plain": [
       "count    16159.000000\n",
       "mean     28790.913547\n",
       "std      12658.087319\n",
       "min          0.000000\n",
       "25%      18516.000000\n",
       "50%      26729.000000\n",
       "75%      37228.000000\n",
       "max      84869.000000\n",
       "Name: airports_nearest, dtype: float64"
      ]
     },
     "execution_count": 28,
     "metadata": {},
     "output_type": "execute_result"
    }
   ],
   "source": [
    "data['airports_nearest'].describe()"
   ]
  },
  {
   "cell_type": "markdown",
   "metadata": {},
   "source": [
    "Данные очень различные и для данного типа данных нет подходящего значения на замену. Оставим пропуски."
   ]
  },
  {
   "cell_type": "markdown",
   "metadata": {},
   "source": [
    "Проверим сколько процентов значений от общего числа входящих данных пропущенно в столбце с расстоянием до центра города (cityCenters_nearest). Для этого используем методы isna() и sum(), и разделим полученное значение на число входящих данных в таблице. "
   ]
  },
  {
   "cell_type": "code",
   "execution_count": 29,
   "metadata": {},
   "outputs": [
    {
     "name": "stdout",
     "output_type": "stream",
     "text": [
      "22.121678860223334\n"
     ]
    },
    {
     "data": {
      "text/plain": [
       "4596"
      ]
     },
     "execution_count": 29,
     "metadata": {},
     "output_type": "execute_result"
    }
   ],
   "source": [
    "print(data['cityCenters_nearest'].isna().sum()/ len(data['cityCenters_nearest'])*100)\n",
    "data['cityCenters_nearest'].isna().sum()"
   ]
  },
  {
   "cell_type": "markdown",
   "metadata": {},
   "source": [
    "Примечательно что отсутствуют данные о близости центра города в тех же 23% случаев. Этот пункт заполняла система, а не пользователь.\n",
    "\n",
    "Пропущенные значения оставим пропущенными."
   ]
  },
  {
   "cell_type": "markdown",
   "metadata": {},
   "source": [
    "#### Пропуски данных о парках - количество парков на расттоянии 3000 метров (parks_around3000) и расстояние до ближайшего парка (parks_nearest)."
   ]
  },
  {
   "cell_type": "markdown",
   "metadata": {},
   "source": [
    "Проверим сколько процентов значений от общего числа входящих данных пропущенно в столбце о количестве парков на расттоянии 3000 метров (parks_around3000). Для этого используем методы isna() и sum(), и разделим полученное значение на число входящих данных в таблице."
   ]
  },
  {
   "cell_type": "code",
   "execution_count": 30,
   "metadata": {},
   "outputs": [
    {
     "name": "stdout",
     "output_type": "stream",
     "text": [
      "22.116865614170198\n"
     ]
    },
    {
     "data": {
      "text/plain": [
       "4595"
      ]
     },
     "execution_count": 30,
     "metadata": {},
     "output_type": "execute_result"
    }
   ],
   "source": [
    "print(data['parks_around3000'].isna().sum()/ len(data['parks_around3000'])*100)\n",
    "data['parks_around3000'].isna().sum()"
   ]
  },
  {
   "cell_type": "markdown",
   "metadata": {},
   "source": [
    "Примечательно что те же 23% как и в данных о расстоянии до центра и о расстоянии до аэропорта оказались с пропущенными данными. Оставим эти данные пока с пропуском."
   ]
  },
  {
   "cell_type": "markdown",
   "metadata": {},
   "source": [
    "Проверим сколько процентов значений от общего числа входящих данных пропущенно в столбце с расстоянием до ближайшего парка (parks_nearest). Для этого используем методы isna() и sum(), и разделим полученное значение на число входящих данных в таблице."
   ]
  },
  {
   "cell_type": "code",
   "execution_count": 31,
   "metadata": {},
   "outputs": [
    {
     "name": "stdout",
     "output_type": "stream",
     "text": [
      "65.33018867924528\n"
     ]
    },
    {
     "data": {
      "text/plain": [
       "13573"
      ]
     },
     "execution_count": 31,
     "metadata": {},
     "output_type": "execute_result"
    }
   ],
   "source": [
    "print(data['parks_nearest'].isna().sum()/ len(data['parks_nearest'])*100)\n",
    "data['parks_nearest'].isna().sum()"
   ]
  },
  {
   "cell_type": "markdown",
   "metadata": {},
   "source": [
    "Пропусков в данных с количеством парков на расстоянии 3000 метров значительно меньше, чем пропусков данных с расстоянием до парка. Вероятно если расстояние до ближайшего парка было больше 3000 метров, клиенты при заполнении анкеты просто не указывали расстояние до ближайшего парка. \n",
    "Заменим пропуски расстояния до ближайшего парка на 3001 м если количество парко на расстоянии меньше 3000 метров равно 0."
   ]
  },
  {
   "cell_type": "code",
   "execution_count": 32,
   "metadata": {},
   "outputs": [
    {
     "data": {
      "text/plain": [
       "4595"
      ]
     },
     "execution_count": 32,
     "metadata": {},
     "output_type": "execute_result"
    }
   ],
   "source": [
    "data.loc[data['parks_around3000'] ==0, 'parks_nearest'] = data['parks_nearest'].fillna(3001)\n",
    "data['parks_nearest'].isna().sum()"
   ]
  },
  {
   "cell_type": "markdown",
   "metadata": {},
   "source": [
    "Теперь количество пропусков о расстоянии до парков равно количеству пропусков о парках в близи 3000 м.\n",
    "Эти пропуски заменять не будем."
   ]
  },
  {
   "cell_type": "markdown",
   "metadata": {},
   "source": [
    "<div class=\"alert alert-block alert-success\">\n",
    "<b>Success:</b> вообще, если мы не используем эти стлбцы в исследовании, можно и вовсе удалить"
   ]
  },
  {
   "cell_type": "markdown",
   "metadata": {},
   "source": [
    "#### Пропуски данных о водоемах -  количество водоемов на расстоянии 3000 метров (ponds_around3000) и расстояние до ближайшего водоема (ponds_nearest) "
   ]
  },
  {
   "cell_type": "markdown",
   "metadata": {},
   "source": [
    "Проверим сколько процентов значений от общего числа входящих данных пропущенно в столбце о количестве водоемов на расстоянии 3000 метров (ponds_around3000). Для этого используем методы isna() и sum(), и разделим полученное значение на число входящих данных в таблице."
   ]
  },
  {
   "cell_type": "code",
   "execution_count": 33,
   "metadata": {},
   "outputs": [
    {
     "name": "stdout",
     "output_type": "stream",
     "text": [
      "22.116865614170198\n"
     ]
    },
    {
     "data": {
      "text/plain": [
       "4595"
      ]
     },
     "execution_count": 33,
     "metadata": {},
     "output_type": "execute_result"
    }
   ],
   "source": [
    "print(data['ponds_around3000'].isna().sum()/ len(data['ponds_around3000'])*100)\n",
    "data['ponds_around3000'].isna().sum()"
   ]
  },
  {
   "cell_type": "markdown",
   "metadata": {},
   "source": [
    "Опять это значение пропущено в 23 процентах случаев в 5500 строчках, такие же цифры были в столбцах о количестве парков по близости, расстоянии до аэропорта и до центра города."
   ]
  },
  {
   "cell_type": "markdown",
   "metadata": {},
   "source": [
    "Проверим сколько процентов значений от общего числа входящих данных пропущенно в столбце с расстоянием до ближайшего парка (ponds_nearest). Для этого используем методы isna() и sum(), и разделим полученное значение на число входящих данных в таблице."
   ]
  },
  {
   "cell_type": "code",
   "execution_count": 34,
   "metadata": {},
   "outputs": [
    {
     "name": "stdout",
     "output_type": "stream",
     "text": [
      "61.3544474393531\n"
     ]
    },
    {
     "data": {
      "text/plain": [
       "12747"
      ]
     },
     "execution_count": 34,
     "metadata": {},
     "output_type": "execute_result"
    }
   ],
   "source": [
    "print(data['ponds_nearest'].isna().sum()/ len(data['ponds_nearest'])*100)\n",
    "data['ponds_nearest'].isna().sum()"
   ]
  },
  {
   "cell_type": "markdown",
   "metadata": {},
   "source": [
    "Пропусков в данных с количеством водоемов на расстоянии 3000 метров значительно меньше, чем пропусков данных с расстоянием до водоема. Вероятно если расстояние до ближайшего водоема было больше 3000 метров, клиенты при заполнении анкеты просто не указывали расстояние до ближайшего водоема. \n",
    "Заменим пропуски расстояния до ближайшего водоема на 3001 м если количество водоемов на расстоянии меньше 3000 метров равно 0."
   ]
  },
  {
   "cell_type": "markdown",
   "metadata": {},
   "source": [
    "Теперь количество пропусков о расстоянии до водоема равно количеству пропусков о водоемах в близи 3000 м.\n",
    "Эти пропуски заменять не будем."
   ]
  },
  {
   "cell_type": "code",
   "execution_count": 35,
   "metadata": {
    "scrolled": true
   },
   "outputs": [
    {
     "data": {
      "text/plain": [
       "4595"
      ]
     },
     "execution_count": 35,
     "metadata": {},
     "output_type": "execute_result"
    }
   ],
   "source": [
    "data.loc[data['ponds_around3000'] ==0, 'ponds_nearest'] = data['ponds_nearest'].fillna(3001)\n",
    "data['ponds_nearest'].isna().sum()"
   ]
  },
  {
   "cell_type": "markdown",
   "metadata": {},
   "source": [
    "#### Пропуски сколько дней висит объявление (days_exposition)"
   ]
  },
  {
   "cell_type": "markdown",
   "metadata": {},
   "source": [
    "Проверим сколько процентов значений от общего числа входящих данных пропущенно в столбце сколько дней висит объявление (days_exposition). Для этого используем методы isna() и sum(), и разделим полученное значение на число входящих данных в таблице."
   ]
  },
  {
   "cell_type": "code",
   "execution_count": 36,
   "metadata": {},
   "outputs": [
    {
     "name": "stdout",
     "output_type": "stream",
     "text": [
      "13.809202926453601\n"
     ]
    },
    {
     "data": {
      "text/plain": [
       "2869"
      ]
     },
     "execution_count": 36,
     "metadata": {},
     "output_type": "execute_result"
    }
   ],
   "source": [
    "print(data['days_exposition'].isna().sum()/ len(data['days_exposition'])*100)\n",
    "data['days_exposition'].isna().sum()"
   ]
  },
  {
   "cell_type": "markdown",
   "metadata": {},
   "source": [
    "Посмотрим какие данные есть о сроке объявления при помощи метода describe()."
   ]
  },
  {
   "cell_type": "code",
   "execution_count": 37,
   "metadata": {
    "scrolled": true
   },
   "outputs": [
    {
     "data": {
      "text/plain": [
       "count    17907.000000\n",
       "mean       185.746859\n",
       "std        222.176077\n",
       "min          1.000000\n",
       "25%         45.000000\n",
       "50%        102.000000\n",
       "75%        239.000000\n",
       "max       1580.000000\n",
       "Name: days_exposition, dtype: float64"
      ]
     },
     "execution_count": 37,
     "metadata": {},
     "output_type": "execute_result"
    }
   ],
   "source": [
    "data['days_exposition'].describe()"
   ]
  },
  {
   "cell_type": "markdown",
   "metadata": {},
   "source": [
    "Примечательно что минимальное значение в этом столбце 0 дней, возможно отсутвие значений это техническая ошибка и система при заполнении таблицы не вносила данные о очень свежих объявлениях. Пропуски в этмо столбце говорят о том что на момент сбора данных объявление не было закрыто. Заменим отсутствующие значения на 0.\n"
   ]
  },
  {
   "cell_type": "code",
   "execution_count": 38,
   "metadata": {},
   "outputs": [
    {
     "data": {
      "text/plain": [
       "0"
      ]
     },
     "execution_count": 38,
     "metadata": {},
     "output_type": "execute_result"
    }
   ],
   "source": [
    "data['days_exposition'] = data['days_exposition'].fillna(0)\n",
    "data['days_exposition'].isna().sum()"
   ]
  },
  {
   "cell_type": "markdown",
   "metadata": {},
   "source": [
    "Посмотрим в скольких квартирах открытая планировка или студия."
   ]
  },
  {
   "cell_type": "code",
   "execution_count": 39,
   "metadata": {},
   "outputs": [
    {
     "data": {
      "text/plain": [
       "0"
      ]
     },
     "execution_count": 39,
     "metadata": {},
     "output_type": "execute_result"
    }
   ],
   "source": [
    "data_open_area = data[ (data['studio']==True) | (data['open_plan']==True) ]\n",
    "len(data_open_area)"
   ]
  },
  {
   "cell_type": "code",
   "execution_count": 40,
   "metadata": {},
   "outputs": [
    {
     "data": {
      "text/html": [
       "<div>\n",
       "<style scoped>\n",
       "    .dataframe tbody tr th:only-of-type {\n",
       "        vertical-align: middle;\n",
       "    }\n",
       "\n",
       "    .dataframe tbody tr th {\n",
       "        vertical-align: top;\n",
       "    }\n",
       "\n",
       "    .dataframe thead th {\n",
       "        text-align: right;\n",
       "    }\n",
       "</style>\n",
       "<table border=\"1\" class=\"dataframe\">\n",
       "  <thead>\n",
       "    <tr style=\"text-align: right;\">\n",
       "      <th></th>\n",
       "      <th>total_images</th>\n",
       "      <th>last_price</th>\n",
       "      <th>total_area</th>\n",
       "      <th>first_day_exposition</th>\n",
       "      <th>rooms</th>\n",
       "      <th>ceiling_height</th>\n",
       "      <th>floors_total</th>\n",
       "      <th>living_area</th>\n",
       "      <th>floor</th>\n",
       "      <th>is_apartment</th>\n",
       "      <th>...</th>\n",
       "      <th>balcony</th>\n",
       "      <th>locality_name</th>\n",
       "      <th>airports_nearest</th>\n",
       "      <th>cityCenters_nearest</th>\n",
       "      <th>parks_around3000</th>\n",
       "      <th>parks_nearest</th>\n",
       "      <th>ponds_around3000</th>\n",
       "      <th>ponds_nearest</th>\n",
       "      <th>days_exposition</th>\n",
       "      <th>sum_area</th>\n",
       "    </tr>\n",
       "  </thead>\n",
       "  <tbody>\n",
       "    <tr>\n",
       "      <td>0</td>\n",
       "      <td>20</td>\n",
       "      <td>13000000.0</td>\n",
       "      <td>108.00</td>\n",
       "      <td>2019-03-07T00:00:00</td>\n",
       "      <td>3</td>\n",
       "      <td>2.70</td>\n",
       "      <td>16.0</td>\n",
       "      <td>51.00</td>\n",
       "      <td>8</td>\n",
       "      <td>False</td>\n",
       "      <td>...</td>\n",
       "      <td>0.0</td>\n",
       "      <td>Санкт-Петербург</td>\n",
       "      <td>18863.0</td>\n",
       "      <td>16028.0</td>\n",
       "      <td>1.0</td>\n",
       "      <td>482.0</td>\n",
       "      <td>2.0</td>\n",
       "      <td>755.0</td>\n",
       "      <td>0.0</td>\n",
       "      <td>76.00</td>\n",
       "    </tr>\n",
       "    <tr>\n",
       "      <td>1</td>\n",
       "      <td>7</td>\n",
       "      <td>3350000.0</td>\n",
       "      <td>40.40</td>\n",
       "      <td>2018-12-04T00:00:00</td>\n",
       "      <td>1</td>\n",
       "      <td>2.65</td>\n",
       "      <td>11.0</td>\n",
       "      <td>18.60</td>\n",
       "      <td>1</td>\n",
       "      <td>False</td>\n",
       "      <td>...</td>\n",
       "      <td>2.0</td>\n",
       "      <td>посёлок Шушары</td>\n",
       "      <td>12817.0</td>\n",
       "      <td>18603.0</td>\n",
       "      <td>0.0</td>\n",
       "      <td>3001.0</td>\n",
       "      <td>0.0</td>\n",
       "      <td>3001.0</td>\n",
       "      <td>81.0</td>\n",
       "      <td>29.60</td>\n",
       "    </tr>\n",
       "    <tr>\n",
       "      <td>2</td>\n",
       "      <td>10</td>\n",
       "      <td>5196000.0</td>\n",
       "      <td>56.00</td>\n",
       "      <td>2015-08-20T00:00:00</td>\n",
       "      <td>2</td>\n",
       "      <td>2.65</td>\n",
       "      <td>5.0</td>\n",
       "      <td>34.30</td>\n",
       "      <td>4</td>\n",
       "      <td>False</td>\n",
       "      <td>...</td>\n",
       "      <td>0.0</td>\n",
       "      <td>Санкт-Петербург</td>\n",
       "      <td>21741.0</td>\n",
       "      <td>13933.0</td>\n",
       "      <td>1.0</td>\n",
       "      <td>90.0</td>\n",
       "      <td>2.0</td>\n",
       "      <td>574.0</td>\n",
       "      <td>558.0</td>\n",
       "      <td>42.60</td>\n",
       "    </tr>\n",
       "    <tr>\n",
       "      <td>4</td>\n",
       "      <td>2</td>\n",
       "      <td>10000000.0</td>\n",
       "      <td>100.00</td>\n",
       "      <td>2018-06-19T00:00:00</td>\n",
       "      <td>2</td>\n",
       "      <td>3.03</td>\n",
       "      <td>14.0</td>\n",
       "      <td>32.00</td>\n",
       "      <td>13</td>\n",
       "      <td>False</td>\n",
       "      <td>...</td>\n",
       "      <td>0.0</td>\n",
       "      <td>Санкт-Петербург</td>\n",
       "      <td>31856.0</td>\n",
       "      <td>8098.0</td>\n",
       "      <td>2.0</td>\n",
       "      <td>112.0</td>\n",
       "      <td>1.0</td>\n",
       "      <td>48.0</td>\n",
       "      <td>121.0</td>\n",
       "      <td>73.00</td>\n",
       "    </tr>\n",
       "    <tr>\n",
       "      <td>5</td>\n",
       "      <td>10</td>\n",
       "      <td>2890000.0</td>\n",
       "      <td>30.40</td>\n",
       "      <td>2018-09-10T00:00:00</td>\n",
       "      <td>1</td>\n",
       "      <td>2.65</td>\n",
       "      <td>12.0</td>\n",
       "      <td>14.40</td>\n",
       "      <td>5</td>\n",
       "      <td>False</td>\n",
       "      <td>...</td>\n",
       "      <td>0.0</td>\n",
       "      <td>городской поселок Янино-1</td>\n",
       "      <td>NaN</td>\n",
       "      <td>NaN</td>\n",
       "      <td>NaN</td>\n",
       "      <td>NaN</td>\n",
       "      <td>NaN</td>\n",
       "      <td>NaN</td>\n",
       "      <td>55.0</td>\n",
       "      <td>23.50</td>\n",
       "    </tr>\n",
       "    <tr>\n",
       "      <td>6</td>\n",
       "      <td>6</td>\n",
       "      <td>3700000.0</td>\n",
       "      <td>37.30</td>\n",
       "      <td>2017-11-02T00:00:00</td>\n",
       "      <td>1</td>\n",
       "      <td>2.65</td>\n",
       "      <td>26.0</td>\n",
       "      <td>10.60</td>\n",
       "      <td>6</td>\n",
       "      <td>False</td>\n",
       "      <td>...</td>\n",
       "      <td>1.0</td>\n",
       "      <td>посёлок Парголово</td>\n",
       "      <td>52996.0</td>\n",
       "      <td>19143.0</td>\n",
       "      <td>0.0</td>\n",
       "      <td>3001.0</td>\n",
       "      <td>0.0</td>\n",
       "      <td>3001.0</td>\n",
       "      <td>155.0</td>\n",
       "      <td>25.00</td>\n",
       "    </tr>\n",
       "    <tr>\n",
       "      <td>8</td>\n",
       "      <td>20</td>\n",
       "      <td>2900000.0</td>\n",
       "      <td>33.16</td>\n",
       "      <td>2018-05-23T00:00:00</td>\n",
       "      <td>1</td>\n",
       "      <td>2.65</td>\n",
       "      <td>27.0</td>\n",
       "      <td>15.43</td>\n",
       "      <td>26</td>\n",
       "      <td>False</td>\n",
       "      <td>...</td>\n",
       "      <td>0.0</td>\n",
       "      <td>поселок Мурино</td>\n",
       "      <td>NaN</td>\n",
       "      <td>NaN</td>\n",
       "      <td>NaN</td>\n",
       "      <td>NaN</td>\n",
       "      <td>NaN</td>\n",
       "      <td>NaN</td>\n",
       "      <td>189.0</td>\n",
       "      <td>24.24</td>\n",
       "    </tr>\n",
       "    <tr>\n",
       "      <td>9</td>\n",
       "      <td>18</td>\n",
       "      <td>5400000.0</td>\n",
       "      <td>61.00</td>\n",
       "      <td>2017-02-26T00:00:00</td>\n",
       "      <td>3</td>\n",
       "      <td>2.50</td>\n",
       "      <td>9.0</td>\n",
       "      <td>43.60</td>\n",
       "      <td>7</td>\n",
       "      <td>False</td>\n",
       "      <td>...</td>\n",
       "      <td>2.0</td>\n",
       "      <td>Санкт-Петербург</td>\n",
       "      <td>50898.0</td>\n",
       "      <td>15008.0</td>\n",
       "      <td>0.0</td>\n",
       "      <td>3001.0</td>\n",
       "      <td>0.0</td>\n",
       "      <td>3001.0</td>\n",
       "      <td>289.0</td>\n",
       "      <td>50.10</td>\n",
       "    </tr>\n",
       "    <tr>\n",
       "      <td>10</td>\n",
       "      <td>5</td>\n",
       "      <td>5050000.0</td>\n",
       "      <td>39.60</td>\n",
       "      <td>2017-11-16T00:00:00</td>\n",
       "      <td>1</td>\n",
       "      <td>2.67</td>\n",
       "      <td>12.0</td>\n",
       "      <td>20.30</td>\n",
       "      <td>3</td>\n",
       "      <td>False</td>\n",
       "      <td>...</td>\n",
       "      <td>0.0</td>\n",
       "      <td>Санкт-Петербург</td>\n",
       "      <td>38357.0</td>\n",
       "      <td>13878.0</td>\n",
       "      <td>1.0</td>\n",
       "      <td>310.0</td>\n",
       "      <td>2.0</td>\n",
       "      <td>553.0</td>\n",
       "      <td>137.0</td>\n",
       "      <td>28.80</td>\n",
       "    </tr>\n",
       "    <tr>\n",
       "      <td>11</td>\n",
       "      <td>9</td>\n",
       "      <td>3300000.0</td>\n",
       "      <td>44.00</td>\n",
       "      <td>2018-08-27T00:00:00</td>\n",
       "      <td>2</td>\n",
       "      <td>2.65</td>\n",
       "      <td>5.0</td>\n",
       "      <td>31.00</td>\n",
       "      <td>4</td>\n",
       "      <td>False</td>\n",
       "      <td>...</td>\n",
       "      <td>1.0</td>\n",
       "      <td>Ломоносов</td>\n",
       "      <td>48252.0</td>\n",
       "      <td>51677.0</td>\n",
       "      <td>0.0</td>\n",
       "      <td>3001.0</td>\n",
       "      <td>0.0</td>\n",
       "      <td>3001.0</td>\n",
       "      <td>7.0</td>\n",
       "      <td>37.00</td>\n",
       "    </tr>\n",
       "  </tbody>\n",
       "</table>\n",
       "<p>10 rows × 23 columns</p>\n",
       "</div>"
      ],
      "text/plain": [
       "    total_images  last_price  total_area first_day_exposition  rooms  \\\n",
       "0             20  13000000.0      108.00  2019-03-07T00:00:00      3   \n",
       "1              7   3350000.0       40.40  2018-12-04T00:00:00      1   \n",
       "2             10   5196000.0       56.00  2015-08-20T00:00:00      2   \n",
       "4              2  10000000.0      100.00  2018-06-19T00:00:00      2   \n",
       "5             10   2890000.0       30.40  2018-09-10T00:00:00      1   \n",
       "6              6   3700000.0       37.30  2017-11-02T00:00:00      1   \n",
       "8             20   2900000.0       33.16  2018-05-23T00:00:00      1   \n",
       "9             18   5400000.0       61.00  2017-02-26T00:00:00      3   \n",
       "10             5   5050000.0       39.60  2017-11-16T00:00:00      1   \n",
       "11             9   3300000.0       44.00  2018-08-27T00:00:00      2   \n",
       "\n",
       "    ceiling_height  floors_total  living_area  floor  is_apartment  ...  \\\n",
       "0             2.70          16.0        51.00      8         False  ...   \n",
       "1             2.65          11.0        18.60      1         False  ...   \n",
       "2             2.65           5.0        34.30      4         False  ...   \n",
       "4             3.03          14.0        32.00     13         False  ...   \n",
       "5             2.65          12.0        14.40      5         False  ...   \n",
       "6             2.65          26.0        10.60      6         False  ...   \n",
       "8             2.65          27.0        15.43     26         False  ...   \n",
       "9             2.50           9.0        43.60      7         False  ...   \n",
       "10            2.67          12.0        20.30      3         False  ...   \n",
       "11            2.65           5.0        31.00      4         False  ...   \n",
       "\n",
       "    balcony              locality_name  airports_nearest  cityCenters_nearest  \\\n",
       "0       0.0            Санкт-Петербург           18863.0              16028.0   \n",
       "1       2.0             посёлок Шушары           12817.0              18603.0   \n",
       "2       0.0            Санкт-Петербург           21741.0              13933.0   \n",
       "4       0.0            Санкт-Петербург           31856.0               8098.0   \n",
       "5       0.0  городской поселок Янино-1               NaN                  NaN   \n",
       "6       1.0          посёлок Парголово           52996.0              19143.0   \n",
       "8       0.0             поселок Мурино               NaN                  NaN   \n",
       "9       2.0            Санкт-Петербург           50898.0              15008.0   \n",
       "10      0.0            Санкт-Петербург           38357.0              13878.0   \n",
       "11      1.0                  Ломоносов           48252.0              51677.0   \n",
       "\n",
       "   parks_around3000  parks_nearest  ponds_around3000  ponds_nearest  \\\n",
       "0               1.0          482.0               2.0          755.0   \n",
       "1               0.0         3001.0               0.0         3001.0   \n",
       "2               1.0           90.0               2.0          574.0   \n",
       "4               2.0          112.0               1.0           48.0   \n",
       "5               NaN            NaN               NaN            NaN   \n",
       "6               0.0         3001.0               0.0         3001.0   \n",
       "8               NaN            NaN               NaN            NaN   \n",
       "9               0.0         3001.0               0.0         3001.0   \n",
       "10              1.0          310.0               2.0          553.0   \n",
       "11              0.0         3001.0               0.0         3001.0   \n",
       "\n",
       "    days_exposition  sum_area  \n",
       "0               0.0     76.00  \n",
       "1              81.0     29.60  \n",
       "2             558.0     42.60  \n",
       "4             121.0     73.00  \n",
       "5              55.0     23.50  \n",
       "6             155.0     25.00  \n",
       "8             189.0     24.24  \n",
       "9             289.0     50.10  \n",
       "10            137.0     28.80  \n",
       "11              7.0     37.00  \n",
       "\n",
       "[10 rows x 23 columns]"
      ]
     },
     "execution_count": 40,
     "metadata": {},
     "output_type": "execute_result"
    }
   ],
   "source": [
    "data.head(10)"
   ]
  },
  {
   "cell_type": "code",
   "execution_count": 41,
   "metadata": {},
   "outputs": [
    {
     "name": "stdout",
     "output_type": "stream",
     "text": [
      "<class 'pandas.core.frame.DataFrame'>\n",
      "Int64Index: 20776 entries, 0 to 23698\n",
      "Data columns (total 23 columns):\n",
      "total_images            20776 non-null int64\n",
      "last_price              20776 non-null float64\n",
      "total_area              20776 non-null float64\n",
      "first_day_exposition    20776 non-null object\n",
      "rooms                   20776 non-null int64\n",
      "ceiling_height          20776 non-null float64\n",
      "floors_total            20776 non-null float64\n",
      "living_area             20776 non-null float64\n",
      "floor                   20776 non-null int64\n",
      "is_apartment            20776 non-null bool\n",
      "studio                  20776 non-null bool\n",
      "open_plan               20776 non-null bool\n",
      "kitchen_area            20776 non-null float64\n",
      "balcony                 20776 non-null float64\n",
      "locality_name           20776 non-null object\n",
      "airports_nearest        16159 non-null float64\n",
      "cityCenters_nearest     16180 non-null float64\n",
      "parks_around3000        16181 non-null float64\n",
      "parks_nearest           16181 non-null float64\n",
      "ponds_around3000        16181 non-null float64\n",
      "ponds_nearest           16181 non-null float64\n",
      "days_exposition         20776 non-null float64\n",
      "sum_area                20776 non-null float64\n",
      "dtypes: bool(3), float64(15), int64(3), object(2)\n",
      "memory usage: 4.0+ MB\n"
     ]
    }
   ],
   "source": [
    "data.info()"
   ]
  },
  {
   "cell_type": "markdown",
   "metadata": {},
   "source": [
    "**Вывод:**\n",
    "Таким образом, пропущенные значения остались в столбцах близость аэропорта, близость центра города, парки и водоемы ближе 3000 метров и расстояние до ближайших парков и водоемов. Вероятно эти пропуски образовались из-за того что система по какой-то технической причине не смогла опредлеть расстояние до данных объектов (например квартиры находятся в городах где нет парков, водоемов и аэропортов).\n",
    "Пропуски высоты потолков заполнили медианным значением, предположив что клиенты не указывали высоту потолков если она была обычной.\n",
    "Данные с пропуском этажности здания удалили, этих данных было менее 1%, вероятно их не указывали из-за ошибки заполнения анкеты.\n",
    "Данные с пропуском населенного пункты так же удалили, их было менее 1% и заменить их нельзя так как населенный пункт это важная характеристика при формировании цены на недвижемость и какого-то среднего значения для этого пункта не существует. Возможно пропуски в этой колонке образовывались из-за ошибки заполнения анкеты объявления например клиенты указывали в названии объявления \"квартира в СПБ\".\n",
    "При работе с пропусками площади кухни и жилой площади приняли за рабочую грубую формулу общая площадь = жилая площадь+площадь кухни. Сначала согласно этой формуле заменили пропуски в площади кухни где это было возможно. Затем заменили оставшиеся пропуски площади квартиры на медианное значение,  так как во всех квартирах, даже студиях, должна быть выделена площадь под кухню. При замене площади кухни на медианное значение руководствовались мыслью о том, что если у человека кухня площадью отличающаяся от стандартных значений, он бы указал это в объявлении, а если она каких-то средних размеров, то об этом решили и не указывать. Далее исходя из принятой нами формулы заполнили пропуски в данных о жилой площади."
   ]
  },
  {
   "cell_type": "markdown",
   "metadata": {},
   "source": [
    "### работа с типами данных"
   ]
  },
  {
   "cell_type": "markdown",
   "metadata": {},
   "source": [
    "методом DataFrame.info(). Нас интересуют точные сведения о размере объекта, поэтому мы установим параметр memory_usage в значение 'deep'."
   ]
  },
  {
   "cell_type": "code",
   "execution_count": 42,
   "metadata": {},
   "outputs": [
    {
     "name": "stdout",
     "output_type": "stream",
     "text": [
      "<class 'pandas.core.frame.DataFrame'>\n",
      "Int64Index: 20776 entries, 0 to 23698\n",
      "Data columns (total 23 columns):\n",
      "total_images            20776 non-null int64\n",
      "last_price              20776 non-null float64\n",
      "total_area              20776 non-null float64\n",
      "first_day_exposition    20776 non-null object\n",
      "rooms                   20776 non-null int64\n",
      "ceiling_height          20776 non-null float64\n",
      "floors_total            20776 non-null float64\n",
      "living_area             20776 non-null float64\n",
      "floor                   20776 non-null int64\n",
      "is_apartment            20776 non-null bool\n",
      "studio                  20776 non-null bool\n",
      "open_plan               20776 non-null bool\n",
      "kitchen_area            20776 non-null float64\n",
      "balcony                 20776 non-null float64\n",
      "locality_name           20776 non-null object\n",
      "airports_nearest        16159 non-null float64\n",
      "cityCenters_nearest     16180 non-null float64\n",
      "parks_around3000        16181 non-null float64\n",
      "parks_nearest           16181 non-null float64\n",
      "ponds_around3000        16181 non-null float64\n",
      "ponds_nearest           16181 non-null float64\n",
      "days_exposition         20776 non-null float64\n",
      "sum_area                20776 non-null float64\n",
      "dtypes: bool(3), float64(15), int64(3), object(2)\n",
      "memory usage: 7.9 MB\n"
     ]
    }
   ],
   "source": [
    "data.info(memory_usage='deep')"
   ]
  },
  {
   "cell_type": "markdown",
   "metadata": {},
   "source": [
    "В столбце first_day_exposition тип данных object, заменим на datetime."
   ]
  },
  {
   "cell_type": "code",
   "execution_count": 43,
   "metadata": {},
   "outputs": [],
   "source": [
    "data['first_day_exposition'] = pd.to_datetime(data['first_day_exposition'], format='%Y-%m-%dT%H:%M:%S')"
   ]
  },
  {
   "cell_type": "markdown",
   "metadata": {},
   "source": [
    "В столбце этажности зданий (floors_total) тип данных  float64, тогда так логичнее что бы это были целочисленные данные. Вещественные данные в целочисленные переводят методом astype() на int8."
   ]
  },
  {
   "cell_type": "code",
   "execution_count": 44,
   "metadata": {
    "scrolled": false
   },
   "outputs": [],
   "source": [
    "data['floors_total'] = data['floors_total'].astype('int8')"
   ]
  },
  {
   "cell_type": "markdown",
   "metadata": {},
   "source": [
    "В столбце количество балконов (balcony) тип данных float64, тогда так логичнее что бы это были целочисленные данные. Вещественные данные в целочисленные переводят методом astype() на int8."
   ]
  },
  {
   "cell_type": "code",
   "execution_count": 45,
   "metadata": {},
   "outputs": [],
   "source": [
    "data['balcony'] = data['balcony'].astype('int8')"
   ]
  },
  {
   "cell_type": "markdown",
   "metadata": {},
   "source": [
    "В столбце количество дни объявления (days_exposition) тип данных float64, тогда так логичнее что бы это были целочисленные данные. Вещественные данные в целочисленные переводят методом astype() на uint8."
   ]
  },
  {
   "cell_type": "code",
   "execution_count": 46,
   "metadata": {},
   "outputs": [],
   "source": [
    "data['days_exposition'] = data['days_exposition'].astype('uint8')"
   ]
  },
  {
   "cell_type": "markdown",
   "metadata": {},
   "source": [
    "Заменим тип int64 на int8 для уменьшения скорости вычислений"
   ]
  },
  {
   "cell_type": "code",
   "execution_count": 47,
   "metadata": {},
   "outputs": [],
   "source": [
    "data['total_images'] = data['total_images'].astype('int8')\n",
    "data['rooms'] = data['rooms'].astype('int8')\n",
    "data['floor'] = data['floor'].astype('int8')"
   ]
  },
  {
   "cell_type": "markdown",
   "metadata": {},
   "source": [
    "Заменим тип float64 на float16 для уменьшения скорости вычислений"
   ]
  },
  {
   "cell_type": "code",
   "execution_count": 48,
   "metadata": {},
   "outputs": [],
   "source": [
    "data['total_area'] = data['total_area'].astype('float16')\n",
    "data['ceiling_height'] = data['ceiling_height'].astype('float16')\n",
    "data['kitchen_area'] = data['kitchen_area'].astype('float16')\n",
    "data['airports_nearest'] = data['airports_nearest'].astype('float16')\n",
    "data['parks_around3000'] = data['parks_around3000'].astype('float16')\n",
    "data['parks_nearest'] = data['parks_nearest'].astype('float16')\n",
    "data['ponds_around3000'] = data['ponds_around3000'].astype('float16')\n",
    "data['ponds_nearest'] = data['ponds_nearest'].astype('float16')\n",
    "data['sum_area'] = data['sum_area'].astype('float16')"
   ]
  },
  {
   "cell_type": "code",
   "execution_count": 49,
   "metadata": {},
   "outputs": [
    {
     "name": "stdout",
     "output_type": "stream",
     "text": [
      "<class 'pandas.core.frame.DataFrame'>\n",
      "Int64Index: 20776 entries, 0 to 23698\n",
      "Data columns (total 23 columns):\n",
      "total_images            20776 non-null int8\n",
      "last_price              20776 non-null float64\n",
      "total_area              20776 non-null float16\n",
      "first_day_exposition    20776 non-null datetime64[ns]\n",
      "rooms                   20776 non-null int8\n",
      "ceiling_height          20776 non-null float16\n",
      "floors_total            20776 non-null int8\n",
      "living_area             20776 non-null float64\n",
      "floor                   20776 non-null int8\n",
      "is_apartment            20776 non-null bool\n",
      "studio                  20776 non-null bool\n",
      "open_plan               20776 non-null bool\n",
      "kitchen_area            20776 non-null float16\n",
      "balcony                 20776 non-null int8\n",
      "locality_name           20776 non-null object\n",
      "airports_nearest        16159 non-null float16\n",
      "cityCenters_nearest     16180 non-null float64\n",
      "parks_around3000        16181 non-null float16\n",
      "parks_nearest           16181 non-null float16\n",
      "ponds_around3000        16181 non-null float16\n",
      "ponds_nearest           16181 non-null float16\n",
      "days_exposition         20776 non-null uint8\n",
      "sum_area                20776 non-null float16\n",
      "dtypes: bool(3), datetime64[ns](1), float16(9), float64(3), int8(5), object(1), uint8(1)\n",
      "memory usage: 4.7 MB\n"
     ]
    }
   ],
   "source": [
    "data.info(memory_usage='deep')"
   ]
  },
  {
   "cell_type": "markdown",
   "metadata": {},
   "source": [
    "В пунктах количество парков по близости и количество водоемов по близости не можем изменить тип данных, так как там остались пропущенные значения"
   ]
  },
  {
   "cell_type": "markdown",
   "metadata": {},
   "source": [
    "**Вывод:**\n",
    "Изменили тип данных в столбце first_day_exposition  на datetime, в столбцах этажности зданий (floors_total), количество балконов (balcony) и количество дней объявления (days_exposition) на целочисленные. Заменили тип float64 на float16 и int64 на int8 для уменьшения размера датафрейма (уменьшился с 7,9МВ до 4,4МВ) и для увеличения скорости вычислений."
   ]
  },
  {
   "cell_type": "markdown",
   "metadata": {},
   "source": [
    "## Расчёты и добавление результатов в таблицу"
   ]
  },
  {
   "cell_type": "markdown",
   "metadata": {},
   "source": [
    "### цена квадратного метра"
   ]
  },
  {
   "cell_type": "markdown",
   "metadata": {},
   "source": [
    "Посчитаем и добавим в таблицу данные о цене квадратного метра."
   ]
  },
  {
   "cell_type": "code",
   "execution_count": 50,
   "metadata": {},
   "outputs": [
    {
     "data": {
      "text/html": [
       "<div>\n",
       "<style scoped>\n",
       "    .dataframe tbody tr th:only-of-type {\n",
       "        vertical-align: middle;\n",
       "    }\n",
       "\n",
       "    .dataframe tbody tr th {\n",
       "        vertical-align: top;\n",
       "    }\n",
       "\n",
       "    .dataframe thead th {\n",
       "        text-align: right;\n",
       "    }\n",
       "</style>\n",
       "<table border=\"1\" class=\"dataframe\">\n",
       "  <thead>\n",
       "    <tr style=\"text-align: right;\">\n",
       "      <th></th>\n",
       "      <th>total_images</th>\n",
       "      <th>last_price</th>\n",
       "      <th>total_area</th>\n",
       "      <th>first_day_exposition</th>\n",
       "      <th>rooms</th>\n",
       "      <th>ceiling_height</th>\n",
       "      <th>floors_total</th>\n",
       "      <th>living_area</th>\n",
       "      <th>floor</th>\n",
       "      <th>is_apartment</th>\n",
       "      <th>...</th>\n",
       "      <th>locality_name</th>\n",
       "      <th>airports_nearest</th>\n",
       "      <th>cityCenters_nearest</th>\n",
       "      <th>parks_around3000</th>\n",
       "      <th>parks_nearest</th>\n",
       "      <th>ponds_around3000</th>\n",
       "      <th>ponds_nearest</th>\n",
       "      <th>days_exposition</th>\n",
       "      <th>sum_area</th>\n",
       "      <th>square_meter_price</th>\n",
       "    </tr>\n",
       "  </thead>\n",
       "  <tbody>\n",
       "    <tr>\n",
       "      <td>0</td>\n",
       "      <td>20</td>\n",
       "      <td>13000000.0</td>\n",
       "      <td>108.00000</td>\n",
       "      <td>2019-03-07</td>\n",
       "      <td>3</td>\n",
       "      <td>2.699219</td>\n",
       "      <td>16</td>\n",
       "      <td>51.0</td>\n",
       "      <td>8</td>\n",
       "      <td>False</td>\n",
       "      <td>...</td>\n",
       "      <td>Санкт-Петербург</td>\n",
       "      <td>18864.0</td>\n",
       "      <td>16028.0</td>\n",
       "      <td>1.0</td>\n",
       "      <td>482.0</td>\n",
       "      <td>2.0</td>\n",
       "      <td>755.0</td>\n",
       "      <td>0</td>\n",
       "      <td>76.00000</td>\n",
       "      <td>120370.370370</td>\n",
       "    </tr>\n",
       "    <tr>\n",
       "      <td>1</td>\n",
       "      <td>7</td>\n",
       "      <td>3350000.0</td>\n",
       "      <td>40.40625</td>\n",
       "      <td>2018-12-04</td>\n",
       "      <td>1</td>\n",
       "      <td>2.650391</td>\n",
       "      <td>11</td>\n",
       "      <td>18.6</td>\n",
       "      <td>1</td>\n",
       "      <td>False</td>\n",
       "      <td>...</td>\n",
       "      <td>посёлок Шушары</td>\n",
       "      <td>12816.0</td>\n",
       "      <td>18603.0</td>\n",
       "      <td>0.0</td>\n",
       "      <td>3000.0</td>\n",
       "      <td>0.0</td>\n",
       "      <td>3000.0</td>\n",
       "      <td>81</td>\n",
       "      <td>29.59375</td>\n",
       "      <td>82907.965971</td>\n",
       "    </tr>\n",
       "    <tr>\n",
       "      <td>2</td>\n",
       "      <td>10</td>\n",
       "      <td>5196000.0</td>\n",
       "      <td>56.00000</td>\n",
       "      <td>2015-08-20</td>\n",
       "      <td>2</td>\n",
       "      <td>2.650391</td>\n",
       "      <td>5</td>\n",
       "      <td>34.3</td>\n",
       "      <td>4</td>\n",
       "      <td>False</td>\n",
       "      <td>...</td>\n",
       "      <td>Санкт-Петербург</td>\n",
       "      <td>21744.0</td>\n",
       "      <td>13933.0</td>\n",
       "      <td>1.0</td>\n",
       "      <td>90.0</td>\n",
       "      <td>2.0</td>\n",
       "      <td>574.0</td>\n",
       "      <td>46</td>\n",
       "      <td>42.59375</td>\n",
       "      <td>92785.714286</td>\n",
       "    </tr>\n",
       "    <tr>\n",
       "      <td>4</td>\n",
       "      <td>2</td>\n",
       "      <td>10000000.0</td>\n",
       "      <td>100.00000</td>\n",
       "      <td>2018-06-19</td>\n",
       "      <td>2</td>\n",
       "      <td>3.029297</td>\n",
       "      <td>14</td>\n",
       "      <td>32.0</td>\n",
       "      <td>13</td>\n",
       "      <td>False</td>\n",
       "      <td>...</td>\n",
       "      <td>Санкт-Петербург</td>\n",
       "      <td>31856.0</td>\n",
       "      <td>8098.0</td>\n",
       "      <td>2.0</td>\n",
       "      <td>112.0</td>\n",
       "      <td>1.0</td>\n",
       "      <td>48.0</td>\n",
       "      <td>121</td>\n",
       "      <td>73.00000</td>\n",
       "      <td>100000.000000</td>\n",
       "    </tr>\n",
       "    <tr>\n",
       "      <td>5</td>\n",
       "      <td>10</td>\n",
       "      <td>2890000.0</td>\n",
       "      <td>30.40625</td>\n",
       "      <td>2018-09-10</td>\n",
       "      <td>1</td>\n",
       "      <td>2.650391</td>\n",
       "      <td>12</td>\n",
       "      <td>14.4</td>\n",
       "      <td>5</td>\n",
       "      <td>False</td>\n",
       "      <td>...</td>\n",
       "      <td>городской поселок Янино-1</td>\n",
       "      <td>NaN</td>\n",
       "      <td>NaN</td>\n",
       "      <td>NaN</td>\n",
       "      <td>NaN</td>\n",
       "      <td>NaN</td>\n",
       "      <td>NaN</td>\n",
       "      <td>55</td>\n",
       "      <td>23.50000</td>\n",
       "      <td>95046.248715</td>\n",
       "    </tr>\n",
       "  </tbody>\n",
       "</table>\n",
       "<p>5 rows × 24 columns</p>\n",
       "</div>"
      ],
      "text/plain": [
       "   total_images  last_price  total_area first_day_exposition  rooms  \\\n",
       "0            20  13000000.0   108.00000           2019-03-07      3   \n",
       "1             7   3350000.0    40.40625           2018-12-04      1   \n",
       "2            10   5196000.0    56.00000           2015-08-20      2   \n",
       "4             2  10000000.0   100.00000           2018-06-19      2   \n",
       "5            10   2890000.0    30.40625           2018-09-10      1   \n",
       "\n",
       "   ceiling_height  floors_total  living_area  floor  is_apartment  ...  \\\n",
       "0        2.699219            16         51.0      8         False  ...   \n",
       "1        2.650391            11         18.6      1         False  ...   \n",
       "2        2.650391             5         34.3      4         False  ...   \n",
       "4        3.029297            14         32.0     13         False  ...   \n",
       "5        2.650391            12         14.4      5         False  ...   \n",
       "\n",
       "               locality_name  airports_nearest  cityCenters_nearest  \\\n",
       "0            Санкт-Петербург           18864.0              16028.0   \n",
       "1             посёлок Шушары           12816.0              18603.0   \n",
       "2            Санкт-Петербург           21744.0              13933.0   \n",
       "4            Санкт-Петербург           31856.0               8098.0   \n",
       "5  городской поселок Янино-1               NaN                  NaN   \n",
       "\n",
       "   parks_around3000 parks_nearest  ponds_around3000  ponds_nearest  \\\n",
       "0               1.0         482.0               2.0          755.0   \n",
       "1               0.0        3000.0               0.0         3000.0   \n",
       "2               1.0          90.0               2.0          574.0   \n",
       "4               2.0         112.0               1.0           48.0   \n",
       "5               NaN           NaN               NaN            NaN   \n",
       "\n",
       "   days_exposition  sum_area  square_meter_price  \n",
       "0                0  76.00000       120370.370370  \n",
       "1               81  29.59375        82907.965971  \n",
       "2               46  42.59375        92785.714286  \n",
       "4              121  73.00000       100000.000000  \n",
       "5               55  23.50000        95046.248715  \n",
       "\n",
       "[5 rows x 24 columns]"
      ]
     },
     "execution_count": 50,
     "metadata": {},
     "output_type": "execute_result"
    }
   ],
   "source": [
    "data['square_meter_price'] = data['last_price']/data['total_area']\n",
    "data.head()"
   ]
  },
  {
   "cell_type": "markdown",
   "metadata": {},
   "source": [
    "### день недели, месяц и год публикации объявления"
   ]
  },
  {
   "cell_type": "markdown",
   "metadata": {},
   "source": [
    "Добавим в таблицу день недели (weekday_exposition) при помощи метода dt.weekday (понедельник — день под номером 0, а воскресенье — шестой день)."
   ]
  },
  {
   "cell_type": "code",
   "execution_count": 51,
   "metadata": {},
   "outputs": [],
   "source": [
    "data['weekday_exposition'] = data['first_day_exposition'].dt.weekday"
   ]
  },
  {
   "cell_type": "markdown",
   "metadata": {},
   "source": [
    "Добавим в таблицу месяц публикации (month_exposition) атрибутом dt.month получим номер месяца для нового столбца."
   ]
  },
  {
   "cell_type": "code",
   "execution_count": 52,
   "metadata": {},
   "outputs": [],
   "source": [
    "data['month_exposition'] = data['first_day_exposition'].dt.month"
   ]
  },
  {
   "cell_type": "markdown",
   "metadata": {},
   "source": [
    "Добавим в таблицу месяц публикации (year_exposition) атрибутом dt.year получим год для нового столбца."
   ]
  },
  {
   "cell_type": "code",
   "execution_count": 53,
   "metadata": {
    "scrolled": true
   },
   "outputs": [
    {
     "data": {
      "text/html": [
       "<div>\n",
       "<style scoped>\n",
       "    .dataframe tbody tr th:only-of-type {\n",
       "        vertical-align: middle;\n",
       "    }\n",
       "\n",
       "    .dataframe tbody tr th {\n",
       "        vertical-align: top;\n",
       "    }\n",
       "\n",
       "    .dataframe thead th {\n",
       "        text-align: right;\n",
       "    }\n",
       "</style>\n",
       "<table border=\"1\" class=\"dataframe\">\n",
       "  <thead>\n",
       "    <tr style=\"text-align: right;\">\n",
       "      <th></th>\n",
       "      <th>total_images</th>\n",
       "      <th>last_price</th>\n",
       "      <th>total_area</th>\n",
       "      <th>first_day_exposition</th>\n",
       "      <th>rooms</th>\n",
       "      <th>ceiling_height</th>\n",
       "      <th>floors_total</th>\n",
       "      <th>living_area</th>\n",
       "      <th>floor</th>\n",
       "      <th>is_apartment</th>\n",
       "      <th>...</th>\n",
       "      <th>parks_around3000</th>\n",
       "      <th>parks_nearest</th>\n",
       "      <th>ponds_around3000</th>\n",
       "      <th>ponds_nearest</th>\n",
       "      <th>days_exposition</th>\n",
       "      <th>sum_area</th>\n",
       "      <th>square_meter_price</th>\n",
       "      <th>weekday_exposition</th>\n",
       "      <th>month_exposition</th>\n",
       "      <th>year_exposition</th>\n",
       "    </tr>\n",
       "  </thead>\n",
       "  <tbody>\n",
       "    <tr>\n",
       "      <td>0</td>\n",
       "      <td>20</td>\n",
       "      <td>13000000.0</td>\n",
       "      <td>108.00000</td>\n",
       "      <td>2019-03-07</td>\n",
       "      <td>3</td>\n",
       "      <td>2.699219</td>\n",
       "      <td>16</td>\n",
       "      <td>51.0</td>\n",
       "      <td>8</td>\n",
       "      <td>False</td>\n",
       "      <td>...</td>\n",
       "      <td>1.0</td>\n",
       "      <td>482.0</td>\n",
       "      <td>2.0</td>\n",
       "      <td>755.0</td>\n",
       "      <td>0</td>\n",
       "      <td>76.00000</td>\n",
       "      <td>120370.370370</td>\n",
       "      <td>3</td>\n",
       "      <td>3</td>\n",
       "      <td>2019</td>\n",
       "    </tr>\n",
       "    <tr>\n",
       "      <td>1</td>\n",
       "      <td>7</td>\n",
       "      <td>3350000.0</td>\n",
       "      <td>40.40625</td>\n",
       "      <td>2018-12-04</td>\n",
       "      <td>1</td>\n",
       "      <td>2.650391</td>\n",
       "      <td>11</td>\n",
       "      <td>18.6</td>\n",
       "      <td>1</td>\n",
       "      <td>False</td>\n",
       "      <td>...</td>\n",
       "      <td>0.0</td>\n",
       "      <td>3000.0</td>\n",
       "      <td>0.0</td>\n",
       "      <td>3000.0</td>\n",
       "      <td>81</td>\n",
       "      <td>29.59375</td>\n",
       "      <td>82907.965971</td>\n",
       "      <td>1</td>\n",
       "      <td>12</td>\n",
       "      <td>2018</td>\n",
       "    </tr>\n",
       "    <tr>\n",
       "      <td>2</td>\n",
       "      <td>10</td>\n",
       "      <td>5196000.0</td>\n",
       "      <td>56.00000</td>\n",
       "      <td>2015-08-20</td>\n",
       "      <td>2</td>\n",
       "      <td>2.650391</td>\n",
       "      <td>5</td>\n",
       "      <td>34.3</td>\n",
       "      <td>4</td>\n",
       "      <td>False</td>\n",
       "      <td>...</td>\n",
       "      <td>1.0</td>\n",
       "      <td>90.0</td>\n",
       "      <td>2.0</td>\n",
       "      <td>574.0</td>\n",
       "      <td>46</td>\n",
       "      <td>42.59375</td>\n",
       "      <td>92785.714286</td>\n",
       "      <td>3</td>\n",
       "      <td>8</td>\n",
       "      <td>2015</td>\n",
       "    </tr>\n",
       "    <tr>\n",
       "      <td>4</td>\n",
       "      <td>2</td>\n",
       "      <td>10000000.0</td>\n",
       "      <td>100.00000</td>\n",
       "      <td>2018-06-19</td>\n",
       "      <td>2</td>\n",
       "      <td>3.029297</td>\n",
       "      <td>14</td>\n",
       "      <td>32.0</td>\n",
       "      <td>13</td>\n",
       "      <td>False</td>\n",
       "      <td>...</td>\n",
       "      <td>2.0</td>\n",
       "      <td>112.0</td>\n",
       "      <td>1.0</td>\n",
       "      <td>48.0</td>\n",
       "      <td>121</td>\n",
       "      <td>73.00000</td>\n",
       "      <td>100000.000000</td>\n",
       "      <td>1</td>\n",
       "      <td>6</td>\n",
       "      <td>2018</td>\n",
       "    </tr>\n",
       "    <tr>\n",
       "      <td>5</td>\n",
       "      <td>10</td>\n",
       "      <td>2890000.0</td>\n",
       "      <td>30.40625</td>\n",
       "      <td>2018-09-10</td>\n",
       "      <td>1</td>\n",
       "      <td>2.650391</td>\n",
       "      <td>12</td>\n",
       "      <td>14.4</td>\n",
       "      <td>5</td>\n",
       "      <td>False</td>\n",
       "      <td>...</td>\n",
       "      <td>NaN</td>\n",
       "      <td>NaN</td>\n",
       "      <td>NaN</td>\n",
       "      <td>NaN</td>\n",
       "      <td>55</td>\n",
       "      <td>23.50000</td>\n",
       "      <td>95046.248715</td>\n",
       "      <td>0</td>\n",
       "      <td>9</td>\n",
       "      <td>2018</td>\n",
       "    </tr>\n",
       "  </tbody>\n",
       "</table>\n",
       "<p>5 rows × 27 columns</p>\n",
       "</div>"
      ],
      "text/plain": [
       "   total_images  last_price  total_area first_day_exposition  rooms  \\\n",
       "0            20  13000000.0   108.00000           2019-03-07      3   \n",
       "1             7   3350000.0    40.40625           2018-12-04      1   \n",
       "2            10   5196000.0    56.00000           2015-08-20      2   \n",
       "4             2  10000000.0   100.00000           2018-06-19      2   \n",
       "5            10   2890000.0    30.40625           2018-09-10      1   \n",
       "\n",
       "   ceiling_height  floors_total  living_area  floor  is_apartment  ...  \\\n",
       "0        2.699219            16         51.0      8         False  ...   \n",
       "1        2.650391            11         18.6      1         False  ...   \n",
       "2        2.650391             5         34.3      4         False  ...   \n",
       "4        3.029297            14         32.0     13         False  ...   \n",
       "5        2.650391            12         14.4      5         False  ...   \n",
       "\n",
       "   parks_around3000  parks_nearest  ponds_around3000  ponds_nearest  \\\n",
       "0               1.0          482.0               2.0          755.0   \n",
       "1               0.0         3000.0               0.0         3000.0   \n",
       "2               1.0           90.0               2.0          574.0   \n",
       "4               2.0          112.0               1.0           48.0   \n",
       "5               NaN            NaN               NaN            NaN   \n",
       "\n",
       "  days_exposition  sum_area  square_meter_price  weekday_exposition  \\\n",
       "0               0  76.00000       120370.370370                   3   \n",
       "1              81  29.59375        82907.965971                   1   \n",
       "2              46  42.59375        92785.714286                   3   \n",
       "4             121  73.00000       100000.000000                   1   \n",
       "5              55  23.50000        95046.248715                   0   \n",
       "\n",
       "   month_exposition  year_exposition  \n",
       "0                 3             2019  \n",
       "1                12             2018  \n",
       "2                 8             2015  \n",
       "4                 6             2018  \n",
       "5                 9             2018  \n",
       "\n",
       "[5 rows x 27 columns]"
      ]
     },
     "execution_count": 53,
     "metadata": {},
     "output_type": "execute_result"
    }
   ],
   "source": [
    "data['year_exposition'] = data['first_day_exposition'].dt.year\n",
    "data.head()"
   ]
  },
  {
   "cell_type": "markdown",
   "metadata": {},
   "source": [
    "### этаж квартиры; варианты — первый, последний, другой"
   ]
  },
  {
   "cell_type": "markdown",
   "metadata": {},
   "source": [
    "Напишем функцию категоризации по этажам, используя метод apply применим к каждой строке датафрейма через axis = 1."
   ]
  },
  {
   "cell_type": "code",
   "execution_count": 54,
   "metadata": {},
   "outputs": [
    {
     "data": {
      "text/html": [
       "<div>\n",
       "<style scoped>\n",
       "    .dataframe tbody tr th:only-of-type {\n",
       "        vertical-align: middle;\n",
       "    }\n",
       "\n",
       "    .dataframe tbody tr th {\n",
       "        vertical-align: top;\n",
       "    }\n",
       "\n",
       "    .dataframe thead th {\n",
       "        text-align: right;\n",
       "    }\n",
       "</style>\n",
       "<table border=\"1\" class=\"dataframe\">\n",
       "  <thead>\n",
       "    <tr style=\"text-align: right;\">\n",
       "      <th></th>\n",
       "      <th>total_images</th>\n",
       "      <th>last_price</th>\n",
       "      <th>total_area</th>\n",
       "      <th>first_day_exposition</th>\n",
       "      <th>rooms</th>\n",
       "      <th>ceiling_height</th>\n",
       "      <th>floors_total</th>\n",
       "      <th>living_area</th>\n",
       "      <th>floor</th>\n",
       "      <th>is_apartment</th>\n",
       "      <th>...</th>\n",
       "      <th>parks_nearest</th>\n",
       "      <th>ponds_around3000</th>\n",
       "      <th>ponds_nearest</th>\n",
       "      <th>days_exposition</th>\n",
       "      <th>sum_area</th>\n",
       "      <th>square_meter_price</th>\n",
       "      <th>weekday_exposition</th>\n",
       "      <th>month_exposition</th>\n",
       "      <th>year_exposition</th>\n",
       "      <th>floor_category</th>\n",
       "    </tr>\n",
       "  </thead>\n",
       "  <tbody>\n",
       "    <tr>\n",
       "      <td>0</td>\n",
       "      <td>20</td>\n",
       "      <td>13000000.0</td>\n",
       "      <td>108.00000</td>\n",
       "      <td>2019-03-07</td>\n",
       "      <td>3</td>\n",
       "      <td>2.699219</td>\n",
       "      <td>16</td>\n",
       "      <td>51.0</td>\n",
       "      <td>8</td>\n",
       "      <td>False</td>\n",
       "      <td>...</td>\n",
       "      <td>482.0</td>\n",
       "      <td>2.0</td>\n",
       "      <td>755.0</td>\n",
       "      <td>0</td>\n",
       "      <td>76.00000</td>\n",
       "      <td>120370.370370</td>\n",
       "      <td>3</td>\n",
       "      <td>3</td>\n",
       "      <td>2019</td>\n",
       "      <td>другой</td>\n",
       "    </tr>\n",
       "    <tr>\n",
       "      <td>1</td>\n",
       "      <td>7</td>\n",
       "      <td>3350000.0</td>\n",
       "      <td>40.40625</td>\n",
       "      <td>2018-12-04</td>\n",
       "      <td>1</td>\n",
       "      <td>2.650391</td>\n",
       "      <td>11</td>\n",
       "      <td>18.6</td>\n",
       "      <td>1</td>\n",
       "      <td>False</td>\n",
       "      <td>...</td>\n",
       "      <td>3000.0</td>\n",
       "      <td>0.0</td>\n",
       "      <td>3000.0</td>\n",
       "      <td>81</td>\n",
       "      <td>29.59375</td>\n",
       "      <td>82907.965971</td>\n",
       "      <td>1</td>\n",
       "      <td>12</td>\n",
       "      <td>2018</td>\n",
       "      <td>первый</td>\n",
       "    </tr>\n",
       "    <tr>\n",
       "      <td>2</td>\n",
       "      <td>10</td>\n",
       "      <td>5196000.0</td>\n",
       "      <td>56.00000</td>\n",
       "      <td>2015-08-20</td>\n",
       "      <td>2</td>\n",
       "      <td>2.650391</td>\n",
       "      <td>5</td>\n",
       "      <td>34.3</td>\n",
       "      <td>4</td>\n",
       "      <td>False</td>\n",
       "      <td>...</td>\n",
       "      <td>90.0</td>\n",
       "      <td>2.0</td>\n",
       "      <td>574.0</td>\n",
       "      <td>46</td>\n",
       "      <td>42.59375</td>\n",
       "      <td>92785.714286</td>\n",
       "      <td>3</td>\n",
       "      <td>8</td>\n",
       "      <td>2015</td>\n",
       "      <td>другой</td>\n",
       "    </tr>\n",
       "    <tr>\n",
       "      <td>4</td>\n",
       "      <td>2</td>\n",
       "      <td>10000000.0</td>\n",
       "      <td>100.00000</td>\n",
       "      <td>2018-06-19</td>\n",
       "      <td>2</td>\n",
       "      <td>3.029297</td>\n",
       "      <td>14</td>\n",
       "      <td>32.0</td>\n",
       "      <td>13</td>\n",
       "      <td>False</td>\n",
       "      <td>...</td>\n",
       "      <td>112.0</td>\n",
       "      <td>1.0</td>\n",
       "      <td>48.0</td>\n",
       "      <td>121</td>\n",
       "      <td>73.00000</td>\n",
       "      <td>100000.000000</td>\n",
       "      <td>1</td>\n",
       "      <td>6</td>\n",
       "      <td>2018</td>\n",
       "      <td>другой</td>\n",
       "    </tr>\n",
       "    <tr>\n",
       "      <td>5</td>\n",
       "      <td>10</td>\n",
       "      <td>2890000.0</td>\n",
       "      <td>30.40625</td>\n",
       "      <td>2018-09-10</td>\n",
       "      <td>1</td>\n",
       "      <td>2.650391</td>\n",
       "      <td>12</td>\n",
       "      <td>14.4</td>\n",
       "      <td>5</td>\n",
       "      <td>False</td>\n",
       "      <td>...</td>\n",
       "      <td>NaN</td>\n",
       "      <td>NaN</td>\n",
       "      <td>NaN</td>\n",
       "      <td>55</td>\n",
       "      <td>23.50000</td>\n",
       "      <td>95046.248715</td>\n",
       "      <td>0</td>\n",
       "      <td>9</td>\n",
       "      <td>2018</td>\n",
       "      <td>другой</td>\n",
       "    </tr>\n",
       "  </tbody>\n",
       "</table>\n",
       "<p>5 rows × 28 columns</p>\n",
       "</div>"
      ],
      "text/plain": [
       "   total_images  last_price  total_area first_day_exposition  rooms  \\\n",
       "0            20  13000000.0   108.00000           2019-03-07      3   \n",
       "1             7   3350000.0    40.40625           2018-12-04      1   \n",
       "2            10   5196000.0    56.00000           2015-08-20      2   \n",
       "4             2  10000000.0   100.00000           2018-06-19      2   \n",
       "5            10   2890000.0    30.40625           2018-09-10      1   \n",
       "\n",
       "   ceiling_height  floors_total  living_area  floor  is_apartment  ...  \\\n",
       "0        2.699219            16         51.0      8         False  ...   \n",
       "1        2.650391            11         18.6      1         False  ...   \n",
       "2        2.650391             5         34.3      4         False  ...   \n",
       "4        3.029297            14         32.0     13         False  ...   \n",
       "5        2.650391            12         14.4      5         False  ...   \n",
       "\n",
       "   parks_nearest  ponds_around3000  ponds_nearest  days_exposition  sum_area  \\\n",
       "0          482.0               2.0          755.0                0  76.00000   \n",
       "1         3000.0               0.0         3000.0               81  29.59375   \n",
       "2           90.0               2.0          574.0               46  42.59375   \n",
       "4          112.0               1.0           48.0              121  73.00000   \n",
       "5            NaN               NaN            NaN               55  23.50000   \n",
       "\n",
       "   square_meter_price  weekday_exposition  month_exposition  year_exposition  \\\n",
       "0       120370.370370                   3                 3             2019   \n",
       "1        82907.965971                   1                12             2018   \n",
       "2        92785.714286                   3                 8             2015   \n",
       "4       100000.000000                   1                 6             2018   \n",
       "5        95046.248715                   0                 9             2018   \n",
       "\n",
       "   floor_category  \n",
       "0          другой  \n",
       "1          первый  \n",
       "2          другой  \n",
       "4          другой  \n",
       "5          другой  \n",
       "\n",
       "[5 rows x 28 columns]"
      ]
     },
     "execution_count": 54,
     "metadata": {},
     "output_type": "execute_result"
    }
   ],
   "source": [
    "def floor_category(row):\n",
    "    floors_total = row['floors_total']\n",
    "    floor = row['floor']\n",
    "    if floor == 1:\n",
    "        return 'первый'\n",
    "    elif floor == floors_total:\n",
    "        return 'последний'\n",
    "    else:\n",
    "        return 'другой'\n",
    "data['floor_category'] = data.apply(floor_category, axis = 1)\n",
    "data.head()"
   ]
  },
  {
   "cell_type": "markdown",
   "metadata": {},
   "source": [
    "### соотношение жилой и общей площади, а также отношение площади кухни к общей"
   ]
  },
  {
   "cell_type": "markdown",
   "metadata": {},
   "source": [
    "Добавим столбец соотношения жилой площади к общей."
   ]
  },
  {
   "cell_type": "code",
   "execution_count": 55,
   "metadata": {},
   "outputs": [],
   "source": [
    "data['useful_area_ratio'] = data['living_area'] / data['total_area']"
   ]
  },
  {
   "cell_type": "markdown",
   "metadata": {},
   "source": [
    "Добавим столбец отношения площади кухни к общей."
   ]
  },
  {
   "cell_type": "code",
   "execution_count": 56,
   "metadata": {},
   "outputs": [
    {
     "data": {
      "text/html": [
       "<div>\n",
       "<style scoped>\n",
       "    .dataframe tbody tr th:only-of-type {\n",
       "        vertical-align: middle;\n",
       "    }\n",
       "\n",
       "    .dataframe tbody tr th {\n",
       "        vertical-align: top;\n",
       "    }\n",
       "\n",
       "    .dataframe thead th {\n",
       "        text-align: right;\n",
       "    }\n",
       "</style>\n",
       "<table border=\"1\" class=\"dataframe\">\n",
       "  <thead>\n",
       "    <tr style=\"text-align: right;\">\n",
       "      <th></th>\n",
       "      <th>total_images</th>\n",
       "      <th>last_price</th>\n",
       "      <th>total_area</th>\n",
       "      <th>first_day_exposition</th>\n",
       "      <th>rooms</th>\n",
       "      <th>ceiling_height</th>\n",
       "      <th>floors_total</th>\n",
       "      <th>living_area</th>\n",
       "      <th>floor</th>\n",
       "      <th>is_apartment</th>\n",
       "      <th>...</th>\n",
       "      <th>ponds_nearest</th>\n",
       "      <th>days_exposition</th>\n",
       "      <th>sum_area</th>\n",
       "      <th>square_meter_price</th>\n",
       "      <th>weekday_exposition</th>\n",
       "      <th>month_exposition</th>\n",
       "      <th>year_exposition</th>\n",
       "      <th>floor_category</th>\n",
       "      <th>useful_area_ratio</th>\n",
       "      <th>kitchen_area_ratio</th>\n",
       "    </tr>\n",
       "  </thead>\n",
       "  <tbody>\n",
       "    <tr>\n",
       "      <td>0</td>\n",
       "      <td>20</td>\n",
       "      <td>13000000.0</td>\n",
       "      <td>108.00000</td>\n",
       "      <td>2019-03-07</td>\n",
       "      <td>3</td>\n",
       "      <td>2.699219</td>\n",
       "      <td>16</td>\n",
       "      <td>51.0</td>\n",
       "      <td>8</td>\n",
       "      <td>False</td>\n",
       "      <td>...</td>\n",
       "      <td>755.0</td>\n",
       "      <td>0</td>\n",
       "      <td>76.00000</td>\n",
       "      <td>120370.370370</td>\n",
       "      <td>3</td>\n",
       "      <td>3</td>\n",
       "      <td>2019</td>\n",
       "      <td>другой</td>\n",
       "      <td>0.472222</td>\n",
       "      <td>0.231445</td>\n",
       "    </tr>\n",
       "    <tr>\n",
       "      <td>1</td>\n",
       "      <td>7</td>\n",
       "      <td>3350000.0</td>\n",
       "      <td>40.40625</td>\n",
       "      <td>2018-12-04</td>\n",
       "      <td>1</td>\n",
       "      <td>2.650391</td>\n",
       "      <td>11</td>\n",
       "      <td>18.6</td>\n",
       "      <td>1</td>\n",
       "      <td>False</td>\n",
       "      <td>...</td>\n",
       "      <td>3000.0</td>\n",
       "      <td>81</td>\n",
       "      <td>29.59375</td>\n",
       "      <td>82907.965971</td>\n",
       "      <td>1</td>\n",
       "      <td>12</td>\n",
       "      <td>2018</td>\n",
       "      <td>первый</td>\n",
       "      <td>0.460325</td>\n",
       "      <td>0.272217</td>\n",
       "    </tr>\n",
       "    <tr>\n",
       "      <td>2</td>\n",
       "      <td>10</td>\n",
       "      <td>5196000.0</td>\n",
       "      <td>56.00000</td>\n",
       "      <td>2015-08-20</td>\n",
       "      <td>2</td>\n",
       "      <td>2.650391</td>\n",
       "      <td>5</td>\n",
       "      <td>34.3</td>\n",
       "      <td>4</td>\n",
       "      <td>False</td>\n",
       "      <td>...</td>\n",
       "      <td>574.0</td>\n",
       "      <td>46</td>\n",
       "      <td>42.59375</td>\n",
       "      <td>92785.714286</td>\n",
       "      <td>3</td>\n",
       "      <td>8</td>\n",
       "      <td>2015</td>\n",
       "      <td>другой</td>\n",
       "      <td>0.612500</td>\n",
       "      <td>0.148193</td>\n",
       "    </tr>\n",
       "    <tr>\n",
       "      <td>4</td>\n",
       "      <td>2</td>\n",
       "      <td>10000000.0</td>\n",
       "      <td>100.00000</td>\n",
       "      <td>2018-06-19</td>\n",
       "      <td>2</td>\n",
       "      <td>3.029297</td>\n",
       "      <td>14</td>\n",
       "      <td>32.0</td>\n",
       "      <td>13</td>\n",
       "      <td>False</td>\n",
       "      <td>...</td>\n",
       "      <td>48.0</td>\n",
       "      <td>121</td>\n",
       "      <td>73.00000</td>\n",
       "      <td>100000.000000</td>\n",
       "      <td>1</td>\n",
       "      <td>6</td>\n",
       "      <td>2018</td>\n",
       "      <td>другой</td>\n",
       "      <td>0.320000</td>\n",
       "      <td>0.409912</td>\n",
       "    </tr>\n",
       "    <tr>\n",
       "      <td>5</td>\n",
       "      <td>10</td>\n",
       "      <td>2890000.0</td>\n",
       "      <td>30.40625</td>\n",
       "      <td>2018-09-10</td>\n",
       "      <td>1</td>\n",
       "      <td>2.650391</td>\n",
       "      <td>12</td>\n",
       "      <td>14.4</td>\n",
       "      <td>5</td>\n",
       "      <td>False</td>\n",
       "      <td>...</td>\n",
       "      <td>NaN</td>\n",
       "      <td>55</td>\n",
       "      <td>23.50000</td>\n",
       "      <td>95046.248715</td>\n",
       "      <td>0</td>\n",
       "      <td>9</td>\n",
       "      <td>2018</td>\n",
       "      <td>другой</td>\n",
       "      <td>0.473587</td>\n",
       "      <td>0.299316</td>\n",
       "    </tr>\n",
       "  </tbody>\n",
       "</table>\n",
       "<p>5 rows × 30 columns</p>\n",
       "</div>"
      ],
      "text/plain": [
       "   total_images  last_price  total_area first_day_exposition  rooms  \\\n",
       "0            20  13000000.0   108.00000           2019-03-07      3   \n",
       "1             7   3350000.0    40.40625           2018-12-04      1   \n",
       "2            10   5196000.0    56.00000           2015-08-20      2   \n",
       "4             2  10000000.0   100.00000           2018-06-19      2   \n",
       "5            10   2890000.0    30.40625           2018-09-10      1   \n",
       "\n",
       "   ceiling_height  floors_total  living_area  floor  is_apartment  ...  \\\n",
       "0        2.699219            16         51.0      8         False  ...   \n",
       "1        2.650391            11         18.6      1         False  ...   \n",
       "2        2.650391             5         34.3      4         False  ...   \n",
       "4        3.029297            14         32.0     13         False  ...   \n",
       "5        2.650391            12         14.4      5         False  ...   \n",
       "\n",
       "   ponds_nearest  days_exposition  sum_area  square_meter_price  \\\n",
       "0          755.0                0  76.00000       120370.370370   \n",
       "1         3000.0               81  29.59375        82907.965971   \n",
       "2          574.0               46  42.59375        92785.714286   \n",
       "4           48.0              121  73.00000       100000.000000   \n",
       "5            NaN               55  23.50000        95046.248715   \n",
       "\n",
       "  weekday_exposition  month_exposition  year_exposition  floor_category  \\\n",
       "0                  3                 3             2019          другой   \n",
       "1                  1                12             2018          первый   \n",
       "2                  3                 8             2015          другой   \n",
       "4                  1                 6             2018          другой   \n",
       "5                  0                 9             2018          другой   \n",
       "\n",
       "   useful_area_ratio  kitchen_area_ratio  \n",
       "0           0.472222            0.231445  \n",
       "1           0.460325            0.272217  \n",
       "2           0.612500            0.148193  \n",
       "4           0.320000            0.409912  \n",
       "5           0.473587            0.299316  \n",
       "\n",
       "[5 rows x 30 columns]"
      ]
     },
     "execution_count": 56,
     "metadata": {},
     "output_type": "execute_result"
    }
   ],
   "source": [
    "data['kitchen_area_ratio'] = data['kitchen_area'] / data['total_area']\n",
    "data.head()"
   ]
  },
  {
   "cell_type": "markdown",
   "metadata": {},
   "source": [
    "**Вывод:**\n",
    "Добавили необходимые для дальнейших рассчетов столбцы: цена квадратного метра; день недели, месяц и год публикации объявления; этаж квартиры (варианты — первый, последний); другойсоотношение жилой и общей площади, а также отношение площади кухни к общей"
   ]
  },
  {
   "cell_type": "markdown",
   "metadata": {},
   "source": [
    "## Исследовательский анализ данных"
   ]
  },
  {
   "cell_type": "markdown",
   "metadata": {},
   "source": [
    "### Изучим общую площадь"
   ]
  },
  {
   "cell_type": "markdown",
   "metadata": {},
   "source": [
    "С помошью describe получим общее представление о площади квартир в данной выборке."
   ]
  },
  {
   "cell_type": "code",
   "execution_count": 57,
   "metadata": {},
   "outputs": [
    {
     "data": {
      "text/plain": [
       "count    20776.0000\n",
       "mean            inf\n",
       "std             inf\n",
       "min         14.0000\n",
       "25%         40.5000\n",
       "50%         52.1875\n",
       "75%         70.0000\n",
       "max        900.0000\n",
       "Name: total_area, dtype: float64"
      ]
     },
     "execution_count": 57,
     "metadata": {},
     "output_type": "execute_result"
    }
   ],
   "source": [
    "data['total_area'].describe()"
   ]
  },
  {
   "cell_type": "markdown",
   "metadata": {},
   "source": [
    "Минимальная площадь продоваемых квартир 12 м2. Максимальная площадь 900 м2. Средняя площадь продоваемых квартир 60 м2. \n",
    "Построим график для изучения распределения площади квартир."
   ]
  },
  {
   "cell_type": "code",
   "execution_count": 58,
   "metadata": {},
   "outputs": [
    {
     "data": {
      "image/png": "[encoded data removed]",
      "text/plain": [
       "<Figure size 432x288 with 1 Axes>"
      ]
     },
     "metadata": {
      "needs_background": "light"
     },
     "output_type": "display_data"
    }
   ],
   "source": [
    "g_area = sns.distplot( a=data[\"total_area\"], hist=True, kde=True, bins = 500)\n",
    "g_area.set_ylabel('число продаж, млн')\n",
    "g_area.set_xlabel('общая площадь, кв м')\n",
    "g_area.set_title('зависимость продаж от общей площади');"
   ]
  },
  {
   "cell_type": "markdown",
   "metadata": {},
   "source": [
    "Распределение площади квартир похоже на нормальное."
   ]
  },
  {
   "cell_type": "markdown",
   "metadata": {},
   "source": [
    "### Изучим цены на квартиры"
   ]
  },
  {
   "cell_type": "markdown",
   "metadata": {},
   "source": [
    "С помошью describe получим общее представление о цене на квартиры в данной выборке."
   ]
  },
  {
   "cell_type": "code",
   "execution_count": 59,
   "metadata": {},
   "outputs": [
    {
     "data": {
      "text/plain": [
       "count    2.077600e+04\n",
       "mean     6.508877e+06\n",
       "std      9.625723e+06\n",
       "min      1.219000e+04\n",
       "25%      3.500000e+06\n",
       "50%      4.700000e+06\n",
       "75%      6.800000e+06\n",
       "max      4.200000e+08\n",
       "Name: last_price, dtype: float64"
      ]
     },
     "execution_count": 59,
     "metadata": {},
     "output_type": "execute_result"
    }
   ],
   "source": [
    "data['last_price'].describe()"
   ]
  },
  {
   "cell_type": "markdown",
   "metadata": {},
   "source": [
    "Обращает на себя внимание крайне низкая минимальная цена на квартиру в 12000 руб, возможно это техническая ошибка при заполении датасета.\n",
    "В среднем цена на квартиры была 6,5 млн, граница первого квартиля находится в том же порядке цен 3,4 млн. Можно предположить что выбивающиеся низкие значения не сильно влияют на статистику цен.\n",
    "Максимальная цена на квартиры составила 760 млн.\n",
    "Постороим график цен."
   ]
  },
  {
   "cell_type": "code",
   "execution_count": 60,
   "metadata": {},
   "outputs": [
    {
     "data": {
      "image/png": "[encoded data removed]",
      "text/plain": [
       "<Figure size 432x288 with 1 Axes>"
      ]
     },
     "metadata": {
      "needs_background": "light"
     },
     "output_type": "display_data"
    }
   ],
   "source": [
    "g_price = sns.distplot( a=data[\"last_price\"], hist=True, kde=True, bins = 500)\n",
    "g_price.set_ylabel('число квартир')\n",
    "g_price.set_xlabel('цена, 100 млн')\n",
    "g_price.set_title('цены на квартиры');"
   ]
  },
  {
   "cell_type": "markdown",
   "metadata": {},
   "source": [
    "Распределение цен на квартиры похоже на нормальное."
   ]
  },
  {
   "cell_type": "markdown",
   "metadata": {},
   "source": [
    "### Изучим число комнат в квартирах"
   ]
  },
  {
   "cell_type": "markdown",
   "metadata": {},
   "source": [
    "С помошью describe получим общее представление о числе комнат в квартирах в данной выборке."
   ]
  },
  {
   "cell_type": "code",
   "execution_count": 61,
   "metadata": {},
   "outputs": [
    {
     "data": {
      "text/plain": [
       "count    20776.000000\n",
       "mean         2.096891\n",
       "std          1.065688\n",
       "min          1.000000\n",
       "25%          1.000000\n",
       "50%          2.000000\n",
       "75%          3.000000\n",
       "max         19.000000\n",
       "Name: rooms, dtype: float64"
      ]
     },
     "execution_count": 61,
     "metadata": {},
     "output_type": "execute_result"
    }
   ],
   "source": [
    "data['rooms'].describe()"
   ]
  },
  {
   "cell_type": "markdown",
   "metadata": {},
   "source": [
    "Чаще всего продавались 2-комнатные квартиры. Обращают на себя внимание 0-комнатные и 19-комнатные квартиры. Построим гистограмму."
   ]
  },
  {
   "cell_type": "code",
   "execution_count": 62,
   "metadata": {},
   "outputs": [
    {
     "data": {
      "image/png": "[encoded data removed]",
      "text/plain": [
       "<Figure size 720x504 with 1 Axes>"
      ]
     },
     "metadata": {
      "needs_background": "light"
     },
     "output_type": "display_data"
    }
   ],
   "source": [
    "data.plot(y = 'rooms', kind = 'hist', bins = 20, grid=True, figsize = (10,7) );"
   ]
  },
  {
   "cell_type": "markdown",
   "metadata": {},
   "source": [
    "Распределение комнат в продаваемых квартирах напоминает распределение Пуассона. Чаще всего продаются 1,2,3 комнатные квартиры. Выбивающимися можно назвать 0-комнатные квартиры и квартриры больше чем с 7 комнатами."
   ]
  },
  {
   "cell_type": "markdown",
   "metadata": {},
   "source": [
    "### Изучим высоту потолков."
   ]
  },
  {
   "cell_type": "markdown",
   "metadata": {},
   "source": [
    "С помошью describe получим общее представление о высоте потолков в квартирах в данной выборке"
   ]
  },
  {
   "cell_type": "code",
   "execution_count": 63,
   "metadata": {},
   "outputs": [
    {
     "data": {
      "text/plain": [
       "count    20776.000000\n",
       "mean         2.718750\n",
       "std          0.696777\n",
       "min          1.000000\n",
       "25%          2.599609\n",
       "50%          2.650391\n",
       "75%          2.699219\n",
       "max         32.000000\n",
       "Name: ceiling_height, dtype: float64"
      ]
     },
     "execution_count": 63,
     "metadata": {},
     "output_type": "execute_result"
    }
   ],
   "source": [
    "data['ceiling_height'].describe()"
   ]
  },
  {
   "cell_type": "markdown",
   "metadata": {},
   "source": [
    "В среднем высота потолков в продаваемых квартирах составила 2,6 м. Отметим нереальные значения высоты потолков в 1м и в 100м. Построим гистограмму для высоты потолков."
   ]
  },
  {
   "cell_type": "code",
   "execution_count": 64,
   "metadata": {},
   "outputs": [
    {
     "data": {
      "image/png": "[encoded data removed]",
      "text/plain": [
       "<Figure size 720x504 with 1 Axes>"
      ]
     },
     "metadata": {
      "needs_background": "light"
     },
     "output_type": "display_data"
    }
   ],
   "source": [
    "data.plot(y = 'ceiling_height', kind = 'hist', bins = 100, grid=True, figsize = (10,7), range = (1,5));"
   ]
  },
  {
   "cell_type": "markdown",
   "metadata": {},
   "source": [
    "Больше всего квартир со стандартными потолками 2,5-2,7 метров. Меньше 2,5 метров и больше 3,5 метров высоты потолков квартир практически нет, можно считать высоту потолков за пределами этих значений выбивающимися."
   ]
  },
  {
   "cell_type": "markdown",
   "metadata": {},
   "source": [
    "**Вывод:**\n",
    "Рассмотрели данные датасета -  общая площадь квартир, цены на квартиры, число комнат в квартирах и высоту потолков.\n",
    "Так данные с площадью квартир и ценами на квартиры имели  близкое к нормальному распределение. Площадь квартир колебалась от 12 до 900 кв м, средняя площадь продоваемых квартир составила 60 кв м., средняя цена на квартиры составила 6,5 млн. Чаще всего продовались 2-х комнатные квартиры.\n",
    "Средняя высота потолков составила 2,6 м."
   ]
  },
  {
   "cell_type": "markdown",
   "metadata": {},
   "source": [
    "### Изучим время продажи квартиры."
   ]
  },
  {
   "cell_type": "code",
   "execution_count": 65,
   "metadata": {},
   "outputs": [
    {
     "data": {
      "text/plain": [
       "count    20776.000000\n",
       "mean        78.772093\n",
       "std         70.444778\n",
       "min          0.000000\n",
       "25%         18.000000\n",
       "50%         60.000000\n",
       "75%        127.000000\n",
       "max        255.000000\n",
       "Name: days_exposition, dtype: float64"
      ]
     },
     "execution_count": 65,
     "metadata": {},
     "output_type": "execute_result"
    }
   ],
   "source": [
    "data['days_exposition'].describe()"
   ]
  },
  {
   "cell_type": "markdown",
   "metadata": {},
   "source": [
    "Среднее значение времени продажи квартиры 156 дней, а медианное значение 73 дня. Такой разброс между средним и медианным значениями может быть из-за того что распределение признака не нормальное или имеется много выбросов."
   ]
  },
  {
   "cell_type": "markdown",
   "metadata": {},
   "source": [
    "Построим диаграмму распределения времени продажи квартир."
   ]
  },
  {
   "cell_type": "code",
   "execution_count": 66,
   "metadata": {},
   "outputs": [
    {
     "data": {
      "image/png": "[encoded data removed]",
      "text/plain": [
       "<Figure size 432x288 with 1 Axes>"
      ]
     },
     "metadata": {
      "needs_background": "light"
     },
     "output_type": "display_data"
    }
   ],
   "source": [
    "g_exp = sns.distplot( a=data['days_exposition'], hist=True, kde=True, bins = 100)\n",
    "g_exp.set_ylabel('число квартир')\n",
    "g_exp.set_xlabel('дни продажи')\n",
    "g_exp.set_title('срок продажи квартир');"
   ]
  },
  {
   "cell_type": "markdown",
   "metadata": {},
   "source": [
    "Видим распределение Пуассона которое обрезано на нуле и имеет длинный «хвост» в положительную сторону.\n",
    "Ожидаемое распределение времени продажи — гистограмма с длинным хвостом на высоких значениях и падением в ноль слева от пика, не доходя до нулевого времени продажи. Однако на графике виден высокий пик около 0. Скорее всего, он имеет иную природу. Это не продажи, а ошибки расчётов, например мы заменяли на 0 пропуски данных со временем продажи."
   ]
  },
  {
   "cell_type": "markdown",
   "metadata": {},
   "source": [
    "Построим диаграмму размаха. Для этого импортируем библиотеку matplotlib."
   ]
  },
  {
   "cell_type": "code",
   "execution_count": 67,
   "metadata": {},
   "outputs": [
    {
     "data": {
      "image/png": "[encoded data removed]",
      "text/plain": [
       "<Figure size 432x288 with 1 Axes>"
      ]
     },
     "metadata": {
      "needs_background": "light"
     },
     "output_type": "display_data"
    }
   ],
   "source": [
    "box_expos = sns.boxplot( y=data[\"days_exposition\"])\n",
    "box_expos.set_ylabel('Дни продажи')\n",
    "g_price.set_title('Время продажи квартир');"
   ]
  },
  {
   "cell_type": "markdown",
   "metadata": {},
   "source": [
    "Нижний «ус» упирается в 0, минимальное значение. Верхний заканчивается около 500 дней — это 1,5 межквартильного размаха, добавленного к 3-му квартилю. Это ориентировочная граница нормального размаха. Всё, что лежит за ней, считается выбросом. Более высокие значения рисуются отдельными точками, но сливаются в единую жирную линию: таких выбросов очень много."
   ]
  },
  {
   "cell_type": "markdown",
   "metadata": {},
   "source": [
    "Обычно продажа занимает 150-200 дней от подачи объявления. Выбивающимися значениями можно считать,  0 дней - когда продажи прошли очень быстро, и более 500 дней когда они шли необычно долго."
   ]
  },
  {
   "cell_type": "markdown",
   "metadata": {},
   "source": [
    "### Уберем редкие и выбивающиеся значения."
   ]
  },
  {
   "cell_type": "markdown",
   "metadata": {},
   "source": [
    "Посчитаем границу нормальных значений."
   ]
  },
  {
   "cell_type": "code",
   "execution_count": 68,
   "metadata": {},
   "outputs": [
    {
     "data": {
      "text/plain": [
       "518.2759395"
      ]
     },
     "execution_count": 68,
     "metadata": {},
     "output_type": "execute_result"
    }
   ],
   "source": [
    "198 + (213.517293*1.5)"
   ]
  },
  {
   "cell_type": "markdown",
   "metadata": {},
   "source": [
    "Отфильтруем данные от аномально больших значений и запишем их в новый датафрейм good_data"
   ]
  },
  {
   "cell_type": "code",
   "execution_count": 69,
   "metadata": {},
   "outputs": [],
   "source": [
    "good_data = data.query('days_exposition < 518')"
   ]
  },
  {
   "cell_type": "markdown",
   "metadata": {},
   "source": [
    "Построим гистограмму нового датасета."
   ]
  },
  {
   "cell_type": "code",
   "execution_count": 70,
   "metadata": {},
   "outputs": [
    {
     "data": {
      "image/png": "[encoded data removed]",
      "text/plain": [
       "<Figure size 432x288 with 1 Axes>"
      ]
     },
     "metadata": {
      "needs_background": "light"
     },
     "output_type": "display_data"
    }
   ],
   "source": [
    "g_expos = sns.distplot( a=good_data['days_exposition'], hist=True, kde=True, bins = 100)\n",
    "g_expos.set_ylabel('число квартир')\n",
    "g_expos.set_xlabel('дни продажи')\n",
    "g_expos.set_title('срок продажи квартир');"
   ]
  },
  {
   "cell_type": "markdown",
   "metadata": {},
   "source": [
    "Помимо огромного числа значений 0, обращают на себя внимание два скачка продаж в районе 50 дней и один около 100. Проверим самые часто встречающиеся значения при помощи метода value_counts()"
   ]
  },
  {
   "cell_type": "code",
   "execution_count": 71,
   "metadata": {},
   "outputs": [
    {
     "data": {
      "text/plain": [
       "0      2891\n",
       "45      538\n",
       "60      352\n",
       "30      220\n",
       "7       218\n",
       "       ... \n",
       "236      21\n",
       "1        20\n",
       "254      19\n",
       "255      19\n",
       "243      15\n",
       "Name: days_exposition, Length: 256, dtype: int64"
      ]
     },
     "execution_count": 71,
     "metadata": {},
     "output_type": "execute_result"
    }
   ],
   "source": [
    "good_data['days_exposition'].value_counts()"
   ]
  },
  {
   "cell_type": "markdown",
   "metadata": {},
   "source": [
    "Наиболее часто встречаются продажи на 45, 60, 7, 30 и 90 дни от подачи объявления. Если посмотреть правила подачи объявлений на яндекс-недвижимости https://yandex.ru/support/realty/owner/home/add-ads-housing.html, то окажется что 45, 60 и 90 дней это сроки публикации объявлений, по истечению этих сроков объявление снимается автоматически."
   ]
  },
  {
   "cell_type": "code",
   "execution_count": 72,
   "metadata": {},
   "outputs": [
    {
     "data": {
      "text/html": [
       "<div>\n",
       "<style scoped>\n",
       "    .dataframe tbody tr th:only-of-type {\n",
       "        vertical-align: middle;\n",
       "    }\n",
       "\n",
       "    .dataframe tbody tr th {\n",
       "        vertical-align: top;\n",
       "    }\n",
       "\n",
       "    .dataframe thead th {\n",
       "        text-align: right;\n",
       "    }\n",
       "</style>\n",
       "<table border=\"1\" class=\"dataframe\">\n",
       "  <thead>\n",
       "    <tr style=\"text-align: right;\">\n",
       "      <th></th>\n",
       "      <th>total_images</th>\n",
       "      <th>last_price</th>\n",
       "      <th>total_area</th>\n",
       "      <th>first_day_exposition</th>\n",
       "      <th>rooms</th>\n",
       "      <th>ceiling_height</th>\n",
       "      <th>floors_total</th>\n",
       "      <th>living_area</th>\n",
       "      <th>floor</th>\n",
       "      <th>is_apartment</th>\n",
       "      <th>...</th>\n",
       "      <th>ponds_nearest</th>\n",
       "      <th>days_exposition</th>\n",
       "      <th>sum_area</th>\n",
       "      <th>square_meter_price</th>\n",
       "      <th>weekday_exposition</th>\n",
       "      <th>month_exposition</th>\n",
       "      <th>year_exposition</th>\n",
       "      <th>floor_category</th>\n",
       "      <th>useful_area_ratio</th>\n",
       "      <th>kitchen_area_ratio</th>\n",
       "    </tr>\n",
       "  </thead>\n",
       "  <tbody>\n",
       "    <tr>\n",
       "      <td>78</td>\n",
       "      <td>9</td>\n",
       "      <td>4350000.0</td>\n",
       "      <td>37.00000</td>\n",
       "      <td>2018-02-22</td>\n",
       "      <td>1</td>\n",
       "      <td>2.650391</td>\n",
       "      <td>19</td>\n",
       "      <td>18.0</td>\n",
       "      <td>6</td>\n",
       "      <td>False</td>\n",
       "      <td>...</td>\n",
       "      <td>3000.0</td>\n",
       "      <td>45</td>\n",
       "      <td>28.703125</td>\n",
       "      <td>117567.567568</td>\n",
       "      <td>3</td>\n",
       "      <td>2</td>\n",
       "      <td>2018</td>\n",
       "      <td>другой</td>\n",
       "      <td>0.486486</td>\n",
       "      <td>0.289307</td>\n",
       "    </tr>\n",
       "    <tr>\n",
       "      <td>89</td>\n",
       "      <td>9</td>\n",
       "      <td>2500000.0</td>\n",
       "      <td>63.00000</td>\n",
       "      <td>2018-10-25</td>\n",
       "      <td>3</td>\n",
       "      <td>2.500000</td>\n",
       "      <td>5</td>\n",
       "      <td>43.0</td>\n",
       "      <td>4</td>\n",
       "      <td>False</td>\n",
       "      <td>...</td>\n",
       "      <td>NaN</td>\n",
       "      <td>45</td>\n",
       "      <td>52.000000</td>\n",
       "      <td>39682.539683</td>\n",
       "      <td>3</td>\n",
       "      <td>10</td>\n",
       "      <td>2018</td>\n",
       "      <td>другой</td>\n",
       "      <td>0.682540</td>\n",
       "      <td>0.142822</td>\n",
       "    </tr>\n",
       "    <tr>\n",
       "      <td>110</td>\n",
       "      <td>6</td>\n",
       "      <td>3850000.0</td>\n",
       "      <td>72.31250</td>\n",
       "      <td>2017-09-29</td>\n",
       "      <td>2</td>\n",
       "      <td>2.650391</td>\n",
       "      <td>3</td>\n",
       "      <td>27.4</td>\n",
       "      <td>2</td>\n",
       "      <td>False</td>\n",
       "      <td>...</td>\n",
       "      <td>NaN</td>\n",
       "      <td>45</td>\n",
       "      <td>51.000000</td>\n",
       "      <td>53241.140882</td>\n",
       "      <td>4</td>\n",
       "      <td>9</td>\n",
       "      <td>2017</td>\n",
       "      <td>другой</td>\n",
       "      <td>0.378911</td>\n",
       "      <td>0.326172</td>\n",
       "    </tr>\n",
       "    <tr>\n",
       "      <td>153</td>\n",
       "      <td>12</td>\n",
       "      <td>4350000.0</td>\n",
       "      <td>55.00000</td>\n",
       "      <td>2017-05-21</td>\n",
       "      <td>2</td>\n",
       "      <td>2.570312</td>\n",
       "      <td>9</td>\n",
       "      <td>31.2</td>\n",
       "      <td>2</td>\n",
       "      <td>False</td>\n",
       "      <td>...</td>\n",
       "      <td>3000.0</td>\n",
       "      <td>45</td>\n",
       "      <td>39.500000</td>\n",
       "      <td>79090.909091</td>\n",
       "      <td>6</td>\n",
       "      <td>5</td>\n",
       "      <td>2017</td>\n",
       "      <td>другой</td>\n",
       "      <td>0.567273</td>\n",
       "      <td>0.150879</td>\n",
       "    </tr>\n",
       "    <tr>\n",
       "      <td>158</td>\n",
       "      <td>15</td>\n",
       "      <td>3100000.0</td>\n",
       "      <td>47.31250</td>\n",
       "      <td>2017-11-07</td>\n",
       "      <td>2</td>\n",
       "      <td>2.650391</td>\n",
       "      <td>5</td>\n",
       "      <td>27.5</td>\n",
       "      <td>2</td>\n",
       "      <td>False</td>\n",
       "      <td>...</td>\n",
       "      <td>NaN</td>\n",
       "      <td>45</td>\n",
       "      <td>36.000000</td>\n",
       "      <td>65521.796565</td>\n",
       "      <td>1</td>\n",
       "      <td>11</td>\n",
       "      <td>2017</td>\n",
       "      <td>другой</td>\n",
       "      <td>0.581242</td>\n",
       "      <td>0.179688</td>\n",
       "    </tr>\n",
       "    <tr>\n",
       "      <td>...</td>\n",
       "      <td>...</td>\n",
       "      <td>...</td>\n",
       "      <td>...</td>\n",
       "      <td>...</td>\n",
       "      <td>...</td>\n",
       "      <td>...</td>\n",
       "      <td>...</td>\n",
       "      <td>...</td>\n",
       "      <td>...</td>\n",
       "      <td>...</td>\n",
       "      <td>...</td>\n",
       "      <td>...</td>\n",
       "      <td>...</td>\n",
       "      <td>...</td>\n",
       "      <td>...</td>\n",
       "      <td>...</td>\n",
       "      <td>...</td>\n",
       "      <td>...</td>\n",
       "      <td>...</td>\n",
       "      <td>...</td>\n",
       "      <td>...</td>\n",
       "    </tr>\n",
       "    <tr>\n",
       "      <td>23390</td>\n",
       "      <td>8</td>\n",
       "      <td>2156000.0</td>\n",
       "      <td>36.00000</td>\n",
       "      <td>2018-10-29</td>\n",
       "      <td>1</td>\n",
       "      <td>2.650391</td>\n",
       "      <td>12</td>\n",
       "      <td>16.0</td>\n",
       "      <td>3</td>\n",
       "      <td>False</td>\n",
       "      <td>...</td>\n",
       "      <td>NaN</td>\n",
       "      <td>45</td>\n",
       "      <td>25.296875</td>\n",
       "      <td>59888.888889</td>\n",
       "      <td>0</td>\n",
       "      <td>10</td>\n",
       "      <td>2018</td>\n",
       "      <td>другой</td>\n",
       "      <td>0.444444</td>\n",
       "      <td>0.258301</td>\n",
       "    </tr>\n",
       "    <tr>\n",
       "      <td>23454</td>\n",
       "      <td>2</td>\n",
       "      <td>3250000.0</td>\n",
       "      <td>45.90625</td>\n",
       "      <td>2017-08-31</td>\n",
       "      <td>1</td>\n",
       "      <td>2.650391</td>\n",
       "      <td>25</td>\n",
       "      <td>16.5</td>\n",
       "      <td>23</td>\n",
       "      <td>False</td>\n",
       "      <td>...</td>\n",
       "      <td>3000.0</td>\n",
       "      <td>45</td>\n",
       "      <td>27.796875</td>\n",
       "      <td>70796.460177</td>\n",
       "      <td>3</td>\n",
       "      <td>8</td>\n",
       "      <td>2017</td>\n",
       "      <td>другой</td>\n",
       "      <td>0.359428</td>\n",
       "      <td>0.246094</td>\n",
       "    </tr>\n",
       "    <tr>\n",
       "      <td>23482</td>\n",
       "      <td>19</td>\n",
       "      <td>3600000.0</td>\n",
       "      <td>39.68750</td>\n",
       "      <td>2017-12-06</td>\n",
       "      <td>1</td>\n",
       "      <td>2.599609</td>\n",
       "      <td>9</td>\n",
       "      <td>22.6</td>\n",
       "      <td>3</td>\n",
       "      <td>False</td>\n",
       "      <td>...</td>\n",
       "      <td>3000.0</td>\n",
       "      <td>45</td>\n",
       "      <td>29.796875</td>\n",
       "      <td>90708.661417</td>\n",
       "      <td>2</td>\n",
       "      <td>12</td>\n",
       "      <td>2017</td>\n",
       "      <td>другой</td>\n",
       "      <td>0.569449</td>\n",
       "      <td>0.181396</td>\n",
       "    </tr>\n",
       "    <tr>\n",
       "      <td>23537</td>\n",
       "      <td>9</td>\n",
       "      <td>3600000.0</td>\n",
       "      <td>45.00000</td>\n",
       "      <td>2017-06-14</td>\n",
       "      <td>2</td>\n",
       "      <td>2.500000</td>\n",
       "      <td>5</td>\n",
       "      <td>28.7</td>\n",
       "      <td>3</td>\n",
       "      <td>False</td>\n",
       "      <td>...</td>\n",
       "      <td>658.0</td>\n",
       "      <td>45</td>\n",
       "      <td>34.187500</td>\n",
       "      <td>80000.000000</td>\n",
       "      <td>2</td>\n",
       "      <td>6</td>\n",
       "      <td>2017</td>\n",
       "      <td>другой</td>\n",
       "      <td>0.637778</td>\n",
       "      <td>0.122192</td>\n",
       "    </tr>\n",
       "    <tr>\n",
       "      <td>23695</td>\n",
       "      <td>14</td>\n",
       "      <td>3100000.0</td>\n",
       "      <td>59.00000</td>\n",
       "      <td>2018-01-15</td>\n",
       "      <td>3</td>\n",
       "      <td>2.650391</td>\n",
       "      <td>5</td>\n",
       "      <td>38.0</td>\n",
       "      <td>4</td>\n",
       "      <td>False</td>\n",
       "      <td>...</td>\n",
       "      <td>NaN</td>\n",
       "      <td>45</td>\n",
       "      <td>46.500000</td>\n",
       "      <td>52542.372881</td>\n",
       "      <td>0</td>\n",
       "      <td>1</td>\n",
       "      <td>2018</td>\n",
       "      <td>другой</td>\n",
       "      <td>0.644068</td>\n",
       "      <td>0.144043</td>\n",
       "    </tr>\n",
       "  </tbody>\n",
       "</table>\n",
       "<p>538 rows × 30 columns</p>\n",
       "</div>"
      ],
      "text/plain": [
       "       total_images  last_price  total_area first_day_exposition  rooms  \\\n",
       "78                9   4350000.0    37.00000           2018-02-22      1   \n",
       "89                9   2500000.0    63.00000           2018-10-25      3   \n",
       "110               6   3850000.0    72.31250           2017-09-29      2   \n",
       "153              12   4350000.0    55.00000           2017-05-21      2   \n",
       "158              15   3100000.0    47.31250           2017-11-07      2   \n",
       "...             ...         ...         ...                  ...    ...   \n",
       "23390             8   2156000.0    36.00000           2018-10-29      1   \n",
       "23454             2   3250000.0    45.90625           2017-08-31      1   \n",
       "23482            19   3600000.0    39.68750           2017-12-06      1   \n",
       "23537             9   3600000.0    45.00000           2017-06-14      2   \n",
       "23695            14   3100000.0    59.00000           2018-01-15      3   \n",
       "\n",
       "       ceiling_height  floors_total  living_area  floor  is_apartment  ...  \\\n",
       "78           2.650391            19         18.0      6         False  ...   \n",
       "89           2.500000             5         43.0      4         False  ...   \n",
       "110          2.650391             3         27.4      2         False  ...   \n",
       "153          2.570312             9         31.2      2         False  ...   \n",
       "158          2.650391             5         27.5      2         False  ...   \n",
       "...               ...           ...          ...    ...           ...  ...   \n",
       "23390        2.650391            12         16.0      3         False  ...   \n",
       "23454        2.650391            25         16.5     23         False  ...   \n",
       "23482        2.599609             9         22.6      3         False  ...   \n",
       "23537        2.500000             5         28.7      3         False  ...   \n",
       "23695        2.650391             5         38.0      4         False  ...   \n",
       "\n",
       "       ponds_nearest  days_exposition   sum_area  square_meter_price  \\\n",
       "78            3000.0               45  28.703125       117567.567568   \n",
       "89               NaN               45  52.000000        39682.539683   \n",
       "110              NaN               45  51.000000        53241.140882   \n",
       "153           3000.0               45  39.500000        79090.909091   \n",
       "158              NaN               45  36.000000        65521.796565   \n",
       "...              ...              ...        ...                 ...   \n",
       "23390            NaN               45  25.296875        59888.888889   \n",
       "23454         3000.0               45  27.796875        70796.460177   \n",
       "23482         3000.0               45  29.796875        90708.661417   \n",
       "23537          658.0               45  34.187500        80000.000000   \n",
       "23695            NaN               45  46.500000        52542.372881   \n",
       "\n",
       "      weekday_exposition  month_exposition  year_exposition  floor_category  \\\n",
       "78                     3                 2             2018          другой   \n",
       "89                     3                10             2018          другой   \n",
       "110                    4                 9             2017          другой   \n",
       "153                    6                 5             2017          другой   \n",
       "158                    1                11             2017          другой   \n",
       "...                  ...               ...              ...             ...   \n",
       "23390                  0                10             2018          другой   \n",
       "23454                  3                 8             2017          другой   \n",
       "23482                  2                12             2017          другой   \n",
       "23537                  2                 6             2017          другой   \n",
       "23695                  0                 1             2018          другой   \n",
       "\n",
       "       useful_area_ratio  kitchen_area_ratio  \n",
       "78              0.486486            0.289307  \n",
       "89              0.682540            0.142822  \n",
       "110             0.378911            0.326172  \n",
       "153             0.567273            0.150879  \n",
       "158             0.581242            0.179688  \n",
       "...                  ...                 ...  \n",
       "23390           0.444444            0.258301  \n",
       "23454           0.359428            0.246094  \n",
       "23482           0.569449            0.181396  \n",
       "23537           0.637778            0.122192  \n",
       "23695           0.644068            0.144043  \n",
       "\n",
       "[538 rows x 30 columns]"
      ]
     },
     "execution_count": 72,
     "metadata": {},
     "output_type": "execute_result"
    }
   ],
   "source": [
    "data[data['days_exposition']==45]"
   ]
  },
  {
   "cell_type": "markdown",
   "metadata": {},
   "source": [
    "Hикаких общих особенностей в обьявлениях, снятых через 45 дней не выявлено, потому будем убирать эти данные из наших расчетов, как и данные с 60, 90 дней в столбце days_exposition, так как это аномалии. Уберем выбивающиеся значения."
   ]
  },
  {
   "cell_type": "code",
   "execution_count": 73,
   "metadata": {},
   "outputs": [],
   "source": [
    "good_data = good_data.query('days_exposition != 45 and days_exposition != 60 and days_exposition != 90')"
   ]
  },
  {
   "cell_type": "code",
   "execution_count": 74,
   "metadata": {},
   "outputs": [
    {
     "data": {
      "image/png": "[encoded data removed]",
      "text/plain": [
       "<Figure size 432x288 with 1 Axes>"
      ]
     },
     "metadata": {
      "needs_background": "light"
     },
     "output_type": "display_data"
    }
   ],
   "source": [
    "g_exposition = sns.distplot( a=good_data['days_exposition'], hist=True, kde=True, bins = 100)\n",
    "g_exposition.set_ylabel('число квартир')\n",
    "g_exposition.set_xlabel('дни продажи')\n",
    "g_exposition.set_title('срок продажи квартир');"
   ]
  },
  {
   "cell_type": "markdown",
   "metadata": {},
   "source": [
    "Построим диаграмму размаха нового датасета."
   ]
  },
  {
   "cell_type": "code",
   "execution_count": 75,
   "metadata": {},
   "outputs": [
    {
     "data": {
      "image/png": "[encoded data removed]",
      "text/plain": [
       "<Figure size 432x288 with 1 Axes>"
      ]
     },
     "metadata": {
      "needs_background": "light"
     },
     "output_type": "display_data"
    }
   ],
   "source": [
    "box_expos = sns.boxplot( y=good_data['days_exposition'])\n",
    "box_expos.set_ylabel('Дни продажи')\n",
    "g_price.set_title('Время продажи квартир');"
   ]
  },
  {
   "cell_type": "markdown",
   "metadata": {},
   "source": [
    "Посчитаем долю продаж квартир за 0 дней:"
   ]
  },
  {
   "cell_type": "code",
   "execution_count": 76,
   "metadata": {},
   "outputs": [
    {
     "data": {
      "text/plain": [
       "13.915094339622641"
      ]
     },
     "execution_count": 76,
     "metadata": {},
     "output_type": "execute_result"
    }
   ],
   "source": [
    "len(data.query('days_exposition==0')) / len(data)*100"
   ]
  },
  {
   "cell_type": "markdown",
   "metadata": {},
   "source": [
    "13% данных с 0 дней продаж. Вероятно, нам нужно убрать эти значения из выборки, но нужно подумать есть ли еще критерии для снятия таких объявлений. "
   ]
  },
  {
   "cell_type": "code",
   "execution_count": 77,
   "metadata": {},
   "outputs": [
    {
     "data": {
      "text/html": [
       "<div>\n",
       "<style scoped>\n",
       "    .dataframe tbody tr th:only-of-type {\n",
       "        vertical-align: middle;\n",
       "    }\n",
       "\n",
       "    .dataframe tbody tr th {\n",
       "        vertical-align: top;\n",
       "    }\n",
       "\n",
       "    .dataframe thead th {\n",
       "        text-align: right;\n",
       "    }\n",
       "</style>\n",
       "<table border=\"1\" class=\"dataframe\">\n",
       "  <thead>\n",
       "    <tr style=\"text-align: right;\">\n",
       "      <th></th>\n",
       "      <th>total_images</th>\n",
       "      <th>last_price</th>\n",
       "      <th>total_area</th>\n",
       "      <th>first_day_exposition</th>\n",
       "      <th>rooms</th>\n",
       "      <th>ceiling_height</th>\n",
       "      <th>floors_total</th>\n",
       "      <th>living_area</th>\n",
       "      <th>floor</th>\n",
       "      <th>is_apartment</th>\n",
       "      <th>...</th>\n",
       "      <th>ponds_nearest</th>\n",
       "      <th>days_exposition</th>\n",
       "      <th>sum_area</th>\n",
       "      <th>square_meter_price</th>\n",
       "      <th>weekday_exposition</th>\n",
       "      <th>month_exposition</th>\n",
       "      <th>year_exposition</th>\n",
       "      <th>floor_category</th>\n",
       "      <th>useful_area_ratio</th>\n",
       "      <th>kitchen_area_ratio</th>\n",
       "    </tr>\n",
       "  </thead>\n",
       "  <tbody>\n",
       "    <tr>\n",
       "      <td>0</td>\n",
       "      <td>20</td>\n",
       "      <td>13000000.0</td>\n",
       "      <td>108.000000</td>\n",
       "      <td>2019-03-07</td>\n",
       "      <td>3</td>\n",
       "      <td>2.699219</td>\n",
       "      <td>16</td>\n",
       "      <td>51.0</td>\n",
       "      <td>8</td>\n",
       "      <td>False</td>\n",
       "      <td>...</td>\n",
       "      <td>755.0</td>\n",
       "      <td>0</td>\n",
       "      <td>76.000000</td>\n",
       "      <td>120370.370370</td>\n",
       "      <td>3</td>\n",
       "      <td>3</td>\n",
       "      <td>2019</td>\n",
       "      <td>другой</td>\n",
       "      <td>0.472222</td>\n",
       "      <td>0.231445</td>\n",
       "    </tr>\n",
       "    <tr>\n",
       "      <td>45</td>\n",
       "      <td>17</td>\n",
       "      <td>5200000.0</td>\n",
       "      <td>50.593750</td>\n",
       "      <td>2018-12-02</td>\n",
       "      <td>2</td>\n",
       "      <td>2.650391</td>\n",
       "      <td>9</td>\n",
       "      <td>30.3</td>\n",
       "      <td>7</td>\n",
       "      <td>False</td>\n",
       "      <td>...</td>\n",
       "      <td>3000.0</td>\n",
       "      <td>0</td>\n",
       "      <td>37.312500</td>\n",
       "      <td>102779.493515</td>\n",
       "      <td>6</td>\n",
       "      <td>12</td>\n",
       "      <td>2018</td>\n",
       "      <td>другой</td>\n",
       "      <td>0.598888</td>\n",
       "      <td>0.138306</td>\n",
       "    </tr>\n",
       "    <tr>\n",
       "      <td>46</td>\n",
       "      <td>17</td>\n",
       "      <td>6600000.0</td>\n",
       "      <td>52.093750</td>\n",
       "      <td>2019-01-31</td>\n",
       "      <td>2</td>\n",
       "      <td>2.599609</td>\n",
       "      <td>24</td>\n",
       "      <td>29.7</td>\n",
       "      <td>9</td>\n",
       "      <td>False</td>\n",
       "      <td>...</td>\n",
       "      <td>3000.0</td>\n",
       "      <td>0</td>\n",
       "      <td>38.000000</td>\n",
       "      <td>126694.661068</td>\n",
       "      <td>3</td>\n",
       "      <td>1</td>\n",
       "      <td>2019</td>\n",
       "      <td>другой</td>\n",
       "      <td>0.570126</td>\n",
       "      <td>0.159302</td>\n",
       "    </tr>\n",
       "    <tr>\n",
       "      <td>49</td>\n",
       "      <td>1</td>\n",
       "      <td>3050000.0</td>\n",
       "      <td>30.796875</td>\n",
       "      <td>2018-11-22</td>\n",
       "      <td>1</td>\n",
       "      <td>2.500000</td>\n",
       "      <td>9</td>\n",
       "      <td>18.0</td>\n",
       "      <td>7</td>\n",
       "      <td>False</td>\n",
       "      <td>...</td>\n",
       "      <td>3000.0</td>\n",
       "      <td>0</td>\n",
       "      <td>24.000000</td>\n",
       "      <td>99036.022324</td>\n",
       "      <td>3</td>\n",
       "      <td>11</td>\n",
       "      <td>2018</td>\n",
       "      <td>другой</td>\n",
       "      <td>0.584475</td>\n",
       "      <td>0.194824</td>\n",
       "    </tr>\n",
       "    <tr>\n",
       "      <td>52</td>\n",
       "      <td>20</td>\n",
       "      <td>11795000.0</td>\n",
       "      <td>136.000000</td>\n",
       "      <td>2017-09-22</td>\n",
       "      <td>6</td>\n",
       "      <td>3.000000</td>\n",
       "      <td>2</td>\n",
       "      <td>94.0</td>\n",
       "      <td>2</td>\n",
       "      <td>False</td>\n",
       "      <td>...</td>\n",
       "      <td>3000.0</td>\n",
       "      <td>0</td>\n",
       "      <td>105.000000</td>\n",
       "      <td>86727.941176</td>\n",
       "      <td>4</td>\n",
       "      <td>9</td>\n",
       "      <td>2017</td>\n",
       "      <td>последний</td>\n",
       "      <td>0.691176</td>\n",
       "      <td>0.080872</td>\n",
       "    </tr>\n",
       "    <tr>\n",
       "      <td>...</td>\n",
       "      <td>...</td>\n",
       "      <td>...</td>\n",
       "      <td>...</td>\n",
       "      <td>...</td>\n",
       "      <td>...</td>\n",
       "      <td>...</td>\n",
       "      <td>...</td>\n",
       "      <td>...</td>\n",
       "      <td>...</td>\n",
       "      <td>...</td>\n",
       "      <td>...</td>\n",
       "      <td>...</td>\n",
       "      <td>...</td>\n",
       "      <td>...</td>\n",
       "      <td>...</td>\n",
       "      <td>...</td>\n",
       "      <td>...</td>\n",
       "      <td>...</td>\n",
       "      <td>...</td>\n",
       "      <td>...</td>\n",
       "      <td>...</td>\n",
       "    </tr>\n",
       "    <tr>\n",
       "      <td>23683</td>\n",
       "      <td>16</td>\n",
       "      <td>2100000.0</td>\n",
       "      <td>62.812500</td>\n",
       "      <td>2018-09-18</td>\n",
       "      <td>4</td>\n",
       "      <td>2.500000</td>\n",
       "      <td>5</td>\n",
       "      <td>45.5</td>\n",
       "      <td>3</td>\n",
       "      <td>False</td>\n",
       "      <td>...</td>\n",
       "      <td>NaN</td>\n",
       "      <td>0</td>\n",
       "      <td>51.000000</td>\n",
       "      <td>33432.835821</td>\n",
       "      <td>1</td>\n",
       "      <td>9</td>\n",
       "      <td>2018</td>\n",
       "      <td>другой</td>\n",
       "      <td>0.724378</td>\n",
       "      <td>0.087585</td>\n",
       "    </tr>\n",
       "    <tr>\n",
       "      <td>23684</td>\n",
       "      <td>20</td>\n",
       "      <td>21400000.0</td>\n",
       "      <td>145.000000</td>\n",
       "      <td>2018-11-02</td>\n",
       "      <td>4</td>\n",
       "      <td>3.000000</td>\n",
       "      <td>26</td>\n",
       "      <td>71.4</td>\n",
       "      <td>17</td>\n",
       "      <td>False</td>\n",
       "      <td>...</td>\n",
       "      <td>3000.0</td>\n",
       "      <td>0</td>\n",
       "      <td>87.000000</td>\n",
       "      <td>147586.206897</td>\n",
       "      <td>4</td>\n",
       "      <td>11</td>\n",
       "      <td>2018</td>\n",
       "      <td>другой</td>\n",
       "      <td>0.492414</td>\n",
       "      <td>0.107605</td>\n",
       "    </tr>\n",
       "    <tr>\n",
       "      <td>23685</td>\n",
       "      <td>15</td>\n",
       "      <td>2490000.0</td>\n",
       "      <td>31.000000</td>\n",
       "      <td>2019-01-24</td>\n",
       "      <td>1</td>\n",
       "      <td>2.500000</td>\n",
       "      <td>5</td>\n",
       "      <td>17.3</td>\n",
       "      <td>5</td>\n",
       "      <td>False</td>\n",
       "      <td>...</td>\n",
       "      <td>3000.0</td>\n",
       "      <td>0</td>\n",
       "      <td>22.906250</td>\n",
       "      <td>80322.580645</td>\n",
       "      <td>3</td>\n",
       "      <td>1</td>\n",
       "      <td>2019</td>\n",
       "      <td>последний</td>\n",
       "      <td>0.558065</td>\n",
       "      <td>0.180664</td>\n",
       "    </tr>\n",
       "    <tr>\n",
       "      <td>23694</td>\n",
       "      <td>9</td>\n",
       "      <td>9700000.0</td>\n",
       "      <td>133.750000</td>\n",
       "      <td>2017-03-21</td>\n",
       "      <td>3</td>\n",
       "      <td>3.699219</td>\n",
       "      <td>5</td>\n",
       "      <td>73.3</td>\n",
       "      <td>3</td>\n",
       "      <td>False</td>\n",
       "      <td>...</td>\n",
       "      <td>381.0</td>\n",
       "      <td>0</td>\n",
       "      <td>87.125000</td>\n",
       "      <td>72523.364486</td>\n",
       "      <td>1</td>\n",
       "      <td>3</td>\n",
       "      <td>2017</td>\n",
       "      <td>другой</td>\n",
       "      <td>0.548037</td>\n",
       "      <td>0.103394</td>\n",
       "    </tr>\n",
       "    <tr>\n",
       "      <td>23698</td>\n",
       "      <td>4</td>\n",
       "      <td>1350000.0</td>\n",
       "      <td>32.312500</td>\n",
       "      <td>2017-07-21</td>\n",
       "      <td>1</td>\n",
       "      <td>2.500000</td>\n",
       "      <td>5</td>\n",
       "      <td>12.3</td>\n",
       "      <td>1</td>\n",
       "      <td>False</td>\n",
       "      <td>...</td>\n",
       "      <td>NaN</td>\n",
       "      <td>0</td>\n",
       "      <td>21.296875</td>\n",
       "      <td>41779.497099</td>\n",
       "      <td>4</td>\n",
       "      <td>7</td>\n",
       "      <td>2017</td>\n",
       "      <td>первый</td>\n",
       "      <td>0.380658</td>\n",
       "      <td>0.278564</td>\n",
       "    </tr>\n",
       "  </tbody>\n",
       "</table>\n",
       "<p>2891 rows × 30 columns</p>\n",
       "</div>"
      ],
      "text/plain": [
       "       total_images  last_price  total_area first_day_exposition  rooms  \\\n",
       "0                20  13000000.0  108.000000           2019-03-07      3   \n",
       "45               17   5200000.0   50.593750           2018-12-02      2   \n",
       "46               17   6600000.0   52.093750           2019-01-31      2   \n",
       "49                1   3050000.0   30.796875           2018-11-22      1   \n",
       "52               20  11795000.0  136.000000           2017-09-22      6   \n",
       "...             ...         ...         ...                  ...    ...   \n",
       "23683            16   2100000.0   62.812500           2018-09-18      4   \n",
       "23684            20  21400000.0  145.000000           2018-11-02      4   \n",
       "23685            15   2490000.0   31.000000           2019-01-24      1   \n",
       "23694             9   9700000.0  133.750000           2017-03-21      3   \n",
       "23698             4   1350000.0   32.312500           2017-07-21      1   \n",
       "\n",
       "       ceiling_height  floors_total  living_area  floor  is_apartment  ...  \\\n",
       "0            2.699219            16         51.0      8         False  ...   \n",
       "45           2.650391             9         30.3      7         False  ...   \n",
       "46           2.599609            24         29.7      9         False  ...   \n",
       "49           2.500000             9         18.0      7         False  ...   \n",
       "52           3.000000             2         94.0      2         False  ...   \n",
       "...               ...           ...          ...    ...           ...  ...   \n",
       "23683        2.500000             5         45.5      3         False  ...   \n",
       "23684        3.000000            26         71.4     17         False  ...   \n",
       "23685        2.500000             5         17.3      5         False  ...   \n",
       "23694        3.699219             5         73.3      3         False  ...   \n",
       "23698        2.500000             5         12.3      1         False  ...   \n",
       "\n",
       "       ponds_nearest  days_exposition    sum_area  square_meter_price  \\\n",
       "0              755.0                0   76.000000       120370.370370   \n",
       "45            3000.0                0   37.312500       102779.493515   \n",
       "46            3000.0                0   38.000000       126694.661068   \n",
       "49            3000.0                0   24.000000        99036.022324   \n",
       "52            3000.0                0  105.000000        86727.941176   \n",
       "...              ...              ...         ...                 ...   \n",
       "23683            NaN                0   51.000000        33432.835821   \n",
       "23684         3000.0                0   87.000000       147586.206897   \n",
       "23685         3000.0                0   22.906250        80322.580645   \n",
       "23694          381.0                0   87.125000        72523.364486   \n",
       "23698            NaN                0   21.296875        41779.497099   \n",
       "\n",
       "      weekday_exposition  month_exposition  year_exposition  floor_category  \\\n",
       "0                      3                 3             2019          другой   \n",
       "45                     6                12             2018          другой   \n",
       "46                     3                 1             2019          другой   \n",
       "49                     3                11             2018          другой   \n",
       "52                     4                 9             2017       последний   \n",
       "...                  ...               ...              ...             ...   \n",
       "23683                  1                 9             2018          другой   \n",
       "23684                  4                11             2018          другой   \n",
       "23685                  3                 1             2019       последний   \n",
       "23694                  1                 3             2017          другой   \n",
       "23698                  4                 7             2017          первый   \n",
       "\n",
       "       useful_area_ratio  kitchen_area_ratio  \n",
       "0               0.472222            0.231445  \n",
       "45              0.598888            0.138306  \n",
       "46              0.570126            0.159302  \n",
       "49              0.584475            0.194824  \n",
       "52              0.691176            0.080872  \n",
       "...                  ...                 ...  \n",
       "23683           0.724378            0.087585  \n",
       "23684           0.492414            0.107605  \n",
       "23685           0.558065            0.180664  \n",
       "23694           0.548037            0.103394  \n",
       "23698           0.380658            0.278564  \n",
       "\n",
       "[2891 rows x 30 columns]"
      ]
     },
     "execution_count": 77,
     "metadata": {},
     "output_type": "execute_result"
    }
   ],
   "source": [
    "data[data['days_exposition']==0]"
   ]
  },
  {
   "cell_type": "markdown",
   "metadata": {},
   "source": [
    "Никаких общих особенностей в обьявлениях, снятых через 0 дней не выявлено, потому будем убирать эти данные из наших расчетов, как и данные с 45, 60, 90 days_exposition, так как это аномалии."
   ]
  },
  {
   "cell_type": "code",
   "execution_count": 78,
   "metadata": {},
   "outputs": [],
   "source": [
    "good_data = good_data.query('days_exposition != 0')"
   ]
  },
  {
   "cell_type": "code",
   "execution_count": 79,
   "metadata": {},
   "outputs": [
    {
     "data": {
      "image/png": "[encoded data removed]",
      "text/plain": [
       "<Figure size 432x288 with 1 Axes>"
      ]
     },
     "metadata": {
      "needs_background": "light"
     },
     "output_type": "display_data"
    }
   ],
   "source": [
    "g_days_exposition = sns.distplot( a=good_data['days_exposition'], hist=True, kde=True, bins = 100)\n",
    "g_days_exposition.set_ylabel('число квартир')\n",
    "g_days_exposition.set_xlabel('дни продажи')\n",
    "g_days_exposition.set_title('срок продажи квартир');"
   ]
  },
  {
   "cell_type": "markdown",
   "metadata": {},
   "source": [
    "Получим описание данных нового датасета."
   ]
  },
  {
   "cell_type": "code",
   "execution_count": 80,
   "metadata": {},
   "outputs": [
    {
     "data": {
      "text/plain": [
       "count    16840.000000\n",
       "mean        93.663242\n",
       "std         69.212507\n",
       "min          1.000000\n",
       "25%         32.000000\n",
       "50%         80.000000\n",
       "75%        144.000000\n",
       "max        255.000000\n",
       "Name: days_exposition, dtype: float64"
      ]
     },
     "execution_count": 80,
     "metadata": {},
     "output_type": "execute_result"
    }
   ],
   "source": [
    "good_data['days_exposition'].describe()"
   ]
  },
  {
   "cell_type": "code",
   "execution_count": 81,
   "metadata": {},
   "outputs": [
    {
     "data": {
      "image/png": "[encoded data removed]",
      "text/plain": [
       "<Figure size 432x288 with 1 Axes>"
      ]
     },
     "metadata": {
      "needs_background": "light"
     },
     "output_type": "display_data"
    }
   ],
   "source": [
    "box_expos = sns.boxplot( y=good_data['days_exposition'])\n",
    "box_expos.set_ylabel('Дни продажи')\n",
    "g_price.set_title('Время продажи квартир');"
   ]
  },
  {
   "cell_type": "markdown",
   "metadata": {},
   "source": [
    "У нового датасета среднее значение срока продаж 136 дней, а медианное значение 197 дней. Стандартное отклонение уменьшилось почти в двое."
   ]
  },
  {
   "cell_type": "markdown",
   "metadata": {},
   "source": [
    "**Вывод:**\n",
    "Удалили редкие и выбивающиеся значения из датасета о времени продажи квартир. В результате у среднее значение срока продаж 136 дней, а медианное значение 197 дней. Распределение скорости продажи квартир похоже на распределение пирсона."
   ]
  },
  {
   "cell_type": "markdown",
   "metadata": {},
   "source": [
    "### Изучим зависимость цены квадратного метра от общей площади квартиры."
   ]
  },
  {
   "cell_type": "code",
   "execution_count": 82,
   "metadata": {},
   "outputs": [
    {
     "data": {
      "text/plain": [
       "0.3041751207195912"
      ]
     },
     "execution_count": 82,
     "metadata": {},
     "output_type": "execute_result"
    },
    {
     "data": {
      "image/png": "[encoded data removed]",
      "text/plain": [
       "<Figure size 432x288 with 1 Axes>"
      ]
     },
     "metadata": {
      "needs_background": "light"
     },
     "output_type": "display_data"
    }
   ],
   "source": [
    "pivot_table_total_area = data.pivot_table(index = 'total_area', values = 'square_meter_price', aggfunc = ['mean', 'count', 'median'])\n",
    "pivot_table_total_area.columns = ['mean', 'count', 'median']\n",
    "pivot_table_total_area.plot(y = 'median', style = 'o')\n",
    "\n",
    "pivot_table_total_area.sort_values('median', ascending = False)\n",
    "\n",
    "data['total_area'].corr(data['square_meter_price'])"
   ]
  },
  {
   "cell_type": "markdown",
   "metadata": {},
   "source": [
    "Зависимость цены квадратного метра от общей площади квартиры умеренная/слабая - согласно корреляции Пирсона - 0.3. То есть, чем больше площадь тем выше стоимость квадратного метра в ней."
   ]
  },
  {
   "cell_type": "markdown",
   "metadata": {},
   "source": [
    "### Изучим зависимость цены квадратного метра от числа комнат."
   ]
  },
  {
   "cell_type": "markdown",
   "metadata": {},
   "source": [
    "Для построения графика выберем типы квартир у которых было более 50 продаж."
   ]
  },
  {
   "cell_type": "code",
   "execution_count": 83,
   "metadata": {},
   "outputs": [
    {
     "data": {
      "text/plain": [
       "0.05476628056635277"
      ]
     },
     "execution_count": 83,
     "metadata": {},
     "output_type": "execute_result"
    },
    {
     "data": {
      "image/png": "[encoded data removed]",
      "text/plain": [
       "<Figure size 432x288 with 1 Axes>"
      ]
     },
     "metadata": {
      "needs_background": "light"
     },
     "output_type": "display_data"
    }
   ],
   "source": [
    "pivot_table_rooms = data.pivot_table(index = 'rooms', values = 'square_meter_price', aggfunc = ['mean', 'count', 'median'])\n",
    "pivot_table_rooms.columns = ['mean', 'count', 'median']\n",
    "pivot_table_rooms.query('count > 50').plot(y = 'median')\n",
    "\n",
    "pivot_table_rooms.query('count > 50').sort_values('median', ascending = False)\n",
    "\n",
    "data['rooms'].corr(data['square_meter_price'])"
   ]
  },
  {
   "cell_type": "markdown",
   "metadata": {},
   "source": [
    "У трехкомнатных квартир наименьшая цена квадратного метра. Зависимость цены квадратного метра нелинейная, поэтому коэффициент Пирсона близкий к 0."
   ]
  },
  {
   "cell_type": "markdown",
   "metadata": {},
   "source": [
    "### Изучим зависимость цены квадратного метра от этажа (первого или последнего)."
   ]
  },
  {
   "cell_type": "markdown",
   "metadata": {},
   "source": [
    "Так как в задании указаны первый и последний этажи, исключим из анализа \"другие\" этажи."
   ]
  },
  {
   "cell_type": "code",
   "execution_count": 84,
   "metadata": {},
   "outputs": [
    {
     "data": {
      "text/html": [
       "<div>\n",
       "<style scoped>\n",
       "    .dataframe tbody tr th:only-of-type {\n",
       "        vertical-align: middle;\n",
       "    }\n",
       "\n",
       "    .dataframe tbody tr th {\n",
       "        vertical-align: top;\n",
       "    }\n",
       "\n",
       "    .dataframe thead th {\n",
       "        text-align: right;\n",
       "    }\n",
       "</style>\n",
       "<table border=\"1\" class=\"dataframe\">\n",
       "  <thead>\n",
       "    <tr style=\"text-align: right;\">\n",
       "      <th></th>\n",
       "      <th>mean</th>\n",
       "      <th>median</th>\n",
       "    </tr>\n",
       "    <tr>\n",
       "      <th>floor_category</th>\n",
       "      <th></th>\n",
       "      <th></th>\n",
       "    </tr>\n",
       "  </thead>\n",
       "  <tbody>\n",
       "    <tr>\n",
       "      <td>другой</td>\n",
       "      <td>103237.437162</td>\n",
       "      <td>98138.954952</td>\n",
       "    </tr>\n",
       "    <tr>\n",
       "      <td>первый</td>\n",
       "      <td>82128.486097</td>\n",
       "      <td>81395.348837</td>\n",
       "    </tr>\n",
       "    <tr>\n",
       "      <td>последний</td>\n",
       "      <td>92692.964520</td>\n",
       "      <td>88004.400440</td>\n",
       "    </tr>\n",
       "  </tbody>\n",
       "</table>\n",
       "</div>"
      ],
      "text/plain": [
       "                         mean        median\n",
       "floor_category                             \n",
       "другой          103237.437162  98138.954952\n",
       "первый           82128.486097  81395.348837\n",
       "последний        92692.964520  88004.400440"
      ]
     },
     "execution_count": 84,
     "metadata": {},
     "output_type": "execute_result"
    },
    {
     "data": {
      "image/png": "[encoded data removed]",
      "text/plain": [
       "<Figure size 432x288 with 1 Axes>"
      ]
     },
     "metadata": {
      "needs_background": "light"
     },
     "output_type": "display_data"
    }
   ],
   "source": [
    "pivot_table_floor_category = data.pivot_table(index = 'floor_category', values = 'square_meter_price', aggfunc = ['mean', 'median'])\n",
    "pivot_table_floor_category.columns = ['mean', 'median']\n",
    "pivot_table_floor_category.plot(kind='bar', rot=0)\n",
    "pivot_table_floor_category"
   ]
  },
  {
   "cell_type": "markdown",
   "metadata": {},
   "source": [
    "Согласно графику, средней и медианной цене квартиры на последнем этаже имеют на 10% более дорогую стоимость квадратного метра. Самая большая стоимость в отличных от первого и последнего этажах квартир."
   ]
  },
  {
   "cell_type": "markdown",
   "metadata": {},
   "source": [
    "### Изучим зависимость цены квадратного метра от удалённости от центра."
   ]
  },
  {
   "cell_type": "code",
   "execution_count": 85,
   "metadata": {},
   "outputs": [
    {
     "data": {
      "image/png": "[encoded data removed]",
      "text/plain": [
       "<Figure size 432x288 with 1 Axes>"
      ]
     },
     "metadata": {
      "needs_background": "light"
     },
     "output_type": "display_data"
    }
   ],
   "source": [
    "data.plot(kind = 'scatter', y = 'square_meter_price', x = 'cityCenters_nearest', alpha = 0.3)\n",
    "\n",
    "data['cityCenters_nearest'].corr(data['square_meter_price']);"
   ]
  },
  {
   "cell_type": "markdown",
   "metadata": {},
   "source": [
    "Чем ближе к центру, тем больше цена за квадратный метр квартир."
   ]
  },
  {
   "cell_type": "markdown",
   "metadata": {},
   "source": [
    "### изучим зависимость от даты размещения"
   ]
  },
  {
   "cell_type": "markdown",
   "metadata": {},
   "source": [
    "Изучим зависимость цены квадратного метра от дня недели."
   ]
  },
  {
   "cell_type": "code",
   "execution_count": 86,
   "metadata": {},
   "outputs": [
    {
     "data": {
      "text/html": [
       "<div>\n",
       "<style scoped>\n",
       "    .dataframe tbody tr th:only-of-type {\n",
       "        vertical-align: middle;\n",
       "    }\n",
       "\n",
       "    .dataframe tbody tr th {\n",
       "        vertical-align: top;\n",
       "    }\n",
       "\n",
       "    .dataframe thead th {\n",
       "        text-align: right;\n",
       "    }\n",
       "</style>\n",
       "<table border=\"1\" class=\"dataframe\">\n",
       "  <thead>\n",
       "    <tr style=\"text-align: right;\">\n",
       "      <th></th>\n",
       "      <th>mean</th>\n",
       "      <th>count</th>\n",
       "      <th>median</th>\n",
       "    </tr>\n",
       "    <tr>\n",
       "      <th>weekday_exposition</th>\n",
       "      <th></th>\n",
       "      <th></th>\n",
       "      <th></th>\n",
       "    </tr>\n",
       "  </thead>\n",
       "  <tbody>\n",
       "    <tr>\n",
       "      <td>1</td>\n",
       "      <td>99273.029640</td>\n",
       "      <td>3693</td>\n",
       "      <td>95491.113190</td>\n",
       "    </tr>\n",
       "    <tr>\n",
       "      <td>2</td>\n",
       "      <td>98874.093321</td>\n",
       "      <td>3478</td>\n",
       "      <td>95227.501457</td>\n",
       "    </tr>\n",
       "    <tr>\n",
       "      <td>0</td>\n",
       "      <td>99903.394384</td>\n",
       "      <td>3217</td>\n",
       "      <td>95172.413793</td>\n",
       "    </tr>\n",
       "    <tr>\n",
       "      <td>3</td>\n",
       "      <td>100312.856178</td>\n",
       "      <td>3796</td>\n",
       "      <td>95124.859766</td>\n",
       "    </tr>\n",
       "    <tr>\n",
       "      <td>6</td>\n",
       "      <td>98384.704348</td>\n",
       "      <td>1431</td>\n",
       "      <td>94676.806084</td>\n",
       "    </tr>\n",
       "    <tr>\n",
       "      <td>4</td>\n",
       "      <td>98465.780881</td>\n",
       "      <td>3515</td>\n",
       "      <td>94444.444444</td>\n",
       "    </tr>\n",
       "    <tr>\n",
       "      <td>5</td>\n",
       "      <td>97523.680472</td>\n",
       "      <td>1646</td>\n",
       "      <td>92811.275990</td>\n",
       "    </tr>\n",
       "  </tbody>\n",
       "</table>\n",
       "</div>"
      ],
      "text/plain": [
       "                             mean  count        median\n",
       "weekday_exposition                                    \n",
       "1                    99273.029640   3693  95491.113190\n",
       "2                    98874.093321   3478  95227.501457\n",
       "0                    99903.394384   3217  95172.413793\n",
       "3                   100312.856178   3796  95124.859766\n",
       "6                    98384.704348   1431  94676.806084\n",
       "4                    98465.780881   3515  94444.444444\n",
       "5                    97523.680472   1646  92811.275990"
      ]
     },
     "execution_count": 86,
     "metadata": {},
     "output_type": "execute_result"
    },
    {
     "data": {
      "image/png": "[encoded data removed]",
      "text/plain": [
       "<Figure size 432x288 with 1 Axes>"
      ]
     },
     "metadata": {
      "needs_background": "light"
     },
     "output_type": "display_data"
    }
   ],
   "source": [
    "pivot_table_weekday_exposition = data.pivot_table(index = 'weekday_exposition', values = 'square_meter_price', aggfunc = ['mean', 'count', 'median'])\n",
    "pivot_table_weekday_exposition.columns = ['mean', 'count', 'median']\n",
    "pivot_table_weekday_exposition.plot(y = 'median')\n",
    "\n",
    "pivot_table_weekday_exposition.sort_values('median', ascending = False)"
   ]
  },
  {
   "cell_type": "markdown",
   "metadata": {},
   "source": [
    "Разница в цене (до 2%) есть, так во вторник цены выше чем в субботу. Но так как речь о больших суммах 2% от 6 млн в среднем это 120 тыс, что может быть существенно для продавца."
   ]
  },
  {
   "cell_type": "markdown",
   "metadata": {},
   "source": [
    "Изучим зависимость цены квадратного метра от месяца размещений."
   ]
  },
  {
   "cell_type": "code",
   "execution_count": 87,
   "metadata": {},
   "outputs": [
    {
     "data": {
      "text/html": [
       "<div>\n",
       "<style scoped>\n",
       "    .dataframe tbody tr th:only-of-type {\n",
       "        vertical-align: middle;\n",
       "    }\n",
       "\n",
       "    .dataframe tbody tr th {\n",
       "        vertical-align: top;\n",
       "    }\n",
       "\n",
       "    .dataframe thead th {\n",
       "        text-align: right;\n",
       "    }\n",
       "</style>\n",
       "<table border=\"1\" class=\"dataframe\">\n",
       "  <thead>\n",
       "    <tr style=\"text-align: right;\">\n",
       "      <th></th>\n",
       "      <th>mean</th>\n",
       "      <th>count</th>\n",
       "      <th>median</th>\n",
       "    </tr>\n",
       "    <tr>\n",
       "      <th>month_exposition</th>\n",
       "      <th></th>\n",
       "      <th></th>\n",
       "      <th></th>\n",
       "    </tr>\n",
       "  </thead>\n",
       "  <tbody>\n",
       "    <tr>\n",
       "      <td>1</td>\n",
       "      <td>100412.962946</td>\n",
       "      <td>1247</td>\n",
       "      <td>96250.000000</td>\n",
       "    </tr>\n",
       "    <tr>\n",
       "      <td>4</td>\n",
       "      <td>101076.375656</td>\n",
       "      <td>2117</td>\n",
       "      <td>95930.232558</td>\n",
       "    </tr>\n",
       "    <tr>\n",
       "      <td>9</td>\n",
       "      <td>99488.384377</td>\n",
       "      <td>1807</td>\n",
       "      <td>95652.173913</td>\n",
       "    </tr>\n",
       "    <tr>\n",
       "      <td>12</td>\n",
       "      <td>100905.227774</td>\n",
       "      <td>1323</td>\n",
       "      <td>95588.235294</td>\n",
       "    </tr>\n",
       "    <tr>\n",
       "      <td>8</td>\n",
       "      <td>99673.707838</td>\n",
       "      <td>1534</td>\n",
       "      <td>95370.370370</td>\n",
       "    </tr>\n",
       "    <tr>\n",
       "      <td>11</td>\n",
       "      <td>98637.700716</td>\n",
       "      <td>2150</td>\n",
       "      <td>95238.095238</td>\n",
       "    </tr>\n",
       "    <tr>\n",
       "      <td>3</td>\n",
       "      <td>98871.813458</td>\n",
       "      <td>2250</td>\n",
       "      <td>95180.645161</td>\n",
       "    </tr>\n",
       "    <tr>\n",
       "      <td>2</td>\n",
       "      <td>99314.995324</td>\n",
       "      <td>2295</td>\n",
       "      <td>95161.290323</td>\n",
       "    </tr>\n",
       "    <tr>\n",
       "      <td>7</td>\n",
       "      <td>98457.374535</td>\n",
       "      <td>1464</td>\n",
       "      <td>94590.640470</td>\n",
       "    </tr>\n",
       "    <tr>\n",
       "      <td>10</td>\n",
       "      <td>96969.017337</td>\n",
       "      <td>1919</td>\n",
       "      <td>93750.000000</td>\n",
       "    </tr>\n",
       "    <tr>\n",
       "      <td>6</td>\n",
       "      <td>97875.115737</td>\n",
       "      <td>1551</td>\n",
       "      <td>92621.739403</td>\n",
       "    </tr>\n",
       "    <tr>\n",
       "      <td>5</td>\n",
       "      <td>98516.249878</td>\n",
       "      <td>1119</td>\n",
       "      <td>92215.053763</td>\n",
       "    </tr>\n",
       "  </tbody>\n",
       "</table>\n",
       "</div>"
      ],
      "text/plain": [
       "                           mean  count        median\n",
       "month_exposition                                    \n",
       "1                 100412.962946   1247  96250.000000\n",
       "4                 101076.375656   2117  95930.232558\n",
       "9                  99488.384377   1807  95652.173913\n",
       "12                100905.227774   1323  95588.235294\n",
       "8                  99673.707838   1534  95370.370370\n",
       "11                 98637.700716   2150  95238.095238\n",
       "3                  98871.813458   2250  95180.645161\n",
       "2                  99314.995324   2295  95161.290323\n",
       "7                  98457.374535   1464  94590.640470\n",
       "10                 96969.017337   1919  93750.000000\n",
       "6                  97875.115737   1551  92621.739403\n",
       "5                  98516.249878   1119  92215.053763"
      ]
     },
     "execution_count": 87,
     "metadata": {},
     "output_type": "execute_result"
    },
    {
     "data": {
      "image/png": "[encoded data removed]",
      "text/plain": [
       "<Figure size 432x288 with 1 Axes>"
      ]
     },
     "metadata": {
      "needs_background": "light"
     },
     "output_type": "display_data"
    }
   ],
   "source": [
    "pivot_table_month_exposition = data.pivot_table(index = 'month_exposition', values = 'square_meter_price', aggfunc = ['mean', 'count', 'median'])\n",
    "pivot_table_month_exposition.columns = ['mean', 'count', 'median']\n",
    "pivot_table_month_exposition.plot(y = 'median')\n",
    "\n",
    "pivot_table_month_exposition.sort_values('median', ascending = False)"
   ]
  },
  {
   "cell_type": "markdown",
   "metadata": {},
   "source": [
    "По графику видно что максимальные цены за квадратный метр жилья в апреле и августе, минимальные в июне и мае. Но опять можно отметить что в процентном отношении это разница менее 4% от цены за квадратный метр."
   ]
  },
  {
   "cell_type": "markdown",
   "metadata": {},
   "source": [
    "Изучим зависимость цены квадратного метра от года."
   ]
  },
  {
   "cell_type": "code",
   "execution_count": 88,
   "metadata": {},
   "outputs": [
    {
     "data": {
      "text/html": [
       "<div>\n",
       "<style scoped>\n",
       "    .dataframe tbody tr th:only-of-type {\n",
       "        vertical-align: middle;\n",
       "    }\n",
       "\n",
       "    .dataframe tbody tr th {\n",
       "        vertical-align: top;\n",
       "    }\n",
       "\n",
       "    .dataframe thead th {\n",
       "        text-align: right;\n",
       "    }\n",
       "</style>\n",
       "<table border=\"1\" class=\"dataframe\">\n",
       "  <thead>\n",
       "    <tr style=\"text-align: right;\">\n",
       "      <th></th>\n",
       "      <th>mean</th>\n",
       "      <th>count</th>\n",
       "      <th>median</th>\n",
       "    </tr>\n",
       "    <tr>\n",
       "      <th>year_exposition</th>\n",
       "      <th></th>\n",
       "      <th></th>\n",
       "      <th></th>\n",
       "    </tr>\n",
       "  </thead>\n",
       "  <tbody>\n",
       "    <tr>\n",
       "      <td>2014</td>\n",
       "      <td>125498.899549</td>\n",
       "      <td>124</td>\n",
       "      <td>106912.462908</td>\n",
       "    </tr>\n",
       "    <tr>\n",
       "      <td>2019</td>\n",
       "      <td>106361.583186</td>\n",
       "      <td>2557</td>\n",
       "      <td>103133.393017</td>\n",
       "    </tr>\n",
       "    <tr>\n",
       "      <td>2018</td>\n",
       "      <td>98134.600270</td>\n",
       "      <td>7198</td>\n",
       "      <td>95951.227390</td>\n",
       "    </tr>\n",
       "    <tr>\n",
       "      <td>2015</td>\n",
       "      <td>103445.172077</td>\n",
       "      <td>1045</td>\n",
       "      <td>92592.592593</td>\n",
       "    </tr>\n",
       "    <tr>\n",
       "      <td>2017</td>\n",
       "      <td>97185.779829</td>\n",
       "      <td>7353</td>\n",
       "      <td>92543.876567</td>\n",
       "    </tr>\n",
       "    <tr>\n",
       "      <td>2016</td>\n",
       "      <td>97433.932851</td>\n",
       "      <td>2499</td>\n",
       "      <td>90909.090909</td>\n",
       "    </tr>\n",
       "  </tbody>\n",
       "</table>\n",
       "</div>"
      ],
      "text/plain": [
       "                          mean  count         median\n",
       "year_exposition                                     \n",
       "2014             125498.899549    124  106912.462908\n",
       "2019             106361.583186   2557  103133.393017\n",
       "2018              98134.600270   7198   95951.227390\n",
       "2015             103445.172077   1045   92592.592593\n",
       "2017              97185.779829   7353   92543.876567\n",
       "2016              97433.932851   2499   90909.090909"
      ]
     },
     "execution_count": 88,
     "metadata": {},
     "output_type": "execute_result"
    },
    {
     "data": {
      "image/png": "[encoded data removed]",
      "text/plain": [
       "<Figure size 432x288 with 1 Axes>"
      ]
     },
     "metadata": {
      "needs_background": "light"
     },
     "output_type": "display_data"
    }
   ],
   "source": [
    "pivot_table_year_exposition = data.pivot_table(index = 'year_exposition', values = 'square_meter_price', aggfunc = ['mean', 'count', 'median'])\n",
    "pivot_table_year_exposition.columns = ['mean', 'count', 'median']\n",
    "pivot_table_year_exposition.plot(y = 'median')\n",
    "\n",
    "pivot_table_year_exposition.sort_values('median', ascending = False)"
   ]
  },
  {
   "cell_type": "markdown",
   "metadata": {},
   "source": [
    "в 2014 году цены за квадратный метр квартиры были на максимуме за период наблюдения, с 2014 до 2016 цена снизилась достаточно резко. На период с 2016 до 2019 цена за квадратный метр планомерно возрастает, но еще не достигла значений 2014 года."
   ]
  },
  {
   "cell_type": "markdown",
   "metadata": {},
   "source": [
    "**Вывод:**\n",
    "Чем больше общая площадь квартиры и чем ближе квартира к центру города тем выше цена за квадратный метр в ней.\n",
    "Квартиры на 1 этаже в среднем дешевле на 10% относительно квартир на последнем этаже.\n",
    "Зависимость цены на квартиры и дня недели (дешевле всего квартиры в субботу, дороже во вторник) и месяца года (дешевле всего квартиры в мае и июне, дороже в апреле и августе) хоть и есть. Разница с одной стороны не очень большая 2-3%, с другой стороны когда мы говорим о покупке квартры это очень большие суммы - средняя цена квартиры 6млн, соответсвенно 2-3% от этой цены 120-180 тыс, что может быть существенным фактором как для покупателя, так и для продавца.\n",
    "В 2014 году цены на квартиры были на максимуме за период наблюдений 2014-2019 годы, затем они достигли минимум в 2016 году и потом снова стали подниматься, на момент 2019 года цены не достигли планки 2014 года. Как правило цены на квартиры резко возрастают в кризиные периоды, что мы и наблюдаем в 2014 году, после чего они резко падают. Начиная с 2016-2017 годов условия по ипотечным кредитам стали улучшаться, спрос на рынке недвижимости возрос и в результате чего цены на недвижимость пошли снова вверх."
   ]
  },
  {
   "cell_type": "markdown",
   "metadata": {},
   "source": [
    "### Выберем 10 населённых пунктов с наибольшим числом объявлений. "
   ]
  },
  {
   "cell_type": "code",
   "execution_count": 89,
   "metadata": {},
   "outputs": [
    {
     "data": {
      "text/html": [
       "<div>\n",
       "<style scoped>\n",
       "    .dataframe tbody tr th:only-of-type {\n",
       "        vertical-align: middle;\n",
       "    }\n",
       "\n",
       "    .dataframe tbody tr th {\n",
       "        vertical-align: top;\n",
       "    }\n",
       "\n",
       "    .dataframe thead th {\n",
       "        text-align: right;\n",
       "    }\n",
       "</style>\n",
       "<table border=\"1\" class=\"dataframe\">\n",
       "  <thead>\n",
       "    <tr style=\"text-align: right;\">\n",
       "      <th></th>\n",
       "      <th>count</th>\n",
       "      <th>mean</th>\n",
       "    </tr>\n",
       "    <tr>\n",
       "      <th>locality_name</th>\n",
       "      <th></th>\n",
       "      <th></th>\n",
       "    </tr>\n",
       "  </thead>\n",
       "  <tbody>\n",
       "    <tr>\n",
       "      <td>Санкт-Петербург</td>\n",
       "      <td>13963</td>\n",
       "      <td>113814.084540</td>\n",
       "    </tr>\n",
       "    <tr>\n",
       "      <td>поселок Мурино</td>\n",
       "      <td>454</td>\n",
       "      <td>85557.588737</td>\n",
       "    </tr>\n",
       "    <tr>\n",
       "      <td>посёлок Шушары</td>\n",
       "      <td>391</td>\n",
       "      <td>78387.786942</td>\n",
       "    </tr>\n",
       "    <tr>\n",
       "      <td>Кудрово</td>\n",
       "      <td>373</td>\n",
       "      <td>95168.401928</td>\n",
       "    </tr>\n",
       "    <tr>\n",
       "      <td>Всеволожск</td>\n",
       "      <td>351</td>\n",
       "      <td>68920.181299</td>\n",
       "    </tr>\n",
       "    <tr>\n",
       "      <td>Пушкин</td>\n",
       "      <td>336</td>\n",
       "      <td>103352.566927</td>\n",
       "    </tr>\n",
       "    <tr>\n",
       "      <td>Колпино</td>\n",
       "      <td>321</td>\n",
       "      <td>75284.125792</td>\n",
       "    </tr>\n",
       "    <tr>\n",
       "      <td>посёлок Парголово</td>\n",
       "      <td>287</td>\n",
       "      <td>90712.226981</td>\n",
       "    </tr>\n",
       "    <tr>\n",
       "      <td>Гатчина</td>\n",
       "      <td>286</td>\n",
       "      <td>68506.087636</td>\n",
       "    </tr>\n",
       "    <tr>\n",
       "      <td>Выборг</td>\n",
       "      <td>188</td>\n",
       "      <td>58506.537503</td>\n",
       "    </tr>\n",
       "  </tbody>\n",
       "</table>\n",
       "</div>"
      ],
      "text/plain": [
       "                   count           mean\n",
       "locality_name                          \n",
       "Санкт-Петербург    13963  113814.084540\n",
       "поселок Мурино       454   85557.588737\n",
       "посёлок Шушары       391   78387.786942\n",
       "Кудрово              373   95168.401928\n",
       "Всеволожск           351   68920.181299\n",
       "Пушкин               336  103352.566927\n",
       "Колпино              321   75284.125792\n",
       "посёлок Парголово    287   90712.226981\n",
       "Гатчина              286   68506.087636\n",
       "Выборг               188   58506.537503"
      ]
     },
     "execution_count": 89,
     "metadata": {},
     "output_type": "execute_result"
    }
   ],
   "source": [
    "locality_pivot_table = data.pivot_table(index = 'locality_name', values = 'square_meter_price', aggfunc=['count', 'mean'])\n",
    "locality_pivot_table.columns = ['count', 'mean']\n",
    "locality_pivot_table = locality_pivot_table.sort_values('count', ascending = False)\n",
    "top_locality_pivot_table = locality_pivot_table.head(10)\n",
    "top_locality_pivot_table"
   ]
  },
  {
   "cell_type": "markdown",
   "metadata": {},
   "source": [
    "Выделим населённые пункты с самой высокой и низкой стоимостью жилья. "
   ]
  },
  {
   "cell_type": "markdown",
   "metadata": {},
   "source": [
    "#### Самая высокая стоимость жилья."
   ]
  },
  {
   "cell_type": "markdown",
   "metadata": {},
   "source": [
    "Среди населенных пунктов из 10 с самой высокой стоимостью жилья выберем регион с самой дорогим квадратным метром."
   ]
  },
  {
   "cell_type": "code",
   "execution_count": 90,
   "metadata": {},
   "outputs": [
    {
     "data": {
      "text/html": [
       "<div>\n",
       "<style scoped>\n",
       "    .dataframe tbody tr th:only-of-type {\n",
       "        vertical-align: middle;\n",
       "    }\n",
       "\n",
       "    .dataframe tbody tr th {\n",
       "        vertical-align: top;\n",
       "    }\n",
       "\n",
       "    .dataframe thead th {\n",
       "        text-align: right;\n",
       "    }\n",
       "</style>\n",
       "<table border=\"1\" class=\"dataframe\">\n",
       "  <thead>\n",
       "    <tr style=\"text-align: right;\">\n",
       "      <th></th>\n",
       "      <th>count</th>\n",
       "      <th>mean</th>\n",
       "    </tr>\n",
       "    <tr>\n",
       "      <th>locality_name</th>\n",
       "      <th></th>\n",
       "      <th></th>\n",
       "    </tr>\n",
       "  </thead>\n",
       "  <tbody>\n",
       "    <tr>\n",
       "      <td>Санкт-Петербург</td>\n",
       "      <td>13963</td>\n",
       "      <td>113814.08454</td>\n",
       "    </tr>\n",
       "  </tbody>\n",
       "</table>\n",
       "</div>"
      ],
      "text/plain": [
       "                 count          mean\n",
       "locality_name                       \n",
       "Санкт-Петербург  13963  113814.08454"
      ]
     },
     "execution_count": 90,
     "metadata": {},
     "output_type": "execute_result"
    }
   ],
   "source": [
    "top_locality_pivot_table[top_locality_pivot_table['mean']==top_locality_pivot_table['mean'].max()]"
   ]
  },
  {
   "cell_type": "markdown",
   "metadata": {},
   "source": [
    "Как и ожидалось в регионе самая дорогая стоимость квадратного метра жилья в Санкт-Петербурге."
   ]
  },
  {
   "cell_type": "markdown",
   "metadata": {},
   "source": [
    "#### Самая низкая стоимость"
   ]
  },
  {
   "cell_type": "markdown",
   "metadata": {},
   "source": [
    "Выберем регион с самой дешевым квадратным метром."
   ]
  },
  {
   "cell_type": "code",
   "execution_count": 91,
   "metadata": {},
   "outputs": [
    {
     "data": {
      "text/html": [
       "<div>\n",
       "<style scoped>\n",
       "    .dataframe tbody tr th:only-of-type {\n",
       "        vertical-align: middle;\n",
       "    }\n",
       "\n",
       "    .dataframe tbody tr th {\n",
       "        vertical-align: top;\n",
       "    }\n",
       "\n",
       "    .dataframe thead th {\n",
       "        text-align: right;\n",
       "    }\n",
       "</style>\n",
       "<table border=\"1\" class=\"dataframe\">\n",
       "  <thead>\n",
       "    <tr style=\"text-align: right;\">\n",
       "      <th></th>\n",
       "      <th>count</th>\n",
       "      <th>mean</th>\n",
       "    </tr>\n",
       "    <tr>\n",
       "      <th>locality_name</th>\n",
       "      <th></th>\n",
       "      <th></th>\n",
       "    </tr>\n",
       "  </thead>\n",
       "  <tbody>\n",
       "    <tr>\n",
       "      <td>деревня Старополье</td>\n",
       "      <td>1</td>\n",
       "      <td>10367.170626</td>\n",
       "    </tr>\n",
       "  </tbody>\n",
       "</table>\n",
       "</div>"
      ],
      "text/plain": [
       "                    count          mean\n",
       "locality_name                          \n",
       "деревня Старополье      1  10367.170626"
      ]
     },
     "execution_count": 91,
     "metadata": {},
     "output_type": "execute_result"
    }
   ],
   "source": [
    "locality_pivot_table[locality_pivot_table['mean']==locality_pivot_table['mean'].min()]"
   ]
  },
  {
   "cell_type": "markdown",
   "metadata": {},
   "source": [
    "В деревне Старополье квадратный метр жилья в 10 раз дешевле, чем в Санкт-Петербурге."
   ]
  },
  {
   "cell_type": "markdown",
   "metadata": {},
   "source": [
    "**Вывод**\n",
    "Как и ожидалось максимальная цена на квартиры наблюдается в  Санкт-Петербурге.\n",
    "Минимальная стоиимость квадратного метра жилья была в деревне Старополье, и это понятно это маленький населенный пункт в котором живет менее 1 тыс человек."
   ]
  },
  {
   "cell_type": "markdown",
   "metadata": {},
   "source": [
    "### Как именно цена зависит от удалённости от центра. "
   ]
  },
  {
   "cell_type": "markdown",
   "metadata": {},
   "source": [
    "Создадим столбец в котором будет указана удаленность от центра города в км."
   ]
  },
  {
   "cell_type": "code",
   "execution_count": 92,
   "metadata": {},
   "outputs": [
    {
     "data": {
      "text/html": [
       "<div>\n",
       "<style scoped>\n",
       "    .dataframe tbody tr th:only-of-type {\n",
       "        vertical-align: middle;\n",
       "    }\n",
       "\n",
       "    .dataframe tbody tr th {\n",
       "        vertical-align: top;\n",
       "    }\n",
       "\n",
       "    .dataframe thead th {\n",
       "        text-align: right;\n",
       "    }\n",
       "</style>\n",
       "<table border=\"1\" class=\"dataframe\">\n",
       "  <thead>\n",
       "    <tr style=\"text-align: right;\">\n",
       "      <th></th>\n",
       "      <th>total_images</th>\n",
       "      <th>last_price</th>\n",
       "      <th>total_area</th>\n",
       "      <th>first_day_exposition</th>\n",
       "      <th>rooms</th>\n",
       "      <th>ceiling_height</th>\n",
       "      <th>floors_total</th>\n",
       "      <th>living_area</th>\n",
       "      <th>floor</th>\n",
       "      <th>is_apartment</th>\n",
       "      <th>...</th>\n",
       "      <th>days_exposition</th>\n",
       "      <th>sum_area</th>\n",
       "      <th>square_meter_price</th>\n",
       "      <th>weekday_exposition</th>\n",
       "      <th>month_exposition</th>\n",
       "      <th>year_exposition</th>\n",
       "      <th>floor_category</th>\n",
       "      <th>useful_area_ratio</th>\n",
       "      <th>kitchen_area_ratio</th>\n",
       "      <th>cityCenters_nearest_km</th>\n",
       "    </tr>\n",
       "  </thead>\n",
       "  <tbody>\n",
       "    <tr>\n",
       "      <td>0</td>\n",
       "      <td>20</td>\n",
       "      <td>13000000.0</td>\n",
       "      <td>108.00000</td>\n",
       "      <td>2019-03-07</td>\n",
       "      <td>3</td>\n",
       "      <td>2.699219</td>\n",
       "      <td>16</td>\n",
       "      <td>51.0</td>\n",
       "      <td>8</td>\n",
       "      <td>False</td>\n",
       "      <td>...</td>\n",
       "      <td>0</td>\n",
       "      <td>76.00000</td>\n",
       "      <td>120370.370370</td>\n",
       "      <td>3</td>\n",
       "      <td>3</td>\n",
       "      <td>2019</td>\n",
       "      <td>другой</td>\n",
       "      <td>0.472222</td>\n",
       "      <td>0.231445</td>\n",
       "      <td>16.028</td>\n",
       "    </tr>\n",
       "    <tr>\n",
       "      <td>1</td>\n",
       "      <td>7</td>\n",
       "      <td>3350000.0</td>\n",
       "      <td>40.40625</td>\n",
       "      <td>2018-12-04</td>\n",
       "      <td>1</td>\n",
       "      <td>2.650391</td>\n",
       "      <td>11</td>\n",
       "      <td>18.6</td>\n",
       "      <td>1</td>\n",
       "      <td>False</td>\n",
       "      <td>...</td>\n",
       "      <td>81</td>\n",
       "      <td>29.59375</td>\n",
       "      <td>82907.965971</td>\n",
       "      <td>1</td>\n",
       "      <td>12</td>\n",
       "      <td>2018</td>\n",
       "      <td>первый</td>\n",
       "      <td>0.460325</td>\n",
       "      <td>0.272217</td>\n",
       "      <td>18.603</td>\n",
       "    </tr>\n",
       "    <tr>\n",
       "      <td>2</td>\n",
       "      <td>10</td>\n",
       "      <td>5196000.0</td>\n",
       "      <td>56.00000</td>\n",
       "      <td>2015-08-20</td>\n",
       "      <td>2</td>\n",
       "      <td>2.650391</td>\n",
       "      <td>5</td>\n",
       "      <td>34.3</td>\n",
       "      <td>4</td>\n",
       "      <td>False</td>\n",
       "      <td>...</td>\n",
       "      <td>46</td>\n",
       "      <td>42.59375</td>\n",
       "      <td>92785.714286</td>\n",
       "      <td>3</td>\n",
       "      <td>8</td>\n",
       "      <td>2015</td>\n",
       "      <td>другой</td>\n",
       "      <td>0.612500</td>\n",
       "      <td>0.148193</td>\n",
       "      <td>13.933</td>\n",
       "    </tr>\n",
       "    <tr>\n",
       "      <td>4</td>\n",
       "      <td>2</td>\n",
       "      <td>10000000.0</td>\n",
       "      <td>100.00000</td>\n",
       "      <td>2018-06-19</td>\n",
       "      <td>2</td>\n",
       "      <td>3.029297</td>\n",
       "      <td>14</td>\n",
       "      <td>32.0</td>\n",
       "      <td>13</td>\n",
       "      <td>False</td>\n",
       "      <td>...</td>\n",
       "      <td>121</td>\n",
       "      <td>73.00000</td>\n",
       "      <td>100000.000000</td>\n",
       "      <td>1</td>\n",
       "      <td>6</td>\n",
       "      <td>2018</td>\n",
       "      <td>другой</td>\n",
       "      <td>0.320000</td>\n",
       "      <td>0.409912</td>\n",
       "      <td>8.098</td>\n",
       "    </tr>\n",
       "    <tr>\n",
       "      <td>5</td>\n",
       "      <td>10</td>\n",
       "      <td>2890000.0</td>\n",
       "      <td>30.40625</td>\n",
       "      <td>2018-09-10</td>\n",
       "      <td>1</td>\n",
       "      <td>2.650391</td>\n",
       "      <td>12</td>\n",
       "      <td>14.4</td>\n",
       "      <td>5</td>\n",
       "      <td>False</td>\n",
       "      <td>...</td>\n",
       "      <td>55</td>\n",
       "      <td>23.50000</td>\n",
       "      <td>95046.248715</td>\n",
       "      <td>0</td>\n",
       "      <td>9</td>\n",
       "      <td>2018</td>\n",
       "      <td>другой</td>\n",
       "      <td>0.473587</td>\n",
       "      <td>0.299316</td>\n",
       "      <td>NaN</td>\n",
       "    </tr>\n",
       "  </tbody>\n",
       "</table>\n",
       "<p>5 rows × 31 columns</p>\n",
       "</div>"
      ],
      "text/plain": [
       "   total_images  last_price  total_area first_day_exposition  rooms  \\\n",
       "0            20  13000000.0   108.00000           2019-03-07      3   \n",
       "1             7   3350000.0    40.40625           2018-12-04      1   \n",
       "2            10   5196000.0    56.00000           2015-08-20      2   \n",
       "4             2  10000000.0   100.00000           2018-06-19      2   \n",
       "5            10   2890000.0    30.40625           2018-09-10      1   \n",
       "\n",
       "   ceiling_height  floors_total  living_area  floor  is_apartment  ...  \\\n",
       "0        2.699219            16         51.0      8         False  ...   \n",
       "1        2.650391            11         18.6      1         False  ...   \n",
       "2        2.650391             5         34.3      4         False  ...   \n",
       "4        3.029297            14         32.0     13         False  ...   \n",
       "5        2.650391            12         14.4      5         False  ...   \n",
       "\n",
       "   days_exposition  sum_area  square_meter_price  weekday_exposition  \\\n",
       "0                0  76.00000       120370.370370                   3   \n",
       "1               81  29.59375        82907.965971                   1   \n",
       "2               46  42.59375        92785.714286                   3   \n",
       "4              121  73.00000       100000.000000                   1   \n",
       "5               55  23.50000        95046.248715                   0   \n",
       "\n",
       "  month_exposition  year_exposition  floor_category  useful_area_ratio  \\\n",
       "0                3             2019          другой           0.472222   \n",
       "1               12             2018          первый           0.460325   \n",
       "2                8             2015          другой           0.612500   \n",
       "4                6             2018          другой           0.320000   \n",
       "5                9             2018          другой           0.473587   \n",
       "\n",
       "   kitchen_area_ratio  cityCenters_nearest_km  \n",
       "0            0.231445                  16.028  \n",
       "1            0.272217                  18.603  \n",
       "2            0.148193                  13.933  \n",
       "4            0.409912                   8.098  \n",
       "5            0.299316                     NaN  \n",
       "\n",
       "[5 rows x 31 columns]"
      ]
     },
     "execution_count": 92,
     "metadata": {},
     "output_type": "execute_result"
    }
   ],
   "source": [
    "data['cityCenters_nearest_km'] = data['cityCenters_nearest']/1000\n",
    "data.head()"
   ]
  },
  {
   "cell_type": "markdown",
   "metadata": {},
   "source": [
    "Заменим пропуски в расстоянии до центра (cityCenters_nearest_km') на 999999"
   ]
  },
  {
   "cell_type": "code",
   "execution_count": 93,
   "metadata": {},
   "outputs": [],
   "source": [
    "data['cityCenters_nearest_km'] = data['cityCenters_nearest_km'].fillna(999999)"
   ]
  },
  {
   "cell_type": "markdown",
   "metadata": {},
   "source": [
    "Заменим тип данных в столбце"
   ]
  },
  {
   "cell_type": "code",
   "execution_count": 94,
   "metadata": {},
   "outputs": [],
   "source": [
    "data['cityCenters_nearest_km'] = data['cityCenters_nearest_km'].astype('int')"
   ]
  },
  {
   "cell_type": "markdown",
   "metadata": {},
   "source": [
    "Создадим сводную таблицу и построим график."
   ]
  },
  {
   "cell_type": "code",
   "execution_count": 95,
   "metadata": {},
   "outputs": [
    {
     "data": {
      "text/html": [
       "<div>\n",
       "<style scoped>\n",
       "    .dataframe tbody tr th:only-of-type {\n",
       "        vertical-align: middle;\n",
       "    }\n",
       "\n",
       "    .dataframe tbody tr th {\n",
       "        vertical-align: top;\n",
       "    }\n",
       "\n",
       "    .dataframe thead th {\n",
       "        text-align: right;\n",
       "    }\n",
       "</style>\n",
       "<table border=\"1\" class=\"dataframe\">\n",
       "  <thead>\n",
       "    <tr style=\"text-align: right;\">\n",
       "      <th></th>\n",
       "      <th>square_meter_price</th>\n",
       "    </tr>\n",
       "    <tr>\n",
       "      <th>cityCenters_nearest_km</th>\n",
       "      <th></th>\n",
       "    </tr>\n",
       "  </thead>\n",
       "  <tbody>\n",
       "    <tr>\n",
       "      <td>0</td>\n",
       "      <td>186669.476455</td>\n",
       "    </tr>\n",
       "    <tr>\n",
       "      <td>1</td>\n",
       "      <td>160767.228250</td>\n",
       "    </tr>\n",
       "    <tr>\n",
       "      <td>2</td>\n",
       "      <td>149307.395908</td>\n",
       "    </tr>\n",
       "    <tr>\n",
       "      <td>3</td>\n",
       "      <td>124270.562539</td>\n",
       "    </tr>\n",
       "    <tr>\n",
       "      <td>4</td>\n",
       "      <td>134531.667468</td>\n",
       "    </tr>\n",
       "    <tr>\n",
       "      <td>5</td>\n",
       "      <td>145469.581684</td>\n",
       "    </tr>\n",
       "    <tr>\n",
       "      <td>6</td>\n",
       "      <td>149824.843346</td>\n",
       "    </tr>\n",
       "    <tr>\n",
       "      <td>7</td>\n",
       "      <td>142635.253437</td>\n",
       "    </tr>\n",
       "    <tr>\n",
       "      <td>8</td>\n",
       "      <td>119043.537140</td>\n",
       "    </tr>\n",
       "    <tr>\n",
       "      <td>9</td>\n",
       "      <td>109396.518084</td>\n",
       "    </tr>\n",
       "    <tr>\n",
       "      <td>10</td>\n",
       "      <td>110715.568740</td>\n",
       "    </tr>\n",
       "    <tr>\n",
       "      <td>11</td>\n",
       "      <td>105984.342436</td>\n",
       "    </tr>\n",
       "    <tr>\n",
       "      <td>12</td>\n",
       "      <td>107862.527172</td>\n",
       "    </tr>\n",
       "    <tr>\n",
       "      <td>13</td>\n",
       "      <td>106707.662460</td>\n",
       "    </tr>\n",
       "    <tr>\n",
       "      <td>14</td>\n",
       "      <td>104251.668637</td>\n",
       "    </tr>\n",
       "    <tr>\n",
       "      <td>15</td>\n",
       "      <td>101923.313217</td>\n",
       "    </tr>\n",
       "    <tr>\n",
       "      <td>16</td>\n",
       "      <td>99422.759294</td>\n",
       "    </tr>\n",
       "    <tr>\n",
       "      <td>17</td>\n",
       "      <td>94601.743325</td>\n",
       "    </tr>\n",
       "    <tr>\n",
       "      <td>18</td>\n",
       "      <td>95294.788989</td>\n",
       "    </tr>\n",
       "    <tr>\n",
       "      <td>19</td>\n",
       "      <td>95086.992436</td>\n",
       "    </tr>\n",
       "    <tr>\n",
       "      <td>20</td>\n",
       "      <td>103488.535178</td>\n",
       "    </tr>\n",
       "    <tr>\n",
       "      <td>21</td>\n",
       "      <td>89669.522209</td>\n",
       "    </tr>\n",
       "    <tr>\n",
       "      <td>22</td>\n",
       "      <td>88506.512727</td>\n",
       "    </tr>\n",
       "    <tr>\n",
       "      <td>23</td>\n",
       "      <td>93556.663338</td>\n",
       "    </tr>\n",
       "    <tr>\n",
       "      <td>24</td>\n",
       "      <td>81564.551284</td>\n",
       "    </tr>\n",
       "    <tr>\n",
       "      <td>25</td>\n",
       "      <td>87021.200195</td>\n",
       "    </tr>\n",
       "    <tr>\n",
       "      <td>26</td>\n",
       "      <td>75171.911041</td>\n",
       "    </tr>\n",
       "    <tr>\n",
       "      <td>27</td>\n",
       "      <td>132115.709459</td>\n",
       "    </tr>\n",
       "    <tr>\n",
       "      <td>28</td>\n",
       "      <td>81842.464786</td>\n",
       "    </tr>\n",
       "    <tr>\n",
       "      <td>29</td>\n",
       "      <td>65222.982604</td>\n",
       "    </tr>\n",
       "  </tbody>\n",
       "</table>\n",
       "</div>"
      ],
      "text/plain": [
       "                        square_meter_price\n",
       "cityCenters_nearest_km                    \n",
       "0                            186669.476455\n",
       "1                            160767.228250\n",
       "2                            149307.395908\n",
       "3                            124270.562539\n",
       "4                            134531.667468\n",
       "5                            145469.581684\n",
       "6                            149824.843346\n",
       "7                            142635.253437\n",
       "8                            119043.537140\n",
       "9                            109396.518084\n",
       "10                           110715.568740\n",
       "11                           105984.342436\n",
       "12                           107862.527172\n",
       "13                           106707.662460\n",
       "14                           104251.668637\n",
       "15                           101923.313217\n",
       "16                            99422.759294\n",
       "17                            94601.743325\n",
       "18                            95294.788989\n",
       "19                            95086.992436\n",
       "20                           103488.535178\n",
       "21                            89669.522209\n",
       "22                            88506.512727\n",
       "23                            93556.663338\n",
       "24                            81564.551284\n",
       "25                            87021.200195\n",
       "26                            75171.911041\n",
       "27                           132115.709459\n",
       "28                            81842.464786\n",
       "29                            65222.982604"
      ]
     },
     "execution_count": 95,
     "metadata": {},
     "output_type": "execute_result"
    },
    {
     "data": {
      "image/png": "[encoded data removed]",
      "text/plain": [
       "<Figure size 720x504 with 1 Axes>"
      ]
     },
     "metadata": {
      "needs_background": "light"
     },
     "output_type": "display_data"
    }
   ],
   "source": [
    "pivot_table_km = data.query('locality_name == \"Санкт-Петербург\" and cityCenters_nearest_km !=999999').pivot_table(index = 'cityCenters_nearest_km', values = 'square_meter_price', aggfunc = 'mean')\n",
    "pivot_table_km.plot(grid=True, figsize = (10,7))\n",
    "pivot_table_km"
   ]
  },
  {
   "cell_type": "markdown",
   "metadata": {},
   "source": [
    "Из графика мы видим резкое снижение цены за квадратный метр на расстоянии до центра в 3 км. Определи границу центра Санкт-Петербурга в 3км."
   ]
  },
  {
   "cell_type": "markdown",
   "metadata": {},
   "source": [
    "### Выделим сегмент квартир в центре и проанализируем эту территорию"
   ]
  },
  {
   "cell_type": "markdown",
   "metadata": {},
   "source": [
    "Выделим квартиры в центре, беря за радиус 3 км"
   ]
  },
  {
   "cell_type": "markdown",
   "metadata": {},
   "source": [
    "<div class=\"alert alert-block alert-success\">\n",
    "<b>Success:</b> согалсен с выбранным радиусом!"
   ]
  },
  {
   "cell_type": "code",
   "execution_count": 96,
   "metadata": {},
   "outputs": [],
   "source": [
    "center_spb_data = data.query('cityCenters_nearest_km <= 3 and locality_name == \"Санкт-Петербург\"')"
   ]
  },
  {
   "cell_type": "markdown",
   "metadata": {},
   "source": [
    "#### Зависимость стоимости квадратного метра от количества комнат."
   ]
  },
  {
   "cell_type": "markdown",
   "metadata": {},
   "source": [
    "Создадим сводную таблицу "
   ]
  },
  {
   "cell_type": "code",
   "execution_count": 97,
   "metadata": {},
   "outputs": [],
   "source": [
    "center_spb_rooms = center_spb_data.pivot_table(index = 'rooms', values = 'square_meter_price', aggfunc = ['mean', 'count', 'median'])"
   ]
  },
  {
   "cell_type": "code",
   "execution_count": 98,
   "metadata": {},
   "outputs": [
    {
     "data": {
      "text/plain": [
       "-0.010042062654029078"
      ]
     },
     "execution_count": 98,
     "metadata": {},
     "output_type": "execute_result"
    },
    {
     "data": {
      "image/png": "[encoded data removed]",
      "text/plain": [
       "<Figure size 432x288 with 1 Axes>"
      ]
     },
     "metadata": {
      "needs_background": "light"
     },
     "output_type": "display_data"
    }
   ],
   "source": [
    "center_spb_rooms.columns = ['mean', 'count', 'median']\n",
    "center_spb_rooms.query('count > 50').plot(y = 'median')\n",
    "\n",
    "center_spb_rooms.query('count > 50').sort_values('median', ascending = False)\n",
    "\n",
    "center_spb_data['rooms'].corr(center_spb_data['square_meter_price'])"
   ]
  },
  {
   "cell_type": "markdown",
   "metadata": {},
   "source": [
    "Корреляция между стоимостью квадратного метра и количеством комнат в квртирах в центре Санкт-Петербурга очень слабая, коэффициент корреляции близок к 0.\n",
    "Но исходя из графика цена/число комнат в центре Санкт-Петербурга чем меньше комнат тем дороже стоимость метра квадратного, в отличие от всей выборки, где стоимость уменьшается в зависимости от близости кол-ва комнат к 3."
   ]
  },
  {
   "cell_type": "markdown",
   "metadata": {},
   "source": [
    "#### Зависимость стоимости квадратного метра от этажа."
   ]
  },
  {
   "cell_type": "markdown",
   "metadata": {},
   "source": [
    "Создадим сводную таблицу"
   ]
  },
  {
   "cell_type": "code",
   "execution_count": 99,
   "metadata": {},
   "outputs": [],
   "source": [
    "center_spb_floor_category = center_spb_data.pivot_table(index = 'floor_category', values = 'square_meter_price', aggfunc = ['mean', 'median'])"
   ]
  },
  {
   "cell_type": "code",
   "execution_count": 100,
   "metadata": {},
   "outputs": [
    {
     "data": {
      "text/html": [
       "<div>\n",
       "<style scoped>\n",
       "    .dataframe tbody tr th:only-of-type {\n",
       "        vertical-align: middle;\n",
       "    }\n",
       "\n",
       "    .dataframe tbody tr th {\n",
       "        vertical-align: top;\n",
       "    }\n",
       "\n",
       "    .dataframe thead th {\n",
       "        text-align: right;\n",
       "    }\n",
       "</style>\n",
       "<table border=\"1\" class=\"dataframe\">\n",
       "  <thead>\n",
       "    <tr style=\"text-align: right;\">\n",
       "      <th></th>\n",
       "      <th>средняя</th>\n",
       "      <th>медианная</th>\n",
       "    </tr>\n",
       "    <tr>\n",
       "      <th>floor_category</th>\n",
       "      <th></th>\n",
       "      <th></th>\n",
       "    </tr>\n",
       "  </thead>\n",
       "  <tbody>\n",
       "    <tr>\n",
       "      <td>другой</td>\n",
       "      <td>149370.816239</td>\n",
       "      <td>117958.733974</td>\n",
       "    </tr>\n",
       "    <tr>\n",
       "      <td>первый</td>\n",
       "      <td>118887.784283</td>\n",
       "      <td>106913.311316</td>\n",
       "    </tr>\n",
       "    <tr>\n",
       "      <td>последний</td>\n",
       "      <td>140049.223230</td>\n",
       "      <td>113333.333333</td>\n",
       "    </tr>\n",
       "  </tbody>\n",
       "</table>\n",
       "</div>"
      ],
      "text/plain": [
       "                      средняя      медианная\n",
       "floor_category                              \n",
       "другой          149370.816239  117958.733974\n",
       "первый          118887.784283  106913.311316\n",
       "последний       140049.223230  113333.333333"
      ]
     },
     "execution_count": 100,
     "metadata": {},
     "output_type": "execute_result"
    },
    {
     "data": {
      "image/png": "[encoded data removed]",
      "text/plain": [
       "<Figure size 432x288 with 1 Axes>"
      ]
     },
     "metadata": {
      "needs_background": "light"
     },
     "output_type": "display_data"
    }
   ],
   "source": [
    "center_spb_floor_category.columns = ['средняя', 'медианная']\n",
    "center_spb_floor_category.plot(kind='bar', rot=0)\n",
    "center_spb_floor_category\n"
   ]
  },
  {
   "cell_type": "markdown",
   "metadata": {},
   "source": [
    "Самая низкая стоимость квадратного метра жилья в квартирах на первом этаже."
   ]
  },
  {
   "cell_type": "markdown",
   "metadata": {},
   "source": [
    "#### Зависимость стоимости квадратного метра от удаленности от центра."
   ]
  },
  {
   "cell_type": "markdown",
   "metadata": {},
   "source": [
    "Построим график зависимости стоимости квадратного метра от удаленности от центра."
   ]
  },
  {
   "cell_type": "code",
   "execution_count": 101,
   "metadata": {},
   "outputs": [
    {
     "data": {
      "text/plain": [
       "<matplotlib.axes._subplots.AxesSubplot at 0x7f6e848970d0>"
      ]
     },
     "execution_count": 101,
     "metadata": {},
     "output_type": "execute_result"
    },
    {
     "data": {
      "image/png": "[encoded data removed]",
      "text/plain": [
       "<Figure size 432x288 with 1 Axes>"
      ]
     },
     "metadata": {
      "needs_background": "light"
     },
     "output_type": "display_data"
    }
   ],
   "source": [
    "center_spb_data.plot(kind = 'scatter', y = 'square_meter_price', x = 'cityCenters_nearest', alpha = 0.3)"
   ]
  },
  {
   "cell_type": "markdown",
   "metadata": {},
   "source": [
    "Посмотрим коэффициент кореляции  стоимости квадратного метра и удаленности от центра."
   ]
  },
  {
   "cell_type": "code",
   "execution_count": 102,
   "metadata": {},
   "outputs": [
    {
     "data": {
      "text/plain": [
       "-0.1936830960403651"
      ]
     },
     "execution_count": 102,
     "metadata": {},
     "output_type": "execute_result"
    }
   ],
   "source": [
    "center_spb_data['cityCenters_nearest'].corr(center_spb_data['square_meter_price'])"
   ]
  },
  {
   "cell_type": "markdown",
   "metadata": {},
   "source": [
    "Согласно коэффициенту корреляции есть слабая отрицательная корреляция между стоимостью квадратного метра и удаленности от центра, чем дальше от центра тем дешевле стоимость квартир. Но на графики этой зависимости не прослеживается."
   ]
  },
  {
   "cell_type": "markdown",
   "metadata": {},
   "source": [
    "#### Зависимость стоимости квадратного метра от дня недели размещения объявления."
   ]
  },
  {
   "cell_type": "code",
   "execution_count": 103,
   "metadata": {},
   "outputs": [
    {
     "data": {
      "text/html": [
       "<div>\n",
       "<style scoped>\n",
       "    .dataframe tbody tr th:only-of-type {\n",
       "        vertical-align: middle;\n",
       "    }\n",
       "\n",
       "    .dataframe tbody tr th {\n",
       "        vertical-align: top;\n",
       "    }\n",
       "\n",
       "    .dataframe thead th {\n",
       "        text-align: right;\n",
       "    }\n",
       "</style>\n",
       "<table border=\"1\" class=\"dataframe\">\n",
       "  <thead>\n",
       "    <tr style=\"text-align: right;\">\n",
       "      <th></th>\n",
       "      <th>mean</th>\n",
       "      <th>count</th>\n",
       "      <th>median</th>\n",
       "    </tr>\n",
       "    <tr>\n",
       "      <th>weekday_exposition</th>\n",
       "      <th></th>\n",
       "      <th></th>\n",
       "      <th></th>\n",
       "    </tr>\n",
       "  </thead>\n",
       "  <tbody>\n",
       "    <tr>\n",
       "      <td>0</td>\n",
       "      <td>142676.608776</td>\n",
       "      <td>154</td>\n",
       "      <td>121357.541174</td>\n",
       "    </tr>\n",
       "    <tr>\n",
       "      <td>5</td>\n",
       "      <td>141074.067782</td>\n",
       "      <td>67</td>\n",
       "      <td>120000.000000</td>\n",
       "    </tr>\n",
       "    <tr>\n",
       "      <td>4</td>\n",
       "      <td>132893.312239</td>\n",
       "      <td>186</td>\n",
       "      <td>117384.991928</td>\n",
       "    </tr>\n",
       "    <tr>\n",
       "      <td>1</td>\n",
       "      <td>146472.424546</td>\n",
       "      <td>166</td>\n",
       "      <td>113951.423786</td>\n",
       "    </tr>\n",
       "    <tr>\n",
       "      <td>2</td>\n",
       "      <td>143862.507620</td>\n",
       "      <td>178</td>\n",
       "      <td>112838.843698</td>\n",
       "    </tr>\n",
       "    <tr>\n",
       "      <td>3</td>\n",
       "      <td>148574.014203</td>\n",
       "      <td>233</td>\n",
       "      <td>110638.297872</td>\n",
       "    </tr>\n",
       "    <tr>\n",
       "      <td>6</td>\n",
       "      <td>142538.076944</td>\n",
       "      <td>61</td>\n",
       "      <td>105468.750000</td>\n",
       "    </tr>\n",
       "  </tbody>\n",
       "</table>\n",
       "</div>"
      ],
      "text/plain": [
       "                             mean  count         median\n",
       "weekday_exposition                                     \n",
       "0                   142676.608776    154  121357.541174\n",
       "5                   141074.067782     67  120000.000000\n",
       "4                   132893.312239    186  117384.991928\n",
       "1                   146472.424546    166  113951.423786\n",
       "2                   143862.507620    178  112838.843698\n",
       "3                   148574.014203    233  110638.297872\n",
       "6                   142538.076944     61  105468.750000"
      ]
     },
     "execution_count": 103,
     "metadata": {},
     "output_type": "execute_result"
    },
    {
     "data": {
      "image/png": "[encoded data removed]",
      "text/plain": [
       "<Figure size 432x288 with 1 Axes>"
      ]
     },
     "metadata": {
      "needs_background": "light"
     },
     "output_type": "display_data"
    }
   ],
   "source": [
    "center_spb_weekday_exposition = center_spb_data.pivot_table(index = 'weekday_exposition', values = 'square_meter_price', aggfunc = ['mean', 'count', 'median'])\n",
    "center_spb_weekday_exposition.columns = ['mean', 'count', 'median']\n",
    "center_spb_weekday_exposition.plot(y = 'median')\n",
    "\n",
    "center_spb_weekday_exposition.sort_values('median', ascending = False)"
   ]
  },
  {
   "cell_type": "markdown",
   "metadata": {},
   "source": [
    "В отличие от общей выборки максимальные цены за квадратный метр жилья в понедельник и в субботу, минимальные цены в четверг и воскресенье."
   ]
  },
  {
   "cell_type": "markdown",
   "metadata": {},
   "source": [
    "#### Зависимость стоимости квадратного метра от месяца размещения объявления."
   ]
  },
  {
   "cell_type": "code",
   "execution_count": 104,
   "metadata": {},
   "outputs": [
    {
     "data": {
      "text/html": [
       "<div>\n",
       "<style scoped>\n",
       "    .dataframe tbody tr th:only-of-type {\n",
       "        vertical-align: middle;\n",
       "    }\n",
       "\n",
       "    .dataframe tbody tr th {\n",
       "        vertical-align: top;\n",
       "    }\n",
       "\n",
       "    .dataframe thead th {\n",
       "        text-align: right;\n",
       "    }\n",
       "</style>\n",
       "<table border=\"1\" class=\"dataframe\">\n",
       "  <thead>\n",
       "    <tr style=\"text-align: right;\">\n",
       "      <th></th>\n",
       "      <th>mean</th>\n",
       "      <th>count</th>\n",
       "      <th>median</th>\n",
       "    </tr>\n",
       "    <tr>\n",
       "      <th>month_exposition</th>\n",
       "      <th></th>\n",
       "      <th></th>\n",
       "      <th></th>\n",
       "    </tr>\n",
       "  </thead>\n",
       "  <tbody>\n",
       "    <tr>\n",
       "      <td>10</td>\n",
       "      <td>143201.812667</td>\n",
       "      <td>89</td>\n",
       "      <td>122093.023256</td>\n",
       "    </tr>\n",
       "    <tr>\n",
       "      <td>12</td>\n",
       "      <td>168205.053234</td>\n",
       "      <td>74</td>\n",
       "      <td>121971.925134</td>\n",
       "    </tr>\n",
       "    <tr>\n",
       "      <td>4</td>\n",
       "      <td>159661.459285</td>\n",
       "      <td>103</td>\n",
       "      <td>117882.689557</td>\n",
       "    </tr>\n",
       "    <tr>\n",
       "      <td>1</td>\n",
       "      <td>144723.135242</td>\n",
       "      <td>69</td>\n",
       "      <td>117244.897959</td>\n",
       "    </tr>\n",
       "    <tr>\n",
       "      <td>3</td>\n",
       "      <td>149005.929568</td>\n",
       "      <td>103</td>\n",
       "      <td>116796.739684</td>\n",
       "    </tr>\n",
       "    <tr>\n",
       "      <td>9</td>\n",
       "      <td>138651.588710</td>\n",
       "      <td>92</td>\n",
       "      <td>115470.494418</td>\n",
       "    </tr>\n",
       "    <tr>\n",
       "      <td>2</td>\n",
       "      <td>144251.041800</td>\n",
       "      <td>119</td>\n",
       "      <td>114000.000000</td>\n",
       "    </tr>\n",
       "    <tr>\n",
       "      <td>11</td>\n",
       "      <td>132051.446953</td>\n",
       "      <td>115</td>\n",
       "      <td>112568.306011</td>\n",
       "    </tr>\n",
       "    <tr>\n",
       "      <td>5</td>\n",
       "      <td>124955.427991</td>\n",
       "      <td>53</td>\n",
       "      <td>111111.111111</td>\n",
       "    </tr>\n",
       "    <tr>\n",
       "      <td>7</td>\n",
       "      <td>132557.356397</td>\n",
       "      <td>80</td>\n",
       "      <td>110419.534475</td>\n",
       "    </tr>\n",
       "    <tr>\n",
       "      <td>8</td>\n",
       "      <td>143062.893943</td>\n",
       "      <td>70</td>\n",
       "      <td>110176.765403</td>\n",
       "    </tr>\n",
       "    <tr>\n",
       "      <td>6</td>\n",
       "      <td>128931.990339</td>\n",
       "      <td>78</td>\n",
       "      <td>109687.500000</td>\n",
       "    </tr>\n",
       "  </tbody>\n",
       "</table>\n",
       "</div>"
      ],
      "text/plain": [
       "                           mean  count         median\n",
       "month_exposition                                     \n",
       "10                143201.812667     89  122093.023256\n",
       "12                168205.053234     74  121971.925134\n",
       "4                 159661.459285    103  117882.689557\n",
       "1                 144723.135242     69  117244.897959\n",
       "3                 149005.929568    103  116796.739684\n",
       "9                 138651.588710     92  115470.494418\n",
       "2                 144251.041800    119  114000.000000\n",
       "11                132051.446953    115  112568.306011\n",
       "5                 124955.427991     53  111111.111111\n",
       "7                 132557.356397     80  110419.534475\n",
       "8                 143062.893943     70  110176.765403\n",
       "6                 128931.990339     78  109687.500000"
      ]
     },
     "execution_count": 104,
     "metadata": {},
     "output_type": "execute_result"
    },
    {
     "data": {
      "image/png": "[encoded data removed]",
      "text/plain": [
       "<Figure size 432x288 with 1 Axes>"
      ]
     },
     "metadata": {
      "needs_background": "light"
     },
     "output_type": "display_data"
    }
   ],
   "source": [
    "center_spb_month_exposition = center_spb_data.pivot_table(index = 'month_exposition', values = 'square_meter_price', aggfunc = ['mean', 'count', 'median'])\n",
    "center_spb_month_exposition.columns = ['mean', 'count', 'median']\n",
    "center_spb_month_exposition.plot(y = 'median')\n",
    "\n",
    "center_spb_month_exposition.sort_values('median', ascending = False)"
   ]
  },
  {
   "cell_type": "markdown",
   "metadata": {},
   "source": [
    "Cамая высокая стоимость метра в сентябре и январе. Самая низкая стоимость в июне и августе."
   ]
  },
  {
   "cell_type": "markdown",
   "metadata": {},
   "source": [
    "#### Зависимость стоимости квадратного метра от года размещения объявления."
   ]
  },
  {
   "cell_type": "code",
   "execution_count": 106,
   "metadata": {},
   "outputs": [
    {
     "data": {
      "text/html": [
       "<div>\n",
       "<style scoped>\n",
       "    .dataframe tbody tr th:only-of-type {\n",
       "        vertical-align: middle;\n",
       "    }\n",
       "\n",
       "    .dataframe tbody tr th {\n",
       "        vertical-align: top;\n",
       "    }\n",
       "\n",
       "    .dataframe thead th {\n",
       "        text-align: right;\n",
       "    }\n",
       "</style>\n",
       "<table border=\"1\" class=\"dataframe\">\n",
       "  <thead>\n",
       "    <tr style=\"text-align: right;\">\n",
       "      <th></th>\n",
       "      <th>mean</th>\n",
       "      <th>count</th>\n",
       "      <th>median</th>\n",
       "    </tr>\n",
       "    <tr>\n",
       "      <th>year_exposition</th>\n",
       "      <th></th>\n",
       "      <th></th>\n",
       "      <th></th>\n",
       "    </tr>\n",
       "  </thead>\n",
       "  <tbody>\n",
       "    <tr>\n",
       "      <td>2019</td>\n",
       "      <td>164108.386006</td>\n",
       "      <td>107</td>\n",
       "      <td>131147.540984</td>\n",
       "    </tr>\n",
       "    <tr>\n",
       "      <td>2018</td>\n",
       "      <td>137924.679100</td>\n",
       "      <td>302</td>\n",
       "      <td>116384.943182</td>\n",
       "    </tr>\n",
       "    <tr>\n",
       "      <td>2017</td>\n",
       "      <td>138187.731546</td>\n",
       "      <td>387</td>\n",
       "      <td>114503.816794</td>\n",
       "    </tr>\n",
       "    <tr>\n",
       "      <td>2015</td>\n",
       "      <td>153849.973082</td>\n",
       "      <td>105</td>\n",
       "      <td>109574.468085</td>\n",
       "    </tr>\n",
       "    <tr>\n",
       "      <td>2016</td>\n",
       "      <td>135067.837669</td>\n",
       "      <td>136</td>\n",
       "      <td>108383.534137</td>\n",
       "    </tr>\n",
       "  </tbody>\n",
       "</table>\n",
       "</div>"
      ],
      "text/plain": [
       "                          mean  count         median\n",
       "year_exposition                                     \n",
       "2019             164108.386006    107  131147.540984\n",
       "2018             137924.679100    302  116384.943182\n",
       "2017             138187.731546    387  114503.816794\n",
       "2015             153849.973082    105  109574.468085\n",
       "2016             135067.837669    136  108383.534137"
      ]
     },
     "execution_count": 106,
     "metadata": {},
     "output_type": "execute_result"
    },
    {
     "data": {
      "image/png": "[encoded data removed]",
      "text/plain": [
       "<Figure size 432x288 with 1 Axes>"
      ]
     },
     "metadata": {
      "needs_background": "light"
     },
     "output_type": "display_data"
    }
   ],
   "source": [
    "center_spb_year_exposition = center_spb_data.pivot_table(index = 'year_exposition', values = 'square_meter_price', aggfunc = ['mean', 'count', 'median'])\n",
    "center_spb_year_exposition.columns = ['mean', 'count', 'median']\n",
    "center_spb_year_exposition.query('count > 50').plot(y = 'median')\n",
    "\n",
    "center_spb_year_exposition.query('count > 50').sort_values('median', ascending = False)"
   ]
  },
  {
   "cell_type": "markdown",
   "metadata": {},
   "source": [
    "Цены за квадратный метр жилья в центре Санкт-Петербурга росли на с 2015 по 2019 год в отличие от общей выборки."
   ]
  },
  {
   "cell_type": "markdown",
   "metadata": {},
   "source": [
    "**Вывод:**\n",
    "Выделили границы центра города (3 км от самого центра).\n",
    "Некоторые закономерности характерные для общей выборки сохраняются и для центра такого мегаполиса как Санкт-Петербург. Так квартиры на первом этаже дешевле квартир на последнем или других этажах, в зависимости от месяца квартиры в центре Санкт-Петербурга так же дешевле в мае-июне и дороже в апреле-августе.\n",
    "Но есть и отличия - в зависимости от дня недели  максимальные цены за квадратный метр жилья в понедельник и в субботу, минимальные цены в четверг и субботу. И так же нельзя не отметить, что цены на жилье в центре города только растут со временем6 это связано прежде всего с тем, что спрос на этот сегмент квартир превышает предложения, в центре Санкт-Петербурга практически не ведется застройка и новых квартир там не прибавляется."
   ]
  },
  {
   "cell_type": "markdown",
   "metadata": {},
   "source": [
    "## Общий вывод"
   ]
  },
  {
   "cell_type": "markdown",
   "metadata": {},
   "source": [
    "Мы обработали полученный архив данных - обработали пропущенные значения там, где это необходимо, заменили типы данных на необходимые для удобной работы. Посчитали и добавили в таблицу цену квадратного метра жилья, вывели из даты дни недели, месяцы и года размещения объявлений, добавили категории по этажам квартир. Изучили следующие параметры на наличие выбивающихся значений - площадь, цена, число комнат, высота потолков. Были определены аномалии в данных параметрах. Изучая время продажи квартир мы выявили, что большое количество объявлений было автоматически снято с Яндекс Недвижимость и дату из снятия нельзя считать датой продажи квартиры, поэтому, изучая средние сроки продажи квартир - данные значения не учитывались. Мы выявили при помощи диаграммы размаха, что нормальные значения продажи квартир варьируются от 1 до 600 дней. Мы выявили, что на стоимость квадратного метра квартиры больше всего влияют количество комнат, этаж квартиры, близость к центру. Незначительно на стоимость квадратного метра влияют день, месяц, год размещения и общая площадь. Нужно учитывать, что в 2016-2017 годах стоимость квартир в среднем по рынку была ниже на 10-20 %, тогда как в центре Санкт-Петербурга данной зависимости от года не обнаружено. В данном случае имело место постоянное удорожание стоимости, начиная с 2015 года по текущий момент. Судя, по резкости изменения цен в зависимости от удаления от центра СПБ, мы выявили центр города в радиусе 3 километров."
   ]
  },
  {
   "cell_type": "code",
   "execution_count": null,
   "metadata": {},
   "outputs": [],
   "source": []
  }
 ],
 "metadata": {
  "ExecuteTimeLog": [
   {
    "duration": 648,
    "start_time": "2022-01-04T06:58:00.899Z"
   },
   {
    "duration": 1613,
    "start_time": "2022-01-04T07:01:10.187Z"
   },
   {
    "duration": 87,
    "start_time": "2022-01-04T07:01:30.144Z"
   },
   {
    "duration": 12,
    "start_time": "2022-01-04T08:17:59.407Z"
   },
   {
    "duration": 583,
    "start_time": "2022-01-04T11:44:18.385Z"
   },
   {
    "duration": 85,
    "start_time": "2022-01-04T11:44:21.688Z"
   },
   {
    "duration": 7,
    "start_time": "2022-01-04T11:49:55.439Z"
   },
   {
    "duration": 7,
    "start_time": "2022-01-04T12:27:22.854Z"
   },
   {
    "duration": 258,
    "start_time": "2022-01-04T12:34:02.581Z"
   },
   {
    "duration": 4,
    "start_time": "2022-01-04T12:35:48.745Z"
   },
   {
    "duration": 5,
    "start_time": "2022-01-04T12:38:18.734Z"
   },
   {
    "duration": 4,
    "start_time": "2022-01-04T12:38:33.235Z"
   },
   {
    "duration": 5,
    "start_time": "2022-01-04T12:38:41.756Z"
   },
   {
    "duration": 4,
    "start_time": "2022-01-04T12:42:06.621Z"
   },
   {
    "duration": 6,
    "start_time": "2022-01-04T12:42:50.149Z"
   },
   {
    "duration": 5,
    "start_time": "2022-01-04T12:44:36.031Z"
   },
   {
    "duration": 5,
    "start_time": "2022-01-04T12:44:54.909Z"
   },
   {
    "duration": 5,
    "start_time": "2022-01-04T12:45:17.147Z"
   },
   {
    "duration": 6,
    "start_time": "2022-01-04T12:46:07.415Z"
   },
   {
    "duration": 6,
    "start_time": "2022-01-04T12:46:16.147Z"
   },
   {
    "duration": 5,
    "start_time": "2022-01-04T12:46:29.895Z"
   },
   {
    "duration": 5,
    "start_time": "2022-01-04T12:47:39.728Z"
   },
   {
    "duration": 5,
    "start_time": "2022-01-04T12:57:13.099Z"
   },
   {
    "duration": 6,
    "start_time": "2022-01-04T12:57:35.492Z"
   },
   {
    "duration": 11,
    "start_time": "2022-01-04T12:57:49.078Z"
   },
   {
    "duration": 22,
    "start_time": "2022-01-04T12:58:26.967Z"
   },
   {
    "duration": 993,
    "start_time": "2022-01-04T15:40:02.123Z"
   },
   {
    "duration": 203,
    "start_time": "2022-01-04T15:40:03.120Z"
   },
   {
    "duration": 25,
    "start_time": "2022-01-04T15:40:03.328Z"
   },
   {
    "duration": 9,
    "start_time": "2022-01-04T15:40:03.367Z"
   },
   {
    "duration": 12,
    "start_time": "2022-01-04T15:40:03.378Z"
   },
   {
    "duration": 16,
    "start_time": "2022-01-04T15:40:03.392Z"
   },
   {
    "duration": 68,
    "start_time": "2022-01-04T15:40:03.410Z"
   },
   {
    "duration": 6,
    "start_time": "2022-01-04T15:42:59.339Z"
   },
   {
    "duration": 12,
    "start_time": "2022-01-04T15:49:25.501Z"
   },
   {
    "duration": 15,
    "start_time": "2022-01-04T15:49:41.887Z"
   },
   {
    "duration": 16,
    "start_time": "2022-01-04T15:49:45.260Z"
   },
   {
    "duration": 7,
    "start_time": "2022-01-04T15:51:23.792Z"
   },
   {
    "duration": 6,
    "start_time": "2022-01-04T15:54:36.953Z"
   },
   {
    "duration": 100,
    "start_time": "2022-01-04T15:57:44.723Z"
   },
   {
    "duration": 106,
    "start_time": "2022-01-04T15:58:11.482Z"
   },
   {
    "duration": 98,
    "start_time": "2022-01-04T15:58:46.063Z"
   },
   {
    "duration": 425,
    "start_time": "2022-01-04T16:06:11.650Z"
   },
   {
    "duration": 32,
    "start_time": "2022-01-04T16:06:29.396Z"
   },
   {
    "duration": 11,
    "start_time": "2022-01-04T16:06:45.519Z"
   },
   {
    "duration": 30,
    "start_time": "2022-01-04T16:06:56.069Z"
   },
   {
    "duration": 310,
    "start_time": "2022-01-04T16:07:14.545Z"
   },
   {
    "duration": 11,
    "start_time": "2022-01-04T16:09:30.181Z"
   },
   {
    "duration": 10,
    "start_time": "2022-01-04T16:09:54.719Z"
   },
   {
    "duration": 308,
    "start_time": "2022-01-04T16:10:05.882Z"
   },
   {
    "duration": 294,
    "start_time": "2022-01-04T16:10:11.248Z"
   },
   {
    "duration": 11,
    "start_time": "2022-01-04T16:10:31.143Z"
   },
   {
    "duration": 13,
    "start_time": "2022-01-04T16:10:52.224Z"
   },
   {
    "duration": 10,
    "start_time": "2022-01-04T16:13:02.549Z"
   },
   {
    "duration": 9,
    "start_time": "2022-01-04T16:13:38.821Z"
   },
   {
    "duration": 8,
    "start_time": "2022-01-04T16:14:08.453Z"
   },
   {
    "duration": 8,
    "start_time": "2022-01-04T16:14:28.284Z"
   },
   {
    "duration": 8,
    "start_time": "2022-01-04T16:14:36.833Z"
   },
   {
    "duration": 847,
    "start_time": "2022-01-04T16:14:48.320Z"
   },
   {
    "duration": 130,
    "start_time": "2022-01-04T16:14:49.170Z"
   },
   {
    "duration": 16,
    "start_time": "2022-01-04T16:14:49.303Z"
   },
   {
    "duration": 7,
    "start_time": "2022-01-04T16:14:49.322Z"
   },
   {
    "duration": 38,
    "start_time": "2022-01-04T16:14:49.331Z"
   },
   {
    "duration": 6,
    "start_time": "2022-01-04T16:14:49.372Z"
   },
   {
    "duration": 14,
    "start_time": "2022-01-04T16:14:49.380Z"
   },
   {
    "duration": 7,
    "start_time": "2022-01-04T16:14:49.397Z"
   },
   {
    "duration": 7,
    "start_time": "2022-01-04T16:14:49.407Z"
   },
   {
    "duration": 14,
    "start_time": "2022-01-04T16:14:49.467Z"
   },
   {
    "duration": 14,
    "start_time": "2022-01-04T16:14:49.483Z"
   },
   {
    "duration": 8,
    "start_time": "2022-01-04T16:14:49.501Z"
   },
   {
    "duration": 58,
    "start_time": "2022-01-04T16:14:49.511Z"
   },
   {
    "duration": 35,
    "start_time": "2022-01-04T16:14:49.571Z"
   },
   {
    "duration": 895,
    "start_time": "2022-01-04T16:15:55.952Z"
   },
   {
    "duration": 121,
    "start_time": "2022-01-04T16:15:56.850Z"
   },
   {
    "duration": 18,
    "start_time": "2022-01-04T16:15:56.975Z"
   },
   {
    "duration": 6,
    "start_time": "2022-01-04T16:15:56.996Z"
   },
   {
    "duration": 10,
    "start_time": "2022-01-04T16:15:57.004Z"
   },
   {
    "duration": 51,
    "start_time": "2022-01-04T16:15:57.016Z"
   },
   {
    "duration": 14,
    "start_time": "2022-01-04T16:15:57.069Z"
   },
   {
    "duration": 10,
    "start_time": "2022-01-04T16:16:00.250Z"
   },
   {
    "duration": 8,
    "start_time": "2022-01-04T16:16:34.319Z"
   },
   {
    "duration": 13,
    "start_time": "2022-01-04T16:17:21.639Z"
   },
   {
    "duration": 404,
    "start_time": "2022-01-04T16:36:51.292Z"
   },
   {
    "duration": 9,
    "start_time": "2022-01-04T16:38:27.309Z"
   },
   {
    "duration": 9,
    "start_time": "2022-01-04T16:39:01.262Z"
   },
   {
    "duration": 11,
    "start_time": "2022-01-04T16:39:09.431Z"
   },
   {
    "duration": 815,
    "start_time": "2022-01-04T16:39:55.905Z"
   },
   {
    "duration": 131,
    "start_time": "2022-01-04T16:39:56.723Z"
   },
   {
    "duration": 18,
    "start_time": "2022-01-04T16:39:56.866Z"
   },
   {
    "duration": 7,
    "start_time": "2022-01-04T16:39:56.888Z"
   },
   {
    "duration": 14,
    "start_time": "2022-01-04T16:39:56.898Z"
   },
   {
    "duration": 8,
    "start_time": "2022-01-04T16:39:56.914Z"
   },
   {
    "duration": 55,
    "start_time": "2022-01-04T16:39:56.925Z"
   },
   {
    "duration": 9,
    "start_time": "2022-01-04T16:39:56.983Z"
   },
   {
    "duration": 8,
    "start_time": "2022-01-04T16:39:56.995Z"
   },
   {
    "duration": 9,
    "start_time": "2022-01-04T16:39:57.006Z"
   },
   {
    "duration": 14,
    "start_time": "2022-01-04T16:43:56.392Z"
   },
   {
    "duration": 16,
    "start_time": "2022-01-04T16:44:07.157Z"
   },
   {
    "duration": 35,
    "start_time": "2022-01-04T16:44:49.322Z"
   },
   {
    "duration": 35,
    "start_time": "2022-01-04T16:45:24.955Z"
   },
   {
    "duration": 40,
    "start_time": "2022-01-04T16:45:36.777Z"
   },
   {
    "duration": 10,
    "start_time": "2022-01-04T16:46:26.703Z"
   },
   {
    "duration": 40,
    "start_time": "2022-01-04T16:46:29.721Z"
   },
   {
    "duration": 840,
    "start_time": "2022-01-04T16:46:43.900Z"
   },
   {
    "duration": 124,
    "start_time": "2022-01-04T16:46:44.743Z"
   },
   {
    "duration": 16,
    "start_time": "2022-01-04T16:46:44.870Z"
   },
   {
    "duration": 6,
    "start_time": "2022-01-04T16:46:44.888Z"
   },
   {
    "duration": 9,
    "start_time": "2022-01-04T16:46:44.897Z"
   },
   {
    "duration": 6,
    "start_time": "2022-01-04T16:46:44.908Z"
   },
   {
    "duration": 61,
    "start_time": "2022-01-04T16:46:44.916Z"
   },
   {
    "duration": 9,
    "start_time": "2022-01-04T16:46:44.980Z"
   },
   {
    "duration": 8,
    "start_time": "2022-01-04T16:46:44.992Z"
   },
   {
    "duration": 21,
    "start_time": "2022-01-04T16:46:45.002Z"
   },
   {
    "duration": 43,
    "start_time": "2022-01-04T16:46:45.025Z"
   },
   {
    "duration": 43,
    "start_time": "2022-01-04T16:46:47.658Z"
   },
   {
    "duration": 7,
    "start_time": "2022-01-04T16:50:29.206Z"
   },
   {
    "duration": 8,
    "start_time": "2022-01-04T16:52:04.781Z"
   },
   {
    "duration": 40,
    "start_time": "2022-01-04T16:52:07.288Z"
   },
   {
    "duration": 447,
    "start_time": "2022-01-04T17:10:33.972Z"
   },
   {
    "duration": 9,
    "start_time": "2022-01-04T17:11:18.110Z"
   },
   {
    "duration": 9,
    "start_time": "2022-01-04T17:17:53.440Z"
   },
   {
    "duration": 41,
    "start_time": "2022-01-04T17:18:00.518Z"
   },
   {
    "duration": 9,
    "start_time": "2022-01-04T17:18:14.039Z"
   },
   {
    "duration": 40,
    "start_time": "2022-01-04T17:18:24.107Z"
   },
   {
    "duration": 922,
    "start_time": "2022-01-06T06:31:44.006Z"
   },
   {
    "duration": 117,
    "start_time": "2022-01-06T06:31:44.931Z"
   },
   {
    "duration": 20,
    "start_time": "2022-01-06T06:31:45.051Z"
   },
   {
    "duration": 6,
    "start_time": "2022-01-06T06:31:45.074Z"
   },
   {
    "duration": 14,
    "start_time": "2022-01-06T06:31:45.083Z"
   },
   {
    "duration": 6,
    "start_time": "2022-01-06T06:31:45.100Z"
   },
   {
    "duration": 58,
    "start_time": "2022-01-06T06:31:45.109Z"
   },
   {
    "duration": 8,
    "start_time": "2022-01-06T06:31:45.171Z"
   },
   {
    "duration": 9,
    "start_time": "2022-01-06T06:31:45.181Z"
   },
   {
    "duration": 10,
    "start_time": "2022-01-06T06:31:45.192Z"
   },
   {
    "duration": 57,
    "start_time": "2022-01-06T06:31:45.204Z"
   },
   {
    "duration": 8,
    "start_time": "2022-01-06T06:31:45.263Z"
   },
   {
    "duration": 13,
    "start_time": "2022-01-06T06:31:45.273Z"
   },
   {
    "duration": 12,
    "start_time": "2022-01-06T06:31:45.289Z"
   },
   {
    "duration": 75,
    "start_time": "2022-01-06T06:31:45.304Z"
   },
   {
    "duration": 6,
    "start_time": "2022-01-06T06:31:45.381Z"
   },
   {
    "duration": 24,
    "start_time": "2022-01-06T06:31:45.389Z"
   },
   {
    "duration": 65,
    "start_time": "2022-01-06T06:31:45.416Z"
   },
   {
    "duration": 9,
    "start_time": "2022-01-06T06:48:38.756Z"
   },
   {
    "duration": 9,
    "start_time": "2022-01-06T06:50:40.187Z"
   },
   {
    "duration": 39,
    "start_time": "2022-01-06T06:50:48.581Z"
   },
   {
    "duration": 10,
    "start_time": "2022-01-06T06:55:16.846Z"
   },
   {
    "duration": 11,
    "start_time": "2022-01-06T06:59:47.666Z"
   },
   {
    "duration": 17,
    "start_time": "2022-01-06T07:00:38.394Z"
   },
   {
    "duration": 16,
    "start_time": "2022-01-06T07:00:46.639Z"
   },
   {
    "duration": 11,
    "start_time": "2022-01-06T07:04:04.095Z"
   },
   {
    "duration": 10,
    "start_time": "2022-01-06T07:04:49.594Z"
   },
   {
    "duration": 569,
    "start_time": "2022-01-06T07:15:02.770Z"
   },
   {
    "duration": 10,
    "start_time": "2022-01-06T07:17:40.284Z"
   },
   {
    "duration": 10,
    "start_time": "2022-01-06T07:19:00.001Z"
   },
   {
    "duration": 40,
    "start_time": "2022-01-06T07:19:05.720Z"
   },
   {
    "duration": 8,
    "start_time": "2022-01-06T07:21:33.936Z"
   },
   {
    "duration": 12,
    "start_time": "2022-01-06T07:24:37.703Z"
   },
   {
    "duration": 8,
    "start_time": "2022-01-06T08:15:26.289Z"
   },
   {
    "duration": 6,
    "start_time": "2022-01-06T08:21:07.726Z"
   },
   {
    "duration": 352,
    "start_time": "2022-01-06T08:25:24.657Z"
   },
   {
    "duration": 326,
    "start_time": "2022-01-06T08:25:47.876Z"
   },
   {
    "duration": 10,
    "start_time": "2022-01-06T09:27:09.477Z"
   },
   {
    "duration": 8,
    "start_time": "2022-01-06T09:27:13.018Z"
   },
   {
    "duration": 12,
    "start_time": "2022-01-06T10:00:50.764Z"
   },
   {
    "duration": 38,
    "start_time": "2022-01-06T10:01:12.711Z"
   },
   {
    "duration": 12,
    "start_time": "2022-01-06T10:01:33.246Z"
   },
   {
    "duration": 39,
    "start_time": "2022-01-06T10:01:36.999Z"
   },
   {
    "duration": 844,
    "start_time": "2022-01-06T10:02:09.834Z"
   },
   {
    "duration": 122,
    "start_time": "2022-01-06T10:02:10.681Z"
   },
   {
    "duration": 15,
    "start_time": "2022-01-06T10:02:10.806Z"
   },
   {
    "duration": 6,
    "start_time": "2022-01-06T10:02:10.824Z"
   },
   {
    "duration": 42,
    "start_time": "2022-01-06T10:02:10.833Z"
   },
   {
    "duration": 6,
    "start_time": "2022-01-06T10:02:10.877Z"
   },
   {
    "duration": 13,
    "start_time": "2022-01-06T10:02:10.885Z"
   },
   {
    "duration": 7,
    "start_time": "2022-01-06T10:02:10.901Z"
   },
   {
    "duration": 49,
    "start_time": "2022-01-06T10:02:10.912Z"
   },
   {
    "duration": 12,
    "start_time": "2022-01-06T10:02:10.964Z"
   },
   {
    "duration": 29,
    "start_time": "2022-01-06T10:02:10.978Z"
   },
   {
    "duration": 10,
    "start_time": "2022-01-06T10:02:11.010Z"
   },
   {
    "duration": 41,
    "start_time": "2022-01-06T10:02:11.023Z"
   },
   {
    "duration": 8,
    "start_time": "2022-01-06T10:02:11.067Z"
   },
   {
    "duration": 7,
    "start_time": "2022-01-06T10:02:11.077Z"
   },
   {
    "duration": 10,
    "start_time": "2022-01-06T10:02:11.087Z"
   },
   {
    "duration": 67,
    "start_time": "2022-01-06T10:02:11.099Z"
   },
   {
    "duration": 9,
    "start_time": "2022-01-06T10:02:11.169Z"
   },
   {
    "duration": 10,
    "start_time": "2022-01-06T10:02:11.181Z"
   },
   {
    "duration": 15,
    "start_time": "2022-01-06T10:02:11.194Z"
   },
   {
    "duration": 50,
    "start_time": "2022-01-06T10:02:11.212Z"
   },
   {
    "duration": 16,
    "start_time": "2022-01-06T10:02:11.265Z"
   },
   {
    "duration": 9,
    "start_time": "2022-01-06T10:02:11.285Z"
   },
   {
    "duration": 10,
    "start_time": "2022-01-06T10:02:11.297Z"
   },
   {
    "duration": 10,
    "start_time": "2022-01-06T10:02:11.358Z"
   },
   {
    "duration": 12,
    "start_time": "2022-01-06T10:02:11.370Z"
   },
   {
    "duration": 9,
    "start_time": "2022-01-06T10:02:11.384Z"
   },
   {
    "duration": 40,
    "start_time": "2022-01-06T10:02:17.741Z"
   },
   {
    "duration": 8,
    "start_time": "2022-01-06T10:10:46.094Z"
   },
   {
    "duration": 12,
    "start_time": "2022-01-06T10:13:06.731Z"
   },
   {
    "duration": 8,
    "start_time": "2022-01-06T10:19:08.632Z"
   },
   {
    "duration": 8,
    "start_time": "2022-01-06T10:25:40.177Z"
   },
   {
    "duration": 14,
    "start_time": "2022-01-06T10:26:12.765Z"
   },
   {
    "duration": 40,
    "start_time": "2022-01-06T10:26:29.551Z"
   },
   {
    "duration": 646,
    "start_time": "2022-01-07T16:34:39.723Z"
   },
   {
    "duration": 77,
    "start_time": "2022-01-07T16:34:40.370Z"
   },
   {
    "duration": 10,
    "start_time": "2022-01-07T16:34:40.449Z"
   },
   {
    "duration": 3,
    "start_time": "2022-01-07T16:34:40.461Z"
   },
   {
    "duration": 6,
    "start_time": "2022-01-07T16:34:40.466Z"
   },
   {
    "duration": 3,
    "start_time": "2022-01-07T16:34:40.474Z"
   },
   {
    "duration": 10,
    "start_time": "2022-01-07T16:34:40.479Z"
   },
   {
    "duration": 4,
    "start_time": "2022-01-07T16:34:40.491Z"
   },
   {
    "duration": 45,
    "start_time": "2022-01-07T16:34:40.497Z"
   },
   {
    "duration": 6,
    "start_time": "2022-01-07T16:34:40.543Z"
   },
   {
    "duration": 6,
    "start_time": "2022-01-07T16:34:40.550Z"
   },
   {
    "duration": 5,
    "start_time": "2022-01-07T16:34:40.558Z"
   },
   {
    "duration": 6,
    "start_time": "2022-01-07T16:34:40.564Z"
   },
   {
    "duration": 6,
    "start_time": "2022-01-07T16:34:40.572Z"
   },
   {
    "duration": 8,
    "start_time": "2022-01-07T16:34:40.579Z"
   },
   {
    "duration": 8,
    "start_time": "2022-01-07T16:34:40.589Z"
   },
   {
    "duration": 48,
    "start_time": "2022-01-07T16:34:40.598Z"
   },
   {
    "duration": 6,
    "start_time": "2022-01-07T16:34:40.648Z"
   },
   {
    "duration": 7,
    "start_time": "2022-01-07T16:34:40.656Z"
   },
   {
    "duration": 8,
    "start_time": "2022-01-07T16:34:40.665Z"
   },
   {
    "duration": 11,
    "start_time": "2022-01-07T16:34:40.675Z"
   },
   {
    "duration": 8,
    "start_time": "2022-01-07T16:34:40.687Z"
   },
   {
    "duration": 5,
    "start_time": "2022-01-07T16:34:40.698Z"
   },
   {
    "duration": 37,
    "start_time": "2022-01-07T16:34:40.705Z"
   },
   {
    "duration": 5,
    "start_time": "2022-01-07T16:34:40.744Z"
   },
   {
    "duration": 8,
    "start_time": "2022-01-07T16:34:40.751Z"
   },
   {
    "duration": 7,
    "start_time": "2022-01-07T16:34:40.760Z"
   },
   {
    "duration": 9,
    "start_time": "2022-01-07T16:34:40.768Z"
   },
   {
    "duration": 13,
    "start_time": "2022-01-07T16:34:40.778Z"
   },
   {
    "duration": 7,
    "start_time": "2022-01-07T16:34:40.792Z"
   },
   {
    "duration": 51,
    "start_time": "2022-01-07T16:34:40.800Z"
   },
   {
    "duration": 8,
    "start_time": "2022-01-07T16:34:40.853Z"
   },
   {
    "duration": 18,
    "start_time": "2022-01-07T16:34:40.863Z"
   },
   {
    "duration": 6,
    "start_time": "2022-01-07T16:42:28.100Z"
   },
   {
    "duration": 9,
    "start_time": "2022-01-07T16:43:03.698Z"
   },
   {
    "duration": 8,
    "start_time": "2022-01-07T16:43:31.982Z"
   },
   {
    "duration": 4,
    "start_time": "2022-01-07T16:46:48.389Z"
   },
   {
    "duration": 5,
    "start_time": "2022-01-07T16:46:57.595Z"
   },
   {
    "duration": 5,
    "start_time": "2022-01-07T16:47:03.063Z"
   },
   {
    "duration": 8,
    "start_time": "2022-01-07T16:47:12.554Z"
   },
   {
    "duration": 5546,
    "start_time": "2022-01-07T16:49:08.502Z"
   },
   {
    "duration": 4902,
    "start_time": "2022-01-07T16:49:16.098Z"
   },
   {
    "duration": 10,
    "start_time": "2022-01-07T16:49:23.549Z"
   },
   {
    "duration": 3,
    "start_time": "2022-01-07T16:51:57.984Z"
   },
   {
    "duration": 617,
    "start_time": "2022-01-07T16:52:35.927Z"
   },
   {
    "duration": 74,
    "start_time": "2022-01-07T16:52:36.546Z"
   },
   {
    "duration": 22,
    "start_time": "2022-01-07T16:52:36.622Z"
   },
   {
    "duration": 5,
    "start_time": "2022-01-07T16:52:36.645Z"
   },
   {
    "duration": 6,
    "start_time": "2022-01-07T16:52:36.651Z"
   },
   {
    "duration": 5,
    "start_time": "2022-01-07T16:52:36.659Z"
   },
   {
    "duration": 9,
    "start_time": "2022-01-07T16:52:36.665Z"
   },
   {
    "duration": 5,
    "start_time": "2022-01-07T16:52:36.676Z"
   },
   {
    "duration": 6,
    "start_time": "2022-01-07T16:52:36.682Z"
   },
   {
    "duration": 9,
    "start_time": "2022-01-07T16:52:36.689Z"
   },
   {
    "duration": 8,
    "start_time": "2022-01-07T16:52:36.699Z"
   },
   {
    "duration": 36,
    "start_time": "2022-01-07T16:52:36.708Z"
   },
   {
    "duration": 5,
    "start_time": "2022-01-07T16:52:36.745Z"
   },
   {
    "duration": 7,
    "start_time": "2022-01-07T16:52:36.751Z"
   },
   {
    "duration": 7,
    "start_time": "2022-01-07T16:52:36.759Z"
   },
   {
    "duration": 10,
    "start_time": "2022-01-07T16:52:36.767Z"
   },
   {
    "duration": 16,
    "start_time": "2022-01-07T16:52:36.779Z"
   },
   {
    "duration": 6,
    "start_time": "2022-01-07T16:52:36.797Z"
   },
   {
    "duration": 37,
    "start_time": "2022-01-07T16:52:36.805Z"
   },
   {
    "duration": 9,
    "start_time": "2022-01-07T16:52:36.844Z"
   },
   {
    "duration": 10,
    "start_time": "2022-01-07T16:52:36.854Z"
   },
   {
    "duration": 9,
    "start_time": "2022-01-07T16:52:36.865Z"
   },
   {
    "duration": 5,
    "start_time": "2022-01-07T16:52:36.877Z"
   },
   {
    "duration": 8,
    "start_time": "2022-01-07T16:52:36.884Z"
   },
   {
    "duration": 10,
    "start_time": "2022-01-07T16:52:36.894Z"
   },
   {
    "duration": 14,
    "start_time": "2022-01-07T16:52:36.905Z"
   },
   {
    "duration": 5,
    "start_time": "2022-01-07T16:52:36.940Z"
   },
   {
    "duration": 5,
    "start_time": "2022-01-07T16:52:36.947Z"
   },
   {
    "duration": 11,
    "start_time": "2022-01-07T16:52:36.953Z"
   },
   {
    "duration": 6,
    "start_time": "2022-01-07T16:52:36.965Z"
   },
   {
    "duration": 12,
    "start_time": "2022-01-07T16:52:36.972Z"
   },
   {
    "duration": 4,
    "start_time": "2022-01-07T16:52:36.985Z"
   },
   {
    "duration": 249,
    "start_time": "2022-01-07T16:54:09.671Z"
   },
   {
    "duration": 248,
    "start_time": "2022-01-07T16:54:17.433Z"
   },
   {
    "duration": 5,
    "start_time": "2022-01-07T16:54:46.035Z"
   },
   {
    "duration": 628,
    "start_time": "2022-01-08T07:31:02.027Z"
   },
   {
    "duration": 74,
    "start_time": "2022-01-08T07:31:02.657Z"
   },
   {
    "duration": 15,
    "start_time": "2022-01-08T07:31:02.733Z"
   },
   {
    "duration": 4,
    "start_time": "2022-01-08T07:31:02.750Z"
   },
   {
    "duration": 7,
    "start_time": "2022-01-08T07:31:02.755Z"
   },
   {
    "duration": 7,
    "start_time": "2022-01-08T07:31:02.764Z"
   },
   {
    "duration": 10,
    "start_time": "2022-01-08T07:31:02.772Z"
   },
   {
    "duration": 18,
    "start_time": "2022-01-08T07:31:02.784Z"
   },
   {
    "duration": 28,
    "start_time": "2022-01-08T07:31:02.805Z"
   },
   {
    "duration": 13,
    "start_time": "2022-01-08T07:31:02.834Z"
   },
   {
    "duration": 19,
    "start_time": "2022-01-08T07:31:02.848Z"
   },
   {
    "duration": 27,
    "start_time": "2022-01-08T07:31:02.869Z"
   },
   {
    "duration": 26,
    "start_time": "2022-01-08T07:31:02.897Z"
   },
   {
    "duration": 24,
    "start_time": "2022-01-08T07:31:02.924Z"
   },
   {
    "duration": 36,
    "start_time": "2022-01-08T07:31:02.950Z"
   },
   {
    "duration": 28,
    "start_time": "2022-01-08T07:31:02.988Z"
   },
   {
    "duration": 33,
    "start_time": "2022-01-08T07:31:03.018Z"
   },
   {
    "duration": 24,
    "start_time": "2022-01-08T07:31:03.052Z"
   },
   {
    "duration": 27,
    "start_time": "2022-01-08T07:31:03.078Z"
   },
   {
    "duration": 20,
    "start_time": "2022-01-08T07:31:03.106Z"
   },
   {
    "duration": 18,
    "start_time": "2022-01-08T07:31:03.128Z"
   },
   {
    "duration": 13,
    "start_time": "2022-01-08T07:31:03.148Z"
   },
   {
    "duration": 25,
    "start_time": "2022-01-08T07:31:03.162Z"
   },
   {
    "duration": 52,
    "start_time": "2022-01-08T07:31:03.189Z"
   },
   {
    "duration": 45,
    "start_time": "2022-01-08T07:31:03.242Z"
   },
   {
    "duration": 11,
    "start_time": "2022-01-08T07:31:03.289Z"
   },
   {
    "duration": 5,
    "start_time": "2022-01-08T07:31:03.302Z"
   },
   {
    "duration": 7,
    "start_time": "2022-01-08T07:31:03.309Z"
   },
   {
    "duration": 9,
    "start_time": "2022-01-08T07:31:03.317Z"
   },
   {
    "duration": 5,
    "start_time": "2022-01-08T07:31:03.327Z"
   },
   {
    "duration": 12,
    "start_time": "2022-01-08T07:31:03.334Z"
   },
   {
    "duration": 5,
    "start_time": "2022-01-08T07:31:03.347Z"
   },
   {
    "duration": 13,
    "start_time": "2022-01-08T07:31:03.353Z"
   },
   {
    "duration": 24,
    "start_time": "2022-01-08T07:31:03.368Z"
   },
   {
    "duration": 9,
    "start_time": "2022-01-08T07:31:03.393Z"
   },
   {
    "duration": 38,
    "start_time": "2022-01-08T07:31:03.403Z"
   },
   {
    "duration": 254,
    "start_time": "2022-01-08T07:55:21.507Z"
   },
   {
    "duration": 11,
    "start_time": "2022-01-08T07:55:32.004Z"
   },
   {
    "duration": 10,
    "start_time": "2022-01-08T07:56:09.043Z"
   },
   {
    "duration": 13,
    "start_time": "2022-01-08T07:57:42.279Z"
   },
   {
    "duration": 203,
    "start_time": "2022-01-08T07:58:51.719Z"
   },
   {
    "duration": 12,
    "start_time": "2022-01-08T07:59:56.220Z"
   },
   {
    "duration": 4,
    "start_time": "2022-01-08T08:12:53.406Z"
   },
   {
    "duration": 13,
    "start_time": "2022-01-08T08:13:09.336Z"
   },
   {
    "duration": 21,
    "start_time": "2022-01-08T08:13:30.396Z"
   },
   {
    "duration": 890,
    "start_time": "2022-01-08T13:12:15.225Z"
   },
   {
    "duration": 129,
    "start_time": "2022-01-08T13:12:16.117Z"
   },
   {
    "duration": 28,
    "start_time": "2022-01-08T13:12:16.249Z"
   },
   {
    "duration": 6,
    "start_time": "2022-01-08T13:12:16.279Z"
   },
   {
    "duration": 11,
    "start_time": "2022-01-08T13:12:16.287Z"
   },
   {
    "duration": 6,
    "start_time": "2022-01-08T13:12:16.301Z"
   },
   {
    "duration": 16,
    "start_time": "2022-01-08T13:12:16.309Z"
   },
   {
    "duration": 9,
    "start_time": "2022-01-08T13:12:16.368Z"
   },
   {
    "duration": 10,
    "start_time": "2022-01-08T13:12:16.381Z"
   },
   {
    "duration": 10,
    "start_time": "2022-01-08T13:12:16.393Z"
   },
   {
    "duration": 13,
    "start_time": "2022-01-08T13:12:16.405Z"
   },
   {
    "duration": 53,
    "start_time": "2022-01-08T13:12:16.421Z"
   },
   {
    "duration": 8,
    "start_time": "2022-01-08T13:12:16.477Z"
   },
   {
    "duration": 8,
    "start_time": "2022-01-08T13:12:16.488Z"
   },
   {
    "duration": 7,
    "start_time": "2022-01-08T13:12:16.499Z"
   },
   {
    "duration": 60,
    "start_time": "2022-01-08T13:12:16.509Z"
   },
   {
    "duration": 19,
    "start_time": "2022-01-08T13:12:16.571Z"
   },
   {
    "duration": 9,
    "start_time": "2022-01-08T13:12:16.593Z"
   },
   {
    "duration": 10,
    "start_time": "2022-01-08T13:12:16.604Z"
   },
   {
    "duration": 52,
    "start_time": "2022-01-08T13:12:16.616Z"
   },
   {
    "duration": 10,
    "start_time": "2022-01-08T13:12:16.670Z"
   },
   {
    "duration": 12,
    "start_time": "2022-01-08T13:12:16.682Z"
   },
   {
    "duration": 8,
    "start_time": "2022-01-08T13:12:16.699Z"
   },
   {
    "duration": 12,
    "start_time": "2022-01-08T13:12:16.710Z"
   },
   {
    "duration": 50,
    "start_time": "2022-01-08T13:12:16.724Z"
   },
   {
    "duration": 14,
    "start_time": "2022-01-08T13:12:16.776Z"
   },
   {
    "duration": 8,
    "start_time": "2022-01-08T13:12:16.792Z"
   },
   {
    "duration": 8,
    "start_time": "2022-01-08T13:12:16.802Z"
   },
   {
    "duration": 63,
    "start_time": "2022-01-08T13:12:16.813Z"
   },
   {
    "duration": 8,
    "start_time": "2022-01-08T13:12:16.879Z"
   },
   {
    "duration": 12,
    "start_time": "2022-01-08T13:12:16.889Z"
   },
   {
    "duration": 8,
    "start_time": "2022-01-08T13:12:16.903Z"
   },
   {
    "duration": 58,
    "start_time": "2022-01-08T13:12:16.914Z"
   },
   {
    "duration": 40,
    "start_time": "2022-01-08T13:12:16.975Z"
   },
   {
    "duration": 17,
    "start_time": "2022-01-08T13:12:17.017Z"
   },
   {
    "duration": 35,
    "start_time": "2022-01-08T13:12:17.036Z"
   },
   {
    "duration": 9,
    "start_time": "2022-01-08T13:12:17.074Z"
   },
   {
    "duration": 20,
    "start_time": "2022-01-08T13:12:17.086Z"
   },
   {
    "duration": 83,
    "start_time": "2022-01-08T13:12:17.109Z"
   },
   {
    "duration": 79,
    "start_time": "2022-01-08T13:26:08.287Z"
   },
   {
    "duration": 141,
    "start_time": "2022-01-08T13:26:08.369Z"
   },
   {
    "duration": 19,
    "start_time": "2022-01-08T13:26:08.514Z"
   },
   {
    "duration": 12,
    "start_time": "2022-01-08T13:26:08.567Z"
   },
   {
    "duration": 19,
    "start_time": "2022-01-08T13:26:08.582Z"
   },
   {
    "duration": 6,
    "start_time": "2022-01-08T13:26:08.604Z"
   },
   {
    "duration": 16,
    "start_time": "2022-01-08T13:26:08.612Z"
   },
   {
    "duration": 15,
    "start_time": "2022-01-08T13:26:08.672Z"
   },
   {
    "duration": 9,
    "start_time": "2022-01-08T13:26:08.693Z"
   },
   {
    "duration": 10,
    "start_time": "2022-01-08T13:26:08.705Z"
   },
   {
    "duration": 55,
    "start_time": "2022-01-08T13:26:08.718Z"
   },
   {
    "duration": 17,
    "start_time": "2022-01-08T13:26:08.776Z"
   },
   {
    "duration": 10,
    "start_time": "2022-01-08T13:26:08.795Z"
   },
   {
    "duration": 8,
    "start_time": "2022-01-08T13:26:08.808Z"
   },
   {
    "duration": 8,
    "start_time": "2022-01-08T13:26:08.819Z"
   },
   {
    "duration": 18,
    "start_time": "2022-01-08T13:26:08.872Z"
   },
   {
    "duration": 19,
    "start_time": "2022-01-08T13:26:08.892Z"
   },
   {
    "duration": 61,
    "start_time": "2022-01-08T13:26:08.913Z"
   },
   {
    "duration": 13,
    "start_time": "2022-01-08T13:26:08.977Z"
   },
   {
    "duration": 12,
    "start_time": "2022-01-08T13:26:08.993Z"
   },
   {
    "duration": 9,
    "start_time": "2022-01-08T13:26:09.007Z"
   },
   {
    "duration": 60,
    "start_time": "2022-01-08T13:26:09.019Z"
   },
   {
    "duration": 9,
    "start_time": "2022-01-08T13:26:09.082Z"
   },
   {
    "duration": 9,
    "start_time": "2022-01-08T13:26:09.094Z"
   },
   {
    "duration": 9,
    "start_time": "2022-01-08T13:26:09.105Z"
   },
   {
    "duration": 69,
    "start_time": "2022-01-08T13:26:09.116Z"
   },
   {
    "duration": 9,
    "start_time": "2022-01-08T13:26:09.192Z"
   },
   {
    "duration": 11,
    "start_time": "2022-01-08T13:26:09.205Z"
   },
   {
    "duration": 59,
    "start_time": "2022-01-08T13:26:09.219Z"
   },
   {
    "duration": 14,
    "start_time": "2022-01-08T13:26:09.282Z"
   },
   {
    "duration": 13,
    "start_time": "2022-01-08T13:26:09.299Z"
   },
   {
    "duration": 55,
    "start_time": "2022-01-08T13:26:09.315Z"
   },
   {
    "duration": 14,
    "start_time": "2022-01-08T13:26:09.377Z"
   },
   {
    "duration": 88,
    "start_time": "2022-01-08T13:26:09.394Z"
   },
   {
    "duration": 19,
    "start_time": "2022-01-08T13:26:09.485Z"
   },
   {
    "duration": 6,
    "start_time": "2022-01-08T13:26:09.507Z"
   },
   {
    "duration": 7,
    "start_time": "2022-01-08T13:26:09.516Z"
   },
   {
    "duration": 52,
    "start_time": "2022-01-08T13:26:09.526Z"
   },
   {
    "duration": 52,
    "start_time": "2022-01-08T13:26:09.581Z"
   },
   {
    "duration": 1102,
    "start_time": "2022-01-08T13:26:25.193Z"
   },
   {
    "duration": 146,
    "start_time": "2022-01-08T13:26:26.298Z"
   },
   {
    "duration": 35,
    "start_time": "2022-01-08T13:26:26.447Z"
   },
   {
    "duration": 9,
    "start_time": "2022-01-08T13:26:26.485Z"
   },
   {
    "duration": 12,
    "start_time": "2022-01-08T13:26:26.497Z"
   },
   {
    "duration": 8,
    "start_time": "2022-01-08T13:26:26.512Z"
   },
   {
    "duration": 59,
    "start_time": "2022-01-08T13:26:26.523Z"
   },
   {
    "duration": 10,
    "start_time": "2022-01-08T13:26:26.588Z"
   },
   {
    "duration": 10,
    "start_time": "2022-01-08T13:26:26.603Z"
   },
   {
    "duration": 56,
    "start_time": "2022-01-08T13:26:26.615Z"
   },
   {
    "duration": 15,
    "start_time": "2022-01-08T13:26:26.675Z"
   },
   {
    "duration": 8,
    "start_time": "2022-01-08T13:26:26.693Z"
   },
   {
    "duration": 9,
    "start_time": "2022-01-08T13:26:26.703Z"
   },
   {
    "duration": 51,
    "start_time": "2022-01-08T13:26:26.715Z"
   },
   {
    "duration": 14,
    "start_time": "2022-01-08T13:26:26.770Z"
   },
   {
    "duration": 14,
    "start_time": "2022-01-08T13:26:26.787Z"
   },
   {
    "duration": 69,
    "start_time": "2022-01-08T13:26:26.804Z"
   },
   {
    "duration": 17,
    "start_time": "2022-01-08T13:26:26.876Z"
   },
   {
    "duration": 14,
    "start_time": "2022-01-08T13:26:26.896Z"
   },
   {
    "duration": 11,
    "start_time": "2022-01-08T13:26:26.913Z"
   },
   {
    "duration": 48,
    "start_time": "2022-01-08T13:26:26.927Z"
   },
   {
    "duration": 19,
    "start_time": "2022-01-08T13:26:26.978Z"
   },
   {
    "duration": 9,
    "start_time": "2022-01-08T13:26:27.003Z"
   },
   {
    "duration": 14,
    "start_time": "2022-01-08T13:26:27.015Z"
   },
   {
    "duration": 45,
    "start_time": "2022-01-08T13:26:27.032Z"
   },
   {
    "duration": 24,
    "start_time": "2022-01-08T13:26:27.080Z"
   },
   {
    "duration": 8,
    "start_time": "2022-01-08T13:26:27.106Z"
   },
   {
    "duration": 11,
    "start_time": "2022-01-08T13:26:27.117Z"
   },
   {
    "duration": 22,
    "start_time": "2022-01-08T13:26:27.167Z"
   },
   {
    "duration": 12,
    "start_time": "2022-01-08T13:26:27.193Z"
   },
   {
    "duration": 17,
    "start_time": "2022-01-08T13:26:27.208Z"
   },
   {
    "duration": 54,
    "start_time": "2022-01-08T13:26:27.228Z"
   },
   {
    "duration": 12,
    "start_time": "2022-01-08T13:26:27.287Z"
   },
   {
    "duration": 80,
    "start_time": "2022-01-08T13:26:27.301Z"
   },
   {
    "duration": 15,
    "start_time": "2022-01-08T13:26:27.384Z"
   },
   {
    "duration": 5,
    "start_time": "2022-01-08T13:26:27.402Z"
   },
   {
    "duration": 10,
    "start_time": "2022-01-08T13:26:27.410Z"
   },
   {
    "duration": 55,
    "start_time": "2022-01-08T13:26:27.423Z"
   },
   {
    "duration": 44,
    "start_time": "2022-01-08T13:26:27.481Z"
   },
   {
    "duration": 408,
    "start_time": "2022-01-08T13:27:04.442Z"
   },
   {
    "duration": 360,
    "start_time": "2022-01-08T13:27:11.449Z"
   },
   {
    "duration": 45,
    "start_time": "2022-01-08T13:30:14.003Z"
   },
   {
    "duration": 41,
    "start_time": "2022-01-08T13:30:36.883Z"
   },
   {
    "duration": 40,
    "start_time": "2022-01-08T13:43:36.350Z"
   },
   {
    "duration": 42,
    "start_time": "2022-01-08T13:43:50.000Z"
   },
   {
    "duration": 40,
    "start_time": "2022-01-08T13:44:32.755Z"
   },
   {
    "duration": 39,
    "start_time": "2022-01-08T13:44:39.646Z"
   },
   {
    "duration": 38,
    "start_time": "2022-01-08T13:45:25.967Z"
   },
   {
    "duration": 878,
    "start_time": "2022-01-08T13:45:47.432Z"
   },
   {
    "duration": 130,
    "start_time": "2022-01-08T13:45:48.312Z"
   },
   {
    "duration": 31,
    "start_time": "2022-01-08T13:45:48.446Z"
   },
   {
    "duration": 7,
    "start_time": "2022-01-08T13:45:48.481Z"
   },
   {
    "duration": 13,
    "start_time": "2022-01-08T13:45:48.491Z"
   },
   {
    "duration": 7,
    "start_time": "2022-01-08T13:45:48.507Z"
   },
   {
    "duration": 61,
    "start_time": "2022-01-08T13:45:48.517Z"
   },
   {
    "duration": 9,
    "start_time": "2022-01-08T13:45:48.584Z"
   },
   {
    "duration": 9,
    "start_time": "2022-01-08T13:45:48.597Z"
   },
   {
    "duration": 62,
    "start_time": "2022-01-08T13:45:48.609Z"
   },
   {
    "duration": 15,
    "start_time": "2022-01-08T13:45:48.674Z"
   },
   {
    "duration": 10,
    "start_time": "2022-01-08T13:45:48.692Z"
   },
   {
    "duration": 10,
    "start_time": "2022-01-08T13:45:48.705Z"
   },
   {
    "duration": 56,
    "start_time": "2022-01-08T13:45:48.717Z"
   },
   {
    "duration": 9,
    "start_time": "2022-01-08T13:45:48.775Z"
   },
   {
    "duration": 10,
    "start_time": "2022-01-08T13:45:48.786Z"
   },
   {
    "duration": 19,
    "start_time": "2022-01-08T13:45:48.798Z"
   },
   {
    "duration": 50,
    "start_time": "2022-01-08T13:45:48.819Z"
   },
   {
    "duration": 14,
    "start_time": "2022-01-08T13:45:48.871Z"
   },
   {
    "duration": 10,
    "start_time": "2022-01-08T13:45:48.888Z"
   },
   {
    "duration": 9,
    "start_time": "2022-01-08T13:45:48.900Z"
   },
   {
    "duration": 60,
    "start_time": "2022-01-08T13:45:48.911Z"
   },
   {
    "duration": 8,
    "start_time": "2022-01-08T13:45:48.976Z"
   },
   {
    "duration": 10,
    "start_time": "2022-01-08T13:45:48.987Z"
   },
   {
    "duration": 10,
    "start_time": "2022-01-08T13:45:49.000Z"
   },
   {
    "duration": 58,
    "start_time": "2022-01-08T13:45:49.012Z"
   },
   {
    "duration": 8,
    "start_time": "2022-01-08T13:45:49.072Z"
   },
   {
    "duration": 8,
    "start_time": "2022-01-08T13:45:49.082Z"
   },
   {
    "duration": 12,
    "start_time": "2022-01-08T13:45:49.092Z"
   },
   {
    "duration": 11,
    "start_time": "2022-01-08T13:45:49.106Z"
   },
   {
    "duration": 58,
    "start_time": "2022-01-08T13:45:49.119Z"
   },
   {
    "duration": 7,
    "start_time": "2022-01-08T13:45:49.180Z"
   },
   {
    "duration": 12,
    "start_time": "2022-01-08T13:45:49.189Z"
   },
   {
    "duration": 80,
    "start_time": "2022-01-08T13:45:49.203Z"
   },
   {
    "duration": 18,
    "start_time": "2022-01-08T13:45:49.285Z"
   },
   {
    "duration": 5,
    "start_time": "2022-01-08T13:45:49.305Z"
   },
   {
    "duration": 11,
    "start_time": "2022-01-08T13:45:49.312Z"
   },
   {
    "duration": 57,
    "start_time": "2022-01-08T13:45:49.325Z"
   },
   {
    "duration": 38,
    "start_time": "2022-01-08T13:45:49.385Z"
   },
   {
    "duration": 47,
    "start_time": "2022-01-08T13:45:52.484Z"
   },
   {
    "duration": 42,
    "start_time": "2022-01-08T13:46:06.028Z"
   },
   {
    "duration": 40,
    "start_time": "2022-01-08T13:54:10.364Z"
   },
   {
    "duration": 40,
    "start_time": "2022-01-08T13:58:09.987Z"
   },
   {
    "duration": 1801,
    "start_time": "2022-01-08T14:07:44.397Z"
   },
   {
    "duration": 1727,
    "start_time": "2022-01-08T14:08:21.363Z"
   },
   {
    "duration": 1512,
    "start_time": "2022-01-08T14:09:15.833Z"
   },
   {
    "duration": 816,
    "start_time": "2022-01-08T14:11:15.327Z"
   },
   {
    "duration": 865,
    "start_time": "2022-01-08T14:11:28.002Z"
   },
   {
    "duration": 6,
    "start_time": "2022-01-08T14:19:29.939Z"
   },
   {
    "duration": 39,
    "start_time": "2022-01-08T14:20:37.536Z"
   },
   {
    "duration": 725,
    "start_time": "2022-01-09T07:42:50.941Z"
   },
   {
    "duration": 79,
    "start_time": "2022-01-09T07:42:51.668Z"
   },
   {
    "duration": 11,
    "start_time": "2022-01-09T07:42:51.761Z"
   },
   {
    "duration": 8,
    "start_time": "2022-01-09T07:42:51.774Z"
   },
   {
    "duration": 8,
    "start_time": "2022-01-09T07:42:51.784Z"
   },
   {
    "duration": 22,
    "start_time": "2022-01-09T07:42:51.793Z"
   },
   {
    "duration": 29,
    "start_time": "2022-01-09T07:42:51.816Z"
   },
   {
    "duration": 16,
    "start_time": "2022-01-09T07:42:51.847Z"
   },
   {
    "duration": 18,
    "start_time": "2022-01-09T07:42:51.866Z"
   },
   {
    "duration": 10,
    "start_time": "2022-01-09T07:42:51.885Z"
   },
   {
    "duration": 9,
    "start_time": "2022-01-09T07:42:51.896Z"
   },
   {
    "duration": 13,
    "start_time": "2022-01-09T07:42:51.907Z"
   },
   {
    "duration": 5,
    "start_time": "2022-01-09T07:42:51.922Z"
   },
   {
    "duration": 11,
    "start_time": "2022-01-09T07:42:51.929Z"
   },
   {
    "duration": 14,
    "start_time": "2022-01-09T07:42:51.942Z"
   },
   {
    "duration": 21,
    "start_time": "2022-01-09T07:42:51.958Z"
   },
   {
    "duration": 24,
    "start_time": "2022-01-09T07:42:51.981Z"
   },
   {
    "duration": 14,
    "start_time": "2022-01-09T07:42:52.007Z"
   },
   {
    "duration": 7,
    "start_time": "2022-01-09T07:42:52.023Z"
   },
   {
    "duration": 24,
    "start_time": "2022-01-09T07:42:52.031Z"
   },
   {
    "duration": 11,
    "start_time": "2022-01-09T07:42:52.056Z"
   },
   {
    "duration": 13,
    "start_time": "2022-01-09T07:42:52.069Z"
   },
   {
    "duration": 11,
    "start_time": "2022-01-09T07:42:52.085Z"
   },
   {
    "duration": 14,
    "start_time": "2022-01-09T07:42:52.098Z"
   },
   {
    "duration": 23,
    "start_time": "2022-01-09T07:42:52.114Z"
   },
   {
    "duration": 23,
    "start_time": "2022-01-09T07:42:52.139Z"
   },
   {
    "duration": 5,
    "start_time": "2022-01-09T07:42:52.164Z"
   },
   {
    "duration": 17,
    "start_time": "2022-01-09T07:42:52.171Z"
   },
   {
    "duration": 14,
    "start_time": "2022-01-09T07:42:52.189Z"
   },
   {
    "duration": 24,
    "start_time": "2022-01-09T07:42:52.205Z"
   },
   {
    "duration": 30,
    "start_time": "2022-01-09T07:42:52.231Z"
   },
   {
    "duration": 11,
    "start_time": "2022-01-09T07:42:52.262Z"
   },
   {
    "duration": 14,
    "start_time": "2022-01-09T07:42:52.275Z"
   },
   {
    "duration": 34,
    "start_time": "2022-01-09T07:42:52.291Z"
   },
   {
    "duration": 11,
    "start_time": "2022-01-09T07:42:52.326Z"
   },
   {
    "duration": 22,
    "start_time": "2022-01-09T07:42:52.338Z"
   },
   {
    "duration": 10,
    "start_time": "2022-01-09T07:42:52.362Z"
   },
   {
    "duration": 25,
    "start_time": "2022-01-09T07:42:52.373Z"
   },
   {
    "duration": 20,
    "start_time": "2022-01-09T07:42:52.400Z"
   },
   {
    "duration": 24,
    "start_time": "2022-01-09T07:42:52.422Z"
   },
   {
    "duration": 9,
    "start_time": "2022-01-09T07:42:52.447Z"
   },
   {
    "duration": 8,
    "start_time": "2022-01-09T07:42:52.457Z"
   },
   {
    "duration": 27,
    "start_time": "2022-01-09T07:42:52.467Z"
   },
   {
    "duration": 481,
    "start_time": "2022-01-09T07:42:52.496Z"
   },
   {
    "duration": 4,
    "start_time": "2022-01-09T07:42:52.978Z"
   },
   {
    "duration": 26,
    "start_time": "2022-01-09T07:42:52.983Z"
   },
   {
    "duration": 470,
    "start_time": "2022-01-09T07:50:37.962Z"
   },
   {
    "duration": 11,
    "start_time": "2022-01-09T07:51:06.678Z"
   },
   {
    "duration": 343,
    "start_time": "2022-01-09T07:51:20.749Z"
   },
   {
    "duration": 11,
    "start_time": "2022-01-09T08:04:32.296Z"
   },
   {
    "duration": 359,
    "start_time": "2022-01-09T08:09:00.213Z"
   },
   {
    "duration": 98,
    "start_time": "2022-01-09T08:09:27.829Z"
   },
   {
    "duration": 348,
    "start_time": "2022-01-09T08:10:15.184Z"
   },
   {
    "duration": 415,
    "start_time": "2022-01-09T08:11:08.818Z"
   },
   {
    "duration": 345,
    "start_time": "2022-01-09T08:11:22.222Z"
   },
   {
    "duration": 355,
    "start_time": "2022-01-09T08:11:28.695Z"
   },
   {
    "duration": 500,
    "start_time": "2022-01-09T08:11:40.990Z"
   },
   {
    "duration": 595,
    "start_time": "2022-01-09T08:11:51.467Z"
   },
   {
    "duration": 495,
    "start_time": "2022-01-09T08:11:59.149Z"
   },
   {
    "duration": 537,
    "start_time": "2022-01-09T08:12:07.085Z"
   },
   {
    "duration": 458,
    "start_time": "2022-01-09T08:12:25.519Z"
   },
   {
    "duration": 470,
    "start_time": "2022-01-09T08:12:33.318Z"
   },
   {
    "duration": 388,
    "start_time": "2022-01-09T08:15:40.536Z"
   },
   {
    "duration": 372,
    "start_time": "2022-01-09T08:16:11.306Z"
   },
   {
    "duration": 495,
    "start_time": "2022-01-09T08:16:23.889Z"
   },
   {
    "duration": 542,
    "start_time": "2022-01-09T08:16:49.981Z"
   },
   {
    "duration": 9,
    "start_time": "2022-01-09T08:19:26.952Z"
   },
   {
    "duration": 435,
    "start_time": "2022-01-09T08:21:07.491Z"
   },
   {
    "duration": 409,
    "start_time": "2022-01-09T08:21:45.052Z"
   },
   {
    "duration": 425,
    "start_time": "2022-01-09T08:21:49.656Z"
   },
   {
    "duration": 241,
    "start_time": "2022-01-09T08:22:22.586Z"
   },
   {
    "duration": 281,
    "start_time": "2022-01-09T08:22:43.288Z"
   },
   {
    "duration": 259,
    "start_time": "2022-01-09T08:23:25.389Z"
   },
   {
    "duration": 431,
    "start_time": "2022-01-09T08:23:41.657Z"
   },
   {
    "duration": 523,
    "start_time": "2022-01-09T08:23:48.406Z"
   },
   {
    "duration": 1132,
    "start_time": "2022-01-09T08:23:53.734Z"
   },
   {
    "duration": 1290,
    "start_time": "2022-01-09T08:24:06.797Z"
   },
   {
    "duration": 1120,
    "start_time": "2022-01-09T08:24:26.505Z"
   },
   {
    "duration": 265,
    "start_time": "2022-01-09T08:24:35.680Z"
   },
   {
    "duration": 10,
    "start_time": "2022-01-09T08:29:54.621Z"
   },
   {
    "duration": 390,
    "start_time": "2022-01-09T08:32:05.073Z"
   },
   {
    "duration": 452,
    "start_time": "2022-01-09T08:32:13.258Z"
   },
   {
    "duration": 251,
    "start_time": "2022-01-09T08:32:42.720Z"
   },
   {
    "duration": 290,
    "start_time": "2022-01-09T08:32:51.856Z"
   },
   {
    "duration": 287,
    "start_time": "2022-01-09T08:33:21.224Z"
   },
   {
    "duration": 286,
    "start_time": "2022-01-09T08:33:26.324Z"
   },
   {
    "duration": 334,
    "start_time": "2022-01-09T08:33:41.571Z"
   },
   {
    "duration": 415,
    "start_time": "2022-01-09T08:33:54.064Z"
   },
   {
    "duration": 421,
    "start_time": "2022-01-09T10:22:15.139Z"
   },
   {
    "duration": 266,
    "start_time": "2022-01-09T10:22:22.478Z"
   },
   {
    "duration": 1938,
    "start_time": "2022-01-09T10:22:29.692Z"
   },
   {
    "duration": 1137,
    "start_time": "2022-01-09T10:22:36.815Z"
   },
   {
    "duration": 117,
    "start_time": "2022-01-09T10:27:49.223Z"
   },
   {
    "duration": 171,
    "start_time": "2022-01-09T10:28:01.654Z"
   },
   {
    "duration": 453,
    "start_time": "2022-01-09T10:30:28.073Z"
   },
   {
    "duration": 125,
    "start_time": "2022-01-09T10:35:15.135Z"
   },
   {
    "duration": 9,
    "start_time": "2022-01-09T10:35:42.956Z"
   },
   {
    "duration": 138,
    "start_time": "2022-01-09T10:35:59.132Z"
   },
   {
    "duration": 3,
    "start_time": "2022-01-09T10:55:14.398Z"
   },
   {
    "duration": 64,
    "start_time": "2022-01-09T10:55:28.011Z"
   },
   {
    "duration": 219,
    "start_time": "2022-01-09T10:55:38.765Z"
   },
   {
    "duration": 4,
    "start_time": "2022-01-09T10:55:58.048Z"
   },
   {
    "duration": 4,
    "start_time": "2022-01-09T10:56:10.970Z"
   },
   {
    "duration": 4,
    "start_time": "2022-01-09T10:56:18.522Z"
   },
   {
    "duration": 4,
    "start_time": "2022-01-09T10:56:43.539Z"
   },
   {
    "duration": 7,
    "start_time": "2022-01-09T10:56:53.488Z"
   },
   {
    "duration": 112,
    "start_time": "2022-01-09T10:57:35.130Z"
   },
   {
    "duration": 663,
    "start_time": "2022-01-09T10:58:00.986Z"
   },
   {
    "duration": 87,
    "start_time": "2022-01-09T10:58:01.651Z"
   },
   {
    "duration": 12,
    "start_time": "2022-01-09T10:58:01.741Z"
   },
   {
    "duration": 5,
    "start_time": "2022-01-09T10:58:01.760Z"
   },
   {
    "duration": 10,
    "start_time": "2022-01-09T10:58:01.767Z"
   },
   {
    "duration": 6,
    "start_time": "2022-01-09T10:58:01.779Z"
   },
   {
    "duration": 13,
    "start_time": "2022-01-09T10:58:01.787Z"
   },
   {
    "duration": 6,
    "start_time": "2022-01-09T10:58:01.802Z"
   },
   {
    "duration": 10,
    "start_time": "2022-01-09T10:58:01.810Z"
   },
   {
    "duration": 43,
    "start_time": "2022-01-09T10:58:01.822Z"
   },
   {
    "duration": 9,
    "start_time": "2022-01-09T10:58:01.867Z"
   },
   {
    "duration": 13,
    "start_time": "2022-01-09T10:58:01.878Z"
   },
   {
    "duration": 12,
    "start_time": "2022-01-09T10:58:01.892Z"
   },
   {
    "duration": 6,
    "start_time": "2022-01-09T10:58:01.906Z"
   },
   {
    "duration": 6,
    "start_time": "2022-01-09T10:58:01.914Z"
   },
   {
    "duration": 44,
    "start_time": "2022-01-09T10:58:01.921Z"
   },
   {
    "duration": 14,
    "start_time": "2022-01-09T10:58:01.966Z"
   },
   {
    "duration": 14,
    "start_time": "2022-01-09T10:58:01.982Z"
   },
   {
    "duration": 15,
    "start_time": "2022-01-09T10:58:01.997Z"
   },
   {
    "duration": 13,
    "start_time": "2022-01-09T10:58:02.013Z"
   },
   {
    "duration": 12,
    "start_time": "2022-01-09T10:58:02.028Z"
   },
   {
    "duration": 34,
    "start_time": "2022-01-09T10:58:02.042Z"
   },
   {
    "duration": 9,
    "start_time": "2022-01-09T10:58:02.079Z"
   },
   {
    "duration": 7,
    "start_time": "2022-01-09T10:58:02.090Z"
   },
   {
    "duration": 20,
    "start_time": "2022-01-09T10:58:02.098Z"
   },
   {
    "duration": 27,
    "start_time": "2022-01-09T10:58:02.120Z"
   },
   {
    "duration": 6,
    "start_time": "2022-01-09T10:58:02.149Z"
   },
   {
    "duration": 14,
    "start_time": "2022-01-09T10:58:02.156Z"
   },
   {
    "duration": 12,
    "start_time": "2022-01-09T10:58:02.172Z"
   },
   {
    "duration": 7,
    "start_time": "2022-01-09T10:58:02.185Z"
   },
   {
    "duration": 24,
    "start_time": "2022-01-09T10:58:02.194Z"
   },
   {
    "duration": 8,
    "start_time": "2022-01-09T10:58:02.219Z"
   },
   {
    "duration": 23,
    "start_time": "2022-01-09T10:58:02.228Z"
   },
   {
    "duration": 27,
    "start_time": "2022-01-09T10:58:02.253Z"
   },
   {
    "duration": 18,
    "start_time": "2022-01-09T10:58:02.282Z"
   },
   {
    "duration": 11,
    "start_time": "2022-01-09T10:58:02.301Z"
   },
   {
    "duration": 18,
    "start_time": "2022-01-09T10:58:02.314Z"
   },
   {
    "duration": 8,
    "start_time": "2022-01-09T10:58:02.334Z"
   },
   {
    "duration": 19,
    "start_time": "2022-01-09T10:58:02.343Z"
   },
   {
    "duration": 35,
    "start_time": "2022-01-09T10:58:02.364Z"
   },
   {
    "duration": 5,
    "start_time": "2022-01-09T10:58:02.401Z"
   },
   {
    "duration": 11,
    "start_time": "2022-01-09T10:58:02.408Z"
   },
   {
    "duration": 27,
    "start_time": "2022-01-09T10:58:02.421Z"
   },
   {
    "duration": 492,
    "start_time": "2022-01-09T10:58:02.450Z"
   },
   {
    "duration": 3,
    "start_time": "2022-01-09T10:58:02.944Z"
   },
   {
    "duration": 31,
    "start_time": "2022-01-09T10:58:02.949Z"
   },
   {
    "duration": 7,
    "start_time": "2022-01-09T10:58:02.982Z"
   },
   {
    "duration": 1291,
    "start_time": "2022-01-09T10:58:02.993Z"
   },
   {
    "duration": 8,
    "start_time": "2022-01-09T10:58:04.286Z"
   },
   {
    "duration": 1243,
    "start_time": "2022-01-09T10:58:04.296Z"
   },
   {
    "duration": 20,
    "start_time": "2022-01-09T10:58:05.541Z"
   },
   {
    "duration": 273,
    "start_time": "2022-01-09T10:58:05.563Z"
   },
   {
    "duration": 8,
    "start_time": "2022-01-09T10:58:05.838Z"
   },
   {
    "duration": 419,
    "start_time": "2022-01-09T10:58:05.847Z"
   },
   {
    "duration": 7,
    "start_time": "2022-01-09T10:58:06.268Z"
   },
   {
    "duration": 321,
    "start_time": "2022-01-09T10:58:06.277Z"
   },
   {
    "duration": 140,
    "start_time": "2022-01-09T10:58:06.600Z"
   },
   {
    "duration": 4,
    "start_time": "2022-01-09T10:58:06.743Z"
   },
   {
    "duration": 23,
    "start_time": "2022-01-09T10:58:06.749Z"
   },
   {
    "duration": 120,
    "start_time": "2022-01-09T10:58:10.680Z"
   },
   {
    "duration": 401,
    "start_time": "2022-01-09T10:58:59.380Z"
   },
   {
    "duration": 116,
    "start_time": "2022-01-09T10:59:11.708Z"
   },
   {
    "duration": 305,
    "start_time": "2022-01-09T10:59:14.550Z"
   },
   {
    "duration": 675,
    "start_time": "2022-01-09T10:59:41.856Z"
   },
   {
    "duration": 83,
    "start_time": "2022-01-09T10:59:42.533Z"
   },
   {
    "duration": 10,
    "start_time": "2022-01-09T10:59:42.618Z"
   },
   {
    "duration": 9,
    "start_time": "2022-01-09T10:59:42.630Z"
   },
   {
    "duration": 29,
    "start_time": "2022-01-09T10:59:42.640Z"
   },
   {
    "duration": 11,
    "start_time": "2022-01-09T10:59:42.670Z"
   },
   {
    "duration": 19,
    "start_time": "2022-01-09T10:59:42.682Z"
   },
   {
    "duration": 7,
    "start_time": "2022-01-09T10:59:42.704Z"
   },
   {
    "duration": 12,
    "start_time": "2022-01-09T10:59:42.713Z"
   },
   {
    "duration": 9,
    "start_time": "2022-01-09T10:59:42.726Z"
   },
   {
    "duration": 18,
    "start_time": "2022-01-09T10:59:42.737Z"
   },
   {
    "duration": 9,
    "start_time": "2022-01-09T10:59:42.757Z"
   },
   {
    "duration": 16,
    "start_time": "2022-01-09T10:59:42.767Z"
   },
   {
    "duration": 13,
    "start_time": "2022-01-09T10:59:42.784Z"
   },
   {
    "duration": 15,
    "start_time": "2022-01-09T10:59:42.798Z"
   },
   {
    "duration": 22,
    "start_time": "2022-01-09T10:59:42.814Z"
   },
   {
    "duration": 30,
    "start_time": "2022-01-09T10:59:42.837Z"
   },
   {
    "duration": 15,
    "start_time": "2022-01-09T10:59:42.869Z"
   },
   {
    "duration": 24,
    "start_time": "2022-01-09T10:59:42.886Z"
   },
   {
    "duration": 21,
    "start_time": "2022-01-09T10:59:42.912Z"
   },
   {
    "duration": 19,
    "start_time": "2022-01-09T10:59:42.934Z"
   },
   {
    "duration": 24,
    "start_time": "2022-01-09T10:59:42.955Z"
   },
   {
    "duration": 11,
    "start_time": "2022-01-09T10:59:42.983Z"
   },
   {
    "duration": 9,
    "start_time": "2022-01-09T10:59:42.996Z"
   },
   {
    "duration": 7,
    "start_time": "2022-01-09T10:59:43.006Z"
   },
   {
    "duration": 11,
    "start_time": "2022-01-09T10:59:43.015Z"
   },
   {
    "duration": 6,
    "start_time": "2022-01-09T10:59:43.028Z"
   },
   {
    "duration": 26,
    "start_time": "2022-01-09T10:59:43.036Z"
   },
   {
    "duration": 9,
    "start_time": "2022-01-09T10:59:43.064Z"
   },
   {
    "duration": 7,
    "start_time": "2022-01-09T10:59:43.075Z"
   },
   {
    "duration": 9,
    "start_time": "2022-01-09T10:59:43.084Z"
   },
   {
    "duration": 5,
    "start_time": "2022-01-09T10:59:43.094Z"
   },
   {
    "duration": 8,
    "start_time": "2022-01-09T10:59:43.101Z"
   },
   {
    "duration": 65,
    "start_time": "2022-01-09T10:59:43.111Z"
   },
   {
    "duration": 16,
    "start_time": "2022-01-09T10:59:43.178Z"
   },
   {
    "duration": 23,
    "start_time": "2022-01-09T10:59:43.196Z"
   },
   {
    "duration": 22,
    "start_time": "2022-01-09T10:59:43.220Z"
   },
   {
    "duration": 26,
    "start_time": "2022-01-09T10:59:43.244Z"
   },
   {
    "duration": 50,
    "start_time": "2022-01-09T10:59:43.272Z"
   },
   {
    "duration": 32,
    "start_time": "2022-01-09T10:59:43.324Z"
   },
   {
    "duration": 14,
    "start_time": "2022-01-09T10:59:43.357Z"
   },
   {
    "duration": 6,
    "start_time": "2022-01-09T10:59:43.373Z"
   },
   {
    "duration": 45,
    "start_time": "2022-01-09T10:59:43.381Z"
   },
   {
    "duration": 584,
    "start_time": "2022-01-09T10:59:43.428Z"
   },
   {
    "duration": 4,
    "start_time": "2022-01-09T10:59:44.014Z"
   },
   {
    "duration": 26,
    "start_time": "2022-01-09T10:59:44.019Z"
   },
   {
    "duration": 22,
    "start_time": "2022-01-09T10:59:44.047Z"
   },
   {
    "duration": 1273,
    "start_time": "2022-01-09T10:59:44.070Z"
   },
   {
    "duration": 17,
    "start_time": "2022-01-09T10:59:45.345Z"
   },
   {
    "duration": 1234,
    "start_time": "2022-01-09T10:59:45.364Z"
   },
   {
    "duration": 9,
    "start_time": "2022-01-09T10:59:46.600Z"
   },
   {
    "duration": 285,
    "start_time": "2022-01-09T10:59:46.611Z"
   },
   {
    "duration": 8,
    "start_time": "2022-01-09T10:59:46.898Z"
   },
   {
    "duration": 434,
    "start_time": "2022-01-09T10:59:46.908Z"
   },
   {
    "duration": 9,
    "start_time": "2022-01-09T10:59:47.344Z"
   },
   {
    "duration": 323,
    "start_time": "2022-01-09T10:59:47.361Z"
   },
   {
    "duration": 128,
    "start_time": "2022-01-09T10:59:47.686Z"
   },
   {
    "duration": 4,
    "start_time": "2022-01-09T10:59:47.815Z"
   },
   {
    "duration": 12,
    "start_time": "2022-01-09T10:59:50.279Z"
   },
   {
    "duration": 119,
    "start_time": "2022-01-09T10:59:51.819Z"
   },
   {
    "duration": 401,
    "start_time": "2022-01-09T10:59:52.884Z"
   },
   {
    "duration": 9,
    "start_time": "2022-01-09T11:04:47.778Z"
   },
   {
    "duration": 113,
    "start_time": "2022-01-09T11:04:50.210Z"
   },
   {
    "duration": 313,
    "start_time": "2022-01-09T11:04:54.205Z"
   },
   {
    "duration": 361,
    "start_time": "2022-01-09T11:05:30.991Z"
   },
   {
    "duration": 6,
    "start_time": "2022-01-09T11:07:29.238Z"
   },
   {
    "duration": 352,
    "start_time": "2022-01-09T11:15:25.287Z"
   },
   {
    "duration": 113,
    "start_time": "2022-01-09T11:16:46.975Z"
   },
   {
    "duration": 114,
    "start_time": "2022-01-09T11:16:53.685Z"
   },
   {
    "duration": 8,
    "start_time": "2022-01-09T11:17:58.568Z"
   },
   {
    "duration": 865,
    "start_time": "2022-01-09T16:08:03.554Z"
   },
   {
    "duration": 132,
    "start_time": "2022-01-09T16:08:04.422Z"
   },
   {
    "duration": 20,
    "start_time": "2022-01-09T16:08:04.557Z"
   },
   {
    "duration": 9,
    "start_time": "2022-01-09T16:08:04.580Z"
   },
   {
    "duration": 18,
    "start_time": "2022-01-09T16:08:04.591Z"
   },
   {
    "duration": 13,
    "start_time": "2022-01-09T16:08:04.611Z"
   },
   {
    "duration": 38,
    "start_time": "2022-01-09T16:08:04.626Z"
   },
   {
    "duration": 8,
    "start_time": "2022-01-09T16:08:04.668Z"
   },
   {
    "duration": 22,
    "start_time": "2022-01-09T16:08:04.679Z"
   },
   {
    "duration": 16,
    "start_time": "2022-01-09T16:08:04.703Z"
   },
   {
    "duration": 38,
    "start_time": "2022-01-09T16:08:04.722Z"
   },
   {
    "duration": 7,
    "start_time": "2022-01-09T16:08:04.762Z"
   },
   {
    "duration": 25,
    "start_time": "2022-01-09T16:08:04.771Z"
   },
   {
    "duration": 16,
    "start_time": "2022-01-09T16:08:04.799Z"
   },
   {
    "duration": 23,
    "start_time": "2022-01-09T16:08:04.817Z"
   },
   {
    "duration": 17,
    "start_time": "2022-01-09T16:08:04.842Z"
   },
   {
    "duration": 32,
    "start_time": "2022-01-09T16:08:04.862Z"
   },
   {
    "duration": 10,
    "start_time": "2022-01-09T16:08:04.896Z"
   },
   {
    "duration": 17,
    "start_time": "2022-01-09T16:08:04.908Z"
   },
   {
    "duration": 23,
    "start_time": "2022-01-09T16:08:04.928Z"
   },
   {
    "duration": 11,
    "start_time": "2022-01-09T16:08:04.962Z"
   },
   {
    "duration": 17,
    "start_time": "2022-01-09T16:08:04.975Z"
   },
   {
    "duration": 14,
    "start_time": "2022-01-09T16:08:04.998Z"
   },
   {
    "duration": 36,
    "start_time": "2022-01-09T16:08:05.015Z"
   },
   {
    "duration": 17,
    "start_time": "2022-01-09T16:08:05.054Z"
   },
   {
    "duration": 26,
    "start_time": "2022-01-09T16:08:05.074Z"
   },
   {
    "duration": 11,
    "start_time": "2022-01-09T16:08:05.103Z"
   },
   {
    "duration": 25,
    "start_time": "2022-01-09T16:08:05.116Z"
   },
   {
    "duration": 32,
    "start_time": "2022-01-09T16:08:05.144Z"
   },
   {
    "duration": 32,
    "start_time": "2022-01-09T16:08:05.179Z"
   },
   {
    "duration": 15,
    "start_time": "2022-01-09T16:08:05.213Z"
   },
   {
    "duration": 15,
    "start_time": "2022-01-09T16:08:05.231Z"
   },
   {
    "duration": 26,
    "start_time": "2022-01-09T16:08:05.249Z"
   },
   {
    "duration": 39,
    "start_time": "2022-01-09T16:08:05.277Z"
   },
   {
    "duration": 13,
    "start_time": "2022-01-09T16:08:05.318Z"
   },
   {
    "duration": 35,
    "start_time": "2022-01-09T16:08:05.334Z"
   },
   {
    "duration": 18,
    "start_time": "2022-01-09T16:08:05.372Z"
   },
   {
    "duration": 33,
    "start_time": "2022-01-09T16:08:05.392Z"
   },
   {
    "duration": 30,
    "start_time": "2022-01-09T16:08:05.428Z"
   },
   {
    "duration": 41,
    "start_time": "2022-01-09T16:08:05.461Z"
   },
   {
    "duration": 9,
    "start_time": "2022-01-09T16:08:05.505Z"
   },
   {
    "duration": 22,
    "start_time": "2022-01-09T16:08:05.516Z"
   },
   {
    "duration": 56,
    "start_time": "2022-01-09T16:08:05.541Z"
   },
   {
    "duration": 853,
    "start_time": "2022-01-09T16:08:05.600Z"
   },
   {
    "duration": 10,
    "start_time": "2022-01-09T16:08:06.455Z"
   },
   {
    "duration": 72,
    "start_time": "2022-01-09T16:08:06.467Z"
   },
   {
    "duration": 15,
    "start_time": "2022-01-09T16:08:06.543Z"
   },
   {
    "duration": 2231,
    "start_time": "2022-01-09T16:08:06.562Z"
   },
   {
    "duration": 12,
    "start_time": "2022-01-09T16:08:08.796Z"
   },
   {
    "duration": 2347,
    "start_time": "2022-01-09T16:08:08.810Z"
   },
   {
    "duration": 14,
    "start_time": "2022-01-09T16:08:11.163Z"
   },
   {
    "duration": 476,
    "start_time": "2022-01-09T16:08:11.179Z"
   },
   {
    "duration": 14,
    "start_time": "2022-01-09T16:08:11.662Z"
   },
   {
    "duration": 746,
    "start_time": "2022-01-09T16:08:11.679Z"
   },
   {
    "duration": 14,
    "start_time": "2022-01-09T16:08:12.427Z"
   },
   {
    "duration": 562,
    "start_time": "2022-01-09T16:08:12.444Z"
   },
   {
    "duration": 231,
    "start_time": "2022-01-09T16:08:13.008Z"
   },
   {
    "duration": 5,
    "start_time": "2022-01-09T16:08:13.241Z"
   },
   {
    "duration": 12,
    "start_time": "2022-01-09T16:08:28.289Z"
   },
   {
    "duration": 611,
    "start_time": "2022-01-09T16:08:30.722Z"
   },
   {
    "duration": 9,
    "start_time": "2022-01-09T16:08:40.907Z"
   },
   {
    "duration": 721,
    "start_time": "2022-01-09T16:10:32.781Z"
   },
   {
    "duration": 300,
    "start_time": "2022-01-09T16:10:46.222Z"
   },
   {
    "duration": 11,
    "start_time": "2022-01-09T16:16:44.247Z"
   },
   {
    "duration": 10,
    "start_time": "2022-01-09T16:17:04.967Z"
   },
   {
    "duration": 385,
    "start_time": "2022-01-09T16:23:49.446Z"
   },
   {
    "duration": 409,
    "start_time": "2022-01-09T16:24:47.805Z"
   },
   {
    "duration": 23,
    "start_time": "2022-01-09T16:25:15.291Z"
   },
   {
    "duration": 20,
    "start_time": "2022-01-09T16:26:18.330Z"
   },
   {
    "duration": 26,
    "start_time": "2022-01-09T16:26:50.502Z"
   },
   {
    "duration": 61,
    "start_time": "2022-01-09T16:27:56.427Z"
   },
   {
    "duration": 12,
    "start_time": "2022-01-09T16:30:35.051Z"
   },
   {
    "duration": 141,
    "start_time": "2022-01-09T16:30:46.856Z"
   },
   {
    "duration": 10,
    "start_time": "2022-01-09T16:30:52.900Z"
   },
   {
    "duration": 11,
    "start_time": "2022-01-09T16:31:09.067Z"
   },
   {
    "duration": 69,
    "start_time": "2022-01-09T16:31:26.351Z"
   },
   {
    "duration": 69,
    "start_time": "2022-01-09T16:31:51.464Z"
   },
   {
    "duration": 63,
    "start_time": "2022-01-09T16:36:14.368Z"
   },
   {
    "duration": 12,
    "start_time": "2022-01-09T16:36:34.940Z"
   },
   {
    "duration": 621,
    "start_time": "2022-01-09T16:39:34.522Z"
   },
   {
    "duration": 12,
    "start_time": "2022-01-09T16:39:38.845Z"
   },
   {
    "duration": 203,
    "start_time": "2022-01-09T16:41:18.510Z"
   },
   {
    "duration": 9,
    "start_time": "2022-01-09T16:44:08.311Z"
   },
   {
    "duration": 173,
    "start_time": "2022-01-10T14:32:43.172Z"
   },
   {
    "duration": 561,
    "start_time": "2022-01-10T14:32:54.243Z"
   },
   {
    "duration": 85,
    "start_time": "2022-01-10T14:32:54.806Z"
   },
   {
    "duration": 11,
    "start_time": "2022-01-10T14:32:54.893Z"
   },
   {
    "duration": 5,
    "start_time": "2022-01-10T14:32:54.905Z"
   },
   {
    "duration": 10,
    "start_time": "2022-01-10T14:32:54.912Z"
   },
   {
    "duration": 4,
    "start_time": "2022-01-10T14:32:54.924Z"
   },
   {
    "duration": 12,
    "start_time": "2022-01-10T14:32:54.930Z"
   },
   {
    "duration": 5,
    "start_time": "2022-01-10T14:32:54.945Z"
   },
   {
    "duration": 42,
    "start_time": "2022-01-10T14:32:54.952Z"
   },
   {
    "duration": 6,
    "start_time": "2022-01-10T14:32:54.996Z"
   },
   {
    "duration": 10,
    "start_time": "2022-01-10T14:32:55.003Z"
   },
   {
    "duration": 6,
    "start_time": "2022-01-10T14:32:55.014Z"
   },
   {
    "duration": 6,
    "start_time": "2022-01-10T14:32:55.022Z"
   },
   {
    "duration": 6,
    "start_time": "2022-01-10T14:32:55.030Z"
   },
   {
    "duration": 6,
    "start_time": "2022-01-10T14:32:55.038Z"
   },
   {
    "duration": 49,
    "start_time": "2022-01-10T14:32:55.046Z"
   },
   {
    "duration": 13,
    "start_time": "2022-01-10T14:32:55.097Z"
   },
   {
    "duration": 6,
    "start_time": "2022-01-10T14:32:55.111Z"
   },
   {
    "duration": 10,
    "start_time": "2022-01-10T14:32:55.119Z"
   },
   {
    "duration": 10,
    "start_time": "2022-01-10T14:32:55.131Z"
   },
   {
    "duration": 6,
    "start_time": "2022-01-10T14:32:55.143Z"
   },
   {
    "duration": 41,
    "start_time": "2022-01-10T14:32:55.151Z"
   },
   {
    "duration": 6,
    "start_time": "2022-01-10T14:32:55.197Z"
   },
   {
    "duration": 6,
    "start_time": "2022-01-10T14:32:55.205Z"
   },
   {
    "duration": 5,
    "start_time": "2022-01-10T14:32:55.213Z"
   },
   {
    "duration": 10,
    "start_time": "2022-01-10T14:32:55.220Z"
   },
   {
    "duration": 5,
    "start_time": "2022-01-10T14:32:55.232Z"
   },
   {
    "duration": 6,
    "start_time": "2022-01-10T14:32:55.239Z"
   },
   {
    "duration": 49,
    "start_time": "2022-01-10T14:32:55.246Z"
   },
   {
    "duration": 6,
    "start_time": "2022-01-10T14:32:55.296Z"
   },
   {
    "duration": 8,
    "start_time": "2022-01-10T14:32:55.304Z"
   },
   {
    "duration": 5,
    "start_time": "2022-01-10T14:32:55.313Z"
   },
   {
    "duration": 6,
    "start_time": "2022-01-10T14:32:55.320Z"
   },
   {
    "duration": 29,
    "start_time": "2022-01-10T14:32:55.327Z"
   },
   {
    "duration": 9,
    "start_time": "2022-01-10T14:32:55.392Z"
   },
   {
    "duration": 8,
    "start_time": "2022-01-10T14:32:55.403Z"
   },
   {
    "duration": 6,
    "start_time": "2022-01-10T14:32:55.412Z"
   },
   {
    "duration": 6,
    "start_time": "2022-01-10T14:32:55.420Z"
   },
   {
    "duration": 13,
    "start_time": "2022-01-10T14:32:55.428Z"
   },
   {
    "duration": 58,
    "start_time": "2022-01-10T14:32:55.443Z"
   },
   {
    "duration": 6,
    "start_time": "2022-01-10T14:32:55.502Z"
   },
   {
    "duration": 7,
    "start_time": "2022-01-10T14:32:55.509Z"
   },
   {
    "duration": 24,
    "start_time": "2022-01-10T14:32:55.517Z"
   },
   {
    "duration": 516,
    "start_time": "2022-01-10T14:32:55.543Z"
   },
   {
    "duration": 3,
    "start_time": "2022-01-10T14:32:56.061Z"
   },
   {
    "duration": 35,
    "start_time": "2022-01-10T14:32:56.066Z"
   },
   {
    "duration": 7,
    "start_time": "2022-01-10T14:32:56.103Z"
   },
   {
    "duration": 1365,
    "start_time": "2022-01-10T14:32:56.112Z"
   },
   {
    "duration": 17,
    "start_time": "2022-01-10T14:32:57.478Z"
   },
   {
    "duration": 1328,
    "start_time": "2022-01-10T14:32:57.497Z"
   },
   {
    "duration": 8,
    "start_time": "2022-01-10T14:32:58.827Z"
   },
   {
    "duration": 300,
    "start_time": "2022-01-10T14:32:58.836Z"
   },
   {
    "duration": 9,
    "start_time": "2022-01-10T14:32:59.137Z"
   },
   {
    "duration": 470,
    "start_time": "2022-01-10T14:32:59.147Z"
   },
   {
    "duration": 8,
    "start_time": "2022-01-10T14:32:59.619Z"
   },
   {
    "duration": 347,
    "start_time": "2022-01-10T14:32:59.628Z"
   },
   {
    "duration": 141,
    "start_time": "2022-01-10T14:32:59.977Z"
   },
   {
    "duration": 4,
    "start_time": "2022-01-10T14:33:00.120Z"
   },
   {
    "duration": 12,
    "start_time": "2022-01-10T14:33:00.125Z"
   },
   {
    "duration": 405,
    "start_time": "2022-01-10T14:33:00.139Z"
   },
   {
    "duration": 8,
    "start_time": "2022-01-10T14:33:00.546Z"
   },
   {
    "duration": 50,
    "start_time": "2022-01-10T14:33:00.556Z"
   },
   {
    "duration": 506,
    "start_time": "2022-01-10T14:33:00.608Z"
   },
   {
    "duration": 141,
    "start_time": "2022-01-10T14:33:01.117Z"
   },
   {
    "duration": 9,
    "start_time": "2022-01-10T14:33:01.260Z"
   },
   {
    "duration": 64,
    "start_time": "2022-01-10T14:33:01.271Z"
   },
   {
    "duration": 417,
    "start_time": "2022-01-10T14:33:01.337Z"
   },
   {
    "duration": 9,
    "start_time": "2022-01-10T14:33:01.760Z"
   },
   {
    "duration": 147,
    "start_time": "2022-01-10T14:33:01.771Z"
   },
   {
    "duration": 342,
    "start_time": "2022-01-10T14:33:04.493Z"
   },
   {
    "duration": 239,
    "start_time": "2022-01-10T14:33:49.003Z"
   },
   {
    "duration": 141,
    "start_time": "2022-01-10T14:36:33.370Z"
   },
   {
    "duration": 212,
    "start_time": "2022-01-10T14:36:58.251Z"
   },
   {
    "duration": 210,
    "start_time": "2022-01-10T14:38:28.043Z"
   },
   {
    "duration": 201,
    "start_time": "2022-01-10T14:38:53.801Z"
   },
   {
    "duration": 255,
    "start_time": "2022-01-10T14:40:22.540Z"
   },
   {
    "duration": 155,
    "start_time": "2022-01-10T14:43:29.479Z"
   },
   {
    "duration": 247,
    "start_time": "2022-01-10T14:43:51.451Z"
   },
   {
    "duration": 5139,
    "start_time": "2022-01-10T14:47:42.321Z"
   },
   {
    "duration": -26,
    "start_time": "2022-01-10T14:48:09.867Z"
   },
   {
    "duration": 518,
    "start_time": "2022-01-10T14:48:17.813Z"
   },
   {
    "duration": 1251,
    "start_time": "2022-01-10T19:13:03.814Z"
   },
   {
    "duration": 135,
    "start_time": "2022-01-10T19:13:05.069Z"
   },
   {
    "duration": 16,
    "start_time": "2022-01-10T19:13:05.208Z"
   },
   {
    "duration": 7,
    "start_time": "2022-01-10T19:13:05.226Z"
   },
   {
    "duration": 35,
    "start_time": "2022-01-10T19:13:05.235Z"
   },
   {
    "duration": 13,
    "start_time": "2022-01-10T19:13:05.272Z"
   },
   {
    "duration": 14,
    "start_time": "2022-01-10T19:13:05.288Z"
   },
   {
    "duration": 7,
    "start_time": "2022-01-10T19:13:05.306Z"
   },
   {
    "duration": 51,
    "start_time": "2022-01-10T19:13:05.316Z"
   },
   {
    "duration": 19,
    "start_time": "2022-01-10T19:13:05.370Z"
   },
   {
    "duration": 11,
    "start_time": "2022-01-10T19:13:05.392Z"
   },
   {
    "duration": 10,
    "start_time": "2022-01-10T19:13:05.406Z"
   },
   {
    "duration": 48,
    "start_time": "2022-01-10T19:13:05.418Z"
   },
   {
    "duration": 13,
    "start_time": "2022-01-10T19:13:05.470Z"
   },
   {
    "duration": 8,
    "start_time": "2022-01-10T19:13:05.485Z"
   },
   {
    "duration": 10,
    "start_time": "2022-01-10T19:13:05.496Z"
   },
   {
    "duration": 67,
    "start_time": "2022-01-10T19:13:05.508Z"
   },
   {
    "duration": 15,
    "start_time": "2022-01-10T19:13:05.578Z"
   },
   {
    "duration": 9,
    "start_time": "2022-01-10T19:13:05.595Z"
   },
   {
    "duration": 11,
    "start_time": "2022-01-10T19:13:05.606Z"
   },
   {
    "duration": 47,
    "start_time": "2022-01-10T19:13:05.619Z"
   },
   {
    "duration": 15,
    "start_time": "2022-01-10T19:13:05.669Z"
   },
   {
    "duration": 11,
    "start_time": "2022-01-10T19:13:05.695Z"
   },
   {
    "duration": 47,
    "start_time": "2022-01-10T19:13:05.712Z"
   },
   {
    "duration": 14,
    "start_time": "2022-01-10T19:13:05.762Z"
   },
   {
    "duration": 21,
    "start_time": "2022-01-10T19:13:05.779Z"
   },
   {
    "duration": 8,
    "start_time": "2022-01-10T19:13:05.803Z"
   },
   {
    "duration": 52,
    "start_time": "2022-01-10T19:13:05.814Z"
   },
   {
    "duration": 14,
    "start_time": "2022-01-10T19:13:05.869Z"
   },
   {
    "duration": 10,
    "start_time": "2022-01-10T19:13:05.887Z"
   },
   {
    "duration": 16,
    "start_time": "2022-01-10T19:13:05.900Z"
   },
   {
    "duration": 11,
    "start_time": "2022-01-10T19:13:05.961Z"
   },
   {
    "duration": 22,
    "start_time": "2022-01-10T19:13:05.975Z"
   },
   {
    "duration": 66,
    "start_time": "2022-01-10T19:13:06.000Z"
   },
   {
    "duration": 29,
    "start_time": "2022-01-10T19:13:06.069Z"
   },
   {
    "duration": 13,
    "start_time": "2022-01-10T19:13:06.101Z"
   },
   {
    "duration": 8,
    "start_time": "2022-01-10T19:13:06.117Z"
   },
   {
    "duration": 8,
    "start_time": "2022-01-10T19:13:06.128Z"
   },
   {
    "duration": 29,
    "start_time": "2022-01-10T19:13:06.166Z"
   },
   {
    "duration": 38,
    "start_time": "2022-01-10T19:13:06.198Z"
   },
   {
    "duration": 11,
    "start_time": "2022-01-10T19:13:06.261Z"
   },
   {
    "duration": 13,
    "start_time": "2022-01-10T19:13:06.276Z"
   },
   {
    "duration": 73,
    "start_time": "2022-01-10T19:13:06.292Z"
   },
   {
    "duration": 866,
    "start_time": "2022-01-10T19:13:06.368Z"
   },
   {
    "duration": 6,
    "start_time": "2022-01-10T19:13:07.236Z"
   },
   {
    "duration": 44,
    "start_time": "2022-01-10T19:13:07.260Z"
   },
   {
    "duration": 13,
    "start_time": "2022-01-10T19:13:07.308Z"
   },
   {
    "duration": 2348,
    "start_time": "2022-01-10T19:13:07.325Z"
   },
   {
    "duration": 15,
    "start_time": "2022-01-10T19:13:09.676Z"
   },
   {
    "duration": 2306,
    "start_time": "2022-01-10T19:13:09.693Z"
   },
   {
    "duration": 10,
    "start_time": "2022-01-10T19:13:12.001Z"
   },
   {
    "duration": 560,
    "start_time": "2022-01-10T19:13:12.013Z"
   },
   {
    "duration": 15,
    "start_time": "2022-01-10T19:13:12.576Z"
   },
   {
    "duration": 839,
    "start_time": "2022-01-10T19:13:12.593Z"
   },
   {
    "duration": 10,
    "start_time": "2022-01-10T19:13:13.435Z"
   },
   {
    "duration": 734,
    "start_time": "2022-01-10T19:13:13.447Z"
   },
   {
    "duration": 242,
    "start_time": "2022-01-10T19:13:14.183Z"
   },
   {
    "duration": 6,
    "start_time": "2022-01-10T19:13:14.427Z"
   },
   {
    "duration": 33,
    "start_time": "2022-01-10T19:13:14.435Z"
   },
   {
    "duration": 705,
    "start_time": "2022-01-10T19:13:14.473Z"
   },
   {
    "duration": 12,
    "start_time": "2022-01-10T19:13:15.182Z"
   },
   {
    "duration": 98,
    "start_time": "2022-01-10T19:13:15.197Z"
   },
   {
    "duration": 843,
    "start_time": "2022-01-10T19:13:15.299Z"
   },
   {
    "duration": 222,
    "start_time": "2022-01-10T19:13:16.144Z"
   },
   {
    "duration": 22,
    "start_time": "2022-01-10T19:13:16.371Z"
   },
   {
    "duration": 86,
    "start_time": "2022-01-10T19:13:16.396Z"
   },
   {
    "duration": 709,
    "start_time": "2022-01-10T19:13:16.484Z"
   },
   {
    "duration": 12,
    "start_time": "2022-01-10T19:13:17.200Z"
   },
   {
    "duration": 229,
    "start_time": "2022-01-10T19:13:17.215Z"
   },
   {
    "duration": 374,
    "start_time": "2022-01-10T19:13:17.446Z"
   },
   {
    "duration": 381,
    "start_time": "2022-01-10T19:13:17.824Z"
   },
   {
    "duration": 324,
    "start_time": "2022-01-10T19:13:18.208Z"
   },
   {
    "duration": 798,
    "start_time": "2022-01-10T19:13:18.536Z"
   },
   {
    "duration": 548,
    "start_time": "2022-01-10T19:16:26.432Z"
   },
   {
    "duration": 346,
    "start_time": "2022-01-10T19:16:36.943Z"
   },
   {
    "duration": 8,
    "start_time": "2022-01-10T19:19:04.505Z"
   },
   {
    "duration": 7,
    "start_time": "2022-01-10T19:19:11.609Z"
   },
   {
    "duration": 641,
    "start_time": "2022-01-10T19:21:27.336Z"
   },
   {
    "duration": 409,
    "start_time": "2022-01-10T19:21:37.707Z"
   },
   {
    "duration": 360,
    "start_time": "2022-01-10T19:25:16.356Z"
   },
   {
    "duration": 1011,
    "start_time": "2022-01-11T04:58:10.606Z"
   },
   {
    "duration": 129,
    "start_time": "2022-01-11T04:58:11.620Z"
   },
   {
    "duration": 27,
    "start_time": "2022-01-11T04:58:11.752Z"
   },
   {
    "duration": 6,
    "start_time": "2022-01-11T04:58:11.782Z"
   },
   {
    "duration": 12,
    "start_time": "2022-01-11T04:58:11.790Z"
   },
   {
    "duration": 7,
    "start_time": "2022-01-11T04:58:11.804Z"
   },
   {
    "duration": 58,
    "start_time": "2022-01-11T04:58:11.813Z"
   },
   {
    "duration": 11,
    "start_time": "2022-01-11T04:58:11.875Z"
   },
   {
    "duration": 7,
    "start_time": "2022-01-11T04:58:11.891Z"
   },
   {
    "duration": 9,
    "start_time": "2022-01-11T04:58:11.901Z"
   },
   {
    "duration": 48,
    "start_time": "2022-01-11T04:58:11.913Z"
   },
   {
    "duration": 9,
    "start_time": "2022-01-11T04:58:11.964Z"
   },
   {
    "duration": 11,
    "start_time": "2022-01-11T04:58:11.976Z"
   },
   {
    "duration": 9,
    "start_time": "2022-01-11T04:58:11.990Z"
   },
   {
    "duration": 7,
    "start_time": "2022-01-11T04:58:12.001Z"
   },
   {
    "duration": 58,
    "start_time": "2022-01-11T04:58:12.011Z"
   },
   {
    "duration": 20,
    "start_time": "2022-01-11T04:58:12.071Z"
   },
   {
    "duration": 11,
    "start_time": "2022-01-11T04:58:12.094Z"
   },
   {
    "duration": 58,
    "start_time": "2022-01-11T04:58:12.108Z"
   },
   {
    "duration": 28,
    "start_time": "2022-01-11T04:58:12.168Z"
   },
   {
    "duration": 16,
    "start_time": "2022-01-11T04:58:12.204Z"
   },
   {
    "duration": 15,
    "start_time": "2022-01-11T04:58:12.223Z"
   },
   {
    "duration": 16,
    "start_time": "2022-01-11T04:58:12.260Z"
   },
   {
    "duration": 21,
    "start_time": "2022-01-11T04:58:12.279Z"
   },
   {
    "duration": 9,
    "start_time": "2022-01-11T04:58:12.303Z"
   },
   {
    "duration": 48,
    "start_time": "2022-01-11T04:58:12.314Z"
   },
   {
    "duration": 10,
    "start_time": "2022-01-11T04:58:12.372Z"
   },
   {
    "duration": 8,
    "start_time": "2022-01-11T04:58:12.386Z"
   },
   {
    "duration": 10,
    "start_time": "2022-01-11T04:58:12.397Z"
   },
   {
    "duration": 52,
    "start_time": "2022-01-11T04:58:12.410Z"
   },
   {
    "duration": 21,
    "start_time": "2022-01-11T04:58:12.465Z"
   },
   {
    "duration": 8,
    "start_time": "2022-01-11T04:58:12.488Z"
   },
   {
    "duration": 9,
    "start_time": "2022-01-11T04:58:12.498Z"
   },
   {
    "duration": 81,
    "start_time": "2022-01-11T04:58:12.509Z"
   },
   {
    "duration": 14,
    "start_time": "2022-01-11T04:58:12.593Z"
   },
   {
    "duration": 10,
    "start_time": "2022-01-11T04:58:12.610Z"
   },
   {
    "duration": 38,
    "start_time": "2022-01-11T04:58:12.622Z"
   },
   {
    "duration": 9,
    "start_time": "2022-01-11T04:58:12.664Z"
   },
   {
    "duration": 19,
    "start_time": "2022-01-11T04:58:12.676Z"
   },
   {
    "duration": 63,
    "start_time": "2022-01-11T04:58:12.698Z"
   },
   {
    "duration": 11,
    "start_time": "2022-01-11T04:58:12.764Z"
   },
   {
    "duration": 15,
    "start_time": "2022-01-11T04:58:12.778Z"
   },
   {
    "duration": 42,
    "start_time": "2022-01-11T04:58:12.796Z"
   },
   {
    "duration": 877,
    "start_time": "2022-01-11T04:58:12.860Z"
   },
   {
    "duration": 5,
    "start_time": "2022-01-11T04:58:13.739Z"
   },
   {
    "duration": 42,
    "start_time": "2022-01-11T04:58:13.759Z"
   },
   {
    "duration": 12,
    "start_time": "2022-01-11T04:58:13.804Z"
   },
   {
    "duration": 2419,
    "start_time": "2022-01-11T04:58:13.819Z"
   },
   {
    "duration": 23,
    "start_time": "2022-01-11T04:58:16.242Z"
   },
   {
    "duration": 2197,
    "start_time": "2022-01-11T04:58:16.268Z"
   },
   {
    "duration": 15,
    "start_time": "2022-01-11T04:58:18.468Z"
   },
   {
    "duration": 498,
    "start_time": "2022-01-11T04:58:18.486Z"
   },
   {
    "duration": 12,
    "start_time": "2022-01-11T04:58:18.986Z"
   },
   {
    "duration": 753,
    "start_time": "2022-01-11T04:58:19.000Z"
   },
   {
    "duration": 15,
    "start_time": "2022-01-11T04:58:19.755Z"
   },
   {
    "duration": 590,
    "start_time": "2022-01-11T04:58:19.773Z"
   },
   {
    "duration": 236,
    "start_time": "2022-01-11T04:58:20.366Z"
   },
   {
    "duration": 5,
    "start_time": "2022-01-11T04:58:20.605Z"
   },
   {
    "duration": 12,
    "start_time": "2022-01-11T04:58:20.612Z"
   },
   {
    "duration": 799,
    "start_time": "2022-01-11T04:58:20.626Z"
   },
   {
    "duration": 8,
    "start_time": "2022-01-11T04:58:21.428Z"
   },
   {
    "duration": 79,
    "start_time": "2022-01-11T04:58:21.438Z"
   },
   {
    "duration": 758,
    "start_time": "2022-01-11T04:58:21.520Z"
   },
   {
    "duration": 221,
    "start_time": "2022-01-11T04:58:22.281Z"
   },
   {
    "duration": 10,
    "start_time": "2022-01-11T04:58:22.504Z"
   },
   {
    "duration": 91,
    "start_time": "2022-01-11T04:58:22.517Z"
   },
   {
    "duration": 658,
    "start_time": "2022-01-11T04:58:22.610Z"
   },
   {
    "duration": 16,
    "start_time": "2022-01-11T04:58:23.271Z"
   },
   {
    "duration": 237,
    "start_time": "2022-01-11T04:58:23.290Z"
   },
   {
    "duration": 383,
    "start_time": "2022-01-11T04:58:23.529Z"
   },
   {
    "duration": 377,
    "start_time": "2022-01-11T04:58:23.915Z"
   },
   {
    "duration": 399,
    "start_time": "2022-01-11T04:58:24.295Z"
   },
   {
    "duration": 763,
    "start_time": "2022-01-11T04:58:24.696Z"
   },
   {
    "duration": 370,
    "start_time": "2022-01-11T04:58:25.463Z"
   },
   {
    "duration": 449,
    "start_time": "2022-01-11T04:58:25.837Z"
   },
   {
    "duration": 358,
    "start_time": "2022-01-11T04:58:26.288Z"
   },
   {
    "duration": 462,
    "start_time": "2022-01-11T05:00:16.791Z"
   },
   {
    "duration": 34,
    "start_time": "2022-01-11T05:00:28.761Z"
   },
   {
    "duration": 36,
    "start_time": "2022-01-11T05:00:45.101Z"
   },
   {
    "duration": 13,
    "start_time": "2022-01-11T05:02:05.410Z"
   },
   {
    "duration": 16,
    "start_time": "2022-01-11T05:03:01.941Z"
   },
   {
    "duration": 878,
    "start_time": "2022-01-11T05:04:32.714Z"
   },
   {
    "duration": 137,
    "start_time": "2022-01-11T05:04:33.594Z"
   },
   {
    "duration": 30,
    "start_time": "2022-01-11T05:04:33.734Z"
   },
   {
    "duration": 9,
    "start_time": "2022-01-11T05:04:33.768Z"
   },
   {
    "duration": 10,
    "start_time": "2022-01-11T05:04:33.780Z"
   },
   {
    "duration": 6,
    "start_time": "2022-01-11T05:04:33.792Z"
   },
   {
    "duration": 68,
    "start_time": "2022-01-11T05:04:33.800Z"
   },
   {
    "duration": 14,
    "start_time": "2022-01-11T05:04:33.871Z"
   },
   {
    "duration": 7,
    "start_time": "2022-01-11T05:04:33.889Z"
   },
   {
    "duration": 12,
    "start_time": "2022-01-11T05:04:33.901Z"
   },
   {
    "duration": 53,
    "start_time": "2022-01-11T05:04:33.916Z"
   },
   {
    "duration": 12,
    "start_time": "2022-01-11T05:04:33.972Z"
   },
   {
    "duration": 11,
    "start_time": "2022-01-11T05:04:33.987Z"
   },
   {
    "duration": 9,
    "start_time": "2022-01-11T05:04:34.002Z"
   },
   {
    "duration": 50,
    "start_time": "2022-01-11T05:04:34.015Z"
   },
   {
    "duration": 15,
    "start_time": "2022-01-11T05:04:34.068Z"
   },
   {
    "duration": 19,
    "start_time": "2022-01-11T05:04:34.085Z"
   },
   {
    "duration": 12,
    "start_time": "2022-01-11T05:04:34.106Z"
   },
   {
    "duration": 14,
    "start_time": "2022-01-11T05:04:34.161Z"
   },
   {
    "duration": 15,
    "start_time": "2022-01-11T05:04:34.177Z"
   },
   {
    "duration": 8,
    "start_time": "2022-01-11T05:04:34.195Z"
   },
   {
    "duration": 12,
    "start_time": "2022-01-11T05:04:34.206Z"
   },
   {
    "duration": 53,
    "start_time": "2022-01-11T05:04:34.221Z"
   },
   {
    "duration": 11,
    "start_time": "2022-01-11T05:04:34.277Z"
   },
   {
    "duration": 11,
    "start_time": "2022-01-11T05:04:34.292Z"
   },
   {
    "duration": 60,
    "start_time": "2022-01-11T05:04:34.306Z"
   },
   {
    "duration": 10,
    "start_time": "2022-01-11T05:04:34.376Z"
   },
   {
    "duration": 12,
    "start_time": "2022-01-11T05:04:34.392Z"
   },
   {
    "duration": 54,
    "start_time": "2022-01-11T05:04:34.406Z"
   },
   {
    "duration": 11,
    "start_time": "2022-01-11T05:04:34.463Z"
   },
   {
    "duration": 18,
    "start_time": "2022-01-11T05:04:34.476Z"
   },
   {
    "duration": 11,
    "start_time": "2022-01-11T05:04:34.497Z"
   },
   {
    "duration": 51,
    "start_time": "2022-01-11T05:04:34.510Z"
   },
   {
    "duration": 52,
    "start_time": "2022-01-11T05:04:34.564Z"
   },
   {
    "duration": 13,
    "start_time": "2022-01-11T05:04:34.619Z"
   },
   {
    "duration": 38,
    "start_time": "2022-01-11T05:04:34.634Z"
   },
   {
    "duration": 18,
    "start_time": "2022-01-11T05:04:34.675Z"
   },
   {
    "duration": 14,
    "start_time": "2022-01-11T05:04:34.695Z"
   },
   {
    "duration": 26,
    "start_time": "2022-01-11T05:04:34.711Z"
   },
   {
    "duration": 57,
    "start_time": "2022-01-11T05:04:34.740Z"
   },
   {
    "duration": 8,
    "start_time": "2022-01-11T05:04:34.799Z"
   },
   {
    "duration": 8,
    "start_time": "2022-01-11T05:04:34.809Z"
   },
   {
    "duration": 72,
    "start_time": "2022-01-11T05:04:34.819Z"
   },
   {
    "duration": 883,
    "start_time": "2022-01-11T05:04:34.893Z"
   },
   {
    "duration": 5,
    "start_time": "2022-01-11T05:04:35.779Z"
   },
   {
    "duration": 83,
    "start_time": "2022-01-11T05:04:35.787Z"
   },
   {
    "duration": 16,
    "start_time": "2022-01-11T05:04:35.873Z"
   },
   {
    "duration": 2507,
    "start_time": "2022-01-11T05:04:35.892Z"
   },
   {
    "duration": 12,
    "start_time": "2022-01-11T05:04:38.401Z"
   },
   {
    "duration": 2260,
    "start_time": "2022-01-11T05:04:38.415Z"
   },
   {
    "duration": 12,
    "start_time": "2022-01-11T05:04:40.678Z"
   },
   {
    "duration": 606,
    "start_time": "2022-01-11T05:04:40.693Z"
   },
   {
    "duration": 11,
    "start_time": "2022-01-11T05:04:41.302Z"
   },
   {
    "duration": 760,
    "start_time": "2022-01-11T05:04:41.316Z"
   },
   {
    "duration": 14,
    "start_time": "2022-01-11T05:04:42.079Z"
   },
   {
    "duration": 637,
    "start_time": "2022-01-11T05:04:42.097Z"
   },
   {
    "duration": 243,
    "start_time": "2022-01-11T05:04:42.737Z"
   },
   {
    "duration": 5,
    "start_time": "2022-01-11T05:04:42.982Z"
   },
   {
    "duration": 19,
    "start_time": "2022-01-11T05:04:42.989Z"
   },
   {
    "duration": 675,
    "start_time": "2022-01-11T05:04:43.011Z"
   },
   {
    "duration": 9,
    "start_time": "2022-01-11T05:04:43.688Z"
   },
   {
    "duration": 81,
    "start_time": "2022-01-11T05:04:43.699Z"
   },
   {
    "duration": 767,
    "start_time": "2022-01-11T05:04:43.782Z"
   },
   {
    "duration": 211,
    "start_time": "2022-01-11T05:04:44.552Z"
   },
   {
    "duration": 14,
    "start_time": "2022-01-11T05:04:44.767Z"
   },
   {
    "duration": 96,
    "start_time": "2022-01-11T05:04:44.784Z"
   },
   {
    "duration": 662,
    "start_time": "2022-01-11T05:04:44.886Z"
   },
   {
    "duration": 20,
    "start_time": "2022-01-11T05:04:45.550Z"
   },
   {
    "duration": 228,
    "start_time": "2022-01-11T05:04:45.575Z"
   },
   {
    "duration": 370,
    "start_time": "2022-01-11T05:04:45.806Z"
   },
   {
    "duration": 565,
    "start_time": "2022-01-11T05:04:46.179Z"
   },
   {
    "duration": 471,
    "start_time": "2022-01-11T05:04:46.747Z"
   },
   {
    "duration": 781,
    "start_time": "2022-01-11T05:04:47.221Z"
   },
   {
    "duration": 372,
    "start_time": "2022-01-11T05:04:48.006Z"
   },
   {
    "duration": 438,
    "start_time": "2022-01-11T05:04:48.382Z"
   },
   {
    "duration": 361,
    "start_time": "2022-01-11T05:04:48.822Z"
   },
   {
    "duration": 36,
    "start_time": "2022-01-11T05:04:49.186Z"
   },
   {
    "duration": 10,
    "start_time": "2022-01-11T05:04:49.224Z"
   },
   {
    "duration": 35,
    "start_time": "2022-01-11T05:04:49.236Z"
   },
   {
    "duration": 38,
    "start_time": "2022-01-11T05:06:40.092Z"
   },
   {
    "duration": 36,
    "start_time": "2022-01-11T05:06:56.585Z"
   },
   {
    "duration": 59,
    "start_time": "2022-01-11T05:14:34.753Z"
   },
   {
    "duration": 5,
    "start_time": "2022-01-11T05:15:54.283Z"
   },
   {
    "duration": 6,
    "start_time": "2022-01-11T05:16:46.872Z"
   },
   {
    "duration": 530,
    "start_time": "2022-01-11T05:17:23.810Z"
   },
   {
    "duration": 330,
    "start_time": "2022-01-11T05:17:43.621Z"
   },
   {
    "duration": 332,
    "start_time": "2022-01-11T05:18:30.905Z"
   },
   {
    "duration": 419,
    "start_time": "2022-01-11T05:19:05.969Z"
   },
   {
    "duration": 596,
    "start_time": "2022-01-11T19:05:25.510Z"
   },
   {
    "duration": 88,
    "start_time": "2022-01-11T19:05:26.107Z"
   },
   {
    "duration": 9,
    "start_time": "2022-01-11T19:05:26.197Z"
   },
   {
    "duration": 5,
    "start_time": "2022-01-11T19:05:26.208Z"
   },
   {
    "duration": 7,
    "start_time": "2022-01-11T19:05:26.215Z"
   },
   {
    "duration": 5,
    "start_time": "2022-01-11T19:05:26.224Z"
   },
   {
    "duration": 9,
    "start_time": "2022-01-11T19:05:26.231Z"
   },
   {
    "duration": 51,
    "start_time": "2022-01-11T19:05:26.243Z"
   },
   {
    "duration": 7,
    "start_time": "2022-01-11T19:05:26.296Z"
   },
   {
    "duration": 8,
    "start_time": "2022-01-11T19:05:26.305Z"
   },
   {
    "duration": 8,
    "start_time": "2022-01-11T19:05:26.315Z"
   },
   {
    "duration": 7,
    "start_time": "2022-01-11T19:05:26.324Z"
   },
   {
    "duration": 7,
    "start_time": "2022-01-11T19:05:26.333Z"
   },
   {
    "duration": 55,
    "start_time": "2022-01-11T19:05:26.341Z"
   },
   {
    "duration": 6,
    "start_time": "2022-01-11T19:05:26.398Z"
   },
   {
    "duration": 8,
    "start_time": "2022-01-11T19:05:26.406Z"
   },
   {
    "duration": 13,
    "start_time": "2022-01-11T19:05:26.416Z"
   },
   {
    "duration": 7,
    "start_time": "2022-01-11T19:05:26.430Z"
   },
   {
    "duration": 54,
    "start_time": "2022-01-11T19:05:26.438Z"
   },
   {
    "duration": 7,
    "start_time": "2022-01-11T19:05:26.494Z"
   },
   {
    "duration": 6,
    "start_time": "2022-01-11T19:05:26.503Z"
   },
   {
    "duration": 9,
    "start_time": "2022-01-11T19:05:26.510Z"
   },
   {
    "duration": 5,
    "start_time": "2022-01-11T19:05:26.523Z"
   },
   {
    "duration": 7,
    "start_time": "2022-01-11T19:05:26.530Z"
   },
   {
    "duration": 5,
    "start_time": "2022-01-11T19:05:26.539Z"
   },
   {
    "duration": 52,
    "start_time": "2022-01-11T19:05:26.546Z"
   },
   {
    "duration": 6,
    "start_time": "2022-01-11T19:05:26.600Z"
   },
   {
    "duration": 18,
    "start_time": "2022-01-11T19:05:26.607Z"
   },
   {
    "duration": 9,
    "start_time": "2022-01-11T19:05:26.626Z"
   },
   {
    "duration": 7,
    "start_time": "2022-01-11T19:05:26.637Z"
   },
   {
    "duration": 15,
    "start_time": "2022-01-11T19:05:26.645Z"
   },
   {
    "duration": 29,
    "start_time": "2022-01-11T19:05:26.662Z"
   },
   {
    "duration": 7,
    "start_time": "2022-01-11T19:05:26.694Z"
   },
   {
    "duration": 39,
    "start_time": "2022-01-11T19:05:26.702Z"
   },
   {
    "duration": 9,
    "start_time": "2022-01-11T19:05:26.743Z"
   },
   {
    "duration": 8,
    "start_time": "2022-01-11T19:05:26.754Z"
   },
   {
    "duration": 27,
    "start_time": "2022-01-11T19:05:26.764Z"
   },
   {
    "duration": 5,
    "start_time": "2022-01-11T19:05:26.793Z"
   },
   {
    "duration": 21,
    "start_time": "2022-01-11T19:05:26.799Z"
   },
   {
    "duration": 24,
    "start_time": "2022-01-11T19:05:26.821Z"
   },
   {
    "duration": 6,
    "start_time": "2022-01-11T19:05:26.846Z"
   },
   {
    "duration": 7,
    "start_time": "2022-01-11T19:05:26.853Z"
   },
   {
    "duration": 45,
    "start_time": "2022-01-11T19:05:26.861Z"
   },
   {
    "duration": 504,
    "start_time": "2022-01-11T19:05:26.908Z"
   },
   {
    "duration": 4,
    "start_time": "2022-01-11T19:05:27.414Z"
   },
   {
    "duration": 26,
    "start_time": "2022-01-11T19:05:27.419Z"
   },
   {
    "duration": 8,
    "start_time": "2022-01-11T19:05:27.446Z"
   },
   {
    "duration": 1409,
    "start_time": "2022-01-11T19:05:27.456Z"
   },
   {
    "duration": 9,
    "start_time": "2022-01-11T19:05:28.867Z"
   },
   {
    "duration": 1344,
    "start_time": "2022-01-11T19:05:28.878Z"
   },
   {
    "duration": 8,
    "start_time": "2022-01-11T19:05:30.224Z"
   },
   {
    "duration": 304,
    "start_time": "2022-01-11T19:05:30.234Z"
   },
   {
    "duration": 9,
    "start_time": "2022-01-11T19:05:30.539Z"
   },
   {
    "duration": 462,
    "start_time": "2022-01-11T19:05:30.549Z"
   },
   {
    "duration": 8,
    "start_time": "2022-01-11T19:05:31.016Z"
   },
   {
    "duration": 378,
    "start_time": "2022-01-11T19:05:31.027Z"
   },
   {
    "duration": 147,
    "start_time": "2022-01-11T19:05:31.407Z"
   },
   {
    "duration": 4,
    "start_time": "2022-01-11T19:05:31.556Z"
   },
   {
    "duration": 11,
    "start_time": "2022-01-11T19:05:31.561Z"
   },
   {
    "duration": 393,
    "start_time": "2022-01-11T19:05:31.574Z"
   },
   {
    "duration": 6,
    "start_time": "2022-01-11T19:05:31.969Z"
   },
   {
    "duration": 45,
    "start_time": "2022-01-11T19:05:31.977Z"
   },
   {
    "duration": 472,
    "start_time": "2022-01-11T19:05:32.024Z"
   },
   {
    "duration": 132,
    "start_time": "2022-01-11T19:05:32.497Z"
   },
   {
    "duration": 7,
    "start_time": "2022-01-11T19:05:32.631Z"
   },
   {
    "duration": 34,
    "start_time": "2022-01-11T19:05:32.640Z"
   },
   {
    "duration": 395,
    "start_time": "2022-01-11T19:05:32.692Z"
   },
   {
    "duration": 8,
    "start_time": "2022-01-11T19:05:33.091Z"
   },
   {
    "duration": 139,
    "start_time": "2022-01-11T19:05:33.101Z"
   },
   {
    "duration": 216,
    "start_time": "2022-01-11T19:05:33.242Z"
   },
   {
    "duration": 239,
    "start_time": "2022-01-11T19:05:33.460Z"
   },
   {
    "duration": 197,
    "start_time": "2022-01-11T19:05:33.701Z"
   },
   {
    "duration": 471,
    "start_time": "2022-01-11T19:05:33.900Z"
   },
   {
    "duration": 218,
    "start_time": "2022-01-11T19:05:34.373Z"
   },
   {
    "duration": 284,
    "start_time": "2022-01-11T19:05:34.593Z"
   },
   {
    "duration": 227,
    "start_time": "2022-01-11T19:05:34.878Z"
   },
   {
    "duration": 24,
    "start_time": "2022-01-11T19:05:35.107Z"
   },
   {
    "duration": 7,
    "start_time": "2022-01-11T19:05:35.132Z"
   },
   {
    "duration": 8,
    "start_time": "2022-01-11T19:05:35.141Z"
   },
   {
    "duration": 48,
    "start_time": "2022-01-11T19:05:35.151Z"
   },
   {
    "duration": 4,
    "start_time": "2022-01-11T19:05:35.200Z"
   },
   {
    "duration": 7,
    "start_time": "2022-01-11T19:05:35.205Z"
   },
   {
    "duration": 259,
    "start_time": "2022-01-11T19:05:35.214Z"
   },
   {
    "duration": 8,
    "start_time": "2022-01-11T19:12:36.309Z"
   },
   {
    "duration": 192,
    "start_time": "2022-01-11T19:15:36.884Z"
   },
   {
    "duration": 19,
    "start_time": "2022-01-11T19:15:58.854Z"
   },
   {
    "duration": 3510,
    "start_time": "2022-01-11T19:17:49.203Z"
   },
   {
    "duration": 210,
    "start_time": "2022-01-11T19:18:02.687Z"
   },
   {
    "duration": 9,
    "start_time": "2022-01-11T19:18:27.826Z"
   },
   {
    "duration": 197,
    "start_time": "2022-01-11T19:18:39.660Z"
   },
   {
    "duration": 209,
    "start_time": "2022-01-11T19:23:44.570Z"
   },
   {
    "duration": 19,
    "start_time": "2022-01-11T19:23:52.088Z"
   },
   {
    "duration": 179,
    "start_time": "2022-01-11T19:24:05.789Z"
   },
   {
    "duration": 558,
    "start_time": "2022-01-11T19:24:38.226Z"
   },
   {
    "duration": 170,
    "start_time": "2022-01-11T19:24:55.268Z"
   },
   {
    "duration": 3359,
    "start_time": "2022-01-11T19:27:40.053Z"
   },
   {
    "duration": 356,
    "start_time": "2022-01-11T19:27:50.477Z"
   },
   {
    "duration": 3309,
    "start_time": "2022-01-11T19:27:52.971Z"
   },
   {
    "duration": 5,
    "start_time": "2022-01-11T19:28:00.991Z"
   },
   {
    "duration": 206,
    "start_time": "2022-01-11T19:32:02.419Z"
   },
   {
    "duration": 279,
    "start_time": "2022-01-11T19:35:31.884Z"
   },
   {
    "duration": 220,
    "start_time": "2022-01-11T19:41:23.469Z"
   },
   {
    "duration": 210,
    "start_time": "2022-01-11T19:44:09.465Z"
   },
   {
    "duration": 648,
    "start_time": "2022-01-12T05:33:45.093Z"
   },
   {
    "duration": 89,
    "start_time": "2022-01-12T05:33:45.744Z"
   },
   {
    "duration": 10,
    "start_time": "2022-01-12T05:33:45.841Z"
   },
   {
    "duration": 6,
    "start_time": "2022-01-12T05:33:45.852Z"
   },
   {
    "duration": 8,
    "start_time": "2022-01-12T05:33:45.859Z"
   },
   {
    "duration": 4,
    "start_time": "2022-01-12T05:33:45.868Z"
   },
   {
    "duration": 10,
    "start_time": "2022-01-12T05:33:45.873Z"
   },
   {
    "duration": 5,
    "start_time": "2022-01-12T05:33:45.886Z"
   },
   {
    "duration": 10,
    "start_time": "2022-01-12T05:33:45.892Z"
   },
   {
    "duration": 39,
    "start_time": "2022-01-12T05:33:45.903Z"
   },
   {
    "duration": 7,
    "start_time": "2022-01-12T05:33:45.943Z"
   },
   {
    "duration": 6,
    "start_time": "2022-01-12T05:33:45.951Z"
   },
   {
    "duration": 5,
    "start_time": "2022-01-12T05:33:45.958Z"
   },
   {
    "duration": 6,
    "start_time": "2022-01-12T05:33:45.965Z"
   },
   {
    "duration": 8,
    "start_time": "2022-01-12T05:33:45.972Z"
   },
   {
    "duration": 8,
    "start_time": "2022-01-12T05:33:45.982Z"
   },
   {
    "duration": 13,
    "start_time": "2022-01-12T05:33:45.991Z"
   },
   {
    "duration": 39,
    "start_time": "2022-01-12T05:33:46.005Z"
   },
   {
    "duration": 12,
    "start_time": "2022-01-12T05:33:46.046Z"
   },
   {
    "duration": 10,
    "start_time": "2022-01-12T05:33:46.060Z"
   },
   {
    "duration": 6,
    "start_time": "2022-01-12T05:33:46.071Z"
   },
   {
    "duration": 12,
    "start_time": "2022-01-12T05:33:46.078Z"
   },
   {
    "duration": 5,
    "start_time": "2022-01-12T05:33:46.093Z"
   },
   {
    "duration": 13,
    "start_time": "2022-01-12T05:33:46.100Z"
   },
   {
    "duration": 28,
    "start_time": "2022-01-12T05:33:46.114Z"
   },
   {
    "duration": 8,
    "start_time": "2022-01-12T05:33:46.144Z"
   },
   {
    "duration": 9,
    "start_time": "2022-01-12T05:33:46.153Z"
   },
   {
    "duration": 9,
    "start_time": "2022-01-12T05:33:46.163Z"
   },
   {
    "duration": 11,
    "start_time": "2022-01-12T05:33:46.173Z"
   },
   {
    "duration": 5,
    "start_time": "2022-01-12T05:33:46.186Z"
   },
   {
    "duration": 11,
    "start_time": "2022-01-12T05:33:46.192Z"
   },
   {
    "duration": 5,
    "start_time": "2022-01-12T05:33:46.205Z"
   },
   {
    "duration": 35,
    "start_time": "2022-01-12T05:33:46.211Z"
   },
   {
    "duration": 23,
    "start_time": "2022-01-12T05:33:46.248Z"
   },
   {
    "duration": 8,
    "start_time": "2022-01-12T05:33:46.272Z"
   },
   {
    "duration": 6,
    "start_time": "2022-01-12T05:33:46.282Z"
   },
   {
    "duration": 7,
    "start_time": "2022-01-12T05:33:46.290Z"
   },
   {
    "duration": 7,
    "start_time": "2022-01-12T05:33:46.299Z"
   },
   {
    "duration": 13,
    "start_time": "2022-01-12T05:33:46.308Z"
   },
   {
    "duration": 20,
    "start_time": "2022-01-12T05:33:46.341Z"
   },
   {
    "duration": 5,
    "start_time": "2022-01-12T05:33:46.362Z"
   },
   {
    "duration": 6,
    "start_time": "2022-01-12T05:33:46.369Z"
   },
   {
    "duration": 24,
    "start_time": "2022-01-12T05:33:46.376Z"
   },
   {
    "duration": 456,
    "start_time": "2022-01-12T05:33:46.809Z"
   },
   {
    "duration": 4,
    "start_time": "2022-01-12T05:33:47.267Z"
   },
   {
    "duration": 24,
    "start_time": "2022-01-12T05:33:47.273Z"
   },
   {
    "duration": 7,
    "start_time": "2022-01-12T05:33:47.299Z"
   },
   {
    "duration": 1149,
    "start_time": "2022-01-12T05:33:47.307Z"
   },
   {
    "duration": 8,
    "start_time": "2022-01-12T05:33:48.457Z"
   },
   {
    "duration": 1242,
    "start_time": "2022-01-12T05:33:48.466Z"
   },
   {
    "duration": 8,
    "start_time": "2022-01-12T05:33:49.710Z"
   },
   {
    "duration": 261,
    "start_time": "2022-01-12T05:33:49.720Z"
   },
   {
    "duration": 7,
    "start_time": "2022-01-12T05:33:49.983Z"
   },
   {
    "duration": 395,
    "start_time": "2022-01-12T05:33:49.991Z"
   },
   {
    "duration": 8,
    "start_time": "2022-01-12T05:33:50.387Z"
   },
   {
    "duration": 283,
    "start_time": "2022-01-12T05:33:50.396Z"
   },
   {
    "duration": 132,
    "start_time": "2022-01-12T05:33:50.680Z"
   },
   {
    "duration": 4,
    "start_time": "2022-01-12T05:33:50.813Z"
   },
   {
    "duration": 23,
    "start_time": "2022-01-12T05:33:50.818Z"
   },
   {
    "duration": 326,
    "start_time": "2022-01-12T05:33:50.842Z"
   },
   {
    "duration": 6,
    "start_time": "2022-01-12T05:33:51.169Z"
   },
   {
    "duration": 31,
    "start_time": "2022-01-12T05:33:51.176Z"
   },
   {
    "duration": 434,
    "start_time": "2022-01-12T05:33:51.209Z"
   },
   {
    "duration": 112,
    "start_time": "2022-01-12T05:33:51.644Z"
   },
   {
    "duration": 7,
    "start_time": "2022-01-12T05:33:51.757Z"
   },
   {
    "duration": 32,
    "start_time": "2022-01-12T05:33:51.766Z"
   },
   {
    "duration": 344,
    "start_time": "2022-01-12T05:33:51.799Z"
   },
   {
    "duration": 7,
    "start_time": "2022-01-12T05:33:52.144Z"
   },
   {
    "duration": 119,
    "start_time": "2022-01-12T05:33:52.153Z"
   },
   {
    "duration": 197,
    "start_time": "2022-01-12T05:33:52.276Z"
   },
   {
    "duration": 186,
    "start_time": "2022-01-12T05:33:52.475Z"
   },
   {
    "duration": 168,
    "start_time": "2022-01-12T05:33:52.663Z"
   },
   {
    "duration": 465,
    "start_time": "2022-01-12T05:33:52.833Z"
   },
   {
    "duration": 191,
    "start_time": "2022-01-12T05:33:53.300Z"
   },
   {
    "duration": 266,
    "start_time": "2022-01-12T05:33:53.493Z"
   },
   {
    "duration": 190,
    "start_time": "2022-01-12T05:33:53.761Z"
   },
   {
    "duration": 22,
    "start_time": "2022-01-12T05:33:53.952Z"
   },
   {
    "duration": 6,
    "start_time": "2022-01-12T05:33:53.975Z"
   },
   {
    "duration": 8,
    "start_time": "2022-01-12T05:33:53.983Z"
   },
   {
    "duration": 23,
    "start_time": "2022-01-12T05:33:53.993Z"
   },
   {
    "duration": 24,
    "start_time": "2022-01-12T05:33:54.018Z"
   },
   {
    "duration": 6,
    "start_time": "2022-01-12T05:33:54.043Z"
   },
   {
    "duration": 221,
    "start_time": "2022-01-12T05:33:54.050Z"
   },
   {
    "duration": 8,
    "start_time": "2022-01-12T05:33:54.272Z"
   },
   {
    "duration": 18,
    "start_time": "2022-01-12T05:33:54.281Z"
   },
   {
    "duration": 184,
    "start_time": "2022-01-12T05:33:54.301Z"
   },
   {
    "duration": 17,
    "start_time": "2022-01-12T05:33:54.487Z"
   },
   {
    "duration": 150,
    "start_time": "2022-01-12T05:33:54.506Z"
   },
   {
    "duration": 318,
    "start_time": "2022-01-12T05:33:54.658Z"
   },
   {
    "duration": 4,
    "start_time": "2022-01-12T05:33:54.977Z"
   },
   {
    "duration": 176,
    "start_time": "2022-01-12T05:33:54.983Z"
   },
   {
    "duration": 188,
    "start_time": "2022-01-12T05:33:55.161Z"
   },
   {
    "duration": 194,
    "start_time": "2022-01-12T05:33:55.350Z"
   },
   {
    "duration": 343,
    "start_time": "2022-01-12T06:15:16.181Z"
   },
   {
    "duration": 254,
    "start_time": "2022-01-12T06:16:02.744Z"
   },
   {
    "duration": 180,
    "start_time": "2022-01-12T06:19:30.972Z"
   },
   {
    "duration": 754,
    "start_time": "2022-01-12T06:22:37.816Z"
   },
   {
    "duration": 169,
    "start_time": "2022-01-12T06:23:00.822Z"
   },
   {
    "duration": 215,
    "start_time": "2022-01-12T06:23:29.492Z"
   },
   {
    "duration": 159,
    "start_time": "2022-01-12T06:23:49.712Z"
   },
   {
    "duration": 151,
    "start_time": "2022-01-12T06:23:58.904Z"
   },
   {
    "duration": 158,
    "start_time": "2022-01-12T06:24:04.613Z"
   },
   {
    "duration": 156,
    "start_time": "2022-01-12T06:24:11.452Z"
   },
   {
    "duration": 96,
    "start_time": "2022-01-12T06:24:53.700Z"
   },
   {
    "duration": 106,
    "start_time": "2022-01-12T06:25:00.017Z"
   },
   {
    "duration": 212,
    "start_time": "2022-01-12T06:25:04.783Z"
   },
   {
    "duration": 195,
    "start_time": "2022-01-12T06:25:13.532Z"
   },
   {
    "duration": 197,
    "start_time": "2022-01-12T06:27:22.725Z"
   },
   {
    "duration": 186,
    "start_time": "2022-01-12T06:27:46.261Z"
   },
   {
    "duration": 179,
    "start_time": "2022-01-12T06:49:05.595Z"
   },
   {
    "duration": 1003,
    "start_time": "2022-01-12T06:49:22.496Z"
   },
   {
    "duration": 16,
    "start_time": "2022-01-12T06:49:35.395Z"
   },
   {
    "duration": 156,
    "start_time": "2022-01-12T06:49:37.914Z"
   },
   {
    "duration": 254,
    "start_time": "2022-01-12T06:50:05.115Z"
   },
   {
    "duration": 602,
    "start_time": "2022-01-12T07:09:14.758Z"
   },
   {
    "duration": 77,
    "start_time": "2022-01-12T07:09:15.362Z"
   },
   {
    "duration": 10,
    "start_time": "2022-01-12T07:09:15.441Z"
   },
   {
    "duration": 4,
    "start_time": "2022-01-12T07:09:15.453Z"
   },
   {
    "duration": 8,
    "start_time": "2022-01-12T07:09:15.459Z"
   },
   {
    "duration": 10,
    "start_time": "2022-01-12T07:09:15.469Z"
   },
   {
    "duration": 20,
    "start_time": "2022-01-12T07:09:15.480Z"
   },
   {
    "duration": 14,
    "start_time": "2022-01-12T07:09:15.502Z"
   },
   {
    "duration": 26,
    "start_time": "2022-01-12T07:09:15.519Z"
   },
   {
    "duration": 24,
    "start_time": "2022-01-12T07:09:15.548Z"
   },
   {
    "duration": 13,
    "start_time": "2022-01-12T07:09:15.573Z"
   },
   {
    "duration": 10,
    "start_time": "2022-01-12T07:09:15.588Z"
   },
   {
    "duration": 27,
    "start_time": "2022-01-12T07:09:15.600Z"
   },
   {
    "duration": 16,
    "start_time": "2022-01-12T07:09:15.629Z"
   },
   {
    "duration": 26,
    "start_time": "2022-01-12T07:09:15.647Z"
   },
   {
    "duration": 14,
    "start_time": "2022-01-12T07:09:15.675Z"
   },
   {
    "duration": 36,
    "start_time": "2022-01-12T07:09:15.690Z"
   },
   {
    "duration": 17,
    "start_time": "2022-01-12T07:09:15.727Z"
   },
   {
    "duration": 20,
    "start_time": "2022-01-12T07:09:15.746Z"
   },
   {
    "duration": 25,
    "start_time": "2022-01-12T07:09:15.768Z"
   },
   {
    "duration": 18,
    "start_time": "2022-01-12T07:09:15.794Z"
   },
   {
    "duration": 21,
    "start_time": "2022-01-12T07:09:15.813Z"
   },
   {
    "duration": 16,
    "start_time": "2022-01-12T07:09:15.836Z"
   },
   {
    "duration": 14,
    "start_time": "2022-01-12T07:09:15.854Z"
   },
   {
    "duration": 28,
    "start_time": "2022-01-12T07:09:15.870Z"
   },
   {
    "duration": 34,
    "start_time": "2022-01-12T07:09:15.900Z"
   },
   {
    "duration": 7,
    "start_time": "2022-01-12T07:09:15.937Z"
   },
   {
    "duration": 10,
    "start_time": "2022-01-12T07:09:15.947Z"
   },
   {
    "duration": 14,
    "start_time": "2022-01-12T07:09:15.959Z"
   },
   {
    "duration": 10,
    "start_time": "2022-01-12T07:09:15.974Z"
   },
   {
    "duration": 17,
    "start_time": "2022-01-12T07:09:15.986Z"
   },
   {
    "duration": 8,
    "start_time": "2022-01-12T07:09:16.005Z"
   },
   {
    "duration": 13,
    "start_time": "2022-01-12T07:09:16.015Z"
   },
   {
    "duration": 26,
    "start_time": "2022-01-12T07:09:16.029Z"
   },
   {
    "duration": 9,
    "start_time": "2022-01-12T07:09:16.057Z"
   },
   {
    "duration": 8,
    "start_time": "2022-01-12T07:09:16.067Z"
   },
   {
    "duration": 9,
    "start_time": "2022-01-12T07:09:16.077Z"
   },
   {
    "duration": 10,
    "start_time": "2022-01-12T07:09:16.088Z"
   },
   {
    "duration": 23,
    "start_time": "2022-01-12T07:09:16.100Z"
   },
   {
    "duration": 26,
    "start_time": "2022-01-12T07:09:16.125Z"
   },
   {
    "duration": 5,
    "start_time": "2022-01-12T07:09:16.153Z"
   },
   {
    "duration": 8,
    "start_time": "2022-01-12T07:09:16.159Z"
   },
   {
    "duration": 26,
    "start_time": "2022-01-12T07:09:16.168Z"
   },
   {
    "duration": 486,
    "start_time": "2022-01-12T07:09:16.196Z"
   },
   {
    "duration": 4,
    "start_time": "2022-01-12T07:09:16.684Z"
   },
   {
    "duration": 25,
    "start_time": "2022-01-12T07:09:16.690Z"
   },
   {
    "duration": 25,
    "start_time": "2022-01-12T07:09:16.717Z"
   },
   {
    "duration": 1167,
    "start_time": "2022-01-12T07:09:16.744Z"
   },
   {
    "duration": 9,
    "start_time": "2022-01-12T07:09:17.913Z"
   },
   {
    "duration": 1144,
    "start_time": "2022-01-12T07:09:17.923Z"
   },
   {
    "duration": 9,
    "start_time": "2022-01-12T07:09:19.069Z"
   },
   {
    "duration": 268,
    "start_time": "2022-01-12T07:09:19.080Z"
   },
   {
    "duration": 8,
    "start_time": "2022-01-12T07:09:19.350Z"
   },
   {
    "duration": 409,
    "start_time": "2022-01-12T07:09:19.360Z"
   },
   {
    "duration": 8,
    "start_time": "2022-01-12T07:09:19.771Z"
   },
   {
    "duration": 303,
    "start_time": "2022-01-12T07:09:19.781Z"
   },
   {
    "duration": 121,
    "start_time": "2022-01-12T07:09:20.086Z"
   },
   {
    "duration": 3,
    "start_time": "2022-01-12T07:09:20.209Z"
   },
   {
    "duration": 14,
    "start_time": "2022-01-12T07:09:20.214Z"
   },
   {
    "duration": 340,
    "start_time": "2022-01-12T07:09:20.229Z"
   },
   {
    "duration": 7,
    "start_time": "2022-01-12T07:09:20.571Z"
   },
   {
    "duration": 33,
    "start_time": "2022-01-12T07:09:20.580Z"
   },
   {
    "duration": 438,
    "start_time": "2022-01-12T07:09:20.615Z"
   },
   {
    "duration": 118,
    "start_time": "2022-01-12T07:09:21.055Z"
   },
   {
    "duration": 7,
    "start_time": "2022-01-12T07:09:21.174Z"
   },
   {
    "duration": 33,
    "start_time": "2022-01-12T07:09:21.182Z"
   },
   {
    "duration": 340,
    "start_time": "2022-01-12T07:09:21.217Z"
   },
   {
    "duration": 8,
    "start_time": "2022-01-12T07:09:21.558Z"
   },
   {
    "duration": 122,
    "start_time": "2022-01-12T07:09:21.567Z"
   },
   {
    "duration": 201,
    "start_time": "2022-01-12T07:09:21.691Z"
   },
   {
    "duration": 190,
    "start_time": "2022-01-12T07:09:21.894Z"
   },
   {
    "duration": 158,
    "start_time": "2022-01-12T07:09:22.086Z"
   },
   {
    "duration": 462,
    "start_time": "2022-01-12T07:09:22.246Z"
   },
   {
    "duration": 193,
    "start_time": "2022-01-12T07:09:22.710Z"
   },
   {
    "duration": 255,
    "start_time": "2022-01-12T07:09:22.904Z"
   },
   {
    "duration": 205,
    "start_time": "2022-01-12T07:09:23.161Z"
   },
   {
    "duration": 24,
    "start_time": "2022-01-12T07:09:23.368Z"
   },
   {
    "duration": 6,
    "start_time": "2022-01-12T07:09:23.394Z"
   },
   {
    "duration": 10,
    "start_time": "2022-01-12T07:09:23.402Z"
   },
   {
    "duration": 45,
    "start_time": "2022-01-12T07:09:23.413Z"
   },
   {
    "duration": 3,
    "start_time": "2022-01-12T07:09:23.464Z"
   },
   {
    "duration": 6,
    "start_time": "2022-01-12T07:09:23.469Z"
   },
   {
    "duration": 236,
    "start_time": "2022-01-12T07:09:23.476Z"
   },
   {
    "duration": 8,
    "start_time": "2022-01-12T07:09:23.714Z"
   },
   {
    "duration": 30,
    "start_time": "2022-01-12T07:09:23.723Z"
   },
   {
    "duration": 188,
    "start_time": "2022-01-12T07:09:23.754Z"
   },
   {
    "duration": 13,
    "start_time": "2022-01-12T07:09:23.944Z"
   },
   {
    "duration": 166,
    "start_time": "2022-01-12T07:09:23.959Z"
   },
   {
    "duration": 324,
    "start_time": "2022-01-12T07:09:24.126Z"
   },
   {
    "duration": 5,
    "start_time": "2022-01-12T07:09:24.451Z"
   },
   {
    "duration": 184,
    "start_time": "2022-01-12T07:09:24.457Z"
   },
   {
    "duration": 189,
    "start_time": "2022-01-12T07:09:24.642Z"
   },
   {
    "duration": 190,
    "start_time": "2022-01-12T07:09:24.840Z"
   },
   {
    "duration": 881,
    "start_time": "2022-01-14T06:23:23.852Z"
   },
   {
    "duration": 72,
    "start_time": "2022-01-14T06:23:24.735Z"
   },
   {
    "duration": 114,
    "start_time": "2022-01-14T06:23:24.810Z"
   },
   {
    "duration": 108,
    "start_time": "2022-01-14T06:23:24.927Z"
   },
   {
    "duration": 6,
    "start_time": "2022-01-14T06:23:25.038Z"
   },
   {
    "duration": 8,
    "start_time": "2022-01-14T06:23:25.047Z"
   },
   {
    "duration": 7,
    "start_time": "2022-01-14T06:23:25.057Z"
   },
   {
    "duration": 13,
    "start_time": "2022-01-14T06:23:25.066Z"
   },
   {
    "duration": 8,
    "start_time": "2022-01-14T06:23:25.125Z"
   },
   {
    "duration": 8,
    "start_time": "2022-01-14T06:23:25.136Z"
   },
   {
    "duration": 9,
    "start_time": "2022-01-14T06:23:25.146Z"
   },
   {
    "duration": 13,
    "start_time": "2022-01-14T06:23:25.158Z"
   },
   {
    "duration": 54,
    "start_time": "2022-01-14T06:23:25.174Z"
   },
   {
    "duration": 8,
    "start_time": "2022-01-14T06:23:25.231Z"
   },
   {
    "duration": 16,
    "start_time": "2022-01-14T06:23:25.241Z"
   },
   {
    "duration": 9,
    "start_time": "2022-01-14T06:23:25.260Z"
   },
   {
    "duration": 61,
    "start_time": "2022-01-14T06:23:25.271Z"
   },
   {
    "duration": 7,
    "start_time": "2022-01-14T06:23:25.334Z"
   },
   {
    "duration": 10,
    "start_time": "2022-01-14T06:23:25.343Z"
   },
   {
    "duration": 9,
    "start_time": "2022-01-14T06:23:25.355Z"
   },
   {
    "duration": 67,
    "start_time": "2022-01-14T06:23:25.367Z"
   },
   {
    "duration": 23,
    "start_time": "2022-01-14T06:23:25.436Z"
   },
   {
    "duration": 98,
    "start_time": "2022-01-14T06:23:25.461Z"
   },
   {
    "duration": 10,
    "start_time": "2022-01-14T06:23:25.561Z"
   },
   {
    "duration": 13,
    "start_time": "2022-01-14T06:23:25.574Z"
   },
   {
    "duration": 11,
    "start_time": "2022-01-14T06:23:29.090Z"
   },
   {
    "duration": 8,
    "start_time": "2022-01-14T06:23:46.534Z"
   },
   {
    "duration": 12,
    "start_time": "2022-01-14T06:23:47.853Z"
   },
   {
    "duration": 8,
    "start_time": "2022-01-14T06:23:51.293Z"
   },
   {
    "duration": 9,
    "start_time": "2022-01-14T06:23:58.170Z"
   },
   {
    "duration": 9,
    "start_time": "2022-01-14T06:24:01.690Z"
   },
   {
    "duration": 14,
    "start_time": "2022-01-14T06:24:06.083Z"
   },
   {
    "duration": 892,
    "start_time": "2022-01-14T06:36:14.998Z"
   },
   {
    "duration": 75,
    "start_time": "2022-01-14T06:36:15.893Z"
   },
   {
    "duration": 120,
    "start_time": "2022-01-14T06:36:15.971Z"
   },
   {
    "duration": 108,
    "start_time": "2022-01-14T06:36:16.094Z"
   },
   {
    "duration": 7,
    "start_time": "2022-01-14T06:36:16.204Z"
   },
   {
    "duration": 8,
    "start_time": "2022-01-14T06:36:16.224Z"
   },
   {
    "duration": 7,
    "start_time": "2022-01-14T06:36:16.233Z"
   },
   {
    "duration": 13,
    "start_time": "2022-01-14T06:36:16.242Z"
   },
   {
    "duration": 7,
    "start_time": "2022-01-14T06:36:16.260Z"
   },
   {
    "duration": 53,
    "start_time": "2022-01-14T06:36:16.270Z"
   },
   {
    "duration": 10,
    "start_time": "2022-01-14T06:36:16.325Z"
   },
   {
    "duration": 25,
    "start_time": "2022-01-14T06:36:16.338Z"
   },
   {
    "duration": 7,
    "start_time": "2022-01-14T06:36:16.366Z"
   },
   {
    "duration": 24,
    "start_time": "2022-01-14T06:36:16.375Z"
   },
   {
    "duration": 33,
    "start_time": "2022-01-14T06:36:16.402Z"
   },
   {
    "duration": 13,
    "start_time": "2022-01-14T06:36:16.437Z"
   },
   {
    "duration": 25,
    "start_time": "2022-01-14T06:36:16.452Z"
   },
   {
    "duration": 15,
    "start_time": "2022-01-14T06:36:16.479Z"
   },
   {
    "duration": 29,
    "start_time": "2022-01-14T06:36:16.496Z"
   },
   {
    "duration": 9,
    "start_time": "2022-01-14T06:36:16.528Z"
   },
   {
    "duration": 25,
    "start_time": "2022-01-14T06:36:16.539Z"
   },
   {
    "duration": 23,
    "start_time": "2022-01-14T06:36:16.566Z"
   },
   {
    "duration": 102,
    "start_time": "2022-01-14T06:36:16.592Z"
   },
   {
    "duration": 10,
    "start_time": "2022-01-14T06:36:16.696Z"
   },
   {
    "duration": 23,
    "start_time": "2022-01-14T06:36:16.708Z"
   },
   {
    "duration": 11,
    "start_time": "2022-01-14T06:36:16.734Z"
   },
   {
    "duration": 16,
    "start_time": "2022-01-14T06:36:16.750Z"
   },
   {
    "duration": 10,
    "start_time": "2022-01-14T06:36:16.769Z"
   },
   {
    "duration": 43,
    "start_time": "2022-01-14T06:36:16.782Z"
   },
   {
    "duration": 9,
    "start_time": "2022-01-14T06:36:16.827Z"
   },
   {
    "duration": 8,
    "start_time": "2022-01-14T06:36:16.839Z"
   },
   {
    "duration": 22,
    "start_time": "2022-01-14T06:36:16.850Z"
   },
   {
    "duration": 52,
    "start_time": "2022-01-14T06:36:16.875Z"
   },
   {
    "duration": 17,
    "start_time": "2022-01-14T06:36:16.930Z"
   },
   {
    "duration": 21,
    "start_time": "2022-01-14T06:36:16.950Z"
   },
   {
    "duration": 8,
    "start_time": "2022-01-14T06:36:16.973Z"
   },
   {
    "duration": 40,
    "start_time": "2022-01-14T06:36:16.984Z"
   },
   {
    "duration": 14,
    "start_time": "2022-01-14T06:36:17.026Z"
   },
   {
    "duration": 16,
    "start_time": "2022-01-14T06:36:17.042Z"
   },
   {
    "duration": 53,
    "start_time": "2022-01-14T06:36:17.061Z"
   },
   {
    "duration": 17,
    "start_time": "2022-01-14T06:36:17.118Z"
   },
   {
    "duration": 10,
    "start_time": "2022-01-14T06:36:17.137Z"
   },
   {
    "duration": 10,
    "start_time": "2022-01-14T06:36:17.149Z"
   },
   {
    "duration": 6,
    "start_time": "2022-01-14T06:36:17.162Z"
   },
   {
    "duration": 16,
    "start_time": "2022-01-14T06:36:19.745Z"
   },
   {
    "duration": 7,
    "start_time": "2022-01-14T06:38:18.787Z"
   },
   {
    "duration": 15,
    "start_time": "2022-01-14T06:38:20.498Z"
   },
   {
    "duration": 13,
    "start_time": "2022-01-14T06:41:02.539Z"
   },
   {
    "duration": 19,
    "start_time": "2022-01-14T06:49:03.936Z"
   },
   {
    "duration": 15,
    "start_time": "2022-01-14T06:49:05.681Z"
   },
   {
    "duration": 822,
    "start_time": "2022-01-14T06:50:11.578Z"
   },
   {
    "duration": 70,
    "start_time": "2022-01-14T06:50:12.403Z"
   },
   {
    "duration": 116,
    "start_time": "2022-01-14T06:50:12.476Z"
   },
   {
    "duration": 104,
    "start_time": "2022-01-14T06:50:12.595Z"
   },
   {
    "duration": 6,
    "start_time": "2022-01-14T06:50:12.702Z"
   },
   {
    "duration": 19,
    "start_time": "2022-01-14T06:50:12.710Z"
   },
   {
    "duration": 5,
    "start_time": "2022-01-14T06:50:12.731Z"
   },
   {
    "duration": 15,
    "start_time": "2022-01-14T06:50:12.740Z"
   },
   {
    "duration": 8,
    "start_time": "2022-01-14T06:50:12.757Z"
   },
   {
    "duration": 7,
    "start_time": "2022-01-14T06:50:12.767Z"
   },
   {
    "duration": 8,
    "start_time": "2022-01-14T06:50:12.824Z"
   },
   {
    "duration": 12,
    "start_time": "2022-01-14T06:50:12.835Z"
   },
   {
    "duration": 8,
    "start_time": "2022-01-14T06:50:12.849Z"
   },
   {
    "duration": 8,
    "start_time": "2022-01-14T06:50:12.859Z"
   },
   {
    "duration": 54,
    "start_time": "2022-01-14T06:50:12.869Z"
   },
   {
    "duration": 9,
    "start_time": "2022-01-14T06:50:12.926Z"
   },
   {
    "duration": 14,
    "start_time": "2022-01-14T06:50:12.937Z"
   },
   {
    "duration": 7,
    "start_time": "2022-01-14T06:50:12.953Z"
   },
   {
    "duration": 8,
    "start_time": "2022-01-14T06:50:12.963Z"
   },
   {
    "duration": 53,
    "start_time": "2022-01-14T06:50:12.973Z"
   },
   {
    "duration": 18,
    "start_time": "2022-01-14T06:50:13.028Z"
   },
   {
    "duration": 23,
    "start_time": "2022-01-14T06:50:13.049Z"
   },
   {
    "duration": 114,
    "start_time": "2022-01-14T06:50:13.076Z"
   },
   {
    "duration": 10,
    "start_time": "2022-01-14T06:50:13.193Z"
   },
   {
    "duration": 15,
    "start_time": "2022-01-14T06:50:13.223Z"
   },
   {
    "duration": 20,
    "start_time": "2022-01-14T06:50:13.240Z"
   },
   {
    "duration": 12,
    "start_time": "2022-01-14T06:50:13.263Z"
   },
   {
    "duration": 14,
    "start_time": "2022-01-14T06:50:13.277Z"
   },
   {
    "duration": 8,
    "start_time": "2022-01-14T06:50:13.323Z"
   },
   {
    "duration": 11,
    "start_time": "2022-01-14T06:50:13.333Z"
   },
   {
    "duration": 8,
    "start_time": "2022-01-14T06:50:13.347Z"
   },
   {
    "duration": 12,
    "start_time": "2022-01-14T06:50:13.357Z"
   },
   {
    "duration": 53,
    "start_time": "2022-01-14T06:50:13.371Z"
   },
   {
    "duration": 8,
    "start_time": "2022-01-14T06:50:13.427Z"
   },
   {
    "duration": 15,
    "start_time": "2022-01-14T06:50:13.438Z"
   },
   {
    "duration": 9,
    "start_time": "2022-01-14T06:50:13.456Z"
   },
   {
    "duration": 61,
    "start_time": "2022-01-14T06:50:13.468Z"
   },
   {
    "duration": 8,
    "start_time": "2022-01-14T06:50:13.532Z"
   },
   {
    "duration": 11,
    "start_time": "2022-01-14T06:50:13.543Z"
   },
   {
    "duration": 87,
    "start_time": "2022-01-14T06:50:13.556Z"
   },
   {
    "duration": 15,
    "start_time": "2022-01-14T06:50:13.646Z"
   },
   {
    "duration": 41,
    "start_time": "2022-01-14T06:50:16.507Z"
   },
   {
    "duration": 41,
    "start_time": "2022-01-14T06:53:48.547Z"
   },
   {
    "duration": 17,
    "start_time": "2022-01-14T06:53:53.628Z"
   },
   {
    "duration": 6,
    "start_time": "2022-01-14T06:53:56.345Z"
   },
   {
    "duration": 8,
    "start_time": "2022-01-14T06:53:58.257Z"
   },
   {
    "duration": 7,
    "start_time": "2022-01-14T06:54:01.017Z"
   },
   {
    "duration": 7,
    "start_time": "2022-01-14T06:54:03.057Z"
   },
   {
    "duration": 20,
    "start_time": "2022-01-14T06:54:05.587Z"
   },
   {
    "duration": 30,
    "start_time": "2022-01-14T06:54:12.057Z"
   },
   {
    "duration": 847,
    "start_time": "2022-01-14T06:58:22.008Z"
   },
   {
    "duration": 71,
    "start_time": "2022-01-14T06:58:22.857Z"
   },
   {
    "duration": 118,
    "start_time": "2022-01-14T06:58:22.931Z"
   },
   {
    "duration": 106,
    "start_time": "2022-01-14T06:58:23.052Z"
   },
   {
    "duration": 7,
    "start_time": "2022-01-14T06:58:23.161Z"
   },
   {
    "duration": 14,
    "start_time": "2022-01-14T06:58:23.170Z"
   },
   {
    "duration": 10,
    "start_time": "2022-01-14T06:58:23.186Z"
   },
   {
    "duration": 37,
    "start_time": "2022-01-14T06:58:23.198Z"
   },
   {
    "duration": 10,
    "start_time": "2022-01-14T06:58:23.239Z"
   },
   {
    "duration": 10,
    "start_time": "2022-01-14T06:58:23.253Z"
   },
   {
    "duration": 58,
    "start_time": "2022-01-14T06:58:23.266Z"
   },
   {
    "duration": 14,
    "start_time": "2022-01-14T06:58:23.326Z"
   },
   {
    "duration": 7,
    "start_time": "2022-01-14T06:58:23.342Z"
   },
   {
    "duration": 8,
    "start_time": "2022-01-14T06:58:23.351Z"
   },
   {
    "duration": 16,
    "start_time": "2022-01-14T06:58:23.362Z"
   },
   {
    "duration": 48,
    "start_time": "2022-01-14T06:58:23.380Z"
   },
   {
    "duration": 16,
    "start_time": "2022-01-14T06:58:23.430Z"
   },
   {
    "duration": 8,
    "start_time": "2022-01-14T06:58:23.448Z"
   },
   {
    "duration": 8,
    "start_time": "2022-01-14T06:58:23.458Z"
   },
   {
    "duration": 10,
    "start_time": "2022-01-14T06:58:23.468Z"
   },
   {
    "duration": 57,
    "start_time": "2022-01-14T06:58:23.480Z"
   },
   {
    "duration": 21,
    "start_time": "2022-01-14T06:58:23.539Z"
   },
   {
    "duration": 113,
    "start_time": "2022-01-14T06:58:23.563Z"
   },
   {
    "duration": 9,
    "start_time": "2022-01-14T06:58:23.678Z"
   },
   {
    "duration": 36,
    "start_time": "2022-01-14T06:58:23.689Z"
   },
   {
    "duration": 11,
    "start_time": "2022-01-14T06:58:23.728Z"
   },
   {
    "duration": 8,
    "start_time": "2022-01-14T06:58:23.747Z"
   },
   {
    "duration": 11,
    "start_time": "2022-01-14T06:58:23.758Z"
   },
   {
    "duration": 52,
    "start_time": "2022-01-14T06:58:23.771Z"
   },
   {
    "duration": 8,
    "start_time": "2022-01-14T06:58:23.825Z"
   },
   {
    "duration": 13,
    "start_time": "2022-01-14T06:58:23.835Z"
   },
   {
    "duration": 14,
    "start_time": "2022-01-14T06:58:23.850Z"
   },
   {
    "duration": 12,
    "start_time": "2022-01-14T06:58:23.866Z"
   },
   {
    "duration": 47,
    "start_time": "2022-01-14T06:58:23.880Z"
   },
   {
    "duration": 14,
    "start_time": "2022-01-14T06:58:23.930Z"
   },
   {
    "duration": 8,
    "start_time": "2022-01-14T06:58:23.947Z"
   },
   {
    "duration": 13,
    "start_time": "2022-01-14T06:58:23.959Z"
   },
   {
    "duration": 53,
    "start_time": "2022-01-14T06:58:23.975Z"
   },
   {
    "duration": 11,
    "start_time": "2022-01-14T06:58:24.031Z"
   },
   {
    "duration": 39,
    "start_time": "2022-01-14T06:58:24.045Z"
   },
   {
    "duration": 48,
    "start_time": "2022-01-14T06:58:24.086Z"
   },
   {
    "duration": 42,
    "start_time": "2022-01-14T06:58:24.136Z"
   },
   {
    "duration": 9,
    "start_time": "2022-01-14T06:58:24.181Z"
   },
   {
    "duration": 32,
    "start_time": "2022-01-14T06:58:24.193Z"
   },
   {
    "duration": 9,
    "start_time": "2022-01-14T06:58:24.228Z"
   },
   {
    "duration": 6,
    "start_time": "2022-01-14T06:58:24.239Z"
   },
   {
    "duration": 7,
    "start_time": "2022-01-14T06:58:24.247Z"
   },
   {
    "duration": 20,
    "start_time": "2022-01-14T06:58:24.256Z"
   },
   {
    "duration": 72,
    "start_time": "2022-01-14T06:58:24.278Z"
   },
   {
    "duration": 37,
    "start_time": "2022-01-14T06:58:24.352Z"
   },
   {
    "duration": 31,
    "start_time": "2022-01-14T06:58:24.392Z"
   },
   {
    "duration": 7,
    "start_time": "2022-01-14T06:58:24.425Z"
   },
   {
    "duration": 35,
    "start_time": "2022-01-14T06:58:24.435Z"
   },
   {
    "duration": 673,
    "start_time": "2022-01-14T06:58:29.570Z"
   },
   {
    "duration": 617,
    "start_time": "2022-01-14T07:01:28.208Z"
   },
   {
    "duration": 472,
    "start_time": "2022-01-14T07:03:24.177Z"
   },
   {
    "duration": 514,
    "start_time": "2022-01-14T07:03:30.557Z"
   },
   {
    "duration": 921,
    "start_time": "2022-01-14T07:03:49.057Z"
   },
   {
    "duration": 299,
    "start_time": "2022-01-14T07:04:42.156Z"
   },
   {
    "duration": 127,
    "start_time": "2022-01-14T07:05:07.587Z"
   },
   {
    "duration": 428,
    "start_time": "2022-01-14T07:05:32.636Z"
   },
   {
    "duration": 114,
    "start_time": "2022-01-14T07:05:43.598Z"
   },
   {
    "duration": 317,
    "start_time": "2022-01-14T07:05:50.346Z"
   },
   {
    "duration": 108,
    "start_time": "2022-01-14T07:06:06.436Z"
   },
   {
    "duration": 303,
    "start_time": "2022-01-14T07:06:11.994Z"
   },
   {
    "duration": 1630,
    "start_time": "2022-01-14T07:06:18.826Z"
   },
   {
    "duration": 5,
    "start_time": "2022-01-14T08:36:57.966Z"
   },
   {
    "duration": 96,
    "start_time": "2022-01-14T08:36:57.973Z"
   },
   {
    "duration": 124,
    "start_time": "2022-01-14T08:36:58.072Z"
   },
   {
    "duration": 151,
    "start_time": "2022-01-14T08:36:58.199Z"
   },
   {
    "duration": 7,
    "start_time": "2022-01-14T08:36:58.353Z"
   },
   {
    "duration": 17,
    "start_time": "2022-01-14T08:36:58.363Z"
   },
   {
    "duration": 40,
    "start_time": "2022-01-14T08:36:58.384Z"
   },
   {
    "duration": 15,
    "start_time": "2022-01-14T08:36:58.427Z"
   },
   {
    "duration": 13,
    "start_time": "2022-01-14T08:36:58.445Z"
   },
   {
    "duration": 14,
    "start_time": "2022-01-14T08:36:58.461Z"
   },
   {
    "duration": 47,
    "start_time": "2022-01-14T08:36:58.478Z"
   },
   {
    "duration": 8,
    "start_time": "2022-01-14T08:36:58.527Z"
   },
   {
    "duration": 8,
    "start_time": "2022-01-14T08:36:58.538Z"
   },
   {
    "duration": 8,
    "start_time": "2022-01-14T08:36:58.549Z"
   },
   {
    "duration": 13,
    "start_time": "2022-01-14T08:36:58.560Z"
   },
   {
    "duration": 54,
    "start_time": "2022-01-14T08:36:58.576Z"
   },
   {
    "duration": 15,
    "start_time": "2022-01-14T08:36:58.633Z"
   },
   {
    "duration": 7,
    "start_time": "2022-01-14T08:36:58.651Z"
   },
   {
    "duration": 7,
    "start_time": "2022-01-14T08:36:58.661Z"
   },
   {
    "duration": 9,
    "start_time": "2022-01-14T08:36:58.670Z"
   },
   {
    "duration": 15,
    "start_time": "2022-01-14T08:36:58.731Z"
   },
   {
    "duration": 21,
    "start_time": "2022-01-14T08:36:58.750Z"
   },
   {
    "duration": 114,
    "start_time": "2022-01-14T08:36:58.773Z"
   },
   {
    "duration": 17,
    "start_time": "2022-01-14T08:36:58.889Z"
   },
   {
    "duration": 10,
    "start_time": "2022-01-14T08:36:58.924Z"
   },
   {
    "duration": 12,
    "start_time": "2022-01-14T08:36:58.936Z"
   },
   {
    "duration": 9,
    "start_time": "2022-01-14T08:36:58.951Z"
   },
   {
    "duration": 11,
    "start_time": "2022-01-14T08:36:58.962Z"
   },
   {
    "duration": 54,
    "start_time": "2022-01-14T08:36:58.975Z"
   },
   {
    "duration": 10,
    "start_time": "2022-01-14T08:36:59.031Z"
   },
   {
    "duration": 8,
    "start_time": "2022-01-14T08:36:59.044Z"
   },
   {
    "duration": 12,
    "start_time": "2022-01-14T08:36:59.055Z"
   },
   {
    "duration": 55,
    "start_time": "2022-01-14T08:36:59.069Z"
   },
   {
    "duration": 9,
    "start_time": "2022-01-14T08:36:59.127Z"
   },
   {
    "duration": 12,
    "start_time": "2022-01-14T08:36:59.138Z"
   },
   {
    "duration": 8,
    "start_time": "2022-01-14T08:36:59.153Z"
   },
   {
    "duration": 14,
    "start_time": "2022-01-14T08:36:59.164Z"
   },
   {
    "duration": 9,
    "start_time": "2022-01-14T08:36:59.224Z"
   },
   {
    "duration": 28,
    "start_time": "2022-01-14T08:36:59.236Z"
   },
   {
    "duration": 43,
    "start_time": "2022-01-14T08:36:59.267Z"
   },
   {
    "duration": 16,
    "start_time": "2022-01-14T08:36:59.324Z"
   },
   {
    "duration": 43,
    "start_time": "2022-01-14T08:36:59.342Z"
   },
   {
    "duration": 38,
    "start_time": "2022-01-14T08:36:59.388Z"
   },
   {
    "duration": 6,
    "start_time": "2022-01-14T08:36:59.429Z"
   },
   {
    "duration": 5,
    "start_time": "2022-01-14T08:36:59.437Z"
   },
   {
    "duration": 5,
    "start_time": "2022-01-14T08:36:59.445Z"
   },
   {
    "duration": 9,
    "start_time": "2022-01-14T08:36:59.452Z"
   },
   {
    "duration": 19,
    "start_time": "2022-01-14T08:36:59.463Z"
   },
   {
    "duration": 29,
    "start_time": "2022-01-14T08:36:59.524Z"
   },
   {
    "duration": 36,
    "start_time": "2022-01-14T08:36:59.556Z"
   },
   {
    "duration": 31,
    "start_time": "2022-01-14T08:36:59.595Z"
   },
   {
    "duration": 7,
    "start_time": "2022-01-14T08:36:59.629Z"
   },
   {
    "duration": 34,
    "start_time": "2022-01-14T08:36:59.639Z"
   },
   {
    "duration": 773,
    "start_time": "2022-01-14T08:36:59.675Z"
   },
   {
    "duration": 6,
    "start_time": "2022-01-14T08:37:00.451Z"
   },
   {
    "duration": 41,
    "start_time": "2022-01-14T08:37:00.459Z"
   },
   {
    "duration": 30,
    "start_time": "2022-01-14T08:37:00.502Z"
   },
   {
    "duration": 2024,
    "start_time": "2022-01-14T08:37:00.535Z"
   },
   {
    "duration": 2122,
    "start_time": "2022-01-14T08:37:02.562Z"
   },
   {
    "duration": 13,
    "start_time": "2022-01-14T08:37:04.686Z"
   },
   {
    "duration": 1924,
    "start_time": "2022-01-14T08:37:04.702Z"
   },
   {
    "duration": 11,
    "start_time": "2022-01-14T08:37:06.629Z"
   },
   {
    "duration": 433,
    "start_time": "2022-01-14T08:37:06.642Z"
   },
   {
    "duration": 13,
    "start_time": "2022-01-14T08:37:07.077Z"
   },
   {
    "duration": 823,
    "start_time": "2022-01-14T08:37:07.092Z"
   },
   {
    "duration": 15,
    "start_time": "2022-01-14T08:37:07.917Z"
   },
   {
    "duration": 541,
    "start_time": "2022-01-14T08:37:07.934Z"
   },
   {
    "duration": 209,
    "start_time": "2022-01-14T08:37:08.478Z"
   },
   {
    "duration": 6,
    "start_time": "2022-01-14T08:37:08.689Z"
   },
   {
    "duration": 25,
    "start_time": "2022-01-14T08:37:08.698Z"
   },
   {
    "duration": 585,
    "start_time": "2022-01-14T08:37:08.726Z"
   },
   {
    "duration": 16,
    "start_time": "2022-01-14T08:37:09.313Z"
   },
   {
    "duration": 59,
    "start_time": "2022-01-14T08:37:09.331Z"
   },
   {
    "duration": 622,
    "start_time": "2022-01-14T08:37:09.392Z"
   },
   {
    "duration": 188,
    "start_time": "2022-01-14T08:37:10.024Z"
   },
   {
    "duration": 16,
    "start_time": "2022-01-14T08:37:10.215Z"
   },
   {
    "duration": 52,
    "start_time": "2022-01-14T08:37:10.233Z"
   },
   {
    "duration": 607,
    "start_time": "2022-01-14T08:37:10.288Z"
   },
   {
    "duration": 11,
    "start_time": "2022-01-14T08:37:10.897Z"
   },
   {
    "duration": 324,
    "start_time": "2022-01-14T08:37:10.923Z"
   },
   {
    "duration": 332,
    "start_time": "2022-01-14T08:37:11.250Z"
   },
   {
    "duration": 310,
    "start_time": "2022-01-14T08:37:11.585Z"
   },
   {
    "duration": 269,
    "start_time": "2022-01-14T08:37:11.898Z"
   },
   {
    "duration": 582,
    "start_time": "2022-01-14T08:37:12.170Z"
   },
   {
    "duration": 307,
    "start_time": "2022-01-14T08:37:12.754Z"
   },
   {
    "duration": 299,
    "start_time": "2022-01-14T08:37:13.064Z"
   },
   {
    "duration": 298,
    "start_time": "2022-01-14T08:37:13.367Z"
   },
   {
    "duration": 32,
    "start_time": "2022-01-14T08:37:13.668Z"
   },
   {
    "duration": 30,
    "start_time": "2022-01-14T08:37:13.702Z"
   },
   {
    "duration": 13,
    "start_time": "2022-01-14T08:37:13.735Z"
   },
   {
    "duration": 37,
    "start_time": "2022-01-14T08:37:13.751Z"
   },
   {
    "duration": 34,
    "start_time": "2022-01-14T08:37:13.790Z"
   },
   {
    "duration": 445,
    "start_time": "2022-01-14T08:37:13.827Z"
   },
   {
    "duration": 188,
    "start_time": "2022-01-14T08:37:14.087Z"
   },
   {
    "duration": 186,
    "start_time": "2022-01-14T08:37:14.091Z"
   },
   {
    "duration": 185,
    "start_time": "2022-01-14T08:37:14.094Z"
   },
   {
    "duration": 185,
    "start_time": "2022-01-14T08:37:14.097Z"
   },
   {
    "duration": 184,
    "start_time": "2022-01-14T08:37:14.100Z"
   },
   {
    "duration": 183,
    "start_time": "2022-01-14T08:37:14.103Z"
   },
   {
    "duration": 182,
    "start_time": "2022-01-14T08:37:14.106Z"
   },
   {
    "duration": 182,
    "start_time": "2022-01-14T08:37:14.109Z"
   },
   {
    "duration": 182,
    "start_time": "2022-01-14T08:37:14.111Z"
   },
   {
    "duration": 181,
    "start_time": "2022-01-14T08:37:14.114Z"
   },
   {
    "duration": 177,
    "start_time": "2022-01-14T08:37:14.121Z"
   },
   {
    "duration": 1694,
    "start_time": "2022-01-14T08:37:22.219Z"
   },
   {
    "duration": 162,
    "start_time": "2022-01-14T08:38:05.219Z"
   },
   {
    "duration": 1925,
    "start_time": "2022-01-14T08:38:12.939Z"
   },
   {
    "duration": 118,
    "start_time": "2022-01-14T08:39:03.698Z"
   },
   {
    "duration": 115,
    "start_time": "2022-01-14T08:39:09.788Z"
   },
   {
    "duration": 2128,
    "start_time": "2022-01-14T08:40:08.979Z"
   },
   {
    "duration": 1569,
    "start_time": "2022-01-14T08:41:10.498Z"
   },
   {
    "duration": 1828,
    "start_time": "2022-01-14T08:43:34.419Z"
   },
   {
    "duration": 154,
    "start_time": "2022-01-14T08:46:21.367Z"
   },
   {
    "duration": 1166,
    "start_time": "2022-01-14T12:46:51.651Z"
   },
   {
    "duration": 65,
    "start_time": "2022-01-14T12:46:52.819Z"
   },
   {
    "duration": 81,
    "start_time": "2022-01-14T12:46:52.886Z"
   },
   {
    "duration": 79,
    "start_time": "2022-01-14T12:46:52.969Z"
   },
   {
    "duration": 5,
    "start_time": "2022-01-14T12:46:53.049Z"
   },
   {
    "duration": 9,
    "start_time": "2022-01-14T12:46:53.055Z"
   },
   {
    "duration": 4,
    "start_time": "2022-01-14T12:46:53.066Z"
   },
   {
    "duration": 31,
    "start_time": "2022-01-14T12:46:53.073Z"
   },
   {
    "duration": 6,
    "start_time": "2022-01-14T12:46:53.106Z"
   },
   {
    "duration": 8,
    "start_time": "2022-01-14T12:46:53.113Z"
   },
   {
    "duration": 6,
    "start_time": "2022-01-14T12:46:53.123Z"
   },
   {
    "duration": 7,
    "start_time": "2022-01-14T12:46:53.131Z"
   },
   {
    "duration": 5,
    "start_time": "2022-01-14T12:46:53.140Z"
   },
   {
    "duration": 52,
    "start_time": "2022-01-14T12:46:53.147Z"
   },
   {
    "duration": 13,
    "start_time": "2022-01-14T12:46:53.201Z"
   },
   {
    "duration": 7,
    "start_time": "2022-01-14T12:46:53.216Z"
   },
   {
    "duration": 10,
    "start_time": "2022-01-14T12:46:53.224Z"
   },
   {
    "duration": 5,
    "start_time": "2022-01-14T12:46:53.236Z"
   },
   {
    "duration": 7,
    "start_time": "2022-01-14T12:46:53.243Z"
   },
   {
    "duration": 48,
    "start_time": "2022-01-14T12:46:53.252Z"
   },
   {
    "duration": 13,
    "start_time": "2022-01-14T12:46:53.302Z"
   },
   {
    "duration": 18,
    "start_time": "2022-01-14T12:46:53.316Z"
   },
   {
    "duration": 81,
    "start_time": "2022-01-14T12:46:53.338Z"
   },
   {
    "duration": 7,
    "start_time": "2022-01-14T12:46:53.422Z"
   },
   {
    "duration": 11,
    "start_time": "2022-01-14T12:46:53.430Z"
   },
   {
    "duration": 9,
    "start_time": "2022-01-14T12:46:53.442Z"
   },
   {
    "duration": 7,
    "start_time": "2022-01-14T12:46:53.452Z"
   },
   {
    "duration": 11,
    "start_time": "2022-01-14T12:46:53.461Z"
   },
   {
    "duration": 29,
    "start_time": "2022-01-14T12:46:53.474Z"
   },
   {
    "duration": 7,
    "start_time": "2022-01-14T12:46:53.505Z"
   },
   {
    "duration": 7,
    "start_time": "2022-01-14T12:46:53.514Z"
   },
   {
    "duration": 9,
    "start_time": "2022-01-14T12:46:53.522Z"
   },
   {
    "duration": 5,
    "start_time": "2022-01-14T12:46:53.533Z"
   },
   {
    "duration": 6,
    "start_time": "2022-01-14T12:46:53.539Z"
   },
   {
    "duration": 9,
    "start_time": "2022-01-14T12:46:53.599Z"
   },
   {
    "duration": 6,
    "start_time": "2022-01-14T12:46:53.609Z"
   },
   {
    "duration": 10,
    "start_time": "2022-01-14T12:46:53.617Z"
   },
   {
    "duration": 5,
    "start_time": "2022-01-14T12:46:53.628Z"
   },
   {
    "duration": 8,
    "start_time": "2022-01-14T12:46:53.635Z"
   },
   {
    "duration": 62,
    "start_time": "2022-01-14T12:46:53.644Z"
   },
   {
    "duration": 10,
    "start_time": "2022-01-14T12:46:53.707Z"
   },
   {
    "duration": 30,
    "start_time": "2022-01-14T12:46:53.719Z"
   },
   {
    "duration": 8,
    "start_time": "2022-01-14T12:46:53.750Z"
   },
   {
    "duration": 19,
    "start_time": "2022-01-14T12:46:53.759Z"
   },
   {
    "duration": 20,
    "start_time": "2022-01-14T12:46:53.780Z"
   },
   {
    "duration": 19,
    "start_time": "2022-01-14T12:46:53.802Z"
   },
   {
    "duration": 14,
    "start_time": "2022-01-14T12:46:53.822Z"
   },
   {
    "duration": 32,
    "start_time": "2022-01-14T12:46:53.837Z"
   },
   {
    "duration": 22,
    "start_time": "2022-01-14T12:46:53.870Z"
   },
   {
    "duration": 24,
    "start_time": "2022-01-14T12:46:53.893Z"
   },
   {
    "duration": 21,
    "start_time": "2022-01-14T12:46:53.919Z"
   },
   {
    "duration": 10,
    "start_time": "2022-01-14T12:46:53.942Z"
   },
   {
    "duration": 37,
    "start_time": "2022-01-14T12:46:53.953Z"
   },
   {
    "duration": 458,
    "start_time": "2022-01-14T12:46:53.991Z"
   },
   {
    "duration": 4,
    "start_time": "2022-01-14T12:46:54.450Z"
   },
   {
    "duration": 28,
    "start_time": "2022-01-14T12:46:54.456Z"
   },
   {
    "duration": 19,
    "start_time": "2022-01-14T12:46:54.485Z"
   },
   {
    "duration": 1457,
    "start_time": "2022-01-14T12:46:54.506Z"
   },
   {
    "duration": 1167,
    "start_time": "2022-01-14T12:46:55.965Z"
   },
   {
    "duration": 10,
    "start_time": "2022-01-14T12:46:57.134Z"
   },
   {
    "duration": 1510,
    "start_time": "2022-01-14T12:46:57.146Z"
   },
   {
    "duration": 8,
    "start_time": "2022-01-14T12:46:58.658Z"
   },
   {
    "duration": 332,
    "start_time": "2022-01-14T12:46:58.668Z"
   },
   {
    "duration": 10,
    "start_time": "2022-01-14T12:46:59.002Z"
   },
   {
    "duration": 518,
    "start_time": "2022-01-14T12:46:59.014Z"
   },
   {
    "duration": 9,
    "start_time": "2022-01-14T12:46:59.534Z"
   },
   {
    "duration": 376,
    "start_time": "2022-01-14T12:46:59.544Z"
   },
   {
    "duration": 147,
    "start_time": "2022-01-14T12:46:59.925Z"
   },
   {
    "duration": 5,
    "start_time": "2022-01-14T12:47:00.074Z"
   },
   {
    "duration": 26,
    "start_time": "2022-01-14T12:47:00.081Z"
   },
   {
    "duration": 522,
    "start_time": "2022-01-14T12:47:00.109Z"
   },
   {
    "duration": 6,
    "start_time": "2022-01-14T12:47:00.633Z"
   },
   {
    "duration": 71,
    "start_time": "2022-01-14T12:47:00.641Z"
   },
   {
    "duration": 439,
    "start_time": "2022-01-14T12:47:00.714Z"
   },
   {
    "duration": 152,
    "start_time": "2022-01-14T12:47:01.154Z"
   },
   {
    "duration": 8,
    "start_time": "2022-01-14T12:47:01.307Z"
   },
   {
    "duration": 49,
    "start_time": "2022-01-14T12:47:01.317Z"
   },
   {
    "duration": 445,
    "start_time": "2022-01-14T12:47:01.368Z"
   },
   {
    "duration": 9,
    "start_time": "2022-01-14T12:47:01.815Z"
   },
   {
    "duration": 157,
    "start_time": "2022-01-14T12:47:01.826Z"
   },
   {
    "duration": 255,
    "start_time": "2022-01-14T12:47:01.985Z"
   },
   {
    "duration": 233,
    "start_time": "2022-01-14T12:47:02.242Z"
   },
   {
    "duration": 206,
    "start_time": "2022-01-14T12:47:02.476Z"
   },
   {
    "duration": 452,
    "start_time": "2022-01-14T12:47:02.683Z"
   },
   {
    "duration": 306,
    "start_time": "2022-01-14T12:47:03.137Z"
   },
   {
    "duration": 226,
    "start_time": "2022-01-14T12:47:03.444Z"
   },
   {
    "duration": 226,
    "start_time": "2022-01-14T12:47:03.672Z"
   },
   {
    "duration": 23,
    "start_time": "2022-01-14T12:47:03.900Z"
   },
   {
    "duration": 8,
    "start_time": "2022-01-14T12:47:03.925Z"
   },
   {
    "duration": 10,
    "start_time": "2022-01-14T12:47:03.935Z"
   },
   {
    "duration": 52,
    "start_time": "2022-01-14T12:47:03.947Z"
   },
   {
    "duration": 4,
    "start_time": "2022-01-14T12:47:04.001Z"
   },
   {
    "duration": 348,
    "start_time": "2022-01-14T12:47:04.007Z"
   },
   {
    "duration": -24,
    "start_time": "2022-01-14T12:47:04.382Z"
   },
   {
    "duration": -25,
    "start_time": "2022-01-14T12:47:04.384Z"
   },
   {
    "duration": -27,
    "start_time": "2022-01-14T12:47:04.387Z"
   },
   {
    "duration": -30,
    "start_time": "2022-01-14T12:47:04.391Z"
   },
   {
    "duration": -32,
    "start_time": "2022-01-14T12:47:04.394Z"
   },
   {
    "duration": -34,
    "start_time": "2022-01-14T12:47:04.397Z"
   },
   {
    "duration": -35,
    "start_time": "2022-01-14T12:47:04.399Z"
   },
   {
    "duration": -37,
    "start_time": "2022-01-14T12:47:04.402Z"
   },
   {
    "duration": -39,
    "start_time": "2022-01-14T12:47:04.405Z"
   },
   {
    "duration": -41,
    "start_time": "2022-01-14T12:47:04.408Z"
   },
   {
    "duration": -42,
    "start_time": "2022-01-14T12:47:04.411Z"
   },
   {
    "duration": 269,
    "start_time": "2022-01-14T12:48:00.254Z"
   },
   {
    "duration": 1184,
    "start_time": "2022-01-14T12:50:14.479Z"
   },
   {
    "duration": 62,
    "start_time": "2022-01-14T12:50:16.810Z"
   },
   {
    "duration": 97,
    "start_time": "2022-01-14T12:50:24.279Z"
   },
   {
    "duration": 73,
    "start_time": "2022-01-14T12:50:31.519Z"
   },
   {
    "duration": 5,
    "start_time": "2022-01-14T12:50:39.489Z"
   },
   {
    "duration": 7,
    "start_time": "2022-01-14T12:50:42.969Z"
   },
   {
    "duration": 5,
    "start_time": "2022-01-14T12:50:49.810Z"
   },
   {
    "duration": 13,
    "start_time": "2022-01-14T12:50:51.930Z"
   },
   {
    "duration": 7,
    "start_time": "2022-01-14T12:50:55.129Z"
   },
   {
    "duration": 7,
    "start_time": "2022-01-14T12:50:57.958Z"
   },
   {
    "duration": 8,
    "start_time": "2022-01-14T12:51:02.399Z"
   },
   {
    "duration": 8,
    "start_time": "2022-01-14T12:51:08.038Z"
   },
   {
    "duration": 6,
    "start_time": "2022-01-14T12:51:12.119Z"
   },
   {
    "duration": 6,
    "start_time": "2022-01-14T12:51:15.092Z"
   },
   {
    "duration": 14,
    "start_time": "2022-01-14T12:51:17.250Z"
   },
   {
    "duration": 7,
    "start_time": "2022-01-14T12:51:23.332Z"
   },
   {
    "duration": 10,
    "start_time": "2022-01-14T12:51:26.620Z"
   },
   {
    "duration": 6,
    "start_time": "2022-01-14T12:51:30.626Z"
   },
   {
    "duration": 5,
    "start_time": "2022-01-14T12:51:33.799Z"
   },
   {
    "duration": 8,
    "start_time": "2022-01-14T12:51:40.532Z"
   },
   {
    "duration": 17,
    "start_time": "2022-01-14T12:51:44.970Z"
   },
   {
    "duration": 18,
    "start_time": "2022-01-14T12:51:49.519Z"
   },
   {
    "duration": 56,
    "start_time": "2022-01-14T12:51:54.535Z"
   },
   {
    "duration": 8,
    "start_time": "2022-01-14T12:52:00.532Z"
   },
   {
    "duration": 7,
    "start_time": "2022-01-14T12:52:02.167Z"
   },
   {
    "duration": 10,
    "start_time": "2022-01-14T12:52:05.159Z"
   },
   {
    "duration": 7,
    "start_time": "2022-01-14T12:52:10.321Z"
   },
   {
    "duration": 11,
    "start_time": "2022-01-14T12:52:12.439Z"
   },
   {
    "duration": 7,
    "start_time": "2022-01-14T12:52:15.879Z"
   },
   {
    "duration": 8,
    "start_time": "2022-01-14T12:52:21.662Z"
   },
   {
    "duration": 7,
    "start_time": "2022-01-14T12:52:23.867Z"
   },
   {
    "duration": 11,
    "start_time": "2022-01-14T12:52:26.696Z"
   },
   {
    "duration": 6,
    "start_time": "2022-01-14T12:52:29.893Z"
   },
   {
    "duration": 7,
    "start_time": "2022-01-14T12:52:32.878Z"
   },
   {
    "duration": 11,
    "start_time": "2022-01-14T12:52:35.759Z"
   },
   {
    "duration": 8,
    "start_time": "2022-01-14T12:52:39.359Z"
   },
   {
    "duration": 11,
    "start_time": "2022-01-14T12:52:42.839Z"
   },
   {
    "duration": 7,
    "start_time": "2022-01-14T12:52:46.599Z"
   },
   {
    "duration": 7,
    "start_time": "2022-01-14T12:52:49.531Z"
   },
   {
    "duration": 27,
    "start_time": "2022-01-14T12:53:11.369Z"
   },
   {
    "duration": 10,
    "start_time": "2022-01-14T12:53:14.569Z"
   },
   {
    "duration": 30,
    "start_time": "2022-01-14T12:53:30.371Z"
   },
   {
    "duration": 8,
    "start_time": "2022-01-14T12:53:33.678Z"
   },
   {
    "duration": 4,
    "start_time": "2022-01-14T12:53:37.438Z"
   },
   {
    "duration": 5,
    "start_time": "2022-01-14T12:53:40.759Z"
   },
   {
    "duration": 5,
    "start_time": "2022-01-14T12:53:43.575Z"
   },
   {
    "duration": 5,
    "start_time": "2022-01-14T12:53:46.410Z"
   },
   {
    "duration": 15,
    "start_time": "2022-01-14T12:53:48.089Z"
   },
   {
    "duration": 25,
    "start_time": "2022-01-14T12:53:53.967Z"
   },
   {
    "duration": 7,
    "start_time": "2022-01-14T12:54:00.123Z"
   },
   {
    "duration": 8,
    "start_time": "2022-01-14T12:54:02.337Z"
   },
   {
    "duration": 36,
    "start_time": "2022-01-14T12:54:04.478Z"
   },
   {
    "duration": 448,
    "start_time": "2022-01-14T12:54:12.177Z"
   },
   {
    "duration": 5,
    "start_time": "2022-01-14T12:54:31.890Z"
   },
   {
    "duration": 25,
    "start_time": "2022-01-14T12:54:33.890Z"
   },
   {
    "duration": 11,
    "start_time": "2022-01-14T12:54:39.171Z"
   },
   {
    "duration": 1442,
    "start_time": "2022-01-14T12:54:44.438Z"
   },
   {
    "duration": 1127,
    "start_time": "2022-01-14T12:54:48.638Z"
   },
   {
    "duration": 2555,
    "start_time": "2022-01-14T12:56:21.086Z"
   },
   {
    "duration": 74,
    "start_time": "2022-01-14T13:03:09.289Z"
   },
   {
    "duration": 3234,
    "start_time": "2022-01-14T13:03:47.706Z"
   },
   {
    "duration": 10,
    "start_time": "2022-01-14T13:04:52.751Z"
   },
   {
    "duration": 631,
    "start_time": "2022-01-14T13:05:21.314Z"
   },
   {
    "duration": 1201,
    "start_time": "2022-01-14T13:06:16.905Z"
   },
   {
    "duration": 61,
    "start_time": "2022-01-14T13:06:18.108Z"
   },
   {
    "duration": 81,
    "start_time": "2022-01-14T13:06:18.171Z"
   },
   {
    "duration": 83,
    "start_time": "2022-01-14T13:06:18.254Z"
   },
   {
    "duration": 4,
    "start_time": "2022-01-14T13:06:18.339Z"
   },
   {
    "duration": 18,
    "start_time": "2022-01-14T13:06:18.345Z"
   },
   {
    "duration": 20,
    "start_time": "2022-01-14T13:06:18.365Z"
   },
   {
    "duration": 21,
    "start_time": "2022-01-14T13:06:18.388Z"
   },
   {
    "duration": 8,
    "start_time": "2022-01-14T13:06:18.412Z"
   },
   {
    "duration": 22,
    "start_time": "2022-01-14T13:06:18.422Z"
   },
   {
    "duration": 13,
    "start_time": "2022-01-14T13:06:18.445Z"
   },
   {
    "duration": 30,
    "start_time": "2022-01-14T13:06:18.459Z"
   },
   {
    "duration": 22,
    "start_time": "2022-01-14T13:06:18.491Z"
   },
   {
    "duration": 11,
    "start_time": "2022-01-14T13:06:18.514Z"
   },
   {
    "duration": 29,
    "start_time": "2022-01-14T13:06:18.526Z"
   },
   {
    "duration": 6,
    "start_time": "2022-01-14T13:06:18.557Z"
   },
   {
    "duration": 13,
    "start_time": "2022-01-14T13:06:18.565Z"
   },
   {
    "duration": 6,
    "start_time": "2022-01-14T13:06:18.579Z"
   },
   {
    "duration": 12,
    "start_time": "2022-01-14T13:06:18.587Z"
   },
   {
    "duration": 11,
    "start_time": "2022-01-14T13:06:18.605Z"
   },
   {
    "duration": 15,
    "start_time": "2022-01-14T13:06:18.618Z"
   },
   {
    "duration": 19,
    "start_time": "2022-01-14T13:06:18.635Z"
   },
   {
    "duration": 84,
    "start_time": "2022-01-14T13:06:18.659Z"
   },
   {
    "duration": 8,
    "start_time": "2022-01-14T13:06:18.746Z"
   },
   {
    "duration": 11,
    "start_time": "2022-01-14T13:06:18.756Z"
   },
   {
    "duration": 30,
    "start_time": "2022-01-14T13:06:18.769Z"
   },
   {
    "duration": 8,
    "start_time": "2022-01-14T13:06:18.801Z"
   },
   {
    "duration": 11,
    "start_time": "2022-01-14T13:06:18.810Z"
   },
   {
    "duration": 7,
    "start_time": "2022-01-14T13:06:18.823Z"
   },
   {
    "duration": 6,
    "start_time": "2022-01-14T13:06:18.832Z"
   },
   {
    "duration": 7,
    "start_time": "2022-01-14T13:06:18.839Z"
   },
   {
    "duration": 57,
    "start_time": "2022-01-14T13:06:18.848Z"
   },
   {
    "duration": 5,
    "start_time": "2022-01-14T13:06:18.907Z"
   },
   {
    "duration": 8,
    "start_time": "2022-01-14T13:06:18.914Z"
   },
   {
    "duration": 9,
    "start_time": "2022-01-14T13:06:18.923Z"
   },
   {
    "duration": 6,
    "start_time": "2022-01-14T13:06:18.933Z"
   },
   {
    "duration": 10,
    "start_time": "2022-01-14T13:06:18.940Z"
   },
   {
    "duration": 4,
    "start_time": "2022-01-14T13:06:18.952Z"
   },
   {
    "duration": 7,
    "start_time": "2022-01-14T13:06:18.999Z"
   },
   {
    "duration": 27,
    "start_time": "2022-01-14T13:06:19.007Z"
   },
   {
    "duration": 9,
    "start_time": "2022-01-14T13:06:19.036Z"
   },
   {
    "duration": 55,
    "start_time": "2022-01-14T13:06:19.047Z"
   },
   {
    "duration": 8,
    "start_time": "2022-01-14T13:06:19.104Z"
   },
   {
    "duration": 10,
    "start_time": "2022-01-14T13:06:19.113Z"
   },
   {
    "duration": 7,
    "start_time": "2022-01-14T13:06:19.125Z"
   },
   {
    "duration": 5,
    "start_time": "2022-01-14T13:06:19.134Z"
   },
   {
    "duration": 8,
    "start_time": "2022-01-14T13:06:19.141Z"
   },
   {
    "duration": 14,
    "start_time": "2022-01-14T13:06:19.151Z"
   },
   {
    "duration": 43,
    "start_time": "2022-01-14T13:06:19.166Z"
   },
   {
    "duration": 27,
    "start_time": "2022-01-14T13:06:19.211Z"
   },
   {
    "duration": 5,
    "start_time": "2022-01-14T13:06:19.240Z"
   },
   {
    "duration": 5,
    "start_time": "2022-01-14T13:06:19.247Z"
   },
   {
    "duration": 57,
    "start_time": "2022-01-14T13:06:19.254Z"
   },
   {
    "duration": 470,
    "start_time": "2022-01-14T13:06:19.313Z"
   },
   {
    "duration": 4,
    "start_time": "2022-01-14T13:06:19.784Z"
   },
   {
    "duration": 35,
    "start_time": "2022-01-14T13:06:19.789Z"
   },
   {
    "duration": 9,
    "start_time": "2022-01-14T13:06:19.826Z"
   },
   {
    "duration": 1447,
    "start_time": "2022-01-14T13:06:19.836Z"
   },
   {
    "duration": 3171,
    "start_time": "2022-01-14T13:06:21.285Z"
   },
   {
    "duration": 9,
    "start_time": "2022-01-14T13:06:24.459Z"
   },
   {
    "duration": 1256,
    "start_time": "2022-01-14T13:06:28.149Z"
   },
   {
    "duration": 387,
    "start_time": "2022-01-14T13:06:44.597Z"
   },
   {
    "duration": 284,
    "start_time": "2022-01-14T13:06:55.075Z"
   },
   {
    "duration": 1337,
    "start_time": "2022-01-14T13:09:02.696Z"
   },
   {
    "duration": 1315,
    "start_time": "2022-01-14T13:09:24.974Z"
   },
   {
    "duration": 1324,
    "start_time": "2022-01-14T13:10:29.716Z"
   },
   {
    "duration": 769,
    "start_time": "2022-01-14T13:12:34.849Z"
   },
   {
    "duration": 533,
    "start_time": "2022-01-14T13:12:46.742Z"
   },
   {
    "duration": 1352,
    "start_time": "2022-01-14T13:13:04.336Z"
   },
   {
    "duration": 1088,
    "start_time": "2022-01-14T18:10:46.884Z"
   },
   {
    "duration": 53,
    "start_time": "2022-01-14T18:10:47.974Z"
   },
   {
    "duration": 70,
    "start_time": "2022-01-14T18:10:48.029Z"
   },
   {
    "duration": 71,
    "start_time": "2022-01-14T18:10:48.101Z"
   },
   {
    "duration": 4,
    "start_time": "2022-01-14T18:10:48.174Z"
   },
   {
    "duration": 7,
    "start_time": "2022-01-14T18:10:48.179Z"
   },
   {
    "duration": 27,
    "start_time": "2022-01-14T18:10:48.188Z"
   },
   {
    "duration": 12,
    "start_time": "2022-01-14T18:10:48.218Z"
   },
   {
    "duration": 5,
    "start_time": "2022-01-14T18:10:48.232Z"
   },
   {
    "duration": 7,
    "start_time": "2022-01-14T18:10:48.239Z"
   },
   {
    "duration": 6,
    "start_time": "2022-01-14T18:10:48.248Z"
   },
   {
    "duration": 6,
    "start_time": "2022-01-14T18:10:48.256Z"
   },
   {
    "duration": 5,
    "start_time": "2022-01-14T18:10:48.264Z"
   },
   {
    "duration": 42,
    "start_time": "2022-01-14T18:10:48.271Z"
   },
   {
    "duration": 12,
    "start_time": "2022-01-14T18:10:48.315Z"
   },
   {
    "duration": 6,
    "start_time": "2022-01-14T18:10:48.328Z"
   },
   {
    "duration": 8,
    "start_time": "2022-01-14T18:10:48.336Z"
   },
   {
    "duration": 5,
    "start_time": "2022-01-14T18:10:48.346Z"
   },
   {
    "duration": 4,
    "start_time": "2022-01-14T18:10:48.352Z"
   },
   {
    "duration": 6,
    "start_time": "2022-01-14T18:10:48.358Z"
   },
   {
    "duration": 48,
    "start_time": "2022-01-14T18:10:48.365Z"
   },
   {
    "duration": 16,
    "start_time": "2022-01-14T18:10:48.414Z"
   },
   {
    "duration": 51,
    "start_time": "2022-01-14T18:10:48.433Z"
   },
   {
    "duration": 30,
    "start_time": "2022-01-14T18:10:48.486Z"
   },
   {
    "duration": 21,
    "start_time": "2022-01-14T18:10:48.517Z"
   },
   {
    "duration": 8,
    "start_time": "2022-01-14T18:10:48.539Z"
   },
   {
    "duration": 5,
    "start_time": "2022-01-14T18:10:48.549Z"
   },
   {
    "duration": 9,
    "start_time": "2022-01-14T18:10:48.555Z"
   },
   {
    "duration": 6,
    "start_time": "2022-01-14T18:10:48.566Z"
   },
   {
    "duration": 6,
    "start_time": "2022-01-14T18:10:48.574Z"
   },
   {
    "duration": 7,
    "start_time": "2022-01-14T18:10:48.612Z"
   },
   {
    "duration": 8,
    "start_time": "2022-01-14T18:10:48.621Z"
   },
   {
    "duration": 6,
    "start_time": "2022-01-14T18:10:48.631Z"
   },
   {
    "duration": 6,
    "start_time": "2022-01-14T18:10:48.639Z"
   },
   {
    "duration": 9,
    "start_time": "2022-01-14T18:10:48.646Z"
   },
   {
    "duration": 7,
    "start_time": "2022-01-14T18:10:48.656Z"
   },
   {
    "duration": 9,
    "start_time": "2022-01-14T18:10:48.713Z"
   },
   {
    "duration": 6,
    "start_time": "2022-01-14T18:10:48.724Z"
   },
   {
    "duration": 7,
    "start_time": "2022-01-14T18:10:48.731Z"
   },
   {
    "duration": 28,
    "start_time": "2022-01-14T18:10:48.739Z"
   },
   {
    "duration": 44,
    "start_time": "2022-01-14T18:10:48.769Z"
   },
   {
    "duration": 26,
    "start_time": "2022-01-14T18:10:48.815Z"
   },
   {
    "duration": 8,
    "start_time": "2022-01-14T18:10:48.842Z"
   },
   {
    "duration": 5,
    "start_time": "2022-01-14T18:10:48.852Z"
   },
   {
    "duration": 9,
    "start_time": "2022-01-14T18:10:48.859Z"
   },
   {
    "duration": 5,
    "start_time": "2022-01-14T18:10:48.869Z"
   },
   {
    "duration": 37,
    "start_time": "2022-01-14T18:10:48.875Z"
   },
   {
    "duration": 13,
    "start_time": "2022-01-14T18:10:48.914Z"
   },
   {
    "duration": 20,
    "start_time": "2022-01-14T18:10:48.928Z"
   },
   {
    "duration": 23,
    "start_time": "2022-01-14T18:10:48.949Z"
   },
   {
    "duration": 6,
    "start_time": "2022-01-14T18:10:48.974Z"
   },
   {
    "duration": 35,
    "start_time": "2022-01-14T18:10:48.981Z"
   },
   {
    "duration": 24,
    "start_time": "2022-01-14T18:10:49.018Z"
   },
   {
    "duration": 412,
    "start_time": "2022-01-14T18:10:49.044Z"
   },
   {
    "duration": 4,
    "start_time": "2022-01-14T18:10:49.458Z"
   },
   {
    "duration": 23,
    "start_time": "2022-01-14T18:10:49.464Z"
   },
   {
    "duration": 25,
    "start_time": "2022-01-14T18:10:49.489Z"
   },
   {
    "duration": 1227,
    "start_time": "2022-01-14T18:10:49.516Z"
   },
   {
    "duration": 954,
    "start_time": "2022-01-14T18:12:20.232Z"
   },
   {
    "duration": 1353,
    "start_time": "2022-01-14T18:13:35.701Z"
   },
   {
    "duration": 1209,
    "start_time": "2022-01-14T18:13:56.933Z"
   },
   {
    "duration": 243,
    "start_time": "2022-01-14T18:14:59.298Z"
   },
   {
    "duration": 223,
    "start_time": "2022-01-14T18:16:09.291Z"
   },
   {
    "duration": 234,
    "start_time": "2022-01-14T18:18:26.004Z"
   },
   {
    "duration": 303,
    "start_time": "2022-01-14T18:18:32.890Z"
   },
   {
    "duration": 228,
    "start_time": "2022-01-14T18:18:54.662Z"
   },
   {
    "duration": 1299,
    "start_time": "2022-01-14T18:19:19.966Z"
   },
   {
    "duration": 921,
    "start_time": "2022-01-14T18:19:49.497Z"
   },
   {
    "duration": 4,
    "start_time": "2022-01-14T18:26:11.229Z"
   },
   {
    "duration": 64,
    "start_time": "2022-01-14T18:26:11.253Z"
   },
   {
    "duration": 73,
    "start_time": "2022-01-14T18:26:11.319Z"
   },
   {
    "duration": 200,
    "start_time": "2022-01-14T18:26:11.395Z"
   },
   {
    "duration": 16,
    "start_time": "2022-01-14T18:26:11.597Z"
   },
   {
    "duration": 10,
    "start_time": "2022-01-14T18:26:11.615Z"
   },
   {
    "duration": 13,
    "start_time": "2022-01-14T18:26:11.627Z"
   },
   {
    "duration": 10,
    "start_time": "2022-01-14T18:26:11.642Z"
   },
   {
    "duration": 8,
    "start_time": "2022-01-14T18:26:11.655Z"
   },
   {
    "duration": 6,
    "start_time": "2022-01-14T18:26:11.665Z"
   },
   {
    "duration": 45,
    "start_time": "2022-01-14T18:26:11.673Z"
   },
   {
    "duration": 6,
    "start_time": "2022-01-14T18:26:11.720Z"
   },
   {
    "duration": 6,
    "start_time": "2022-01-14T18:26:11.729Z"
   },
   {
    "duration": 8,
    "start_time": "2022-01-14T18:26:11.737Z"
   },
   {
    "duration": 11,
    "start_time": "2022-01-14T18:26:11.747Z"
   },
   {
    "duration": 55,
    "start_time": "2022-01-14T18:26:11.759Z"
   },
   {
    "duration": 13,
    "start_time": "2022-01-14T18:26:11.816Z"
   },
   {
    "duration": 7,
    "start_time": "2022-01-14T18:26:11.832Z"
   },
   {
    "duration": 6,
    "start_time": "2022-01-14T18:26:11.842Z"
   },
   {
    "duration": 10,
    "start_time": "2022-01-14T18:26:11.851Z"
   },
   {
    "duration": 56,
    "start_time": "2022-01-14T18:26:11.864Z"
   },
   {
    "duration": 18,
    "start_time": "2022-01-14T18:26:11.923Z"
   },
   {
    "duration": 100,
    "start_time": "2022-01-14T18:26:11.944Z"
   },
   {
    "duration": 8,
    "start_time": "2022-01-14T18:26:12.046Z"
   },
   {
    "duration": 11,
    "start_time": "2022-01-14T18:26:12.056Z"
   },
   {
    "duration": 13,
    "start_time": "2022-01-14T18:26:12.069Z"
   },
   {
    "duration": 28,
    "start_time": "2022-01-14T18:26:12.084Z"
   },
   {
    "duration": 8,
    "start_time": "2022-01-14T18:26:12.114Z"
   },
   {
    "duration": 6,
    "start_time": "2022-01-14T18:26:12.123Z"
   },
   {
    "duration": 6,
    "start_time": "2022-01-14T18:26:12.130Z"
   },
   {
    "duration": 5,
    "start_time": "2022-01-14T18:26:12.137Z"
   },
   {
    "duration": 8,
    "start_time": "2022-01-14T18:26:12.144Z"
   },
   {
    "duration": 58,
    "start_time": "2022-01-14T18:26:12.154Z"
   },
   {
    "duration": 6,
    "start_time": "2022-01-14T18:26:12.215Z"
   },
   {
    "duration": 11,
    "start_time": "2022-01-14T18:26:12.223Z"
   },
   {
    "duration": 6,
    "start_time": "2022-01-14T18:26:12.235Z"
   },
   {
    "duration": 8,
    "start_time": "2022-01-14T18:26:12.242Z"
   },
   {
    "duration": 9,
    "start_time": "2022-01-14T18:26:12.251Z"
   },
   {
    "duration": 55,
    "start_time": "2022-01-14T18:26:12.262Z"
   },
   {
    "duration": 24,
    "start_time": "2022-01-14T18:26:12.319Z"
   },
   {
    "duration": 9,
    "start_time": "2022-01-14T18:26:12.345Z"
   },
   {
    "duration": 55,
    "start_time": "2022-01-14T18:26:12.357Z"
   },
   {
    "duration": 9,
    "start_time": "2022-01-14T18:26:12.414Z"
   },
   {
    "duration": 5,
    "start_time": "2022-01-14T18:26:12.425Z"
   },
   {
    "duration": 4,
    "start_time": "2022-01-14T18:26:12.432Z"
   },
   {
    "duration": 7,
    "start_time": "2022-01-14T18:26:12.438Z"
   },
   {
    "duration": 6,
    "start_time": "2022-01-14T18:26:12.447Z"
   },
   {
    "duration": 12,
    "start_time": "2022-01-14T18:26:12.456Z"
   },
   {
    "duration": 55,
    "start_time": "2022-01-14T18:26:12.469Z"
   },
   {
    "duration": 26,
    "start_time": "2022-01-14T18:26:12.525Z"
   },
   {
    "duration": 5,
    "start_time": "2022-01-14T18:26:12.552Z"
   },
   {
    "duration": 5,
    "start_time": "2022-01-14T18:26:12.559Z"
   },
   {
    "duration": 47,
    "start_time": "2022-01-14T18:26:12.565Z"
   },
   {
    "duration": 394,
    "start_time": "2022-01-14T18:26:12.614Z"
   },
   {
    "duration": 4,
    "start_time": "2022-01-14T18:26:13.012Z"
   },
   {
    "duration": 36,
    "start_time": "2022-01-14T18:26:13.018Z"
   },
   {
    "duration": 10,
    "start_time": "2022-01-14T18:26:13.056Z"
   },
   {
    "duration": 1110,
    "start_time": "2022-01-14T18:26:13.068Z"
   },
   {
    "duration": 1374,
    "start_time": "2022-01-14T18:26:18.553Z"
   },
   {
    "duration": 249,
    "start_time": "2022-01-14T18:27:37.939Z"
   },
   {
    "duration": 218,
    "start_time": "2022-01-14T18:32:29.419Z"
   },
   {
    "duration": 499,
    "start_time": "2022-01-14T18:32:43.983Z"
   },
   {
    "duration": 448,
    "start_time": "2022-01-14T18:34:38.510Z"
   },
   {
    "duration": 541,
    "start_time": "2022-01-14T18:34:45.821Z"
   },
   {
    "duration": 409,
    "start_time": "2022-01-14T18:35:06.118Z"
   },
   {
    "duration": 456,
    "start_time": "2022-01-14T18:36:45.547Z"
   },
   {
    "duration": 239,
    "start_time": "2022-01-14T18:37:14.729Z"
   },
   {
    "duration": 231,
    "start_time": "2022-01-14T18:37:33.837Z"
   },
   {
    "duration": 237,
    "start_time": "2022-01-14T18:37:51.711Z"
   },
   {
    "duration": 1009,
    "start_time": "2022-01-14T18:37:56.366Z"
   },
   {
    "duration": 1132,
    "start_time": "2022-01-14T18:38:35.810Z"
   },
   {
    "duration": 1020,
    "start_time": "2022-01-14T18:38:51.602Z"
   },
   {
    "duration": 7,
    "start_time": "2022-01-14T18:39:59.688Z"
   },
   {
    "duration": 905,
    "start_time": "2022-01-14T18:41:04.926Z"
   },
   {
    "duration": 238,
    "start_time": "2022-01-14T18:41:29.641Z"
   },
   {
    "duration": 9,
    "start_time": "2022-01-14T18:41:46.359Z"
   },
   {
    "duration": 1050,
    "start_time": "2022-01-14T18:42:14.702Z"
   },
   {
    "duration": 397,
    "start_time": "2022-01-14T18:42:26.804Z"
   },
   {
    "duration": 8,
    "start_time": "2022-01-14T18:42:31.956Z"
   },
   {
    "duration": 286,
    "start_time": "2022-01-14T18:42:35.781Z"
   },
   {
    "duration": 940,
    "start_time": "2022-01-14T18:43:12.005Z"
   },
   {
    "duration": 1051,
    "start_time": "2022-01-14T18:43:22.319Z"
   },
   {
    "duration": 234,
    "start_time": "2022-01-14T18:47:13.333Z"
   },
   {
    "duration": 235,
    "start_time": "2022-01-14T18:47:20.091Z"
   },
   {
    "duration": 246,
    "start_time": "2022-01-14T18:47:30.067Z"
   },
   {
    "duration": 232,
    "start_time": "2022-01-14T18:47:48.915Z"
   },
   {
    "duration": 226,
    "start_time": "2022-01-14T18:49:20.561Z"
   },
   {
    "duration": 114,
    "start_time": "2022-01-14T18:49:26.528Z"
   },
   {
    "duration": 113,
    "start_time": "2022-01-14T18:49:57.732Z"
   },
   {
    "duration": 106,
    "start_time": "2022-01-14T18:54:12.531Z"
   },
   {
    "duration": 995,
    "start_time": "2022-01-14T18:55:08.156Z"
   },
   {
    "duration": 54,
    "start_time": "2022-01-14T18:55:09.153Z"
   },
   {
    "duration": 69,
    "start_time": "2022-01-14T18:55:09.209Z"
   },
   {
    "duration": 73,
    "start_time": "2022-01-14T18:55:09.280Z"
   },
   {
    "duration": 4,
    "start_time": "2022-01-14T18:55:09.355Z"
   },
   {
    "duration": 7,
    "start_time": "2022-01-14T18:55:09.361Z"
   },
   {
    "duration": 4,
    "start_time": "2022-01-14T18:55:09.370Z"
   },
   {
    "duration": 8,
    "start_time": "2022-01-14T18:55:09.376Z"
   },
   {
    "duration": 5,
    "start_time": "2022-01-14T18:55:09.412Z"
   },
   {
    "duration": 6,
    "start_time": "2022-01-14T18:55:09.419Z"
   },
   {
    "duration": 6,
    "start_time": "2022-01-14T18:55:09.426Z"
   },
   {
    "duration": 6,
    "start_time": "2022-01-14T18:55:09.433Z"
   },
   {
    "duration": 6,
    "start_time": "2022-01-14T18:55:09.441Z"
   },
   {
    "duration": 6,
    "start_time": "2022-01-14T18:55:09.448Z"
   },
   {
    "duration": 57,
    "start_time": "2022-01-14T18:55:09.456Z"
   },
   {
    "duration": 7,
    "start_time": "2022-01-14T18:55:09.515Z"
   },
   {
    "duration": 10,
    "start_time": "2022-01-14T18:55:09.523Z"
   },
   {
    "duration": 6,
    "start_time": "2022-01-14T18:55:09.534Z"
   },
   {
    "duration": 5,
    "start_time": "2022-01-14T18:55:09.541Z"
   },
   {
    "duration": 7,
    "start_time": "2022-01-14T18:55:09.548Z"
   },
   {
    "duration": 11,
    "start_time": "2022-01-14T18:55:09.556Z"
   },
   {
    "duration": 17,
    "start_time": "2022-01-14T18:55:09.612Z"
   },
   {
    "duration": 47,
    "start_time": "2022-01-14T18:55:09.633Z"
   },
   {
    "duration": 6,
    "start_time": "2022-01-14T18:55:09.682Z"
   },
   {
    "duration": 6,
    "start_time": "2022-01-14T18:55:09.712Z"
   },
   {
    "duration": 8,
    "start_time": "2022-01-14T18:55:09.719Z"
   },
   {
    "duration": 5,
    "start_time": "2022-01-14T18:55:09.728Z"
   },
   {
    "duration": 9,
    "start_time": "2022-01-14T18:55:09.734Z"
   },
   {
    "duration": 5,
    "start_time": "2022-01-14T18:55:09.744Z"
   },
   {
    "duration": 5,
    "start_time": "2022-01-14T18:55:09.750Z"
   },
   {
    "duration": 5,
    "start_time": "2022-01-14T18:55:09.757Z"
   },
   {
    "duration": 53,
    "start_time": "2022-01-14T18:55:09.763Z"
   },
   {
    "duration": 5,
    "start_time": "2022-01-14T18:55:09.817Z"
   },
   {
    "duration": 6,
    "start_time": "2022-01-14T18:55:09.823Z"
   },
   {
    "duration": 6,
    "start_time": "2022-01-14T18:55:09.830Z"
   },
   {
    "duration": 4,
    "start_time": "2022-01-14T18:55:09.838Z"
   },
   {
    "duration": 7,
    "start_time": "2022-01-14T18:55:09.844Z"
   },
   {
    "duration": 5,
    "start_time": "2022-01-14T18:55:09.852Z"
   },
   {
    "duration": 6,
    "start_time": "2022-01-14T18:55:09.858Z"
   },
   {
    "duration": 66,
    "start_time": "2022-01-14T18:55:09.865Z"
   },
   {
    "duration": 8,
    "start_time": "2022-01-14T18:55:09.933Z"
   },
   {
    "duration": 24,
    "start_time": "2022-01-14T18:55:09.942Z"
   },
   {
    "duration": 6,
    "start_time": "2022-01-14T18:55:09.967Z"
   },
   {
    "duration": 5,
    "start_time": "2022-01-14T18:55:09.975Z"
   },
   {
    "duration": 33,
    "start_time": "2022-01-14T18:55:09.981Z"
   },
   {
    "duration": 4,
    "start_time": "2022-01-14T18:55:10.016Z"
   },
   {
    "duration": 8,
    "start_time": "2022-01-14T18:55:10.021Z"
   },
   {
    "duration": 11,
    "start_time": "2022-01-14T18:55:10.031Z"
   },
   {
    "duration": 18,
    "start_time": "2022-01-14T18:55:10.043Z"
   },
   {
    "duration": 22,
    "start_time": "2022-01-14T18:55:10.062Z"
   },
   {
    "duration": 30,
    "start_time": "2022-01-14T18:55:10.085Z"
   },
   {
    "duration": 5,
    "start_time": "2022-01-14T18:55:10.116Z"
   },
   {
    "duration": 22,
    "start_time": "2022-01-14T18:55:10.123Z"
   },
   {
    "duration": 406,
    "start_time": "2022-01-14T18:55:10.147Z"
   },
   {
    "duration": 4,
    "start_time": "2022-01-14T18:55:10.554Z"
   },
   {
    "duration": 22,
    "start_time": "2022-01-14T18:55:10.559Z"
   },
   {
    "duration": 8,
    "start_time": "2022-01-14T18:55:10.582Z"
   },
   {
    "duration": 1043,
    "start_time": "2022-01-14T18:55:10.591Z"
   },
   {
    "duration": 7,
    "start_time": "2022-01-14T18:55:11.637Z"
   },
   {
    "duration": 904,
    "start_time": "2022-01-14T18:55:11.646Z"
   },
   {
    "duration": 9,
    "start_time": "2022-01-14T18:55:12.552Z"
   },
   {
    "duration": 277,
    "start_time": "2022-01-14T18:55:12.562Z"
   },
   {
    "duration": 10,
    "start_time": "2022-01-14T18:55:12.841Z"
   },
   {
    "duration": 419,
    "start_time": "2022-01-14T18:55:12.852Z"
   },
   {
    "duration": 9,
    "start_time": "2022-01-14T18:55:13.273Z"
   },
   {
    "duration": 391,
    "start_time": "2022-01-14T18:55:13.283Z"
   },
   {
    "duration": 130,
    "start_time": "2022-01-14T18:55:13.676Z"
   },
   {
    "duration": 4,
    "start_time": "2022-01-14T18:55:25.288Z"
   },
   {
    "duration": 9,
    "start_time": "2022-01-14T18:55:28.538Z"
   },
   {
    "duration": 334,
    "start_time": "2022-01-14T18:55:32.334Z"
   },
   {
    "duration": 916,
    "start_time": "2022-01-14T18:56:11.379Z"
   },
   {
    "duration": 239,
    "start_time": "2022-01-14T18:56:18.156Z"
   },
   {
    "duration": 482,
    "start_time": "2022-01-14T18:56:29.932Z"
   },
   {
    "duration": 324,
    "start_time": "2022-01-14T18:57:15.096Z"
   },
   {
    "duration": 6,
    "start_time": "2022-01-14T18:57:20.551Z"
   },
   {
    "duration": 34,
    "start_time": "2022-01-14T18:57:26.616Z"
   },
   {
    "duration": 376,
    "start_time": "2022-01-14T18:57:59.547Z"
   },
   {
    "duration": 319,
    "start_time": "2022-01-14T18:58:02.169Z"
   },
   {
    "duration": 10,
    "start_time": "2022-01-14T18:58:11.008Z"
   },
   {
    "duration": 120,
    "start_time": "2022-01-14T18:58:49.002Z"
   },
   {
    "duration": 7,
    "start_time": "2022-01-14T18:58:57.345Z"
   },
   {
    "duration": 36,
    "start_time": "2022-01-14T18:59:00.207Z"
   },
   {
    "duration": 325,
    "start_time": "2022-01-14T18:59:22.716Z"
   },
   {
    "duration": 416,
    "start_time": "2022-01-14T18:59:26.188Z"
   },
   {
    "duration": 320,
    "start_time": "2022-01-14T18:59:28.966Z"
   },
   {
    "duration": 9,
    "start_time": "2022-01-14T18:59:37.824Z"
   },
   {
    "duration": 7,
    "start_time": "2022-01-14T18:59:42.242Z"
   },
   {
    "duration": 114,
    "start_time": "2022-01-14T18:59:56.375Z"
   },
   {
    "duration": 205,
    "start_time": "2022-01-14T19:00:09.180Z"
   },
   {
    "duration": 182,
    "start_time": "2022-01-14T19:00:21.382Z"
   },
   {
    "duration": 154,
    "start_time": "2022-01-14T19:00:32.871Z"
   },
   {
    "duration": 158,
    "start_time": "2022-01-14T19:00:43.184Z"
   },
   {
    "duration": 477,
    "start_time": "2022-01-14T19:01:34.972Z"
   },
   {
    "duration": 465,
    "start_time": "2022-01-14T19:01:47.595Z"
   },
   {
    "duration": 186,
    "start_time": "2022-01-14T19:01:52.582Z"
   },
   {
    "duration": 291,
    "start_time": "2022-01-14T19:04:19.910Z"
   },
   {
    "duration": 192,
    "start_time": "2022-01-14T19:04:31.031Z"
   },
   {
    "duration": 22,
    "start_time": "2022-01-14T19:04:37.006Z"
   },
   {
    "duration": 7,
    "start_time": "2022-01-14T19:04:46.716Z"
   },
   {
    "duration": 7,
    "start_time": "2022-01-14T19:04:50.104Z"
   },
   {
    "duration": 24,
    "start_time": "2022-01-14T19:04:54.492Z"
   },
   {
    "duration": 4,
    "start_time": "2022-01-14T19:04:59.618Z"
   },
   {
    "duration": 305,
    "start_time": "2022-01-14T19:06:16.676Z"
   },
   {
    "duration": 245,
    "start_time": "2022-01-14T19:06:34.586Z"
   },
   {
    "duration": 350,
    "start_time": "2022-01-14T19:07:23.198Z"
   },
   {
    "duration": 331,
    "start_time": "2022-01-14T19:08:03.463Z"
   },
   {
    "duration": 551,
    "start_time": "2022-01-14T19:08:23.523Z"
   },
   {
    "duration": 315,
    "start_time": "2022-01-14T19:08:33.629Z"
   },
   {
    "duration": 409,
    "start_time": "2022-01-14T19:09:23.883Z"
   },
   {
    "duration": 311,
    "start_time": "2022-01-14T19:10:35.992Z"
   },
   {
    "duration": 562,
    "start_time": "2022-01-14T19:12:43.701Z"
   },
   {
    "duration": 1047,
    "start_time": "2022-01-14T19:13:14.911Z"
   },
   {
    "duration": 56,
    "start_time": "2022-01-14T19:13:15.959Z"
   },
   {
    "duration": 70,
    "start_time": "2022-01-14T19:13:16.017Z"
   },
   {
    "duration": 76,
    "start_time": "2022-01-14T19:13:16.089Z"
   },
   {
    "duration": 4,
    "start_time": "2022-01-14T19:13:16.167Z"
   },
   {
    "duration": 6,
    "start_time": "2022-01-14T19:13:16.172Z"
   },
   {
    "duration": 5,
    "start_time": "2022-01-14T19:13:16.180Z"
   },
   {
    "duration": 29,
    "start_time": "2022-01-14T19:13:16.187Z"
   },
   {
    "duration": 5,
    "start_time": "2022-01-14T19:13:16.217Z"
   },
   {
    "duration": 7,
    "start_time": "2022-01-14T19:13:16.223Z"
   },
   {
    "duration": 6,
    "start_time": "2022-01-14T19:13:16.231Z"
   },
   {
    "duration": 5,
    "start_time": "2022-01-14T19:13:16.239Z"
   },
   {
    "duration": 4,
    "start_time": "2022-01-14T19:13:16.246Z"
   },
   {
    "duration": 5,
    "start_time": "2022-01-14T19:13:16.252Z"
   },
   {
    "duration": 61,
    "start_time": "2022-01-14T19:13:16.258Z"
   },
   {
    "duration": 7,
    "start_time": "2022-01-14T19:13:16.321Z"
   },
   {
    "duration": 9,
    "start_time": "2022-01-14T19:13:16.330Z"
   },
   {
    "duration": 5,
    "start_time": "2022-01-14T19:13:16.341Z"
   },
   {
    "duration": 5,
    "start_time": "2022-01-14T19:13:16.348Z"
   },
   {
    "duration": 6,
    "start_time": "2022-01-14T19:13:16.355Z"
   },
   {
    "duration": 56,
    "start_time": "2022-01-14T19:13:16.363Z"
   },
   {
    "duration": 19,
    "start_time": "2022-01-14T19:13:16.421Z"
   },
   {
    "duration": 48,
    "start_time": "2022-01-14T19:13:16.444Z"
   },
   {
    "duration": 23,
    "start_time": "2022-01-14T19:13:16.494Z"
   },
   {
    "duration": 8,
    "start_time": "2022-01-14T19:13:16.518Z"
   },
   {
    "duration": 7,
    "start_time": "2022-01-14T19:13:16.528Z"
   },
   {
    "duration": 5,
    "start_time": "2022-01-14T19:13:16.536Z"
   },
   {
    "duration": 8,
    "start_time": "2022-01-14T19:13:16.543Z"
   },
   {
    "duration": 5,
    "start_time": "2022-01-14T19:13:16.553Z"
   },
   {
    "duration": 5,
    "start_time": "2022-01-14T19:13:16.559Z"
   },
   {
    "duration": 51,
    "start_time": "2022-01-14T19:13:16.565Z"
   },
   {
    "duration": 8,
    "start_time": "2022-01-14T19:13:16.617Z"
   },
   {
    "duration": 5,
    "start_time": "2022-01-14T19:13:16.626Z"
   },
   {
    "duration": 5,
    "start_time": "2022-01-14T19:13:16.632Z"
   },
   {
    "duration": 6,
    "start_time": "2022-01-14T19:13:16.638Z"
   },
   {
    "duration": 4,
    "start_time": "2022-01-14T19:13:16.646Z"
   },
   {
    "duration": 11,
    "start_time": "2022-01-14T19:13:16.652Z"
   },
   {
    "duration": 5,
    "start_time": "2022-01-14T19:13:16.664Z"
   },
   {
    "duration": 6,
    "start_time": "2022-01-14T19:13:16.712Z"
   },
   {
    "duration": 25,
    "start_time": "2022-01-14T19:13:16.719Z"
   },
   {
    "duration": 8,
    "start_time": "2022-01-14T19:13:16.745Z"
   },
   {
    "duration": 23,
    "start_time": "2022-01-14T19:13:16.755Z"
   },
   {
    "duration": 34,
    "start_time": "2022-01-14T19:13:16.779Z"
   },
   {
    "duration": 5,
    "start_time": "2022-01-14T19:13:16.815Z"
   },
   {
    "duration": 5,
    "start_time": "2022-01-14T19:13:16.822Z"
   },
   {
    "duration": 3,
    "start_time": "2022-01-14T19:13:16.828Z"
   },
   {
    "duration": 5,
    "start_time": "2022-01-14T19:13:16.832Z"
   },
   {
    "duration": 11,
    "start_time": "2022-01-14T19:13:16.839Z"
   },
   {
    "duration": 17,
    "start_time": "2022-01-14T19:13:16.852Z"
   },
   {
    "duration": 49,
    "start_time": "2022-01-14T19:13:16.870Z"
   },
   {
    "duration": 5,
    "start_time": "2022-01-14T19:13:16.921Z"
   },
   {
    "duration": 5,
    "start_time": "2022-01-14T19:13:16.927Z"
   },
   {
    "duration": 21,
    "start_time": "2022-01-14T19:13:16.933Z"
   },
   {
    "duration": 413,
    "start_time": "2022-01-14T19:13:16.955Z"
   },
   {
    "duration": 3,
    "start_time": "2022-01-14T19:13:17.369Z"
   },
   {
    "duration": 23,
    "start_time": "2022-01-14T19:13:17.373Z"
   },
   {
    "duration": 20,
    "start_time": "2022-01-14T19:13:17.398Z"
   },
   {
    "duration": 1009,
    "start_time": "2022-01-14T19:13:17.420Z"
   },
   {
    "duration": 7,
    "start_time": "2022-01-14T19:13:18.431Z"
   },
   {
    "duration": 909,
    "start_time": "2022-01-14T19:13:18.440Z"
   },
   {
    "duration": 7,
    "start_time": "2022-01-14T19:13:19.350Z"
   },
   {
    "duration": 259,
    "start_time": "2022-01-14T19:13:19.358Z"
   },
   {
    "duration": 9,
    "start_time": "2022-01-14T19:13:19.618Z"
   },
   {
    "duration": 416,
    "start_time": "2022-01-14T19:13:19.628Z"
   },
   {
    "duration": 8,
    "start_time": "2022-01-14T19:13:20.045Z"
   },
   {
    "duration": 406,
    "start_time": "2022-01-14T19:13:20.054Z"
   },
   {
    "duration": 115,
    "start_time": "2022-01-14T19:13:20.461Z"
   },
   {
    "duration": 4,
    "start_time": "2022-01-14T19:13:20.580Z"
   },
   {
    "duration": 10,
    "start_time": "2022-01-14T19:13:20.585Z"
   },
   {
    "duration": 322,
    "start_time": "2022-01-14T19:13:20.597Z"
   },
   {
    "duration": 6,
    "start_time": "2022-01-14T19:13:20.920Z"
   },
   {
    "duration": 32,
    "start_time": "2022-01-14T19:13:20.927Z"
   },
   {
    "duration": 9,
    "start_time": "2022-01-14T19:13:20.961Z"
   },
   {
    "duration": 342,
    "start_time": "2022-01-14T19:13:20.972Z"
   },
   {
    "duration": 114,
    "start_time": "2022-01-14T19:13:21.315Z"
   },
   {
    "duration": 6,
    "start_time": "2022-01-14T19:13:21.430Z"
   },
   {
    "duration": 35,
    "start_time": "2022-01-14T19:13:21.438Z"
   },
   {
    "duration": 8,
    "start_time": "2022-01-14T19:13:21.474Z"
   },
   {
    "duration": 329,
    "start_time": "2022-01-14T19:13:21.483Z"
   },
   {
    "duration": 7,
    "start_time": "2022-01-14T19:13:21.813Z"
   },
   {
    "duration": 128,
    "start_time": "2022-01-14T19:13:21.821Z"
   },
   {
    "duration": 292,
    "start_time": "2022-01-14T19:13:21.950Z"
   },
   {
    "duration": 198,
    "start_time": "2022-01-14T19:13:22.244Z"
   },
   {
    "duration": 169,
    "start_time": "2022-01-14T19:13:22.443Z"
   },
   {
    "duration": 423,
    "start_time": "2022-01-14T19:13:22.613Z"
   },
   {
    "duration": 188,
    "start_time": "2022-01-14T19:13:23.038Z"
   },
   {
    "duration": 198,
    "start_time": "2022-01-14T19:13:23.227Z"
   },
   {
    "duration": 230,
    "start_time": "2022-01-14T19:13:23.427Z"
   },
   {
    "duration": 21,
    "start_time": "2022-01-14T19:13:23.659Z"
   },
   {
    "duration": 6,
    "start_time": "2022-01-14T19:13:23.682Z"
   },
   {
    "duration": 25,
    "start_time": "2022-01-14T19:13:23.690Z"
   },
   {
    "duration": 25,
    "start_time": "2022-01-14T19:13:38.423Z"
   },
   {
    "duration": 3,
    "start_time": "2022-01-14T19:13:41.567Z"
   },
   {
    "duration": 247,
    "start_time": "2022-01-14T19:13:44.113Z"
   },
   {
    "duration": 8,
    "start_time": "2022-01-14T19:13:51.021Z"
   },
   {
    "duration": 451,
    "start_time": "2022-01-14T19:15:35.615Z"
   },
   {
    "duration": 1006,
    "start_time": "2022-01-14T19:18:05.448Z"
   },
   {
    "duration": 56,
    "start_time": "2022-01-14T19:18:06.456Z"
   },
   {
    "duration": 71,
    "start_time": "2022-01-14T19:18:06.514Z"
   },
   {
    "duration": 80,
    "start_time": "2022-01-14T19:18:06.587Z"
   },
   {
    "duration": 4,
    "start_time": "2022-01-14T19:18:06.668Z"
   },
   {
    "duration": 7,
    "start_time": "2022-01-14T19:18:06.674Z"
   },
   {
    "duration": 8,
    "start_time": "2022-01-14T19:18:06.682Z"
   },
   {
    "duration": 26,
    "start_time": "2022-01-14T19:18:06.692Z"
   },
   {
    "duration": 5,
    "start_time": "2022-01-14T19:18:06.719Z"
   },
   {
    "duration": 6,
    "start_time": "2022-01-14T19:18:06.726Z"
   },
   {
    "duration": 5,
    "start_time": "2022-01-14T19:18:06.734Z"
   },
   {
    "duration": 6,
    "start_time": "2022-01-14T19:18:06.740Z"
   },
   {
    "duration": 4,
    "start_time": "2022-01-14T19:18:06.747Z"
   },
   {
    "duration": 5,
    "start_time": "2022-01-14T19:18:06.753Z"
   },
   {
    "duration": 56,
    "start_time": "2022-01-14T19:18:06.759Z"
   },
   {
    "duration": 6,
    "start_time": "2022-01-14T19:18:06.816Z"
   },
   {
    "duration": 9,
    "start_time": "2022-01-14T19:18:06.824Z"
   },
   {
    "duration": 5,
    "start_time": "2022-01-14T19:18:06.834Z"
   },
   {
    "duration": 5,
    "start_time": "2022-01-14T19:18:06.840Z"
   },
   {
    "duration": 7,
    "start_time": "2022-01-14T19:18:06.846Z"
   },
   {
    "duration": 12,
    "start_time": "2022-01-14T19:18:06.854Z"
   },
   {
    "duration": 51,
    "start_time": "2022-01-14T19:18:06.867Z"
   },
   {
    "duration": 47,
    "start_time": "2022-01-14T19:18:06.921Z"
   },
   {
    "duration": 6,
    "start_time": "2022-01-14T19:18:06.970Z"
   },
   {
    "duration": 9,
    "start_time": "2022-01-14T19:18:06.978Z"
   },
   {
    "duration": 24,
    "start_time": "2022-01-14T19:18:06.989Z"
   },
   {
    "duration": 6,
    "start_time": "2022-01-14T19:18:07.015Z"
   },
   {
    "duration": 8,
    "start_time": "2022-01-14T19:18:07.022Z"
   },
   {
    "duration": 4,
    "start_time": "2022-01-14T19:18:07.032Z"
   },
   {
    "duration": 8,
    "start_time": "2022-01-14T19:18:07.038Z"
   },
   {
    "duration": 8,
    "start_time": "2022-01-14T19:18:07.047Z"
   },
   {
    "duration": 12,
    "start_time": "2022-01-14T19:18:07.056Z"
   },
   {
    "duration": 5,
    "start_time": "2022-01-14T19:18:07.069Z"
   },
   {
    "duration": 39,
    "start_time": "2022-01-14T19:18:07.076Z"
   },
   {
    "duration": 7,
    "start_time": "2022-01-14T19:18:07.116Z"
   },
   {
    "duration": 5,
    "start_time": "2022-01-14T19:18:07.124Z"
   },
   {
    "duration": 7,
    "start_time": "2022-01-14T19:18:07.131Z"
   },
   {
    "duration": 4,
    "start_time": "2022-01-14T19:18:07.139Z"
   },
   {
    "duration": 5,
    "start_time": "2022-01-14T19:18:07.145Z"
   },
   {
    "duration": 21,
    "start_time": "2022-01-14T19:18:07.151Z"
   },
   {
    "duration": 45,
    "start_time": "2022-01-14T19:18:07.173Z"
   },
   {
    "duration": 24,
    "start_time": "2022-01-14T19:18:07.219Z"
   },
   {
    "duration": 6,
    "start_time": "2022-01-14T19:18:07.245Z"
   },
   {
    "duration": 21,
    "start_time": "2022-01-14T19:18:07.253Z"
   },
   {
    "duration": 6,
    "start_time": "2022-01-14T19:18:07.275Z"
   },
   {
    "duration": 3,
    "start_time": "2022-01-14T19:18:07.282Z"
   },
   {
    "duration": 4,
    "start_time": "2022-01-14T19:18:07.287Z"
   },
   {
    "duration": 23,
    "start_time": "2022-01-14T19:18:07.293Z"
   },
   {
    "duration": 17,
    "start_time": "2022-01-14T19:18:07.318Z"
   },
   {
    "duration": 21,
    "start_time": "2022-01-14T19:18:07.337Z"
   },
   {
    "duration": 4,
    "start_time": "2022-01-14T19:18:07.360Z"
   },
   {
    "duration": 4,
    "start_time": "2022-01-14T19:18:07.366Z"
   },
   {
    "duration": 49,
    "start_time": "2022-01-14T19:18:07.372Z"
   },
   {
    "duration": 398,
    "start_time": "2022-01-14T19:18:07.422Z"
   },
   {
    "duration": 3,
    "start_time": "2022-01-14T19:18:07.822Z"
   },
   {
    "duration": 27,
    "start_time": "2022-01-14T19:18:07.827Z"
   },
   {
    "duration": 7,
    "start_time": "2022-01-14T19:18:07.856Z"
   },
   {
    "duration": 983,
    "start_time": "2022-01-14T19:18:07.865Z"
   },
   {
    "duration": 7,
    "start_time": "2022-01-14T19:18:08.850Z"
   },
   {
    "duration": 879,
    "start_time": "2022-01-14T19:18:08.858Z"
   },
   {
    "duration": 6,
    "start_time": "2022-01-14T19:18:09.739Z"
   },
   {
    "duration": 251,
    "start_time": "2022-01-14T19:18:09.747Z"
   },
   {
    "duration": 17,
    "start_time": "2022-01-14T19:18:09.999Z"
   },
   {
    "duration": 396,
    "start_time": "2022-01-14T19:18:10.018Z"
   },
   {
    "duration": 7,
    "start_time": "2022-01-14T19:18:10.415Z"
   },
   {
    "duration": 391,
    "start_time": "2022-01-14T19:18:10.423Z"
   },
   {
    "duration": 115,
    "start_time": "2022-01-14T19:18:10.815Z"
   },
   {
    "duration": 3,
    "start_time": "2022-01-14T19:18:10.935Z"
   },
   {
    "duration": 9,
    "start_time": "2022-01-14T19:18:10.940Z"
   },
   {
    "duration": 328,
    "start_time": "2022-01-14T19:18:10.950Z"
   },
   {
    "duration": 6,
    "start_time": "2022-01-14T19:18:11.279Z"
   },
   {
    "duration": 43,
    "start_time": "2022-01-14T19:18:11.286Z"
   },
   {
    "duration": 10,
    "start_time": "2022-01-14T19:18:11.330Z"
   },
   {
    "duration": 323,
    "start_time": "2022-01-14T19:18:11.341Z"
   },
   {
    "duration": 120,
    "start_time": "2022-01-14T19:18:11.666Z"
   },
   {
    "duration": 8,
    "start_time": "2022-01-14T19:18:11.788Z"
   },
   {
    "duration": 46,
    "start_time": "2022-01-14T19:18:11.797Z"
   },
   {
    "duration": 9,
    "start_time": "2022-01-14T19:18:11.845Z"
   },
   {
    "duration": 318,
    "start_time": "2022-01-14T19:18:11.856Z"
   },
   {
    "duration": 7,
    "start_time": "2022-01-14T19:18:12.176Z"
   },
   {
    "duration": 121,
    "start_time": "2022-01-14T19:18:12.184Z"
   },
   {
    "duration": 278,
    "start_time": "2022-01-14T19:18:12.306Z"
   },
   {
    "duration": 189,
    "start_time": "2022-01-14T19:18:12.585Z"
   },
   {
    "duration": 160,
    "start_time": "2022-01-14T19:18:12.775Z"
   },
   {
    "duration": 420,
    "start_time": "2022-01-14T19:18:12.937Z"
   },
   {
    "duration": 183,
    "start_time": "2022-01-14T19:18:13.358Z"
   },
   {
    "duration": 187,
    "start_time": "2022-01-14T19:18:13.543Z"
   },
   {
    "duration": 187,
    "start_time": "2022-01-14T19:18:13.732Z"
   },
   {
    "duration": 19,
    "start_time": "2022-01-14T19:18:13.921Z"
   },
   {
    "duration": 6,
    "start_time": "2022-01-14T19:18:13.942Z"
   },
   {
    "duration": 8,
    "start_time": "2022-01-14T19:18:13.949Z"
   },
   {
    "duration": 317,
    "start_time": "2022-01-14T19:18:26.464Z"
   },
   {
    "duration": 8,
    "start_time": "2022-01-14T19:19:04.171Z"
   },
   {
    "duration": 1007,
    "start_time": "2022-01-14T19:19:29.753Z"
   },
   {
    "duration": 54,
    "start_time": "2022-01-14T19:19:30.762Z"
   },
   {
    "duration": 71,
    "start_time": "2022-01-14T19:19:30.817Z"
   },
   {
    "duration": 78,
    "start_time": "2022-01-14T19:19:30.890Z"
   },
   {
    "duration": 5,
    "start_time": "2022-01-14T19:19:30.970Z"
   },
   {
    "duration": 10,
    "start_time": "2022-01-14T19:19:30.977Z"
   },
   {
    "duration": 28,
    "start_time": "2022-01-14T19:19:30.988Z"
   },
   {
    "duration": 20,
    "start_time": "2022-01-14T19:19:31.022Z"
   },
   {
    "duration": 6,
    "start_time": "2022-01-14T19:19:31.045Z"
   },
   {
    "duration": 8,
    "start_time": "2022-01-14T19:19:31.052Z"
   },
   {
    "duration": 8,
    "start_time": "2022-01-14T19:19:31.061Z"
   },
   {
    "duration": 7,
    "start_time": "2022-01-14T19:19:31.070Z"
   },
   {
    "duration": 34,
    "start_time": "2022-01-14T19:19:31.078Z"
   },
   {
    "duration": 6,
    "start_time": "2022-01-14T19:19:31.114Z"
   },
   {
    "duration": 11,
    "start_time": "2022-01-14T19:19:31.122Z"
   },
   {
    "duration": 6,
    "start_time": "2022-01-14T19:19:31.135Z"
   },
   {
    "duration": 11,
    "start_time": "2022-01-14T19:19:31.142Z"
   },
   {
    "duration": 4,
    "start_time": "2022-01-14T19:19:31.155Z"
   },
   {
    "duration": 10,
    "start_time": "2022-01-14T19:19:31.161Z"
   },
   {
    "duration": 7,
    "start_time": "2022-01-14T19:19:31.173Z"
   },
   {
    "duration": 10,
    "start_time": "2022-01-14T19:19:31.212Z"
   },
   {
    "duration": 15,
    "start_time": "2022-01-14T19:19:31.223Z"
   },
   {
    "duration": 54,
    "start_time": "2022-01-14T19:19:31.241Z"
   },
   {
    "duration": 18,
    "start_time": "2022-01-14T19:19:31.297Z"
   },
   {
    "duration": 8,
    "start_time": "2022-01-14T19:19:31.317Z"
   },
   {
    "duration": 7,
    "start_time": "2022-01-14T19:19:31.327Z"
   },
   {
    "duration": 5,
    "start_time": "2022-01-14T19:19:31.336Z"
   },
   {
    "duration": 7,
    "start_time": "2022-01-14T19:19:31.342Z"
   },
   {
    "duration": 5,
    "start_time": "2022-01-14T19:19:31.351Z"
   },
   {
    "duration": 6,
    "start_time": "2022-01-14T19:19:31.357Z"
   },
   {
    "duration": 7,
    "start_time": "2022-01-14T19:19:31.365Z"
   },
   {
    "duration": 45,
    "start_time": "2022-01-14T19:19:31.373Z"
   },
   {
    "duration": 5,
    "start_time": "2022-01-14T19:19:31.420Z"
   },
   {
    "duration": 5,
    "start_time": "2022-01-14T19:19:31.426Z"
   },
   {
    "duration": 6,
    "start_time": "2022-01-14T19:19:31.433Z"
   },
   {
    "duration": 4,
    "start_time": "2022-01-14T19:19:31.441Z"
   },
   {
    "duration": 7,
    "start_time": "2022-01-14T19:19:31.447Z"
   },
   {
    "duration": 4,
    "start_time": "2022-01-14T19:19:31.455Z"
   },
   {
    "duration": 51,
    "start_time": "2022-01-14T19:19:31.461Z"
   },
   {
    "duration": 22,
    "start_time": "2022-01-14T19:19:31.514Z"
   },
   {
    "duration": 8,
    "start_time": "2022-01-14T19:19:31.537Z"
   },
   {
    "duration": 25,
    "start_time": "2022-01-14T19:19:31.547Z"
   },
   {
    "duration": 7,
    "start_time": "2022-01-14T19:19:31.573Z"
   },
   {
    "duration": 30,
    "start_time": "2022-01-14T19:19:31.582Z"
   },
   {
    "duration": 4,
    "start_time": "2022-01-14T19:19:31.613Z"
   },
   {
    "duration": 3,
    "start_time": "2022-01-14T19:19:31.619Z"
   },
   {
    "duration": 5,
    "start_time": "2022-01-14T19:19:31.624Z"
   },
   {
    "duration": 17,
    "start_time": "2022-01-14T19:19:31.630Z"
   },
   {
    "duration": 27,
    "start_time": "2022-01-14T19:19:31.649Z"
   },
   {
    "duration": 51,
    "start_time": "2022-01-14T19:19:31.677Z"
   },
   {
    "duration": 5,
    "start_time": "2022-01-14T19:19:31.729Z"
   },
   {
    "duration": 7,
    "start_time": "2022-01-14T19:19:31.735Z"
   },
   {
    "duration": 41,
    "start_time": "2022-01-14T19:19:31.744Z"
   },
   {
    "duration": 442,
    "start_time": "2022-01-14T19:19:31.786Z"
   },
   {
    "duration": 3,
    "start_time": "2022-01-14T19:19:32.230Z"
   },
   {
    "duration": 31,
    "start_time": "2022-01-14T19:19:32.235Z"
   },
   {
    "duration": 10,
    "start_time": "2022-01-14T19:19:32.267Z"
   },
   {
    "duration": 1046,
    "start_time": "2022-01-14T19:19:32.278Z"
   },
   {
    "duration": 8,
    "start_time": "2022-01-14T19:19:33.325Z"
   },
   {
    "duration": 889,
    "start_time": "2022-01-14T19:19:33.334Z"
   },
   {
    "duration": 7,
    "start_time": "2022-01-14T19:19:34.224Z"
   },
   {
    "duration": 260,
    "start_time": "2022-01-14T19:19:34.233Z"
   },
   {
    "duration": 18,
    "start_time": "2022-01-14T19:19:34.495Z"
   },
   {
    "duration": 406,
    "start_time": "2022-01-14T19:19:34.515Z"
   },
   {
    "duration": 8,
    "start_time": "2022-01-14T19:19:34.923Z"
   },
   {
    "duration": 395,
    "start_time": "2022-01-14T19:19:34.933Z"
   },
   {
    "duration": 115,
    "start_time": "2022-01-14T19:19:35.330Z"
   },
   {
    "duration": 3,
    "start_time": "2022-01-14T19:19:35.450Z"
   },
   {
    "duration": 9,
    "start_time": "2022-01-14T19:19:35.456Z"
   },
   {
    "duration": 328,
    "start_time": "2022-01-14T19:19:35.466Z"
   },
   {
    "duration": 7,
    "start_time": "2022-01-14T19:19:35.795Z"
   },
   {
    "duration": 33,
    "start_time": "2022-01-14T19:19:35.812Z"
   },
   {
    "duration": 9,
    "start_time": "2022-01-14T19:19:35.847Z"
   },
   {
    "duration": 327,
    "start_time": "2022-01-14T19:19:35.858Z"
   },
   {
    "duration": 121,
    "start_time": "2022-01-14T19:19:36.186Z"
   },
   {
    "duration": 8,
    "start_time": "2022-01-14T19:19:36.308Z"
   },
   {
    "duration": 32,
    "start_time": "2022-01-14T19:19:36.318Z"
   },
   {
    "duration": 8,
    "start_time": "2022-01-14T19:19:36.351Z"
   },
   {
    "duration": 330,
    "start_time": "2022-01-14T19:19:36.361Z"
   },
   {
    "duration": 8,
    "start_time": "2022-01-14T19:19:36.692Z"
   },
   {
    "duration": 109,
    "start_time": "2022-01-14T19:19:36.712Z"
   },
   {
    "duration": 281,
    "start_time": "2022-01-14T19:19:36.823Z"
   },
   {
    "duration": 187,
    "start_time": "2022-01-14T19:19:37.111Z"
   },
   {
    "duration": 161,
    "start_time": "2022-01-14T19:19:37.300Z"
   },
   {
    "duration": 471,
    "start_time": "2022-01-14T19:19:37.462Z"
   },
   {
    "duration": 179,
    "start_time": "2022-01-14T19:19:37.934Z"
   },
   {
    "duration": 189,
    "start_time": "2022-01-14T19:19:38.115Z"
   },
   {
    "duration": 199,
    "start_time": "2022-01-14T19:19:38.306Z"
   },
   {
    "duration": 24,
    "start_time": "2022-01-14T19:19:38.507Z"
   },
   {
    "duration": 6,
    "start_time": "2022-01-14T19:19:38.532Z"
   },
   {
    "duration": 6,
    "start_time": "2022-01-14T19:19:38.539Z"
   },
   {
    "duration": 322,
    "start_time": "2022-01-14T19:19:46.531Z"
   },
   {
    "duration": 180,
    "start_time": "2022-01-14T19:20:21.020Z"
   },
   {
    "duration": 984,
    "start_time": "2022-01-14T19:22:02.573Z"
   },
   {
    "duration": 59,
    "start_time": "2022-01-14T19:22:03.559Z"
   },
   {
    "duration": 73,
    "start_time": "2022-01-14T19:22:03.620Z"
   },
   {
    "duration": 78,
    "start_time": "2022-01-14T19:22:03.695Z"
   },
   {
    "duration": 4,
    "start_time": "2022-01-14T19:22:03.775Z"
   },
   {
    "duration": 32,
    "start_time": "2022-01-14T19:22:03.781Z"
   },
   {
    "duration": 5,
    "start_time": "2022-01-14T19:22:03.814Z"
   },
   {
    "duration": 9,
    "start_time": "2022-01-14T19:22:03.822Z"
   },
   {
    "duration": 5,
    "start_time": "2022-01-14T19:22:03.833Z"
   },
   {
    "duration": 7,
    "start_time": "2022-01-14T19:22:03.840Z"
   },
   {
    "duration": 6,
    "start_time": "2022-01-14T19:22:03.849Z"
   },
   {
    "duration": 6,
    "start_time": "2022-01-14T19:22:03.856Z"
   },
   {
    "duration": 54,
    "start_time": "2022-01-14T19:22:03.863Z"
   },
   {
    "duration": 6,
    "start_time": "2022-01-14T19:22:03.919Z"
   },
   {
    "duration": 11,
    "start_time": "2022-01-14T19:22:03.927Z"
   },
   {
    "duration": 7,
    "start_time": "2022-01-14T19:22:03.940Z"
   },
   {
    "duration": 9,
    "start_time": "2022-01-14T19:22:03.948Z"
   },
   {
    "duration": 6,
    "start_time": "2022-01-14T19:22:03.959Z"
   },
   {
    "duration": 6,
    "start_time": "2022-01-14T19:22:04.012Z"
   },
   {
    "duration": 7,
    "start_time": "2022-01-14T19:22:04.020Z"
   },
   {
    "duration": 11,
    "start_time": "2022-01-14T19:22:04.028Z"
   },
   {
    "duration": 15,
    "start_time": "2022-01-14T19:22:04.041Z"
   },
   {
    "duration": 83,
    "start_time": "2022-01-14T19:22:04.061Z"
   },
   {
    "duration": 7,
    "start_time": "2022-01-14T19:22:04.147Z"
   },
   {
    "duration": 9,
    "start_time": "2022-01-14T19:22:04.155Z"
   },
   {
    "duration": 8,
    "start_time": "2022-01-14T19:22:04.165Z"
   },
   {
    "duration": 7,
    "start_time": "2022-01-14T19:22:04.174Z"
   },
   {
    "duration": 35,
    "start_time": "2022-01-14T19:22:04.183Z"
   },
   {
    "duration": 6,
    "start_time": "2022-01-14T19:22:04.219Z"
   },
   {
    "duration": 6,
    "start_time": "2022-01-14T19:22:04.227Z"
   },
   {
    "duration": 6,
    "start_time": "2022-01-14T19:22:04.234Z"
   },
   {
    "duration": 7,
    "start_time": "2022-01-14T19:22:04.242Z"
   },
   {
    "duration": 5,
    "start_time": "2022-01-14T19:22:04.251Z"
   },
   {
    "duration": 8,
    "start_time": "2022-01-14T19:22:04.257Z"
   },
   {
    "duration": 51,
    "start_time": "2022-01-14T19:22:04.266Z"
   },
   {
    "duration": 5,
    "start_time": "2022-01-14T19:22:04.319Z"
   },
   {
    "duration": 8,
    "start_time": "2022-01-14T19:22:04.326Z"
   },
   {
    "duration": 5,
    "start_time": "2022-01-14T19:22:04.336Z"
   },
   {
    "duration": 6,
    "start_time": "2022-01-14T19:22:04.343Z"
   },
   {
    "duration": 62,
    "start_time": "2022-01-14T19:22:04.351Z"
   },
   {
    "duration": 9,
    "start_time": "2022-01-14T19:22:04.414Z"
   },
   {
    "duration": 24,
    "start_time": "2022-01-14T19:22:04.424Z"
   },
   {
    "duration": 7,
    "start_time": "2022-01-14T19:22:04.449Z"
   },
   {
    "duration": 4,
    "start_time": "2022-01-14T19:22:04.457Z"
   },
   {
    "duration": 5,
    "start_time": "2022-01-14T19:22:04.463Z"
   },
   {
    "duration": 3,
    "start_time": "2022-01-14T19:22:04.469Z"
   },
   {
    "duration": 4,
    "start_time": "2022-01-14T19:22:04.474Z"
   },
   {
    "duration": 12,
    "start_time": "2022-01-14T19:22:04.511Z"
   },
   {
    "duration": 17,
    "start_time": "2022-01-14T19:22:04.524Z"
   },
   {
    "duration": 23,
    "start_time": "2022-01-14T19:22:04.543Z"
   },
   {
    "duration": 4,
    "start_time": "2022-01-14T19:22:04.568Z"
   },
   {
    "duration": 4,
    "start_time": "2022-01-14T19:22:04.574Z"
   },
   {
    "duration": 49,
    "start_time": "2022-01-14T19:22:04.580Z"
   },
   {
    "duration": 401,
    "start_time": "2022-01-14T19:22:04.630Z"
   },
   {
    "duration": 4,
    "start_time": "2022-01-14T19:22:05.032Z"
   },
   {
    "duration": 30,
    "start_time": "2022-01-14T19:22:05.037Z"
   },
   {
    "duration": 8,
    "start_time": "2022-01-14T19:22:05.068Z"
   },
   {
    "duration": 945,
    "start_time": "2022-01-14T19:22:05.078Z"
   },
   {
    "duration": 9,
    "start_time": "2022-01-14T19:22:06.024Z"
   },
   {
    "duration": 888,
    "start_time": "2022-01-14T19:22:06.034Z"
   },
   {
    "duration": 8,
    "start_time": "2022-01-14T19:22:06.924Z"
   },
   {
    "duration": 258,
    "start_time": "2022-01-14T19:22:06.933Z"
   },
   {
    "duration": 8,
    "start_time": "2022-01-14T19:22:07.193Z"
   },
   {
    "duration": 396,
    "start_time": "2022-01-14T19:22:07.212Z"
   },
   {
    "duration": 7,
    "start_time": "2022-01-14T19:22:07.610Z"
   },
   {
    "duration": 397,
    "start_time": "2022-01-14T19:22:07.619Z"
   },
   {
    "duration": 115,
    "start_time": "2022-01-14T19:22:08.018Z"
   },
   {
    "duration": 4,
    "start_time": "2022-01-14T19:22:08.137Z"
   },
   {
    "duration": 10,
    "start_time": "2022-01-14T19:22:08.142Z"
   },
   {
    "duration": 326,
    "start_time": "2022-01-14T19:22:08.153Z"
   },
   {
    "duration": 7,
    "start_time": "2022-01-14T19:22:08.481Z"
   },
   {
    "duration": 62,
    "start_time": "2022-01-14T19:22:08.490Z"
   },
   {
    "duration": 14,
    "start_time": "2022-01-14T19:22:08.554Z"
   },
   {
    "duration": 317,
    "start_time": "2022-01-14T19:22:08.569Z"
   },
   {
    "duration": 113,
    "start_time": "2022-01-14T19:22:08.888Z"
   },
   {
    "duration": 12,
    "start_time": "2022-01-14T19:22:09.003Z"
   },
   {
    "duration": 33,
    "start_time": "2022-01-14T19:22:09.016Z"
   },
   {
    "duration": 8,
    "start_time": "2022-01-14T19:22:09.050Z"
   },
   {
    "duration": 323,
    "start_time": "2022-01-14T19:22:09.059Z"
   },
   {
    "duration": 6,
    "start_time": "2022-01-14T19:22:09.384Z"
   },
   {
    "duration": 120,
    "start_time": "2022-01-14T19:22:09.392Z"
   },
   {
    "duration": 279,
    "start_time": "2022-01-14T19:22:09.514Z"
   },
   {
    "duration": 191,
    "start_time": "2022-01-14T19:22:09.794Z"
   },
   {
    "duration": 167,
    "start_time": "2022-01-14T19:22:09.987Z"
   },
   {
    "duration": 448,
    "start_time": "2022-01-14T19:22:10.155Z"
   },
   {
    "duration": 179,
    "start_time": "2022-01-14T19:22:10.605Z"
   },
   {
    "duration": 186,
    "start_time": "2022-01-14T19:22:10.786Z"
   },
   {
    "duration": 193,
    "start_time": "2022-01-14T19:22:10.973Z"
   },
   {
    "duration": 19,
    "start_time": "2022-01-14T19:22:11.168Z"
   },
   {
    "duration": 6,
    "start_time": "2022-01-14T19:22:11.188Z"
   },
   {
    "duration": 21,
    "start_time": "2022-01-14T19:22:11.196Z"
   },
   {
    "duration": 23,
    "start_time": "2022-01-14T19:22:11.218Z"
   },
   {
    "duration": 2,
    "start_time": "2022-01-14T19:22:11.243Z"
   },
   {
    "duration": 3,
    "start_time": "2022-01-14T19:22:20.132Z"
   },
   {
    "duration": 217,
    "start_time": "2022-01-14T19:22:23.226Z"
   },
   {
    "duration": 8,
    "start_time": "2022-01-14T19:22:40.154Z"
   },
   {
    "duration": 20,
    "start_time": "2022-01-14T19:22:52.118Z"
   },
   {
    "duration": 192,
    "start_time": "2022-01-14T19:22:53.614Z"
   },
   {
    "duration": 13,
    "start_time": "2022-01-14T19:23:05.846Z"
   },
   {
    "duration": 152,
    "start_time": "2022-01-14T19:23:07.352Z"
   },
   {
    "duration": 312,
    "start_time": "2022-01-14T19:23:15.408Z"
   },
   {
    "duration": 4,
    "start_time": "2022-01-14T19:23:17.870Z"
   },
   {
    "duration": 190,
    "start_time": "2022-01-14T19:23:20.934Z"
   },
   {
    "duration": 187,
    "start_time": "2022-01-14T19:23:24.801Z"
   },
   {
    "duration": 188,
    "start_time": "2022-01-14T19:23:33.397Z"
   },
   {
    "duration": 204,
    "start_time": "2022-01-14T19:24:36.841Z"
   }
  ],
  "kernelspec": {
   "display_name": "Python 3 (ipykernel)",
   "language": "python",
   "name": "python3"
  },
  "language_info": {
   "codemirror_mode": {
    "name": "ipython",
    "version": 3
   },
   "file_extension": ".py",
   "mimetype": "text/x-python",
   "name": "python",
   "nbconvert_exporter": "python",
   "pygments_lexer": "ipython3",
   "version": "3.9.5"
  },
  "toc": {
   "base_numbering": 1,
   "nav_menu": {},
   "number_sections": true,
   "sideBar": true,
   "skip_h1_title": true,
   "title_cell": "Содержание",
   "title_sidebar": "Contents",
   "toc_cell": true,
   "toc_position": {
    "height": "calc(100% - 180px)",
    "left": "10px",
    "top": "150px",
    "width": "408.797px"
   },
   "toc_section_display": true,
   "toc_window_display": true
  }
 },
 "nbformat": 4,
 "nbformat_minor": 2
}
