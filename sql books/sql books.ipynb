{
 "cells": [
  {
   "cell_type": "markdown",
   "metadata": {},
   "source": [
    "# Анализ базы данных о книгах."
   ]
  },
  {
   "cell_type": "markdown",
   "metadata": {},
   "source": [
    "**Цель** — проанализировать базу данных, сформулировать ценностное предложение для нового продукта."
   ]
  },
  {
   "cell_type": "markdown",
   "metadata": {},
   "source": [
    "**Задачи**\n",
    "\n",
    "- Исследовать таблицы — вывести первые строки;\n",
    "- Решить задания:\n",
    "- - Посчитать, сколько книг вышло после 1 января 2000 года;\n",
    "- - Для каждой книги посчитать количество обзоров и среднюю оценку;\n",
    "- - Определить издательство, которое выпустило наибольшее число книг толще 50 страниц;\n",
    "- - Определить автора с самой высокой средней оценкой книг (книги с 50 и более оценками);\n",
    "- - Посчитать среднее количество обзоров от пользователей, которые поставили больше 50 оценок.\n",
    "- Описать выводы по каждой из решённых задач."
   ]
  },
  {
   "cell_type": "markdown",
   "metadata": {},
   "source": [
    "Описание данных\n",
    "**Таблица books**\n",
    "\n",
    "Содержит данные о книгах:\n",
    "- *book_id* — идентификатор книги;\n",
    "- *author_id* — идентификатор автора;\n",
    "- *title* — название книги;\n",
    "- *num_pages* — количество страниц;\n",
    "- *publication_date* — дата публикации книги;\n",
    "- *publisher_id* — идентификатор издателя.\n",
    "\n",
    "**Таблица authors**\n",
    "\n",
    "Содержит данные об авторах:\n",
    "- *author_id* — идентификатор автора;\n",
    "- *author* — имя автора.\n",
    "\n",
    "**Таблица publishers**\n",
    "\n",
    "Содержит данные об издательствах:\n",
    "- *publisher_id* — идентификатор издательства;\n",
    "- *publisher* — название издательства;\n",
    "\n",
    "**Таблица ratings**\n",
    "\n",
    "Содержит данные о пользовательских оценках книг:\n",
    "- *rating_id* — идентификатор оценки;\n",
    "- *book_id* — идентификатор книги;\n",
    "- *username* — имя пользователя, оставившего оценку;\n",
    "- *rating* — оценка книги.\n",
    "\n",
    "**Таблица reviews**\n",
    "\n",
    "Содержит данные о пользовательских обзорах:\n",
    "- *review_id* — идентификатор обзора;\n",
    "- *book_id* — идентификатор книги;\n",
    "- *username* — имя автора обзора;\n",
    "- *text* — текст обзора."
   ]
  },
  {
   "cell_type": "markdown",
   "metadata": {},
   "source": [
    "### Подготовительный этап"
   ]
  },
  {
   "cell_type": "code",
   "execution_count": 1,
   "metadata": {},
   "outputs": [],
   "source": [
    "# импортируем библиотеки\n",
    "import pandas as pd\n",
    "from sqlalchemy import create_engine \n",
    "# устанавливаем параметры\n",
    "db_config = {'user': 'praktikum_student', # имя пользователя\n",
    "'pwd': 'Sdf4$2;d-d30pp', # пароль\n",
    "'host': 'rc1b-wcoijxj3yxfsf3fs.mdb.yandexcloud.net',\n",
    "'port': 6432, # порт подключения\n",
    "'db': 'data-analyst-final-project-db'} # название базы данных\n",
    "connection_string = 'postgresql://{}:{}@{}:{}/{}'.format(db_config['user'],\n",
    " db_config['pwd'],\n",
    " db_config['host'],\n",
    " db_config['port'],\n",
    " db_config['db'])\n",
    "# сохраняем коннектор\n",
    "engine = create_engine(connection_string, connect_args={'sslmode':'require'}) "
   ]
  },
  {
   "cell_type": "markdown",
   "metadata": {},
   "source": [
    "Напишем функцию для выполнения sql запроса."
   ]
  },
  {
   "cell_type": "code",
   "execution_count": 2,
   "metadata": {},
   "outputs": [],
   "source": [
    "def connection(sql):\n",
    "    return pd.io.sql.read_sql(sql, con = engine) "
   ]
  },
  {
   "cell_type": "markdown",
   "metadata": {},
   "source": [
    "## Исследование таблиц"
   ]
  },
  {
   "cell_type": "markdown",
   "metadata": {},
   "source": [
    "### **Таблица books**"
   ]
  },
  {
   "cell_type": "code",
   "execution_count": 3,
   "metadata": {},
   "outputs": [],
   "source": [
    "sql='''\n",
    "SELECT *\n",
    "FROM books\n",
    "LIMIT 5\n",
    "'''"
   ]
  },
  {
   "cell_type": "code",
   "execution_count": 4,
   "metadata": {},
   "outputs": [
    {
     "data": {
      "text/html": [
       "<div>\n",
       "<style scoped>\n",
       "    .dataframe tbody tr th:only-of-type {\n",
       "        vertical-align: middle;\n",
       "    }\n",
       "\n",
       "    .dataframe tbody tr th {\n",
       "        vertical-align: top;\n",
       "    }\n",
       "\n",
       "    .dataframe thead th {\n",
       "        text-align: right;\n",
       "    }\n",
       "</style>\n",
       "<table border=\"1\" class=\"dataframe\">\n",
       "  <thead>\n",
       "    <tr style=\"text-align: right;\">\n",
       "      <th></th>\n",
       "      <th>book_id</th>\n",
       "      <th>author_id</th>\n",
       "      <th>title</th>\n",
       "      <th>num_pages</th>\n",
       "      <th>publication_date</th>\n",
       "      <th>publisher_id</th>\n",
       "    </tr>\n",
       "  </thead>\n",
       "  <tbody>\n",
       "    <tr>\n",
       "      <th>0</th>\n",
       "      <td>1</td>\n",
       "      <td>546</td>\n",
       "      <td>'Salem's Lot</td>\n",
       "      <td>594</td>\n",
       "      <td>2005-11-01</td>\n",
       "      <td>93</td>\n",
       "    </tr>\n",
       "    <tr>\n",
       "      <th>1</th>\n",
       "      <td>2</td>\n",
       "      <td>465</td>\n",
       "      <td>1 000 Places to See Before You Die</td>\n",
       "      <td>992</td>\n",
       "      <td>2003-05-22</td>\n",
       "      <td>336</td>\n",
       "    </tr>\n",
       "    <tr>\n",
       "      <th>2</th>\n",
       "      <td>3</td>\n",
       "      <td>407</td>\n",
       "      <td>13 Little Blue Envelopes (Little Blue Envelope...</td>\n",
       "      <td>322</td>\n",
       "      <td>2010-12-21</td>\n",
       "      <td>135</td>\n",
       "    </tr>\n",
       "    <tr>\n",
       "      <th>3</th>\n",
       "      <td>4</td>\n",
       "      <td>82</td>\n",
       "      <td>1491: New Revelations of the Americas Before C...</td>\n",
       "      <td>541</td>\n",
       "      <td>2006-10-10</td>\n",
       "      <td>309</td>\n",
       "    </tr>\n",
       "    <tr>\n",
       "      <th>4</th>\n",
       "      <td>5</td>\n",
       "      <td>125</td>\n",
       "      <td>1776</td>\n",
       "      <td>386</td>\n",
       "      <td>2006-07-04</td>\n",
       "      <td>268</td>\n",
       "    </tr>\n",
       "  </tbody>\n",
       "</table>\n",
       "</div>"
      ],
      "text/plain": [
       "   book_id  author_id                                              title  \\\n",
       "0        1        546                                       'Salem's Lot   \n",
       "1        2        465                 1 000 Places to See Before You Die   \n",
       "2        3        407  13 Little Blue Envelopes (Little Blue Envelope...   \n",
       "3        4         82  1491: New Revelations of the Americas Before C...   \n",
       "4        5        125                                               1776   \n",
       "\n",
       "   num_pages publication_date  publisher_id  \n",
       "0        594       2005-11-01            93  \n",
       "1        992       2003-05-22           336  \n",
       "2        322       2010-12-21           135  \n",
       "3        541       2006-10-10           309  \n",
       "4        386       2006-07-04           268  "
      ]
     },
     "execution_count": 4,
     "metadata": {},
     "output_type": "execute_result"
    }
   ],
   "source": [
    "connection(sql)"
   ]
  },
  {
   "cell_type": "code",
   "execution_count": 5,
   "metadata": {},
   "outputs": [],
   "source": [
    "sql='''\n",
    "SELECT count(book_id)\n",
    "FROM books\n",
    "'''"
   ]
  },
  {
   "cell_type": "code",
   "execution_count": 6,
   "metadata": {},
   "outputs": [
    {
     "data": {
      "text/html": [
       "<div>\n",
       "<style scoped>\n",
       "    .dataframe tbody tr th:only-of-type {\n",
       "        vertical-align: middle;\n",
       "    }\n",
       "\n",
       "    .dataframe tbody tr th {\n",
       "        vertical-align: top;\n",
       "    }\n",
       "\n",
       "    .dataframe thead th {\n",
       "        text-align: right;\n",
       "    }\n",
       "</style>\n",
       "<table border=\"1\" class=\"dataframe\">\n",
       "  <thead>\n",
       "    <tr style=\"text-align: right;\">\n",
       "      <th></th>\n",
       "      <th>count</th>\n",
       "    </tr>\n",
       "  </thead>\n",
       "  <tbody>\n",
       "    <tr>\n",
       "      <th>0</th>\n",
       "      <td>1000</td>\n",
       "    </tr>\n",
       "  </tbody>\n",
       "</table>\n",
       "</div>"
      ],
      "text/plain": [
       "   count\n",
       "0   1000"
      ]
     },
     "execution_count": 6,
     "metadata": {},
     "output_type": "execute_result"
    }
   ],
   "source": [
    "connection(sql)"
   ]
  },
  {
   "cell_type": "markdown",
   "metadata": {},
   "source": [
    "В таблице books информация о название, количестве страниц, дате публикации 1000 книг."
   ]
  },
  {
   "cell_type": "markdown",
   "metadata": {},
   "source": [
    "### Таблица authors"
   ]
  },
  {
   "cell_type": "code",
   "execution_count": 7,
   "metadata": {},
   "outputs": [],
   "source": [
    "sql='''\n",
    "SELECT *\n",
    "FROM authors\n",
    "LIMIT 5\n",
    "'''"
   ]
  },
  {
   "cell_type": "code",
   "execution_count": 8,
   "metadata": {},
   "outputs": [
    {
     "data": {
      "text/html": [
       "<div>\n",
       "<style scoped>\n",
       "    .dataframe tbody tr th:only-of-type {\n",
       "        vertical-align: middle;\n",
       "    }\n",
       "\n",
       "    .dataframe tbody tr th {\n",
       "        vertical-align: top;\n",
       "    }\n",
       "\n",
       "    .dataframe thead th {\n",
       "        text-align: right;\n",
       "    }\n",
       "</style>\n",
       "<table border=\"1\" class=\"dataframe\">\n",
       "  <thead>\n",
       "    <tr style=\"text-align: right;\">\n",
       "      <th></th>\n",
       "      <th>author_id</th>\n",
       "      <th>author</th>\n",
       "    </tr>\n",
       "  </thead>\n",
       "  <tbody>\n",
       "    <tr>\n",
       "      <th>0</th>\n",
       "      <td>1</td>\n",
       "      <td>A.S. Byatt</td>\n",
       "    </tr>\n",
       "    <tr>\n",
       "      <th>1</th>\n",
       "      <td>2</td>\n",
       "      <td>Aesop/Laura Harris/Laura Gibbs</td>\n",
       "    </tr>\n",
       "    <tr>\n",
       "      <th>2</th>\n",
       "      <td>3</td>\n",
       "      <td>Agatha Christie</td>\n",
       "    </tr>\n",
       "    <tr>\n",
       "      <th>3</th>\n",
       "      <td>4</td>\n",
       "      <td>Alan Brennert</td>\n",
       "    </tr>\n",
       "    <tr>\n",
       "      <th>4</th>\n",
       "      <td>5</td>\n",
       "      <td>Alan Moore/David   Lloyd</td>\n",
       "    </tr>\n",
       "  </tbody>\n",
       "</table>\n",
       "</div>"
      ],
      "text/plain": [
       "   author_id                          author\n",
       "0          1                      A.S. Byatt\n",
       "1          2  Aesop/Laura Harris/Laura Gibbs\n",
       "2          3                 Agatha Christie\n",
       "3          4                   Alan Brennert\n",
       "4          5        Alan Moore/David   Lloyd"
      ]
     },
     "execution_count": 8,
     "metadata": {},
     "output_type": "execute_result"
    }
   ],
   "source": [
    "connection(sql)"
   ]
  },
  {
   "cell_type": "code",
   "execution_count": 9,
   "metadata": {},
   "outputs": [],
   "source": [
    "sql='''\n",
    "SELECT count(author)\n",
    "FROM authors\n",
    "'''"
   ]
  },
  {
   "cell_type": "code",
   "execution_count": 10,
   "metadata": {},
   "outputs": [
    {
     "data": {
      "text/html": [
       "<div>\n",
       "<style scoped>\n",
       "    .dataframe tbody tr th:only-of-type {\n",
       "        vertical-align: middle;\n",
       "    }\n",
       "\n",
       "    .dataframe tbody tr th {\n",
       "        vertical-align: top;\n",
       "    }\n",
       "\n",
       "    .dataframe thead th {\n",
       "        text-align: right;\n",
       "    }\n",
       "</style>\n",
       "<table border=\"1\" class=\"dataframe\">\n",
       "  <thead>\n",
       "    <tr style=\"text-align: right;\">\n",
       "      <th></th>\n",
       "      <th>count</th>\n",
       "    </tr>\n",
       "  </thead>\n",
       "  <tbody>\n",
       "    <tr>\n",
       "      <th>0</th>\n",
       "      <td>636</td>\n",
       "    </tr>\n",
       "  </tbody>\n",
       "</table>\n",
       "</div>"
      ],
      "text/plain": [
       "   count\n",
       "0    636"
      ]
     },
     "execution_count": 10,
     "metadata": {},
     "output_type": "execute_result"
    }
   ],
   "source": [
    "connection(sql)"
   ]
  },
  {
   "cell_type": "markdown",
   "metadata": {},
   "source": [
    "Таблица authors содержит информацию о 636 авторах."
   ]
  },
  {
   "cell_type": "markdown",
   "metadata": {},
   "source": [
    "### Таблица publishers"
   ]
  },
  {
   "cell_type": "code",
   "execution_count": 11,
   "metadata": {},
   "outputs": [],
   "source": [
    "sql='''\n",
    "SELECT *\n",
    "FROM publishers\n",
    "LIMIT 5\n",
    "'''"
   ]
  },
  {
   "cell_type": "code",
   "execution_count": 12,
   "metadata": {},
   "outputs": [
    {
     "data": {
      "text/html": [
       "<div>\n",
       "<style scoped>\n",
       "    .dataframe tbody tr th:only-of-type {\n",
       "        vertical-align: middle;\n",
       "    }\n",
       "\n",
       "    .dataframe tbody tr th {\n",
       "        vertical-align: top;\n",
       "    }\n",
       "\n",
       "    .dataframe thead th {\n",
       "        text-align: right;\n",
       "    }\n",
       "</style>\n",
       "<table border=\"1\" class=\"dataframe\">\n",
       "  <thead>\n",
       "    <tr style=\"text-align: right;\">\n",
       "      <th></th>\n",
       "      <th>publisher_id</th>\n",
       "      <th>publisher</th>\n",
       "    </tr>\n",
       "  </thead>\n",
       "  <tbody>\n",
       "    <tr>\n",
       "      <th>0</th>\n",
       "      <td>1</td>\n",
       "      <td>Ace</td>\n",
       "    </tr>\n",
       "    <tr>\n",
       "      <th>1</th>\n",
       "      <td>2</td>\n",
       "      <td>Ace Book</td>\n",
       "    </tr>\n",
       "    <tr>\n",
       "      <th>2</th>\n",
       "      <td>3</td>\n",
       "      <td>Ace Books</td>\n",
       "    </tr>\n",
       "    <tr>\n",
       "      <th>3</th>\n",
       "      <td>4</td>\n",
       "      <td>Ace Hardcover</td>\n",
       "    </tr>\n",
       "    <tr>\n",
       "      <th>4</th>\n",
       "      <td>5</td>\n",
       "      <td>Addison Wesley Publishing Company</td>\n",
       "    </tr>\n",
       "  </tbody>\n",
       "</table>\n",
       "</div>"
      ],
      "text/plain": [
       "   publisher_id                          publisher\n",
       "0             1                                Ace\n",
       "1             2                           Ace Book\n",
       "2             3                          Ace Books\n",
       "3             4                      Ace Hardcover\n",
       "4             5  Addison Wesley Publishing Company"
      ]
     },
     "execution_count": 12,
     "metadata": {},
     "output_type": "execute_result"
    }
   ],
   "source": [
    "connection(sql)"
   ]
  },
  {
   "cell_type": "code",
   "execution_count": 13,
   "metadata": {},
   "outputs": [],
   "source": [
    "sql='''\n",
    "SELECT count(publisher)\n",
    "FROM publishers\n",
    "'''"
   ]
  },
  {
   "cell_type": "code",
   "execution_count": 14,
   "metadata": {},
   "outputs": [
    {
     "data": {
      "text/html": [
       "<div>\n",
       "<style scoped>\n",
       "    .dataframe tbody tr th:only-of-type {\n",
       "        vertical-align: middle;\n",
       "    }\n",
       "\n",
       "    .dataframe tbody tr th {\n",
       "        vertical-align: top;\n",
       "    }\n",
       "\n",
       "    .dataframe thead th {\n",
       "        text-align: right;\n",
       "    }\n",
       "</style>\n",
       "<table border=\"1\" class=\"dataframe\">\n",
       "  <thead>\n",
       "    <tr style=\"text-align: right;\">\n",
       "      <th></th>\n",
       "      <th>count</th>\n",
       "    </tr>\n",
       "  </thead>\n",
       "  <tbody>\n",
       "    <tr>\n",
       "      <th>0</th>\n",
       "      <td>340</td>\n",
       "    </tr>\n",
       "  </tbody>\n",
       "</table>\n",
       "</div>"
      ],
      "text/plain": [
       "   count\n",
       "0    340"
      ]
     },
     "execution_count": 14,
     "metadata": {},
     "output_type": "execute_result"
    }
   ],
   "source": [
    "connection(sql)"
   ]
  },
  {
   "cell_type": "markdown",
   "metadata": {},
   "source": [
    "Таблица publishers содержит информацию о 340 издательствах."
   ]
  },
  {
   "cell_type": "markdown",
   "metadata": {},
   "source": [
    "### Таблица ratings"
   ]
  },
  {
   "cell_type": "code",
   "execution_count": 15,
   "metadata": {},
   "outputs": [],
   "source": [
    "sql='''\n",
    "SELECT *\n",
    "FROM ratings\n",
    "LIMIT 5\n",
    "'''"
   ]
  },
  {
   "cell_type": "code",
   "execution_count": 16,
   "metadata": {},
   "outputs": [
    {
     "data": {
      "text/html": [
       "<div>\n",
       "<style scoped>\n",
       "    .dataframe tbody tr th:only-of-type {\n",
       "        vertical-align: middle;\n",
       "    }\n",
       "\n",
       "    .dataframe tbody tr th {\n",
       "        vertical-align: top;\n",
       "    }\n",
       "\n",
       "    .dataframe thead th {\n",
       "        text-align: right;\n",
       "    }\n",
       "</style>\n",
       "<table border=\"1\" class=\"dataframe\">\n",
       "  <thead>\n",
       "    <tr style=\"text-align: right;\">\n",
       "      <th></th>\n",
       "      <th>rating_id</th>\n",
       "      <th>book_id</th>\n",
       "      <th>username</th>\n",
       "      <th>rating</th>\n",
       "    </tr>\n",
       "  </thead>\n",
       "  <tbody>\n",
       "    <tr>\n",
       "      <th>0</th>\n",
       "      <td>1</td>\n",
       "      <td>1</td>\n",
       "      <td>ryanfranco</td>\n",
       "      <td>4</td>\n",
       "    </tr>\n",
       "    <tr>\n",
       "      <th>1</th>\n",
       "      <td>2</td>\n",
       "      <td>1</td>\n",
       "      <td>grantpatricia</td>\n",
       "      <td>2</td>\n",
       "    </tr>\n",
       "    <tr>\n",
       "      <th>2</th>\n",
       "      <td>3</td>\n",
       "      <td>1</td>\n",
       "      <td>brandtandrea</td>\n",
       "      <td>5</td>\n",
       "    </tr>\n",
       "    <tr>\n",
       "      <th>3</th>\n",
       "      <td>4</td>\n",
       "      <td>2</td>\n",
       "      <td>lorichen</td>\n",
       "      <td>3</td>\n",
       "    </tr>\n",
       "    <tr>\n",
       "      <th>4</th>\n",
       "      <td>5</td>\n",
       "      <td>2</td>\n",
       "      <td>mariokeller</td>\n",
       "      <td>2</td>\n",
       "    </tr>\n",
       "  </tbody>\n",
       "</table>\n",
       "</div>"
      ],
      "text/plain": [
       "   rating_id  book_id       username  rating\n",
       "0          1        1     ryanfranco       4\n",
       "1          2        1  grantpatricia       2\n",
       "2          3        1   brandtandrea       5\n",
       "3          4        2       lorichen       3\n",
       "4          5        2    mariokeller       2"
      ]
     },
     "execution_count": 16,
     "metadata": {},
     "output_type": "execute_result"
    }
   ],
   "source": [
    "connection(sql)"
   ]
  },
  {
   "cell_type": "code",
   "execution_count": 17,
   "metadata": {},
   "outputs": [],
   "source": [
    "sql='''\n",
    "SELECT count(rating_id)\n",
    "FROM ratings\n",
    "'''"
   ]
  },
  {
   "cell_type": "code",
   "execution_count": 18,
   "metadata": {},
   "outputs": [
    {
     "data": {
      "text/html": [
       "<div>\n",
       "<style scoped>\n",
       "    .dataframe tbody tr th:only-of-type {\n",
       "        vertical-align: middle;\n",
       "    }\n",
       "\n",
       "    .dataframe tbody tr th {\n",
       "        vertical-align: top;\n",
       "    }\n",
       "\n",
       "    .dataframe thead th {\n",
       "        text-align: right;\n",
       "    }\n",
       "</style>\n",
       "<table border=\"1\" class=\"dataframe\">\n",
       "  <thead>\n",
       "    <tr style=\"text-align: right;\">\n",
       "      <th></th>\n",
       "      <th>count</th>\n",
       "    </tr>\n",
       "  </thead>\n",
       "  <tbody>\n",
       "    <tr>\n",
       "      <th>0</th>\n",
       "      <td>6456</td>\n",
       "    </tr>\n",
       "  </tbody>\n",
       "</table>\n",
       "</div>"
      ],
      "text/plain": [
       "   count\n",
       "0   6456"
      ]
     },
     "execution_count": 18,
     "metadata": {},
     "output_type": "execute_result"
    }
   ],
   "source": [
    "connection(sql)"
   ]
  },
  {
   "cell_type": "markdown",
   "metadata": {},
   "source": [
    "Таблица ratings содержит информацию о 6456 оценках пользователей. "
   ]
  },
  {
   "cell_type": "markdown",
   "metadata": {},
   "source": [
    "### Таблица reviews"
   ]
  },
  {
   "cell_type": "code",
   "execution_count": 19,
   "metadata": {},
   "outputs": [],
   "source": [
    "sql='''\n",
    "SELECT *\n",
    "FROM reviews\n",
    "LIMIT 5\n",
    "'''"
   ]
  },
  {
   "cell_type": "code",
   "execution_count": 20,
   "metadata": {},
   "outputs": [
    {
     "data": {
      "text/html": [
       "<div>\n",
       "<style scoped>\n",
       "    .dataframe tbody tr th:only-of-type {\n",
       "        vertical-align: middle;\n",
       "    }\n",
       "\n",
       "    .dataframe tbody tr th {\n",
       "        vertical-align: top;\n",
       "    }\n",
       "\n",
       "    .dataframe thead th {\n",
       "        text-align: right;\n",
       "    }\n",
       "</style>\n",
       "<table border=\"1\" class=\"dataframe\">\n",
       "  <thead>\n",
       "    <tr style=\"text-align: right;\">\n",
       "      <th></th>\n",
       "      <th>review_id</th>\n",
       "      <th>book_id</th>\n",
       "      <th>username</th>\n",
       "      <th>text</th>\n",
       "    </tr>\n",
       "  </thead>\n",
       "  <tbody>\n",
       "    <tr>\n",
       "      <th>0</th>\n",
       "      <td>1</td>\n",
       "      <td>1</td>\n",
       "      <td>brandtandrea</td>\n",
       "      <td>Mention society tell send professor analysis. ...</td>\n",
       "    </tr>\n",
       "    <tr>\n",
       "      <th>1</th>\n",
       "      <td>2</td>\n",
       "      <td>1</td>\n",
       "      <td>ryanfranco</td>\n",
       "      <td>Foot glass pretty audience hit themselves. Amo...</td>\n",
       "    </tr>\n",
       "    <tr>\n",
       "      <th>2</th>\n",
       "      <td>3</td>\n",
       "      <td>2</td>\n",
       "      <td>lorichen</td>\n",
       "      <td>Listen treat keep worry. Miss husband tax but ...</td>\n",
       "    </tr>\n",
       "    <tr>\n",
       "      <th>3</th>\n",
       "      <td>4</td>\n",
       "      <td>3</td>\n",
       "      <td>johnsonamanda</td>\n",
       "      <td>Finally month interesting blue could nature cu...</td>\n",
       "    </tr>\n",
       "    <tr>\n",
       "      <th>4</th>\n",
       "      <td>5</td>\n",
       "      <td>3</td>\n",
       "      <td>scotttamara</td>\n",
       "      <td>Nation purpose heavy give wait song will. List...</td>\n",
       "    </tr>\n",
       "  </tbody>\n",
       "</table>\n",
       "</div>"
      ],
      "text/plain": [
       "   review_id  book_id       username  \\\n",
       "0          1        1   brandtandrea   \n",
       "1          2        1     ryanfranco   \n",
       "2          3        2       lorichen   \n",
       "3          4        3  johnsonamanda   \n",
       "4          5        3    scotttamara   \n",
       "\n",
       "                                                text  \n",
       "0  Mention society tell send professor analysis. ...  \n",
       "1  Foot glass pretty audience hit themselves. Amo...  \n",
       "2  Listen treat keep worry. Miss husband tax but ...  \n",
       "3  Finally month interesting blue could nature cu...  \n",
       "4  Nation purpose heavy give wait song will. List...  "
      ]
     },
     "execution_count": 20,
     "metadata": {},
     "output_type": "execute_result"
    }
   ],
   "source": [
    "connection(sql)"
   ]
  },
  {
   "cell_type": "code",
   "execution_count": 21,
   "metadata": {},
   "outputs": [],
   "source": [
    "sql='''\n",
    "SELECT count(review_id)\n",
    "FROM reviews\n",
    "'''"
   ]
  },
  {
   "cell_type": "code",
   "execution_count": 22,
   "metadata": {},
   "outputs": [
    {
     "data": {
      "text/html": [
       "<div>\n",
       "<style scoped>\n",
       "    .dataframe tbody tr th:only-of-type {\n",
       "        vertical-align: middle;\n",
       "    }\n",
       "\n",
       "    .dataframe tbody tr th {\n",
       "        vertical-align: top;\n",
       "    }\n",
       "\n",
       "    .dataframe thead th {\n",
       "        text-align: right;\n",
       "    }\n",
       "</style>\n",
       "<table border=\"1\" class=\"dataframe\">\n",
       "  <thead>\n",
       "    <tr style=\"text-align: right;\">\n",
       "      <th></th>\n",
       "      <th>count</th>\n",
       "    </tr>\n",
       "  </thead>\n",
       "  <tbody>\n",
       "    <tr>\n",
       "      <th>0</th>\n",
       "      <td>2793</td>\n",
       "    </tr>\n",
       "  </tbody>\n",
       "</table>\n",
       "</div>"
      ],
      "text/plain": [
       "   count\n",
       "0   2793"
      ]
     },
     "execution_count": 22,
     "metadata": {},
     "output_type": "execute_result"
    }
   ],
   "source": [
    "connection(sql)"
   ]
  },
  {
   "cell_type": "markdown",
   "metadata": {},
   "source": [
    "Таблица reviews содержит информацию о 2793 отзывах на книги."
   ]
  },
  {
   "cell_type": "markdown",
   "metadata": {},
   "source": [
    "<div class=\"alert alert-block alert-success\">\n",
    "    \n",
    "\n",
    "### Комментарий от ревьюера\n",
    "Отлично\n",
    "    \n",
    "Доступ к базе получили, на таблицы посмотрели, переходим к основной работе\n",
    "    \n",
    "</div>"
   ]
  },
  {
   "cell_type": "markdown",
   "metadata": {},
   "source": [
    "## Аналитические задания."
   ]
  },
  {
   "cell_type": "markdown",
   "metadata": {},
   "source": [
    "### сколько книг вышло после 1 января 2000 года?"
   ]
  },
  {
   "cell_type": "code",
   "execution_count": 23,
   "metadata": {},
   "outputs": [],
   "source": [
    "sql='''\n",
    "SELECT count(book_id) AS cnt\n",
    "FROM books\n",
    "WHERE publication_date > '2000-01-01'\n",
    "'''"
   ]
  },
  {
   "cell_type": "code",
   "execution_count": 24,
   "metadata": {},
   "outputs": [
    {
     "data": {
      "text/html": [
       "<div>\n",
       "<style scoped>\n",
       "    .dataframe tbody tr th:only-of-type {\n",
       "        vertical-align: middle;\n",
       "    }\n",
       "\n",
       "    .dataframe tbody tr th {\n",
       "        vertical-align: top;\n",
       "    }\n",
       "\n",
       "    .dataframe thead th {\n",
       "        text-align: right;\n",
       "    }\n",
       "</style>\n",
       "<table border=\"1\" class=\"dataframe\">\n",
       "  <thead>\n",
       "    <tr style=\"text-align: right;\">\n",
       "      <th></th>\n",
       "      <th>cnt</th>\n",
       "    </tr>\n",
       "  </thead>\n",
       "  <tbody>\n",
       "    <tr>\n",
       "      <th>0</th>\n",
       "      <td>819</td>\n",
       "    </tr>\n",
       "  </tbody>\n",
       "</table>\n",
       "</div>"
      ],
      "text/plain": [
       "   cnt\n",
       "0  819"
      ]
     },
     "execution_count": 24,
     "metadata": {},
     "output_type": "execute_result"
    }
   ],
   "source": [
    "connection(sql)"
   ]
  },
  {
   "cell_type": "markdown",
   "metadata": {},
   "source": [
    "**Вывод:** после 1 января 2000 года вышло 819 книг."
   ]
  },
  {
   "cell_type": "markdown",
   "metadata": {},
   "source": [
    "### количество обзоров и средняя оценка книг"
   ]
  },
  {
   "cell_type": "code",
   "execution_count": 25,
   "metadata": {},
   "outputs": [],
   "source": [
    "sql='''\n",
    "WITH average_rating AS\n",
    "  (SELECT b.book_id,\n",
    "          title,\n",
    "          avg(r.rating) AS average_rating\n",
    "   FROM books b\n",
    "   LEFT JOIN ratings r ON r.book_id = b.book_id\n",
    "   GROUP BY b.book_id),\n",
    "     count_reviews AS\n",
    "  (SELECT b.book_id,\n",
    "          title,\n",
    "          count(rev.review_id) AS count_reviews\n",
    "   FROM books b\n",
    "   LEFT JOIN reviews rev ON rev.book_id = b.book_id\n",
    "   GROUP BY b.book_id)\n",
    "SELECT a.book_id,\n",
    "       a.title, \n",
    "       c.count_reviews,\n",
    "       a.average_rating\n",
    "FROM average_rating a\n",
    "JOIN count_reviews c ON a.book_id = c.book_id\n",
    "ORDER BY a.average_rating DESC\n",
    "LIMIT 5\n",
    "'''"
   ]
  },
  {
   "cell_type": "code",
   "execution_count": 26,
   "metadata": {},
   "outputs": [
    {
     "data": {
      "text/html": [
       "<div>\n",
       "<style scoped>\n",
       "    .dataframe tbody tr th:only-of-type {\n",
       "        vertical-align: middle;\n",
       "    }\n",
       "\n",
       "    .dataframe tbody tr th {\n",
       "        vertical-align: top;\n",
       "    }\n",
       "\n",
       "    .dataframe thead th {\n",
       "        text-align: right;\n",
       "    }\n",
       "</style>\n",
       "<table border=\"1\" class=\"dataframe\">\n",
       "  <thead>\n",
       "    <tr style=\"text-align: right;\">\n",
       "      <th></th>\n",
       "      <th>book_id</th>\n",
       "      <th>title</th>\n",
       "      <th>count_reviews</th>\n",
       "      <th>average_rating</th>\n",
       "    </tr>\n",
       "  </thead>\n",
       "  <tbody>\n",
       "    <tr>\n",
       "      <th>0</th>\n",
       "      <td>55</td>\n",
       "      <td>A Woman of Substance (Emma Harte Saga #1)</td>\n",
       "      <td>2</td>\n",
       "      <td>5.0</td>\n",
       "    </tr>\n",
       "    <tr>\n",
       "      <th>1</th>\n",
       "      <td>57</td>\n",
       "      <td>Act of Treason (Mitch Rapp  #9)</td>\n",
       "      <td>2</td>\n",
       "      <td>5.0</td>\n",
       "    </tr>\n",
       "    <tr>\n",
       "      <th>2</th>\n",
       "      <td>17</td>\n",
       "      <td>A Dirty Job (Grim Reaper  #1)</td>\n",
       "      <td>4</td>\n",
       "      <td>5.0</td>\n",
       "    </tr>\n",
       "    <tr>\n",
       "      <th>3</th>\n",
       "      <td>20</td>\n",
       "      <td>A Fistful of Charms (The Hollows  #4)</td>\n",
       "      <td>2</td>\n",
       "      <td>5.0</td>\n",
       "    </tr>\n",
       "    <tr>\n",
       "      <th>4</th>\n",
       "      <td>62</td>\n",
       "      <td>Alas  Babylon</td>\n",
       "      <td>2</td>\n",
       "      <td>5.0</td>\n",
       "    </tr>\n",
       "  </tbody>\n",
       "</table>\n",
       "</div>"
      ],
      "text/plain": [
       "   book_id                                      title  count_reviews  \\\n",
       "0       55  A Woman of Substance (Emma Harte Saga #1)              2   \n",
       "1       57            Act of Treason (Mitch Rapp  #9)              2   \n",
       "2       17              A Dirty Job (Grim Reaper  #1)              4   \n",
       "3       20      A Fistful of Charms (The Hollows  #4)              2   \n",
       "4       62                              Alas  Babylon              2   \n",
       "\n",
       "   average_rating  \n",
       "0             5.0  \n",
       "1             5.0  \n",
       "2             5.0  \n",
       "3             5.0  \n",
       "4             5.0  "
      ]
     },
     "execution_count": 26,
     "metadata": {},
     "output_type": "execute_result"
    }
   ],
   "source": [
    "connection(sql)"
   ]
  },
  {
   "cell_type": "markdown",
   "metadata": {},
   "source": [
    "### издательство, которое выпустило наибольшее число книг толще 50 страниц "
   ]
  },
  {
   "cell_type": "code",
   "execution_count": 27,
   "metadata": {},
   "outputs": [],
   "source": [
    "sql='''\n",
    "SELECT p.publisher\n",
    "FROM books b\n",
    "JOIN publishers p ON p.publisher_id = b.publisher_id\n",
    "WHERE num_pages > 50\n",
    "GROUP BY p.publisher_id,\n",
    "         p.publisher\n",
    "HAVING count(book_id) =\n",
    "  (SELECT max(cnt)\n",
    "   FROM\n",
    "     (SELECT count(book_id) AS cnt\n",
    "      FROM books b\n",
    "      WHERE num_pages > 50\n",
    "      GROUP BY b.publisher_id) AS t)\n",
    "'''"
   ]
  },
  {
   "cell_type": "code",
   "execution_count": 28,
   "metadata": {},
   "outputs": [
    {
     "data": {
      "text/html": [
       "<div>\n",
       "<style scoped>\n",
       "    .dataframe tbody tr th:only-of-type {\n",
       "        vertical-align: middle;\n",
       "    }\n",
       "\n",
       "    .dataframe tbody tr th {\n",
       "        vertical-align: top;\n",
       "    }\n",
       "\n",
       "    .dataframe thead th {\n",
       "        text-align: right;\n",
       "    }\n",
       "</style>\n",
       "<table border=\"1\" class=\"dataframe\">\n",
       "  <thead>\n",
       "    <tr style=\"text-align: right;\">\n",
       "      <th></th>\n",
       "      <th>publisher</th>\n",
       "    </tr>\n",
       "  </thead>\n",
       "  <tbody>\n",
       "    <tr>\n",
       "      <th>0</th>\n",
       "      <td>Penguin Books</td>\n",
       "    </tr>\n",
       "  </tbody>\n",
       "</table>\n",
       "</div>"
      ],
      "text/plain": [
       "       publisher\n",
       "0  Penguin Books"
      ]
     },
     "execution_count": 28,
     "metadata": {},
     "output_type": "execute_result"
    }
   ],
   "source": [
    "connection(sql)"
   ]
  },
  {
   "cell_type": "markdown",
   "metadata": {},
   "source": [
    "**Вывод:** издательство Penguin Books выпустило больше всего книг тольще 50 страниц."
   ]
  },
  {
   "cell_type": "markdown",
   "metadata": {},
   "source": [
    "### автор с самой высокой средней оценкой книг"
   ]
  },
  {
   "cell_type": "code",
   "execution_count": 33,
   "metadata": {},
   "outputs": [],
   "source": [
    "sql='''\n",
    "WITH TEMP AS\n",
    "  (SELECT *,\n",
    "          rank() OVER (\n",
    "                       ORDER BY t.avg_rating DESC) AS rank\n",
    "   FROM\n",
    "     (SELECT a.author_id,\n",
    "             a.author,\n",
    "             b.title,\n",
    "             avg(r.rating) AS avg_rating\n",
    "      FROM books b\n",
    "      LEFT JOIN authors a ON a.author_id = b.author_id\n",
    "      LEFT JOIN ratings r ON r.book_id = b.book_id\n",
    "      GROUP BY a.author_id,\n",
    "               a.author,\n",
    "               b.title\n",
    "      HAVING (count(r.rating_id) >= 50)) AS t)\n",
    "SELECT temp.author_id,\n",
    "       temp.author,\n",
    "       temp.title,\n",
    "       temp.avg_rating\n",
    "FROM TEMP\n",
    "--WHERE temp.rank=1\n",
    "'''"
   ]
  },
  {
   "cell_type": "code",
   "execution_count": 34,
   "metadata": {},
   "outputs": [
    {
     "data": {
      "text/html": [
       "<div>\n",
       "<style scoped>\n",
       "    .dataframe tbody tr th:only-of-type {\n",
       "        vertical-align: middle;\n",
       "    }\n",
       "\n",
       "    .dataframe tbody tr th {\n",
       "        vertical-align: top;\n",
       "    }\n",
       "\n",
       "    .dataframe thead th {\n",
       "        text-align: right;\n",
       "    }\n",
       "</style>\n",
       "<table border=\"1\" class=\"dataframe\">\n",
       "  <thead>\n",
       "    <tr style=\"text-align: right;\">\n",
       "      <th></th>\n",
       "      <th>author_id</th>\n",
       "      <th>author</th>\n",
       "      <th>title</th>\n",
       "      <th>avg_rating</th>\n",
       "    </tr>\n",
       "  </thead>\n",
       "  <tbody>\n",
       "    <tr>\n",
       "      <th>0</th>\n",
       "      <td>236</td>\n",
       "      <td>J.K. Rowling/Mary GrandPré</td>\n",
       "      <td>Harry Potter and the Prisoner of Azkaban (Harr...</td>\n",
       "      <td>4.414634</td>\n",
       "    </tr>\n",
       "    <tr>\n",
       "      <th>1</th>\n",
       "      <td>240</td>\n",
       "      <td>J.R.R. Tolkien</td>\n",
       "      <td>The Fellowship of the Ring (The Lord of the Ri...</td>\n",
       "      <td>4.391892</td>\n",
       "    </tr>\n",
       "    <tr>\n",
       "      <th>2</th>\n",
       "      <td>236</td>\n",
       "      <td>J.K. Rowling/Mary GrandPré</td>\n",
       "      <td>Harry Potter and the Chamber of Secrets (Harry...</td>\n",
       "      <td>4.287500</td>\n",
       "    </tr>\n",
       "    <tr>\n",
       "      <th>3</th>\n",
       "      <td>402</td>\n",
       "      <td>Markus Zusak/Cao Xuân Việt Khương</td>\n",
       "      <td>The Book Thief</td>\n",
       "      <td>4.264151</td>\n",
       "    </tr>\n",
       "    <tr>\n",
       "      <th>4</th>\n",
       "      <td>236</td>\n",
       "      <td>J.K. Rowling/Mary GrandPré</td>\n",
       "      <td>Harry Potter and the Half-Blood Prince (Harry ...</td>\n",
       "      <td>4.246575</td>\n",
       "    </tr>\n",
       "    <tr>\n",
       "      <th>5</th>\n",
       "      <td>376</td>\n",
       "      <td>Louisa May Alcott</td>\n",
       "      <td>Little Women</td>\n",
       "      <td>4.192308</td>\n",
       "    </tr>\n",
       "    <tr>\n",
       "      <th>6</th>\n",
       "      <td>236</td>\n",
       "      <td>J.K. Rowling/Mary GrandPré</td>\n",
       "      <td>Harry Potter and the Order of the Phoenix (Har...</td>\n",
       "      <td>4.186667</td>\n",
       "    </tr>\n",
       "    <tr>\n",
       "      <th>7</th>\n",
       "      <td>240</td>\n",
       "      <td>J.R.R. Tolkien</td>\n",
       "      <td>The Hobbit  or There and Back Again</td>\n",
       "      <td>4.125000</td>\n",
       "    </tr>\n",
       "    <tr>\n",
       "      <th>8</th>\n",
       "      <td>39</td>\n",
       "      <td>Arthur Golden</td>\n",
       "      <td>Memoirs of a Geisha</td>\n",
       "      <td>4.107143</td>\n",
       "    </tr>\n",
       "    <tr>\n",
       "      <th>9</th>\n",
       "      <td>498</td>\n",
       "      <td>Rick Riordan</td>\n",
       "      <td>The Lightning Thief (Percy Jackson and the Oly...</td>\n",
       "      <td>4.080645</td>\n",
       "    </tr>\n",
       "    <tr>\n",
       "      <th>10</th>\n",
       "      <td>621</td>\n",
       "      <td>William Golding</td>\n",
       "      <td>Lord of the Flies</td>\n",
       "      <td>3.901408</td>\n",
       "    </tr>\n",
       "    <tr>\n",
       "      <th>11</th>\n",
       "      <td>106</td>\n",
       "      <td>Dan Brown</td>\n",
       "      <td>The Da Vinci Code (Robert Langdon  #2)</td>\n",
       "      <td>3.830508</td>\n",
       "    </tr>\n",
       "    <tr>\n",
       "      <th>12</th>\n",
       "      <td>235</td>\n",
       "      <td>J.D. Salinger</td>\n",
       "      <td>The Catcher in the Rye</td>\n",
       "      <td>3.825581</td>\n",
       "    </tr>\n",
       "    <tr>\n",
       "      <th>13</th>\n",
       "      <td>469</td>\n",
       "      <td>Paulo Coelho/Alan R. Clarke/Özdemir İnce</td>\n",
       "      <td>The Alchemist</td>\n",
       "      <td>3.789474</td>\n",
       "    </tr>\n",
       "    <tr>\n",
       "      <th>14</th>\n",
       "      <td>630</td>\n",
       "      <td>William Shakespeare/Paul Werstine/Barbara A. M...</td>\n",
       "      <td>Romeo and Juliet</td>\n",
       "      <td>3.787879</td>\n",
       "    </tr>\n",
       "    <tr>\n",
       "      <th>15</th>\n",
       "      <td>372</td>\n",
       "      <td>Lois Lowry</td>\n",
       "      <td>The Giver (The Giver  #1)</td>\n",
       "      <td>3.750000</td>\n",
       "    </tr>\n",
       "    <tr>\n",
       "      <th>16</th>\n",
       "      <td>195</td>\n",
       "      <td>George Orwell/Boris Grabnar/Peter Škerl</td>\n",
       "      <td>Animal Farm</td>\n",
       "      <td>3.729730</td>\n",
       "    </tr>\n",
       "    <tr>\n",
       "      <th>17</th>\n",
       "      <td>106</td>\n",
       "      <td>Dan Brown</td>\n",
       "      <td>Angels &amp; Demons (Robert Langdon  #1)</td>\n",
       "      <td>3.678571</td>\n",
       "    </tr>\n",
       "    <tr>\n",
       "      <th>18</th>\n",
       "      <td>554</td>\n",
       "      <td>Stephenie Meyer</td>\n",
       "      <td>Twilight (Twilight  #1)</td>\n",
       "      <td>3.662500</td>\n",
       "    </tr>\n",
       "    <tr>\n",
       "      <th>19</th>\n",
       "      <td>311</td>\n",
       "      <td>John Steinbeck</td>\n",
       "      <td>Of Mice and Men</td>\n",
       "      <td>3.622951</td>\n",
       "    </tr>\n",
       "  </tbody>\n",
       "</table>\n",
       "</div>"
      ],
      "text/plain": [
       "    author_id                                             author  \\\n",
       "0         236                         J.K. Rowling/Mary GrandPré   \n",
       "1         240                                     J.R.R. Tolkien   \n",
       "2         236                         J.K. Rowling/Mary GrandPré   \n",
       "3         402                  Markus Zusak/Cao Xuân Việt Khương   \n",
       "4         236                         J.K. Rowling/Mary GrandPré   \n",
       "5         376                                  Louisa May Alcott   \n",
       "6         236                         J.K. Rowling/Mary GrandPré   \n",
       "7         240                                     J.R.R. Tolkien   \n",
       "8          39                                      Arthur Golden   \n",
       "9         498                                       Rick Riordan   \n",
       "10        621                                    William Golding   \n",
       "11        106                                          Dan Brown   \n",
       "12        235                                      J.D. Salinger   \n",
       "13        469           Paulo Coelho/Alan R. Clarke/Özdemir İnce   \n",
       "14        630  William Shakespeare/Paul Werstine/Barbara A. M...   \n",
       "15        372                                         Lois Lowry   \n",
       "16        195            George Orwell/Boris Grabnar/Peter Škerl   \n",
       "17        106                                          Dan Brown   \n",
       "18        554                                    Stephenie Meyer   \n",
       "19        311                                     John Steinbeck   \n",
       "\n",
       "                                                title  avg_rating  \n",
       "0   Harry Potter and the Prisoner of Azkaban (Harr...    4.414634  \n",
       "1   The Fellowship of the Ring (The Lord of the Ri...    4.391892  \n",
       "2   Harry Potter and the Chamber of Secrets (Harry...    4.287500  \n",
       "3                                      The Book Thief    4.264151  \n",
       "4   Harry Potter and the Half-Blood Prince (Harry ...    4.246575  \n",
       "5                                        Little Women    4.192308  \n",
       "6   Harry Potter and the Order of the Phoenix (Har...    4.186667  \n",
       "7                 The Hobbit  or There and Back Again    4.125000  \n",
       "8                                 Memoirs of a Geisha    4.107143  \n",
       "9   The Lightning Thief (Percy Jackson and the Oly...    4.080645  \n",
       "10                                  Lord of the Flies    3.901408  \n",
       "11             The Da Vinci Code (Robert Langdon  #2)    3.830508  \n",
       "12                             The Catcher in the Rye    3.825581  \n",
       "13                                      The Alchemist    3.789474  \n",
       "14                                   Romeo and Juliet    3.787879  \n",
       "15                          The Giver (The Giver  #1)    3.750000  \n",
       "16                                        Animal Farm    3.729730  \n",
       "17               Angels & Demons (Robert Langdon  #1)    3.678571  \n",
       "18                            Twilight (Twilight  #1)    3.662500  \n",
       "19                                    Of Mice and Men    3.622951  "
      ]
     },
     "execution_count": 34,
     "metadata": {},
     "output_type": "execute_result"
    }
   ],
   "source": [
    "connection(sql)"
   ]
  },
  {
   "cell_type": "markdown",
   "metadata": {},
   "source": [
    "**Вывод:** J.K. Rowling/Mary GrandPré автор с самой высокой средней оценкой книг (4,4) - учитывали только книги с 50 и более оценками;"
   ]
  },
  {
   "cell_type": "markdown",
   "metadata": {},
   "source": [
    "<div class=\"alert alert-block alert-danger\">\n",
    "        \n",
    "### Комментарий от ревьюера v_1\n",
    "Критично\n",
    "\n",
    "Здесь закралась ошибка, нужно учитывать именно КНИГИ у которых больше 50 оценок\n",
    "    \n",
    "Ранжировать стоит, если ты, например, хочешь показать рейтинг, присвоить шкалу писателям. Но, если это ради того, чтобы найти максимальную оценку, следует отсортировать и применить лимит:) (это некритичный момент, тут как тебе удобнее)\n",
    "</div>"
   ]
  },
  {
   "cell_type": "markdown",
   "metadata": {},
   "source": [
    "<div class=\"alert alert-info\"> <b>Комментарий студента: </b> ➕</div>"
   ]
  },
  {
   "cell_type": "markdown",
   "metadata": {},
   "source": [
    "<div class=\"alert alert-block alert-warning\">\n",
    "\n",
    "### Комментарий от ревьюера v_2\n",
    "Рекомендация\n",
    "\n",
    "А сейчас ты считаешь среднюю оценку каждой из этих книг, а не среднюю оценку автора за эти книги))\n",
    "</div>"
   ]
  },
  {
   "cell_type": "markdown",
   "metadata": {},
   "source": [
    "### Среднее количество обзоров от пользователей, которые поставили больше 50 оценок"
   ]
  },
  {
   "cell_type": "code",
   "execution_count": 31,
   "metadata": {},
   "outputs": [],
   "source": [
    "sql='''\n",
    "WITH users_more_50 AS\n",
    "  (SELECT r.username\n",
    "   FROM ratings r\n",
    "   GROUP BY r.username\n",
    "   HAVING (count(r.rating_id) > 50))\n",
    "SELECT avg(t.cnt) AS avg_review\n",
    "FROM\n",
    "  (SELECT count(rev.review_id) AS cnt\n",
    "   FROM reviews rev\n",
    "   WHERE rev.username in\n",
    "       (SELECT *\n",
    "        FROM users_more_50)\n",
    "   GROUP BY rev.username) AS t\n",
    "'''"
   ]
  },
  {
   "cell_type": "code",
   "execution_count": 32,
   "metadata": {},
   "outputs": [
    {
     "data": {
      "text/html": [
       "<div>\n",
       "<style scoped>\n",
       "    .dataframe tbody tr th:only-of-type {\n",
       "        vertical-align: middle;\n",
       "    }\n",
       "\n",
       "    .dataframe tbody tr th {\n",
       "        vertical-align: top;\n",
       "    }\n",
       "\n",
       "    .dataframe thead th {\n",
       "        text-align: right;\n",
       "    }\n",
       "</style>\n",
       "<table border=\"1\" class=\"dataframe\">\n",
       "  <thead>\n",
       "    <tr style=\"text-align: right;\">\n",
       "      <th></th>\n",
       "      <th>avg_review</th>\n",
       "    </tr>\n",
       "  </thead>\n",
       "  <tbody>\n",
       "    <tr>\n",
       "      <th>0</th>\n",
       "      <td>24.333333</td>\n",
       "    </tr>\n",
       "  </tbody>\n",
       "</table>\n",
       "</div>"
      ],
      "text/plain": [
       "   avg_review\n",
       "0   24.333333"
      ]
     },
     "execution_count": 32,
     "metadata": {},
     "output_type": "execute_result"
    }
   ],
   "source": [
    "connection(sql)"
   ]
  },
  {
   "cell_type": "markdown",
   "metadata": {},
   "source": [
    "**Вывод:** пользователи, оставляющие более 50 оценок к книгам, в среднем делают по 24 обзора"
   ]
  },
  {
   "cell_type": "code",
   "execution_count": null,
   "metadata": {},
   "outputs": [],
   "source": []
  }
 ],
 "metadata": {
  "ExecuteTimeLog": [
   {
    "duration": 763,
    "start_time": "2022-06-15T06:12:40.360Z"
   },
   {
    "duration": 58,
    "start_time": "2022-06-15T06:13:12.684Z"
   },
   {
    "duration": 703,
    "start_time": "2022-06-15T06:13:19.125Z"
   },
   {
    "duration": 132,
    "start_time": "2022-06-15T06:13:39.986Z"
   },
   {
    "duration": 3,
    "start_time": "2022-06-15T06:14:06.327Z"
   },
   {
    "duration": 97,
    "start_time": "2022-06-15T06:14:24.534Z"
   },
   {
    "duration": 3,
    "start_time": "2022-06-15T06:22:32.725Z"
   },
   {
    "duration": 4,
    "start_time": "2022-06-15T06:22:47.475Z"
   },
   {
    "duration": 16,
    "start_time": "2022-06-15T06:22:55.111Z"
   },
   {
    "duration": 599,
    "start_time": "2022-06-15T06:23:40.729Z"
   },
   {
    "duration": 3,
    "start_time": "2022-06-15T06:23:41.330Z"
   },
   {
    "duration": 6,
    "start_time": "2022-06-15T06:23:41.334Z"
   },
   {
    "duration": 65,
    "start_time": "2022-06-15T06:23:41.342Z"
   },
   {
    "duration": 3,
    "start_time": "2022-06-15T06:31:30.107Z"
   },
   {
    "duration": 11,
    "start_time": "2022-06-15T06:31:34.102Z"
   },
   {
    "duration": 2,
    "start_time": "2022-06-15T06:32:10.301Z"
   },
   {
    "duration": 17,
    "start_time": "2022-06-15T06:32:11.999Z"
   },
   {
    "duration": 3,
    "start_time": "2022-06-15T06:43:44.141Z"
   },
   {
    "duration": 3,
    "start_time": "2022-06-15T06:43:54.859Z"
   },
   {
    "duration": 15,
    "start_time": "2022-06-15T06:43:55.458Z"
   },
   {
    "duration": 3,
    "start_time": "2022-06-15T06:44:20.569Z"
   },
   {
    "duration": 127,
    "start_time": "2022-06-15T06:44:26.854Z"
   },
   {
    "duration": 2,
    "start_time": "2022-06-15T06:44:54.004Z"
   },
   {
    "duration": 11,
    "start_time": "2022-06-15T06:44:55.780Z"
   },
   {
    "duration": 3,
    "start_time": "2022-06-15T06:49:55.854Z"
   },
   {
    "duration": 10,
    "start_time": "2022-06-15T06:50:00.505Z"
   },
   {
    "duration": 3,
    "start_time": "2022-06-15T06:50:18.862Z"
   },
   {
    "duration": 11,
    "start_time": "2022-06-15T06:50:23.608Z"
   },
   {
    "duration": 3,
    "start_time": "2022-06-15T06:51:43.489Z"
   },
   {
    "duration": 13,
    "start_time": "2022-06-15T06:51:50.156Z"
   },
   {
    "duration": 3,
    "start_time": "2022-06-15T06:52:18.681Z"
   },
   {
    "duration": 12,
    "start_time": "2022-06-15T06:52:20.511Z"
   },
   {
    "duration": 2,
    "start_time": "2022-06-15T06:53:06.170Z"
   },
   {
    "duration": 12,
    "start_time": "2022-06-15T06:53:07.838Z"
   },
   {
    "duration": 3,
    "start_time": "2022-06-15T06:54:07.723Z"
   },
   {
    "duration": 15,
    "start_time": "2022-06-15T06:54:12.594Z"
   },
   {
    "duration": 3,
    "start_time": "2022-06-15T06:54:35.128Z"
   },
   {
    "duration": 11,
    "start_time": "2022-06-15T06:54:35.891Z"
   },
   {
    "duration": 3,
    "start_time": "2022-06-15T12:03:22.219Z"
   },
   {
    "duration": 12,
    "start_time": "2022-06-15T12:03:35.612Z"
   },
   {
    "duration": 3,
    "start_time": "2022-06-15T12:32:58.500Z"
   },
   {
    "duration": 7,
    "start_time": "2022-06-15T12:33:12.118Z"
   },
   {
    "duration": 24,
    "start_time": "2022-06-15T12:33:19.950Z"
   },
   {
    "duration": 3,
    "start_time": "2022-06-15T12:34:29.145Z"
   },
   {
    "duration": 16,
    "start_time": "2022-06-15T12:34:36.540Z"
   },
   {
    "duration": 2,
    "start_time": "2022-06-15T12:35:11.749Z"
   },
   {
    "duration": 11,
    "start_time": "2022-06-15T12:35:12.462Z"
   },
   {
    "duration": 3,
    "start_time": "2022-06-15T12:36:17.373Z"
   },
   {
    "duration": 11,
    "start_time": "2022-06-15T12:36:17.847Z"
   },
   {
    "duration": 3,
    "start_time": "2022-06-15T12:37:58.531Z"
   },
   {
    "duration": 63,
    "start_time": "2022-06-15T12:38:01.010Z"
   },
   {
    "duration": 2,
    "start_time": "2022-06-15T12:38:18.712Z"
   },
   {
    "duration": 70,
    "start_time": "2022-06-15T12:38:19.921Z"
   },
   {
    "duration": 2,
    "start_time": "2022-06-15T12:38:27.054Z"
   },
   {
    "duration": 19,
    "start_time": "2022-06-15T12:38:27.659Z"
   },
   {
    "duration": 2,
    "start_time": "2022-06-15T12:40:16.810Z"
   },
   {
    "duration": 16,
    "start_time": "2022-06-15T12:40:22.960Z"
   },
   {
    "duration": 3,
    "start_time": "2022-06-15T12:43:27.576Z"
   },
   {
    "duration": 13,
    "start_time": "2022-06-15T12:44:11.153Z"
   },
   {
    "duration": 617,
    "start_time": "2022-06-15T12:45:52.437Z"
   },
   {
    "duration": 3,
    "start_time": "2022-06-15T12:45:53.056Z"
   },
   {
    "duration": 7,
    "start_time": "2022-06-15T12:45:53.060Z"
   },
   {
    "duration": 73,
    "start_time": "2022-06-15T12:45:53.068Z"
   },
   {
    "duration": 2,
    "start_time": "2022-06-15T12:45:53.143Z"
   },
   {
    "duration": 15,
    "start_time": "2022-06-15T12:45:53.146Z"
   },
   {
    "duration": 3,
    "start_time": "2022-06-15T12:45:53.163Z"
   },
   {
    "duration": 16,
    "start_time": "2022-06-15T12:45:53.167Z"
   },
   {
    "duration": 2,
    "start_time": "2022-06-15T12:45:53.185Z"
   },
   {
    "duration": 20,
    "start_time": "2022-06-15T12:45:53.189Z"
   },
   {
    "duration": 3,
    "start_time": "2022-06-15T12:45:53.211Z"
   },
   {
    "duration": 24,
    "start_time": "2022-06-15T12:45:53.216Z"
   },
   {
    "duration": 13,
    "start_time": "2022-06-15T12:45:53.242Z"
   },
   {
    "duration": 19,
    "start_time": "2022-06-15T12:45:53.258Z"
   },
   {
    "duration": 3,
    "start_time": "2022-06-15T12:45:53.279Z"
   },
   {
    "duration": 25,
    "start_time": "2022-06-15T12:45:53.283Z"
   },
   {
    "duration": 7,
    "start_time": "2022-06-15T12:45:53.310Z"
   },
   {
    "duration": 15,
    "start_time": "2022-06-15T12:45:53.319Z"
   },
   {
    "duration": 3,
    "start_time": "2022-06-15T12:45:53.335Z"
   },
   {
    "duration": 19,
    "start_time": "2022-06-15T12:45:53.340Z"
   },
   {
    "duration": 2,
    "start_time": "2022-06-15T12:45:53.361Z"
   },
   {
    "duration": 18,
    "start_time": "2022-06-15T12:45:53.365Z"
   },
   {
    "duration": 2,
    "start_time": "2022-06-15T12:45:53.386Z"
   },
   {
    "duration": 24,
    "start_time": "2022-06-15T12:45:53.390Z"
   },
   {
    "duration": 8,
    "start_time": "2022-06-15T12:45:53.416Z"
   },
   {
    "duration": 42,
    "start_time": "2022-06-15T12:45:53.426Z"
   },
   {
    "duration": 3,
    "start_time": "2022-06-15T12:45:53.470Z"
   },
   {
    "duration": 20,
    "start_time": "2022-06-15T12:45:53.474Z"
   },
   {
    "duration": 2,
    "start_time": "2022-06-15T12:45:53.496Z"
   },
   {
    "duration": 21,
    "start_time": "2022-06-15T12:45:53.500Z"
   },
   {
    "duration": 2,
    "start_time": "2022-06-15T12:45:53.523Z"
   },
   {
    "duration": 16,
    "start_time": "2022-06-15T12:45:53.527Z"
   },
   {
    "duration": 605,
    "start_time": "2022-06-15T13:41:23.105Z"
   },
   {
    "duration": 3,
    "start_time": "2022-06-15T13:41:23.713Z"
   },
   {
    "duration": 6,
    "start_time": "2022-06-15T13:41:23.718Z"
   },
   {
    "duration": 264,
    "start_time": "2022-06-15T13:41:23.726Z"
   },
   {
    "duration": 3,
    "start_time": "2022-06-15T13:41:23.993Z"
   },
   {
    "duration": 79,
    "start_time": "2022-06-15T13:41:23.998Z"
   },
   {
    "duration": 3,
    "start_time": "2022-06-15T13:41:24.079Z"
   },
   {
    "duration": 88,
    "start_time": "2022-06-15T13:41:24.084Z"
   },
   {
    "duration": 3,
    "start_time": "2022-06-15T13:41:24.174Z"
   },
   {
    "duration": 79,
    "start_time": "2022-06-15T13:41:24.180Z"
   },
   {
    "duration": 3,
    "start_time": "2022-06-15T13:41:24.261Z"
   },
   {
    "duration": 83,
    "start_time": "2022-06-15T13:41:24.266Z"
   },
   {
    "duration": 3,
    "start_time": "2022-06-15T13:41:24.351Z"
   },
   {
    "duration": 79,
    "start_time": "2022-06-15T13:41:24.356Z"
   },
   {
    "duration": 3,
    "start_time": "2022-06-15T13:41:24.436Z"
   },
   {
    "duration": 82,
    "start_time": "2022-06-15T13:41:24.441Z"
   },
   {
    "duration": 2,
    "start_time": "2022-06-15T13:41:24.525Z"
   },
   {
    "duration": 80,
    "start_time": "2022-06-15T13:41:24.529Z"
   },
   {
    "duration": 3,
    "start_time": "2022-06-15T13:41:24.611Z"
   },
   {
    "duration": 81,
    "start_time": "2022-06-15T13:41:24.616Z"
   },
   {
    "duration": 3,
    "start_time": "2022-06-15T13:41:24.699Z"
   },
   {
    "duration": 81,
    "start_time": "2022-06-15T13:41:24.704Z"
   },
   {
    "duration": 2,
    "start_time": "2022-06-15T13:41:24.788Z"
   },
   {
    "duration": 82,
    "start_time": "2022-06-15T13:41:24.792Z"
   },
   {
    "duration": 3,
    "start_time": "2022-06-15T13:41:24.876Z"
   },
   {
    "duration": 94,
    "start_time": "2022-06-15T13:41:24.881Z"
   },
   {
    "duration": 4,
    "start_time": "2022-06-15T13:41:24.977Z"
   },
   {
    "duration": 83,
    "start_time": "2022-06-15T13:41:24.983Z"
   },
   {
    "duration": 4,
    "start_time": "2022-06-15T13:41:25.067Z"
   },
   {
    "duration": 96,
    "start_time": "2022-06-15T13:41:25.073Z"
   },
   {
    "duration": 3,
    "start_time": "2022-06-15T13:41:25.172Z"
   },
   {
    "duration": 106,
    "start_time": "2022-06-15T13:41:25.176Z"
   },
   {
    "duration": 3,
    "start_time": "2022-06-15T13:41:54.365Z"
   },
   {
    "duration": 1369,
    "start_time": "2022-06-15T13:41:55.486Z"
   },
   {
    "duration": 3,
    "start_time": "2022-06-15T13:42:02.725Z"
   },
   {
    "duration": 84,
    "start_time": "2022-06-15T13:42:02.933Z"
   },
   {
    "duration": 3,
    "start_time": "2022-06-15T13:42:42.447Z"
   },
   {
    "duration": 91,
    "start_time": "2022-06-15T13:42:43.260Z"
   },
   {
    "duration": 3,
    "start_time": "2022-06-15T13:42:50.953Z"
   },
   {
    "duration": 80,
    "start_time": "2022-06-15T13:42:53.493Z"
   },
   {
    "duration": 483,
    "start_time": "2022-06-15T16:13:34.173Z"
   },
   {
    "duration": 3,
    "start_time": "2022-06-15T16:13:34.658Z"
   },
   {
    "duration": 8,
    "start_time": "2022-06-15T16:13:34.662Z"
   },
   {
    "duration": 234,
    "start_time": "2022-06-15T16:13:34.671Z"
   },
   {
    "duration": 2,
    "start_time": "2022-06-15T16:13:34.907Z"
   },
   {
    "duration": 72,
    "start_time": "2022-06-15T16:13:34.910Z"
   },
   {
    "duration": 3,
    "start_time": "2022-06-15T16:13:34.983Z"
   },
   {
    "duration": 72,
    "start_time": "2022-06-15T16:13:34.987Z"
   },
   {
    "duration": 2,
    "start_time": "2022-06-15T16:13:35.061Z"
   },
   {
    "duration": 75,
    "start_time": "2022-06-15T16:13:35.064Z"
   },
   {
    "duration": 2,
    "start_time": "2022-06-15T16:13:35.140Z"
   },
   {
    "duration": 76,
    "start_time": "2022-06-15T16:13:35.144Z"
   },
   {
    "duration": 2,
    "start_time": "2022-06-15T16:13:35.222Z"
   },
   {
    "duration": 72,
    "start_time": "2022-06-15T16:13:35.227Z"
   },
   {
    "duration": 2,
    "start_time": "2022-06-15T16:13:35.301Z"
   },
   {
    "duration": 74,
    "start_time": "2022-06-15T16:13:35.305Z"
   },
   {
    "duration": 3,
    "start_time": "2022-06-15T16:13:35.380Z"
   },
   {
    "duration": 76,
    "start_time": "2022-06-15T16:13:35.384Z"
   },
   {
    "duration": 3,
    "start_time": "2022-06-15T16:13:35.461Z"
   },
   {
    "duration": 82,
    "start_time": "2022-06-15T16:13:35.465Z"
   },
   {
    "duration": 2,
    "start_time": "2022-06-15T16:13:35.549Z"
   },
   {
    "duration": 76,
    "start_time": "2022-06-15T16:13:35.553Z"
   },
   {
    "duration": 3,
    "start_time": "2022-06-15T16:13:35.630Z"
   },
   {
    "duration": 86,
    "start_time": "2022-06-15T16:13:35.634Z"
   },
   {
    "duration": 3,
    "start_time": "2022-06-15T16:13:35.722Z"
   },
   {
    "duration": 120,
    "start_time": "2022-06-15T16:13:35.727Z"
   },
   {
    "duration": 2,
    "start_time": "2022-06-15T16:13:35.849Z"
   },
   {
    "duration": 92,
    "start_time": "2022-06-15T16:13:35.852Z"
   },
   {
    "duration": 2,
    "start_time": "2022-06-15T16:13:35.946Z"
   },
   {
    "duration": 89,
    "start_time": "2022-06-15T16:13:35.949Z"
   },
   {
    "duration": 2,
    "start_time": "2022-06-15T16:13:36.040Z"
   },
   {
    "duration": 114,
    "start_time": "2022-06-15T16:13:36.044Z"
   },
   {
    "duration": 548,
    "start_time": "2022-06-15T16:24:13.292Z"
   },
   {
    "duration": 2,
    "start_time": "2022-06-15T16:24:13.842Z"
   },
   {
    "duration": 8,
    "start_time": "2022-06-15T16:24:13.846Z"
   },
   {
    "duration": 231,
    "start_time": "2022-06-15T16:24:13.856Z"
   },
   {
    "duration": 2,
    "start_time": "2022-06-15T16:24:14.089Z"
   },
   {
    "duration": 70,
    "start_time": "2022-06-15T16:24:14.093Z"
   },
   {
    "duration": 2,
    "start_time": "2022-06-15T16:24:14.165Z"
   },
   {
    "duration": 73,
    "start_time": "2022-06-15T16:24:14.168Z"
   },
   {
    "duration": 2,
    "start_time": "2022-06-15T16:24:14.242Z"
   },
   {
    "duration": 71,
    "start_time": "2022-06-15T16:24:14.246Z"
   },
   {
    "duration": 2,
    "start_time": "2022-06-15T16:24:14.319Z"
   },
   {
    "duration": 72,
    "start_time": "2022-06-15T16:24:14.322Z"
   },
   {
    "duration": 2,
    "start_time": "2022-06-15T16:24:14.396Z"
   },
   {
    "duration": 69,
    "start_time": "2022-06-15T16:24:14.400Z"
   },
   {
    "duration": 2,
    "start_time": "2022-06-15T16:24:14.470Z"
   },
   {
    "duration": 72,
    "start_time": "2022-06-15T16:24:14.473Z"
   },
   {
    "duration": 3,
    "start_time": "2022-06-15T16:24:14.546Z"
   },
   {
    "duration": 70,
    "start_time": "2022-06-15T16:24:14.551Z"
   },
   {
    "duration": 2,
    "start_time": "2022-06-15T16:24:14.623Z"
   },
   {
    "duration": 78,
    "start_time": "2022-06-15T16:24:14.626Z"
   },
   {
    "duration": 2,
    "start_time": "2022-06-15T16:24:14.706Z"
   },
   {
    "duration": 70,
    "start_time": "2022-06-15T16:24:14.709Z"
   },
   {
    "duration": 3,
    "start_time": "2022-06-15T16:24:14.780Z"
   },
   {
    "duration": 87,
    "start_time": "2022-06-15T16:24:14.784Z"
   },
   {
    "duration": 2,
    "start_time": "2022-06-15T16:24:14.873Z"
   },
   {
    "duration": 81,
    "start_time": "2022-06-15T16:24:14.877Z"
   },
   {
    "duration": 2,
    "start_time": "2022-06-15T16:24:14.959Z"
   },
   {
    "duration": 77,
    "start_time": "2022-06-15T16:24:14.963Z"
   },
   {
    "duration": 3,
    "start_time": "2022-06-15T16:24:15.042Z"
   },
   {
    "duration": 95,
    "start_time": "2022-06-15T16:24:15.046Z"
   },
   {
    "duration": 2,
    "start_time": "2022-06-15T16:24:15.142Z"
   },
   {
    "duration": 76,
    "start_time": "2022-06-15T16:24:15.146Z"
   },
   {
    "duration": 531,
    "start_time": "2022-06-16T14:12:27.374Z"
   },
   {
    "duration": 2,
    "start_time": "2022-06-16T14:12:27.907Z"
   },
   {
    "duration": 6,
    "start_time": "2022-06-16T14:12:27.911Z"
   },
   {
    "duration": 73,
    "start_time": "2022-06-16T14:12:27.919Z"
   },
   {
    "duration": 2,
    "start_time": "2022-06-16T14:12:27.994Z"
   },
   {
    "duration": 13,
    "start_time": "2022-06-16T14:12:27.998Z"
   },
   {
    "duration": 2,
    "start_time": "2022-06-16T14:12:28.013Z"
   },
   {
    "duration": 18,
    "start_time": "2022-06-16T14:12:28.017Z"
   },
   {
    "duration": 3,
    "start_time": "2022-06-16T14:12:28.037Z"
   },
   {
    "duration": 19,
    "start_time": "2022-06-16T14:12:28.042Z"
   },
   {
    "duration": 2,
    "start_time": "2022-06-16T14:12:28.063Z"
   },
   {
    "duration": 20,
    "start_time": "2022-06-16T14:12:28.066Z"
   },
   {
    "duration": 3,
    "start_time": "2022-06-16T14:12:28.087Z"
   },
   {
    "duration": 10,
    "start_time": "2022-06-16T14:12:28.093Z"
   },
   {
    "duration": 2,
    "start_time": "2022-06-16T14:12:28.105Z"
   },
   {
    "duration": 16,
    "start_time": "2022-06-16T14:12:28.108Z"
   },
   {
    "duration": 2,
    "start_time": "2022-06-16T14:12:28.126Z"
   },
   {
    "duration": 12,
    "start_time": "2022-06-16T14:12:28.129Z"
   },
   {
    "duration": 2,
    "start_time": "2022-06-16T14:12:28.142Z"
   },
   {
    "duration": 14,
    "start_time": "2022-06-16T14:12:28.146Z"
   },
   {
    "duration": 2,
    "start_time": "2022-06-16T14:12:28.162Z"
   },
   {
    "duration": 29,
    "start_time": "2022-06-16T14:12:28.166Z"
   },
   {
    "duration": 3,
    "start_time": "2022-06-16T14:12:28.197Z"
   },
   {
    "duration": 21,
    "start_time": "2022-06-16T14:12:28.201Z"
   },
   {
    "duration": 2,
    "start_time": "2022-06-16T14:12:28.224Z"
   },
   {
    "duration": 27,
    "start_time": "2022-06-16T14:12:28.228Z"
   },
   {
    "duration": 3,
    "start_time": "2022-06-16T14:12:28.257Z"
   },
   {
    "duration": 14,
    "start_time": "2022-06-16T14:12:28.263Z"
   },
   {
    "duration": 2,
    "start_time": "2022-06-16T14:12:28.279Z"
   },
   {
    "duration": 24,
    "start_time": "2022-06-16T14:12:28.283Z"
   },
   {
    "duration": 3,
    "start_time": "2022-06-16T14:12:28.309Z"
   },
   {
    "duration": 15,
    "start_time": "2022-06-16T14:12:28.313Z"
   },
   {
    "duration": 2,
    "start_time": "2022-06-16T14:13:39.943Z"
   },
   {
    "duration": 17,
    "start_time": "2022-06-16T14:13:41.384Z"
   }
  ],
  "kernelspec": {
   "display_name": "Python 3 (ipykernel)",
   "language": "python",
   "name": "python3"
  },
  "language_info": {
   "codemirror_mode": {
    "name": "ipython",
    "version": 3
   },
   "file_extension": ".py",
   "mimetype": "text/x-python",
   "name": "python",
   "nbconvert_exporter": "python",
   "pygments_lexer": "ipython3",
   "version": "3.9.5"
  },
  "toc": {
   "base_numbering": 1,
   "nav_menu": {},
   "number_sections": false,
   "sideBar": true,
   "skip_h1_title": false,
   "title_cell": "Table of Contents",
   "title_sidebar": "Contents",
   "toc_cell": false,
   "toc_position": {},
   "toc_section_display": true,
   "toc_window_display": true
  }
 },
 "nbformat": 4,
 "nbformat_minor": 2
}
