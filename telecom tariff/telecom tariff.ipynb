{
 "cells": [
  {
   "cell_type": "markdown",
   "metadata": {},
   "source": [
    "# Определение перспективного тарифа для телеком-компании"
   ]
  },
  {
   "cell_type": "markdown",
   "metadata": {},
   "source": [
    "Клиентам предлагают два тарифных плана: «Смарт» и «Ультра». Чтобы скорректировать рекламный бюджет, коммерческий департамент хочет понять, какой тариф приносит больше денег.\n",
    "Предстоит сделать предварительный анализ тарифов на небольшой выборке клиентов. В нашем распоряжении данные 500 пользователей «Мегалайна»: кто они, откуда, каким тарифом пользуются, сколько звонков и сообщений каждый отправил за 2018 год. Нужно проанализировать поведение клиентов и сделать вывод — какой тариф лучше.\n",
    "\n",
    "*Описание тарифов*\n",
    "\n",
    "<b>Тариф «Смарт»</b>\n",
    "\n",
    "Ежемесячная плата: 550 рублей\n",
    "\n",
    "Включено 500 минут разговора, 50 сообщений и 15 Гб интернет-трафика\n",
    "\n",
    "Стоимость услуг сверх тарифного пакета: 1. минута разговора: 3 рубля («Мегалайн» всегда округляет вверх значения минут и мегабайтов. Если пользователь проговорил всего 1 секунду, в тарифе засчитывается целая минута); 2. сообщение: 3 рубля; 3. 1 Гб интернет-трафика: 200 рублей.\n",
    "\n",
    "<b>Тариф «Ультра»</b>\n",
    "\n",
    "Ежемесячная плата: 1950 рублей\n",
    "\n",
    "Включено 3000 минут разговора, 1000 сообщений и 30 Гб интернет-трафика\n",
    "\n",
    "Стоимость услуг сверх тарифного пакета: 1. минута разговора: 1 рубль; 2. сообщение: 1 рубль; 3. 1 Гб интернет-трафика: 150 рублей."
   ]
  },
  {
   "cell_type": "markdown",
   "metadata": {},
   "source": [
    "<h1>Содержание<span class=\"tocSkip\"></span></h1>\n",
    "\n",
    "- [Открытие данных](#start)\n",
    "- [Предобработка данных](#preprocessing)\n",
    "- [Анализ данных](#analysis)\n",
    "- [Проверка гипотезы \"средняя выручка пользователей тарифов «Ультра» и «Смарт» различаются\"](#Hypothesis_testing_1)\n",
    "- [Проверка гипотезы \"средняя выручка пользователей из Москвы отличается от выручки пользователей из других регионов\"\"](#Hypothesis_testing_2)\n",
    "- [Общий вывод](#conclusion)"
   ]
  },
  {
   "cell_type": "markdown",
   "metadata": {},
   "source": [
    "## Открытие данных<a id='start'></a>"
   ]
  },
  {
   "cell_type": "markdown",
   "metadata": {},
   "source": [
    "Вызовем необходимые библиотеки."
   ]
  },
  {
   "cell_type": "code",
   "execution_count": 1,
   "metadata": {},
   "outputs": [],
   "source": [
    "import pandas as pd\n",
    "import numpy as np\n",
    "import seaborn as sns\n",
    "from scipy import stats as st\n",
    "pd.set_option('display.float_format', '{:,.2f}'.format)"
   ]
  },
  {
   "cell_type": "markdown",
   "metadata": {},
   "source": [
    "### файл с таблицей calls звонки"
   ]
  },
  {
   "cell_type": "markdown",
   "metadata": {},
   "source": [
    "Откроем и выведем первые строки таблицы /datasets/calls.csv.методом head():"
   ]
  },
  {
   "cell_type": "code",
   "execution_count": 2,
   "metadata": {},
   "outputs": [
    {
     "data": {
      "text/html": [
       "<div>\n",
       "<style scoped>\n",
       "    .dataframe tbody tr th:only-of-type {\n",
       "        vertical-align: middle;\n",
       "    }\n",
       "\n",
       "    .dataframe tbody tr th {\n",
       "        vertical-align: top;\n",
       "    }\n",
       "\n",
       "    .dataframe thead th {\n",
       "        text-align: right;\n",
       "    }\n",
       "</style>\n",
       "<table border=\"1\" class=\"dataframe\">\n",
       "  <thead>\n",
       "    <tr style=\"text-align: right;\">\n",
       "      <th></th>\n",
       "      <th>id</th>\n",
       "      <th>call_date</th>\n",
       "      <th>duration</th>\n",
       "      <th>user_id</th>\n",
       "    </tr>\n",
       "  </thead>\n",
       "  <tbody>\n",
       "    <tr>\n",
       "      <td>0</td>\n",
       "      <td>1000_0</td>\n",
       "      <td>2018-07-25</td>\n",
       "      <td>0.00</td>\n",
       "      <td>1000</td>\n",
       "    </tr>\n",
       "    <tr>\n",
       "      <td>1</td>\n",
       "      <td>1000_1</td>\n",
       "      <td>2018-08-17</td>\n",
       "      <td>0.00</td>\n",
       "      <td>1000</td>\n",
       "    </tr>\n",
       "    <tr>\n",
       "      <td>2</td>\n",
       "      <td>1000_2</td>\n",
       "      <td>2018-06-11</td>\n",
       "      <td>2.85</td>\n",
       "      <td>1000</td>\n",
       "    </tr>\n",
       "    <tr>\n",
       "      <td>3</td>\n",
       "      <td>1000_3</td>\n",
       "      <td>2018-09-21</td>\n",
       "      <td>13.80</td>\n",
       "      <td>1000</td>\n",
       "    </tr>\n",
       "    <tr>\n",
       "      <td>4</td>\n",
       "      <td>1000_4</td>\n",
       "      <td>2018-12-15</td>\n",
       "      <td>5.18</td>\n",
       "      <td>1000</td>\n",
       "    </tr>\n",
       "  </tbody>\n",
       "</table>\n",
       "</div>"
      ],
      "text/plain": [
       "       id   call_date  duration  user_id\n",
       "0  1000_0  2018-07-25      0.00     1000\n",
       "1  1000_1  2018-08-17      0.00     1000\n",
       "2  1000_2  2018-06-11      2.85     1000\n",
       "3  1000_3  2018-09-21     13.80     1000\n",
       "4  1000_4  2018-12-15      5.18     1000"
      ]
     },
     "execution_count": 2,
     "metadata": {},
     "output_type": "execute_result"
    }
   ],
   "source": [
    "data_calls = pd.read_csv('/datasets/calls.csv')\n",
    "data_calls.head()"
   ]
  },
  {
   "cell_type": "markdown",
   "metadata": {},
   "source": [
    "Это таблица со звонками (id - код звонка, call_date - дата звонка, duration - длительность звонка, user_id - id абонента).\n",
    "\n",
    "Познакомимся с таблиценй с помощью функции describe().T"
   ]
  },
  {
   "cell_type": "code",
   "execution_count": 3,
   "metadata": {},
   "outputs": [
    {
     "data": {
      "text/html": [
       "<div>\n",
       "<style scoped>\n",
       "    .dataframe tbody tr th:only-of-type {\n",
       "        vertical-align: middle;\n",
       "    }\n",
       "\n",
       "    .dataframe tbody tr th {\n",
       "        vertical-align: top;\n",
       "    }\n",
       "\n",
       "    .dataframe thead th {\n",
       "        text-align: right;\n",
       "    }\n",
       "</style>\n",
       "<table border=\"1\" class=\"dataframe\">\n",
       "  <thead>\n",
       "    <tr style=\"text-align: right;\">\n",
       "      <th></th>\n",
       "      <th>count</th>\n",
       "      <th>mean</th>\n",
       "      <th>std</th>\n",
       "      <th>min</th>\n",
       "      <th>25%</th>\n",
       "      <th>50%</th>\n",
       "      <th>75%</th>\n",
       "      <th>max</th>\n",
       "    </tr>\n",
       "  </thead>\n",
       "  <tbody>\n",
       "    <tr>\n",
       "      <td>duration</td>\n",
       "      <td>202607.0</td>\n",
       "      <td>6.755887</td>\n",
       "      <td>5.843365</td>\n",
       "      <td>0.0</td>\n",
       "      <td>1.3</td>\n",
       "      <td>6.0</td>\n",
       "      <td>10.7</td>\n",
       "      <td>38.0</td>\n",
       "    </tr>\n",
       "    <tr>\n",
       "      <td>user_id</td>\n",
       "      <td>202607.0</td>\n",
       "      <td>1253.940619</td>\n",
       "      <td>144.722751</td>\n",
       "      <td>1000.0</td>\n",
       "      <td>1126.0</td>\n",
       "      <td>1260.0</td>\n",
       "      <td>1379.0</td>\n",
       "      <td>1499.0</td>\n",
       "    </tr>\n",
       "  </tbody>\n",
       "</table>\n",
       "</div>"
      ],
      "text/plain": [
       "             count         mean         std     min     25%     50%     75%  \\\n",
       "duration  202607.0     6.755887    5.843365     0.0     1.3     6.0    10.7   \n",
       "user_id   202607.0  1253.940619  144.722751  1000.0  1126.0  1260.0  1379.0   \n",
       "\n",
       "             max  \n",
       "duration    38.0  \n",
       "user_id   1499.0  "
      ]
     },
     "execution_count": 3,
     "metadata": {},
     "output_type": "execute_result"
    }
   ],
   "source": [
    "data_calls.describe().T"
   ]
  },
  {
   "cell_type": "markdown",
   "metadata": {},
   "source": [
    "Всего в таблице 202607 строк."
   ]
  },
  {
   "cell_type": "markdown",
   "metadata": {},
   "source": [
    "### файл с таблицей internet интернет"
   ]
  },
  {
   "cell_type": "markdown",
   "metadata": {},
   "source": [
    "Откроем и выведем первые строки таблицы /datasets/internet.csv методом head():"
   ]
  },
  {
   "cell_type": "code",
   "execution_count": 4,
   "metadata": {},
   "outputs": [
    {
     "data": {
      "text/html": [
       "<div>\n",
       "<style scoped>\n",
       "    .dataframe tbody tr th:only-of-type {\n",
       "        vertical-align: middle;\n",
       "    }\n",
       "\n",
       "    .dataframe tbody tr th {\n",
       "        vertical-align: top;\n",
       "    }\n",
       "\n",
       "    .dataframe thead th {\n",
       "        text-align: right;\n",
       "    }\n",
       "</style>\n",
       "<table border=\"1\" class=\"dataframe\">\n",
       "  <thead>\n",
       "    <tr style=\"text-align: right;\">\n",
       "      <th></th>\n",
       "      <th>Unnamed: 0</th>\n",
       "      <th>id</th>\n",
       "      <th>mb_used</th>\n",
       "      <th>session_date</th>\n",
       "      <th>user_id</th>\n",
       "    </tr>\n",
       "  </thead>\n",
       "  <tbody>\n",
       "    <tr>\n",
       "      <td>0</td>\n",
       "      <td>0</td>\n",
       "      <td>1000_0</td>\n",
       "      <td>112.95</td>\n",
       "      <td>2018-11-25</td>\n",
       "      <td>1000</td>\n",
       "    </tr>\n",
       "    <tr>\n",
       "      <td>1</td>\n",
       "      <td>1</td>\n",
       "      <td>1000_1</td>\n",
       "      <td>1052.81</td>\n",
       "      <td>2018-09-07</td>\n",
       "      <td>1000</td>\n",
       "    </tr>\n",
       "    <tr>\n",
       "      <td>2</td>\n",
       "      <td>2</td>\n",
       "      <td>1000_2</td>\n",
       "      <td>1197.26</td>\n",
       "      <td>2018-06-25</td>\n",
       "      <td>1000</td>\n",
       "    </tr>\n",
       "    <tr>\n",
       "      <td>3</td>\n",
       "      <td>3</td>\n",
       "      <td>1000_3</td>\n",
       "      <td>550.27</td>\n",
       "      <td>2018-08-22</td>\n",
       "      <td>1000</td>\n",
       "    </tr>\n",
       "    <tr>\n",
       "      <td>4</td>\n",
       "      <td>4</td>\n",
       "      <td>1000_4</td>\n",
       "      <td>302.56</td>\n",
       "      <td>2018-09-24</td>\n",
       "      <td>1000</td>\n",
       "    </tr>\n",
       "  </tbody>\n",
       "</table>\n",
       "</div>"
      ],
      "text/plain": [
       "   Unnamed: 0      id  mb_used session_date  user_id\n",
       "0           0  1000_0   112.95   2018-11-25     1000\n",
       "1           1  1000_1  1052.81   2018-09-07     1000\n",
       "2           2  1000_2  1197.26   2018-06-25     1000\n",
       "3           3  1000_3   550.27   2018-08-22     1000\n",
       "4           4  1000_4   302.56   2018-09-24     1000"
      ]
     },
     "execution_count": 4,
     "metadata": {},
     "output_type": "execute_result"
    }
   ],
   "source": [
    "data_internet = pd.read_csv('/datasets/internet.csv')\n",
    "data_internet.head()"
   ]
  },
  {
   "cell_type": "markdown",
   "metadata": {},
   "source": [
    "Это таблица с данными интернет трафика (id - код подключения к интернету, mb_used - использованные Мб, session_date - дата подключения к интернету, user_id - id абонента).\n",
    "\n",
    "Познакомимся с таблиценй с помощью функции describe().T"
   ]
  },
  {
   "cell_type": "code",
   "execution_count": 5,
   "metadata": {},
   "outputs": [
    {
     "data": {
      "text/html": [
       "<div>\n",
       "<style scoped>\n",
       "    .dataframe tbody tr th:only-of-type {\n",
       "        vertical-align: middle;\n",
       "    }\n",
       "\n",
       "    .dataframe tbody tr th {\n",
       "        vertical-align: top;\n",
       "    }\n",
       "\n",
       "    .dataframe thead th {\n",
       "        text-align: right;\n",
       "    }\n",
       "</style>\n",
       "<table border=\"1\" class=\"dataframe\">\n",
       "  <thead>\n",
       "    <tr style=\"text-align: right;\">\n",
       "      <th></th>\n",
       "      <th>count</th>\n",
       "      <th>mean</th>\n",
       "      <th>std</th>\n",
       "      <th>min</th>\n",
       "      <th>25%</th>\n",
       "      <th>50%</th>\n",
       "      <th>75%</th>\n",
       "      <th>max</th>\n",
       "    </tr>\n",
       "  </thead>\n",
       "  <tbody>\n",
       "    <tr>\n",
       "      <td>Unnamed: 0</td>\n",
       "      <td>149396.0</td>\n",
       "      <td>74697.500000</td>\n",
       "      <td>43127.054745</td>\n",
       "      <td>0.0</td>\n",
       "      <td>37348.7500</td>\n",
       "      <td>74697.500</td>\n",
       "      <td>112046.2500</td>\n",
       "      <td>149395.00</td>\n",
       "    </tr>\n",
       "    <tr>\n",
       "      <td>mb_used</td>\n",
       "      <td>149396.0</td>\n",
       "      <td>370.192426</td>\n",
       "      <td>278.300951</td>\n",
       "      <td>0.0</td>\n",
       "      <td>138.1875</td>\n",
       "      <td>348.015</td>\n",
       "      <td>559.5525</td>\n",
       "      <td>1724.83</td>\n",
       "    </tr>\n",
       "    <tr>\n",
       "      <td>user_id</td>\n",
       "      <td>149396.0</td>\n",
       "      <td>1252.099842</td>\n",
       "      <td>144.050823</td>\n",
       "      <td>1000.0</td>\n",
       "      <td>1130.0000</td>\n",
       "      <td>1251.000</td>\n",
       "      <td>1380.0000</td>\n",
       "      <td>1499.00</td>\n",
       "    </tr>\n",
       "  </tbody>\n",
       "</table>\n",
       "</div>"
      ],
      "text/plain": [
       "               count          mean           std     min         25%  \\\n",
       "Unnamed: 0  149396.0  74697.500000  43127.054745     0.0  37348.7500   \n",
       "mb_used     149396.0    370.192426    278.300951     0.0    138.1875   \n",
       "user_id     149396.0   1252.099842    144.050823  1000.0   1130.0000   \n",
       "\n",
       "                  50%          75%        max  \n",
       "Unnamed: 0  74697.500  112046.2500  149395.00  \n",
       "mb_used       348.015     559.5525    1724.83  \n",
       "user_id      1251.000    1380.0000    1499.00  "
      ]
     },
     "execution_count": 5,
     "metadata": {},
     "output_type": "execute_result"
    }
   ],
   "source": [
    "data_internet.describe().T"
   ]
  },
  {
   "cell_type": "markdown",
   "metadata": {},
   "source": [
    "В таблице 149396 строк, что меньше чем в таблице со звонками, но тот же диапазон id абонентов."
   ]
  },
  {
   "cell_type": "markdown",
   "metadata": {},
   "source": [
    "### файл с таблицей messages сообщения"
   ]
  },
  {
   "cell_type": "markdown",
   "metadata": {},
   "source": [
    "Откроем и выведем первые строки таблицы /datasets/messages.csv методом head():"
   ]
  },
  {
   "cell_type": "code",
   "execution_count": 6,
   "metadata": {},
   "outputs": [
    {
     "data": {
      "text/html": [
       "<div>\n",
       "<style scoped>\n",
       "    .dataframe tbody tr th:only-of-type {\n",
       "        vertical-align: middle;\n",
       "    }\n",
       "\n",
       "    .dataframe tbody tr th {\n",
       "        vertical-align: top;\n",
       "    }\n",
       "\n",
       "    .dataframe thead th {\n",
       "        text-align: right;\n",
       "    }\n",
       "</style>\n",
       "<table border=\"1\" class=\"dataframe\">\n",
       "  <thead>\n",
       "    <tr style=\"text-align: right;\">\n",
       "      <th></th>\n",
       "      <th>id</th>\n",
       "      <th>message_date</th>\n",
       "      <th>user_id</th>\n",
       "    </tr>\n",
       "  </thead>\n",
       "  <tbody>\n",
       "    <tr>\n",
       "      <td>0</td>\n",
       "      <td>1000_0</td>\n",
       "      <td>2018-06-27</td>\n",
       "      <td>1000</td>\n",
       "    </tr>\n",
       "    <tr>\n",
       "      <td>1</td>\n",
       "      <td>1000_1</td>\n",
       "      <td>2018-10-08</td>\n",
       "      <td>1000</td>\n",
       "    </tr>\n",
       "    <tr>\n",
       "      <td>2</td>\n",
       "      <td>1000_2</td>\n",
       "      <td>2018-08-04</td>\n",
       "      <td>1000</td>\n",
       "    </tr>\n",
       "    <tr>\n",
       "      <td>3</td>\n",
       "      <td>1000_3</td>\n",
       "      <td>2018-06-16</td>\n",
       "      <td>1000</td>\n",
       "    </tr>\n",
       "    <tr>\n",
       "      <td>4</td>\n",
       "      <td>1000_4</td>\n",
       "      <td>2018-12-05</td>\n",
       "      <td>1000</td>\n",
       "    </tr>\n",
       "  </tbody>\n",
       "</table>\n",
       "</div>"
      ],
      "text/plain": [
       "       id message_date  user_id\n",
       "0  1000_0   2018-06-27     1000\n",
       "1  1000_1   2018-10-08     1000\n",
       "2  1000_2   2018-08-04     1000\n",
       "3  1000_3   2018-06-16     1000\n",
       "4  1000_4   2018-12-05     1000"
      ]
     },
     "execution_count": 6,
     "metadata": {},
     "output_type": "execute_result"
    }
   ],
   "source": [
    "data_messages = pd.read_csv('/datasets/messages.csv')\n",
    "data_messages.head()"
   ]
  },
  {
   "cell_type": "markdown",
   "metadata": {},
   "source": [
    "Это таблица с данными сообщений (id - код сообщения, message_date - дата отправки сообщения, user_id - id абонента).\n",
    "\n",
    "Познакомимся с таблиценй с помощью функции describe().T"
   ]
  },
  {
   "cell_type": "code",
   "execution_count": 7,
   "metadata": {},
   "outputs": [
    {
     "data": {
      "text/html": [
       "<div>\n",
       "<style scoped>\n",
       "    .dataframe tbody tr th:only-of-type {\n",
       "        vertical-align: middle;\n",
       "    }\n",
       "\n",
       "    .dataframe tbody tr th {\n",
       "        vertical-align: top;\n",
       "    }\n",
       "\n",
       "    .dataframe thead th {\n",
       "        text-align: right;\n",
       "    }\n",
       "</style>\n",
       "<table border=\"1\" class=\"dataframe\">\n",
       "  <thead>\n",
       "    <tr style=\"text-align: right;\">\n",
       "      <th></th>\n",
       "      <th>count</th>\n",
       "      <th>mean</th>\n",
       "      <th>std</th>\n",
       "      <th>min</th>\n",
       "      <th>25%</th>\n",
       "      <th>50%</th>\n",
       "      <th>75%</th>\n",
       "      <th>max</th>\n",
       "    </tr>\n",
       "  </thead>\n",
       "  <tbody>\n",
       "    <tr>\n",
       "      <td>user_id</td>\n",
       "      <td>123036.0</td>\n",
       "      <td>1256.98941</td>\n",
       "      <td>143.523967</td>\n",
       "      <td>1000.0</td>\n",
       "      <td>1134.0</td>\n",
       "      <td>1271.0</td>\n",
       "      <td>1381.0</td>\n",
       "      <td>1499.0</td>\n",
       "    </tr>\n",
       "  </tbody>\n",
       "</table>\n",
       "</div>"
      ],
      "text/plain": [
       "            count        mean         std     min     25%     50%     75%  \\\n",
       "user_id  123036.0  1256.98941  143.523967  1000.0  1134.0  1271.0  1381.0   \n",
       "\n",
       "            max  \n",
       "user_id  1499.0  "
      ]
     },
     "execution_count": 7,
     "metadata": {},
     "output_type": "execute_result"
    }
   ],
   "source": [
    "data_messages.describe().T"
   ]
  },
  {
   "cell_type": "markdown",
   "metadata": {},
   "source": [
    "В таблице 123036 строк."
   ]
  },
  {
   "cell_type": "markdown",
   "metadata": {},
   "source": [
    "### файл с таблицей tariffs тарифы"
   ]
  },
  {
   "cell_type": "markdown",
   "metadata": {},
   "source": [
    "Откроем и выведем первые строки таблицы /datasets/tariffs.csv. методом head():"
   ]
  },
  {
   "cell_type": "code",
   "execution_count": 8,
   "metadata": {},
   "outputs": [
    {
     "data": {
      "text/html": [
       "<div>\n",
       "<style scoped>\n",
       "    .dataframe tbody tr th:only-of-type {\n",
       "        vertical-align: middle;\n",
       "    }\n",
       "\n",
       "    .dataframe tbody tr th {\n",
       "        vertical-align: top;\n",
       "    }\n",
       "\n",
       "    .dataframe thead th {\n",
       "        text-align: right;\n",
       "    }\n",
       "</style>\n",
       "<table border=\"1\" class=\"dataframe\">\n",
       "  <thead>\n",
       "    <tr style=\"text-align: right;\">\n",
       "      <th></th>\n",
       "      <th>messages_included</th>\n",
       "      <th>mb_per_month_included</th>\n",
       "      <th>minutes_included</th>\n",
       "      <th>rub_monthly_fee</th>\n",
       "      <th>rub_per_gb</th>\n",
       "      <th>rub_per_message</th>\n",
       "      <th>rub_per_minute</th>\n",
       "      <th>tariff_name</th>\n",
       "    </tr>\n",
       "  </thead>\n",
       "  <tbody>\n",
       "    <tr>\n",
       "      <td>0</td>\n",
       "      <td>50</td>\n",
       "      <td>15360</td>\n",
       "      <td>500</td>\n",
       "      <td>550</td>\n",
       "      <td>200</td>\n",
       "      <td>3</td>\n",
       "      <td>3</td>\n",
       "      <td>smart</td>\n",
       "    </tr>\n",
       "    <tr>\n",
       "      <td>1</td>\n",
       "      <td>1000</td>\n",
       "      <td>30720</td>\n",
       "      <td>3000</td>\n",
       "      <td>1950</td>\n",
       "      <td>150</td>\n",
       "      <td>1</td>\n",
       "      <td>1</td>\n",
       "      <td>ultra</td>\n",
       "    </tr>\n",
       "  </tbody>\n",
       "</table>\n",
       "</div>"
      ],
      "text/plain": [
       "   messages_included  mb_per_month_included  minutes_included  \\\n",
       "0                 50                  15360               500   \n",
       "1               1000                  30720              3000   \n",
       "\n",
       "   rub_monthly_fee  rub_per_gb  rub_per_message  rub_per_minute tariff_name  \n",
       "0              550         200                3               3       smart  \n",
       "1             1950         150                1               1       ultra  "
      ]
     },
     "execution_count": 8,
     "metadata": {},
     "output_type": "execute_result"
    }
   ],
   "source": [
    "data_tariffs = pd.read_csv('/datasets/tariffs.csv')\n",
    "data_tariffs.head()"
   ]
  },
  {
   "cell_type": "markdown",
   "metadata": {},
   "source": [
    "В таблице ошибок нет."
   ]
  },
  {
   "cell_type": "markdown",
   "metadata": {},
   "source": [
    "Это таблица с данными о тарифных планах (messages_included - включено сообщений, mb_per_month_included - включено трафика, minutes_included - включено минут, rub_monthly_fee - ежемесячная плата в рублях, rub_per_gb - цена 1 Гб сверхтарифного интернет трафика в рублях, rub_per_message - цена одного сообщения сверх включенных в тариф в рублях, rub_per_minute - цена одной минуты разговора сверх включенных в тариф в рублях, tariff_name - название тарифа).\n",
    "\n",
    "В таблице всего 2 строки с описанием тарифных планов."
   ]
  },
  {
   "cell_type": "markdown",
   "metadata": {},
   "source": [
    "### файл с таблицей users пользователи"
   ]
  },
  {
   "cell_type": "markdown",
   "metadata": {},
   "source": [
    "Откроем и выведем первые строки таблицы /datasets/users.csv методом head():"
   ]
  },
  {
   "cell_type": "code",
   "execution_count": 9,
   "metadata": {},
   "outputs": [
    {
     "data": {
      "text/html": [
       "<div>\n",
       "<style scoped>\n",
       "    .dataframe tbody tr th:only-of-type {\n",
       "        vertical-align: middle;\n",
       "    }\n",
       "\n",
       "    .dataframe tbody tr th {\n",
       "        vertical-align: top;\n",
       "    }\n",
       "\n",
       "    .dataframe thead th {\n",
       "        text-align: right;\n",
       "    }\n",
       "</style>\n",
       "<table border=\"1\" class=\"dataframe\">\n",
       "  <thead>\n",
       "    <tr style=\"text-align: right;\">\n",
       "      <th></th>\n",
       "      <th>user_id</th>\n",
       "      <th>age</th>\n",
       "      <th>churn_date</th>\n",
       "      <th>city</th>\n",
       "      <th>first_name</th>\n",
       "      <th>last_name</th>\n",
       "      <th>reg_date</th>\n",
       "      <th>tariff</th>\n",
       "    </tr>\n",
       "  </thead>\n",
       "  <tbody>\n",
       "    <tr>\n",
       "      <td>0</td>\n",
       "      <td>1000</td>\n",
       "      <td>52</td>\n",
       "      <td>NaN</td>\n",
       "      <td>Краснодар</td>\n",
       "      <td>Рафаил</td>\n",
       "      <td>Верещагин</td>\n",
       "      <td>2018-05-25</td>\n",
       "      <td>ultra</td>\n",
       "    </tr>\n",
       "    <tr>\n",
       "      <td>1</td>\n",
       "      <td>1001</td>\n",
       "      <td>41</td>\n",
       "      <td>NaN</td>\n",
       "      <td>Москва</td>\n",
       "      <td>Иван</td>\n",
       "      <td>Ежов</td>\n",
       "      <td>2018-11-01</td>\n",
       "      <td>smart</td>\n",
       "    </tr>\n",
       "    <tr>\n",
       "      <td>2</td>\n",
       "      <td>1002</td>\n",
       "      <td>59</td>\n",
       "      <td>NaN</td>\n",
       "      <td>Стерлитамак</td>\n",
       "      <td>Евгений</td>\n",
       "      <td>Абрамович</td>\n",
       "      <td>2018-06-17</td>\n",
       "      <td>smart</td>\n",
       "    </tr>\n",
       "    <tr>\n",
       "      <td>3</td>\n",
       "      <td>1003</td>\n",
       "      <td>23</td>\n",
       "      <td>NaN</td>\n",
       "      <td>Москва</td>\n",
       "      <td>Белла</td>\n",
       "      <td>Белякова</td>\n",
       "      <td>2018-08-17</td>\n",
       "      <td>ultra</td>\n",
       "    </tr>\n",
       "    <tr>\n",
       "      <td>4</td>\n",
       "      <td>1004</td>\n",
       "      <td>68</td>\n",
       "      <td>NaN</td>\n",
       "      <td>Новокузнецк</td>\n",
       "      <td>Татьяна</td>\n",
       "      <td>Авдеенко</td>\n",
       "      <td>2018-05-14</td>\n",
       "      <td>ultra</td>\n",
       "    </tr>\n",
       "  </tbody>\n",
       "</table>\n",
       "</div>"
      ],
      "text/plain": [
       "   user_id  age churn_date         city first_name  last_name    reg_date  \\\n",
       "0     1000   52        NaN    Краснодар     Рафаил  Верещагин  2018-05-25   \n",
       "1     1001   41        NaN       Москва       Иван       Ежов  2018-11-01   \n",
       "2     1002   59        NaN  Стерлитамак    Евгений  Абрамович  2018-06-17   \n",
       "3     1003   23        NaN       Москва      Белла   Белякова  2018-08-17   \n",
       "4     1004   68        NaN  Новокузнецк    Татьяна   Авдеенко  2018-05-14   \n",
       "\n",
       "  tariff  \n",
       "0  ultra  \n",
       "1  smart  \n",
       "2  smart  \n",
       "3  ultra  \n",
       "4  ultra  "
      ]
     },
     "execution_count": 9,
     "metadata": {},
     "output_type": "execute_result"
    }
   ],
   "source": [
    "data_users = pd.read_csv('/datasets/users.csv')\n",
    "data_users.head()"
   ]
  },
  {
   "cell_type": "code",
   "execution_count": 10,
   "metadata": {},
   "outputs": [
    {
     "data": {
      "text/html": [
       "<div>\n",
       "<style scoped>\n",
       "    .dataframe tbody tr th:only-of-type {\n",
       "        vertical-align: middle;\n",
       "    }\n",
       "\n",
       "    .dataframe tbody tr th {\n",
       "        vertical-align: top;\n",
       "    }\n",
       "\n",
       "    .dataframe thead th {\n",
       "        text-align: right;\n",
       "    }\n",
       "</style>\n",
       "<table border=\"1\" class=\"dataframe\">\n",
       "  <thead>\n",
       "    <tr style=\"text-align: right;\">\n",
       "      <th></th>\n",
       "      <th>count</th>\n",
       "      <th>mean</th>\n",
       "      <th>std</th>\n",
       "      <th>min</th>\n",
       "      <th>25%</th>\n",
       "      <th>50%</th>\n",
       "      <th>75%</th>\n",
       "      <th>max</th>\n",
       "    </tr>\n",
       "  </thead>\n",
       "  <tbody>\n",
       "    <tr>\n",
       "      <td>user_id</td>\n",
       "      <td>500.0</td>\n",
       "      <td>1249.500</td>\n",
       "      <td>144.481833</td>\n",
       "      <td>1000.0</td>\n",
       "      <td>1124.75</td>\n",
       "      <td>1249.5</td>\n",
       "      <td>1374.25</td>\n",
       "      <td>1499.0</td>\n",
       "    </tr>\n",
       "    <tr>\n",
       "      <td>age</td>\n",
       "      <td>500.0</td>\n",
       "      <td>46.588</td>\n",
       "      <td>16.667630</td>\n",
       "      <td>18.0</td>\n",
       "      <td>32.00</td>\n",
       "      <td>46.0</td>\n",
       "      <td>62.00</td>\n",
       "      <td>75.0</td>\n",
       "    </tr>\n",
       "  </tbody>\n",
       "</table>\n",
       "</div>"
      ],
      "text/plain": [
       "         count      mean         std     min      25%     50%      75%     max\n",
       "user_id  500.0  1249.500  144.481833  1000.0  1124.75  1249.5  1374.25  1499.0\n",
       "age      500.0    46.588   16.667630    18.0    32.00    46.0    62.00    75.0"
      ]
     },
     "execution_count": 10,
     "metadata": {},
     "output_type": "execute_result"
    }
   ],
   "source": [
    "data_users.describe().T"
   ]
  },
  {
   "cell_type": "markdown",
   "metadata": {},
   "source": [
    "### Вывод \n",
    "Имеется 5 таблиц - таблица users (информация о пользователях), таблица calls (информация о звонках), таблица messages (информация о сообщениях), таблица internet (информация об интернет-сессиях), таблица tariffs (информация о тарифах).\n"
   ]
  },
  {
   "cell_type": "markdown",
   "metadata": {},
   "source": [
    "## Предобработка данных  <a id='preprocessing'></a>"
   ]
  },
  {
   "cell_type": "markdown",
   "metadata": {},
   "source": [
    "### предобработка таблицы пользователей data_users"
   ]
  },
  {
   "cell_type": "markdown",
   "metadata": {},
   "source": [
    "Обработаем пропуски, исправим типы данных в таблице, проверим на дубликаты и другие ошибки."
   ]
  },
  {
   "cell_type": "markdown",
   "metadata": {},
   "source": [
    "#### работа с пропусками"
   ]
  },
  {
   "cell_type": "markdown",
   "metadata": {},
   "source": [
    "Проверим пропуски в таблице пользователей data_users"
   ]
  },
  {
   "cell_type": "code",
   "execution_count": 11,
   "metadata": {},
   "outputs": [
    {
     "name": "stdout",
     "output_type": "stream",
     "text": [
      "<class 'pandas.core.frame.DataFrame'>\n",
      "RangeIndex: 500 entries, 0 to 499\n",
      "Data columns (total 8 columns):\n",
      "user_id       500 non-null int64\n",
      "age           500 non-null int64\n",
      "churn_date    38 non-null object\n",
      "city          500 non-null object\n",
      "first_name    500 non-null object\n",
      "last_name     500 non-null object\n",
      "reg_date      500 non-null object\n",
      "tariff        500 non-null object\n",
      "dtypes: int64(2), object(6)\n",
      "memory usage: 31.4+ KB\n"
     ]
    }
   ],
   "source": [
    "data_users.info()"
   ]
  },
  {
   "cell_type": "markdown",
   "metadata": {},
   "source": [
    "Пропуски есть только в колонке churn_date прекращение пользование тарифом, вероятно потому что пользователи до сих пор на этом тарифном плане. Пока оставим их."
   ]
  },
  {
   "cell_type": "markdown",
   "metadata": {},
   "source": [
    "#### Работа с типами данных"
   ]
  },
  {
   "cell_type": "markdown",
   "metadata": {},
   "source": [
    "Заменим в колонках churn_date и reg_date тип данных object на datetime."
   ]
  },
  {
   "cell_type": "code",
   "execution_count": 12,
   "metadata": {},
   "outputs": [],
   "source": [
    "data_users['churn_date'] = pd.to_datetime(data_users['churn_date'], format='%Y-%m-%d')\n",
    "data_users['reg_date'] = pd.to_datetime(data_users['reg_date'], format='%Y-%m-%d')"
   ]
  },
  {
   "cell_type": "markdown",
   "metadata": {},
   "source": [
    "Заменим в колонке user_id тип данных int64, заменим на int16."
   ]
  },
  {
   "cell_type": "code",
   "execution_count": 13,
   "metadata": {},
   "outputs": [],
   "source": [
    "data_users['user_id'] = data_users['user_id'].astype('int16')"
   ]
  },
  {
   "cell_type": "markdown",
   "metadata": {},
   "source": [
    "Заменим в колонке age тип данных int64, заменим на int8."
   ]
  },
  {
   "cell_type": "code",
   "execution_count": 14,
   "metadata": {},
   "outputs": [],
   "source": [
    "data_users['age'] = data_users['age'].astype('int8')"
   ]
  },
  {
   "cell_type": "markdown",
   "metadata": {},
   "source": [
    "#### Работа с дубликатами"
   ]
  },
  {
   "cell_type": "markdown",
   "metadata": {},
   "source": [
    "Проверим явные дубликаты в таблице."
   ]
  },
  {
   "cell_type": "code",
   "execution_count": 15,
   "metadata": {},
   "outputs": [
    {
     "data": {
      "text/plain": [
       "0"
      ]
     },
     "execution_count": 15,
     "metadata": {},
     "output_type": "execute_result"
    }
   ],
   "source": [
    "data_users.duplicated().sum()"
   ]
  },
  {
   "cell_type": "markdown",
   "metadata": {},
   "source": [
    "Явных дубликатов в таблице нет."
   ]
  },
  {
   "cell_type": "markdown",
   "metadata": {},
   "source": [
    "#### Проверим на ошибки"
   ]
  },
  {
   "cell_type": "code",
   "execution_count": 16,
   "metadata": {},
   "outputs": [
    {
     "data": {
      "text/html": [
       "<div>\n",
       "<style scoped>\n",
       "    .dataframe tbody tr th:only-of-type {\n",
       "        vertical-align: middle;\n",
       "    }\n",
       "\n",
       "    .dataframe tbody tr th {\n",
       "        vertical-align: top;\n",
       "    }\n",
       "\n",
       "    .dataframe thead th {\n",
       "        text-align: right;\n",
       "    }\n",
       "</style>\n",
       "<table border=\"1\" class=\"dataframe\">\n",
       "  <thead>\n",
       "    <tr style=\"text-align: right;\">\n",
       "      <th></th>\n",
       "      <th>user_id</th>\n",
       "      <th>age</th>\n",
       "    </tr>\n",
       "  </thead>\n",
       "  <tbody>\n",
       "    <tr>\n",
       "      <td>count</td>\n",
       "      <td>500.000000</td>\n",
       "      <td>500.00000</td>\n",
       "    </tr>\n",
       "    <tr>\n",
       "      <td>mean</td>\n",
       "      <td>1249.500000</td>\n",
       "      <td>46.58800</td>\n",
       "    </tr>\n",
       "    <tr>\n",
       "      <td>std</td>\n",
       "      <td>144.481833</td>\n",
       "      <td>16.66763</td>\n",
       "    </tr>\n",
       "    <tr>\n",
       "      <td>min</td>\n",
       "      <td>1000.000000</td>\n",
       "      <td>18.00000</td>\n",
       "    </tr>\n",
       "    <tr>\n",
       "      <td>25%</td>\n",
       "      <td>1124.750000</td>\n",
       "      <td>32.00000</td>\n",
       "    </tr>\n",
       "    <tr>\n",
       "      <td>50%</td>\n",
       "      <td>1249.500000</td>\n",
       "      <td>46.00000</td>\n",
       "    </tr>\n",
       "    <tr>\n",
       "      <td>75%</td>\n",
       "      <td>1374.250000</td>\n",
       "      <td>62.00000</td>\n",
       "    </tr>\n",
       "    <tr>\n",
       "      <td>max</td>\n",
       "      <td>1499.000000</td>\n",
       "      <td>75.00000</td>\n",
       "    </tr>\n",
       "  </tbody>\n",
       "</table>\n",
       "</div>"
      ],
      "text/plain": [
       "           user_id        age\n",
       "count   500.000000  500.00000\n",
       "mean   1249.500000   46.58800\n",
       "std     144.481833   16.66763\n",
       "min    1000.000000   18.00000\n",
       "25%    1124.750000   32.00000\n",
       "50%    1249.500000   46.00000\n",
       "75%    1374.250000   62.00000\n",
       "max    1499.000000   75.00000"
      ]
     },
     "execution_count": 16,
     "metadata": {},
     "output_type": "execute_result"
    }
   ],
   "source": [
    "data_users.describe()"
   ]
  },
  {
   "cell_type": "code",
   "execution_count": 17,
   "metadata": {},
   "outputs": [
    {
     "data": {
      "text/html": [
       "<div>\n",
       "<style scoped>\n",
       "    .dataframe tbody tr th:only-of-type {\n",
       "        vertical-align: middle;\n",
       "    }\n",
       "\n",
       "    .dataframe tbody tr th {\n",
       "        vertical-align: top;\n",
       "    }\n",
       "\n",
       "    .dataframe thead th {\n",
       "        text-align: right;\n",
       "    }\n",
       "</style>\n",
       "<table border=\"1\" class=\"dataframe\">\n",
       "  <thead>\n",
       "    <tr style=\"text-align: right;\">\n",
       "      <th></th>\n",
       "      <th>user_id</th>\n",
       "      <th>age</th>\n",
       "      <th>churn_date</th>\n",
       "      <th>city</th>\n",
       "      <th>first_name</th>\n",
       "      <th>last_name</th>\n",
       "      <th>reg_date</th>\n",
       "      <th>tariff</th>\n",
       "    </tr>\n",
       "  </thead>\n",
       "  <tbody>\n",
       "    <tr>\n",
       "      <td>0</td>\n",
       "      <td>1000</td>\n",
       "      <td>52</td>\n",
       "      <td>NaT</td>\n",
       "      <td>Краснодар</td>\n",
       "      <td>Рафаил</td>\n",
       "      <td>Верещагин</td>\n",
       "      <td>2018-05-25</td>\n",
       "      <td>ultra</td>\n",
       "    </tr>\n",
       "    <tr>\n",
       "      <td>1</td>\n",
       "      <td>1001</td>\n",
       "      <td>41</td>\n",
       "      <td>NaT</td>\n",
       "      <td>Москва</td>\n",
       "      <td>Иван</td>\n",
       "      <td>Ежов</td>\n",
       "      <td>2018-11-01</td>\n",
       "      <td>smart</td>\n",
       "    </tr>\n",
       "    <tr>\n",
       "      <td>2</td>\n",
       "      <td>1002</td>\n",
       "      <td>59</td>\n",
       "      <td>NaT</td>\n",
       "      <td>Стерлитамак</td>\n",
       "      <td>Евгений</td>\n",
       "      <td>Абрамович</td>\n",
       "      <td>2018-06-17</td>\n",
       "      <td>smart</td>\n",
       "    </tr>\n",
       "    <tr>\n",
       "      <td>3</td>\n",
       "      <td>1003</td>\n",
       "      <td>23</td>\n",
       "      <td>NaT</td>\n",
       "      <td>Москва</td>\n",
       "      <td>Белла</td>\n",
       "      <td>Белякова</td>\n",
       "      <td>2018-08-17</td>\n",
       "      <td>ultra</td>\n",
       "    </tr>\n",
       "    <tr>\n",
       "      <td>4</td>\n",
       "      <td>1004</td>\n",
       "      <td>68</td>\n",
       "      <td>NaT</td>\n",
       "      <td>Новокузнецк</td>\n",
       "      <td>Татьяна</td>\n",
       "      <td>Авдеенко</td>\n",
       "      <td>2018-05-14</td>\n",
       "      <td>ultra</td>\n",
       "    </tr>\n",
       "  </tbody>\n",
       "</table>\n",
       "</div>"
      ],
      "text/plain": [
       "   user_id  age churn_date         city first_name  last_name   reg_date  \\\n",
       "0     1000   52        NaT    Краснодар     Рафаил  Верещагин 2018-05-25   \n",
       "1     1001   41        NaT       Москва       Иван       Ежов 2018-11-01   \n",
       "2     1002   59        NaT  Стерлитамак    Евгений  Абрамович 2018-06-17   \n",
       "3     1003   23        NaT       Москва      Белла   Белякова 2018-08-17   \n",
       "4     1004   68        NaT  Новокузнецк    Татьяна   Авдеенко 2018-05-14   \n",
       "\n",
       "  tariff  \n",
       "0  ultra  \n",
       "1  smart  \n",
       "2  smart  \n",
       "3  ultra  \n",
       "4  ultra  "
      ]
     },
     "execution_count": 17,
     "metadata": {},
     "output_type": "execute_result"
    }
   ],
   "source": [
    "data_users.head()"
   ]
  },
  {
   "cell_type": "markdown",
   "metadata": {},
   "source": [
    "В таблице нет явных ошибок."
   ]
  },
  {
   "cell_type": "markdown",
   "metadata": {},
   "source": [
    "**Вывод**\n",
    "\n",
    "В таблице данные пользователей заменили тип данных на дату в столбцах churn_date и reg_date. Заменили типы целочисленных значений в колонках age и user_id на int16 и int8 для уменьшения размера датасета и ускорения обработки данных."
   ]
  },
  {
   "cell_type": "markdown",
   "metadata": {},
   "source": [
    "### предобработка таблицы calls звонки"
   ]
  },
  {
   "cell_type": "markdown",
   "metadata": {},
   "source": [
    "#### работа с пропусками"
   ]
  },
  {
   "cell_type": "code",
   "execution_count": 18,
   "metadata": {},
   "outputs": [
    {
     "name": "stdout",
     "output_type": "stream",
     "text": [
      "<class 'pandas.core.frame.DataFrame'>\n",
      "RangeIndex: 202607 entries, 0 to 202606\n",
      "Data columns (total 4 columns):\n",
      "id           202607 non-null object\n",
      "call_date    202607 non-null object\n",
      "duration     202607 non-null float64\n",
      "user_id      202607 non-null int64\n",
      "dtypes: float64(1), int64(1), object(2)\n",
      "memory usage: 6.2+ MB\n"
     ]
    }
   ],
   "source": [
    "data_calls.info()"
   ]
  },
  {
   "cell_type": "markdown",
   "metadata": {},
   "source": [
    "Пропусков в таблице нет."
   ]
  },
  {
   "cell_type": "markdown",
   "metadata": {},
   "source": [
    "#### Работа с типами данных"
   ]
  },
  {
   "cell_type": "markdown",
   "metadata": {},
   "source": [
    "Заменим в колонке call_date тип данных object на datetime."
   ]
  },
  {
   "cell_type": "code",
   "execution_count": 19,
   "metadata": {},
   "outputs": [],
   "source": [
    "data_calls['call_date'] = pd.to_datetime(data_calls['call_date'], format='%Y-%m-%d')"
   ]
  },
  {
   "cell_type": "markdown",
   "metadata": {},
   "source": [
    "Заменим в колонке user_id тип данных int64, заменим на int16."
   ]
  },
  {
   "cell_type": "code",
   "execution_count": 20,
   "metadata": {},
   "outputs": [],
   "source": [
    "data_calls['user_id'] = data_calls['user_id'].astype('int16')"
   ]
  },
  {
   "cell_type": "markdown",
   "metadata": {},
   "source": [
    "Заменим в колонке duration тип данных float64, заменим на float16."
   ]
  },
  {
   "cell_type": "markdown",
   "metadata": {},
   "source": [
    "#### Проверим на ошибки"
   ]
  },
  {
   "cell_type": "code",
   "execution_count": 21,
   "metadata": {},
   "outputs": [
    {
     "data": {
      "text/html": [
       "<div>\n",
       "<style scoped>\n",
       "    .dataframe tbody tr th:only-of-type {\n",
       "        vertical-align: middle;\n",
       "    }\n",
       "\n",
       "    .dataframe tbody tr th {\n",
       "        vertical-align: top;\n",
       "    }\n",
       "\n",
       "    .dataframe thead th {\n",
       "        text-align: right;\n",
       "    }\n",
       "</style>\n",
       "<table border=\"1\" class=\"dataframe\">\n",
       "  <thead>\n",
       "    <tr style=\"text-align: right;\">\n",
       "      <th></th>\n",
       "      <th>duration</th>\n",
       "      <th>user_id</th>\n",
       "    </tr>\n",
       "  </thead>\n",
       "  <tbody>\n",
       "    <tr>\n",
       "      <td>count</td>\n",
       "      <td>202607.000000</td>\n",
       "      <td>202607.000000</td>\n",
       "    </tr>\n",
       "    <tr>\n",
       "      <td>mean</td>\n",
       "      <td>6.755887</td>\n",
       "      <td>1253.940619</td>\n",
       "    </tr>\n",
       "    <tr>\n",
       "      <td>std</td>\n",
       "      <td>5.843365</td>\n",
       "      <td>144.722751</td>\n",
       "    </tr>\n",
       "    <tr>\n",
       "      <td>min</td>\n",
       "      <td>0.000000</td>\n",
       "      <td>1000.000000</td>\n",
       "    </tr>\n",
       "    <tr>\n",
       "      <td>25%</td>\n",
       "      <td>1.300000</td>\n",
       "      <td>1126.000000</td>\n",
       "    </tr>\n",
       "    <tr>\n",
       "      <td>50%</td>\n",
       "      <td>6.000000</td>\n",
       "      <td>1260.000000</td>\n",
       "    </tr>\n",
       "    <tr>\n",
       "      <td>75%</td>\n",
       "      <td>10.700000</td>\n",
       "      <td>1379.000000</td>\n",
       "    </tr>\n",
       "    <tr>\n",
       "      <td>max</td>\n",
       "      <td>38.000000</td>\n",
       "      <td>1499.000000</td>\n",
       "    </tr>\n",
       "  </tbody>\n",
       "</table>\n",
       "</div>"
      ],
      "text/plain": [
       "            duration        user_id\n",
       "count  202607.000000  202607.000000\n",
       "mean        6.755887    1253.940619\n",
       "std         5.843365     144.722751\n",
       "min         0.000000    1000.000000\n",
       "25%         1.300000    1126.000000\n",
       "50%         6.000000    1260.000000\n",
       "75%        10.700000    1379.000000\n",
       "max        38.000000    1499.000000"
      ]
     },
     "execution_count": 21,
     "metadata": {},
     "output_type": "execute_result"
    }
   ],
   "source": [
    "data_calls.describe()"
   ]
  },
  {
   "cell_type": "code",
   "execution_count": 22,
   "metadata": {},
   "outputs": [
    {
     "data": {
      "text/html": [
       "<div>\n",
       "<style scoped>\n",
       "    .dataframe tbody tr th:only-of-type {\n",
       "        vertical-align: middle;\n",
       "    }\n",
       "\n",
       "    .dataframe tbody tr th {\n",
       "        vertical-align: top;\n",
       "    }\n",
       "\n",
       "    .dataframe thead th {\n",
       "        text-align: right;\n",
       "    }\n",
       "</style>\n",
       "<table border=\"1\" class=\"dataframe\">\n",
       "  <thead>\n",
       "    <tr style=\"text-align: right;\">\n",
       "      <th></th>\n",
       "      <th>id</th>\n",
       "      <th>call_date</th>\n",
       "      <th>duration</th>\n",
       "      <th>user_id</th>\n",
       "    </tr>\n",
       "  </thead>\n",
       "  <tbody>\n",
       "    <tr>\n",
       "      <td>0</td>\n",
       "      <td>1000_0</td>\n",
       "      <td>2018-07-25</td>\n",
       "      <td>0.00</td>\n",
       "      <td>1000</td>\n",
       "    </tr>\n",
       "    <tr>\n",
       "      <td>1</td>\n",
       "      <td>1000_1</td>\n",
       "      <td>2018-08-17</td>\n",
       "      <td>0.00</td>\n",
       "      <td>1000</td>\n",
       "    </tr>\n",
       "    <tr>\n",
       "      <td>2</td>\n",
       "      <td>1000_2</td>\n",
       "      <td>2018-06-11</td>\n",
       "      <td>2.85</td>\n",
       "      <td>1000</td>\n",
       "    </tr>\n",
       "    <tr>\n",
       "      <td>3</td>\n",
       "      <td>1000_3</td>\n",
       "      <td>2018-09-21</td>\n",
       "      <td>13.80</td>\n",
       "      <td>1000</td>\n",
       "    </tr>\n",
       "    <tr>\n",
       "      <td>4</td>\n",
       "      <td>1000_4</td>\n",
       "      <td>2018-12-15</td>\n",
       "      <td>5.18</td>\n",
       "      <td>1000</td>\n",
       "    </tr>\n",
       "  </tbody>\n",
       "</table>\n",
       "</div>"
      ],
      "text/plain": [
       "       id  call_date  duration  user_id\n",
       "0  1000_0 2018-07-25      0.00     1000\n",
       "1  1000_1 2018-08-17      0.00     1000\n",
       "2  1000_2 2018-06-11      2.85     1000\n",
       "3  1000_3 2018-09-21     13.80     1000\n",
       "4  1000_4 2018-12-15      5.18     1000"
      ]
     },
     "execution_count": 22,
     "metadata": {},
     "output_type": "execute_result"
    }
   ],
   "source": [
    "data_calls.head()"
   ]
  },
  {
   "cell_type": "markdown",
   "metadata": {},
   "source": [
    "Время в столбце duration указаны дробные значения в минутах (2.849609, 13.796875), округлим до целых значений в большую сторону так как мегалайн всегда округляет секунды до минут в большую сторону. И заменим тип полученных данных на int8 для уменьшения размера таблицы."
   ]
  },
  {
   "cell_type": "code",
   "execution_count": 23,
   "metadata": {},
   "outputs": [],
   "source": [
    "data_calls['duration'] = np.ceil(data_calls['duration']).astype('int8')"
   ]
  },
  {
   "cell_type": "markdown",
   "metadata": {},
   "source": [
    "**Вывод**\n",
    "\n",
    "В таблице calls звонки заменили тип данных на дату в столбце call_date. Заменили типы целочисленных значений в колонках user_id и  duration на int16 и int8 для уменьшения размера датасета и ускорения обработки данных.\n",
    "Округлили данные в большую сторону так как мегалайн всегда округляет секунды до минут в большую сторону."
   ]
  },
  {
   "cell_type": "markdown",
   "metadata": {},
   "source": [
    "### предобработка таблицы internet интернет"
   ]
  },
  {
   "cell_type": "markdown",
   "metadata": {},
   "source": [
    "#### работа с пропусками"
   ]
  },
  {
   "cell_type": "code",
   "execution_count": 24,
   "metadata": {},
   "outputs": [
    {
     "name": "stdout",
     "output_type": "stream",
     "text": [
      "<class 'pandas.core.frame.DataFrame'>\n",
      "RangeIndex: 149396 entries, 0 to 149395\n",
      "Data columns (total 5 columns):\n",
      "Unnamed: 0      149396 non-null int64\n",
      "id              149396 non-null object\n",
      "mb_used         149396 non-null float64\n",
      "session_date    149396 non-null object\n",
      "user_id         149396 non-null int64\n",
      "dtypes: float64(1), int64(2), object(2)\n",
      "memory usage: 5.7+ MB\n"
     ]
    }
   ],
   "source": [
    "data_internet.info()"
   ]
  },
  {
   "cell_type": "markdown",
   "metadata": {},
   "source": [
    "Пропусков в таблице нет."
   ]
  },
  {
   "cell_type": "markdown",
   "metadata": {},
   "source": [
    "#### Работа с типами данных"
   ]
  },
  {
   "cell_type": "markdown",
   "metadata": {},
   "source": [
    "Заменим в колонке user_id тип данных int64, заменим на int16."
   ]
  },
  {
   "cell_type": "code",
   "execution_count": 25,
   "metadata": {},
   "outputs": [],
   "source": [
    "data_internet['user_id'] = data_internet['user_id'].astype('int16')"
   ]
  },
  {
   "cell_type": "markdown",
   "metadata": {},
   "source": [
    "Заменим в колонке session_date тип данных object на datetime."
   ]
  },
  {
   "cell_type": "code",
   "execution_count": 26,
   "metadata": {},
   "outputs": [],
   "source": [
    "data_internet['session_date'] = pd.to_datetime(data_internet['session_date'], format='%Y-%m-%d')"
   ]
  },
  {
   "cell_type": "markdown",
   "metadata": {},
   "source": [
    "#### Проверим на ошибки"
   ]
  },
  {
   "cell_type": "code",
   "execution_count": 27,
   "metadata": {},
   "outputs": [
    {
     "data": {
      "text/html": [
       "<div>\n",
       "<style scoped>\n",
       "    .dataframe tbody tr th:only-of-type {\n",
       "        vertical-align: middle;\n",
       "    }\n",
       "\n",
       "    .dataframe tbody tr th {\n",
       "        vertical-align: top;\n",
       "    }\n",
       "\n",
       "    .dataframe thead th {\n",
       "        text-align: right;\n",
       "    }\n",
       "</style>\n",
       "<table border=\"1\" class=\"dataframe\">\n",
       "  <thead>\n",
       "    <tr style=\"text-align: right;\">\n",
       "      <th></th>\n",
       "      <th>Unnamed: 0</th>\n",
       "      <th>mb_used</th>\n",
       "      <th>user_id</th>\n",
       "    </tr>\n",
       "  </thead>\n",
       "  <tbody>\n",
       "    <tr>\n",
       "      <td>count</td>\n",
       "      <td>149396.000000</td>\n",
       "      <td>149396.000000</td>\n",
       "      <td>149396.000000</td>\n",
       "    </tr>\n",
       "    <tr>\n",
       "      <td>mean</td>\n",
       "      <td>74697.500000</td>\n",
       "      <td>370.192426</td>\n",
       "      <td>1252.099842</td>\n",
       "    </tr>\n",
       "    <tr>\n",
       "      <td>std</td>\n",
       "      <td>43127.054745</td>\n",
       "      <td>278.300951</td>\n",
       "      <td>144.050823</td>\n",
       "    </tr>\n",
       "    <tr>\n",
       "      <td>min</td>\n",
       "      <td>0.000000</td>\n",
       "      <td>0.000000</td>\n",
       "      <td>1000.000000</td>\n",
       "    </tr>\n",
       "    <tr>\n",
       "      <td>25%</td>\n",
       "      <td>37348.750000</td>\n",
       "      <td>138.187500</td>\n",
       "      <td>1130.000000</td>\n",
       "    </tr>\n",
       "    <tr>\n",
       "      <td>50%</td>\n",
       "      <td>74697.500000</td>\n",
       "      <td>348.015000</td>\n",
       "      <td>1251.000000</td>\n",
       "    </tr>\n",
       "    <tr>\n",
       "      <td>75%</td>\n",
       "      <td>112046.250000</td>\n",
       "      <td>559.552500</td>\n",
       "      <td>1380.000000</td>\n",
       "    </tr>\n",
       "    <tr>\n",
       "      <td>max</td>\n",
       "      <td>149395.000000</td>\n",
       "      <td>1724.830000</td>\n",
       "      <td>1499.000000</td>\n",
       "    </tr>\n",
       "  </tbody>\n",
       "</table>\n",
       "</div>"
      ],
      "text/plain": [
       "          Unnamed: 0        mb_used        user_id\n",
       "count  149396.000000  149396.000000  149396.000000\n",
       "mean    74697.500000     370.192426    1252.099842\n",
       "std     43127.054745     278.300951     144.050823\n",
       "min         0.000000       0.000000    1000.000000\n",
       "25%     37348.750000     138.187500    1130.000000\n",
       "50%     74697.500000     348.015000    1251.000000\n",
       "75%    112046.250000     559.552500    1380.000000\n",
       "max    149395.000000    1724.830000    1499.000000"
      ]
     },
     "execution_count": 27,
     "metadata": {},
     "output_type": "execute_result"
    }
   ],
   "source": [
    "data_internet.describe() "
   ]
  },
  {
   "cell_type": "code",
   "execution_count": 28,
   "metadata": {},
   "outputs": [
    {
     "data": {
      "text/html": [
       "<div>\n",
       "<style scoped>\n",
       "    .dataframe tbody tr th:only-of-type {\n",
       "        vertical-align: middle;\n",
       "    }\n",
       "\n",
       "    .dataframe tbody tr th {\n",
       "        vertical-align: top;\n",
       "    }\n",
       "\n",
       "    .dataframe thead th {\n",
       "        text-align: right;\n",
       "    }\n",
       "</style>\n",
       "<table border=\"1\" class=\"dataframe\">\n",
       "  <thead>\n",
       "    <tr style=\"text-align: right;\">\n",
       "      <th></th>\n",
       "      <th>Unnamed: 0</th>\n",
       "      <th>id</th>\n",
       "      <th>mb_used</th>\n",
       "      <th>session_date</th>\n",
       "      <th>user_id</th>\n",
       "    </tr>\n",
       "  </thead>\n",
       "  <tbody>\n",
       "    <tr>\n",
       "      <td>0</td>\n",
       "      <td>0</td>\n",
       "      <td>1000_0</td>\n",
       "      <td>112.95</td>\n",
       "      <td>2018-11-25</td>\n",
       "      <td>1000</td>\n",
       "    </tr>\n",
       "    <tr>\n",
       "      <td>1</td>\n",
       "      <td>1</td>\n",
       "      <td>1000_1</td>\n",
       "      <td>1052.81</td>\n",
       "      <td>2018-09-07</td>\n",
       "      <td>1000</td>\n",
       "    </tr>\n",
       "    <tr>\n",
       "      <td>2</td>\n",
       "      <td>2</td>\n",
       "      <td>1000_2</td>\n",
       "      <td>1197.26</td>\n",
       "      <td>2018-06-25</td>\n",
       "      <td>1000</td>\n",
       "    </tr>\n",
       "    <tr>\n",
       "      <td>3</td>\n",
       "      <td>3</td>\n",
       "      <td>1000_3</td>\n",
       "      <td>550.27</td>\n",
       "      <td>2018-08-22</td>\n",
       "      <td>1000</td>\n",
       "    </tr>\n",
       "    <tr>\n",
       "      <td>4</td>\n",
       "      <td>4</td>\n",
       "      <td>1000_4</td>\n",
       "      <td>302.56</td>\n",
       "      <td>2018-09-24</td>\n",
       "      <td>1000</td>\n",
       "    </tr>\n",
       "  </tbody>\n",
       "</table>\n",
       "</div>"
      ],
      "text/plain": [
       "   Unnamed: 0      id  mb_used session_date  user_id\n",
       "0           0  1000_0   112.95   2018-11-25     1000\n",
       "1           1  1000_1  1052.81   2018-09-07     1000\n",
       "2           2  1000_2  1197.26   2018-06-25     1000\n",
       "3           3  1000_3   550.27   2018-08-22     1000\n",
       "4           4  1000_4   302.56   2018-09-24     1000"
      ]
     },
     "execution_count": 28,
     "metadata": {},
     "output_type": "execute_result"
    }
   ],
   "source": [
    "data_internet.head()"
   ]
  },
  {
   "cell_type": "markdown",
   "metadata": {},
   "source": [
    "В таблице есть лишняя колонка Unnamed: 0 она отражает индексы строк. Удалим её."
   ]
  },
  {
   "cell_type": "code",
   "execution_count": 29,
   "metadata": {},
   "outputs": [],
   "source": [
    "data_internet = data_internet.drop('Unnamed: 0', 1)"
   ]
  },
  {
   "cell_type": "markdown",
   "metadata": {},
   "source": [
    "**Вывод**\n",
    "\n",
    "В таблице internet интернет заменили тип данных на дату в столбце session_date. Заменили типы целочисленных значений в колонке user_id на int16 для уменьшения размера датасета и ускорения обработки данных.\n",
    "Удалили лишний столбец Unnamed: 0."
   ]
  },
  {
   "cell_type": "markdown",
   "metadata": {},
   "source": [
    "### предобработка таблицы таблицей messages сообщения"
   ]
  },
  {
   "cell_type": "markdown",
   "metadata": {},
   "source": [
    "#### работа с пропусками"
   ]
  },
  {
   "cell_type": "code",
   "execution_count": 30,
   "metadata": {},
   "outputs": [
    {
     "name": "stdout",
     "output_type": "stream",
     "text": [
      "<class 'pandas.core.frame.DataFrame'>\n",
      "RangeIndex: 123036 entries, 0 to 123035\n",
      "Data columns (total 3 columns):\n",
      "id              123036 non-null object\n",
      "message_date    123036 non-null object\n",
      "user_id         123036 non-null int64\n",
      "dtypes: int64(1), object(2)\n",
      "memory usage: 2.8+ MB\n"
     ]
    }
   ],
   "source": [
    "data_messages.info()"
   ]
  },
  {
   "cell_type": "markdown",
   "metadata": {},
   "source": [
    "Пропусков в таблице нет."
   ]
  },
  {
   "cell_type": "markdown",
   "metadata": {},
   "source": [
    "#### Работа с типами данных"
   ]
  },
  {
   "cell_type": "markdown",
   "metadata": {},
   "source": [
    "Заменим в колонке user_id тип данных int64, заменим на int16."
   ]
  },
  {
   "cell_type": "code",
   "execution_count": 31,
   "metadata": {},
   "outputs": [],
   "source": [
    "data_messages['user_id'] = data_messages['user_id'].astype('int16')"
   ]
  },
  {
   "cell_type": "markdown",
   "metadata": {},
   "source": [
    "Заменим в колонке message_date тип данных object на datetime."
   ]
  },
  {
   "cell_type": "code",
   "execution_count": 32,
   "metadata": {},
   "outputs": [],
   "source": [
    "data_messages['message_date'] = pd.to_datetime(data_messages['message_date'], format='%Y-%m-%d')"
   ]
  },
  {
   "cell_type": "code",
   "execution_count": 33,
   "metadata": {
    "scrolled": true
   },
   "outputs": [
    {
     "name": "stdout",
     "output_type": "stream",
     "text": [
      "<class 'pandas.core.frame.DataFrame'>\n",
      "RangeIndex: 123036 entries, 0 to 123035\n",
      "Data columns (total 3 columns):\n",
      "id              123036 non-null object\n",
      "message_date    123036 non-null datetime64[ns]\n",
      "user_id         123036 non-null int16\n",
      "dtypes: datetime64[ns](1), int16(1), object(1)\n",
      "memory usage: 2.1+ MB\n"
     ]
    }
   ],
   "source": [
    "data_messages.info()"
   ]
  },
  {
   "cell_type": "markdown",
   "metadata": {},
   "source": [
    "#### Проверим на ошибки"
   ]
  },
  {
   "cell_type": "code",
   "execution_count": 34,
   "metadata": {},
   "outputs": [
    {
     "data": {
      "text/html": [
       "<div>\n",
       "<style scoped>\n",
       "    .dataframe tbody tr th:only-of-type {\n",
       "        vertical-align: middle;\n",
       "    }\n",
       "\n",
       "    .dataframe tbody tr th {\n",
       "        vertical-align: top;\n",
       "    }\n",
       "\n",
       "    .dataframe thead th {\n",
       "        text-align: right;\n",
       "    }\n",
       "</style>\n",
       "<table border=\"1\" class=\"dataframe\">\n",
       "  <thead>\n",
       "    <tr style=\"text-align: right;\">\n",
       "      <th></th>\n",
       "      <th>id</th>\n",
       "      <th>message_date</th>\n",
       "      <th>user_id</th>\n",
       "    </tr>\n",
       "  </thead>\n",
       "  <tbody>\n",
       "    <tr>\n",
       "      <td>0</td>\n",
       "      <td>1000_0</td>\n",
       "      <td>2018-06-27</td>\n",
       "      <td>1000</td>\n",
       "    </tr>\n",
       "    <tr>\n",
       "      <td>1</td>\n",
       "      <td>1000_1</td>\n",
       "      <td>2018-10-08</td>\n",
       "      <td>1000</td>\n",
       "    </tr>\n",
       "    <tr>\n",
       "      <td>2</td>\n",
       "      <td>1000_2</td>\n",
       "      <td>2018-08-04</td>\n",
       "      <td>1000</td>\n",
       "    </tr>\n",
       "    <tr>\n",
       "      <td>3</td>\n",
       "      <td>1000_3</td>\n",
       "      <td>2018-06-16</td>\n",
       "      <td>1000</td>\n",
       "    </tr>\n",
       "    <tr>\n",
       "      <td>4</td>\n",
       "      <td>1000_4</td>\n",
       "      <td>2018-12-05</td>\n",
       "      <td>1000</td>\n",
       "    </tr>\n",
       "  </tbody>\n",
       "</table>\n",
       "</div>"
      ],
      "text/plain": [
       "       id message_date  user_id\n",
       "0  1000_0   2018-06-27     1000\n",
       "1  1000_1   2018-10-08     1000\n",
       "2  1000_2   2018-08-04     1000\n",
       "3  1000_3   2018-06-16     1000\n",
       "4  1000_4   2018-12-05     1000"
      ]
     },
     "execution_count": 34,
     "metadata": {},
     "output_type": "execute_result"
    }
   ],
   "source": [
    "data_messages.head()"
   ]
  },
  {
   "cell_type": "markdown",
   "metadata": {},
   "source": [
    "В таблице нет явных ошибок."
   ]
  },
  {
   "cell_type": "markdown",
   "metadata": {},
   "source": [
    "**Вывод**\n",
    "\n",
    "В таблице messages сообщения заменили тип данных на дату в столбце data_messages. Заменили типы целочисленных значений в колонке user_id на int16 для уменьшения размера датасета и ускорения обработки данных."
   ]
  },
  {
   "cell_type": "markdown",
   "metadata": {},
   "source": [
    "### Подготовим данные для дальнейшей работы."
   ]
  },
  {
   "cell_type": "markdown",
   "metadata": {},
   "source": [
    "Посчитаем для каждого пользователя:\n",
    "* количество сделанных звонков и израсходованных минут разговора по месяцам;\n",
    "* количество отправленных сообщений по месяцам;\n",
    "* объем израсходованного интернет-трафика по месяцам;\n",
    "* помесячную выручку с каждого пользователя (вычтите бесплатный лимит из суммарного количества звонков, сообщений и интернет-трафика; остаток умножьте на значение из тарифного плана; прибавьте абонентскую плату, соответствующую тарифному плану)."
   ]
  },
  {
   "cell_type": "markdown",
   "metadata": {},
   "source": [
    "#### Посчитаем для каждого пользователя количество сделанных звонков и израсходованных минут разговора по месяцам."
   ]
  },
  {
   "cell_type": "markdown",
   "metadata": {},
   "source": [
    "Сделаем колонку с месяцем звонков:"
   ]
  },
  {
   "cell_type": "code",
   "execution_count": 35,
   "metadata": {},
   "outputs": [
    {
     "data": {
      "text/html": [
       "<div>\n",
       "<style scoped>\n",
       "    .dataframe tbody tr th:only-of-type {\n",
       "        vertical-align: middle;\n",
       "    }\n",
       "\n",
       "    .dataframe tbody tr th {\n",
       "        vertical-align: top;\n",
       "    }\n",
       "\n",
       "    .dataframe thead th {\n",
       "        text-align: right;\n",
       "    }\n",
       "</style>\n",
       "<table border=\"1\" class=\"dataframe\">\n",
       "  <thead>\n",
       "    <tr style=\"text-align: right;\">\n",
       "      <th></th>\n",
       "      <th>id</th>\n",
       "      <th>call_date</th>\n",
       "      <th>duration</th>\n",
       "      <th>user_id</th>\n",
       "      <th>month</th>\n",
       "    </tr>\n",
       "  </thead>\n",
       "  <tbody>\n",
       "    <tr>\n",
       "      <td>0</td>\n",
       "      <td>1000_0</td>\n",
       "      <td>2018-07-25</td>\n",
       "      <td>0</td>\n",
       "      <td>1000</td>\n",
       "      <td>July</td>\n",
       "    </tr>\n",
       "    <tr>\n",
       "      <td>1</td>\n",
       "      <td>1000_1</td>\n",
       "      <td>2018-08-17</td>\n",
       "      <td>0</td>\n",
       "      <td>1000</td>\n",
       "      <td>August</td>\n",
       "    </tr>\n",
       "    <tr>\n",
       "      <td>2</td>\n",
       "      <td>1000_2</td>\n",
       "      <td>2018-06-11</td>\n",
       "      <td>3</td>\n",
       "      <td>1000</td>\n",
       "      <td>June</td>\n",
       "    </tr>\n",
       "    <tr>\n",
       "      <td>3</td>\n",
       "      <td>1000_3</td>\n",
       "      <td>2018-09-21</td>\n",
       "      <td>14</td>\n",
       "      <td>1000</td>\n",
       "      <td>September</td>\n",
       "    </tr>\n",
       "    <tr>\n",
       "      <td>4</td>\n",
       "      <td>1000_4</td>\n",
       "      <td>2018-12-15</td>\n",
       "      <td>6</td>\n",
       "      <td>1000</td>\n",
       "      <td>December</td>\n",
       "    </tr>\n",
       "    <tr>\n",
       "      <td>...</td>\n",
       "      <td>...</td>\n",
       "      <td>...</td>\n",
       "      <td>...</td>\n",
       "      <td>...</td>\n",
       "      <td>...</td>\n",
       "    </tr>\n",
       "    <tr>\n",
       "      <td>202602</td>\n",
       "      <td>1499_215</td>\n",
       "      <td>2018-12-26</td>\n",
       "      <td>1</td>\n",
       "      <td>1499</td>\n",
       "      <td>December</td>\n",
       "    </tr>\n",
       "    <tr>\n",
       "      <td>202603</td>\n",
       "      <td>1499_216</td>\n",
       "      <td>2018-10-18</td>\n",
       "      <td>19</td>\n",
       "      <td>1499</td>\n",
       "      <td>October</td>\n",
       "    </tr>\n",
       "    <tr>\n",
       "      <td>202604</td>\n",
       "      <td>1499_217</td>\n",
       "      <td>2018-11-10</td>\n",
       "      <td>11</td>\n",
       "      <td>1499</td>\n",
       "      <td>November</td>\n",
       "    </tr>\n",
       "    <tr>\n",
       "      <td>202605</td>\n",
       "      <td>1499_218</td>\n",
       "      <td>2018-10-06</td>\n",
       "      <td>5</td>\n",
       "      <td>1499</td>\n",
       "      <td>October</td>\n",
       "    </tr>\n",
       "    <tr>\n",
       "      <td>202606</td>\n",
       "      <td>1499_219</td>\n",
       "      <td>2018-12-14</td>\n",
       "      <td>20</td>\n",
       "      <td>1499</td>\n",
       "      <td>December</td>\n",
       "    </tr>\n",
       "  </tbody>\n",
       "</table>\n",
       "<p>202607 rows × 5 columns</p>\n",
       "</div>"
      ],
      "text/plain": [
       "              id  call_date  duration  user_id      month\n",
       "0         1000_0 2018-07-25         0     1000       July\n",
       "1         1000_1 2018-08-17         0     1000     August\n",
       "2         1000_2 2018-06-11         3     1000       June\n",
       "3         1000_3 2018-09-21        14     1000  September\n",
       "4         1000_4 2018-12-15         6     1000   December\n",
       "...          ...        ...       ...      ...        ...\n",
       "202602  1499_215 2018-12-26         1     1499   December\n",
       "202603  1499_216 2018-10-18        19     1499    October\n",
       "202604  1499_217 2018-11-10        11     1499   November\n",
       "202605  1499_218 2018-10-06         5     1499    October\n",
       "202606  1499_219 2018-12-14        20     1499   December\n",
       "\n",
       "[202607 rows x 5 columns]"
      ]
     },
     "metadata": {},
     "output_type": "display_data"
    }
   ],
   "source": [
    "data_calls['month'] = data_calls['call_date'].dt.month_name()\n",
    "display(data_calls)"
   ]
  },
  {
   "cell_type": "markdown",
   "metadata": {},
   "source": [
    "Сделаем сводную таблицу c количеством израсходованных минут разговора по месяцам и сделанных звонков."
   ]
  },
  {
   "cell_type": "code",
   "execution_count": 36,
   "metadata": {},
   "outputs": [
    {
     "data": {
      "text/html": [
       "<div>\n",
       "<style scoped>\n",
       "    .dataframe tbody tr th:only-of-type {\n",
       "        vertical-align: middle;\n",
       "    }\n",
       "\n",
       "    .dataframe tbody tr th {\n",
       "        vertical-align: top;\n",
       "    }\n",
       "\n",
       "    .dataframe thead th {\n",
       "        text-align: right;\n",
       "    }\n",
       "</style>\n",
       "<table border=\"1\" class=\"dataframe\">\n",
       "  <thead>\n",
       "    <tr style=\"text-align: right;\">\n",
       "      <th></th>\n",
       "      <th></th>\n",
       "      <th>total_calls</th>\n",
       "      <th>count_calls</th>\n",
       "    </tr>\n",
       "    <tr>\n",
       "      <th>user_id</th>\n",
       "      <th>month</th>\n",
       "      <th></th>\n",
       "      <th></th>\n",
       "    </tr>\n",
       "  </thead>\n",
       "  <tbody>\n",
       "    <tr>\n",
       "      <td rowspan=\"5\" valign=\"top\">1000</td>\n",
       "      <td>August</td>\n",
       "      <td>408.0</td>\n",
       "      <td>52</td>\n",
       "    </tr>\n",
       "    <tr>\n",
       "      <td>December</td>\n",
       "      <td>333.0</td>\n",
       "      <td>46</td>\n",
       "    </tr>\n",
       "    <tr>\n",
       "      <td>July</td>\n",
       "      <td>340.0</td>\n",
       "      <td>47</td>\n",
       "    </tr>\n",
       "    <tr>\n",
       "      <td>June</td>\n",
       "      <td>172.0</td>\n",
       "      <td>43</td>\n",
       "    </tr>\n",
       "    <tr>\n",
       "      <td>May</td>\n",
       "      <td>159.0</td>\n",
       "      <td>22</td>\n",
       "    </tr>\n",
       "    <tr>\n",
       "      <td>...</td>\n",
       "      <td>...</td>\n",
       "      <td>...</td>\n",
       "      <td>...</td>\n",
       "    </tr>\n",
       "    <tr>\n",
       "      <td>1498</td>\n",
       "      <td>September</td>\n",
       "      <td>471.0</td>\n",
       "      <td>59</td>\n",
       "    </tr>\n",
       "    <tr>\n",
       "      <td rowspan=\"4\" valign=\"top\">1499</td>\n",
       "      <td>December</td>\n",
       "      <td>492.0</td>\n",
       "      <td>69</td>\n",
       "    </tr>\n",
       "    <tr>\n",
       "      <td>November</td>\n",
       "      <td>612.0</td>\n",
       "      <td>74</td>\n",
       "    </tr>\n",
       "    <tr>\n",
       "      <td>October</td>\n",
       "      <td>449.0</td>\n",
       "      <td>68</td>\n",
       "    </tr>\n",
       "    <tr>\n",
       "      <td>September</td>\n",
       "      <td>70.0</td>\n",
       "      <td>9</td>\n",
       "    </tr>\n",
       "  </tbody>\n",
       "</table>\n",
       "<p>3174 rows × 2 columns</p>\n",
       "</div>"
      ],
      "text/plain": [
       "                   total_calls  count_calls\n",
       "user_id month                              \n",
       "1000    August           408.0           52\n",
       "        December         333.0           46\n",
       "        July             340.0           47\n",
       "        June             172.0           43\n",
       "        May              159.0           22\n",
       "...                        ...          ...\n",
       "1498    September        471.0           59\n",
       "1499    December         492.0           69\n",
       "        November         612.0           74\n",
       "        October          449.0           68\n",
       "        September         70.0            9\n",
       "\n",
       "[3174 rows x 2 columns]"
      ]
     },
     "metadata": {},
     "output_type": "display_data"
    }
   ],
   "source": [
    "user_calls = data_calls.pivot_table(index= ['user_id', 'month'], values=['duration'], aggfunc=['sum', 'count'])\n",
    "user_calls.columns = ['total_calls', 'count_calls']\n",
    "user_calls.reset_index()\n",
    "display(user_calls)"
   ]
  },
  {
   "cell_type": "markdown",
   "metadata": {},
   "source": [
    "#### Посчитаем для каждого пользователя количество отправленных сообщений по месяцам."
   ]
  },
  {
   "cell_type": "code",
   "execution_count": 37,
   "metadata": {},
   "outputs": [
    {
     "data": {
      "text/html": [
       "<div>\n",
       "<style scoped>\n",
       "    .dataframe tbody tr th:only-of-type {\n",
       "        vertical-align: middle;\n",
       "    }\n",
       "\n",
       "    .dataframe tbody tr th {\n",
       "        vertical-align: top;\n",
       "    }\n",
       "\n",
       "    .dataframe thead th {\n",
       "        text-align: right;\n",
       "    }\n",
       "</style>\n",
       "<table border=\"1\" class=\"dataframe\">\n",
       "  <thead>\n",
       "    <tr style=\"text-align: right;\">\n",
       "      <th></th>\n",
       "      <th>id</th>\n",
       "      <th>message_date</th>\n",
       "      <th>user_id</th>\n",
       "      <th>month</th>\n",
       "    </tr>\n",
       "  </thead>\n",
       "  <tbody>\n",
       "    <tr>\n",
       "      <td>0</td>\n",
       "      <td>1000_0</td>\n",
       "      <td>2018-06-27</td>\n",
       "      <td>1000</td>\n",
       "      <td>June</td>\n",
       "    </tr>\n",
       "    <tr>\n",
       "      <td>1</td>\n",
       "      <td>1000_1</td>\n",
       "      <td>2018-10-08</td>\n",
       "      <td>1000</td>\n",
       "      <td>October</td>\n",
       "    </tr>\n",
       "    <tr>\n",
       "      <td>2</td>\n",
       "      <td>1000_2</td>\n",
       "      <td>2018-08-04</td>\n",
       "      <td>1000</td>\n",
       "      <td>August</td>\n",
       "    </tr>\n",
       "    <tr>\n",
       "      <td>3</td>\n",
       "      <td>1000_3</td>\n",
       "      <td>2018-06-16</td>\n",
       "      <td>1000</td>\n",
       "      <td>June</td>\n",
       "    </tr>\n",
       "    <tr>\n",
       "      <td>4</td>\n",
       "      <td>1000_4</td>\n",
       "      <td>2018-12-05</td>\n",
       "      <td>1000</td>\n",
       "      <td>December</td>\n",
       "    </tr>\n",
       "    <tr>\n",
       "      <td>...</td>\n",
       "      <td>...</td>\n",
       "      <td>...</td>\n",
       "      <td>...</td>\n",
       "      <td>...</td>\n",
       "    </tr>\n",
       "    <tr>\n",
       "      <td>123031</td>\n",
       "      <td>1499_179</td>\n",
       "      <td>2018-12-12</td>\n",
       "      <td>1499</td>\n",
       "      <td>December</td>\n",
       "    </tr>\n",
       "    <tr>\n",
       "      <td>123032</td>\n",
       "      <td>1499_180</td>\n",
       "      <td>2018-09-28</td>\n",
       "      <td>1499</td>\n",
       "      <td>September</td>\n",
       "    </tr>\n",
       "    <tr>\n",
       "      <td>123033</td>\n",
       "      <td>1499_181</td>\n",
       "      <td>2018-09-27</td>\n",
       "      <td>1499</td>\n",
       "      <td>September</td>\n",
       "    </tr>\n",
       "    <tr>\n",
       "      <td>123034</td>\n",
       "      <td>1499_182</td>\n",
       "      <td>2018-11-15</td>\n",
       "      <td>1499</td>\n",
       "      <td>November</td>\n",
       "    </tr>\n",
       "    <tr>\n",
       "      <td>123035</td>\n",
       "      <td>1499_183</td>\n",
       "      <td>2018-11-16</td>\n",
       "      <td>1499</td>\n",
       "      <td>November</td>\n",
       "    </tr>\n",
       "  </tbody>\n",
       "</table>\n",
       "<p>123036 rows × 4 columns</p>\n",
       "</div>"
      ],
      "text/plain": [
       "              id message_date  user_id      month\n",
       "0         1000_0   2018-06-27     1000       June\n",
       "1         1000_1   2018-10-08     1000    October\n",
       "2         1000_2   2018-08-04     1000     August\n",
       "3         1000_3   2018-06-16     1000       June\n",
       "4         1000_4   2018-12-05     1000   December\n",
       "...          ...          ...      ...        ...\n",
       "123031  1499_179   2018-12-12     1499   December\n",
       "123032  1499_180   2018-09-28     1499  September\n",
       "123033  1499_181   2018-09-27     1499  September\n",
       "123034  1499_182   2018-11-15     1499   November\n",
       "123035  1499_183   2018-11-16     1499   November\n",
       "\n",
       "[123036 rows x 4 columns]"
      ]
     },
     "metadata": {},
     "output_type": "display_data"
    }
   ],
   "source": [
    "data_messages['month'] = data_messages['message_date'].dt.month_name()\n",
    "display(data_messages)"
   ]
  },
  {
   "cell_type": "code",
   "execution_count": 38,
   "metadata": {},
   "outputs": [
    {
     "data": {
      "text/html": [
       "<div>\n",
       "<style scoped>\n",
       "    .dataframe tbody tr th:only-of-type {\n",
       "        vertical-align: middle;\n",
       "    }\n",
       "\n",
       "    .dataframe tbody tr th {\n",
       "        vertical-align: top;\n",
       "    }\n",
       "\n",
       "    .dataframe thead th {\n",
       "        text-align: right;\n",
       "    }\n",
       "</style>\n",
       "<table border=\"1\" class=\"dataframe\">\n",
       "  <thead>\n",
       "    <tr style=\"text-align: right;\">\n",
       "      <th></th>\n",
       "      <th></th>\n",
       "      <th>count_messages</th>\n",
       "    </tr>\n",
       "    <tr>\n",
       "      <th>user_id</th>\n",
       "      <th>month</th>\n",
       "      <th></th>\n",
       "    </tr>\n",
       "  </thead>\n",
       "  <tbody>\n",
       "    <tr>\n",
       "      <td rowspan=\"5\" valign=\"top\">1000</td>\n",
       "      <td>August</td>\n",
       "      <td>81</td>\n",
       "    </tr>\n",
       "    <tr>\n",
       "      <td>December</td>\n",
       "      <td>70</td>\n",
       "    </tr>\n",
       "    <tr>\n",
       "      <td>July</td>\n",
       "      <td>75</td>\n",
       "    </tr>\n",
       "    <tr>\n",
       "      <td>June</td>\n",
       "      <td>60</td>\n",
       "    </tr>\n",
       "    <tr>\n",
       "      <td>May</td>\n",
       "      <td>22</td>\n",
       "    </tr>\n",
       "    <tr>\n",
       "      <td>...</td>\n",
       "      <td>...</td>\n",
       "      <td>...</td>\n",
       "    </tr>\n",
       "    <tr>\n",
       "      <td>1498</td>\n",
       "      <td>September</td>\n",
       "      <td>44</td>\n",
       "    </tr>\n",
       "    <tr>\n",
       "      <td rowspan=\"4\" valign=\"top\">1499</td>\n",
       "      <td>December</td>\n",
       "      <td>66</td>\n",
       "    </tr>\n",
       "    <tr>\n",
       "      <td>November</td>\n",
       "      <td>59</td>\n",
       "    </tr>\n",
       "    <tr>\n",
       "      <td>October</td>\n",
       "      <td>48</td>\n",
       "    </tr>\n",
       "    <tr>\n",
       "      <td>September</td>\n",
       "      <td>11</td>\n",
       "    </tr>\n",
       "  </tbody>\n",
       "</table>\n",
       "<p>2717 rows × 1 columns</p>\n",
       "</div>"
      ],
      "text/plain": [
       "                   count_messages\n",
       "user_id month                    \n",
       "1000    August                 81\n",
       "        December               70\n",
       "        July                   75\n",
       "        June                   60\n",
       "        May                    22\n",
       "...                           ...\n",
       "1498    September              44\n",
       "1499    December               66\n",
       "        November               59\n",
       "        October                48\n",
       "        September              11\n",
       "\n",
       "[2717 rows x 1 columns]"
      ]
     },
     "metadata": {},
     "output_type": "display_data"
    }
   ],
   "source": [
    "user_messages = data_messages.pivot_table(index= ['user_id', 'month'], values='id', aggfunc=['count'])\n",
    "user_messages.columns = ['count_messages']\n",
    "user_messages.reset_index()\n",
    "display(user_messages)"
   ]
  },
  {
   "cell_type": "markdown",
   "metadata": {},
   "source": [
    "#### Посчитаем для каждого пользователя объем израсходованного интернет-трафика по месяцам."
   ]
  },
  {
   "cell_type": "code",
   "execution_count": 39,
   "metadata": {},
   "outputs": [
    {
     "data": {
      "text/html": [
       "<div>\n",
       "<style scoped>\n",
       "    .dataframe tbody tr th:only-of-type {\n",
       "        vertical-align: middle;\n",
       "    }\n",
       "\n",
       "    .dataframe tbody tr th {\n",
       "        vertical-align: top;\n",
       "    }\n",
       "\n",
       "    .dataframe thead th {\n",
       "        text-align: right;\n",
       "    }\n",
       "</style>\n",
       "<table border=\"1\" class=\"dataframe\">\n",
       "  <thead>\n",
       "    <tr style=\"text-align: right;\">\n",
       "      <th></th>\n",
       "      <th>id</th>\n",
       "      <th>mb_used</th>\n",
       "      <th>session_date</th>\n",
       "      <th>user_id</th>\n",
       "      <th>month</th>\n",
       "    </tr>\n",
       "  </thead>\n",
       "  <tbody>\n",
       "    <tr>\n",
       "      <td>0</td>\n",
       "      <td>1000_0</td>\n",
       "      <td>112.95</td>\n",
       "      <td>2018-11-25</td>\n",
       "      <td>1000</td>\n",
       "      <td>November</td>\n",
       "    </tr>\n",
       "    <tr>\n",
       "      <td>1</td>\n",
       "      <td>1000_1</td>\n",
       "      <td>1052.81</td>\n",
       "      <td>2018-09-07</td>\n",
       "      <td>1000</td>\n",
       "      <td>September</td>\n",
       "    </tr>\n",
       "    <tr>\n",
       "      <td>2</td>\n",
       "      <td>1000_2</td>\n",
       "      <td>1197.26</td>\n",
       "      <td>2018-06-25</td>\n",
       "      <td>1000</td>\n",
       "      <td>June</td>\n",
       "    </tr>\n",
       "    <tr>\n",
       "      <td>3</td>\n",
       "      <td>1000_3</td>\n",
       "      <td>550.27</td>\n",
       "      <td>2018-08-22</td>\n",
       "      <td>1000</td>\n",
       "      <td>August</td>\n",
       "    </tr>\n",
       "    <tr>\n",
       "      <td>4</td>\n",
       "      <td>1000_4</td>\n",
       "      <td>302.56</td>\n",
       "      <td>2018-09-24</td>\n",
       "      <td>1000</td>\n",
       "      <td>September</td>\n",
       "    </tr>\n",
       "    <tr>\n",
       "      <td>...</td>\n",
       "      <td>...</td>\n",
       "      <td>...</td>\n",
       "      <td>...</td>\n",
       "      <td>...</td>\n",
       "      <td>...</td>\n",
       "    </tr>\n",
       "    <tr>\n",
       "      <td>149391</td>\n",
       "      <td>1499_152</td>\n",
       "      <td>318.90</td>\n",
       "      <td>2018-10-03</td>\n",
       "      <td>1499</td>\n",
       "      <td>October</td>\n",
       "    </tr>\n",
       "    <tr>\n",
       "      <td>149392</td>\n",
       "      <td>1499_153</td>\n",
       "      <td>490.13</td>\n",
       "      <td>2018-12-14</td>\n",
       "      <td>1499</td>\n",
       "      <td>December</td>\n",
       "    </tr>\n",
       "    <tr>\n",
       "      <td>149393</td>\n",
       "      <td>1499_154</td>\n",
       "      <td>0.00</td>\n",
       "      <td>2018-10-27</td>\n",
       "      <td>1499</td>\n",
       "      <td>October</td>\n",
       "    </tr>\n",
       "    <tr>\n",
       "      <td>149394</td>\n",
       "      <td>1499_155</td>\n",
       "      <td>1246.32</td>\n",
       "      <td>2018-11-26</td>\n",
       "      <td>1499</td>\n",
       "      <td>November</td>\n",
       "    </tr>\n",
       "    <tr>\n",
       "      <td>149395</td>\n",
       "      <td>1499_156</td>\n",
       "      <td>544.37</td>\n",
       "      <td>2018-10-26</td>\n",
       "      <td>1499</td>\n",
       "      <td>October</td>\n",
       "    </tr>\n",
       "  </tbody>\n",
       "</table>\n",
       "<p>149396 rows × 5 columns</p>\n",
       "</div>"
      ],
      "text/plain": [
       "              id  mb_used session_date  user_id      month\n",
       "0         1000_0   112.95   2018-11-25     1000   November\n",
       "1         1000_1  1052.81   2018-09-07     1000  September\n",
       "2         1000_2  1197.26   2018-06-25     1000       June\n",
       "3         1000_3   550.27   2018-08-22     1000     August\n",
       "4         1000_4   302.56   2018-09-24     1000  September\n",
       "...          ...      ...          ...      ...        ...\n",
       "149391  1499_152   318.90   2018-10-03     1499    October\n",
       "149392  1499_153   490.13   2018-12-14     1499   December\n",
       "149393  1499_154     0.00   2018-10-27     1499    October\n",
       "149394  1499_155  1246.32   2018-11-26     1499   November\n",
       "149395  1499_156   544.37   2018-10-26     1499    October\n",
       "\n",
       "[149396 rows x 5 columns]"
      ]
     },
     "metadata": {},
     "output_type": "display_data"
    }
   ],
   "source": [
    "data_internet['month'] = data_internet['session_date'].dt.month_name()\n",
    "display(data_internet)"
   ]
  },
  {
   "cell_type": "code",
   "execution_count": 40,
   "metadata": {},
   "outputs": [
    {
     "data": {
      "text/html": [
       "<div>\n",
       "<style scoped>\n",
       "    .dataframe tbody tr th:only-of-type {\n",
       "        vertical-align: middle;\n",
       "    }\n",
       "\n",
       "    .dataframe tbody tr th {\n",
       "        vertical-align: top;\n",
       "    }\n",
       "\n",
       "    .dataframe thead th {\n",
       "        text-align: right;\n",
       "    }\n",
       "</style>\n",
       "<table border=\"1\" class=\"dataframe\">\n",
       "  <thead>\n",
       "    <tr style=\"text-align: right;\">\n",
       "      <th></th>\n",
       "      <th></th>\n",
       "      <th>traffic</th>\n",
       "    </tr>\n",
       "    <tr>\n",
       "      <th>user_id</th>\n",
       "      <th>month</th>\n",
       "      <th></th>\n",
       "    </tr>\n",
       "  </thead>\n",
       "  <tbody>\n",
       "    <tr>\n",
       "      <td rowspan=\"5\" valign=\"top\">1000</td>\n",
       "      <td>August</td>\n",
       "      <td>14055.93</td>\n",
       "    </tr>\n",
       "    <tr>\n",
       "      <td>December</td>\n",
       "      <td>9817.61</td>\n",
       "    </tr>\n",
       "    <tr>\n",
       "      <td>July</td>\n",
       "      <td>14003.64</td>\n",
       "    </tr>\n",
       "    <tr>\n",
       "      <td>June</td>\n",
       "      <td>23233.77</td>\n",
       "    </tr>\n",
       "    <tr>\n",
       "      <td>May</td>\n",
       "      <td>2253.49</td>\n",
       "    </tr>\n",
       "    <tr>\n",
       "      <td>...</td>\n",
       "      <td>...</td>\n",
       "      <td>...</td>\n",
       "    </tr>\n",
       "    <tr>\n",
       "      <td>1498</td>\n",
       "      <td>September</td>\n",
       "      <td>22134.41</td>\n",
       "    </tr>\n",
       "    <tr>\n",
       "      <td rowspan=\"4\" valign=\"top\">1499</td>\n",
       "      <td>December</td>\n",
       "      <td>13055.58</td>\n",
       "    </tr>\n",
       "    <tr>\n",
       "      <td>November</td>\n",
       "      <td>17963.31</td>\n",
       "    </tr>\n",
       "    <tr>\n",
       "      <td>October</td>\n",
       "      <td>17788.51</td>\n",
       "    </tr>\n",
       "    <tr>\n",
       "      <td>September</td>\n",
       "      <td>1845.75</td>\n",
       "    </tr>\n",
       "  </tbody>\n",
       "</table>\n",
       "<p>3203 rows × 1 columns</p>\n",
       "</div>"
      ],
      "text/plain": [
       "                    traffic\n",
       "user_id month              \n",
       "1000    August     14055.93\n",
       "        December    9817.61\n",
       "        July       14003.64\n",
       "        June       23233.77\n",
       "        May         2253.49\n",
       "...                     ...\n",
       "1498    September  22134.41\n",
       "1499    December   13055.58\n",
       "        November   17963.31\n",
       "        October    17788.51\n",
       "        September   1845.75\n",
       "\n",
       "[3203 rows x 1 columns]"
      ]
     },
     "metadata": {},
     "output_type": "display_data"
    }
   ],
   "source": [
    "user_internet = data_internet.pivot_table(index= ['user_id', 'month'], values='mb_used', aggfunc=['sum'])\n",
    "user_internet.columns = ['traffic']\n",
    "user_internet.reset_index()\n",
    "display(user_internet)\n"
   ]
  },
  {
   "cell_type": "markdown",
   "metadata": {},
   "source": [
    "Так как в компании мегалайн для веб-трафика отдельные сессии не считаются. Вместо этого общая сумма за месяц округляется в бо́льшую сторону, переведем общий помесячный трафик для пользователей в Гб и округлим в большую сторону."
   ]
  },
  {
   "cell_type": "code",
   "execution_count": 41,
   "metadata": {},
   "outputs": [
    {
     "data": {
      "text/html": [
       "<div>\n",
       "<style scoped>\n",
       "    .dataframe tbody tr th:only-of-type {\n",
       "        vertical-align: middle;\n",
       "    }\n",
       "\n",
       "    .dataframe tbody tr th {\n",
       "        vertical-align: top;\n",
       "    }\n",
       "\n",
       "    .dataframe thead th {\n",
       "        text-align: right;\n",
       "    }\n",
       "</style>\n",
       "<table border=\"1\" class=\"dataframe\">\n",
       "  <thead>\n",
       "    <tr style=\"text-align: right;\">\n",
       "      <th></th>\n",
       "      <th></th>\n",
       "      <th>traffic</th>\n",
       "    </tr>\n",
       "    <tr>\n",
       "      <th>user_id</th>\n",
       "      <th>month</th>\n",
       "      <th></th>\n",
       "    </tr>\n",
       "  </thead>\n",
       "  <tbody>\n",
       "    <tr>\n",
       "      <td rowspan=\"5\" valign=\"top\">1000</td>\n",
       "      <td>August</td>\n",
       "      <td>14.0</td>\n",
       "    </tr>\n",
       "    <tr>\n",
       "      <td>December</td>\n",
       "      <td>10.0</td>\n",
       "    </tr>\n",
       "    <tr>\n",
       "      <td>July</td>\n",
       "      <td>14.0</td>\n",
       "    </tr>\n",
       "    <tr>\n",
       "      <td>June</td>\n",
       "      <td>23.0</td>\n",
       "    </tr>\n",
       "    <tr>\n",
       "      <td>May</td>\n",
       "      <td>3.0</td>\n",
       "    </tr>\n",
       "    <tr>\n",
       "      <td>...</td>\n",
       "      <td>...</td>\n",
       "      <td>...</td>\n",
       "    </tr>\n",
       "    <tr>\n",
       "      <td>1498</td>\n",
       "      <td>September</td>\n",
       "      <td>22.0</td>\n",
       "    </tr>\n",
       "    <tr>\n",
       "      <td rowspan=\"4\" valign=\"top\">1499</td>\n",
       "      <td>December</td>\n",
       "      <td>13.0</td>\n",
       "    </tr>\n",
       "    <tr>\n",
       "      <td>November</td>\n",
       "      <td>18.0</td>\n",
       "    </tr>\n",
       "    <tr>\n",
       "      <td>October</td>\n",
       "      <td>18.0</td>\n",
       "    </tr>\n",
       "    <tr>\n",
       "      <td>September</td>\n",
       "      <td>2.0</td>\n",
       "    </tr>\n",
       "  </tbody>\n",
       "</table>\n",
       "<p>3203 rows × 1 columns</p>\n",
       "</div>"
      ],
      "text/plain": [
       "                   traffic\n",
       "user_id month             \n",
       "1000    August        14.0\n",
       "        December      10.0\n",
       "        July          14.0\n",
       "        June          23.0\n",
       "        May            3.0\n",
       "...                    ...\n",
       "1498    September     22.0\n",
       "1499    December      13.0\n",
       "        November      18.0\n",
       "        October       18.0\n",
       "        September      2.0\n",
       "\n",
       "[3203 rows x 1 columns]"
      ]
     },
     "metadata": {},
     "output_type": "display_data"
    }
   ],
   "source": [
    "user_internet['traffic'] = np.ceil(user_internet['traffic']/1024)\n",
    "display(user_internet)"
   ]
  },
  {
   "cell_type": "markdown",
   "metadata": {},
   "source": [
    "#### Сделаем общую таблицу по пользователям и потреблению тарифа."
   ]
  },
  {
   "cell_type": "markdown",
   "metadata": {},
   "source": [
    "Создадим общую таблицу по потреблению тарифа пользователями:"
   ]
  },
  {
   "cell_type": "code",
   "execution_count": 42,
   "metadata": {},
   "outputs": [
    {
     "data": {
      "text/html": [
       "<div>\n",
       "<style scoped>\n",
       "    .dataframe tbody tr th:only-of-type {\n",
       "        vertical-align: middle;\n",
       "    }\n",
       "\n",
       "    .dataframe tbody tr th {\n",
       "        vertical-align: top;\n",
       "    }\n",
       "\n",
       "    .dataframe thead th {\n",
       "        text-align: right;\n",
       "    }\n",
       "</style>\n",
       "<table border=\"1\" class=\"dataframe\">\n",
       "  <thead>\n",
       "    <tr style=\"text-align: right;\">\n",
       "      <th></th>\n",
       "      <th></th>\n",
       "      <th>total_calls</th>\n",
       "      <th>count_calls</th>\n",
       "      <th>count_messages</th>\n",
       "      <th>traffic</th>\n",
       "    </tr>\n",
       "    <tr>\n",
       "      <th>user_id</th>\n",
       "      <th>month</th>\n",
       "      <th></th>\n",
       "      <th></th>\n",
       "      <th></th>\n",
       "      <th></th>\n",
       "    </tr>\n",
       "  </thead>\n",
       "  <tbody>\n",
       "    <tr>\n",
       "      <td rowspan=\"5\" valign=\"top\">1000</td>\n",
       "      <td>August</td>\n",
       "      <td>408.0</td>\n",
       "      <td>52</td>\n",
       "      <td>81.0</td>\n",
       "      <td>14.0</td>\n",
       "    </tr>\n",
       "    <tr>\n",
       "      <td>December</td>\n",
       "      <td>333.0</td>\n",
       "      <td>46</td>\n",
       "      <td>70.0</td>\n",
       "      <td>10.0</td>\n",
       "    </tr>\n",
       "    <tr>\n",
       "      <td>July</td>\n",
       "      <td>340.0</td>\n",
       "      <td>47</td>\n",
       "      <td>75.0</td>\n",
       "      <td>14.0</td>\n",
       "    </tr>\n",
       "    <tr>\n",
       "      <td>June</td>\n",
       "      <td>172.0</td>\n",
       "      <td>43</td>\n",
       "      <td>60.0</td>\n",
       "      <td>23.0</td>\n",
       "    </tr>\n",
       "    <tr>\n",
       "      <td>May</td>\n",
       "      <td>159.0</td>\n",
       "      <td>22</td>\n",
       "      <td>22.0</td>\n",
       "      <td>3.0</td>\n",
       "    </tr>\n",
       "    <tr>\n",
       "      <td>...</td>\n",
       "      <td>...</td>\n",
       "      <td>...</td>\n",
       "      <td>...</td>\n",
       "      <td>...</td>\n",
       "      <td>...</td>\n",
       "    </tr>\n",
       "    <tr>\n",
       "      <td>1498</td>\n",
       "      <td>September</td>\n",
       "      <td>471.0</td>\n",
       "      <td>59</td>\n",
       "      <td>44.0</td>\n",
       "      <td>22.0</td>\n",
       "    </tr>\n",
       "    <tr>\n",
       "      <td rowspan=\"4\" valign=\"top\">1499</td>\n",
       "      <td>December</td>\n",
       "      <td>492.0</td>\n",
       "      <td>69</td>\n",
       "      <td>66.0</td>\n",
       "      <td>13.0</td>\n",
       "    </tr>\n",
       "    <tr>\n",
       "      <td>November</td>\n",
       "      <td>612.0</td>\n",
       "      <td>74</td>\n",
       "      <td>59.0</td>\n",
       "      <td>18.0</td>\n",
       "    </tr>\n",
       "    <tr>\n",
       "      <td>October</td>\n",
       "      <td>449.0</td>\n",
       "      <td>68</td>\n",
       "      <td>48.0</td>\n",
       "      <td>18.0</td>\n",
       "    </tr>\n",
       "    <tr>\n",
       "      <td>September</td>\n",
       "      <td>70.0</td>\n",
       "      <td>9</td>\n",
       "      <td>11.0</td>\n",
       "      <td>2.0</td>\n",
       "    </tr>\n",
       "  </tbody>\n",
       "</table>\n",
       "<p>3174 rows × 4 columns</p>\n",
       "</div>"
      ],
      "text/plain": [
       "                   total_calls  count_calls  count_messages  traffic\n",
       "user_id month                                                       \n",
       "1000    August           408.0           52            81.0     14.0\n",
       "        December         333.0           46            70.0     10.0\n",
       "        July             340.0           47            75.0     14.0\n",
       "        June             172.0           43            60.0     23.0\n",
       "        May              159.0           22            22.0      3.0\n",
       "...                        ...          ...             ...      ...\n",
       "1498    September        471.0           59            44.0     22.0\n",
       "1499    December         492.0           69            66.0     13.0\n",
       "        November         612.0           74            59.0     18.0\n",
       "        October          449.0           68            48.0     18.0\n",
       "        September         70.0            9            11.0      2.0\n",
       "\n",
       "[3174 rows x 4 columns]"
      ]
     },
     "metadata": {},
     "output_type": "display_data"
    }
   ],
   "source": [
    "user_intake = user_calls.merge(user_messages, on= ['user_id', 'month'], how='left').merge(user_internet,  on= ['user_id', 'month'], how='left')\n",
    "display(user_intake)"
   ]
  },
  {
   "cell_type": "markdown",
   "metadata": {},
   "source": [
    "Объединим таблицу по потреблению тарифа с информацией о пользователях:"
   ]
  },
  {
   "cell_type": "code",
   "execution_count": 43,
   "metadata": {},
   "outputs": [
    {
     "data": {
      "text/html": [
       "<div>\n",
       "<style scoped>\n",
       "    .dataframe tbody tr th:only-of-type {\n",
       "        vertical-align: middle;\n",
       "    }\n",
       "\n",
       "    .dataframe tbody tr th {\n",
       "        vertical-align: top;\n",
       "    }\n",
       "\n",
       "    .dataframe thead th {\n",
       "        text-align: right;\n",
       "    }\n",
       "</style>\n",
       "<table border=\"1\" class=\"dataframe\">\n",
       "  <thead>\n",
       "    <tr style=\"text-align: right;\">\n",
       "      <th></th>\n",
       "      <th>user_id</th>\n",
       "      <th>age</th>\n",
       "      <th>churn_date</th>\n",
       "      <th>city</th>\n",
       "      <th>first_name</th>\n",
       "      <th>last_name</th>\n",
       "      <th>reg_date</th>\n",
       "      <th>tariff</th>\n",
       "      <th>total_calls</th>\n",
       "      <th>count_calls</th>\n",
       "      <th>count_messages</th>\n",
       "      <th>traffic</th>\n",
       "    </tr>\n",
       "  </thead>\n",
       "  <tbody>\n",
       "    <tr>\n",
       "      <td>August</td>\n",
       "      <td>1000</td>\n",
       "      <td>52</td>\n",
       "      <td>NaT</td>\n",
       "      <td>Краснодар</td>\n",
       "      <td>Рафаил</td>\n",
       "      <td>Верещагин</td>\n",
       "      <td>2018-05-25</td>\n",
       "      <td>ultra</td>\n",
       "      <td>408.0</td>\n",
       "      <td>52.0</td>\n",
       "      <td>81.0</td>\n",
       "      <td>14.0</td>\n",
       "    </tr>\n",
       "    <tr>\n",
       "      <td>December</td>\n",
       "      <td>1000</td>\n",
       "      <td>52</td>\n",
       "      <td>NaT</td>\n",
       "      <td>Краснодар</td>\n",
       "      <td>Рафаил</td>\n",
       "      <td>Верещагин</td>\n",
       "      <td>2018-05-25</td>\n",
       "      <td>ultra</td>\n",
       "      <td>333.0</td>\n",
       "      <td>46.0</td>\n",
       "      <td>70.0</td>\n",
       "      <td>10.0</td>\n",
       "    </tr>\n",
       "    <tr>\n",
       "      <td>July</td>\n",
       "      <td>1000</td>\n",
       "      <td>52</td>\n",
       "      <td>NaT</td>\n",
       "      <td>Краснодар</td>\n",
       "      <td>Рафаил</td>\n",
       "      <td>Верещагин</td>\n",
       "      <td>2018-05-25</td>\n",
       "      <td>ultra</td>\n",
       "      <td>340.0</td>\n",
       "      <td>47.0</td>\n",
       "      <td>75.0</td>\n",
       "      <td>14.0</td>\n",
       "    </tr>\n",
       "    <tr>\n",
       "      <td>June</td>\n",
       "      <td>1000</td>\n",
       "      <td>52</td>\n",
       "      <td>NaT</td>\n",
       "      <td>Краснодар</td>\n",
       "      <td>Рафаил</td>\n",
       "      <td>Верещагин</td>\n",
       "      <td>2018-05-25</td>\n",
       "      <td>ultra</td>\n",
       "      <td>172.0</td>\n",
       "      <td>43.0</td>\n",
       "      <td>60.0</td>\n",
       "      <td>23.0</td>\n",
       "    </tr>\n",
       "    <tr>\n",
       "      <td>May</td>\n",
       "      <td>1000</td>\n",
       "      <td>52</td>\n",
       "      <td>NaT</td>\n",
       "      <td>Краснодар</td>\n",
       "      <td>Рафаил</td>\n",
       "      <td>Верещагин</td>\n",
       "      <td>2018-05-25</td>\n",
       "      <td>ultra</td>\n",
       "      <td>159.0</td>\n",
       "      <td>22.0</td>\n",
       "      <td>22.0</td>\n",
       "      <td>3.0</td>\n",
       "    </tr>\n",
       "    <tr>\n",
       "      <td>...</td>\n",
       "      <td>...</td>\n",
       "      <td>...</td>\n",
       "      <td>...</td>\n",
       "      <td>...</td>\n",
       "      <td>...</td>\n",
       "      <td>...</td>\n",
       "      <td>...</td>\n",
       "      <td>...</td>\n",
       "      <td>...</td>\n",
       "      <td>...</td>\n",
       "      <td>...</td>\n",
       "      <td>...</td>\n",
       "    </tr>\n",
       "    <tr>\n",
       "      <td>September</td>\n",
       "      <td>1498</td>\n",
       "      <td>68</td>\n",
       "      <td>2018-10-25</td>\n",
       "      <td>Владикавказ</td>\n",
       "      <td>Всеволод</td>\n",
       "      <td>Акимчин</td>\n",
       "      <td>2018-07-19</td>\n",
       "      <td>smart</td>\n",
       "      <td>471.0</td>\n",
       "      <td>59.0</td>\n",
       "      <td>44.0</td>\n",
       "      <td>22.0</td>\n",
       "    </tr>\n",
       "    <tr>\n",
       "      <td>December</td>\n",
       "      <td>1499</td>\n",
       "      <td>35</td>\n",
       "      <td>NaT</td>\n",
       "      <td>Пермь</td>\n",
       "      <td>Гектор</td>\n",
       "      <td>Корнилов</td>\n",
       "      <td>2018-09-27</td>\n",
       "      <td>smart</td>\n",
       "      <td>492.0</td>\n",
       "      <td>69.0</td>\n",
       "      <td>66.0</td>\n",
       "      <td>13.0</td>\n",
       "    </tr>\n",
       "    <tr>\n",
       "      <td>November</td>\n",
       "      <td>1499</td>\n",
       "      <td>35</td>\n",
       "      <td>NaT</td>\n",
       "      <td>Пермь</td>\n",
       "      <td>Гектор</td>\n",
       "      <td>Корнилов</td>\n",
       "      <td>2018-09-27</td>\n",
       "      <td>smart</td>\n",
       "      <td>612.0</td>\n",
       "      <td>74.0</td>\n",
       "      <td>59.0</td>\n",
       "      <td>18.0</td>\n",
       "    </tr>\n",
       "    <tr>\n",
       "      <td>October</td>\n",
       "      <td>1499</td>\n",
       "      <td>35</td>\n",
       "      <td>NaT</td>\n",
       "      <td>Пермь</td>\n",
       "      <td>Гектор</td>\n",
       "      <td>Корнилов</td>\n",
       "      <td>2018-09-27</td>\n",
       "      <td>smart</td>\n",
       "      <td>449.0</td>\n",
       "      <td>68.0</td>\n",
       "      <td>48.0</td>\n",
       "      <td>18.0</td>\n",
       "    </tr>\n",
       "    <tr>\n",
       "      <td>September</td>\n",
       "      <td>1499</td>\n",
       "      <td>35</td>\n",
       "      <td>NaT</td>\n",
       "      <td>Пермь</td>\n",
       "      <td>Гектор</td>\n",
       "      <td>Корнилов</td>\n",
       "      <td>2018-09-27</td>\n",
       "      <td>smart</td>\n",
       "      <td>70.0</td>\n",
       "      <td>9.0</td>\n",
       "      <td>11.0</td>\n",
       "      <td>2.0</td>\n",
       "    </tr>\n",
       "  </tbody>\n",
       "</table>\n",
       "<p>3182 rows × 12 columns</p>\n",
       "</div>"
      ],
      "text/plain": [
       "           user_id  age churn_date         city first_name  last_name  \\\n",
       "August        1000   52        NaT    Краснодар     Рафаил  Верещагин   \n",
       "December      1000   52        NaT    Краснодар     Рафаил  Верещагин   \n",
       "July          1000   52        NaT    Краснодар     Рафаил  Верещагин   \n",
       "June          1000   52        NaT    Краснодар     Рафаил  Верещагин   \n",
       "May           1000   52        NaT    Краснодар     Рафаил  Верещагин   \n",
       "...            ...  ...        ...          ...        ...        ...   \n",
       "September     1498   68 2018-10-25  Владикавказ   Всеволод    Акимчин   \n",
       "December      1499   35        NaT        Пермь     Гектор   Корнилов   \n",
       "November      1499   35        NaT        Пермь     Гектор   Корнилов   \n",
       "October       1499   35        NaT        Пермь     Гектор   Корнилов   \n",
       "September     1499   35        NaT        Пермь     Гектор   Корнилов   \n",
       "\n",
       "            reg_date tariff  total_calls  count_calls  count_messages  traffic  \n",
       "August    2018-05-25  ultra        408.0         52.0            81.0     14.0  \n",
       "December  2018-05-25  ultra        333.0         46.0            70.0     10.0  \n",
       "July      2018-05-25  ultra        340.0         47.0            75.0     14.0  \n",
       "June      2018-05-25  ultra        172.0         43.0            60.0     23.0  \n",
       "May       2018-05-25  ultra        159.0         22.0            22.0      3.0  \n",
       "...              ...    ...          ...          ...             ...      ...  \n",
       "September 2018-07-19  smart        471.0         59.0            44.0     22.0  \n",
       "December  2018-09-27  smart        492.0         69.0            66.0     13.0  \n",
       "November  2018-09-27  smart        612.0         74.0            59.0     18.0  \n",
       "October   2018-09-27  smart        449.0         68.0            48.0     18.0  \n",
       "September 2018-09-27  smart         70.0          9.0            11.0      2.0  \n",
       "\n",
       "[3182 rows x 12 columns]"
      ]
     },
     "metadata": {},
     "output_type": "display_data"
    }
   ],
   "source": [
    "data = data_users.merge(user_intake, on= ['user_id'], how='left', left_index = True)\n",
    "data.reset_index()\n",
    "display(data)"
   ]
  },
  {
   "cell_type": "markdown",
   "metadata": {},
   "source": [
    "Удалим из таблицы данные которые мы не будем использовать age, churn_date, first_name, last_name, reg_date. "
   ]
  },
  {
   "cell_type": "code",
   "execution_count": 44,
   "metadata": {},
   "outputs": [],
   "source": [
    "data = data.drop('age', 1)"
   ]
  },
  {
   "cell_type": "code",
   "execution_count": 45,
   "metadata": {},
   "outputs": [],
   "source": [
    "data = data.drop('churn_date', 1)"
   ]
  },
  {
   "cell_type": "code",
   "execution_count": 46,
   "metadata": {},
   "outputs": [],
   "source": [
    "data = data.drop('first_name', 1)"
   ]
  },
  {
   "cell_type": "code",
   "execution_count": 47,
   "metadata": {},
   "outputs": [],
   "source": [
    "data = data.drop('last_name', 1)"
   ]
  },
  {
   "cell_type": "code",
   "execution_count": 48,
   "metadata": {},
   "outputs": [],
   "source": [
    "data = data.drop('reg_date', 1)"
   ]
  },
  {
   "cell_type": "code",
   "execution_count": 49,
   "metadata": {},
   "outputs": [
    {
     "data": {
      "text/html": [
       "<div>\n",
       "<style scoped>\n",
       "    .dataframe tbody tr th:only-of-type {\n",
       "        vertical-align: middle;\n",
       "    }\n",
       "\n",
       "    .dataframe tbody tr th {\n",
       "        vertical-align: top;\n",
       "    }\n",
       "\n",
       "    .dataframe thead th {\n",
       "        text-align: right;\n",
       "    }\n",
       "</style>\n",
       "<table border=\"1\" class=\"dataframe\">\n",
       "  <thead>\n",
       "    <tr style=\"text-align: right;\">\n",
       "      <th></th>\n",
       "      <th>user_id</th>\n",
       "      <th>city</th>\n",
       "      <th>tariff</th>\n",
       "      <th>total_calls</th>\n",
       "      <th>count_calls</th>\n",
       "      <th>count_messages</th>\n",
       "      <th>traffic</th>\n",
       "    </tr>\n",
       "  </thead>\n",
       "  <tbody>\n",
       "    <tr>\n",
       "      <td>August</td>\n",
       "      <td>1000</td>\n",
       "      <td>Краснодар</td>\n",
       "      <td>ultra</td>\n",
       "      <td>408.0</td>\n",
       "      <td>52.0</td>\n",
       "      <td>81.0</td>\n",
       "      <td>14.0</td>\n",
       "    </tr>\n",
       "    <tr>\n",
       "      <td>December</td>\n",
       "      <td>1000</td>\n",
       "      <td>Краснодар</td>\n",
       "      <td>ultra</td>\n",
       "      <td>333.0</td>\n",
       "      <td>46.0</td>\n",
       "      <td>70.0</td>\n",
       "      <td>10.0</td>\n",
       "    </tr>\n",
       "    <tr>\n",
       "      <td>July</td>\n",
       "      <td>1000</td>\n",
       "      <td>Краснодар</td>\n",
       "      <td>ultra</td>\n",
       "      <td>340.0</td>\n",
       "      <td>47.0</td>\n",
       "      <td>75.0</td>\n",
       "      <td>14.0</td>\n",
       "    </tr>\n",
       "    <tr>\n",
       "      <td>June</td>\n",
       "      <td>1000</td>\n",
       "      <td>Краснодар</td>\n",
       "      <td>ultra</td>\n",
       "      <td>172.0</td>\n",
       "      <td>43.0</td>\n",
       "      <td>60.0</td>\n",
       "      <td>23.0</td>\n",
       "    </tr>\n",
       "    <tr>\n",
       "      <td>May</td>\n",
       "      <td>1000</td>\n",
       "      <td>Краснодар</td>\n",
       "      <td>ultra</td>\n",
       "      <td>159.0</td>\n",
       "      <td>22.0</td>\n",
       "      <td>22.0</td>\n",
       "      <td>3.0</td>\n",
       "    </tr>\n",
       "    <tr>\n",
       "      <td>...</td>\n",
       "      <td>...</td>\n",
       "      <td>...</td>\n",
       "      <td>...</td>\n",
       "      <td>...</td>\n",
       "      <td>...</td>\n",
       "      <td>...</td>\n",
       "      <td>...</td>\n",
       "    </tr>\n",
       "    <tr>\n",
       "      <td>September</td>\n",
       "      <td>1498</td>\n",
       "      <td>Владикавказ</td>\n",
       "      <td>smart</td>\n",
       "      <td>471.0</td>\n",
       "      <td>59.0</td>\n",
       "      <td>44.0</td>\n",
       "      <td>22.0</td>\n",
       "    </tr>\n",
       "    <tr>\n",
       "      <td>December</td>\n",
       "      <td>1499</td>\n",
       "      <td>Пермь</td>\n",
       "      <td>smart</td>\n",
       "      <td>492.0</td>\n",
       "      <td>69.0</td>\n",
       "      <td>66.0</td>\n",
       "      <td>13.0</td>\n",
       "    </tr>\n",
       "    <tr>\n",
       "      <td>November</td>\n",
       "      <td>1499</td>\n",
       "      <td>Пермь</td>\n",
       "      <td>smart</td>\n",
       "      <td>612.0</td>\n",
       "      <td>74.0</td>\n",
       "      <td>59.0</td>\n",
       "      <td>18.0</td>\n",
       "    </tr>\n",
       "    <tr>\n",
       "      <td>October</td>\n",
       "      <td>1499</td>\n",
       "      <td>Пермь</td>\n",
       "      <td>smart</td>\n",
       "      <td>449.0</td>\n",
       "      <td>68.0</td>\n",
       "      <td>48.0</td>\n",
       "      <td>18.0</td>\n",
       "    </tr>\n",
       "    <tr>\n",
       "      <td>September</td>\n",
       "      <td>1499</td>\n",
       "      <td>Пермь</td>\n",
       "      <td>smart</td>\n",
       "      <td>70.0</td>\n",
       "      <td>9.0</td>\n",
       "      <td>11.0</td>\n",
       "      <td>2.0</td>\n",
       "    </tr>\n",
       "  </tbody>\n",
       "</table>\n",
       "<p>3182 rows × 7 columns</p>\n",
       "</div>"
      ],
      "text/plain": [
       "           user_id         city tariff  total_calls  count_calls  \\\n",
       "August        1000    Краснодар  ultra        408.0         52.0   \n",
       "December      1000    Краснодар  ultra        333.0         46.0   \n",
       "July          1000    Краснодар  ultra        340.0         47.0   \n",
       "June          1000    Краснодар  ultra        172.0         43.0   \n",
       "May           1000    Краснодар  ultra        159.0         22.0   \n",
       "...            ...          ...    ...          ...          ...   \n",
       "September     1498  Владикавказ  smart        471.0         59.0   \n",
       "December      1499        Пермь  smart        492.0         69.0   \n",
       "November      1499        Пермь  smart        612.0         74.0   \n",
       "October       1499        Пермь  smart        449.0         68.0   \n",
       "September     1499        Пермь  smart         70.0          9.0   \n",
       "\n",
       "           count_messages  traffic  \n",
       "August               81.0     14.0  \n",
       "December             70.0     10.0  \n",
       "July                 75.0     14.0  \n",
       "June                 60.0     23.0  \n",
       "May                  22.0      3.0  \n",
       "...                   ...      ...  \n",
       "September            44.0     22.0  \n",
       "December             66.0     13.0  \n",
       "November             59.0     18.0  \n",
       "October              48.0     18.0  \n",
       "September            11.0      2.0  \n",
       "\n",
       "[3182 rows x 7 columns]"
      ]
     },
     "metadata": {},
     "output_type": "display_data"
    }
   ],
   "source": [
    "display(data)"
   ]
  },
  {
   "cell_type": "markdown",
   "metadata": {},
   "source": [
    "Добавим в таблицу информацию о тарифах.\n",
    "\n",
    "Cначала сменим название колонки в таблице о тарифах, что бы потом объединить по ней."
   ]
  },
  {
   "cell_type": "code",
   "execution_count": 50,
   "metadata": {},
   "outputs": [
    {
     "name": "stdout",
     "output_type": "stream",
     "text": [
      "   messages_included  mb_per_month_included  minutes_included  \\\n",
      "0                 50                  15360               500   \n",
      "1               1000                  30720              3000   \n",
      "\n",
      "   rub_monthly_fee  rub_per_gb  rub_per_message  rub_per_minute tariff  \n",
      "0              550         200                3               3  smart  \n",
      "1             1950         150                1               1  ultra  \n"
     ]
    }
   ],
   "source": [
    "data_tariffs = data_tariffs.rename(columns={'tariff_name':'tariff'})\n",
    "print(data_tariffs)"
   ]
  },
  {
   "cell_type": "code",
   "execution_count": 51,
   "metadata": {},
   "outputs": [],
   "source": [
    "data_t = data.merge(data_tariffs, on='tariff', how='left')"
   ]
  },
  {
   "cell_type": "code",
   "execution_count": 52,
   "metadata": {},
   "outputs": [
    {
     "data": {
      "text/html": [
       "<div>\n",
       "<style scoped>\n",
       "    .dataframe tbody tr th:only-of-type {\n",
       "        vertical-align: middle;\n",
       "    }\n",
       "\n",
       "    .dataframe tbody tr th {\n",
       "        vertical-align: top;\n",
       "    }\n",
       "\n",
       "    .dataframe thead th {\n",
       "        text-align: right;\n",
       "    }\n",
       "</style>\n",
       "<table border=\"1\" class=\"dataframe\">\n",
       "  <thead>\n",
       "    <tr style=\"text-align: right;\">\n",
       "      <th></th>\n",
       "      <th>user_id</th>\n",
       "      <th>city</th>\n",
       "      <th>tariff</th>\n",
       "      <th>total_calls</th>\n",
       "      <th>count_calls</th>\n",
       "      <th>count_messages</th>\n",
       "      <th>traffic</th>\n",
       "      <th>messages_included</th>\n",
       "      <th>mb_per_month_included</th>\n",
       "      <th>minutes_included</th>\n",
       "      <th>rub_monthly_fee</th>\n",
       "      <th>rub_per_gb</th>\n",
       "      <th>rub_per_message</th>\n",
       "      <th>rub_per_minute</th>\n",
       "    </tr>\n",
       "  </thead>\n",
       "  <tbody>\n",
       "    <tr>\n",
       "      <td>0</td>\n",
       "      <td>1000</td>\n",
       "      <td>Краснодар</td>\n",
       "      <td>ultra</td>\n",
       "      <td>408.0</td>\n",
       "      <td>52.0</td>\n",
       "      <td>81.0</td>\n",
       "      <td>14.0</td>\n",
       "      <td>1000</td>\n",
       "      <td>30720</td>\n",
       "      <td>3000</td>\n",
       "      <td>1950</td>\n",
       "      <td>150</td>\n",
       "      <td>1</td>\n",
       "      <td>1</td>\n",
       "    </tr>\n",
       "    <tr>\n",
       "      <td>1</td>\n",
       "      <td>1000</td>\n",
       "      <td>Краснодар</td>\n",
       "      <td>ultra</td>\n",
       "      <td>333.0</td>\n",
       "      <td>46.0</td>\n",
       "      <td>70.0</td>\n",
       "      <td>10.0</td>\n",
       "      <td>1000</td>\n",
       "      <td>30720</td>\n",
       "      <td>3000</td>\n",
       "      <td>1950</td>\n",
       "      <td>150</td>\n",
       "      <td>1</td>\n",
       "      <td>1</td>\n",
       "    </tr>\n",
       "    <tr>\n",
       "      <td>2</td>\n",
       "      <td>1000</td>\n",
       "      <td>Краснодар</td>\n",
       "      <td>ultra</td>\n",
       "      <td>340.0</td>\n",
       "      <td>47.0</td>\n",
       "      <td>75.0</td>\n",
       "      <td>14.0</td>\n",
       "      <td>1000</td>\n",
       "      <td>30720</td>\n",
       "      <td>3000</td>\n",
       "      <td>1950</td>\n",
       "      <td>150</td>\n",
       "      <td>1</td>\n",
       "      <td>1</td>\n",
       "    </tr>\n",
       "    <tr>\n",
       "      <td>3</td>\n",
       "      <td>1000</td>\n",
       "      <td>Краснодар</td>\n",
       "      <td>ultra</td>\n",
       "      <td>172.0</td>\n",
       "      <td>43.0</td>\n",
       "      <td>60.0</td>\n",
       "      <td>23.0</td>\n",
       "      <td>1000</td>\n",
       "      <td>30720</td>\n",
       "      <td>3000</td>\n",
       "      <td>1950</td>\n",
       "      <td>150</td>\n",
       "      <td>1</td>\n",
       "      <td>1</td>\n",
       "    </tr>\n",
       "    <tr>\n",
       "      <td>4</td>\n",
       "      <td>1000</td>\n",
       "      <td>Краснодар</td>\n",
       "      <td>ultra</td>\n",
       "      <td>159.0</td>\n",
       "      <td>22.0</td>\n",
       "      <td>22.0</td>\n",
       "      <td>3.0</td>\n",
       "      <td>1000</td>\n",
       "      <td>30720</td>\n",
       "      <td>3000</td>\n",
       "      <td>1950</td>\n",
       "      <td>150</td>\n",
       "      <td>1</td>\n",
       "      <td>1</td>\n",
       "    </tr>\n",
       "    <tr>\n",
       "      <td>...</td>\n",
       "      <td>...</td>\n",
       "      <td>...</td>\n",
       "      <td>...</td>\n",
       "      <td>...</td>\n",
       "      <td>...</td>\n",
       "      <td>...</td>\n",
       "      <td>...</td>\n",
       "      <td>...</td>\n",
       "      <td>...</td>\n",
       "      <td>...</td>\n",
       "      <td>...</td>\n",
       "      <td>...</td>\n",
       "      <td>...</td>\n",
       "      <td>...</td>\n",
       "    </tr>\n",
       "    <tr>\n",
       "      <td>3177</td>\n",
       "      <td>1498</td>\n",
       "      <td>Владикавказ</td>\n",
       "      <td>smart</td>\n",
       "      <td>471.0</td>\n",
       "      <td>59.0</td>\n",
       "      <td>44.0</td>\n",
       "      <td>22.0</td>\n",
       "      <td>50</td>\n",
       "      <td>15360</td>\n",
       "      <td>500</td>\n",
       "      <td>550</td>\n",
       "      <td>200</td>\n",
       "      <td>3</td>\n",
       "      <td>3</td>\n",
       "    </tr>\n",
       "    <tr>\n",
       "      <td>3178</td>\n",
       "      <td>1499</td>\n",
       "      <td>Пермь</td>\n",
       "      <td>smart</td>\n",
       "      <td>492.0</td>\n",
       "      <td>69.0</td>\n",
       "      <td>66.0</td>\n",
       "      <td>13.0</td>\n",
       "      <td>50</td>\n",
       "      <td>15360</td>\n",
       "      <td>500</td>\n",
       "      <td>550</td>\n",
       "      <td>200</td>\n",
       "      <td>3</td>\n",
       "      <td>3</td>\n",
       "    </tr>\n",
       "    <tr>\n",
       "      <td>3179</td>\n",
       "      <td>1499</td>\n",
       "      <td>Пермь</td>\n",
       "      <td>smart</td>\n",
       "      <td>612.0</td>\n",
       "      <td>74.0</td>\n",
       "      <td>59.0</td>\n",
       "      <td>18.0</td>\n",
       "      <td>50</td>\n",
       "      <td>15360</td>\n",
       "      <td>500</td>\n",
       "      <td>550</td>\n",
       "      <td>200</td>\n",
       "      <td>3</td>\n",
       "      <td>3</td>\n",
       "    </tr>\n",
       "    <tr>\n",
       "      <td>3180</td>\n",
       "      <td>1499</td>\n",
       "      <td>Пермь</td>\n",
       "      <td>smart</td>\n",
       "      <td>449.0</td>\n",
       "      <td>68.0</td>\n",
       "      <td>48.0</td>\n",
       "      <td>18.0</td>\n",
       "      <td>50</td>\n",
       "      <td>15360</td>\n",
       "      <td>500</td>\n",
       "      <td>550</td>\n",
       "      <td>200</td>\n",
       "      <td>3</td>\n",
       "      <td>3</td>\n",
       "    </tr>\n",
       "    <tr>\n",
       "      <td>3181</td>\n",
       "      <td>1499</td>\n",
       "      <td>Пермь</td>\n",
       "      <td>smart</td>\n",
       "      <td>70.0</td>\n",
       "      <td>9.0</td>\n",
       "      <td>11.0</td>\n",
       "      <td>2.0</td>\n",
       "      <td>50</td>\n",
       "      <td>15360</td>\n",
       "      <td>500</td>\n",
       "      <td>550</td>\n",
       "      <td>200</td>\n",
       "      <td>3</td>\n",
       "      <td>3</td>\n",
       "    </tr>\n",
       "  </tbody>\n",
       "</table>\n",
       "<p>3182 rows × 14 columns</p>\n",
       "</div>"
      ],
      "text/plain": [
       "      user_id         city tariff  total_calls  count_calls  count_messages  \\\n",
       "0        1000    Краснодар  ultra        408.0         52.0            81.0   \n",
       "1        1000    Краснодар  ultra        333.0         46.0            70.0   \n",
       "2        1000    Краснодар  ultra        340.0         47.0            75.0   \n",
       "3        1000    Краснодар  ultra        172.0         43.0            60.0   \n",
       "4        1000    Краснодар  ultra        159.0         22.0            22.0   \n",
       "...       ...          ...    ...          ...          ...             ...   \n",
       "3177     1498  Владикавказ  smart        471.0         59.0            44.0   \n",
       "3178     1499        Пермь  smart        492.0         69.0            66.0   \n",
       "3179     1499        Пермь  smart        612.0         74.0            59.0   \n",
       "3180     1499        Пермь  smart        449.0         68.0            48.0   \n",
       "3181     1499        Пермь  smart         70.0          9.0            11.0   \n",
       "\n",
       "      traffic  messages_included  mb_per_month_included  minutes_included  \\\n",
       "0        14.0               1000                  30720              3000   \n",
       "1        10.0               1000                  30720              3000   \n",
       "2        14.0               1000                  30720              3000   \n",
       "3        23.0               1000                  30720              3000   \n",
       "4         3.0               1000                  30720              3000   \n",
       "...       ...                ...                    ...               ...   \n",
       "3177     22.0                 50                  15360               500   \n",
       "3178     13.0                 50                  15360               500   \n",
       "3179     18.0                 50                  15360               500   \n",
       "3180     18.0                 50                  15360               500   \n",
       "3181      2.0                 50                  15360               500   \n",
       "\n",
       "      rub_monthly_fee  rub_per_gb  rub_per_message  rub_per_minute  \n",
       "0                1950         150                1               1  \n",
       "1                1950         150                1               1  \n",
       "2                1950         150                1               1  \n",
       "3                1950         150                1               1  \n",
       "4                1950         150                1               1  \n",
       "...               ...         ...              ...             ...  \n",
       "3177              550         200                3               3  \n",
       "3178              550         200                3               3  \n",
       "3179              550         200                3               3  \n",
       "3180              550         200                3               3  \n",
       "3181              550         200                3               3  \n",
       "\n",
       "[3182 rows x 14 columns]"
      ]
     },
     "metadata": {},
     "output_type": "display_data"
    }
   ],
   "source": [
    "display(data_t)"
   ]
  },
  {
   "cell_type": "markdown",
   "metadata": {},
   "source": [
    "#### Помесячную выручку с каждого пользователя"
   ]
  },
  {
   "cell_type": "markdown",
   "metadata": {},
   "source": [
    "Проверим есть ли в нашей таблице пропуски"
   ]
  },
  {
   "cell_type": "code",
   "execution_count": 53,
   "metadata": {},
   "outputs": [
    {
     "data": {
      "text/plain": [
       "user_id                    0\n",
       "city                       0\n",
       "tariff                     0\n",
       "total_calls                8\n",
       "count_calls                8\n",
       "count_messages           504\n",
       "traffic                   19\n",
       "messages_included          0\n",
       "mb_per_month_included      0\n",
       "minutes_included           0\n",
       "rub_monthly_fee            0\n",
       "rub_per_gb                 0\n",
       "rub_per_message            0\n",
       "rub_per_minute             0\n",
       "dtype: int64"
      ]
     },
     "execution_count": 53,
     "metadata": {},
     "output_type": "execute_result"
    }
   ],
   "source": [
    "data_t.isna().sum()"
   ]
  },
  {
   "cell_type": "markdown",
   "metadata": {},
   "source": [
    "Заменим на 0 пропуски клиентам у которых не было потрачено минут, трафика или сообщений."
   ]
  },
  {
   "cell_type": "code",
   "execution_count": 54,
   "metadata": {},
   "outputs": [
    {
     "data": {
      "text/plain": [
       "user_id                  0\n",
       "city                     0\n",
       "tariff                   0\n",
       "total_calls              0\n",
       "count_calls              0\n",
       "count_messages           0\n",
       "traffic                  0\n",
       "messages_included        0\n",
       "mb_per_month_included    0\n",
       "minutes_included         0\n",
       "rub_monthly_fee          0\n",
       "rub_per_gb               0\n",
       "rub_per_message          0\n",
       "rub_per_minute           0\n",
       "dtype: int64"
      ]
     },
     "execution_count": 54,
     "metadata": {},
     "output_type": "execute_result"
    }
   ],
   "source": [
    "data_t['total_calls'] = data_t['total_calls'].fillna(0)\n",
    "data_t['count_calls'] = data_t['count_calls'].fillna(0)\n",
    "data_t['count_messages'] = data_t['count_messages'].fillna(0)\n",
    "data_t['traffic'] = data_t['traffic'].fillna(0)\n",
    "data_t.isna().sum()"
   ]
  },
  {
   "cell_type": "markdown",
   "metadata": {},
   "source": [
    "Проверим нашу таблицу на дубликаты:"
   ]
  },
  {
   "cell_type": "code",
   "execution_count": 55,
   "metadata": {},
   "outputs": [
    {
     "data": {
      "text/plain": [
       "0"
      ]
     },
     "execution_count": 55,
     "metadata": {},
     "output_type": "execute_result"
    }
   ],
   "source": [
    "data_t.duplicated().sum()"
   ]
  },
  {
   "cell_type": "code",
   "execution_count": 56,
   "metadata": {},
   "outputs": [
    {
     "name": "stdout",
     "output_type": "stream",
     "text": [
      "<class 'pandas.core.frame.DataFrame'>\n",
      "Int64Index: 3182 entries, 0 to 3181\n",
      "Data columns (total 14 columns):\n",
      "user_id                  3182 non-null int16\n",
      "city                     3182 non-null object\n",
      "tariff                   3182 non-null object\n",
      "total_calls              3182 non-null float64\n",
      "count_calls              3182 non-null float64\n",
      "count_messages           3182 non-null float64\n",
      "traffic                  3182 non-null float64\n",
      "messages_included        3182 non-null int64\n",
      "mb_per_month_included    3182 non-null int64\n",
      "minutes_included         3182 non-null int64\n",
      "rub_monthly_fee          3182 non-null int64\n",
      "rub_per_gb               3182 non-null int64\n",
      "rub_per_message          3182 non-null int64\n",
      "rub_per_minute           3182 non-null int64\n",
      "dtypes: float64(4), int16(1), int64(7), object(2)\n",
      "memory usage: 354.2+ KB\n"
     ]
    }
   ],
   "source": [
    "data_t.info()"
   ]
  },
  {
   "cell_type": "code",
   "execution_count": 57,
   "metadata": {},
   "outputs": [],
   "source": [
    "def above_the_tariff(row):\n",
    "    sms = (row['count_messages'] - row['messages_included']) * row['rub_per_message']\n",
    "    mins = (row['total_calls'] - row['minutes_included']) * row['rub_per_minute']\n",
    "    mbs = (row['traffic'] - row['mb_per_month_included']/ 1024) * row['rub_per_gb'] \n",
    "    total = 0\n",
    "    for i in [sms, mins, mbs]:\n",
    "        if i > 0:\n",
    "            total += i\n",
    "    return total"
   ]
  },
  {
   "cell_type": "code",
   "execution_count": 58,
   "metadata": {},
   "outputs": [],
   "source": [
    "data_t['above_the_tariff'] = data_t.apply(lambda x: above_the_tariff(x), axis=1)"
   ]
  },
  {
   "cell_type": "code",
   "execution_count": 59,
   "metadata": {
    "scrolled": true
   },
   "outputs": [
    {
     "data": {
      "text/html": [
       "<div>\n",
       "<style scoped>\n",
       "    .dataframe tbody tr th:only-of-type {\n",
       "        vertical-align: middle;\n",
       "    }\n",
       "\n",
       "    .dataframe tbody tr th {\n",
       "        vertical-align: top;\n",
       "    }\n",
       "\n",
       "    .dataframe thead th {\n",
       "        text-align: right;\n",
       "    }\n",
       "</style>\n",
       "<table border=\"1\" class=\"dataframe\">\n",
       "  <thead>\n",
       "    <tr style=\"text-align: right;\">\n",
       "      <th></th>\n",
       "      <th>user_id</th>\n",
       "      <th>city</th>\n",
       "      <th>tariff</th>\n",
       "      <th>total_calls</th>\n",
       "      <th>count_calls</th>\n",
       "      <th>count_messages</th>\n",
       "      <th>traffic</th>\n",
       "      <th>messages_included</th>\n",
       "      <th>mb_per_month_included</th>\n",
       "      <th>minutes_included</th>\n",
       "      <th>rub_monthly_fee</th>\n",
       "      <th>rub_per_gb</th>\n",
       "      <th>rub_per_message</th>\n",
       "      <th>rub_per_minute</th>\n",
       "      <th>above_the_tariff</th>\n",
       "      <th>total_paid</th>\n",
       "    </tr>\n",
       "  </thead>\n",
       "  <tbody>\n",
       "    <tr>\n",
       "      <td>0</td>\n",
       "      <td>1000</td>\n",
       "      <td>Краснодар</td>\n",
       "      <td>ultra</td>\n",
       "      <td>408.0</td>\n",
       "      <td>52.0</td>\n",
       "      <td>81.0</td>\n",
       "      <td>14.0</td>\n",
       "      <td>1000</td>\n",
       "      <td>30720</td>\n",
       "      <td>3000</td>\n",
       "      <td>1950</td>\n",
       "      <td>150</td>\n",
       "      <td>1</td>\n",
       "      <td>1</td>\n",
       "      <td>0.0</td>\n",
       "      <td>1950.0</td>\n",
       "    </tr>\n",
       "    <tr>\n",
       "      <td>1</td>\n",
       "      <td>1000</td>\n",
       "      <td>Краснодар</td>\n",
       "      <td>ultra</td>\n",
       "      <td>333.0</td>\n",
       "      <td>46.0</td>\n",
       "      <td>70.0</td>\n",
       "      <td>10.0</td>\n",
       "      <td>1000</td>\n",
       "      <td>30720</td>\n",
       "      <td>3000</td>\n",
       "      <td>1950</td>\n",
       "      <td>150</td>\n",
       "      <td>1</td>\n",
       "      <td>1</td>\n",
       "      <td>0.0</td>\n",
       "      <td>1950.0</td>\n",
       "    </tr>\n",
       "    <tr>\n",
       "      <td>2</td>\n",
       "      <td>1000</td>\n",
       "      <td>Краснодар</td>\n",
       "      <td>ultra</td>\n",
       "      <td>340.0</td>\n",
       "      <td>47.0</td>\n",
       "      <td>75.0</td>\n",
       "      <td>14.0</td>\n",
       "      <td>1000</td>\n",
       "      <td>30720</td>\n",
       "      <td>3000</td>\n",
       "      <td>1950</td>\n",
       "      <td>150</td>\n",
       "      <td>1</td>\n",
       "      <td>1</td>\n",
       "      <td>0.0</td>\n",
       "      <td>1950.0</td>\n",
       "    </tr>\n",
       "    <tr>\n",
       "      <td>3</td>\n",
       "      <td>1000</td>\n",
       "      <td>Краснодар</td>\n",
       "      <td>ultra</td>\n",
       "      <td>172.0</td>\n",
       "      <td>43.0</td>\n",
       "      <td>60.0</td>\n",
       "      <td>23.0</td>\n",
       "      <td>1000</td>\n",
       "      <td>30720</td>\n",
       "      <td>3000</td>\n",
       "      <td>1950</td>\n",
       "      <td>150</td>\n",
       "      <td>1</td>\n",
       "      <td>1</td>\n",
       "      <td>0.0</td>\n",
       "      <td>1950.0</td>\n",
       "    </tr>\n",
       "    <tr>\n",
       "      <td>4</td>\n",
       "      <td>1000</td>\n",
       "      <td>Краснодар</td>\n",
       "      <td>ultra</td>\n",
       "      <td>159.0</td>\n",
       "      <td>22.0</td>\n",
       "      <td>22.0</td>\n",
       "      <td>3.0</td>\n",
       "      <td>1000</td>\n",
       "      <td>30720</td>\n",
       "      <td>3000</td>\n",
       "      <td>1950</td>\n",
       "      <td>150</td>\n",
       "      <td>1</td>\n",
       "      <td>1</td>\n",
       "      <td>0.0</td>\n",
       "      <td>1950.0</td>\n",
       "    </tr>\n",
       "    <tr>\n",
       "      <td>...</td>\n",
       "      <td>...</td>\n",
       "      <td>...</td>\n",
       "      <td>...</td>\n",
       "      <td>...</td>\n",
       "      <td>...</td>\n",
       "      <td>...</td>\n",
       "      <td>...</td>\n",
       "      <td>...</td>\n",
       "      <td>...</td>\n",
       "      <td>...</td>\n",
       "      <td>...</td>\n",
       "      <td>...</td>\n",
       "      <td>...</td>\n",
       "      <td>...</td>\n",
       "      <td>...</td>\n",
       "      <td>...</td>\n",
       "    </tr>\n",
       "    <tr>\n",
       "      <td>3177</td>\n",
       "      <td>1498</td>\n",
       "      <td>Владикавказ</td>\n",
       "      <td>smart</td>\n",
       "      <td>471.0</td>\n",
       "      <td>59.0</td>\n",
       "      <td>44.0</td>\n",
       "      <td>22.0</td>\n",
       "      <td>50</td>\n",
       "      <td>15360</td>\n",
       "      <td>500</td>\n",
       "      <td>550</td>\n",
       "      <td>200</td>\n",
       "      <td>3</td>\n",
       "      <td>3</td>\n",
       "      <td>1400.0</td>\n",
       "      <td>1950.0</td>\n",
       "    </tr>\n",
       "    <tr>\n",
       "      <td>3178</td>\n",
       "      <td>1499</td>\n",
       "      <td>Пермь</td>\n",
       "      <td>smart</td>\n",
       "      <td>492.0</td>\n",
       "      <td>69.0</td>\n",
       "      <td>66.0</td>\n",
       "      <td>13.0</td>\n",
       "      <td>50</td>\n",
       "      <td>15360</td>\n",
       "      <td>500</td>\n",
       "      <td>550</td>\n",
       "      <td>200</td>\n",
       "      <td>3</td>\n",
       "      <td>3</td>\n",
       "      <td>48.0</td>\n",
       "      <td>598.0</td>\n",
       "    </tr>\n",
       "    <tr>\n",
       "      <td>3179</td>\n",
       "      <td>1499</td>\n",
       "      <td>Пермь</td>\n",
       "      <td>smart</td>\n",
       "      <td>612.0</td>\n",
       "      <td>74.0</td>\n",
       "      <td>59.0</td>\n",
       "      <td>18.0</td>\n",
       "      <td>50</td>\n",
       "      <td>15360</td>\n",
       "      <td>500</td>\n",
       "      <td>550</td>\n",
       "      <td>200</td>\n",
       "      <td>3</td>\n",
       "      <td>3</td>\n",
       "      <td>963.0</td>\n",
       "      <td>1513.0</td>\n",
       "    </tr>\n",
       "    <tr>\n",
       "      <td>3180</td>\n",
       "      <td>1499</td>\n",
       "      <td>Пермь</td>\n",
       "      <td>smart</td>\n",
       "      <td>449.0</td>\n",
       "      <td>68.0</td>\n",
       "      <td>48.0</td>\n",
       "      <td>18.0</td>\n",
       "      <td>50</td>\n",
       "      <td>15360</td>\n",
       "      <td>500</td>\n",
       "      <td>550</td>\n",
       "      <td>200</td>\n",
       "      <td>3</td>\n",
       "      <td>3</td>\n",
       "      <td>600.0</td>\n",
       "      <td>1150.0</td>\n",
       "    </tr>\n",
       "    <tr>\n",
       "      <td>3181</td>\n",
       "      <td>1499</td>\n",
       "      <td>Пермь</td>\n",
       "      <td>smart</td>\n",
       "      <td>70.0</td>\n",
       "      <td>9.0</td>\n",
       "      <td>11.0</td>\n",
       "      <td>2.0</td>\n",
       "      <td>50</td>\n",
       "      <td>15360</td>\n",
       "      <td>500</td>\n",
       "      <td>550</td>\n",
       "      <td>200</td>\n",
       "      <td>3</td>\n",
       "      <td>3</td>\n",
       "      <td>0.0</td>\n",
       "      <td>550.0</td>\n",
       "    </tr>\n",
       "  </tbody>\n",
       "</table>\n",
       "<p>3182 rows × 16 columns</p>\n",
       "</div>"
      ],
      "text/plain": [
       "      user_id         city tariff  total_calls  count_calls  count_messages  \\\n",
       "0        1000    Краснодар  ultra        408.0         52.0            81.0   \n",
       "1        1000    Краснодар  ultra        333.0         46.0            70.0   \n",
       "2        1000    Краснодар  ultra        340.0         47.0            75.0   \n",
       "3        1000    Краснодар  ultra        172.0         43.0            60.0   \n",
       "4        1000    Краснодар  ultra        159.0         22.0            22.0   \n",
       "...       ...          ...    ...          ...          ...             ...   \n",
       "3177     1498  Владикавказ  smart        471.0         59.0            44.0   \n",
       "3178     1499        Пермь  smart        492.0         69.0            66.0   \n",
       "3179     1499        Пермь  smart        612.0         74.0            59.0   \n",
       "3180     1499        Пермь  smart        449.0         68.0            48.0   \n",
       "3181     1499        Пермь  smart         70.0          9.0            11.0   \n",
       "\n",
       "      traffic  messages_included  mb_per_month_included  minutes_included  \\\n",
       "0        14.0               1000                  30720              3000   \n",
       "1        10.0               1000                  30720              3000   \n",
       "2        14.0               1000                  30720              3000   \n",
       "3        23.0               1000                  30720              3000   \n",
       "4         3.0               1000                  30720              3000   \n",
       "...       ...                ...                    ...               ...   \n",
       "3177     22.0                 50                  15360               500   \n",
       "3178     13.0                 50                  15360               500   \n",
       "3179     18.0                 50                  15360               500   \n",
       "3180     18.0                 50                  15360               500   \n",
       "3181      2.0                 50                  15360               500   \n",
       "\n",
       "      rub_monthly_fee  rub_per_gb  rub_per_message  rub_per_minute  \\\n",
       "0                1950         150                1               1   \n",
       "1                1950         150                1               1   \n",
       "2                1950         150                1               1   \n",
       "3                1950         150                1               1   \n",
       "4                1950         150                1               1   \n",
       "...               ...         ...              ...             ...   \n",
       "3177              550         200                3               3   \n",
       "3178              550         200                3               3   \n",
       "3179              550         200                3               3   \n",
       "3180              550         200                3               3   \n",
       "3181              550         200                3               3   \n",
       "\n",
       "      above_the_tariff  total_paid  \n",
       "0                  0.0      1950.0  \n",
       "1                  0.0      1950.0  \n",
       "2                  0.0      1950.0  \n",
       "3                  0.0      1950.0  \n",
       "4                  0.0      1950.0  \n",
       "...                ...         ...  \n",
       "3177            1400.0      1950.0  \n",
       "3178              48.0       598.0  \n",
       "3179             963.0      1513.0  \n",
       "3180             600.0      1150.0  \n",
       "3181               0.0       550.0  \n",
       "\n",
       "[3182 rows x 16 columns]"
      ]
     },
     "metadata": {},
     "output_type": "display_data"
    }
   ],
   "source": [
    "data_t['total_paid'] = data_t['rub_monthly_fee'] + data_t['above_the_tariff']\n",
    "display(data_t)"
   ]
  },
  {
   "cell_type": "markdown",
   "metadata": {},
   "source": [
    "**Вывод**\n",
    "Подготовили данные для дальнейшей работы. Посчитали для каждого пользователя: количество сделанных звонков и израсходованных минут разговора по месяцам; количество отправленных сообщений по месяцам; объем израсходованного интернет-трафика по месяцам; помесячную выручку с каждого пользователя.\n"
   ]
  },
  {
   "cell_type": "markdown",
   "metadata": {},
   "source": [
    "## Анализ данных <a id='analysis'></a>"
   ]
  },
  {
   "cell_type": "markdown",
   "metadata": {},
   "source": [
    "Опишем поведение клиентов оператора, исходя из выборки."
   ]
  },
  {
   "cell_type": "markdown",
   "metadata": {},
   "source": [
    "Сделаем таблицу по доходности тарифных планов."
   ]
  },
  {
   "cell_type": "code",
   "execution_count": 60,
   "metadata": {},
   "outputs": [
    {
     "data": {
      "text/html": [
       "<div>\n",
       "<style scoped>\n",
       "    .dataframe tbody tr th:only-of-type {\n",
       "        vertical-align: middle;\n",
       "    }\n",
       "\n",
       "    .dataframe tbody tr th {\n",
       "        vertical-align: top;\n",
       "    }\n",
       "\n",
       "    .dataframe thead th {\n",
       "        text-align: right;\n",
       "    }\n",
       "</style>\n",
       "<table border=\"1\" class=\"dataframe\">\n",
       "  <thead>\n",
       "    <tr style=\"text-align: right;\">\n",
       "      <th></th>\n",
       "      <th>tariff</th>\n",
       "      <th>above_the_tariff</th>\n",
       "      <th>total_paid</th>\n",
       "    </tr>\n",
       "  </thead>\n",
       "  <tbody>\n",
       "    <tr>\n",
       "      <td>0</td>\n",
       "      <td>ultra</td>\n",
       "      <td>0.0</td>\n",
       "      <td>1950.0</td>\n",
       "    </tr>\n",
       "    <tr>\n",
       "      <td>1</td>\n",
       "      <td>ultra</td>\n",
       "      <td>0.0</td>\n",
       "      <td>1950.0</td>\n",
       "    </tr>\n",
       "    <tr>\n",
       "      <td>2</td>\n",
       "      <td>ultra</td>\n",
       "      <td>0.0</td>\n",
       "      <td>1950.0</td>\n",
       "    </tr>\n",
       "    <tr>\n",
       "      <td>3</td>\n",
       "      <td>ultra</td>\n",
       "      <td>0.0</td>\n",
       "      <td>1950.0</td>\n",
       "    </tr>\n",
       "    <tr>\n",
       "      <td>4</td>\n",
       "      <td>ultra</td>\n",
       "      <td>0.0</td>\n",
       "      <td>1950.0</td>\n",
       "    </tr>\n",
       "    <tr>\n",
       "      <td>...</td>\n",
       "      <td>...</td>\n",
       "      <td>...</td>\n",
       "      <td>...</td>\n",
       "    </tr>\n",
       "    <tr>\n",
       "      <td>3177</td>\n",
       "      <td>smart</td>\n",
       "      <td>1400.0</td>\n",
       "      <td>1950.0</td>\n",
       "    </tr>\n",
       "    <tr>\n",
       "      <td>3178</td>\n",
       "      <td>smart</td>\n",
       "      <td>48.0</td>\n",
       "      <td>598.0</td>\n",
       "    </tr>\n",
       "    <tr>\n",
       "      <td>3179</td>\n",
       "      <td>smart</td>\n",
       "      <td>963.0</td>\n",
       "      <td>1513.0</td>\n",
       "    </tr>\n",
       "    <tr>\n",
       "      <td>3180</td>\n",
       "      <td>smart</td>\n",
       "      <td>600.0</td>\n",
       "      <td>1150.0</td>\n",
       "    </tr>\n",
       "    <tr>\n",
       "      <td>3181</td>\n",
       "      <td>smart</td>\n",
       "      <td>0.0</td>\n",
       "      <td>550.0</td>\n",
       "    </tr>\n",
       "  </tbody>\n",
       "</table>\n",
       "<p>3182 rows × 3 columns</p>\n",
       "</div>"
      ],
      "text/plain": [
       "     tariff  above_the_tariff  total_paid\n",
       "0     ultra               0.0      1950.0\n",
       "1     ultra               0.0      1950.0\n",
       "2     ultra               0.0      1950.0\n",
       "3     ultra               0.0      1950.0\n",
       "4     ultra               0.0      1950.0\n",
       "...     ...               ...         ...\n",
       "3177  smart            1400.0      1950.0\n",
       "3178  smart              48.0       598.0\n",
       "3179  smart             963.0      1513.0\n",
       "3180  smart             600.0      1150.0\n",
       "3181  smart               0.0       550.0\n",
       "\n",
       "[3182 rows x 3 columns]"
      ]
     },
     "metadata": {},
     "output_type": "display_data"
    }
   ],
   "source": [
    "tariff_income = data_t\n",
    "tariff_income = tariff_income.drop('user_id', 1)\n",
    "tariff_income = tariff_income.drop('city', 1)\n",
    "tariff_income = tariff_income.drop('total_calls', 1)\n",
    "tariff_income = tariff_income.drop('count_calls', 1)\n",
    "tariff_income = tariff_income.drop('count_messages', 1)\n",
    "tariff_income = tariff_income.drop('traffic', 1)\n",
    "tariff_income = tariff_income.drop('messages_included', 1)\n",
    "tariff_income = tariff_income.drop('mb_per_month_included', 1)\n",
    "tariff_income = tariff_income.drop('minutes_included', 1)\n",
    "tariff_income = tariff_income.drop('rub_monthly_fee', 1)\n",
    "tariff_income = tariff_income.drop('rub_per_gb', 1)\n",
    "tariff_income = tariff_income.drop('rub_per_message', 1)\n",
    "tariff_income = tariff_income.drop('rub_per_minute', 1)\n",
    "display(tariff_income)"
   ]
  },
  {
   "cell_type": "code",
   "execution_count": 61,
   "metadata": {},
   "outputs": [
    {
     "data": {
      "text/html": [
       "<div>\n",
       "<style scoped>\n",
       "    .dataframe tbody tr th:only-of-type {\n",
       "        vertical-align: middle;\n",
       "    }\n",
       "\n",
       "    .dataframe tbody tr th {\n",
       "        vertical-align: top;\n",
       "    }\n",
       "\n",
       "    .dataframe thead tr th {\n",
       "        text-align: left;\n",
       "    }\n",
       "\n",
       "    .dataframe thead tr:last-of-type th {\n",
       "        text-align: right;\n",
       "    }\n",
       "</style>\n",
       "<table border=\"1\" class=\"dataframe\">\n",
       "  <thead>\n",
       "    <tr>\n",
       "      <th></th>\n",
       "      <th colspan=\"8\" halign=\"left\">above_the_tariff</th>\n",
       "      <th colspan=\"8\" halign=\"left\">total_paid</th>\n",
       "    </tr>\n",
       "    <tr>\n",
       "      <th></th>\n",
       "      <th>count</th>\n",
       "      <th>mean</th>\n",
       "      <th>std</th>\n",
       "      <th>min</th>\n",
       "      <th>25%</th>\n",
       "      <th>50%</th>\n",
       "      <th>75%</th>\n",
       "      <th>max</th>\n",
       "      <th>count</th>\n",
       "      <th>mean</th>\n",
       "      <th>std</th>\n",
       "      <th>min</th>\n",
       "      <th>25%</th>\n",
       "      <th>50%</th>\n",
       "      <th>75%</th>\n",
       "      <th>max</th>\n",
       "    </tr>\n",
       "    <tr>\n",
       "      <th>tariff</th>\n",
       "      <th></th>\n",
       "      <th></th>\n",
       "      <th></th>\n",
       "      <th></th>\n",
       "      <th></th>\n",
       "      <th></th>\n",
       "      <th></th>\n",
       "      <th></th>\n",
       "      <th></th>\n",
       "      <th></th>\n",
       "      <th></th>\n",
       "      <th></th>\n",
       "      <th></th>\n",
       "      <th></th>\n",
       "      <th></th>\n",
       "      <th></th>\n",
       "    </tr>\n",
       "  </thead>\n",
       "  <tbody>\n",
       "    <tr>\n",
       "      <td>smart</td>\n",
       "      <td>2225.0</td>\n",
       "      <td>740.225169</td>\n",
       "      <td>819.052589</td>\n",
       "      <td>0.0</td>\n",
       "      <td>0.0</td>\n",
       "      <td>473.0</td>\n",
       "      <td>1200.0</td>\n",
       "      <td>6220.0</td>\n",
       "      <td>2225.0</td>\n",
       "      <td>1290.225169</td>\n",
       "      <td>819.052589</td>\n",
       "      <td>550.0</td>\n",
       "      <td>550.0</td>\n",
       "      <td>1023.0</td>\n",
       "      <td>1750.0</td>\n",
       "      <td>6770.0</td>\n",
       "    </tr>\n",
       "    <tr>\n",
       "      <td>ultra</td>\n",
       "      <td>957.0</td>\n",
       "      <td>120.219436</td>\n",
       "      <td>378.351486</td>\n",
       "      <td>0.0</td>\n",
       "      <td>0.0</td>\n",
       "      <td>0.0</td>\n",
       "      <td>0.0</td>\n",
       "      <td>2850.0</td>\n",
       "      <td>957.0</td>\n",
       "      <td>2070.219436</td>\n",
       "      <td>378.351486</td>\n",
       "      <td>1950.0</td>\n",
       "      <td>1950.0</td>\n",
       "      <td>1950.0</td>\n",
       "      <td>1950.0</td>\n",
       "      <td>4800.0</td>\n",
       "    </tr>\n",
       "  </tbody>\n",
       "</table>\n",
       "</div>"
      ],
      "text/plain": [
       "       above_the_tariff                                                   \\\n",
       "                  count        mean         std  min  25%    50%     75%   \n",
       "tariff                                                                     \n",
       "smart            2225.0  740.225169  819.052589  0.0  0.0  473.0  1200.0   \n",
       "ultra             957.0  120.219436  378.351486  0.0  0.0    0.0     0.0   \n",
       "\n",
       "               total_paid                                                   \\\n",
       "           max      count         mean         std     min     25%     50%   \n",
       "tariff                                                                       \n",
       "smart   6220.0     2225.0  1290.225169  819.052589   550.0   550.0  1023.0   \n",
       "ultra   2850.0      957.0  2070.219436  378.351486  1950.0  1950.0  1950.0   \n",
       "\n",
       "                        \n",
       "           75%     max  \n",
       "tariff                  \n",
       "smart   1750.0  6770.0  \n",
       "ultra   1950.0  4800.0  "
      ]
     },
     "execution_count": 61,
     "metadata": {},
     "output_type": "execute_result"
    }
   ],
   "source": [
    "tariff_income.groupby(['tariff']).describe()"
   ]
  },
  {
   "cell_type": "code",
   "execution_count": 62,
   "metadata": {},
   "outputs": [
    {
     "name": "stderr",
     "output_type": "stream",
     "text": [
      "/opt/conda/lib/python3.7/site-packages/numpy/core/_asarray.py:83: VisibleDeprecationWarning: Creating an ndarray from ragged nested sequences (which is a list-or-tuple of lists-or-tuples-or ndarrays with different lengths or shapes) is deprecated. If you meant to do this, you must specify 'dtype=object' when creating the ndarray\n",
      "  return array(a, dtype, copy=False, order=order)\n",
      "/opt/conda/lib/python3.7/site-packages/numpy/core/_asarray.py:83: VisibleDeprecationWarning: Creating an ndarray from ragged nested sequences (which is a list-or-tuple of lists-or-tuples-or ndarrays with different lengths or shapes) is deprecated. If you meant to do this, you must specify 'dtype=object' when creating the ndarray\n",
      "  return array(a, dtype, copy=False, order=order)\n"
     ]
    },
    {
     "data": {
      "text/plain": [
       "array([<matplotlib.axes._subplots.AxesSubplot object at 0x7fe591da88d0>,\n",
       "       <matplotlib.axes._subplots.AxesSubplot object at 0x7fe591c7cd10>],\n",
       "      dtype=object)"
      ]
     },
     "execution_count": 62,
     "metadata": {},
     "output_type": "execute_result"
    },
    {
     "data": {
      "image/png": "[encoded data removed]",
      "text/plain": [
       "<Figure size 720x720 with 2 Axes>"
      ]
     },
     "metadata": {
      "needs_background": "light"
     },
     "output_type": "display_data"
    }
   ],
   "source": [
    "tariff_income.boxplot(by='tariff', figsize=(10,10))\n",
    "# ax.set_ylim(0,7000);"
   ]
  },
  {
   "cell_type": "markdown",
   "metadata": {},
   "source": [
    "Таким образом после первичной оценки доходности тарифов и поведения клиентов разных тарифов, можем отметить что пользователи тарифа ultra чаще всего не переплачивают за дополнительные услуги, в то время как дополнительная плата для клиентов тарифа smart достаточно распространенное явление. \n",
    "\n",
    "В среднем пользователи тарифа ultra суммарно тратят больше, чем пользователи тарифа smart."
   ]
  },
  {
   "cell_type": "markdown",
   "metadata": {},
   "source": [
    "###  Сколько минут разговора требуется пользователям каждого тарифа в месяц"
   ]
  },
  {
   "cell_type": "code",
   "execution_count": 63,
   "metadata": {},
   "outputs": [
    {
     "data": {
      "text/html": [
       "<div>\n",
       "<style scoped>\n",
       "    .dataframe tbody tr th:only-of-type {\n",
       "        vertical-align: middle;\n",
       "    }\n",
       "\n",
       "    .dataframe tbody tr th {\n",
       "        vertical-align: top;\n",
       "    }\n",
       "\n",
       "    .dataframe thead tr th {\n",
       "        text-align: left;\n",
       "    }\n",
       "\n",
       "    .dataframe thead tr:last-of-type th {\n",
       "        text-align: right;\n",
       "    }\n",
       "</style>\n",
       "<table border=\"1\" class=\"dataframe\">\n",
       "  <thead>\n",
       "    <tr>\n",
       "      <th></th>\n",
       "      <th colspan=\"4\" halign=\"left\">total_calls</th>\n",
       "    </tr>\n",
       "    <tr>\n",
       "      <th></th>\n",
       "      <th>median</th>\n",
       "      <th>mean</th>\n",
       "      <th>var</th>\n",
       "      <th>std</th>\n",
       "    </tr>\n",
       "    <tr>\n",
       "      <th>tariff</th>\n",
       "      <th></th>\n",
       "      <th></th>\n",
       "      <th></th>\n",
       "      <th></th>\n",
       "    </tr>\n",
       "  </thead>\n",
       "  <tbody>\n",
       "    <tr>\n",
       "      <td>smart</td>\n",
       "      <td>422.0</td>\n",
       "      <td>418.686292</td>\n",
       "      <td>35969.739673</td>\n",
       "      <td>189.656900</td>\n",
       "    </tr>\n",
       "    <tr>\n",
       "      <td>ultra</td>\n",
       "      <td>525.0</td>\n",
       "      <td>542.031348</td>\n",
       "      <td>95467.737510</td>\n",
       "      <td>308.978539</td>\n",
       "    </tr>\n",
       "  </tbody>\n",
       "</table>\n",
       "</div>"
      ],
      "text/plain": [
       "       total_calls                                      \n",
       "            median        mean           var         std\n",
       "tariff                                                  \n",
       "smart        422.0  418.686292  35969.739673  189.656900\n",
       "ultra        525.0  542.031348  95467.737510  308.978539"
      ]
     },
     "execution_count": 63,
     "metadata": {},
     "output_type": "execute_result"
    }
   ],
   "source": [
    "data_t.groupby('tariff').agg({'total_calls':['median','mean','var','std']})"
   ]
  },
  {
   "cell_type": "code",
   "execution_count": 64,
   "metadata": {},
   "outputs": [
    {
     "data": {
      "text/plain": [
       "count    2225.000000\n",
       "mean      418.686292\n",
       "std       189.656900\n",
       "min         0.000000\n",
       "25%       284.000000\n",
       "50%       422.000000\n",
       "75%       545.000000\n",
       "max      1435.000000\n",
       "Name: total_calls, dtype: float64"
      ]
     },
     "execution_count": 64,
     "metadata": {},
     "output_type": "execute_result"
    }
   ],
   "source": [
    "data_t[data_t['tariff'] == 'smart']['total_calls'].describe()"
   ]
  },
  {
   "cell_type": "markdown",
   "metadata": {},
   "source": [
    "**Распределение звонков в минутах по тарифу смарт за месяц.**"
   ]
  },
  {
   "cell_type": "code",
   "execution_count": 65,
   "metadata": {},
   "outputs": [
    {
     "data": {
      "image/png": "[encoded data removed]",
      "text/plain": [
       "<Figure size 432x288 with 1 Axes>"
      ]
     },
     "metadata": {
      "needs_background": "light"
     },
     "output_type": "display_data"
    }
   ],
   "source": [
    "g_calls_smart = sns.distplot( a=data_t[data_t['tariff'] == 'smart']['total_calls'], hist=True, kde=True, bins = 100)\n",
    "g_calls_smart.set_xlabel('длительность звонков')\n",
    "g_calls_smart.set_title('Распределение звонков в минутах по тарифу смарт за месяц');"
   ]
  },
  {
   "cell_type": "markdown",
   "metadata": {},
   "source": [
    "Распределение звонков в минутах по тарифу смарт за месяц напоминает нормальное. Более 50% клиентов укладываются во включенные 500 минут разговоров в месяц и более 25% клиентов берут минуты разговора сверх тарифного плана."
   ]
  },
  {
   "cell_type": "markdown",
   "metadata": {},
   "source": [
    "**Распределение звонков в минутах по тарифу ультра за месяц.**"
   ]
  },
  {
   "cell_type": "code",
   "execution_count": 66,
   "metadata": {},
   "outputs": [
    {
     "data": {
      "text/plain": [
       "count     957.000000\n",
       "mean      542.031348\n",
       "std       308.978539\n",
       "min         0.000000\n",
       "25%       308.000000\n",
       "50%       525.000000\n",
       "75%       756.000000\n",
       "max      1673.000000\n",
       "Name: total_calls, dtype: float64"
      ]
     },
     "execution_count": 66,
     "metadata": {},
     "output_type": "execute_result"
    }
   ],
   "source": [
    "data_t[data_t['tariff'] == 'ultra']['total_calls'].describe()"
   ]
  },
  {
   "cell_type": "code",
   "execution_count": 67,
   "metadata": {},
   "outputs": [
    {
     "data": {
      "image/png": "[encoded data removed]",
      "text/plain": [
       "<Figure size 432x288 with 1 Axes>"
      ]
     },
     "metadata": {
      "needs_background": "light"
     },
     "output_type": "display_data"
    }
   ],
   "source": [
    "g_calls_ultra = sns.distplot( a=data_t[data_t['tariff'] == 'ultra']['total_calls'], hist=True, kde=True, bins = 100)\n",
    "g_calls_ultra.set_xlabel('длительность звонков')\n",
    "g_calls_ultra.set_title('Распределение звонков в минутах по тарифу ультра за месяц');"
   ]
  },
  {
   "cell_type": "markdown",
   "metadata": {},
   "source": [
    "Распределение звонков в минутах по тарифу ультра за месяц так же напоминает нормальное. Однако в отличие от тарифа смарт обращает на себя внимание пик на суммарной длительности разговора 0 минут за месяц, некоторые клиенты вообще не звонят по телефону за месяц. В тариф ультра включено 3000 минут разговора, и такое количество не выговаривал ни один клиент ни в одном из месяцев (максимальная длительность разговора составила 1673 минуты, почти в 2 раза меньше включенных в тариф минут). Согласно правилу 3 сигм с вероятностью 99,7% максимальная длительность звоноков за месяц составит 1468,7 минут. Ни один клиент данного тарифа не воспользовался минутами разговора сверх тарифного плана.\n"
   ]
  },
  {
   "cell_type": "markdown",
   "metadata": {},
   "source": [
    "**Вывод**\n",
    "Более 25% клиентов тарифа смарт пользовались сверхтарифиными минутами разговора. \n",
    "\n",
    "Клиенты тарифа ультра не использовали сверхтарифные минут и с большой вероятностью разговаривают меньше чем на половину от заложенных в тарифный план минут в месяц. \n",
    "\n",
    "В среднем клиенты тарифа ультра разговаривали на 100 минут в месяц больше."
   ]
  },
  {
   "cell_type": "markdown",
   "metadata": {},
   "source": [
    "###   Сколько сообщений требуется пользователям каждого тарифа в месяц"
   ]
  },
  {
   "cell_type": "code",
   "execution_count": 68,
   "metadata": {},
   "outputs": [
    {
     "data": {
      "text/html": [
       "<div>\n",
       "<style scoped>\n",
       "    .dataframe tbody tr th:only-of-type {\n",
       "        vertical-align: middle;\n",
       "    }\n",
       "\n",
       "    .dataframe tbody tr th {\n",
       "        vertical-align: top;\n",
       "    }\n",
       "\n",
       "    .dataframe thead tr th {\n",
       "        text-align: left;\n",
       "    }\n",
       "\n",
       "    .dataframe thead tr:last-of-type th {\n",
       "        text-align: right;\n",
       "    }\n",
       "</style>\n",
       "<table border=\"1\" class=\"dataframe\">\n",
       "  <thead>\n",
       "    <tr>\n",
       "      <th></th>\n",
       "      <th colspan=\"4\" halign=\"left\">count_messages</th>\n",
       "    </tr>\n",
       "    <tr>\n",
       "      <th></th>\n",
       "      <th>median</th>\n",
       "      <th>mean</th>\n",
       "      <th>var</th>\n",
       "      <th>std</th>\n",
       "    </tr>\n",
       "    <tr>\n",
       "      <th>tariff</th>\n",
       "      <th></th>\n",
       "      <th></th>\n",
       "      <th></th>\n",
       "      <th></th>\n",
       "    </tr>\n",
       "  </thead>\n",
       "  <tbody>\n",
       "    <tr>\n",
       "      <td>smart</td>\n",
       "      <td>28.0</td>\n",
       "      <td>33.366292</td>\n",
       "      <td>798.879709</td>\n",
       "      <td>28.264460</td>\n",
       "    </tr>\n",
       "    <tr>\n",
       "      <td>ultra</td>\n",
       "      <td>39.0</td>\n",
       "      <td>48.726228</td>\n",
       "      <td>2199.929154</td>\n",
       "      <td>46.903402</td>\n",
       "    </tr>\n",
       "  </tbody>\n",
       "</table>\n",
       "</div>"
      ],
      "text/plain": [
       "       count_messages                                   \n",
       "               median       mean          var        std\n",
       "tariff                                                  \n",
       "smart            28.0  33.366292   798.879709  28.264460\n",
       "ultra            39.0  48.726228  2199.929154  46.903402"
      ]
     },
     "execution_count": 68,
     "metadata": {},
     "output_type": "execute_result"
    }
   ],
   "source": [
    "data_t.groupby('tariff').agg({'count_messages':['median','mean','var','std']})"
   ]
  },
  {
   "cell_type": "code",
   "execution_count": 69,
   "metadata": {},
   "outputs": [
    {
     "data": {
      "text/plain": [
       "count    2225.000000\n",
       "mean       33.366292\n",
       "std        28.264460\n",
       "min         0.000000\n",
       "25%        10.000000\n",
       "50%        28.000000\n",
       "75%        51.000000\n",
       "max       143.000000\n",
       "Name: count_messages, dtype: float64"
      ]
     },
     "execution_count": 69,
     "metadata": {},
     "output_type": "execute_result"
    }
   ],
   "source": [
    "data_t[data_t['tariff'] == 'smart']['count_messages'].describe()"
   ]
  },
  {
   "cell_type": "code",
   "execution_count": 70,
   "metadata": {},
   "outputs": [
    {
     "data": {
      "image/png": "[encoded data removed]",
      "text/plain": [
       "<Figure size 432x288 with 1 Axes>"
      ]
     },
     "metadata": {
      "needs_background": "light"
     },
     "output_type": "display_data"
    }
   ],
   "source": [
    "g_messages_smart = sns.distplot( a=data_t[data_t['tariff'] == 'smart']['count_messages'], hist=True, kde=True, bins = 100)\n",
    "g_messages_smart.set_xlabel('количество сообщений')\n",
    "g_messages_smart.set_title('Распределение количества сообщений по тарифу смарт за месяц');"
   ]
  },
  {
   "cell_type": "markdown",
   "metadata": {},
   "source": [
    "Распределение количечества сообщений напоминает распределение Пуассона, с огромным скачком количества клиентов которые не отсылают сообщения. \n",
    "Практически 75% клиентов тарифа смарт укладываются в предусмотренные тарифом 50 сообщений и только оставшиеся 25% с небольшим процентов пользуются сообщениями сверх тарифа."
   ]
  },
  {
   "cell_type": "code",
   "execution_count": 71,
   "metadata": {},
   "outputs": [
    {
     "data": {
      "text/plain": [
       "count    957.000000\n",
       "mean      48.726228\n",
       "std       46.903402\n",
       "min        0.000000\n",
       "25%        5.000000\n",
       "50%       39.000000\n",
       "75%       79.000000\n",
       "max      224.000000\n",
       "Name: count_messages, dtype: float64"
      ]
     },
     "execution_count": 71,
     "metadata": {},
     "output_type": "execute_result"
    }
   ],
   "source": [
    "data_t[data_t['tariff'] == 'ultra']['count_messages'].describe()"
   ]
  },
  {
   "cell_type": "code",
   "execution_count": 72,
   "metadata": {},
   "outputs": [
    {
     "data": {
      "image/png": "[encoded data removed]",
      "text/plain": [
       "<Figure size 432x288 with 1 Axes>"
      ]
     },
     "metadata": {
      "needs_background": "light"
     },
     "output_type": "display_data"
    }
   ],
   "source": [
    "g_messages_ultra = sns.distplot( a=data_t[data_t['tariff'] == 'ultra']['count_messages'], hist=True, kde=True, bins = 100)\n",
    "g_messages_ultra.set_xlabel('количество сообщений')\n",
    "g_messages_ultra.set_title('Распределение количества сообщений по тарифу ультра за месяц');"
   ]
  },
  {
   "cell_type": "markdown",
   "metadata": {},
   "source": [
    "Распределение напоминает распределение Пуассона с огромным пиком на 0 сообщений в месяц. \n",
    "Все клиенты тарифа ультра не пользовались дополнительными сообщениями.\n",
    "75% клиентов отправляли не больше 79 сообщений. "
   ]
  },
  {
   "cell_type": "markdown",
   "metadata": {},
   "source": [
    "**Вывод**\n",
    "У части клиентов тарифов ультра и смарт вообще не было сообщений за месяц.\n",
    "75% клиентов тарифа смарт не пользуются дополнительными сообщениями.\n",
    "Все клиенты тарифа ультра не пользуются дополнительными сообщениями.\n",
    "В среднем количество сообщений тарифов смарт и ультра составило 33 и 48  сообщений (медиана не сильно отличалась от среднего 28 и 39), нужно отметить довольно большое стандартное отклонение и вариацию что проявлялось расширенным графиком частот количества сообщений.\n",
    "Можно сказать что сообщения не пользуются особой популярностью у клиентов обоих тарифов, вероятно из-за того что общение в мессенджерах вытесняет общение по смс. "
   ]
  },
  {
   "cell_type": "markdown",
   "metadata": {},
   "source": [
    "###  Какой объём интернет-трафика требуется пользователям каждого тарифа в месяц"
   ]
  },
  {
   "cell_type": "code",
   "execution_count": 73,
   "metadata": {},
   "outputs": [
    {
     "data": {
      "text/html": [
       "<div>\n",
       "<style scoped>\n",
       "    .dataframe tbody tr th:only-of-type {\n",
       "        vertical-align: middle;\n",
       "    }\n",
       "\n",
       "    .dataframe tbody tr th {\n",
       "        vertical-align: top;\n",
       "    }\n",
       "\n",
       "    .dataframe thead tr th {\n",
       "        text-align: left;\n",
       "    }\n",
       "\n",
       "    .dataframe thead tr:last-of-type th {\n",
       "        text-align: right;\n",
       "    }\n",
       "</style>\n",
       "<table border=\"1\" class=\"dataframe\">\n",
       "  <thead>\n",
       "    <tr>\n",
       "      <th></th>\n",
       "      <th colspan=\"4\" halign=\"left\">traffic</th>\n",
       "    </tr>\n",
       "    <tr>\n",
       "      <th></th>\n",
       "      <th>median</th>\n",
       "      <th>mean</th>\n",
       "      <th>var</th>\n",
       "      <th>std</th>\n",
       "    </tr>\n",
       "    <tr>\n",
       "      <th>tariff</th>\n",
       "      <th></th>\n",
       "      <th></th>\n",
       "      <th></th>\n",
       "      <th></th>\n",
       "    </tr>\n",
       "  </thead>\n",
       "  <tbody>\n",
       "    <tr>\n",
       "      <td>smart</td>\n",
       "      <td>17.0</td>\n",
       "      <td>16.315056</td>\n",
       "      <td>33.302224</td>\n",
       "      <td>5.770808</td>\n",
       "    </tr>\n",
       "    <tr>\n",
       "      <td>ultra</td>\n",
       "      <td>19.0</td>\n",
       "      <td>19.365726</td>\n",
       "      <td>99.575309</td>\n",
       "      <td>9.978743</td>\n",
       "    </tr>\n",
       "  </tbody>\n",
       "</table>\n",
       "</div>"
      ],
      "text/plain": [
       "       traffic                                \n",
       "        median       mean        var       std\n",
       "tariff                                        \n",
       "smart     17.0  16.315056  33.302224  5.770808\n",
       "ultra     19.0  19.365726  99.575309  9.978743"
      ]
     },
     "execution_count": 73,
     "metadata": {},
     "output_type": "execute_result"
    }
   ],
   "source": [
    "data_t.groupby('tariff').agg({'traffic':['median','mean','var','std']})"
   ]
  },
  {
   "cell_type": "code",
   "execution_count": 74,
   "metadata": {},
   "outputs": [
    {
     "data": {
      "text/plain": [
       "count    2225.000000\n",
       "mean       16.315056\n",
       "std         5.770808\n",
       "min         0.000000\n",
       "25%        13.000000\n",
       "50%        17.000000\n",
       "75%        20.000000\n",
       "max        38.000000\n",
       "Name: traffic, dtype: float64"
      ]
     },
     "execution_count": 74,
     "metadata": {},
     "output_type": "execute_result"
    }
   ],
   "source": [
    "data_t[data_t['tariff'] == 'smart']['traffic'].describe()"
   ]
  },
  {
   "cell_type": "code",
   "execution_count": 75,
   "metadata": {},
   "outputs": [
    {
     "data": {
      "image/png": "[encoded data removed]",
      "text/plain": [
       "<Figure size 432x288 with 1 Axes>"
      ]
     },
     "metadata": {
      "needs_background": "light"
     },
     "output_type": "display_data"
    }
   ],
   "source": [
    "g_messages_traffic = sns.distplot( a=data_t[data_t['tariff'] == 'smart']['traffic'], hist=True, kde=True, bins = 100)\n",
    "g_messages_traffic.set_xlabel('объем трафика, Гб')\n",
    "g_messages_traffic.set_title('Распределение потребленного объема трафика по тарифу смарт за месяц');"
   ]
  },
  {
   "cell_type": "markdown",
   "metadata": {},
   "source": [
    "В среднем клиенты тарифа ультра потребляют 17Гб трафика, что примечательно средняя и медиана расположены очень близко. Распределение объема потребленного трафика за месяц соответвует нормальному.\n",
    "\n",
    "Меньше 50% клиентов тарифа смарт укладываются во включенный тарифом объем интернет-трафика (15Гб). У 25% объем потребленного трафика за месяц больше 20 Гб."
   ]
  },
  {
   "cell_type": "code",
   "execution_count": 76,
   "metadata": {},
   "outputs": [
    {
     "data": {
      "text/plain": [
       "count    957.000000\n",
       "mean      19.365726\n",
       "std        9.978743\n",
       "min        0.000000\n",
       "25%       12.000000\n",
       "50%       19.000000\n",
       "75%       27.000000\n",
       "max       49.000000\n",
       "Name: traffic, dtype: float64"
      ]
     },
     "execution_count": 76,
     "metadata": {},
     "output_type": "execute_result"
    }
   ],
   "source": [
    "data_t[data_t['tariff'] == 'ultra']['traffic'].describe()"
   ]
  },
  {
   "cell_type": "code",
   "execution_count": 77,
   "metadata": {},
   "outputs": [
    {
     "data": {
      "image/png": "[encoded data removed]",
      "text/plain": [
       "<Figure size 432x288 with 1 Axes>"
      ]
     },
     "metadata": {
      "needs_background": "light"
     },
     "output_type": "display_data"
    }
   ],
   "source": [
    "g_messages_traffic = sns.distplot( a=data_t[data_t['tariff'] == 'ultra']['traffic'], hist=True, kde=True, bins = 100)\n",
    "g_messages_traffic.set_xlabel('объем трафика, Гб')\n",
    "g_messages_traffic.set_title('Распределение потребленного объема трафика по тарифу ультра за месяц');"
   ]
  },
  {
   "cell_type": "markdown",
   "metadata": {},
   "source": [
    "В среднем клиенты тарифа ультра потребляют 19Гб трафика, что примечательно средняя и медиана расположены очень близко. Распределение объема потребленного трафика клиентами тарифа ультраф соответвует нормальному.\n",
    "Больше 75% клиентов укладываются во включенный в тариф объем трафика (30 Гб). "
   ]
  },
  {
   "cell_type": "markdown",
   "metadata": {},
   "source": [
    "**Вывод**\n",
    "В среднем клиенты тарифов смарт и ультра потребляют сходное количество трафика в месяц 17Гб  и 19Гб соответственно. \n",
    "При этом большинство клиентов тарифа смарт используют дополнительный трафик, тогда как большинство клиентов тарифа ультра укладываются в выделенный тарифным планом объем трафика."
   ]
  },
  {
   "cell_type": "markdown",
   "metadata": {},
   "source": [
    "### вывод по поведению клиентов разных тарифов."
   ]
  },
  {
   "cell_type": "markdown",
   "metadata": {},
   "source": [
    "Клиенты тарифа смарт чаще клиентов тарифа ультра используют услуги сверхтарифного плана, для большинства из них это нормальное явление.\n",
    "Тогда как большинство клиентов тарифа ультра пользуется включенными в тариф услугами.\n",
    "\n",
    "На первый взгляд средняя выручка пользователей тарифов «Ультра» и «Смарт» различаются, но данную гипотезу нужно будет проверить при помощи статистических методов."
   ]
  },
  {
   "cell_type": "markdown",
   "metadata": {},
   "source": [
    "## Проверка гипотезы \"средняя выручка пользователей тарифов «Ультра» и «Смарт» различаются\". <a id='Hypothesis_testing_1'></a>"
   ]
  },
  {
   "cell_type": "markdown",
   "metadata": {},
   "source": [
    "Напишем функцию для удаления выбросов:"
   ]
  },
  {
   "cell_type": "code",
   "execution_count": 78,
   "metadata": {},
   "outputs": [],
   "source": [
    "def delete_outliers(df, column, graphic=0, x = 10, y = 10):\n",
    "    q1 = df[column].quantile(0.25)\n",
    "    q3 = df[column].quantile(0.75)\n",
    "    iqr = q3 - q1\n",
    "    iqr_test = (df[column] >= (q1 - 1.5 * iqr)) & (df[column] <= (q3 + 1.5 * iqr))\n",
    "    if graphic == 1:\n",
    "        return df.loc[iqr_test].boxplot([column], figsize=(x,y))\n",
    "    else:\n",
    "        return df.loc[iqr_test]"
   ]
  },
  {
   "cell_type": "markdown",
   "metadata": {},
   "source": [
    "Для проверки гипотезы о различии средней выручки у клиентов тарифов Ультра и Смарт будем использовать t-критерий Стьюдента для двух независимых выборок с помощью метода  scipy.stats.ttest_ind().\n",
    "\n",
    "**Сформулируем гипотезы:**\n",
    "\n",
    "- H0: средняя выручка пользователей тарифов «Ультра» и «Смарт» равна\n",
    "- H1: средняя выручка пользователей тарифов «Ультра» и «Смарт» различается"
   ]
  },
  {
   "cell_type": "code",
   "execution_count": 79,
   "metadata": {},
   "outputs": [],
   "source": [
    "ultra = data_t[data_t['tariff'] == 'ultra']\n",
    "smart = data_t[data_t['tariff'] == 'smart']"
   ]
  },
  {
   "cell_type": "code",
   "execution_count": 80,
   "metadata": {},
   "outputs": [],
   "source": [
    "smart = delete_outliers(smart, 'total_paid', 0)\n",
    "smart = smart['total_paid']"
   ]
  },
  {
   "cell_type": "code",
   "execution_count": 81,
   "metadata": {},
   "outputs": [],
   "source": [
    "ultra = delete_outliers(ultra, 'total_paid', 0)\n",
    "ultra = ultra['total_paid']"
   ]
  },
  {
   "cell_type": "code",
   "execution_count": 82,
   "metadata": {},
   "outputs": [
    {
     "name": "stdout",
     "output_type": "stream",
     "text": [
      "Отвергаем нулевую гипотезу\n"
     ]
    }
   ],
   "source": [
    "alpha = 0.05\n",
    "results = st.ttest_ind(ultra, smart)\n",
    "if (results.pvalue < alpha):\n",
    "    print(\"Отвергаем нулевую гипотезу\")\n",
    "else:\n",
    "    print(\"Не получилось отвергнуть нулевую гипотезу\")"
   ]
  },
  {
   "cell_type": "markdown",
   "metadata": {},
   "source": [
    "**Вывод** \n",
    "\n",
    "Разница между средними выборок не случайна, есть значимые различия средний значений между выручной от клиентов тарифа ульта и смарт (p<0,05)"
   ]
  },
  {
   "cell_type": "markdown",
   "metadata": {},
   "source": [
    "## Проверка гипотезы \"средняя выручка пользователей из Москвы отличается от выручки пользователей из других регионов\". <a id='Hypothesis_testing_2'></a>"
   ]
  },
  {
   "cell_type": "markdown",
   "metadata": {},
   "source": [
    "В этом случае снова идет речь о сравнении средних двух независимых генеральных совокупностей. \n",
    "\n",
    "В качестве метода сравнения будем использовать критерий Стьюдента."
   ]
  },
  {
   "cell_type": "markdown",
   "metadata": {},
   "source": [
    "**Сформулируем гипотезы:**\n",
    "- H0: средняя выручка пользователей из Москвы не отличается от средней выручки пользователей из других регионов\n",
    "- H1: средняя выручка пользователей из Москвы отличается от средней выручки пользователей из других регионов"
   ]
  },
  {
   "cell_type": "markdown",
   "metadata": {},
   "source": [
    "Посмотрим из каких городов клиенты компании мегалайн."
   ]
  },
  {
   "cell_type": "code",
   "execution_count": 83,
   "metadata": {},
   "outputs": [
    {
     "data": {
      "text/plain": [
       "array(['Краснодар', 'Москва', 'Стерлитамак', 'Новокузнецк',\n",
       "       'Набережные Челны', 'Ульяновск', 'Челябинск', 'Пермь', 'Тюмень',\n",
       "       'Самара', 'Санкт-Петербург', 'Иваново', 'Чебоксары', 'Омск', 'Уфа',\n",
       "       'Томск', 'Чита', 'Мурманск', 'Петрозаводск', 'Тверь',\n",
       "       'Екатеринбург', 'Махачкала', 'Вологда', 'Череповец', 'Ярославль',\n",
       "       'Сочи', 'Хабаровск', 'Ставрополь', 'Рязань', 'Улан-Удэ', 'Тула',\n",
       "       'Саратов', 'Ростов-на-Дону', 'Казань', 'Иркутск', 'Курск',\n",
       "       'Калуга', 'Якутск', 'Астрахань', 'Химки', 'Владикавказ',\n",
       "       'Волгоград', 'Саранск', 'Ижевск', 'Новосибирск', 'Брянск',\n",
       "       'Тольятти', 'Нижний Тагил', 'Орёл', 'Белгород', 'Воронеж',\n",
       "       'Волжский', 'Курган', 'Барнаул', 'Красноярск', 'Архангельск',\n",
       "       'Липецк', 'Кемерово', 'Киров', 'Сургут', 'Пенза', 'Магнитогорск',\n",
       "       'Нижний Новгород', 'Кострома', 'Владивосток', 'Тамбов', 'Балашиха',\n",
       "       'Севастополь', 'Калининград', 'Оренбург', 'Смоленск',\n",
       "       'Нижневартовск', 'Владимир', 'Новороссийск', 'Грозный', 'Подольск'],\n",
       "      dtype=object)"
      ]
     },
     "execution_count": 83,
     "metadata": {},
     "output_type": "execute_result"
    }
   ],
   "source": [
    "data_t['city'].unique()"
   ]
  },
  {
   "cell_type": "code",
   "execution_count": 84,
   "metadata": {},
   "outputs": [
    {
     "data": {
      "text/plain": [
       "76"
      ]
     },
     "execution_count": 84,
     "metadata": {},
     "output_type": "execute_result"
    }
   ],
   "source": [
    "len(data_t['city'].unique())"
   ]
  },
  {
   "cell_type": "markdown",
   "metadata": {},
   "source": [
    "Клиенты компании мегалайн из 76 регионов россии, в том числе Москвы. Добавим в нашу таблицу колонку регион, где укажем \"Москва\" или провинция для всех отличных от Москвы регионов."
   ]
  },
  {
   "cell_type": "code",
   "execution_count": 85,
   "metadata": {},
   "outputs": [],
   "source": [
    "data_t['region'] = np.where(data_t['city'] == 'Москва', 'Москва', 'Провинция')"
   ]
  },
  {
   "cell_type": "code",
   "execution_count": 86,
   "metadata": {},
   "outputs": [],
   "source": [
    "moscow = data_t[data_t['region'] == 'Москва']\n",
    "province = data_t[data_t['region'] == 'Провинция']"
   ]
  },
  {
   "cell_type": "markdown",
   "metadata": {},
   "source": [
    "Удалим выпадающие значения из массивов при помощи нашей функции."
   ]
  },
  {
   "cell_type": "code",
   "execution_count": 87,
   "metadata": {},
   "outputs": [],
   "source": [
    "moscow = delete_outliers(moscow, 'total_paid', 0)\n",
    "moscow = moscow['total_paid']\n",
    "province = delete_outliers(province, 'total_paid', 0)\n",
    "province = province['total_paid']"
   ]
  },
  {
   "cell_type": "code",
   "execution_count": 88,
   "metadata": {},
   "outputs": [
    {
     "name": "stdout",
     "output_type": "stream",
     "text": [
      "p-значение: 0.2324185702354845\n",
      "Не получилось отвергнуть нулевую гипотезу\n"
     ]
    }
   ],
   "source": [
    "results = st.ttest_ind(moscow, province)\n",
    "print(\"p-значение:\", results.pvalue)\n",
    "if (results.pvalue < alpha):\n",
    "    print(\"Отвергаем нулевую гипотезу\")\n",
    "else:\n",
    "    print(\"Не получилось отвергнуть нулевую гипотезу\")"
   ]
  },
  {
   "cell_type": "markdown",
   "metadata": {},
   "source": [
    "**Вывод:**\n",
    "Значимых отличий между средним доходом клиентов из Москвы и других регионов не обнаружено."
   ]
  },
  {
   "cell_type": "markdown",
   "metadata": {},
   "source": [
    "## Общий вывод. <a id='conclusion'></a>"
   ]
  },
  {
   "cell_type": "markdown",
   "metadata": {},
   "source": [
    "Тариф ультра приносит больше денег для компании мегалайн (средняя выручка тарифа смарт 1000 руб, тогда как средняя выручка тарифа ультра 2000), различия между средней выручкой клиентов разных тарифов достоверны.\n",
    "\n",
    "Клиенты компании мегалайн находятся в 76 регионах страны, при этом средняя доходность от клиентов из Москвы незначительно отличается от средней доходности от клиентов из других регионов.\n",
    "\n",
    "Клиенты тарифа смарт чаще пользуются услугами сверх тарифного плана. \n",
    "\n",
    "В среднем общая длительность разговора у клиентов тарифов смарт и ультра составила 400 и 500 минут. При этом клиенты тарифа смарт достаточно часто пользовались сверхтарифными минутами, тогда как клиенты тарифа ультра не выговаривали и половину лимита.\n",
    "\n",
    "СМС сообщения не пользуются особой популярностью среди клиентов тарифов, в среднем клиенты тарифов смарт и ультра отправляли по 30 и 40 сообщений в месяц. 75% клиентов тарифа смарт не пользовались услугой сверхлимитных смс, клиенты тарифа ультра использовали свой лимит на сообщения максимум на 20%. Вероятно такая низкая популярность смс связана с предпочтением клиентов пользоваться мессенджерами вместо смс сообщений.\n",
    "\n",
    "В среднем клиенты тарифов смарт и ультра потребляют сходное количество трафика в месяц 17Гб и 19Гб соответственно. Больше 50% клиентов тарифа смарт пользуются сверхтарифным трафиком. Тольк в потреблении интернет-трафика клиенты тарифа ультра пользовались сверхтарифными услугами и третий квартиль распределения потребленного трафика лежит около выделенного в условиях тарифа объема. Таким образом можно предположить что услуга мобильного интернета является наиболее востребованной для клиентов мегалайн.\n",
    "\n"
   ]
  },
  {
   "cell_type": "code",
   "execution_count": null,
   "metadata": {},
   "outputs": [],
   "source": []
  }
 ],
 "metadata": {
  "ExecuteTimeLog": [
   {
    "duration": 809,
    "start_time": "2022-01-20T12:56:47.245Z"
   },
   {
    "duration": 214,
    "start_time": "2022-01-20T12:58:55.457Z"
   },
   {
    "duration": 280,
    "start_time": "2022-01-20T12:59:47.120Z"
   },
   {
    "duration": 209,
    "start_time": "2022-01-20T13:00:09.429Z"
   },
   {
    "duration": 41,
    "start_time": "2022-01-20T13:02:00.942Z"
   },
   {
    "duration": 27,
    "start_time": "2022-01-20T13:03:50.978Z"
   },
   {
    "duration": 208,
    "start_time": "2022-01-20T13:07:30.072Z"
   },
   {
    "duration": 175,
    "start_time": "2022-01-20T13:07:48.215Z"
   },
   {
    "duration": 55,
    "start_time": "2022-01-20T13:10:02.034Z"
   },
   {
    "duration": 183,
    "start_time": "2022-01-20T13:13:01.642Z"
   },
   {
    "duration": 120,
    "start_time": "2022-01-20T13:13:49.440Z"
   },
   {
    "duration": 129,
    "start_time": "2022-01-20T13:14:19.573Z"
   },
   {
    "duration": 25,
    "start_time": "2022-01-20T13:14:35.199Z"
   },
   {
    "duration": 27,
    "start_time": "2022-01-20T13:16:30.445Z"
   },
   {
    "duration": 43,
    "start_time": "2022-01-20T13:22:17.079Z"
   },
   {
    "duration": 28,
    "start_time": "2022-01-20T13:28:27.356Z"
   },
   {
    "duration": 425,
    "start_time": "2022-01-20T13:48:55.657Z"
   },
   {
    "duration": 393,
    "start_time": "2022-01-20T13:50:01.764Z"
   },
   {
    "duration": 348,
    "start_time": "2022-01-20T13:51:56.338Z"
   },
   {
    "duration": 436,
    "start_time": "2022-01-20T13:52:47.135Z"
   },
   {
    "duration": 323,
    "start_time": "2022-01-20T13:59:23.938Z"
   },
   {
    "duration": 404,
    "start_time": "2022-01-20T13:59:35.785Z"
   },
   {
    "duration": 411,
    "start_time": "2022-01-20T14:01:44.743Z"
   },
   {
    "duration": 380,
    "start_time": "2022-01-20T14:04:48.979Z"
   },
   {
    "duration": 803,
    "start_time": "2022-01-20T14:05:24.834Z"
   },
   {
    "duration": 209,
    "start_time": "2022-01-20T14:05:25.639Z"
   },
   {
    "duration": 38,
    "start_time": "2022-01-20T14:05:25.851Z"
   },
   {
    "duration": 184,
    "start_time": "2022-01-20T14:05:25.892Z"
   },
   {
    "duration": 51,
    "start_time": "2022-01-20T14:05:26.078Z"
   },
   {
    "duration": 110,
    "start_time": "2022-01-20T14:05:26.131Z"
   },
   {
    "duration": 23,
    "start_time": "2022-01-20T14:05:26.243Z"
   },
   {
    "duration": 22,
    "start_time": "2022-01-20T14:05:26.269Z"
   },
   {
    "duration": 40,
    "start_time": "2022-01-20T14:05:26.294Z"
   },
   {
    "duration": 26,
    "start_time": "2022-01-20T14:05:26.336Z"
   },
   {
    "duration": 408,
    "start_time": "2022-01-20T14:05:29.343Z"
   },
   {
    "duration": 324,
    "start_time": "2022-01-20T14:05:44.200Z"
   },
   {
    "duration": 331,
    "start_time": "2022-01-20T14:08:54.353Z"
   },
   {
    "duration": 48,
    "start_time": "2022-01-20T14:20:17.971Z"
   },
   {
    "duration": 54,
    "start_time": "2022-01-20T14:20:36.488Z"
   },
   {
    "duration": 369,
    "start_time": "2022-01-20T14:21:20.381Z"
   },
   {
    "duration": 405,
    "start_time": "2022-01-20T14:21:52.046Z"
   },
   {
    "duration": 336,
    "start_time": "2022-01-20T14:22:07.314Z"
   },
   {
    "duration": 100,
    "start_time": "2022-01-20T14:22:18.947Z"
   },
   {
    "duration": 329,
    "start_time": "2022-01-20T14:22:24.301Z"
   },
   {
    "duration": 3876,
    "start_time": "2022-01-20T14:23:10.914Z"
   },
   {
    "duration": 4582,
    "start_time": "2022-01-20T14:23:48.506Z"
   },
   {
    "duration": 46,
    "start_time": "2022-01-20T14:24:12.701Z"
   },
   {
    "duration": 939,
    "start_time": "2022-01-20T18:21:48.965Z"
   },
   {
    "duration": 240,
    "start_time": "2022-01-20T18:21:49.907Z"
   },
   {
    "duration": 47,
    "start_time": "2022-01-20T18:21:50.151Z"
   },
   {
    "duration": 198,
    "start_time": "2022-01-20T18:21:50.201Z"
   },
   {
    "duration": 39,
    "start_time": "2022-01-20T18:21:50.401Z"
   },
   {
    "duration": 126,
    "start_time": "2022-01-20T18:21:50.442Z"
   },
   {
    "duration": 24,
    "start_time": "2022-01-20T18:21:50.571Z"
   },
   {
    "duration": 26,
    "start_time": "2022-01-20T18:21:50.598Z"
   },
   {
    "duration": 42,
    "start_time": "2022-01-20T18:21:50.629Z"
   },
   {
    "duration": 26,
    "start_time": "2022-01-20T18:21:50.674Z"
   },
   {
    "duration": 86,
    "start_time": "2022-01-20T18:21:50.703Z"
   },
   {
    "duration": 3004,
    "start_time": "2022-01-20T18:22:42.393Z"
   },
   {
    "duration": 19,
    "start_time": "2022-01-20T18:33:24.434Z"
   },
   {
    "duration": 22,
    "start_time": "2022-01-20T18:34:20.140Z"
   },
   {
    "duration": 23,
    "start_time": "2022-01-20T18:34:32.451Z"
   },
   {
    "duration": 13,
    "start_time": "2022-01-20T18:35:04.316Z"
   },
   {
    "duration": 246,
    "start_time": "2022-01-20T18:35:52.015Z"
   },
   {
    "duration": 887,
    "start_time": "2022-01-20T18:38:10.540Z"
   },
   {
    "duration": 217,
    "start_time": "2022-01-20T18:38:11.429Z"
   },
   {
    "duration": 49,
    "start_time": "2022-01-20T18:38:11.649Z"
   },
   {
    "duration": 175,
    "start_time": "2022-01-20T18:38:11.701Z"
   },
   {
    "duration": 40,
    "start_time": "2022-01-20T18:38:11.878Z"
   },
   {
    "duration": 131,
    "start_time": "2022-01-20T18:38:11.921Z"
   },
   {
    "duration": 28,
    "start_time": "2022-01-20T18:38:12.054Z"
   },
   {
    "duration": 27,
    "start_time": "2022-01-20T18:38:12.086Z"
   },
   {
    "duration": 46,
    "start_time": "2022-01-20T18:38:12.116Z"
   },
   {
    "duration": 26,
    "start_time": "2022-01-20T18:38:12.165Z"
   },
   {
    "duration": 24,
    "start_time": "2022-01-20T18:38:12.194Z"
   },
   {
    "duration": 49,
    "start_time": "2022-01-20T18:38:12.221Z"
   },
   {
    "duration": 15,
    "start_time": "2022-01-20T18:38:12.273Z"
   },
   {
    "duration": 764,
    "start_time": "2022-01-20T18:38:32.236Z"
   },
   {
    "duration": 215,
    "start_time": "2022-01-20T18:38:33.003Z"
   },
   {
    "duration": 53,
    "start_time": "2022-01-20T18:38:33.221Z"
   },
   {
    "duration": 171,
    "start_time": "2022-01-20T18:38:33.277Z"
   },
   {
    "duration": 49,
    "start_time": "2022-01-20T18:38:33.450Z"
   },
   {
    "duration": 119,
    "start_time": "2022-01-20T18:38:33.501Z"
   },
   {
    "duration": 25,
    "start_time": "2022-01-20T18:38:33.622Z"
   },
   {
    "duration": 30,
    "start_time": "2022-01-20T18:38:33.666Z"
   },
   {
    "duration": 85,
    "start_time": "2022-01-20T18:38:33.699Z"
   },
   {
    "duration": 25,
    "start_time": "2022-01-20T18:38:33.787Z"
   },
   {
    "duration": 26,
    "start_time": "2022-01-20T18:38:33.814Z"
   },
   {
    "duration": 38,
    "start_time": "2022-01-20T18:38:33.843Z"
   },
   {
    "duration": 16,
    "start_time": "2022-01-20T18:38:33.884Z"
   },
   {
    "duration": 901,
    "start_time": "2022-01-20T18:38:55.658Z"
   },
   {
    "duration": 220,
    "start_time": "2022-01-20T18:38:56.562Z"
   },
   {
    "duration": 42,
    "start_time": "2022-01-20T18:38:56.785Z"
   },
   {
    "duration": 205,
    "start_time": "2022-01-20T18:38:56.829Z"
   },
   {
    "duration": 58,
    "start_time": "2022-01-20T18:38:57.036Z"
   },
   {
    "duration": 128,
    "start_time": "2022-01-20T18:38:57.097Z"
   },
   {
    "duration": 39,
    "start_time": "2022-01-20T18:38:57.227Z"
   },
   {
    "duration": 32,
    "start_time": "2022-01-20T18:38:57.270Z"
   },
   {
    "duration": 48,
    "start_time": "2022-01-20T18:38:57.305Z"
   },
   {
    "duration": 36,
    "start_time": "2022-01-20T18:38:57.356Z"
   },
   {
    "duration": 26,
    "start_time": "2022-01-20T18:38:57.394Z"
   },
   {
    "duration": 47,
    "start_time": "2022-01-20T18:38:57.423Z"
   },
   {
    "duration": 19,
    "start_time": "2022-01-20T18:38:57.473Z"
   },
   {
    "duration": 65,
    "start_time": "2022-01-20T18:38:59.947Z"
   },
   {
    "duration": 724,
    "start_time": "2022-01-20T18:40:16.214Z"
   },
   {
    "duration": 232,
    "start_time": "2022-01-20T18:40:16.941Z"
   },
   {
    "duration": 41,
    "start_time": "2022-01-20T18:40:17.177Z"
   },
   {
    "duration": 208,
    "start_time": "2022-01-20T18:40:17.222Z"
   },
   {
    "duration": 60,
    "start_time": "2022-01-20T18:40:17.433Z"
   },
   {
    "duration": 131,
    "start_time": "2022-01-20T18:40:17.497Z"
   },
   {
    "duration": 38,
    "start_time": "2022-01-20T18:40:17.632Z"
   },
   {
    "duration": 27,
    "start_time": "2022-01-20T18:40:17.674Z"
   },
   {
    "duration": 46,
    "start_time": "2022-01-20T18:40:17.704Z"
   },
   {
    "duration": 29,
    "start_time": "2022-01-20T18:40:17.752Z"
   },
   {
    "duration": 21,
    "start_time": "2022-01-20T18:40:17.783Z"
   },
   {
    "duration": 53,
    "start_time": "2022-01-20T18:40:17.806Z"
   },
   {
    "duration": 19,
    "start_time": "2022-01-20T18:40:17.862Z"
   },
   {
    "duration": 430,
    "start_time": "2022-01-20T18:40:17.884Z"
   },
   {
    "duration": 78,
    "start_time": "2022-01-20T18:40:30.510Z"
   },
   {
    "duration": 316,
    "start_time": "2022-01-20T18:40:49.167Z"
   },
   {
    "duration": 768,
    "start_time": "2022-01-20T18:41:01.344Z"
   },
   {
    "duration": 216,
    "start_time": "2022-01-20T18:41:02.115Z"
   },
   {
    "duration": 54,
    "start_time": "2022-01-20T18:41:02.334Z"
   },
   {
    "duration": 178,
    "start_time": "2022-01-20T18:41:02.391Z"
   },
   {
    "duration": 40,
    "start_time": "2022-01-20T18:41:02.571Z"
   },
   {
    "duration": 126,
    "start_time": "2022-01-20T18:41:02.614Z"
   },
   {
    "duration": 34,
    "start_time": "2022-01-20T18:41:02.743Z"
   },
   {
    "duration": 26,
    "start_time": "2022-01-20T18:41:02.781Z"
   },
   {
    "duration": 49,
    "start_time": "2022-01-20T18:41:02.809Z"
   },
   {
    "duration": 54,
    "start_time": "2022-01-20T18:41:02.860Z"
   },
   {
    "duration": 48,
    "start_time": "2022-01-20T18:41:02.917Z"
   },
   {
    "duration": 21,
    "start_time": "2022-01-20T18:41:02.968Z"
   },
   {
    "duration": 16,
    "start_time": "2022-01-20T18:41:02.991Z"
   },
   {
    "duration": 90,
    "start_time": "2022-01-20T18:41:03.009Z"
   },
   {
    "duration": 699,
    "start_time": "2022-01-20T18:42:28.887Z"
   },
   {
    "duration": 215,
    "start_time": "2022-01-20T18:42:29.589Z"
   },
   {
    "duration": 41,
    "start_time": "2022-01-20T18:42:29.806Z"
   },
   {
    "duration": 174,
    "start_time": "2022-01-20T18:42:29.866Z"
   },
   {
    "duration": 51,
    "start_time": "2022-01-20T18:42:30.043Z"
   },
   {
    "duration": 129,
    "start_time": "2022-01-20T18:42:30.096Z"
   },
   {
    "duration": 39,
    "start_time": "2022-01-20T18:42:30.228Z"
   },
   {
    "duration": 28,
    "start_time": "2022-01-20T18:42:30.271Z"
   },
   {
    "duration": 50,
    "start_time": "2022-01-20T18:42:30.302Z"
   },
   {
    "duration": 54,
    "start_time": "2022-01-20T18:42:30.355Z"
   },
   {
    "duration": 33,
    "start_time": "2022-01-20T18:42:30.412Z"
   },
   {
    "duration": 20,
    "start_time": "2022-01-20T18:42:30.448Z"
   },
   {
    "duration": 22,
    "start_time": "2022-01-20T18:42:30.471Z"
   },
   {
    "duration": 410,
    "start_time": "2022-01-20T18:42:30.496Z"
   },
   {
    "duration": 527,
    "start_time": "2022-01-20T18:42:30.382Z"
   },
   {
    "duration": 363,
    "start_time": "2022-01-21T06:47:15.594Z"
   },
   {
    "duration": 581,
    "start_time": "2022-01-21T06:47:30.515Z"
   },
   {
    "duration": 162,
    "start_time": "2022-01-21T06:47:31.098Z"
   },
   {
    "duration": 36,
    "start_time": "2022-01-21T06:47:31.262Z"
   },
   {
    "duration": 129,
    "start_time": "2022-01-21T06:47:31.300Z"
   },
   {
    "duration": 29,
    "start_time": "2022-01-21T06:47:31.431Z"
   },
   {
    "duration": 120,
    "start_time": "2022-01-21T06:47:31.462Z"
   },
   {
    "duration": 15,
    "start_time": "2022-01-21T06:47:31.583Z"
   },
   {
    "duration": 39,
    "start_time": "2022-01-21T06:47:31.601Z"
   },
   {
    "duration": 49,
    "start_time": "2022-01-21T06:47:31.641Z"
   },
   {
    "duration": 17,
    "start_time": "2022-01-21T06:47:31.692Z"
   },
   {
    "duration": 7,
    "start_time": "2022-01-21T06:47:31.710Z"
   },
   {
    "duration": 277,
    "start_time": "2022-01-21T06:53:12.426Z"
   },
   {
    "duration": 6,
    "start_time": "2022-01-21T06:53:19.635Z"
   },
   {
    "duration": 941,
    "start_time": "2022-01-21T06:53:45.099Z"
   },
   {
    "duration": 5,
    "start_time": "2022-01-21T06:54:17.032Z"
   },
   {
    "duration": 7,
    "start_time": "2022-01-21T06:54:28.364Z"
   },
   {
    "duration": 4,
    "start_time": "2022-01-21T06:58:13.541Z"
   },
   {
    "duration": 5,
    "start_time": "2022-01-21T06:58:35.572Z"
   },
   {
    "duration": 575,
    "start_time": "2022-01-21T06:58:54.525Z"
   },
   {
    "duration": 165,
    "start_time": "2022-01-21T06:58:55.102Z"
   },
   {
    "duration": 32,
    "start_time": "2022-01-21T06:58:55.269Z"
   },
   {
    "duration": 136,
    "start_time": "2022-01-21T06:58:55.302Z"
   },
   {
    "duration": 31,
    "start_time": "2022-01-21T06:58:55.440Z"
   },
   {
    "duration": 101,
    "start_time": "2022-01-21T06:58:55.473Z"
   },
   {
    "duration": 23,
    "start_time": "2022-01-21T06:58:55.576Z"
   },
   {
    "duration": 22,
    "start_time": "2022-01-21T06:58:55.602Z"
   },
   {
    "duration": 40,
    "start_time": "2022-01-21T06:58:55.626Z"
   },
   {
    "duration": 21,
    "start_time": "2022-01-21T06:58:55.668Z"
   },
   {
    "duration": 12,
    "start_time": "2022-01-21T06:58:55.690Z"
   },
   {
    "duration": 24,
    "start_time": "2022-01-21T06:58:55.704Z"
   },
   {
    "duration": 17,
    "start_time": "2022-01-21T06:58:55.729Z"
   },
   {
    "duration": 22,
    "start_time": "2022-01-21T06:58:55.747Z"
   },
   {
    "duration": 23,
    "start_time": "2022-01-21T06:58:55.771Z"
   },
   {
    "duration": 5,
    "start_time": "2022-01-21T07:00:08.458Z"
   },
   {
    "duration": 265,
    "start_time": "2022-01-21T07:01:44.596Z"
   },
   {
    "duration": 282,
    "start_time": "2022-01-21T07:01:51.003Z"
   },
   {
    "duration": 4,
    "start_time": "2022-01-21T07:01:55.008Z"
   },
   {
    "duration": 6,
    "start_time": "2022-01-21T07:02:07.317Z"
   },
   {
    "duration": 84,
    "start_time": "2022-01-21T07:06:38.064Z"
   },
   {
    "duration": 4,
    "start_time": "2022-01-21T07:07:00.940Z"
   },
   {
    "duration": 7,
    "start_time": "2022-01-21T07:07:06.402Z"
   },
   {
    "duration": 6,
    "start_time": "2022-01-21T07:08:06.142Z"
   },
   {
    "duration": 6,
    "start_time": "2022-01-21T07:08:55.740Z"
   },
   {
    "duration": 8,
    "start_time": "2022-01-21T07:08:58.556Z"
   },
   {
    "duration": 23,
    "start_time": "2022-01-21T07:13:22.471Z"
   },
   {
    "duration": 61,
    "start_time": "2022-01-21T07:14:34.670Z"
   },
   {
    "duration": 12,
    "start_time": "2022-01-21T07:15:07.946Z"
   },
   {
    "duration": 5416,
    "start_time": "2022-01-21T07:19:47.325Z"
   },
   {
    "duration": -97,
    "start_time": "2022-01-21T07:20:26.021Z"
   },
   {
    "duration": 32,
    "start_time": "2022-01-21T07:20:32.268Z"
   },
   {
    "duration": 15,
    "start_time": "2022-01-21T07:20:41.165Z"
   },
   {
    "duration": 3,
    "start_time": "2022-01-21T07:21:50.311Z"
   },
   {
    "duration": 15,
    "start_time": "2022-01-21T07:21:52.867Z"
   },
   {
    "duration": 5864,
    "start_time": "2022-01-21T07:23:37.520Z"
   },
   {
    "duration": -85,
    "start_time": "2022-01-21T07:23:43.471Z"
   },
   {
    "duration": 5,
    "start_time": "2022-01-21T07:24:04.662Z"
   },
   {
    "duration": 5,
    "start_time": "2022-01-21T07:24:06.826Z"
   },
   {
    "duration": 14,
    "start_time": "2022-01-21T07:24:08.652Z"
   },
   {
    "duration": 17,
    "start_time": "2022-01-21T07:49:09.002Z"
   },
   {
    "duration": 4,
    "start_time": "2022-01-21T07:50:26.961Z"
   },
   {
    "duration": 17,
    "start_time": "2022-01-21T07:50:31.843Z"
   },
   {
    "duration": 7,
    "start_time": "2022-01-21T07:51:30.986Z"
   },
   {
    "duration": 18,
    "start_time": "2022-01-21T07:51:32.433Z"
   },
   {
    "duration": 22,
    "start_time": "2022-01-21T07:52:03.317Z"
   },
   {
    "duration": 14,
    "start_time": "2022-01-21T07:52:04.374Z"
   },
   {
    "duration": 5,
    "start_time": "2022-01-21T07:55:05.625Z"
   },
   {
    "duration": 13,
    "start_time": "2022-01-21T07:55:10.622Z"
   },
   {
    "duration": 10,
    "start_time": "2022-01-21T07:55:30.017Z"
   },
   {
    "duration": 6037,
    "start_time": "2022-01-21T07:56:22.131Z"
   },
   {
    "duration": 3,
    "start_time": "2022-01-21T07:56:49.534Z"
   },
   {
    "duration": 560,
    "start_time": "2022-01-21T07:57:31.229Z"
   },
   {
    "duration": 167,
    "start_time": "2022-01-21T07:57:31.791Z"
   },
   {
    "duration": 39,
    "start_time": "2022-01-21T07:57:31.960Z"
   },
   {
    "duration": 137,
    "start_time": "2022-01-21T07:57:32.001Z"
   },
   {
    "duration": 30,
    "start_time": "2022-01-21T07:57:32.140Z"
   },
   {
    "duration": 95,
    "start_time": "2022-01-21T07:57:32.171Z"
   },
   {
    "duration": 17,
    "start_time": "2022-01-21T07:57:32.267Z"
   },
   {
    "duration": 21,
    "start_time": "2022-01-21T07:57:32.299Z"
   },
   {
    "duration": 37,
    "start_time": "2022-01-21T07:57:32.322Z"
   },
   {
    "duration": 17,
    "start_time": "2022-01-21T07:57:32.361Z"
   },
   {
    "duration": 10,
    "start_time": "2022-01-21T07:57:32.380Z"
   },
   {
    "duration": 8,
    "start_time": "2022-01-21T07:57:32.392Z"
   },
   {
    "duration": 9,
    "start_time": "2022-01-21T07:57:32.402Z"
   },
   {
    "duration": 8,
    "start_time": "2022-01-21T07:57:32.413Z"
   },
   {
    "duration": 6,
    "start_time": "2022-01-21T07:57:32.423Z"
   },
   {
    "duration": 8,
    "start_time": "2022-01-21T07:57:32.430Z"
   },
   {
    "duration": 23,
    "start_time": "2022-01-21T07:57:32.440Z"
   },
   {
    "duration": 13,
    "start_time": "2022-01-21T07:57:32.465Z"
   },
   {
    "duration": 47,
    "start_time": "2022-01-21T07:57:32.480Z"
   },
   {
    "duration": 4,
    "start_time": "2022-01-21T07:57:32.529Z"
   },
   {
    "duration": 9,
    "start_time": "2022-01-21T07:57:32.535Z"
   },
   {
    "duration": 23,
    "start_time": "2022-01-21T07:57:32.545Z"
   },
   {
    "duration": 3,
    "start_time": "2022-01-21T07:57:32.571Z"
   },
   {
    "duration": 45,
    "start_time": "2022-01-21T07:57:32.575Z"
   },
   {
    "duration": 5,
    "start_time": "2022-01-21T07:57:32.622Z"
   },
   {
    "duration": 15,
    "start_time": "2022-01-21T07:59:35.929Z"
   },
   {
    "duration": 4,
    "start_time": "2022-01-21T08:00:32.735Z"
   },
   {
    "duration": 16,
    "start_time": "2022-01-21T08:00:39.610Z"
   },
   {
    "duration": 20,
    "start_time": "2022-01-21T08:01:37.030Z"
   },
   {
    "duration": 11,
    "start_time": "2022-01-21T08:01:40.042Z"
   },
   {
    "duration": 567,
    "start_time": "2022-01-21T08:09:27.522Z"
   },
   {
    "duration": 163,
    "start_time": "2022-01-21T08:09:28.091Z"
   },
   {
    "duration": 30,
    "start_time": "2022-01-21T08:09:28.256Z"
   },
   {
    "duration": 146,
    "start_time": "2022-01-21T08:09:28.287Z"
   },
   {
    "duration": 32,
    "start_time": "2022-01-21T08:09:28.434Z"
   },
   {
    "duration": 92,
    "start_time": "2022-01-21T08:09:28.467Z"
   },
   {
    "duration": 16,
    "start_time": "2022-01-21T08:09:28.561Z"
   },
   {
    "duration": 25,
    "start_time": "2022-01-21T08:09:28.579Z"
   },
   {
    "duration": 37,
    "start_time": "2022-01-21T08:09:28.607Z"
   },
   {
    "duration": 18,
    "start_time": "2022-01-21T08:09:28.646Z"
   },
   {
    "duration": 10,
    "start_time": "2022-01-21T08:09:28.665Z"
   },
   {
    "duration": 8,
    "start_time": "2022-01-21T08:09:28.677Z"
   },
   {
    "duration": 5,
    "start_time": "2022-01-21T08:09:28.687Z"
   },
   {
    "duration": 3,
    "start_time": "2022-01-21T08:09:28.698Z"
   },
   {
    "duration": 23,
    "start_time": "2022-01-21T08:09:28.702Z"
   },
   {
    "duration": 30,
    "start_time": "2022-01-21T08:09:28.727Z"
   },
   {
    "duration": 3,
    "start_time": "2022-01-21T08:09:28.759Z"
   },
   {
    "duration": 7,
    "start_time": "2022-01-21T08:09:28.764Z"
   },
   {
    "duration": 39,
    "start_time": "2022-01-21T08:09:28.772Z"
   },
   {
    "duration": 4,
    "start_time": "2022-01-21T08:09:28.812Z"
   },
   {
    "duration": 27,
    "start_time": "2022-01-21T08:09:28.817Z"
   },
   {
    "duration": 4,
    "start_time": "2022-01-21T08:09:28.845Z"
   },
   {
    "duration": 14,
    "start_time": "2022-01-21T08:09:28.852Z"
   },
   {
    "duration": 31,
    "start_time": "2022-01-21T08:09:28.867Z"
   },
   {
    "duration": 21,
    "start_time": "2022-01-21T08:09:28.900Z"
   },
   {
    "duration": 11,
    "start_time": "2022-01-21T08:09:28.922Z"
   },
   {
    "duration": 8,
    "start_time": "2022-01-21T08:10:24.971Z"
   },
   {
    "duration": 54,
    "start_time": "2022-01-21T09:44:01.181Z"
   },
   {
    "duration": 16,
    "start_time": "2022-01-21T09:44:07.435Z"
   },
   {
    "duration": 11,
    "start_time": "2022-01-21T09:44:45.615Z"
   },
   {
    "duration": 21,
    "start_time": "2022-01-21T09:46:49.123Z"
   },
   {
    "duration": 54,
    "start_time": "2022-01-21T09:46:57.752Z"
   },
   {
    "duration": 15,
    "start_time": "2022-01-21T09:47:46.777Z"
   },
   {
    "duration": 8,
    "start_time": "2022-01-21T09:48:00.833Z"
   },
   {
    "duration": 3,
    "start_time": "2022-01-21T10:12:28.877Z"
   },
   {
    "duration": 362,
    "start_time": "2022-01-21T10:13:03.645Z"
   },
   {
    "duration": 911,
    "start_time": "2022-01-21T10:13:44.899Z"
   },
   {
    "duration": 327,
    "start_time": "2022-01-21T10:13:45.813Z"
   },
   {
    "duration": 655,
    "start_time": "2022-01-21T10:13:45.489Z"
   },
   {
    "duration": 649,
    "start_time": "2022-01-21T10:13:45.496Z"
   },
   {
    "duration": 635,
    "start_time": "2022-01-21T10:13:45.511Z"
   },
   {
    "duration": 629,
    "start_time": "2022-01-21T10:13:45.519Z"
   },
   {
    "duration": 624,
    "start_time": "2022-01-21T10:13:45.526Z"
   },
   {
    "duration": 621,
    "start_time": "2022-01-21T10:13:45.530Z"
   },
   {
    "duration": 616,
    "start_time": "2022-01-21T10:13:45.537Z"
   },
   {
    "duration": 613,
    "start_time": "2022-01-21T10:13:45.541Z"
   },
   {
    "duration": 610,
    "start_time": "2022-01-21T10:13:45.546Z"
   },
   {
    "duration": 605,
    "start_time": "2022-01-21T10:13:45.552Z"
   },
   {
    "duration": 601,
    "start_time": "2022-01-21T10:13:45.558Z"
   },
   {
    "duration": 590,
    "start_time": "2022-01-21T10:13:45.570Z"
   },
   {
    "duration": 586,
    "start_time": "2022-01-21T10:13:45.576Z"
   },
   {
    "duration": 577,
    "start_time": "2022-01-21T10:13:45.586Z"
   },
   {
    "duration": 572,
    "start_time": "2022-01-21T10:13:45.593Z"
   },
   {
    "duration": 569,
    "start_time": "2022-01-21T10:13:45.598Z"
   },
   {
    "duration": 563,
    "start_time": "2022-01-21T10:13:45.605Z"
   },
   {
    "duration": 548,
    "start_time": "2022-01-21T10:13:45.622Z"
   },
   {
    "duration": 543,
    "start_time": "2022-01-21T10:13:45.628Z"
   },
   {
    "duration": 539,
    "start_time": "2022-01-21T10:13:45.634Z"
   },
   {
    "duration": 535,
    "start_time": "2022-01-21T10:13:45.639Z"
   },
   {
    "duration": 533,
    "start_time": "2022-01-21T10:13:45.643Z"
   },
   {
    "duration": 530,
    "start_time": "2022-01-21T10:13:45.648Z"
   },
   {
    "duration": 527,
    "start_time": "2022-01-21T10:13:45.653Z"
   },
   {
    "duration": 524,
    "start_time": "2022-01-21T10:13:45.658Z"
   },
   {
    "duration": 536,
    "start_time": "2022-01-21T10:13:45.662Z"
   },
   {
    "duration": 534,
    "start_time": "2022-01-21T10:13:45.667Z"
   },
   {
    "duration": 531,
    "start_time": "2022-01-21T10:13:45.671Z"
   },
   {
    "duration": 529,
    "start_time": "2022-01-21T10:13:45.675Z"
   },
   {
    "duration": 655,
    "start_time": "2022-01-21T10:14:16.538Z"
   },
   {
    "duration": 194,
    "start_time": "2022-01-21T10:14:17.195Z"
   },
   {
    "duration": 31,
    "start_time": "2022-01-21T10:14:17.392Z"
   },
   {
    "duration": 160,
    "start_time": "2022-01-21T10:14:17.425Z"
   },
   {
    "duration": 38,
    "start_time": "2022-01-21T10:14:17.587Z"
   },
   {
    "duration": 109,
    "start_time": "2022-01-21T10:14:17.627Z"
   },
   {
    "duration": 25,
    "start_time": "2022-01-21T10:14:17.739Z"
   },
   {
    "duration": 40,
    "start_time": "2022-01-21T10:14:17.768Z"
   },
   {
    "duration": 52,
    "start_time": "2022-01-21T10:14:17.810Z"
   },
   {
    "duration": 22,
    "start_time": "2022-01-21T10:14:17.864Z"
   },
   {
    "duration": 12,
    "start_time": "2022-01-21T10:14:17.888Z"
   },
   {
    "duration": 16,
    "start_time": "2022-01-21T10:14:17.902Z"
   },
   {
    "duration": 8,
    "start_time": "2022-01-21T10:14:17.921Z"
   },
   {
    "duration": 8,
    "start_time": "2022-01-21T10:14:17.932Z"
   },
   {
    "duration": 13,
    "start_time": "2022-01-21T10:14:17.941Z"
   },
   {
    "duration": 20,
    "start_time": "2022-01-21T10:14:17.956Z"
   },
   {
    "duration": 33,
    "start_time": "2022-01-21T10:14:17.978Z"
   },
   {
    "duration": 26,
    "start_time": "2022-01-21T10:14:18.013Z"
   },
   {
    "duration": 65,
    "start_time": "2022-01-21T10:14:18.041Z"
   },
   {
    "duration": 5,
    "start_time": "2022-01-21T10:14:18.108Z"
   },
   {
    "duration": 46,
    "start_time": "2022-01-21T10:14:18.115Z"
   },
   {
    "duration": 8,
    "start_time": "2022-01-21T10:14:18.162Z"
   },
   {
    "duration": 312,
    "start_time": "2022-01-21T10:14:18.174Z"
   },
   {
    "duration": 664,
    "start_time": "2022-01-21T10:14:17.824Z"
   },
   {
    "duration": 654,
    "start_time": "2022-01-21T10:14:17.836Z"
   },
   {
    "duration": 649,
    "start_time": "2022-01-21T10:14:17.842Z"
   },
   {
    "duration": 645,
    "start_time": "2022-01-21T10:14:17.847Z"
   },
   {
    "duration": 640,
    "start_time": "2022-01-21T10:14:17.853Z"
   },
   {
    "duration": 636,
    "start_time": "2022-01-21T10:14:17.858Z"
   },
   {
    "duration": 633,
    "start_time": "2022-01-21T10:14:17.862Z"
   },
   {
    "duration": 629,
    "start_time": "2022-01-21T10:14:17.867Z"
   },
   {
    "duration": 16,
    "start_time": "2022-01-21T10:14:36.595Z"
   },
   {
    "duration": 12,
    "start_time": "2022-01-21T10:15:07.035Z"
   },
   {
    "duration": 10,
    "start_time": "2022-01-21T10:15:18.010Z"
   },
   {
    "duration": 2018,
    "start_time": "2022-01-21T10:16:29.947Z"
   },
   {
    "duration": 254,
    "start_time": "2022-01-21T10:18:09.880Z"
   },
   {
    "duration": 2,
    "start_time": "2022-01-21T10:19:31.505Z"
   },
   {
    "duration": 7,
    "start_time": "2022-01-21T10:19:38.544Z"
   },
   {
    "duration": 257,
    "start_time": "2022-01-21T10:19:51.698Z"
   },
   {
    "duration": 653,
    "start_time": "2022-01-21T10:19:55.173Z"
   },
   {
    "duration": 205,
    "start_time": "2022-01-21T10:19:55.828Z"
   },
   {
    "duration": 40,
    "start_time": "2022-01-21T10:19:56.036Z"
   },
   {
    "duration": 169,
    "start_time": "2022-01-21T10:19:56.078Z"
   },
   {
    "duration": 50,
    "start_time": "2022-01-21T10:19:56.249Z"
   },
   {
    "duration": 125,
    "start_time": "2022-01-21T10:19:56.302Z"
   },
   {
    "duration": 26,
    "start_time": "2022-01-21T10:19:56.430Z"
   },
   {
    "duration": 25,
    "start_time": "2022-01-21T10:19:56.460Z"
   },
   {
    "duration": 73,
    "start_time": "2022-01-21T10:19:56.487Z"
   },
   {
    "duration": 23,
    "start_time": "2022-01-21T10:19:56.562Z"
   },
   {
    "duration": 8,
    "start_time": "2022-01-21T10:19:56.587Z"
   },
   {
    "duration": 12,
    "start_time": "2022-01-21T10:19:56.597Z"
   },
   {
    "duration": 10,
    "start_time": "2022-01-21T10:19:56.611Z"
   },
   {
    "duration": 10,
    "start_time": "2022-01-21T10:19:56.623Z"
   },
   {
    "duration": 11,
    "start_time": "2022-01-21T10:19:56.636Z"
   },
   {
    "duration": 22,
    "start_time": "2022-01-21T10:19:56.649Z"
   },
   {
    "duration": 17,
    "start_time": "2022-01-21T10:19:56.699Z"
   },
   {
    "duration": 38,
    "start_time": "2022-01-21T10:19:56.718Z"
   },
   {
    "duration": 72,
    "start_time": "2022-01-21T10:19:56.759Z"
   },
   {
    "duration": 4,
    "start_time": "2022-01-21T10:19:56.834Z"
   },
   {
    "duration": 38,
    "start_time": "2022-01-21T10:19:56.840Z"
   },
   {
    "duration": 24,
    "start_time": "2022-01-21T10:19:56.881Z"
   },
   {
    "duration": 6,
    "start_time": "2022-01-21T10:19:56.910Z"
   },
   {
    "duration": 13,
    "start_time": "2022-01-21T10:19:56.918Z"
   },
   {
    "duration": 22,
    "start_time": "2022-01-21T10:19:56.933Z"
   },
   {
    "duration": 41,
    "start_time": "2022-01-21T10:19:56.958Z"
   },
   {
    "duration": 27,
    "start_time": "2022-01-21T10:19:57.001Z"
   },
   {
    "duration": 4,
    "start_time": "2022-01-21T10:19:57.030Z"
   },
   {
    "duration": 16,
    "start_time": "2022-01-21T10:19:57.037Z"
   },
   {
    "duration": 3,
    "start_time": "2022-01-21T10:19:57.056Z"
   },
   {
    "duration": 62,
    "start_time": "2022-01-21T10:19:57.061Z"
   },
   {
    "duration": 17,
    "start_time": "2022-01-21T10:19:57.125Z"
   },
   {
    "duration": 6,
    "start_time": "2022-01-21T10:20:55.653Z"
   },
   {
    "duration": 18,
    "start_time": "2022-01-21T10:21:10.012Z"
   },
   {
    "duration": 28,
    "start_time": "2022-01-21T10:36:14.851Z"
   },
   {
    "duration": 49,
    "start_time": "2022-01-21T10:36:38.144Z"
   },
   {
    "duration": 8,
    "start_time": "2022-01-21T10:36:40.324Z"
   },
   {
    "duration": 9,
    "start_time": "2022-01-21T10:41:25.807Z"
   },
   {
    "duration": 11,
    "start_time": "2022-01-21T10:41:34.661Z"
   },
   {
    "duration": 20,
    "start_time": "2022-01-21T10:45:01.669Z"
   },
   {
    "duration": 44,
    "start_time": "2022-01-21T11:05:07.841Z"
   },
   {
    "duration": 46,
    "start_time": "2022-01-21T11:06:05.852Z"
   },
   {
    "duration": 617,
    "start_time": "2022-01-21T11:06:20.813Z"
   },
   {
    "duration": 179,
    "start_time": "2022-01-21T11:06:21.432Z"
   },
   {
    "duration": 32,
    "start_time": "2022-01-21T11:06:21.613Z"
   },
   {
    "duration": 151,
    "start_time": "2022-01-21T11:06:21.647Z"
   },
   {
    "duration": 30,
    "start_time": "2022-01-21T11:06:21.800Z"
   },
   {
    "duration": 95,
    "start_time": "2022-01-21T11:06:21.832Z"
   },
   {
    "duration": 18,
    "start_time": "2022-01-21T11:06:21.928Z"
   },
   {
    "duration": 22,
    "start_time": "2022-01-21T11:06:21.948Z"
   },
   {
    "duration": 66,
    "start_time": "2022-01-21T11:06:21.972Z"
   },
   {
    "duration": 18,
    "start_time": "2022-01-21T11:06:22.040Z"
   },
   {
    "duration": 9,
    "start_time": "2022-01-21T11:06:22.060Z"
   },
   {
    "duration": 7,
    "start_time": "2022-01-21T11:06:22.071Z"
   },
   {
    "duration": 11,
    "start_time": "2022-01-21T11:06:22.080Z"
   },
   {
    "duration": 6,
    "start_time": "2022-01-21T11:06:22.092Z"
   },
   {
    "duration": 9,
    "start_time": "2022-01-21T11:06:22.100Z"
   },
   {
    "duration": 17,
    "start_time": "2022-01-21T11:06:22.111Z"
   },
   {
    "duration": 13,
    "start_time": "2022-01-21T11:06:22.130Z"
   },
   {
    "duration": 24,
    "start_time": "2022-01-21T11:06:22.145Z"
   },
   {
    "duration": 54,
    "start_time": "2022-01-21T11:06:22.171Z"
   },
   {
    "duration": 4,
    "start_time": "2022-01-21T11:06:22.227Z"
   },
   {
    "duration": 33,
    "start_time": "2022-01-21T11:06:22.232Z"
   },
   {
    "duration": 8,
    "start_time": "2022-01-21T11:06:22.267Z"
   },
   {
    "duration": 24,
    "start_time": "2022-01-21T11:06:22.278Z"
   },
   {
    "duration": 18,
    "start_time": "2022-01-21T11:06:22.304Z"
   },
   {
    "duration": 3,
    "start_time": "2022-01-21T11:06:22.324Z"
   },
   {
    "duration": 26,
    "start_time": "2022-01-21T11:06:22.329Z"
   },
   {
    "duration": 59,
    "start_time": "2022-01-21T11:06:22.356Z"
   },
   {
    "duration": 9,
    "start_time": "2022-01-21T11:06:22.416Z"
   },
   {
    "duration": 12,
    "start_time": "2022-01-21T11:06:22.426Z"
   },
   {
    "duration": 19,
    "start_time": "2022-01-21T11:06:22.439Z"
   },
   {
    "duration": 4,
    "start_time": "2022-01-21T11:06:22.460Z"
   },
   {
    "duration": 44,
    "start_time": "2022-01-21T11:06:22.466Z"
   },
   {
    "duration": 12,
    "start_time": "2022-01-21T11:06:22.511Z"
   },
   {
    "duration": 14,
    "start_time": "2022-01-21T11:06:22.524Z"
   },
   {
    "duration": 9,
    "start_time": "2022-01-21T11:07:06.124Z"
   },
   {
    "duration": 8,
    "start_time": "2022-01-21T11:07:12.718Z"
   },
   {
    "duration": 640,
    "start_time": "2022-01-21T18:34:25.753Z"
   },
   {
    "duration": 183,
    "start_time": "2022-01-21T18:34:31.404Z"
   },
   {
    "duration": 33,
    "start_time": "2022-01-21T18:34:31.589Z"
   },
   {
    "duration": 161,
    "start_time": "2022-01-21T18:34:31.624Z"
   },
   {
    "duration": 32,
    "start_time": "2022-01-21T18:34:31.787Z"
   },
   {
    "duration": 102,
    "start_time": "2022-01-21T18:34:31.821Z"
   },
   {
    "duration": 17,
    "start_time": "2022-01-21T18:34:31.926Z"
   },
   {
    "duration": 23,
    "start_time": "2022-01-21T18:34:31.945Z"
   },
   {
    "duration": 39,
    "start_time": "2022-01-21T18:34:31.970Z"
   },
   {
    "duration": 18,
    "start_time": "2022-01-21T18:34:32.011Z"
   },
   {
    "duration": 9,
    "start_time": "2022-01-21T18:34:32.031Z"
   },
   {
    "duration": 13,
    "start_time": "2022-01-21T18:34:32.042Z"
   },
   {
    "duration": 7,
    "start_time": "2022-01-21T18:34:32.057Z"
   },
   {
    "duration": 7,
    "start_time": "2022-01-21T18:34:32.066Z"
   },
   {
    "duration": 11,
    "start_time": "2022-01-21T18:34:32.075Z"
   },
   {
    "duration": 17,
    "start_time": "2022-01-21T18:34:32.088Z"
   },
   {
    "duration": 10,
    "start_time": "2022-01-21T18:34:32.107Z"
   },
   {
    "duration": 48,
    "start_time": "2022-01-21T18:34:32.119Z"
   },
   {
    "duration": 30,
    "start_time": "2022-01-21T18:34:32.169Z"
   },
   {
    "duration": 3,
    "start_time": "2022-01-21T18:34:32.201Z"
   },
   {
    "duration": 28,
    "start_time": "2022-01-21T18:34:32.206Z"
   },
   {
    "duration": 31,
    "start_time": "2022-01-21T18:34:32.236Z"
   },
   {
    "duration": 16,
    "start_time": "2022-01-21T18:34:32.270Z"
   },
   {
    "duration": 18,
    "start_time": "2022-01-21T18:34:32.289Z"
   },
   {
    "duration": 4,
    "start_time": "2022-01-21T18:34:32.309Z"
   },
   {
    "duration": 50,
    "start_time": "2022-01-21T18:34:32.314Z"
   },
   {
    "duration": 29,
    "start_time": "2022-01-21T18:34:32.366Z"
   },
   {
    "duration": 8,
    "start_time": "2022-01-21T18:34:32.396Z"
   },
   {
    "duration": 9,
    "start_time": "2022-01-21T18:34:32.406Z"
   },
   {
    "duration": 18,
    "start_time": "2022-01-21T18:34:32.416Z"
   },
   {
    "duration": 4,
    "start_time": "2022-01-21T18:34:32.461Z"
   },
   {
    "duration": 25,
    "start_time": "2022-01-21T18:34:32.467Z"
   },
   {
    "duration": 13,
    "start_time": "2022-01-21T18:34:32.494Z"
   },
   {
    "duration": 9,
    "start_time": "2022-01-21T18:34:32.509Z"
   },
   {
    "duration": 280,
    "start_time": "2022-01-21T18:35:35.650Z"
   },
   {
    "duration": 123,
    "start_time": "2022-01-21T18:44:05.211Z"
   },
   {
    "duration": 197,
    "start_time": "2022-01-21T18:45:24.475Z"
   },
   {
    "duration": 63,
    "start_time": "2022-01-21T18:46:05.966Z"
   },
   {
    "duration": 73,
    "start_time": "2022-01-21T18:46:22.689Z"
   },
   {
    "duration": 96,
    "start_time": "2022-01-21T18:46:41.719Z"
   },
   {
    "duration": 9,
    "start_time": "2022-01-21T18:46:51.948Z"
   },
   {
    "duration": 11,
    "start_time": "2022-01-21T18:47:04.591Z"
   },
   {
    "duration": 87,
    "start_time": "2022-01-21T18:47:31.535Z"
   },
   {
    "duration": 94,
    "start_time": "2022-01-21T18:47:50.608Z"
   },
   {
    "duration": 79,
    "start_time": "2022-01-21T18:49:42.785Z"
   },
   {
    "duration": 5190,
    "start_time": "2022-01-21T18:51:46.601Z"
   },
   {
    "duration": 47,
    "start_time": "2022-01-21T18:52:11.058Z"
   },
   {
    "duration": 426,
    "start_time": "2022-01-21T18:53:39.791Z"
   },
   {
    "duration": 54,
    "start_time": "2022-01-21T18:54:03.129Z"
   },
   {
    "duration": 56,
    "start_time": "2022-01-21T18:56:18.066Z"
   },
   {
    "duration": 61,
    "start_time": "2022-01-21T18:58:20.934Z"
   },
   {
    "duration": 44,
    "start_time": "2022-01-21T18:59:06.368Z"
   },
   {
    "duration": 46,
    "start_time": "2022-01-21T19:02:43.606Z"
   },
   {
    "duration": 9,
    "start_time": "2022-01-21T19:04:33.877Z"
   },
   {
    "duration": 14,
    "start_time": "2022-01-21T19:04:42.161Z"
   },
   {
    "duration": 607,
    "start_time": "2022-01-21T19:05:17.020Z"
   },
   {
    "duration": 171,
    "start_time": "2022-01-21T19:05:17.629Z"
   },
   {
    "duration": 30,
    "start_time": "2022-01-21T19:05:17.802Z"
   },
   {
    "duration": 177,
    "start_time": "2022-01-21T19:05:17.834Z"
   },
   {
    "duration": 36,
    "start_time": "2022-01-21T19:05:18.012Z"
   },
   {
    "duration": 95,
    "start_time": "2022-01-21T19:05:18.050Z"
   },
   {
    "duration": 20,
    "start_time": "2022-01-21T19:05:18.147Z"
   },
   {
    "duration": 29,
    "start_time": "2022-01-21T19:05:18.170Z"
   },
   {
    "duration": 68,
    "start_time": "2022-01-21T19:05:18.201Z"
   },
   {
    "duration": 45,
    "start_time": "2022-01-21T19:05:18.271Z"
   },
   {
    "duration": 21,
    "start_time": "2022-01-21T19:05:18.317Z"
   },
   {
    "duration": 33,
    "start_time": "2022-01-21T19:05:18.340Z"
   },
   {
    "duration": 26,
    "start_time": "2022-01-21T19:05:18.375Z"
   },
   {
    "duration": 31,
    "start_time": "2022-01-21T19:05:18.403Z"
   },
   {
    "duration": 26,
    "start_time": "2022-01-21T19:05:18.435Z"
   },
   {
    "duration": 41,
    "start_time": "2022-01-21T19:05:18.463Z"
   },
   {
    "duration": 9,
    "start_time": "2022-01-21T19:05:18.506Z"
   },
   {
    "duration": 47,
    "start_time": "2022-01-21T19:05:18.517Z"
   },
   {
    "duration": 31,
    "start_time": "2022-01-21T19:05:18.566Z"
   },
   {
    "duration": 4,
    "start_time": "2022-01-21T19:05:18.599Z"
   },
   {
    "duration": 46,
    "start_time": "2022-01-21T19:05:18.604Z"
   },
   {
    "duration": 9,
    "start_time": "2022-01-21T19:05:18.652Z"
   },
   {
    "duration": 24,
    "start_time": "2022-01-21T19:05:18.666Z"
   },
   {
    "duration": 31,
    "start_time": "2022-01-21T19:05:18.692Z"
   },
   {
    "duration": 17,
    "start_time": "2022-01-21T19:05:18.725Z"
   },
   {
    "duration": 56,
    "start_time": "2022-01-21T19:05:18.744Z"
   },
   {
    "duration": 28,
    "start_time": "2022-01-21T19:05:18.802Z"
   },
   {
    "duration": 9,
    "start_time": "2022-01-21T19:05:18.832Z"
   },
   {
    "duration": 37,
    "start_time": "2022-01-21T19:05:18.842Z"
   },
   {
    "duration": 30,
    "start_time": "2022-01-21T19:05:18.881Z"
   },
   {
    "duration": 36,
    "start_time": "2022-01-21T19:05:18.912Z"
   },
   {
    "duration": 46,
    "start_time": "2022-01-21T19:05:18.950Z"
   },
   {
    "duration": 13,
    "start_time": "2022-01-21T19:05:18.998Z"
   },
   {
    "duration": 48,
    "start_time": "2022-01-21T19:05:19.013Z"
   },
   {
    "duration": 78,
    "start_time": "2022-01-21T19:05:19.062Z"
   },
   {
    "duration": 115,
    "start_time": "2022-01-21T19:05:19.142Z"
   },
   {
    "duration": 49,
    "start_time": "2022-01-21T19:05:19.261Z"
   },
   {
    "duration": 66,
    "start_time": "2022-01-21T19:05:19.312Z"
   },
   {
    "duration": 55,
    "start_time": "2022-01-21T19:05:19.380Z"
   },
   {
    "duration": 78,
    "start_time": "2022-01-21T19:05:19.437Z"
   },
   {
    "duration": 17,
    "start_time": "2022-01-21T19:05:19.517Z"
   },
   {
    "duration": 15,
    "start_time": "2022-01-21T19:05:40.253Z"
   },
   {
    "duration": 611,
    "start_time": "2022-01-21T19:06:23.115Z"
   },
   {
    "duration": 168,
    "start_time": "2022-01-21T19:06:23.729Z"
   },
   {
    "duration": 31,
    "start_time": "2022-01-21T19:06:23.900Z"
   },
   {
    "duration": 156,
    "start_time": "2022-01-21T19:06:23.933Z"
   },
   {
    "duration": 29,
    "start_time": "2022-01-21T19:06:24.091Z"
   },
   {
    "duration": 105,
    "start_time": "2022-01-21T19:06:24.122Z"
   },
   {
    "duration": 18,
    "start_time": "2022-01-21T19:06:24.229Z"
   },
   {
    "duration": 26,
    "start_time": "2022-01-21T19:06:24.249Z"
   },
   {
    "duration": 35,
    "start_time": "2022-01-21T19:06:24.277Z"
   },
   {
    "duration": 17,
    "start_time": "2022-01-21T19:06:24.314Z"
   },
   {
    "duration": 7,
    "start_time": "2022-01-21T19:06:24.333Z"
   },
   {
    "duration": 18,
    "start_time": "2022-01-21T19:06:24.342Z"
   },
   {
    "duration": 8,
    "start_time": "2022-01-21T19:06:24.362Z"
   },
   {
    "duration": 8,
    "start_time": "2022-01-21T19:06:24.371Z"
   },
   {
    "duration": 9,
    "start_time": "2022-01-21T19:06:24.380Z"
   },
   {
    "duration": 14,
    "start_time": "2022-01-21T19:06:24.391Z"
   },
   {
    "duration": 12,
    "start_time": "2022-01-21T19:06:24.407Z"
   },
   {
    "duration": 23,
    "start_time": "2022-01-21T19:06:24.421Z"
   },
   {
    "duration": 31,
    "start_time": "2022-01-21T19:06:24.460Z"
   },
   {
    "duration": 5,
    "start_time": "2022-01-21T19:06:24.492Z"
   },
   {
    "duration": 30,
    "start_time": "2022-01-21T19:06:24.499Z"
   },
   {
    "duration": 31,
    "start_time": "2022-01-21T19:06:24.531Z"
   },
   {
    "duration": 5,
    "start_time": "2022-01-21T19:06:24.565Z"
   },
   {
    "duration": 20,
    "start_time": "2022-01-21T19:06:24.572Z"
   },
   {
    "duration": 4,
    "start_time": "2022-01-21T19:06:24.594Z"
   },
   {
    "duration": 27,
    "start_time": "2022-01-21T19:06:24.599Z"
   },
   {
    "duration": 54,
    "start_time": "2022-01-21T19:06:24.628Z"
   },
   {
    "duration": 9,
    "start_time": "2022-01-21T19:06:24.684Z"
   },
   {
    "duration": 12,
    "start_time": "2022-01-21T19:06:24.694Z"
   },
   {
    "duration": 38,
    "start_time": "2022-01-21T19:06:24.708Z"
   },
   {
    "duration": 9,
    "start_time": "2022-01-21T19:06:24.748Z"
   },
   {
    "duration": 41,
    "start_time": "2022-01-21T19:06:24.759Z"
   },
   {
    "duration": 24,
    "start_time": "2022-01-21T19:06:24.801Z"
   },
   {
    "duration": 16,
    "start_time": "2022-01-21T19:06:24.826Z"
   },
   {
    "duration": 92,
    "start_time": "2022-01-21T19:06:24.844Z"
   },
   {
    "duration": 109,
    "start_time": "2022-01-21T19:06:24.937Z"
   },
   {
    "duration": 52,
    "start_time": "2022-01-21T19:06:25.048Z"
   },
   {
    "duration": 66,
    "start_time": "2022-01-21T19:06:25.102Z"
   },
   {
    "duration": 61,
    "start_time": "2022-01-21T19:06:25.170Z"
   },
   {
    "duration": 72,
    "start_time": "2022-01-21T19:06:25.233Z"
   },
   {
    "duration": 15,
    "start_time": "2022-01-21T19:06:25.307Z"
   },
   {
    "duration": 14,
    "start_time": "2022-01-21T19:06:56.680Z"
   },
   {
    "duration": 616,
    "start_time": "2022-01-21T19:07:11.426Z"
   },
   {
    "duration": 169,
    "start_time": "2022-01-21T19:07:12.044Z"
   },
   {
    "duration": 29,
    "start_time": "2022-01-21T19:07:12.215Z"
   },
   {
    "duration": 137,
    "start_time": "2022-01-21T19:07:12.246Z"
   },
   {
    "duration": 29,
    "start_time": "2022-01-21T19:07:12.385Z"
   },
   {
    "duration": 96,
    "start_time": "2022-01-21T19:07:12.415Z"
   },
   {
    "duration": 16,
    "start_time": "2022-01-21T19:07:12.513Z"
   },
   {
    "duration": 30,
    "start_time": "2022-01-21T19:07:12.531Z"
   },
   {
    "duration": 36,
    "start_time": "2022-01-21T19:07:12.563Z"
   },
   {
    "duration": 17,
    "start_time": "2022-01-21T19:07:12.601Z"
   },
   {
    "duration": 9,
    "start_time": "2022-01-21T19:07:12.620Z"
   },
   {
    "duration": 7,
    "start_time": "2022-01-21T19:07:12.631Z"
   },
   {
    "duration": 5,
    "start_time": "2022-01-21T19:07:12.640Z"
   },
   {
    "duration": 15,
    "start_time": "2022-01-21T19:07:12.647Z"
   },
   {
    "duration": 13,
    "start_time": "2022-01-21T19:07:12.664Z"
   },
   {
    "duration": 15,
    "start_time": "2022-01-21T19:07:12.679Z"
   },
   {
    "duration": 12,
    "start_time": "2022-01-21T19:07:12.696Z"
   },
   {
    "duration": 23,
    "start_time": "2022-01-21T19:07:12.709Z"
   },
   {
    "duration": 50,
    "start_time": "2022-01-21T19:07:12.734Z"
   },
   {
    "duration": 4,
    "start_time": "2022-01-21T19:07:12.786Z"
   },
   {
    "duration": 30,
    "start_time": "2022-01-21T19:07:12.791Z"
   },
   {
    "duration": 8,
    "start_time": "2022-01-21T19:07:12.822Z"
   },
   {
    "duration": 4,
    "start_time": "2022-01-21T19:07:12.834Z"
   },
   {
    "duration": 34,
    "start_time": "2022-01-21T19:07:12.840Z"
   },
   {
    "duration": 5,
    "start_time": "2022-01-21T19:07:12.875Z"
   },
   {
    "duration": 44,
    "start_time": "2022-01-21T19:07:12.881Z"
   },
   {
    "duration": 34,
    "start_time": "2022-01-21T19:07:12.926Z"
   },
   {
    "duration": 14,
    "start_time": "2022-01-21T19:07:12.962Z"
   },
   {
    "duration": 36,
    "start_time": "2022-01-21T19:07:12.978Z"
   },
   {
    "duration": 38,
    "start_time": "2022-01-21T19:07:13.016Z"
   },
   {
    "duration": 27,
    "start_time": "2022-01-21T19:07:13.056Z"
   },
   {
    "duration": 61,
    "start_time": "2022-01-21T19:07:13.085Z"
   },
   {
    "duration": 22,
    "start_time": "2022-01-21T19:07:13.148Z"
   },
   {
    "duration": 16,
    "start_time": "2022-01-21T19:07:13.172Z"
   },
   {
    "duration": 96,
    "start_time": "2022-01-21T19:07:13.191Z"
   },
   {
    "duration": 116,
    "start_time": "2022-01-21T19:07:13.289Z"
   },
   {
    "duration": 55,
    "start_time": "2022-01-21T19:07:13.406Z"
   },
   {
    "duration": 53,
    "start_time": "2022-01-21T19:07:13.463Z"
   },
   {
    "duration": 63,
    "start_time": "2022-01-21T19:07:13.518Z"
   },
   {
    "duration": 68,
    "start_time": "2022-01-21T19:07:13.582Z"
   },
   {
    "duration": 17,
    "start_time": "2022-01-21T19:07:13.651Z"
   },
   {
    "duration": 88,
    "start_time": "2022-01-21T19:11:49.168Z"
   },
   {
    "duration": 42,
    "start_time": "2022-01-21T19:12:27.683Z"
   },
   {
    "duration": 369,
    "start_time": "2022-01-21T19:17:25.126Z"
   },
   {
    "duration": 56,
    "start_time": "2022-01-21T19:17:40.243Z"
   },
   {
    "duration": 40,
    "start_time": "2022-01-21T19:18:17.299Z"
   },
   {
    "duration": 15,
    "start_time": "2022-01-21T19:18:20.292Z"
   },
   {
    "duration": 15,
    "start_time": "2022-01-21T19:18:24.555Z"
   },
   {
    "duration": 21,
    "start_time": "2022-01-21T19:21:24.963Z"
   },
   {
    "duration": 64,
    "start_time": "2022-01-21T19:21:57.678Z"
   },
   {
    "duration": 30,
    "start_time": "2022-01-21T19:22:13.131Z"
   },
   {
    "duration": 35,
    "start_time": "2022-01-21T19:23:11.921Z"
   },
   {
    "duration": 614,
    "start_time": "2022-01-21T19:23:23.541Z"
   },
   {
    "duration": 172,
    "start_time": "2022-01-21T19:23:24.157Z"
   },
   {
    "duration": 34,
    "start_time": "2022-01-21T19:23:24.332Z"
   },
   {
    "duration": 131,
    "start_time": "2022-01-21T19:23:24.368Z"
   },
   {
    "duration": 28,
    "start_time": "2022-01-21T19:23:24.501Z"
   },
   {
    "duration": 101,
    "start_time": "2022-01-21T19:23:24.532Z"
   },
   {
    "duration": 16,
    "start_time": "2022-01-21T19:23:24.635Z"
   },
   {
    "duration": 22,
    "start_time": "2022-01-21T19:23:24.654Z"
   },
   {
    "duration": 33,
    "start_time": "2022-01-21T19:23:24.678Z"
   },
   {
    "duration": 18,
    "start_time": "2022-01-21T19:23:24.712Z"
   },
   {
    "duration": 14,
    "start_time": "2022-01-21T19:23:24.732Z"
   },
   {
    "duration": 8,
    "start_time": "2022-01-21T19:23:24.748Z"
   },
   {
    "duration": 7,
    "start_time": "2022-01-21T19:23:24.761Z"
   },
   {
    "duration": 22,
    "start_time": "2022-01-21T19:23:24.770Z"
   },
   {
    "duration": 10,
    "start_time": "2022-01-21T19:23:24.793Z"
   },
   {
    "duration": 19,
    "start_time": "2022-01-21T19:23:24.805Z"
   },
   {
    "duration": 10,
    "start_time": "2022-01-21T19:23:24.826Z"
   },
   {
    "duration": 23,
    "start_time": "2022-01-21T19:23:24.838Z"
   },
   {
    "duration": 30,
    "start_time": "2022-01-21T19:23:24.863Z"
   },
   {
    "duration": 4,
    "start_time": "2022-01-21T19:23:24.895Z"
   },
   {
    "duration": 28,
    "start_time": "2022-01-21T19:23:24.901Z"
   },
   {
    "duration": 37,
    "start_time": "2022-01-21T19:23:24.931Z"
   },
   {
    "duration": 4,
    "start_time": "2022-01-21T19:23:24.973Z"
   },
   {
    "duration": 21,
    "start_time": "2022-01-21T19:23:24.980Z"
   },
   {
    "duration": 5,
    "start_time": "2022-01-21T19:23:25.003Z"
   },
   {
    "duration": 35,
    "start_time": "2022-01-21T19:23:25.009Z"
   },
   {
    "duration": 42,
    "start_time": "2022-01-21T19:23:25.046Z"
   },
   {
    "duration": 8,
    "start_time": "2022-01-21T19:23:25.089Z"
   },
   {
    "duration": 9,
    "start_time": "2022-01-21T19:23:25.098Z"
   },
   {
    "duration": 16,
    "start_time": "2022-01-21T19:23:25.108Z"
   },
   {
    "duration": 6,
    "start_time": "2022-01-21T19:23:25.125Z"
   },
   {
    "duration": 46,
    "start_time": "2022-01-21T19:23:25.132Z"
   },
   {
    "duration": 10,
    "start_time": "2022-01-21T19:23:25.180Z"
   },
   {
    "duration": 7,
    "start_time": "2022-01-21T19:23:25.192Z"
   },
   {
    "duration": 88,
    "start_time": "2022-01-21T19:23:25.200Z"
   },
   {
    "duration": 125,
    "start_time": "2022-01-21T19:23:25.289Z"
   },
   {
    "duration": 56,
    "start_time": "2022-01-21T19:23:25.415Z"
   },
   {
    "duration": 52,
    "start_time": "2022-01-21T19:23:25.473Z"
   },
   {
    "duration": 71,
    "start_time": "2022-01-21T19:23:25.527Z"
   },
   {
    "duration": 69,
    "start_time": "2022-01-21T19:23:25.599Z"
   },
   {
    "duration": 16,
    "start_time": "2022-01-21T19:23:25.670Z"
   },
   {
    "duration": 28,
    "start_time": "2022-01-21T19:23:25.688Z"
   },
   {
    "duration": 597,
    "start_time": "2022-01-21T19:27:33.765Z"
   },
   {
    "duration": 168,
    "start_time": "2022-01-21T19:27:34.364Z"
   },
   {
    "duration": 37,
    "start_time": "2022-01-21T19:27:34.534Z"
   },
   {
    "duration": 144,
    "start_time": "2022-01-21T19:27:34.573Z"
   },
   {
    "duration": 28,
    "start_time": "2022-01-21T19:27:34.719Z"
   },
   {
    "duration": 115,
    "start_time": "2022-01-21T19:27:34.749Z"
   },
   {
    "duration": 17,
    "start_time": "2022-01-21T19:27:34.865Z"
   },
   {
    "duration": 24,
    "start_time": "2022-01-21T19:27:34.884Z"
   },
   {
    "duration": 59,
    "start_time": "2022-01-21T19:27:34.910Z"
   },
   {
    "duration": 32,
    "start_time": "2022-01-21T19:27:34.971Z"
   },
   {
    "duration": 27,
    "start_time": "2022-01-21T19:27:35.005Z"
   },
   {
    "duration": 42,
    "start_time": "2022-01-21T19:27:35.034Z"
   },
   {
    "duration": 19,
    "start_time": "2022-01-21T19:27:35.078Z"
   },
   {
    "duration": 26,
    "start_time": "2022-01-21T19:27:35.099Z"
   },
   {
    "duration": 43,
    "start_time": "2022-01-21T19:27:35.127Z"
   },
   {
    "duration": 29,
    "start_time": "2022-01-21T19:27:35.172Z"
   },
   {
    "duration": 36,
    "start_time": "2022-01-21T19:27:35.203Z"
   },
   {
    "duration": 56,
    "start_time": "2022-01-21T19:27:35.241Z"
   },
   {
    "duration": 35,
    "start_time": "2022-01-21T19:27:35.298Z"
   },
   {
    "duration": 5,
    "start_time": "2022-01-21T19:27:35.335Z"
   },
   {
    "duration": 56,
    "start_time": "2022-01-21T19:27:35.341Z"
   },
   {
    "duration": 63,
    "start_time": "2022-01-21T19:27:35.399Z"
   },
   {
    "duration": 53,
    "start_time": "2022-01-21T19:27:35.465Z"
   },
   {
    "duration": 54,
    "start_time": "2022-01-21T19:27:35.520Z"
   },
   {
    "duration": 38,
    "start_time": "2022-01-21T19:27:35.576Z"
   },
   {
    "duration": 40,
    "start_time": "2022-01-21T19:27:35.616Z"
   },
   {
    "duration": 45,
    "start_time": "2022-01-21T19:27:35.658Z"
   },
   {
    "duration": 46,
    "start_time": "2022-01-21T19:27:35.705Z"
   },
   {
    "duration": 28,
    "start_time": "2022-01-21T19:27:35.752Z"
   },
   {
    "duration": 42,
    "start_time": "2022-01-21T19:27:35.781Z"
   },
   {
    "duration": 27,
    "start_time": "2022-01-21T19:27:35.824Z"
   },
   {
    "duration": 52,
    "start_time": "2022-01-21T19:27:35.852Z"
   },
   {
    "duration": 35,
    "start_time": "2022-01-21T19:27:35.906Z"
   },
   {
    "duration": 39,
    "start_time": "2022-01-21T19:27:35.942Z"
   },
   {
    "duration": 102,
    "start_time": "2022-01-21T19:27:35.983Z"
   },
   {
    "duration": 125,
    "start_time": "2022-01-21T19:27:36.086Z"
   },
   {
    "duration": 55,
    "start_time": "2022-01-21T19:27:36.213Z"
   },
   {
    "duration": 55,
    "start_time": "2022-01-21T19:27:36.270Z"
   },
   {
    "duration": 63,
    "start_time": "2022-01-21T19:27:36.327Z"
   },
   {
    "duration": 84,
    "start_time": "2022-01-21T19:27:36.392Z"
   },
   {
    "duration": 17,
    "start_time": "2022-01-21T19:27:36.478Z"
   },
   {
    "duration": 53,
    "start_time": "2022-01-21T19:27:36.496Z"
   },
   {
    "duration": 386,
    "start_time": "2022-01-21T19:32:07.264Z"
   },
   {
    "duration": 211,
    "start_time": "2022-01-21T19:32:21.581Z"
   },
   {
    "duration": 23,
    "start_time": "2022-01-21T19:32:45.512Z"
   },
   {
    "duration": 219,
    "start_time": "2022-01-21T19:33:08.857Z"
   },
   {
    "duration": 631,
    "start_time": "2022-01-21T19:33:41.439Z"
   },
   {
    "duration": 174,
    "start_time": "2022-01-21T19:33:42.072Z"
   },
   {
    "duration": 38,
    "start_time": "2022-01-21T19:33:42.248Z"
   },
   {
    "duration": 154,
    "start_time": "2022-01-21T19:33:42.288Z"
   },
   {
    "duration": 38,
    "start_time": "2022-01-21T19:33:42.444Z"
   },
   {
    "duration": 102,
    "start_time": "2022-01-21T19:33:42.483Z"
   },
   {
    "duration": 18,
    "start_time": "2022-01-21T19:33:42.586Z"
   },
   {
    "duration": 46,
    "start_time": "2022-01-21T19:33:42.605Z"
   },
   {
    "duration": 70,
    "start_time": "2022-01-21T19:33:42.654Z"
   },
   {
    "duration": 40,
    "start_time": "2022-01-21T19:33:42.726Z"
   },
   {
    "duration": 17,
    "start_time": "2022-01-21T19:33:42.768Z"
   },
   {
    "duration": 31,
    "start_time": "2022-01-21T19:33:42.787Z"
   },
   {
    "duration": 30,
    "start_time": "2022-01-21T19:33:42.820Z"
   },
   {
    "duration": 36,
    "start_time": "2022-01-21T19:33:42.851Z"
   },
   {
    "duration": 27,
    "start_time": "2022-01-21T19:33:42.889Z"
   },
   {
    "duration": 32,
    "start_time": "2022-01-21T19:33:42.917Z"
   },
   {
    "duration": 27,
    "start_time": "2022-01-21T19:33:42.951Z"
   },
   {
    "duration": 52,
    "start_time": "2022-01-21T19:33:42.980Z"
   },
   {
    "duration": 41,
    "start_time": "2022-01-21T19:33:43.033Z"
   },
   {
    "duration": 18,
    "start_time": "2022-01-21T19:33:43.076Z"
   },
   {
    "duration": 59,
    "start_time": "2022-01-21T19:33:43.096Z"
   },
   {
    "duration": 20,
    "start_time": "2022-01-21T19:33:43.157Z"
   },
   {
    "duration": 28,
    "start_time": "2022-01-21T19:33:43.179Z"
   },
   {
    "duration": 40,
    "start_time": "2022-01-21T19:33:43.209Z"
   },
   {
    "duration": 20,
    "start_time": "2022-01-21T19:33:43.251Z"
   },
   {
    "duration": 55,
    "start_time": "2022-01-21T19:33:43.273Z"
   },
   {
    "duration": 43,
    "start_time": "2022-01-21T19:33:43.331Z"
   },
   {
    "duration": 13,
    "start_time": "2022-01-21T19:33:43.376Z"
   },
   {
    "duration": 24,
    "start_time": "2022-01-21T19:33:43.391Z"
   },
   {
    "duration": 42,
    "start_time": "2022-01-21T19:33:43.416Z"
   },
   {
    "duration": 20,
    "start_time": "2022-01-21T19:33:43.461Z"
   },
   {
    "duration": 35,
    "start_time": "2022-01-21T19:33:43.482Z"
   },
   {
    "duration": 18,
    "start_time": "2022-01-21T19:33:43.519Z"
   },
   {
    "duration": 21,
    "start_time": "2022-01-21T19:33:43.539Z"
   },
   {
    "duration": 87,
    "start_time": "2022-01-21T19:33:43.562Z"
   },
   {
    "duration": 113,
    "start_time": "2022-01-21T19:33:43.651Z"
   },
   {
    "duration": 47,
    "start_time": "2022-01-21T19:33:43.766Z"
   },
   {
    "duration": 65,
    "start_time": "2022-01-21T19:33:43.815Z"
   },
   {
    "duration": 56,
    "start_time": "2022-01-21T19:33:43.882Z"
   },
   {
    "duration": 93,
    "start_time": "2022-01-21T19:33:43.940Z"
   },
   {
    "duration": 17,
    "start_time": "2022-01-21T19:33:44.034Z"
   },
   {
    "duration": 45,
    "start_time": "2022-01-21T19:33:44.052Z"
   },
   {
    "duration": 5,
    "start_time": "2022-01-21T19:33:44.099Z"
   },
   {
    "duration": 25,
    "start_time": "2022-01-21T19:33:44.106Z"
   },
   {
    "duration": 5,
    "start_time": "2022-01-21T19:34:07.521Z"
   },
   {
    "duration": 17,
    "start_time": "2022-01-21T19:34:08.924Z"
   },
   {
    "duration": 4,
    "start_time": "2022-01-21T19:34:27.595Z"
   },
   {
    "duration": 18,
    "start_time": "2022-01-21T19:34:29.444Z"
   },
   {
    "duration": 5,
    "start_time": "2022-01-21T19:34:50.030Z"
   },
   {
    "duration": 16,
    "start_time": "2022-01-21T19:34:51.486Z"
   },
   {
    "duration": 579,
    "start_time": "2022-01-21T19:35:04.605Z"
   },
   {
    "duration": 180,
    "start_time": "2022-01-21T19:35:05.186Z"
   },
   {
    "duration": 30,
    "start_time": "2022-01-21T19:35:05.368Z"
   },
   {
    "duration": 149,
    "start_time": "2022-01-21T19:35:05.400Z"
   },
   {
    "duration": 31,
    "start_time": "2022-01-21T19:35:05.551Z"
   },
   {
    "duration": 101,
    "start_time": "2022-01-21T19:35:05.584Z"
   },
   {
    "duration": 19,
    "start_time": "2022-01-21T19:35:05.687Z"
   },
   {
    "duration": 30,
    "start_time": "2022-01-21T19:35:05.710Z"
   },
   {
    "duration": 62,
    "start_time": "2022-01-21T19:35:05.743Z"
   },
   {
    "duration": 21,
    "start_time": "2022-01-21T19:35:05.807Z"
   },
   {
    "duration": 10,
    "start_time": "2022-01-21T19:35:05.830Z"
   },
   {
    "duration": 8,
    "start_time": "2022-01-21T19:35:05.842Z"
   },
   {
    "duration": 6,
    "start_time": "2022-01-21T19:35:05.852Z"
   },
   {
    "duration": 11,
    "start_time": "2022-01-21T19:35:05.859Z"
   },
   {
    "duration": 16,
    "start_time": "2022-01-21T19:35:05.872Z"
   },
   {
    "duration": 21,
    "start_time": "2022-01-21T19:35:05.889Z"
   },
   {
    "duration": 13,
    "start_time": "2022-01-21T19:35:05.912Z"
   },
   {
    "duration": 36,
    "start_time": "2022-01-21T19:35:05.927Z"
   },
   {
    "duration": 32,
    "start_time": "2022-01-21T19:35:05.965Z"
   },
   {
    "duration": 4,
    "start_time": "2022-01-21T19:35:05.998Z"
   },
   {
    "duration": 36,
    "start_time": "2022-01-21T19:35:06.004Z"
   },
   {
    "duration": 10,
    "start_time": "2022-01-21T19:35:06.060Z"
   },
   {
    "duration": 10,
    "start_time": "2022-01-21T19:35:06.075Z"
   },
   {
    "duration": 21,
    "start_time": "2022-01-21T19:35:06.088Z"
   },
   {
    "duration": 4,
    "start_time": "2022-01-21T19:35:06.111Z"
   },
   {
    "duration": 44,
    "start_time": "2022-01-21T19:35:06.117Z"
   },
   {
    "duration": 29,
    "start_time": "2022-01-21T19:35:06.163Z"
   },
   {
    "duration": 9,
    "start_time": "2022-01-21T19:35:06.194Z"
   },
   {
    "duration": 16,
    "start_time": "2022-01-21T19:35:06.205Z"
   },
   {
    "duration": 16,
    "start_time": "2022-01-21T19:35:06.223Z"
   },
   {
    "duration": 22,
    "start_time": "2022-01-21T19:35:06.241Z"
   },
   {
    "duration": 21,
    "start_time": "2022-01-21T19:35:06.265Z"
   },
   {
    "duration": 12,
    "start_time": "2022-01-21T19:35:06.288Z"
   },
   {
    "duration": 11,
    "start_time": "2022-01-21T19:35:06.302Z"
   },
   {
    "duration": 101,
    "start_time": "2022-01-21T19:35:06.315Z"
   },
   {
    "duration": 160,
    "start_time": "2022-01-21T19:35:06.418Z"
   },
   {
    "duration": 50,
    "start_time": "2022-01-21T19:35:06.579Z"
   },
   {
    "duration": 78,
    "start_time": "2022-01-21T19:35:06.631Z"
   },
   {
    "duration": 72,
    "start_time": "2022-01-21T19:35:06.711Z"
   },
   {
    "duration": 75,
    "start_time": "2022-01-21T19:35:06.785Z"
   },
   {
    "duration": 19,
    "start_time": "2022-01-21T19:35:06.862Z"
   },
   {
    "duration": 42,
    "start_time": "2022-01-21T19:35:06.883Z"
   },
   {
    "duration": 6,
    "start_time": "2022-01-21T19:35:06.927Z"
   },
   {
    "duration": 27,
    "start_time": "2022-01-21T19:35:06.935Z"
   },
   {
    "duration": 5,
    "start_time": "2022-01-21T19:35:06.964Z"
   },
   {
    "duration": 9,
    "start_time": "2022-01-21T19:35:06.971Z"
   },
   {
    "duration": 6,
    "start_time": "2022-01-21T19:35:06.982Z"
   },
   {
    "duration": 23,
    "start_time": "2022-01-21T19:35:06.990Z"
   },
   {
    "duration": 1015,
    "start_time": "2022-01-23T08:06:29.150Z"
   },
   {
    "duration": 224,
    "start_time": "2022-01-23T08:06:30.167Z"
   },
   {
    "duration": 49,
    "start_time": "2022-01-23T08:06:30.394Z"
   },
   {
    "duration": 185,
    "start_time": "2022-01-23T08:06:30.447Z"
   },
   {
    "duration": 42,
    "start_time": "2022-01-23T08:06:30.634Z"
   },
   {
    "duration": 132,
    "start_time": "2022-01-23T08:06:30.678Z"
   },
   {
    "duration": 32,
    "start_time": "2022-01-23T08:06:30.812Z"
   },
   {
    "duration": 25,
    "start_time": "2022-01-23T08:06:30.848Z"
   },
   {
    "duration": 45,
    "start_time": "2022-01-23T08:06:30.876Z"
   },
   {
    "duration": 25,
    "start_time": "2022-01-23T08:06:30.924Z"
   },
   {
    "duration": 35,
    "start_time": "2022-01-23T08:06:30.952Z"
   },
   {
    "duration": 11,
    "start_time": "2022-01-23T08:06:30.990Z"
   },
   {
    "duration": 13,
    "start_time": "2022-01-23T08:06:31.003Z"
   },
   {
    "duration": 8,
    "start_time": "2022-01-23T08:06:31.018Z"
   },
   {
    "duration": 10,
    "start_time": "2022-01-23T08:06:31.032Z"
   },
   {
    "duration": 25,
    "start_time": "2022-01-23T08:06:31.045Z"
   },
   {
    "duration": 21,
    "start_time": "2022-01-23T08:06:31.073Z"
   },
   {
    "duration": 52,
    "start_time": "2022-01-23T08:06:31.097Z"
   },
   {
    "duration": 46,
    "start_time": "2022-01-23T08:06:31.152Z"
   },
   {
    "duration": 5,
    "start_time": "2022-01-23T08:06:31.201Z"
   },
   {
    "duration": 37,
    "start_time": "2022-01-23T08:06:31.232Z"
   },
   {
    "duration": 11,
    "start_time": "2022-01-23T08:06:31.271Z"
   },
   {
    "duration": 17,
    "start_time": "2022-01-23T08:06:31.288Z"
   },
   {
    "duration": 47,
    "start_time": "2022-01-23T08:06:31.309Z"
   },
   {
    "duration": 4,
    "start_time": "2022-01-23T08:06:31.359Z"
   },
   {
    "duration": 39,
    "start_time": "2022-01-23T08:06:31.365Z"
   },
   {
    "duration": 59,
    "start_time": "2022-01-23T08:06:31.406Z"
   },
   {
    "duration": 12,
    "start_time": "2022-01-23T08:06:31.468Z"
   },
   {
    "duration": 20,
    "start_time": "2022-01-23T08:06:31.483Z"
   },
   {
    "duration": 42,
    "start_time": "2022-01-23T08:06:31.506Z"
   },
   {
    "duration": 8,
    "start_time": "2022-01-23T08:06:31.550Z"
   },
   {
    "duration": 30,
    "start_time": "2022-01-23T08:06:31.560Z"
   },
   {
    "duration": 13,
    "start_time": "2022-01-23T08:06:31.593Z"
   },
   {
    "duration": 12,
    "start_time": "2022-01-23T08:06:31.632Z"
   },
   {
    "duration": 117,
    "start_time": "2022-01-23T08:06:31.647Z"
   },
   {
    "duration": 164,
    "start_time": "2022-01-23T08:06:31.766Z"
   },
   {
    "duration": 67,
    "start_time": "2022-01-23T08:06:31.932Z"
   },
   {
    "duration": 86,
    "start_time": "2022-01-23T08:06:32.002Z"
   },
   {
    "duration": 93,
    "start_time": "2022-01-23T08:06:32.090Z"
   },
   {
    "duration": 92,
    "start_time": "2022-01-23T08:06:32.186Z"
   },
   {
    "duration": 21,
    "start_time": "2022-01-23T08:06:32.281Z"
   },
   {
    "duration": 79,
    "start_time": "2022-01-23T08:06:32.304Z"
   },
   {
    "duration": 5,
    "start_time": "2022-01-23T08:06:32.385Z"
   },
   {
    "duration": 11,
    "start_time": "2022-01-23T08:06:32.392Z"
   },
   {
    "duration": 8,
    "start_time": "2022-01-23T08:06:32.405Z"
   },
   {
    "duration": 21,
    "start_time": "2022-01-23T08:06:32.415Z"
   },
   {
    "duration": 7,
    "start_time": "2022-01-23T08:06:32.438Z"
   },
   {
    "duration": 23,
    "start_time": "2022-01-23T08:06:32.447Z"
   },
   {
    "duration": 821,
    "start_time": "2022-01-23T08:09:05.531Z"
   },
   {
    "duration": 227,
    "start_time": "2022-01-23T08:09:06.355Z"
   },
   {
    "duration": 53,
    "start_time": "2022-01-23T08:09:06.586Z"
   },
   {
    "duration": 184,
    "start_time": "2022-01-23T08:09:06.642Z"
   },
   {
    "duration": 40,
    "start_time": "2022-01-23T08:09:06.829Z"
   },
   {
    "duration": 130,
    "start_time": "2022-01-23T08:09:06.871Z"
   },
   {
    "duration": 36,
    "start_time": "2022-01-23T08:09:07.004Z"
   },
   {
    "duration": 24,
    "start_time": "2022-01-23T08:09:07.044Z"
   },
   {
    "duration": 54,
    "start_time": "2022-01-23T08:09:07.071Z"
   },
   {
    "duration": 25,
    "start_time": "2022-01-23T08:09:07.128Z"
   },
   {
    "duration": 9,
    "start_time": "2022-01-23T08:09:07.156Z"
   },
   {
    "duration": 21,
    "start_time": "2022-01-23T08:09:07.168Z"
   },
   {
    "duration": 15,
    "start_time": "2022-01-23T08:09:07.191Z"
   },
   {
    "duration": 24,
    "start_time": "2022-01-23T08:09:07.208Z"
   },
   {
    "duration": 25,
    "start_time": "2022-01-23T08:09:07.235Z"
   },
   {
    "duration": 23,
    "start_time": "2022-01-23T08:09:07.263Z"
   },
   {
    "duration": 16,
    "start_time": "2022-01-23T08:09:07.289Z"
   },
   {
    "duration": 46,
    "start_time": "2022-01-23T08:09:07.308Z"
   },
   {
    "duration": 80,
    "start_time": "2022-01-23T08:09:07.357Z"
   },
   {
    "duration": 6,
    "start_time": "2022-01-23T08:09:07.440Z"
   },
   {
    "duration": 56,
    "start_time": "2022-01-23T08:09:07.449Z"
   },
   {
    "duration": 30,
    "start_time": "2022-01-23T08:09:07.508Z"
   },
   {
    "duration": 7,
    "start_time": "2022-01-23T08:09:07.547Z"
   },
   {
    "duration": 29,
    "start_time": "2022-01-23T08:09:07.558Z"
   },
   {
    "duration": 42,
    "start_time": "2022-01-23T08:09:07.591Z"
   },
   {
    "duration": 46,
    "start_time": "2022-01-23T08:09:07.636Z"
   },
   {
    "duration": 60,
    "start_time": "2022-01-23T08:09:07.684Z"
   },
   {
    "duration": 12,
    "start_time": "2022-01-23T08:09:07.746Z"
   },
   {
    "duration": 14,
    "start_time": "2022-01-23T08:09:07.760Z"
   },
   {
    "duration": 61,
    "start_time": "2022-01-23T08:09:07.776Z"
   },
   {
    "duration": 4,
    "start_time": "2022-01-23T08:09:07.840Z"
   },
   {
    "duration": 30,
    "start_time": "2022-01-23T08:09:07.847Z"
   },
   {
    "duration": 16,
    "start_time": "2022-01-23T08:09:07.880Z"
   },
   {
    "duration": 46,
    "start_time": "2022-01-23T08:09:07.899Z"
   },
   {
    "duration": 131,
    "start_time": "2022-01-23T08:09:07.947Z"
   },
   {
    "duration": 192,
    "start_time": "2022-01-23T08:09:08.080Z"
   },
   {
    "duration": 82,
    "start_time": "2022-01-23T08:09:08.274Z"
   },
   {
    "duration": 93,
    "start_time": "2022-01-23T08:09:08.359Z"
   },
   {
    "duration": 104,
    "start_time": "2022-01-23T08:09:08.454Z"
   },
   {
    "duration": 114,
    "start_time": "2022-01-23T08:09:08.561Z"
   },
   {
    "duration": 24,
    "start_time": "2022-01-23T08:09:08.678Z"
   },
   {
    "duration": 86,
    "start_time": "2022-01-23T08:09:08.704Z"
   },
   {
    "duration": 5,
    "start_time": "2022-01-23T08:09:08.793Z"
   },
   {
    "duration": 8,
    "start_time": "2022-01-23T08:09:08.801Z"
   },
   {
    "duration": 23,
    "start_time": "2022-01-23T08:09:08.812Z"
   },
   {
    "duration": 6,
    "start_time": "2022-01-23T08:09:08.838Z"
   },
   {
    "duration": 6,
    "start_time": "2022-01-23T08:09:08.847Z"
   },
   {
    "duration": 26,
    "start_time": "2022-01-23T08:09:08.855Z"
   },
   {
    "duration": 472,
    "start_time": "2022-01-23T08:10:41.552Z"
   },
   {
    "duration": 207,
    "start_time": "2022-01-23T08:11:08.134Z"
   },
   {
    "duration": 78,
    "start_time": "2022-01-23T08:11:33.075Z"
   },
   {
    "duration": 341,
    "start_time": "2022-01-23T08:11:59.924Z"
   },
   {
    "duration": 64,
    "start_time": "2022-01-23T08:12:10.763Z"
   },
   {
    "duration": 38,
    "start_time": "2022-01-23T08:14:26.985Z"
   },
   {
    "duration": 797,
    "start_time": "2022-01-23T08:14:51.335Z"
   },
   {
    "duration": 225,
    "start_time": "2022-01-23T08:14:52.135Z"
   },
   {
    "duration": 40,
    "start_time": "2022-01-23T08:14:52.365Z"
   },
   {
    "duration": 192,
    "start_time": "2022-01-23T08:14:52.409Z"
   },
   {
    "duration": 57,
    "start_time": "2022-01-23T08:14:52.603Z"
   },
   {
    "duration": 118,
    "start_time": "2022-01-23T08:14:52.662Z"
   },
   {
    "duration": 25,
    "start_time": "2022-01-23T08:14:52.783Z"
   },
   {
    "duration": 34,
    "start_time": "2022-01-23T08:14:52.812Z"
   },
   {
    "duration": 36,
    "start_time": "2022-01-23T08:14:52.849Z"
   },
   {
    "duration": 27,
    "start_time": "2022-01-23T08:14:52.888Z"
   },
   {
    "duration": 9,
    "start_time": "2022-01-23T08:14:52.933Z"
   },
   {
    "duration": 15,
    "start_time": "2022-01-23T08:14:52.944Z"
   },
   {
    "duration": 8,
    "start_time": "2022-01-23T08:14:52.961Z"
   },
   {
    "duration": 7,
    "start_time": "2022-01-23T08:14:52.972Z"
   },
   {
    "duration": 14,
    "start_time": "2022-01-23T08:14:52.981Z"
   },
   {
    "duration": 51,
    "start_time": "2022-01-23T08:14:52.998Z"
   },
   {
    "duration": 18,
    "start_time": "2022-01-23T08:14:53.053Z"
   },
   {
    "duration": 64,
    "start_time": "2022-01-23T08:14:53.074Z"
   },
   {
    "duration": 53,
    "start_time": "2022-01-23T08:14:53.142Z"
   },
   {
    "duration": 6,
    "start_time": "2022-01-23T08:14:53.197Z"
   },
   {
    "duration": 68,
    "start_time": "2022-01-23T08:14:53.206Z"
   },
   {
    "duration": 11,
    "start_time": "2022-01-23T08:14:53.276Z"
   },
   {
    "duration": 5,
    "start_time": "2022-01-23T08:14:53.293Z"
   },
   {
    "duration": 48,
    "start_time": "2022-01-23T08:14:53.301Z"
   },
   {
    "duration": 5,
    "start_time": "2022-01-23T08:14:53.351Z"
   },
   {
    "duration": 35,
    "start_time": "2022-01-23T08:14:53.359Z"
   },
   {
    "duration": 67,
    "start_time": "2022-01-23T08:14:53.396Z"
   },
   {
    "duration": 12,
    "start_time": "2022-01-23T08:14:53.466Z"
   },
   {
    "duration": 12,
    "start_time": "2022-01-23T08:14:53.480Z"
   },
   {
    "duration": 50,
    "start_time": "2022-01-23T08:14:53.494Z"
   },
   {
    "duration": 9,
    "start_time": "2022-01-23T08:14:53.547Z"
   },
   {
    "duration": 31,
    "start_time": "2022-01-23T08:14:53.558Z"
   },
   {
    "duration": 14,
    "start_time": "2022-01-23T08:14:53.591Z"
   },
   {
    "duration": 31,
    "start_time": "2022-01-23T08:14:53.607Z"
   },
   {
    "duration": 118,
    "start_time": "2022-01-23T08:14:53.640Z"
   },
   {
    "duration": 162,
    "start_time": "2022-01-23T08:14:53.760Z"
   },
   {
    "duration": 70,
    "start_time": "2022-01-23T08:14:53.925Z"
   },
   {
    "duration": 84,
    "start_time": "2022-01-23T08:14:53.997Z"
   },
   {
    "duration": 93,
    "start_time": "2022-01-23T08:14:54.083Z"
   },
   {
    "duration": 98,
    "start_time": "2022-01-23T08:14:54.178Z"
   },
   {
    "duration": 21,
    "start_time": "2022-01-23T08:14:54.278Z"
   },
   {
    "duration": 55,
    "start_time": "2022-01-23T08:14:54.301Z"
   },
   {
    "duration": 6,
    "start_time": "2022-01-23T08:14:54.358Z"
   },
   {
    "duration": 9,
    "start_time": "2022-01-23T08:14:54.366Z"
   },
   {
    "duration": 8,
    "start_time": "2022-01-23T08:14:54.378Z"
   },
   {
    "duration": 9,
    "start_time": "2022-01-23T08:14:54.389Z"
   },
   {
    "duration": 32,
    "start_time": "2022-01-23T08:14:54.401Z"
   },
   {
    "duration": 20,
    "start_time": "2022-01-23T08:14:54.435Z"
   },
   {
    "duration": 65,
    "start_time": "2022-01-23T08:15:54.339Z"
   },
   {
    "duration": 46,
    "start_time": "2022-01-23T08:17:53.929Z"
   },
   {
    "duration": 64,
    "start_time": "2022-01-23T08:23:27.694Z"
   },
   {
    "duration": 902,
    "start_time": "2022-01-23T08:23:54.212Z"
   },
   {
    "duration": 757,
    "start_time": "2022-01-23T08:24:13.630Z"
   },
   {
    "duration": 221,
    "start_time": "2022-01-23T08:24:14.390Z"
   },
   {
    "duration": 53,
    "start_time": "2022-01-23T08:24:14.614Z"
   },
   {
    "duration": 185,
    "start_time": "2022-01-23T08:24:14.669Z"
   },
   {
    "duration": 44,
    "start_time": "2022-01-23T08:24:14.856Z"
   },
   {
    "duration": 141,
    "start_time": "2022-01-23T08:24:14.902Z"
   },
   {
    "duration": 23,
    "start_time": "2022-01-23T08:24:15.045Z"
   },
   {
    "duration": 24,
    "start_time": "2022-01-23T08:24:15.072Z"
   },
   {
    "duration": 43,
    "start_time": "2022-01-23T08:24:15.099Z"
   },
   {
    "duration": 29,
    "start_time": "2022-01-23T08:24:15.145Z"
   },
   {
    "duration": 10,
    "start_time": "2022-01-23T08:24:15.177Z"
   },
   {
    "duration": 45,
    "start_time": "2022-01-23T08:24:15.189Z"
   },
   {
    "duration": 5,
    "start_time": "2022-01-23T08:24:15.236Z"
   },
   {
    "duration": 10,
    "start_time": "2022-01-23T08:24:15.243Z"
   },
   {
    "duration": 12,
    "start_time": "2022-01-23T08:24:15.255Z"
   },
   {
    "duration": 22,
    "start_time": "2022-01-23T08:24:15.269Z"
   },
   {
    "duration": 40,
    "start_time": "2022-01-23T08:24:15.294Z"
   },
   {
    "duration": 36,
    "start_time": "2022-01-23T08:24:15.337Z"
   },
   {
    "duration": 56,
    "start_time": "2022-01-23T08:24:15.376Z"
   },
   {
    "duration": 5,
    "start_time": "2022-01-23T08:24:15.434Z"
   },
   {
    "duration": 46,
    "start_time": "2022-01-23T08:24:15.441Z"
   },
   {
    "duration": 10,
    "start_time": "2022-01-23T08:24:15.489Z"
   },
   {
    "duration": 28,
    "start_time": "2022-01-23T08:24:15.504Z"
   },
   {
    "duration": 27,
    "start_time": "2022-01-23T08:24:15.535Z"
   },
   {
    "duration": 5,
    "start_time": "2022-01-23T08:24:15.564Z"
   },
   {
    "duration": 62,
    "start_time": "2022-01-23T08:24:15.571Z"
   },
   {
    "duration": 38,
    "start_time": "2022-01-23T08:24:15.636Z"
   },
   {
    "duration": 11,
    "start_time": "2022-01-23T08:24:15.676Z"
   },
   {
    "duration": 12,
    "start_time": "2022-01-23T08:24:15.690Z"
   },
   {
    "duration": 43,
    "start_time": "2022-01-23T08:24:15.704Z"
   },
   {
    "duration": 26,
    "start_time": "2022-01-23T08:24:15.749Z"
   },
   {
    "duration": 45,
    "start_time": "2022-01-23T08:24:15.777Z"
   },
   {
    "duration": 15,
    "start_time": "2022-01-23T08:24:15.825Z"
   },
   {
    "duration": 11,
    "start_time": "2022-01-23T08:24:15.842Z"
   },
   {
    "duration": 128,
    "start_time": "2022-01-23T08:24:15.855Z"
   },
   {
    "duration": 165,
    "start_time": "2022-01-23T08:24:15.985Z"
   },
   {
    "duration": 82,
    "start_time": "2022-01-23T08:24:16.152Z"
   },
   {
    "duration": 70,
    "start_time": "2022-01-23T08:24:16.236Z"
   },
   {
    "duration": 100,
    "start_time": "2022-01-23T08:24:16.308Z"
   },
   {
    "duration": 87,
    "start_time": "2022-01-23T08:24:16.411Z"
   },
   {
    "duration": 41,
    "start_time": "2022-01-23T08:24:16.500Z"
   },
   {
    "duration": 383,
    "start_time": "2022-01-23T08:24:16.544Z"
   },
   {
    "duration": 641,
    "start_time": "2022-01-23T08:24:16.288Z"
   },
   {
    "duration": 630,
    "start_time": "2022-01-23T08:24:16.301Z"
   },
   {
    "duration": 621,
    "start_time": "2022-01-23T08:24:16.312Z"
   },
   {
    "duration": 602,
    "start_time": "2022-01-23T08:24:16.332Z"
   },
   {
    "duration": 593,
    "start_time": "2022-01-23T08:24:16.343Z"
   },
   {
    "duration": 586,
    "start_time": "2022-01-23T08:24:16.351Z"
   },
   {
    "duration": 63,
    "start_time": "2022-01-23T08:24:57.244Z"
   },
   {
    "duration": 809,
    "start_time": "2022-01-23T08:26:37.438Z"
   },
   {
    "duration": 225,
    "start_time": "2022-01-23T08:26:38.251Z"
   },
   {
    "duration": 53,
    "start_time": "2022-01-23T08:26:38.479Z"
   },
   {
    "duration": 179,
    "start_time": "2022-01-23T08:26:38.535Z"
   },
   {
    "duration": 49,
    "start_time": "2022-01-23T08:26:38.716Z"
   },
   {
    "duration": 126,
    "start_time": "2022-01-23T08:26:38.768Z"
   },
   {
    "duration": 36,
    "start_time": "2022-01-23T08:26:38.896Z"
   },
   {
    "duration": 25,
    "start_time": "2022-01-23T08:26:38.935Z"
   },
   {
    "duration": 53,
    "start_time": "2022-01-23T08:26:38.963Z"
   },
   {
    "duration": 28,
    "start_time": "2022-01-23T08:26:39.018Z"
   },
   {
    "duration": 20,
    "start_time": "2022-01-23T08:26:39.049Z"
   },
   {
    "duration": 23,
    "start_time": "2022-01-23T08:26:39.071Z"
   },
   {
    "duration": 8,
    "start_time": "2022-01-23T08:26:39.097Z"
   },
   {
    "duration": 11,
    "start_time": "2022-01-23T08:26:39.107Z"
   },
   {
    "duration": 20,
    "start_time": "2022-01-23T08:26:39.120Z"
   },
   {
    "duration": 23,
    "start_time": "2022-01-23T08:26:39.142Z"
   },
   {
    "duration": 16,
    "start_time": "2022-01-23T08:26:39.168Z"
   },
   {
    "duration": 54,
    "start_time": "2022-01-23T08:26:39.186Z"
   },
   {
    "duration": 41,
    "start_time": "2022-01-23T08:26:39.243Z"
   },
   {
    "duration": 4,
    "start_time": "2022-01-23T08:26:39.287Z"
   },
   {
    "duration": 64,
    "start_time": "2022-01-23T08:26:39.293Z"
   },
   {
    "duration": 11,
    "start_time": "2022-01-23T08:26:39.359Z"
   },
   {
    "duration": 6,
    "start_time": "2022-01-23T08:26:39.375Z"
   },
   {
    "duration": 48,
    "start_time": "2022-01-23T08:26:39.384Z"
   },
   {
    "duration": 5,
    "start_time": "2022-01-23T08:26:39.434Z"
   },
   {
    "duration": 34,
    "start_time": "2022-01-23T08:26:39.441Z"
   },
   {
    "duration": 62,
    "start_time": "2022-01-23T08:26:39.477Z"
   },
   {
    "duration": 12,
    "start_time": "2022-01-23T08:26:39.541Z"
   },
   {
    "duration": 9,
    "start_time": "2022-01-23T08:26:39.556Z"
   },
   {
    "duration": 17,
    "start_time": "2022-01-23T08:26:39.568Z"
   },
   {
    "duration": 4,
    "start_time": "2022-01-23T08:26:39.588Z"
   },
   {
    "duration": 26,
    "start_time": "2022-01-23T08:26:39.633Z"
   },
   {
    "duration": 14,
    "start_time": "2022-01-23T08:26:39.661Z"
   },
   {
    "duration": 12,
    "start_time": "2022-01-23T08:26:39.678Z"
   },
   {
    "duration": 139,
    "start_time": "2022-01-23T08:26:39.693Z"
   },
   {
    "duration": 163,
    "start_time": "2022-01-23T08:26:39.834Z"
   },
   {
    "duration": 84,
    "start_time": "2022-01-23T08:26:40.000Z"
   },
   {
    "duration": 86,
    "start_time": "2022-01-23T08:26:40.087Z"
   },
   {
    "duration": 92,
    "start_time": "2022-01-23T08:26:40.176Z"
   },
   {
    "duration": 90,
    "start_time": "2022-01-23T08:26:40.270Z"
   },
   {
    "duration": 22,
    "start_time": "2022-01-23T08:26:40.362Z"
   },
   {
    "duration": 80,
    "start_time": "2022-01-23T08:26:40.387Z"
   },
   {
    "duration": 420,
    "start_time": "2022-01-23T08:26:40.470Z"
   },
   {
    "duration": 641,
    "start_time": "2022-01-23T08:26:40.251Z"
   },
   {
    "duration": 632,
    "start_time": "2022-01-23T08:26:40.261Z"
   },
   {
    "duration": 620,
    "start_time": "2022-01-23T08:26:40.275Z"
   },
   {
    "duration": 612,
    "start_time": "2022-01-23T08:26:40.284Z"
   },
   {
    "duration": 604,
    "start_time": "2022-01-23T08:26:40.293Z"
   },
   {
    "duration": 62,
    "start_time": "2022-01-23T08:27:15.017Z"
   },
   {
    "duration": 351,
    "start_time": "2022-01-23T08:27:35.541Z"
   },
   {
    "duration": 783,
    "start_time": "2022-01-23T08:27:49.025Z"
   },
   {
    "duration": 265,
    "start_time": "2022-01-23T08:27:49.811Z"
   },
   {
    "duration": 53,
    "start_time": "2022-01-23T08:27:50.079Z"
   },
   {
    "duration": 174,
    "start_time": "2022-01-23T08:27:50.135Z"
   },
   {
    "duration": 47,
    "start_time": "2022-01-23T08:27:50.311Z"
   },
   {
    "duration": 124,
    "start_time": "2022-01-23T08:27:50.361Z"
   },
   {
    "duration": 23,
    "start_time": "2022-01-23T08:27:50.488Z"
   },
   {
    "duration": 40,
    "start_time": "2022-01-23T08:27:50.514Z"
   },
   {
    "duration": 38,
    "start_time": "2022-01-23T08:27:50.557Z"
   },
   {
    "duration": 26,
    "start_time": "2022-01-23T08:27:50.597Z"
   },
   {
    "duration": 15,
    "start_time": "2022-01-23T08:27:50.625Z"
   },
   {
    "duration": 10,
    "start_time": "2022-01-23T08:27:50.642Z"
   },
   {
    "duration": 13,
    "start_time": "2022-01-23T08:27:50.654Z"
   },
   {
    "duration": 7,
    "start_time": "2022-01-23T08:27:50.669Z"
   },
   {
    "duration": 20,
    "start_time": "2022-01-23T08:27:50.678Z"
   },
   {
    "duration": 45,
    "start_time": "2022-01-23T08:27:50.701Z"
   },
   {
    "duration": 19,
    "start_time": "2022-01-23T08:27:50.748Z"
   },
   {
    "duration": 39,
    "start_time": "2022-01-23T08:27:50.769Z"
   },
   {
    "duration": 49,
    "start_time": "2022-01-23T08:27:50.810Z"
   },
   {
    "duration": 5,
    "start_time": "2022-01-23T08:27:50.861Z"
   },
   {
    "duration": 38,
    "start_time": "2022-01-23T08:27:50.869Z"
   },
   {
    "duration": 12,
    "start_time": "2022-01-23T08:27:50.933Z"
   },
   {
    "duration": 6,
    "start_time": "2022-01-23T08:27:50.950Z"
   },
   {
    "duration": 23,
    "start_time": "2022-01-23T08:27:50.959Z"
   },
   {
    "duration": 4,
    "start_time": "2022-01-23T08:27:50.984Z"
   },
   {
    "duration": 72,
    "start_time": "2022-01-23T08:27:50.991Z"
   },
   {
    "duration": 39,
    "start_time": "2022-01-23T08:27:51.066Z"
   },
   {
    "duration": 31,
    "start_time": "2022-01-23T08:27:51.107Z"
   },
   {
    "duration": 15,
    "start_time": "2022-01-23T08:27:51.141Z"
   },
   {
    "duration": 22,
    "start_time": "2022-01-23T08:27:51.159Z"
   },
   {
    "duration": 5,
    "start_time": "2022-01-23T08:27:51.183Z"
   },
   {
    "duration": 62,
    "start_time": "2022-01-23T08:27:51.190Z"
   },
   {
    "duration": 15,
    "start_time": "2022-01-23T08:27:51.254Z"
   },
   {
    "duration": 16,
    "start_time": "2022-01-23T08:27:51.272Z"
   },
   {
    "duration": 136,
    "start_time": "2022-01-23T08:27:51.290Z"
   },
   {
    "duration": 163,
    "start_time": "2022-01-23T08:27:51.432Z"
   },
   {
    "duration": 84,
    "start_time": "2022-01-23T08:27:51.598Z"
   },
   {
    "duration": 87,
    "start_time": "2022-01-23T08:27:51.684Z"
   },
   {
    "duration": 87,
    "start_time": "2022-01-23T08:27:51.774Z"
   },
   {
    "duration": 93,
    "start_time": "2022-01-23T08:27:51.863Z"
   },
   {
    "duration": 23,
    "start_time": "2022-01-23T08:27:51.958Z"
   },
   {
    "duration": 421,
    "start_time": "2022-01-23T08:27:51.983Z"
   },
   {
    "duration": 662,
    "start_time": "2022-01-23T08:27:51.744Z"
   },
   {
    "duration": 643,
    "start_time": "2022-01-23T08:27:51.765Z"
   },
   {
    "duration": 635,
    "start_time": "2022-01-23T08:27:51.774Z"
   },
   {
    "duration": 630,
    "start_time": "2022-01-23T08:27:51.780Z"
   },
   {
    "duration": 624,
    "start_time": "2022-01-23T08:27:51.788Z"
   },
   {
    "duration": 618,
    "start_time": "2022-01-23T08:27:51.795Z"
   },
   {
    "duration": 60,
    "start_time": "2022-01-23T08:28:03.526Z"
   },
   {
    "duration": 745,
    "start_time": "2022-01-23T08:28:59.767Z"
   },
   {
    "duration": 227,
    "start_time": "2022-01-23T08:29:00.515Z"
   },
   {
    "duration": 41,
    "start_time": "2022-01-23T08:29:00.746Z"
   },
   {
    "duration": 196,
    "start_time": "2022-01-23T08:29:00.790Z"
   },
   {
    "duration": 54,
    "start_time": "2022-01-23T08:29:00.988Z"
   },
   {
    "duration": 121,
    "start_time": "2022-01-23T08:29:01.044Z"
   },
   {
    "duration": 23,
    "start_time": "2022-01-23T08:29:01.167Z"
   },
   {
    "duration": 40,
    "start_time": "2022-01-23T08:29:01.192Z"
   },
   {
    "duration": 53,
    "start_time": "2022-01-23T08:29:01.236Z"
   },
   {
    "duration": 42,
    "start_time": "2022-01-23T08:29:01.293Z"
   },
   {
    "duration": 14,
    "start_time": "2022-01-23T08:29:01.337Z"
   },
   {
    "duration": 16,
    "start_time": "2022-01-23T08:29:01.354Z"
   },
   {
    "duration": 16,
    "start_time": "2022-01-23T08:29:01.372Z"
   },
   {
    "duration": 32,
    "start_time": "2022-01-23T08:29:01.390Z"
   },
   {
    "duration": 14,
    "start_time": "2022-01-23T08:29:01.425Z"
   },
   {
    "duration": 26,
    "start_time": "2022-01-23T08:29:01.441Z"
   },
   {
    "duration": 15,
    "start_time": "2022-01-23T08:29:01.470Z"
   },
   {
    "duration": 51,
    "start_time": "2022-01-23T08:29:01.488Z"
   },
   {
    "duration": 42,
    "start_time": "2022-01-23T08:29:01.541Z"
   },
   {
    "duration": 5,
    "start_time": "2022-01-23T08:29:01.586Z"
   },
   {
    "duration": 65,
    "start_time": "2022-01-23T08:29:01.594Z"
   },
   {
    "duration": 12,
    "start_time": "2022-01-23T08:29:01.661Z"
   },
   {
    "duration": 13,
    "start_time": "2022-01-23T08:29:01.675Z"
   },
   {
    "duration": 49,
    "start_time": "2022-01-23T08:29:01.691Z"
   },
   {
    "duration": 5,
    "start_time": "2022-01-23T08:29:01.742Z"
   },
   {
    "duration": 46,
    "start_time": "2022-01-23T08:29:01.749Z"
   },
   {
    "duration": 51,
    "start_time": "2022-01-23T08:29:01.801Z"
   },
   {
    "duration": 13,
    "start_time": "2022-01-23T08:29:01.855Z"
   },
   {
    "duration": 26,
    "start_time": "2022-01-23T08:29:01.870Z"
   },
   {
    "duration": 44,
    "start_time": "2022-01-23T08:29:01.898Z"
   },
   {
    "duration": 11,
    "start_time": "2022-01-23T08:29:01.945Z"
   },
   {
    "duration": 35,
    "start_time": "2022-01-23T08:29:01.959Z"
   },
   {
    "duration": 17,
    "start_time": "2022-01-23T08:29:01.997Z"
   },
   {
    "duration": 23,
    "start_time": "2022-01-23T08:29:02.018Z"
   },
   {
    "duration": 120,
    "start_time": "2022-01-23T08:29:02.044Z"
   },
   {
    "duration": 171,
    "start_time": "2022-01-23T08:29:02.167Z"
   },
   {
    "duration": 69,
    "start_time": "2022-01-23T08:29:02.340Z"
   },
   {
    "duration": 86,
    "start_time": "2022-01-23T08:29:02.411Z"
   },
   {
    "duration": 93,
    "start_time": "2022-01-23T08:29:02.499Z"
   },
   {
    "duration": 98,
    "start_time": "2022-01-23T08:29:02.594Z"
   },
   {
    "duration": 22,
    "start_time": "2022-01-23T08:29:02.694Z"
   },
   {
    "duration": 542,
    "start_time": "2022-01-23T08:29:02.718Z"
   },
   {
    "duration": 650,
    "start_time": "2022-01-23T08:29:02.612Z"
   },
   {
    "duration": 639,
    "start_time": "2022-01-23T08:29:02.625Z"
   },
   {
    "duration": 631,
    "start_time": "2022-01-23T08:29:02.634Z"
   },
   {
    "duration": 624,
    "start_time": "2022-01-23T08:29:02.643Z"
   },
   {
    "duration": 616,
    "start_time": "2022-01-23T08:29:02.652Z"
   },
   {
    "duration": 609,
    "start_time": "2022-01-23T08:29:02.660Z"
   },
   {
    "duration": 65,
    "start_time": "2022-01-23T08:29:21.572Z"
   },
   {
    "duration": 791,
    "start_time": "2022-01-23T08:30:59.842Z"
   },
   {
    "duration": 229,
    "start_time": "2022-01-23T08:31:00.637Z"
   },
   {
    "duration": 42,
    "start_time": "2022-01-23T08:31:00.870Z"
   },
   {
    "duration": 208,
    "start_time": "2022-01-23T08:31:00.915Z"
   },
   {
    "duration": 45,
    "start_time": "2022-01-23T08:31:01.125Z"
   },
   {
    "duration": 127,
    "start_time": "2022-01-23T08:31:01.172Z"
   },
   {
    "duration": 32,
    "start_time": "2022-01-23T08:31:01.301Z"
   },
   {
    "duration": 27,
    "start_time": "2022-01-23T08:31:01.337Z"
   },
   {
    "duration": 83,
    "start_time": "2022-01-23T08:31:01.367Z"
   },
   {
    "duration": 27,
    "start_time": "2022-01-23T08:31:01.453Z"
   },
   {
    "duration": 9,
    "start_time": "2022-01-23T08:31:01.483Z"
   },
   {
    "duration": 18,
    "start_time": "2022-01-23T08:31:01.495Z"
   },
   {
    "duration": 11,
    "start_time": "2022-01-23T08:31:01.533Z"
   },
   {
    "duration": 9,
    "start_time": "2022-01-23T08:31:01.547Z"
   },
   {
    "duration": 20,
    "start_time": "2022-01-23T08:31:01.558Z"
   },
   {
    "duration": 34,
    "start_time": "2022-01-23T08:31:01.581Z"
   },
   {
    "duration": 18,
    "start_time": "2022-01-23T08:31:01.618Z"
   },
   {
    "duration": 37,
    "start_time": "2022-01-23T08:31:01.638Z"
   },
   {
    "duration": 60,
    "start_time": "2022-01-23T08:31:01.677Z"
   },
   {
    "duration": 5,
    "start_time": "2022-01-23T08:31:01.740Z"
   },
   {
    "duration": 42,
    "start_time": "2022-01-23T08:31:01.747Z"
   },
   {
    "duration": 11,
    "start_time": "2022-01-23T08:31:01.792Z"
   },
   {
    "duration": 6,
    "start_time": "2022-01-23T08:31:01.833Z"
   },
   {
    "duration": 29,
    "start_time": "2022-01-23T08:31:01.843Z"
   },
   {
    "duration": 5,
    "start_time": "2022-01-23T08:31:01.875Z"
   },
   {
    "duration": 59,
    "start_time": "2022-01-23T08:31:01.883Z"
   },
   {
    "duration": 40,
    "start_time": "2022-01-23T08:31:01.945Z"
   },
   {
    "duration": 14,
    "start_time": "2022-01-23T08:31:01.988Z"
   },
   {
    "duration": 37,
    "start_time": "2022-01-23T08:31:02.004Z"
   },
   {
    "duration": 40,
    "start_time": "2022-01-23T08:31:02.044Z"
   },
   {
    "duration": 12,
    "start_time": "2022-01-23T08:31:02.087Z"
   },
   {
    "duration": 41,
    "start_time": "2022-01-23T08:31:02.102Z"
   },
   {
    "duration": 16,
    "start_time": "2022-01-23T08:31:02.146Z"
   },
   {
    "duration": 13,
    "start_time": "2022-01-23T08:31:02.165Z"
   },
   {
    "duration": 135,
    "start_time": "2022-01-23T08:31:02.181Z"
   },
   {
    "duration": 166,
    "start_time": "2022-01-23T08:31:02.319Z"
   },
   {
    "duration": 82,
    "start_time": "2022-01-23T08:31:02.488Z"
   },
   {
    "duration": 90,
    "start_time": "2022-01-23T08:31:02.573Z"
   },
   {
    "duration": 98,
    "start_time": "2022-01-23T08:31:02.666Z"
   },
   {
    "duration": 89,
    "start_time": "2022-01-23T08:31:02.766Z"
   },
   {
    "duration": 21,
    "start_time": "2022-01-23T08:31:02.858Z"
   },
   {
    "duration": 80,
    "start_time": "2022-01-23T08:31:02.882Z"
   },
   {
    "duration": 394,
    "start_time": "2022-01-23T08:31:02.964Z"
   },
   {
    "duration": 657,
    "start_time": "2022-01-23T08:31:02.704Z"
   },
   {
    "duration": 649,
    "start_time": "2022-01-23T08:31:02.713Z"
   },
   {
    "duration": 641,
    "start_time": "2022-01-23T08:31:02.723Z"
   },
   {
    "duration": 622,
    "start_time": "2022-01-23T08:31:02.743Z"
   },
   {
    "duration": 615,
    "start_time": "2022-01-23T08:31:02.752Z"
   },
   {
    "duration": 742,
    "start_time": "2022-01-23T08:31:42.484Z"
   },
   {
    "duration": 224,
    "start_time": "2022-01-23T08:31:43.232Z"
   },
   {
    "duration": 41,
    "start_time": "2022-01-23T08:31:43.459Z"
   },
   {
    "duration": 178,
    "start_time": "2022-01-23T08:31:43.503Z"
   },
   {
    "duration": 51,
    "start_time": "2022-01-23T08:31:43.683Z"
   },
   {
    "duration": 113,
    "start_time": "2022-01-23T08:31:43.737Z"
   },
   {
    "duration": 23,
    "start_time": "2022-01-23T08:31:43.853Z"
   },
   {
    "duration": 23,
    "start_time": "2022-01-23T08:31:43.879Z"
   },
   {
    "duration": 42,
    "start_time": "2022-01-23T08:31:43.905Z"
   },
   {
    "duration": 26,
    "start_time": "2022-01-23T08:31:43.949Z"
   },
   {
    "duration": 14,
    "start_time": "2022-01-23T08:31:43.977Z"
   },
   {
    "duration": 40,
    "start_time": "2022-01-23T08:31:43.993Z"
   },
   {
    "duration": 14,
    "start_time": "2022-01-23T08:31:44.035Z"
   },
   {
    "duration": 10,
    "start_time": "2022-01-23T08:31:44.051Z"
   },
   {
    "duration": 14,
    "start_time": "2022-01-23T08:31:44.064Z"
   },
   {
    "duration": 22,
    "start_time": "2022-01-23T08:31:44.080Z"
   },
   {
    "duration": 31,
    "start_time": "2022-01-23T08:31:44.105Z"
   },
   {
    "duration": 29,
    "start_time": "2022-01-23T08:31:44.139Z"
   },
   {
    "duration": 76,
    "start_time": "2022-01-23T08:31:44.171Z"
   },
   {
    "duration": 5,
    "start_time": "2022-01-23T08:31:44.249Z"
   },
   {
    "duration": 40,
    "start_time": "2022-01-23T08:31:44.256Z"
   },
   {
    "duration": 10,
    "start_time": "2022-01-23T08:31:44.299Z"
   },
   {
    "duration": 22,
    "start_time": "2022-01-23T08:31:44.314Z"
   },
   {
    "duration": 22,
    "start_time": "2022-01-23T08:31:44.338Z"
   },
   {
    "duration": 5,
    "start_time": "2022-01-23T08:31:44.362Z"
   },
   {
    "duration": 64,
    "start_time": "2022-01-23T08:31:44.369Z"
   },
   {
    "duration": 39,
    "start_time": "2022-01-23T08:31:44.436Z"
   },
   {
    "duration": 12,
    "start_time": "2022-01-23T08:31:44.477Z"
   },
   {
    "duration": 10,
    "start_time": "2022-01-23T08:31:44.491Z"
   },
   {
    "duration": 44,
    "start_time": "2022-01-23T08:31:44.504Z"
   },
   {
    "duration": 4,
    "start_time": "2022-01-23T08:31:44.551Z"
   },
   {
    "duration": 28,
    "start_time": "2022-01-23T08:31:44.557Z"
   },
   {
    "duration": 13,
    "start_time": "2022-01-23T08:31:44.587Z"
   },
   {
    "duration": 39,
    "start_time": "2022-01-23T08:31:44.602Z"
   },
   {
    "duration": 128,
    "start_time": "2022-01-23T08:31:44.643Z"
   },
   {
    "duration": 159,
    "start_time": "2022-01-23T08:31:44.773Z"
   },
   {
    "duration": 74,
    "start_time": "2022-01-23T08:31:44.934Z"
   },
   {
    "duration": 89,
    "start_time": "2022-01-23T08:31:45.011Z"
   },
   {
    "duration": 104,
    "start_time": "2022-01-23T08:31:45.103Z"
   },
   {
    "duration": 96,
    "start_time": "2022-01-23T08:31:45.209Z"
   },
   {
    "duration": 40,
    "start_time": "2022-01-23T08:31:45.307Z"
   },
   {
    "duration": 39,
    "start_time": "2022-01-23T08:31:45.349Z"
   },
   {
    "duration": 355,
    "start_time": "2022-01-23T08:31:45.390Z"
   },
   {
    "duration": 684,
    "start_time": "2022-01-23T08:31:45.063Z"
   },
   {
    "duration": 671,
    "start_time": "2022-01-23T08:31:45.077Z"
   },
   {
    "duration": 665,
    "start_time": "2022-01-23T08:31:45.085Z"
   },
   {
    "duration": 658,
    "start_time": "2022-01-23T08:31:45.093Z"
   },
   {
    "duration": 652,
    "start_time": "2022-01-23T08:31:45.101Z"
   },
   {
    "duration": 57,
    "start_time": "2022-01-23T08:32:12.326Z"
   },
   {
    "duration": 60,
    "start_time": "2022-01-23T08:32:38.260Z"
   },
   {
    "duration": 304,
    "start_time": "2022-01-23T08:33:13.825Z"
   },
   {
    "duration": 312,
    "start_time": "2022-01-23T08:33:34.757Z"
   },
   {
    "duration": 760,
    "start_time": "2022-01-23T08:33:49.026Z"
   },
   {
    "duration": 215,
    "start_time": "2022-01-23T08:33:49.790Z"
   },
   {
    "duration": 54,
    "start_time": "2022-01-23T08:33:50.007Z"
   },
   {
    "duration": 180,
    "start_time": "2022-01-23T08:33:50.064Z"
   },
   {
    "duration": 40,
    "start_time": "2022-01-23T08:33:50.246Z"
   },
   {
    "duration": 134,
    "start_time": "2022-01-23T08:33:50.288Z"
   },
   {
    "duration": 27,
    "start_time": "2022-01-23T08:33:50.424Z"
   },
   {
    "duration": 28,
    "start_time": "2022-01-23T08:33:50.455Z"
   },
   {
    "duration": 38,
    "start_time": "2022-01-23T08:33:50.486Z"
   },
   {
    "duration": 26,
    "start_time": "2022-01-23T08:33:50.526Z"
   },
   {
    "duration": 9,
    "start_time": "2022-01-23T08:33:50.554Z"
   },
   {
    "duration": 13,
    "start_time": "2022-01-23T08:33:50.565Z"
   },
   {
    "duration": 13,
    "start_time": "2022-01-23T08:33:50.581Z"
   },
   {
    "duration": 20,
    "start_time": "2022-01-23T08:33:50.596Z"
   },
   {
    "duration": 12,
    "start_time": "2022-01-23T08:33:50.632Z"
   },
   {
    "duration": 32,
    "start_time": "2022-01-23T08:33:50.647Z"
   },
   {
    "duration": 17,
    "start_time": "2022-01-23T08:33:50.681Z"
   },
   {
    "duration": 47,
    "start_time": "2022-01-23T08:33:50.701Z"
   },
   {
    "duration": 43,
    "start_time": "2022-01-23T08:33:50.750Z"
   },
   {
    "duration": 4,
    "start_time": "2022-01-23T08:33:50.795Z"
   },
   {
    "duration": 60,
    "start_time": "2022-01-23T08:33:50.801Z"
   },
   {
    "duration": 11,
    "start_time": "2022-01-23T08:33:50.863Z"
   },
   {
    "duration": 15,
    "start_time": "2022-01-23T08:33:50.879Z"
   },
   {
    "duration": 172,
    "start_time": "2022-01-23T08:33:50.897Z"
   },
   {
    "duration": 133,
    "start_time": "2022-01-23T08:33:51.071Z"
   },
   {
    "duration": 58,
    "start_time": "2022-01-23T08:33:51.206Z"
   },
   {
    "duration": 37,
    "start_time": "2022-01-23T08:33:51.267Z"
   },
   {
    "duration": 11,
    "start_time": "2022-01-23T08:33:51.306Z"
   },
   {
    "duration": 16,
    "start_time": "2022-01-23T08:33:51.319Z"
   },
   {
    "duration": 29,
    "start_time": "2022-01-23T08:33:51.337Z"
   },
   {
    "duration": 6,
    "start_time": "2022-01-23T08:33:51.368Z"
   },
   {
    "duration": 32,
    "start_time": "2022-01-23T08:33:51.376Z"
   },
   {
    "duration": 16,
    "start_time": "2022-01-23T08:33:51.433Z"
   },
   {
    "duration": 15,
    "start_time": "2022-01-23T08:33:51.452Z"
   },
   {
    "duration": 120,
    "start_time": "2022-01-23T08:33:51.470Z"
   },
   {
    "duration": 155,
    "start_time": "2022-01-23T08:33:51.592Z"
   },
   {
    "duration": 66,
    "start_time": "2022-01-23T08:33:51.749Z"
   },
   {
    "duration": 67,
    "start_time": "2022-01-23T08:33:51.833Z"
   },
   {
    "duration": 96,
    "start_time": "2022-01-23T08:33:51.902Z"
   },
   {
    "duration": 91,
    "start_time": "2022-01-23T08:33:52.001Z"
   },
   {
    "duration": 20,
    "start_time": "2022-01-23T08:33:52.094Z"
   },
   {
    "duration": 394,
    "start_time": "2022-01-23T08:33:52.133Z"
   },
   {
    "duration": 692,
    "start_time": "2022-01-23T08:33:51.838Z"
   },
   {
    "duration": 684,
    "start_time": "2022-01-23T08:33:51.848Z"
   },
   {
    "duration": 679,
    "start_time": "2022-01-23T08:33:51.855Z"
   },
   {
    "duration": 671,
    "start_time": "2022-01-23T08:33:51.866Z"
   },
   {
    "duration": 664,
    "start_time": "2022-01-23T08:33:51.875Z"
   },
   {
    "duration": 647,
    "start_time": "2022-01-23T08:33:51.894Z"
   },
   {
    "duration": 66,
    "start_time": "2022-01-23T08:34:22.582Z"
   },
   {
    "duration": 11,
    "start_time": "2022-01-23T08:35:22.318Z"
   },
   {
    "duration": 41,
    "start_time": "2022-01-23T08:35:32.458Z"
   },
   {
    "duration": 284,
    "start_time": "2022-01-23T08:35:47.576Z"
   },
   {
    "duration": 41,
    "start_time": "2022-01-23T08:35:58.841Z"
   },
   {
    "duration": 29,
    "start_time": "2022-01-23T08:36:21.475Z"
   },
   {
    "duration": 28,
    "start_time": "2022-01-23T08:36:40.558Z"
   },
   {
    "duration": 46,
    "start_time": "2022-01-23T08:37:18.032Z"
   },
   {
    "duration": 109,
    "start_time": "2022-01-23T08:37:23.759Z"
   },
   {
    "duration": 396,
    "start_time": "2022-01-23T08:38:02.868Z"
   },
   {
    "duration": 330,
    "start_time": "2022-01-23T08:38:17.266Z"
   },
   {
    "duration": 706,
    "start_time": "2022-01-23T08:38:33.980Z"
   },
   {
    "duration": 210,
    "start_time": "2022-01-23T08:38:34.688Z"
   },
   {
    "duration": 48,
    "start_time": "2022-01-23T08:38:34.901Z"
   },
   {
    "duration": 176,
    "start_time": "2022-01-23T08:38:34.951Z"
   },
   {
    "duration": 40,
    "start_time": "2022-01-23T08:38:35.133Z"
   },
   {
    "duration": 127,
    "start_time": "2022-01-23T08:38:35.175Z"
   },
   {
    "duration": 32,
    "start_time": "2022-01-23T08:38:35.304Z"
   },
   {
    "duration": 24,
    "start_time": "2022-01-23T08:38:35.339Z"
   },
   {
    "duration": 39,
    "start_time": "2022-01-23T08:38:35.366Z"
   },
   {
    "duration": 31,
    "start_time": "2022-01-23T08:38:35.408Z"
   },
   {
    "duration": 12,
    "start_time": "2022-01-23T08:38:35.442Z"
   },
   {
    "duration": 12,
    "start_time": "2022-01-23T08:38:35.456Z"
   },
   {
    "duration": 7,
    "start_time": "2022-01-23T08:38:35.470Z"
   },
   {
    "duration": 7,
    "start_time": "2022-01-23T08:38:35.479Z"
   },
   {
    "duration": 13,
    "start_time": "2022-01-23T08:38:35.488Z"
   },
   {
    "duration": 24,
    "start_time": "2022-01-23T08:38:35.533Z"
   },
   {
    "duration": 18,
    "start_time": "2022-01-23T08:38:35.559Z"
   },
   {
    "duration": 55,
    "start_time": "2022-01-23T08:38:35.579Z"
   },
   {
    "duration": 43,
    "start_time": "2022-01-23T08:38:35.637Z"
   },
   {
    "duration": 4,
    "start_time": "2022-01-23T08:38:35.682Z"
   },
   {
    "duration": 60,
    "start_time": "2022-01-23T08:38:35.689Z"
   },
   {
    "duration": 11,
    "start_time": "2022-01-23T08:38:35.752Z"
   },
   {
    "duration": 7,
    "start_time": "2022-01-23T08:38:35.768Z"
   },
   {
    "duration": 22,
    "start_time": "2022-01-23T08:38:35.778Z"
   },
   {
    "duration": 5,
    "start_time": "2022-01-23T08:38:35.833Z"
   },
   {
    "duration": 35,
    "start_time": "2022-01-23T08:38:35.840Z"
   },
   {
    "duration": 64,
    "start_time": "2022-01-23T08:38:35.878Z"
   },
   {
    "duration": 11,
    "start_time": "2022-01-23T08:38:35.945Z"
   },
   {
    "duration": 11,
    "start_time": "2022-01-23T08:38:35.959Z"
   },
   {
    "duration": 19,
    "start_time": "2022-01-23T08:38:35.972Z"
   },
   {
    "duration": 39,
    "start_time": "2022-01-23T08:38:35.993Z"
   },
   {
    "duration": 26,
    "start_time": "2022-01-23T08:38:36.035Z"
   },
   {
    "duration": 14,
    "start_time": "2022-01-23T08:38:36.064Z"
   },
   {
    "duration": 12,
    "start_time": "2022-01-23T08:38:36.081Z"
   },
   {
    "duration": 136,
    "start_time": "2022-01-23T08:38:36.096Z"
   },
   {
    "duration": 429,
    "start_time": "2022-01-23T08:38:39.641Z"
   },
   {
    "duration": 94,
    "start_time": "2022-01-23T08:39:20.390Z"
   },
   {
    "duration": 1150,
    "start_time": "2022-01-23T08:39:23.321Z"
   },
   {
    "duration": 121,
    "start_time": "2022-01-23T08:39:41.883Z"
   },
   {
    "duration": 303,
    "start_time": "2022-01-23T08:41:32.513Z"
   },
   {
    "duration": 774,
    "start_time": "2022-01-23T08:41:49.239Z"
   },
   {
    "duration": 221,
    "start_time": "2022-01-23T08:41:50.016Z"
   },
   {
    "duration": 43,
    "start_time": "2022-01-23T08:41:50.241Z"
   },
   {
    "duration": 189,
    "start_time": "2022-01-23T08:41:50.287Z"
   },
   {
    "duration": 55,
    "start_time": "2022-01-23T08:41:50.478Z"
   },
   {
    "duration": 113,
    "start_time": "2022-01-23T08:41:50.536Z"
   },
   {
    "duration": 24,
    "start_time": "2022-01-23T08:41:50.651Z"
   },
   {
    "duration": 24,
    "start_time": "2022-01-23T08:41:50.678Z"
   },
   {
    "duration": 40,
    "start_time": "2022-01-23T08:41:50.705Z"
   },
   {
    "duration": 28,
    "start_time": "2022-01-23T08:41:50.747Z"
   },
   {
    "duration": 13,
    "start_time": "2022-01-23T08:41:50.778Z"
   },
   {
    "duration": 39,
    "start_time": "2022-01-23T08:41:50.793Z"
   },
   {
    "duration": 5,
    "start_time": "2022-01-23T08:41:50.835Z"
   },
   {
    "duration": 6,
    "start_time": "2022-01-23T08:41:50.843Z"
   },
   {
    "duration": 12,
    "start_time": "2022-01-23T08:41:50.852Z"
   },
   {
    "duration": 24,
    "start_time": "2022-01-23T08:41:50.866Z"
   },
   {
    "duration": 48,
    "start_time": "2022-01-23T08:41:50.892Z"
   },
   {
    "duration": 40,
    "start_time": "2022-01-23T08:41:50.943Z"
   },
   {
    "duration": 55,
    "start_time": "2022-01-23T08:41:50.985Z"
   },
   {
    "duration": 5,
    "start_time": "2022-01-23T08:41:51.042Z"
   },
   {
    "duration": 41,
    "start_time": "2022-01-23T08:41:51.050Z"
   },
   {
    "duration": 11,
    "start_time": "2022-01-23T08:41:51.093Z"
   },
   {
    "duration": 27,
    "start_time": "2022-01-23T08:41:51.109Z"
   },
   {
    "duration": 25,
    "start_time": "2022-01-23T08:41:51.139Z"
   },
   {
    "duration": 5,
    "start_time": "2022-01-23T08:41:51.166Z"
   },
   {
    "duration": 70,
    "start_time": "2022-01-23T08:41:51.173Z"
   },
   {
    "duration": 39,
    "start_time": "2022-01-23T08:41:51.245Z"
   },
   {
    "duration": 13,
    "start_time": "2022-01-23T08:41:51.287Z"
   },
   {
    "duration": 31,
    "start_time": "2022-01-23T08:41:51.302Z"
   },
   {
    "duration": 21,
    "start_time": "2022-01-23T08:41:51.336Z"
   },
   {
    "duration": 4,
    "start_time": "2022-01-23T08:41:51.360Z"
   },
   {
    "duration": 28,
    "start_time": "2022-01-23T08:41:51.367Z"
   },
   {
    "duration": 47,
    "start_time": "2022-01-23T08:41:51.398Z"
   },
   {
    "duration": 11,
    "start_time": "2022-01-23T08:41:51.448Z"
   },
   {
    "duration": 132,
    "start_time": "2022-01-23T08:41:51.462Z"
   },
   {
    "duration": 155,
    "start_time": "2022-01-23T08:41:51.596Z"
   },
   {
    "duration": 82,
    "start_time": "2022-01-23T08:41:51.754Z"
   },
   {
    "duration": 67,
    "start_time": "2022-01-23T08:41:51.838Z"
   },
   {
    "duration": 95,
    "start_time": "2022-01-23T08:41:51.908Z"
   },
   {
    "duration": 92,
    "start_time": "2022-01-23T08:41:52.006Z"
   },
   {
    "duration": 38,
    "start_time": "2022-01-23T08:41:52.101Z"
   },
   {
    "duration": 44,
    "start_time": "2022-01-23T08:41:57.610Z"
   },
   {
    "duration": 39,
    "start_time": "2022-01-23T08:42:20.271Z"
   },
   {
    "duration": 38,
    "start_time": "2022-01-23T08:43:50.986Z"
   },
   {
    "duration": 40,
    "start_time": "2022-01-23T08:46:41.027Z"
   },
   {
    "duration": 364,
    "start_time": "2022-01-23T08:47:16.886Z"
   },
   {
    "duration": 775,
    "start_time": "2022-01-23T08:47:16.478Z"
   },
   {
    "duration": 767,
    "start_time": "2022-01-23T08:47:16.487Z"
   },
   {
    "duration": 757,
    "start_time": "2022-01-23T08:47:16.499Z"
   },
   {
    "duration": 750,
    "start_time": "2022-01-23T08:47:16.507Z"
   },
   {
    "duration": 730,
    "start_time": "2022-01-23T08:47:16.528Z"
   },
   {
    "duration": 411,
    "start_time": "2022-01-23T08:48:13.228Z"
   },
   {
    "duration": 747,
    "start_time": "2022-01-23T08:48:31.487Z"
   },
   {
    "duration": 214,
    "start_time": "2022-01-23T08:48:32.236Z"
   },
   {
    "duration": 40,
    "start_time": "2022-01-23T08:48:32.452Z"
   },
   {
    "duration": 179,
    "start_time": "2022-01-23T08:48:32.495Z"
   },
   {
    "duration": 41,
    "start_time": "2022-01-23T08:48:32.676Z"
   },
   {
    "duration": 117,
    "start_time": "2022-01-23T08:48:32.733Z"
   },
   {
    "duration": 26,
    "start_time": "2022-01-23T08:48:32.853Z"
   },
   {
    "duration": 26,
    "start_time": "2022-01-23T08:48:32.884Z"
   },
   {
    "duration": 37,
    "start_time": "2022-01-23T08:48:32.932Z"
   },
   {
    "duration": 26,
    "start_time": "2022-01-23T08:48:32.971Z"
   },
   {
    "duration": 10,
    "start_time": "2022-01-23T08:48:32.999Z"
   },
   {
    "duration": 9,
    "start_time": "2022-01-23T08:48:33.032Z"
   },
   {
    "duration": 8,
    "start_time": "2022-01-23T08:48:33.043Z"
   },
   {
    "duration": 6,
    "start_time": "2022-01-23T08:48:33.053Z"
   },
   {
    "duration": 11,
    "start_time": "2022-01-23T08:48:33.062Z"
   },
   {
    "duration": 22,
    "start_time": "2022-01-23T08:48:33.076Z"
   },
   {
    "duration": 14,
    "start_time": "2022-01-23T08:48:33.133Z"
   },
   {
    "duration": 29,
    "start_time": "2022-01-23T08:48:33.150Z"
   },
   {
    "duration": 70,
    "start_time": "2022-01-23T08:48:33.181Z"
   },
   {
    "duration": 6,
    "start_time": "2022-01-23T08:48:33.253Z"
   },
   {
    "duration": 38,
    "start_time": "2022-01-23T08:48:33.261Z"
   },
   {
    "duration": 33,
    "start_time": "2022-01-23T08:48:33.301Z"
   },
   {
    "duration": 5,
    "start_time": "2022-01-23T08:48:33.340Z"
   },
   {
    "duration": 24,
    "start_time": "2022-01-23T08:48:33.348Z"
   },
   {
    "duration": 4,
    "start_time": "2022-01-23T08:48:33.375Z"
   },
   {
    "duration": 66,
    "start_time": "2022-01-23T08:48:33.382Z"
   },
   {
    "duration": 40,
    "start_time": "2022-01-23T08:48:33.450Z"
   },
   {
    "duration": 12,
    "start_time": "2022-01-23T08:48:33.493Z"
   },
   {
    "duration": 38,
    "start_time": "2022-01-23T08:48:33.508Z"
   },
   {
    "duration": 22,
    "start_time": "2022-01-23T08:48:33.549Z"
   },
   {
    "duration": 6,
    "start_time": "2022-01-23T08:48:33.574Z"
   },
   {
    "duration": 56,
    "start_time": "2022-01-23T08:48:33.583Z"
   },
   {
    "duration": 16,
    "start_time": "2022-01-23T08:48:33.642Z"
   },
   {
    "duration": 9,
    "start_time": "2022-01-23T08:48:33.661Z"
   },
   {
    "duration": 130,
    "start_time": "2022-01-23T08:48:33.673Z"
   },
   {
    "duration": 163,
    "start_time": "2022-01-23T08:48:33.805Z"
   },
   {
    "duration": 75,
    "start_time": "2022-01-23T08:48:33.971Z"
   },
   {
    "duration": 84,
    "start_time": "2022-01-23T08:48:34.048Z"
   },
   {
    "duration": 80,
    "start_time": "2022-01-23T08:48:34.134Z"
   },
   {
    "duration": 73,
    "start_time": "2022-01-23T08:48:34.233Z"
   },
   {
    "duration": 34,
    "start_time": "2022-01-23T08:48:34.309Z"
   },
   {
    "duration": 390,
    "start_time": "2022-01-23T08:48:34.346Z"
   },
   {
    "duration": 776,
    "start_time": "2022-01-23T08:48:33.962Z"
   },
   {
    "duration": 771,
    "start_time": "2022-01-23T08:48:33.969Z"
   },
   {
    "duration": 763,
    "start_time": "2022-01-23T08:48:33.978Z"
   },
   {
    "duration": 758,
    "start_time": "2022-01-23T08:48:33.985Z"
   },
   {
    "duration": 752,
    "start_time": "2022-01-23T08:48:33.992Z"
   },
   {
    "duration": 747,
    "start_time": "2022-01-23T08:48:33.999Z"
   },
   {
    "duration": 742,
    "start_time": "2022-01-23T08:48:34.005Z"
   },
   {
    "duration": 336,
    "start_time": "2022-01-23T08:48:38.237Z"
   },
   {
    "duration": 64,
    "start_time": "2022-01-23T08:48:53.255Z"
   },
   {
    "duration": 38,
    "start_time": "2022-01-23T08:48:55.808Z"
   },
   {
    "duration": 6,
    "start_time": "2022-01-23T08:49:00.441Z"
   },
   {
    "duration": 6,
    "start_time": "2022-01-23T08:49:23.973Z"
   },
   {
    "duration": 5,
    "start_time": "2022-01-23T08:49:24.439Z"
   },
   {
    "duration": 6,
    "start_time": "2022-01-23T08:49:24.834Z"
   },
   {
    "duration": 6,
    "start_time": "2022-01-23T08:49:25.294Z"
   },
   {
    "duration": 20,
    "start_time": "2022-01-23T08:49:25.769Z"
   },
   {
    "duration": 9,
    "start_time": "2022-01-23T08:56:26.361Z"
   },
   {
    "duration": 14,
    "start_time": "2022-01-23T08:58:32.809Z"
   },
   {
    "duration": 13,
    "start_time": "2022-01-23T08:59:30.697Z"
   },
   {
    "duration": 400,
    "start_time": "2022-01-23T09:11:17.815Z"
   },
   {
    "duration": 10,
    "start_time": "2022-01-23T09:11:27.842Z"
   },
   {
    "duration": 912,
    "start_time": "2022-01-23T12:25:34.754Z"
   },
   {
    "duration": 209,
    "start_time": "2022-01-23T12:25:35.669Z"
   },
   {
    "duration": 41,
    "start_time": "2022-01-23T12:25:35.882Z"
   },
   {
    "duration": 181,
    "start_time": "2022-01-23T12:25:35.926Z"
   },
   {
    "duration": 70,
    "start_time": "2022-01-23T12:25:36.110Z"
   },
   {
    "duration": 159,
    "start_time": "2022-01-23T12:25:36.183Z"
   },
   {
    "duration": 40,
    "start_time": "2022-01-23T12:25:36.345Z"
   },
   {
    "duration": 28,
    "start_time": "2022-01-23T12:25:36.390Z"
   },
   {
    "duration": 43,
    "start_time": "2022-01-23T12:25:36.422Z"
   },
   {
    "duration": 25,
    "start_time": "2022-01-23T12:25:36.468Z"
   },
   {
    "duration": 11,
    "start_time": "2022-01-23T12:25:36.495Z"
   },
   {
    "duration": 8,
    "start_time": "2022-01-23T12:25:36.509Z"
   },
   {
    "duration": 7,
    "start_time": "2022-01-23T12:25:36.519Z"
   },
   {
    "duration": 37,
    "start_time": "2022-01-23T12:25:36.528Z"
   },
   {
    "duration": 16,
    "start_time": "2022-01-23T12:25:36.567Z"
   },
   {
    "duration": 23,
    "start_time": "2022-01-23T12:25:36.585Z"
   },
   {
    "duration": 24,
    "start_time": "2022-01-23T12:25:36.611Z"
   },
   {
    "duration": 43,
    "start_time": "2022-01-23T12:25:36.666Z"
   },
   {
    "duration": 80,
    "start_time": "2022-01-23T12:25:36.711Z"
   },
   {
    "duration": 5,
    "start_time": "2022-01-23T12:25:36.794Z"
   },
   {
    "duration": 64,
    "start_time": "2022-01-23T12:25:36.802Z"
   },
   {
    "duration": 14,
    "start_time": "2022-01-23T12:25:36.869Z"
   },
   {
    "duration": 6,
    "start_time": "2022-01-23T12:25:36.891Z"
   },
   {
    "duration": 63,
    "start_time": "2022-01-23T12:25:36.901Z"
   },
   {
    "duration": 6,
    "start_time": "2022-01-23T12:25:36.967Z"
   },
   {
    "duration": 48,
    "start_time": "2022-01-23T12:25:36.976Z"
   },
   {
    "duration": 71,
    "start_time": "2022-01-23T12:25:37.027Z"
   },
   {
    "duration": 15,
    "start_time": "2022-01-23T12:25:37.101Z"
   },
   {
    "duration": 20,
    "start_time": "2022-01-23T12:25:37.119Z"
   },
   {
    "duration": 45,
    "start_time": "2022-01-23T12:25:37.142Z"
   },
   {
    "duration": 6,
    "start_time": "2022-01-23T12:25:37.190Z"
   },
   {
    "duration": 43,
    "start_time": "2022-01-23T12:25:37.198Z"
   },
   {
    "duration": 31,
    "start_time": "2022-01-23T12:25:37.244Z"
   },
   {
    "duration": 12,
    "start_time": "2022-01-23T12:25:37.277Z"
   },
   {
    "duration": 144,
    "start_time": "2022-01-23T12:25:37.292Z"
   },
   {
    "duration": 164,
    "start_time": "2022-01-23T12:25:37.439Z"
   },
   {
    "duration": 82,
    "start_time": "2022-01-23T12:25:37.606Z"
   },
   {
    "duration": 91,
    "start_time": "2022-01-23T12:25:37.691Z"
   },
   {
    "duration": 103,
    "start_time": "2022-01-23T12:25:37.785Z"
   },
   {
    "duration": 93,
    "start_time": "2022-01-23T12:25:37.891Z"
   },
   {
    "duration": 26,
    "start_time": "2022-01-23T12:25:37.987Z"
   },
   {
    "duration": 69,
    "start_time": "2022-01-23T12:25:38.016Z"
   },
   {
    "duration": 38,
    "start_time": "2022-01-23T12:25:38.088Z"
   },
   {
    "duration": 5,
    "start_time": "2022-01-23T12:25:38.128Z"
   },
   {
    "duration": 30,
    "start_time": "2022-01-23T12:25:38.136Z"
   },
   {
    "duration": 5,
    "start_time": "2022-01-23T12:25:38.168Z"
   },
   {
    "duration": 10,
    "start_time": "2022-01-23T12:25:38.175Z"
   },
   {
    "duration": 9,
    "start_time": "2022-01-23T12:25:38.187Z"
   },
   {
    "duration": 23,
    "start_time": "2022-01-23T12:25:38.198Z"
   },
   {
    "duration": 41,
    "start_time": "2022-01-23T12:25:38.223Z"
   },
   {
    "duration": 10,
    "start_time": "2022-01-23T12:26:36.467Z"
   },
   {
    "duration": 26,
    "start_time": "2022-01-23T12:26:57.472Z"
   },
   {
    "duration": 9,
    "start_time": "2022-01-23T12:27:57.384Z"
   },
   {
    "duration": 16,
    "start_time": "2022-01-23T12:27:59.782Z"
   },
   {
    "duration": 925,
    "start_time": "2022-01-23T12:29:02.558Z"
   },
   {
    "duration": 220,
    "start_time": "2022-01-23T12:29:03.486Z"
   },
   {
    "duration": 55,
    "start_time": "2022-01-23T12:29:03.709Z"
   },
   {
    "duration": 175,
    "start_time": "2022-01-23T12:29:03.767Z"
   },
   {
    "duration": 48,
    "start_time": "2022-01-23T12:29:03.945Z"
   },
   {
    "duration": 126,
    "start_time": "2022-01-23T12:29:03.995Z"
   },
   {
    "duration": 25,
    "start_time": "2022-01-23T12:29:04.123Z"
   },
   {
    "duration": 27,
    "start_time": "2022-01-23T12:29:04.167Z"
   },
   {
    "duration": 43,
    "start_time": "2022-01-23T12:29:04.197Z"
   },
   {
    "duration": 28,
    "start_time": "2022-01-23T12:29:04.242Z"
   },
   {
    "duration": 14,
    "start_time": "2022-01-23T12:29:04.273Z"
   },
   {
    "duration": 15,
    "start_time": "2022-01-23T12:29:04.289Z"
   },
   {
    "duration": 5,
    "start_time": "2022-01-23T12:29:04.306Z"
   },
   {
    "duration": 7,
    "start_time": "2022-01-23T12:29:04.314Z"
   },
   {
    "duration": 44,
    "start_time": "2022-01-23T12:29:04.324Z"
   },
   {
    "duration": 30,
    "start_time": "2022-01-23T12:29:04.371Z"
   },
   {
    "duration": 18,
    "start_time": "2022-01-23T12:29:04.403Z"
   },
   {
    "duration": 60,
    "start_time": "2022-01-23T12:29:04.423Z"
   },
   {
    "duration": 43,
    "start_time": "2022-01-23T12:29:04.485Z"
   },
   {
    "duration": 6,
    "start_time": "2022-01-23T12:29:04.530Z"
   },
   {
    "duration": 34,
    "start_time": "2022-01-23T12:29:04.569Z"
   },
   {
    "duration": 11,
    "start_time": "2022-01-23T12:29:04.606Z"
   },
   {
    "duration": 6,
    "start_time": "2022-01-23T12:29:04.623Z"
   },
   {
    "duration": 52,
    "start_time": "2022-01-23T12:29:04.632Z"
   },
   {
    "duration": 5,
    "start_time": "2022-01-23T12:29:04.687Z"
   },
   {
    "duration": 34,
    "start_time": "2022-01-23T12:29:04.694Z"
   },
   {
    "duration": 65,
    "start_time": "2022-01-23T12:29:04.732Z"
   },
   {
    "duration": 12,
    "start_time": "2022-01-23T12:29:04.799Z"
   },
   {
    "duration": 16,
    "start_time": "2022-01-23T12:29:04.814Z"
   },
   {
    "duration": 46,
    "start_time": "2022-01-23T12:29:04.833Z"
   },
   {
    "duration": 7,
    "start_time": "2022-01-23T12:29:04.881Z"
   },
   {
    "duration": 29,
    "start_time": "2022-01-23T12:29:04.890Z"
   },
   {
    "duration": 15,
    "start_time": "2022-01-23T12:29:04.922Z"
   },
   {
    "duration": 30,
    "start_time": "2022-01-23T12:29:04.939Z"
   },
   {
    "duration": 123,
    "start_time": "2022-01-23T12:29:04.972Z"
   },
   {
    "duration": 170,
    "start_time": "2022-01-23T12:29:05.099Z"
   },
   {
    "duration": 74,
    "start_time": "2022-01-23T12:29:05.272Z"
   },
   {
    "duration": 71,
    "start_time": "2022-01-23T12:29:05.365Z"
   },
   {
    "duration": 97,
    "start_time": "2022-01-23T12:29:05.438Z"
   },
   {
    "duration": 94,
    "start_time": "2022-01-23T12:29:05.538Z"
   },
   {
    "duration": 34,
    "start_time": "2022-01-23T12:29:05.635Z"
   },
   {
    "duration": 45,
    "start_time": "2022-01-23T12:29:05.671Z"
   },
   {
    "duration": 76,
    "start_time": "2022-01-23T12:29:05.719Z"
   },
   {
    "duration": 6,
    "start_time": "2022-01-23T12:29:05.799Z"
   },
   {
    "duration": 25,
    "start_time": "2022-01-23T12:29:05.807Z"
   },
   {
    "duration": 12,
    "start_time": "2022-01-23T12:29:05.835Z"
   },
   {
    "duration": 16,
    "start_time": "2022-01-23T12:29:05.850Z"
   },
   {
    "duration": 5,
    "start_time": "2022-01-23T12:29:05.868Z"
   },
   {
    "duration": 23,
    "start_time": "2022-01-23T12:29:05.876Z"
   },
   {
    "duration": 13,
    "start_time": "2022-01-23T12:29:05.901Z"
   },
   {
    "duration": 9,
    "start_time": "2022-01-23T12:29:11.298Z"
   },
   {
    "duration": 28,
    "start_time": "2022-01-23T12:29:12.997Z"
   },
   {
    "duration": 517,
    "start_time": "2022-01-23T12:29:44.738Z"
   },
   {
    "duration": 287,
    "start_time": "2022-01-23T12:31:16.854Z"
   },
   {
    "duration": 10,
    "start_time": "2022-01-23T12:31:26.161Z"
   },
   {
    "duration": 25,
    "start_time": "2022-01-23T12:31:27.521Z"
   },
   {
    "duration": 9,
    "start_time": "2022-01-23T12:32:05.483Z"
   },
   {
    "duration": 7,
    "start_time": "2022-01-23T12:32:46.804Z"
   },
   {
    "duration": 13,
    "start_time": "2022-01-23T12:32:55.547Z"
   },
   {
    "duration": 13,
    "start_time": "2022-01-23T12:33:09.014Z"
   },
   {
    "duration": 6,
    "start_time": "2022-01-23T12:40:15.418Z"
   },
   {
    "duration": 8536,
    "start_time": "2022-01-23T12:40:18.166Z"
   },
   {
    "duration": 6543,
    "start_time": "2022-01-23T12:42:26.821Z"
   },
   {
    "duration": 6,
    "start_time": "2022-01-23T12:42:56.048Z"
   },
   {
    "duration": 499,
    "start_time": "2022-01-23T12:42:59.539Z"
   },
   {
    "duration": 5,
    "start_time": "2022-01-23T12:43:36.828Z"
   },
   {
    "duration": 549,
    "start_time": "2022-01-23T12:43:38.300Z"
   },
   {
    "duration": 7,
    "start_time": "2022-01-23T13:26:47.222Z"
   },
   {
    "duration": 531,
    "start_time": "2022-01-23T13:26:49.445Z"
   },
   {
    "duration": 10,
    "start_time": "2022-01-23T13:27:14.640Z"
   },
   {
    "duration": 290,
    "start_time": "2022-01-23T13:32:33.460Z"
   },
   {
    "duration": 5,
    "start_time": "2022-01-23T13:35:16.094Z"
   },
   {
    "duration": 248,
    "start_time": "2022-01-23T13:35:17.712Z"
   },
   {
    "duration": 7,
    "start_time": "2022-01-23T13:38:08.524Z"
   },
   {
    "duration": 377,
    "start_time": "2022-01-23T13:38:09.775Z"
   },
   {
    "duration": 577,
    "start_time": "2022-01-23T13:39:36.516Z"
   },
   {
    "duration": 31,
    "start_time": "2022-01-23T13:39:49.585Z"
   },
   {
    "duration": 5,
    "start_time": "2022-01-23T13:40:12.363Z"
   },
   {
    "duration": 433,
    "start_time": "2022-01-23T13:40:17.032Z"
   },
   {
    "duration": 21,
    "start_time": "2022-01-23T13:40:19.118Z"
   },
   {
    "duration": 30,
    "start_time": "2022-01-23T13:42:27.143Z"
   },
   {
    "duration": 245,
    "start_time": "2022-01-23T13:43:31.754Z"
   },
   {
    "duration": 370,
    "start_time": "2022-01-23T13:43:40.351Z"
   },
   {
    "duration": 33,
    "start_time": "2022-01-23T13:44:01.756Z"
   },
   {
    "duration": 638,
    "start_time": "2022-01-24T05:52:56.923Z"
   },
   {
    "duration": 186,
    "start_time": "2022-01-24T05:52:57.563Z"
   },
   {
    "duration": 32,
    "start_time": "2022-01-24T05:52:57.752Z"
   },
   {
    "duration": 165,
    "start_time": "2022-01-24T05:52:57.787Z"
   },
   {
    "duration": 32,
    "start_time": "2022-01-24T05:52:57.954Z"
   },
   {
    "duration": 106,
    "start_time": "2022-01-24T05:52:57.987Z"
   },
   {
    "duration": 31,
    "start_time": "2022-01-24T05:52:58.095Z"
   },
   {
    "duration": 35,
    "start_time": "2022-01-24T05:52:58.129Z"
   },
   {
    "duration": 38,
    "start_time": "2022-01-24T05:52:58.167Z"
   },
   {
    "duration": 24,
    "start_time": "2022-01-24T05:52:58.208Z"
   },
   {
    "duration": 7,
    "start_time": "2022-01-24T05:52:58.234Z"
   },
   {
    "duration": 13,
    "start_time": "2022-01-24T05:52:58.243Z"
   },
   {
    "duration": 15,
    "start_time": "2022-01-24T05:52:58.258Z"
   },
   {
    "duration": 15,
    "start_time": "2022-01-24T05:52:58.275Z"
   },
   {
    "duration": 23,
    "start_time": "2022-01-24T05:52:58.292Z"
   },
   {
    "duration": 17,
    "start_time": "2022-01-24T05:52:58.321Z"
   },
   {
    "duration": 18,
    "start_time": "2022-01-24T05:52:58.339Z"
   },
   {
    "duration": 33,
    "start_time": "2022-01-24T05:52:58.359Z"
   },
   {
    "duration": 39,
    "start_time": "2022-01-24T05:52:58.393Z"
   },
   {
    "duration": 3,
    "start_time": "2022-01-24T05:52:58.434Z"
   },
   {
    "duration": 34,
    "start_time": "2022-01-24T05:52:58.439Z"
   },
   {
    "duration": 8,
    "start_time": "2022-01-24T05:52:58.475Z"
   },
   {
    "duration": 21,
    "start_time": "2022-01-24T05:52:58.487Z"
   },
   {
    "duration": 23,
    "start_time": "2022-01-24T05:52:58.512Z"
   },
   {
    "duration": 4,
    "start_time": "2022-01-24T05:52:58.537Z"
   },
   {
    "duration": 36,
    "start_time": "2022-01-24T05:52:58.542Z"
   },
   {
    "duration": 57,
    "start_time": "2022-01-24T05:52:58.580Z"
   },
   {
    "duration": 9,
    "start_time": "2022-01-24T05:52:58.638Z"
   },
   {
    "duration": 13,
    "start_time": "2022-01-24T05:52:58.649Z"
   },
   {
    "duration": 22,
    "start_time": "2022-01-24T05:52:58.663Z"
   },
   {
    "duration": 6,
    "start_time": "2022-01-24T05:52:58.707Z"
   },
   {
    "duration": 32,
    "start_time": "2022-01-24T05:52:58.715Z"
   },
   {
    "duration": 11,
    "start_time": "2022-01-24T05:52:58.749Z"
   },
   {
    "duration": 21,
    "start_time": "2022-01-24T05:52:58.761Z"
   },
   {
    "duration": 96,
    "start_time": "2022-01-24T05:52:58.784Z"
   },
   {
    "duration": 122,
    "start_time": "2022-01-24T05:52:58.881Z"
   },
   {
    "duration": 56,
    "start_time": "2022-01-24T05:52:59.008Z"
   },
   {
    "duration": 79,
    "start_time": "2022-01-24T05:52:59.066Z"
   },
   {
    "duration": 75,
    "start_time": "2022-01-24T05:52:59.147Z"
   },
   {
    "duration": 84,
    "start_time": "2022-01-24T05:52:59.224Z"
   },
   {
    "duration": 23,
    "start_time": "2022-01-24T05:52:59.310Z"
   },
   {
    "duration": 31,
    "start_time": "2022-01-24T05:52:59.335Z"
   },
   {
    "duration": 56,
    "start_time": "2022-01-24T05:52:59.367Z"
   },
   {
    "duration": 4,
    "start_time": "2022-01-24T05:52:59.425Z"
   },
   {
    "duration": 30,
    "start_time": "2022-01-24T05:52:59.431Z"
   },
   {
    "duration": 18,
    "start_time": "2022-01-24T05:52:59.463Z"
   },
   {
    "duration": 27,
    "start_time": "2022-01-24T05:52:59.483Z"
   },
   {
    "duration": 29,
    "start_time": "2022-01-24T05:52:59.512Z"
   },
   {
    "duration": 45,
    "start_time": "2022-01-24T05:52:59.543Z"
   },
   {
    "duration": 35,
    "start_time": "2022-01-24T05:52:59.590Z"
   },
   {
    "duration": 24,
    "start_time": "2022-01-24T05:52:59.627Z"
   },
   {
    "duration": 35,
    "start_time": "2022-01-24T05:52:59.653Z"
   },
   {
    "duration": 30,
    "start_time": "2022-01-24T05:52:59.690Z"
   },
   {
    "duration": 34,
    "start_time": "2022-01-24T05:52:59.722Z"
   },
   {
    "duration": 18,
    "start_time": "2022-01-24T05:52:59.757Z"
   },
   {
    "duration": 30,
    "start_time": "2022-01-24T05:52:59.776Z"
   },
   {
    "duration": 25,
    "start_time": "2022-01-24T05:52:59.809Z"
   },
   {
    "duration": 225,
    "start_time": "2022-01-24T05:52:59.836Z"
   },
   {
    "duration": 24,
    "start_time": "2022-01-24T05:53:00.063Z"
   },
   {
    "duration": 13,
    "start_time": "2022-01-24T06:08:08.768Z"
   },
   {
    "duration": 21,
    "start_time": "2022-01-24T06:08:55.692Z"
   },
   {
    "duration": 299,
    "start_time": "2022-01-24T06:09:35.783Z"
   },
   {
    "duration": 201,
    "start_time": "2022-01-24T06:09:46.657Z"
   },
   {
    "duration": 30,
    "start_time": "2022-01-24T06:09:51.846Z"
   },
   {
    "duration": 47,
    "start_time": "2022-01-24T06:12:03.610Z"
   },
   {
    "duration": 17,
    "start_time": "2022-01-24T06:16:32.034Z"
   },
   {
    "duration": 7,
    "start_time": "2022-01-24T06:17:07.472Z"
   },
   {
    "duration": 327,
    "start_time": "2022-01-24T06:17:43.582Z"
   },
   {
    "duration": 6283,
    "start_time": "2022-01-24T06:25:00.045Z"
   },
   {
    "duration": 91,
    "start_time": "2022-01-24T06:25:21.080Z"
   },
   {
    "duration": 268,
    "start_time": "2022-01-24T06:26:12.239Z"
   },
   {
    "duration": 150,
    "start_time": "2022-01-24T06:27:16.708Z"
   },
   {
    "duration": 271,
    "start_time": "2022-01-24T06:27:23.396Z"
   },
   {
    "duration": 85,
    "start_time": "2022-01-24T06:27:42.069Z"
   },
   {
    "duration": 350,
    "start_time": "2022-01-24T06:28:04.457Z"
   },
   {
    "duration": 7948,
    "start_time": "2022-01-24T06:28:41.987Z"
   },
   {
    "duration": 85,
    "start_time": "2022-01-24T06:32:11.156Z"
   },
   {
    "duration": 736,
    "start_time": "2022-01-24T09:29:33.894Z"
   },
   {
    "duration": 209,
    "start_time": "2022-01-24T09:29:34.633Z"
   },
   {
    "duration": 36,
    "start_time": "2022-01-24T09:29:34.844Z"
   },
   {
    "duration": 173,
    "start_time": "2022-01-24T09:29:34.882Z"
   },
   {
    "duration": 36,
    "start_time": "2022-01-24T09:29:35.057Z"
   },
   {
    "duration": 113,
    "start_time": "2022-01-24T09:29:35.096Z"
   },
   {
    "duration": 31,
    "start_time": "2022-01-24T09:29:35.211Z"
   },
   {
    "duration": 22,
    "start_time": "2022-01-24T09:29:35.246Z"
   },
   {
    "duration": 33,
    "start_time": "2022-01-24T09:29:35.271Z"
   },
   {
    "duration": 31,
    "start_time": "2022-01-24T09:29:35.306Z"
   },
   {
    "duration": 9,
    "start_time": "2022-01-24T09:29:35.339Z"
   },
   {
    "duration": 8,
    "start_time": "2022-01-24T09:29:35.350Z"
   },
   {
    "duration": 9,
    "start_time": "2022-01-24T09:29:35.361Z"
   },
   {
    "duration": 9,
    "start_time": "2022-01-24T09:29:35.372Z"
   },
   {
    "duration": 44,
    "start_time": "2022-01-24T09:29:35.383Z"
   },
   {
    "duration": 23,
    "start_time": "2022-01-24T09:29:35.429Z"
   },
   {
    "duration": 14,
    "start_time": "2022-01-24T09:29:35.454Z"
   },
   {
    "duration": 57,
    "start_time": "2022-01-24T09:29:35.471Z"
   },
   {
    "duration": 36,
    "start_time": "2022-01-24T09:29:35.530Z"
   },
   {
    "duration": 4,
    "start_time": "2022-01-24T09:29:35.569Z"
   },
   {
    "duration": 60,
    "start_time": "2022-01-24T09:29:35.576Z"
   },
   {
    "duration": 10,
    "start_time": "2022-01-24T09:29:35.638Z"
   },
   {
    "duration": 5,
    "start_time": "2022-01-24T09:29:35.654Z"
   },
   {
    "duration": 19,
    "start_time": "2022-01-24T09:29:35.662Z"
   },
   {
    "duration": 5,
    "start_time": "2022-01-24T09:29:35.683Z"
   },
   {
    "duration": 28,
    "start_time": "2022-01-24T09:29:35.724Z"
   },
   {
    "duration": 40,
    "start_time": "2022-01-24T09:29:35.754Z"
   },
   {
    "duration": 35,
    "start_time": "2022-01-24T09:29:35.797Z"
   },
   {
    "duration": 12,
    "start_time": "2022-01-24T09:29:35.834Z"
   },
   {
    "duration": 18,
    "start_time": "2022-01-24T09:29:35.848Z"
   },
   {
    "duration": 5,
    "start_time": "2022-01-24T09:29:35.869Z"
   },
   {
    "duration": 56,
    "start_time": "2022-01-24T09:29:35.876Z"
   },
   {
    "duration": 15,
    "start_time": "2022-01-24T09:29:35.934Z"
   },
   {
    "duration": 12,
    "start_time": "2022-01-24T09:29:35.951Z"
   },
   {
    "duration": 124,
    "start_time": "2022-01-24T09:29:35.965Z"
   },
   {
    "duration": 148,
    "start_time": "2022-01-24T09:29:36.092Z"
   },
   {
    "duration": 63,
    "start_time": "2022-01-24T09:29:36.242Z"
   },
   {
    "duration": 72,
    "start_time": "2022-01-24T09:29:36.307Z"
   },
   {
    "duration": 94,
    "start_time": "2022-01-24T09:29:36.382Z"
   },
   {
    "duration": 86,
    "start_time": "2022-01-24T09:29:36.478Z"
   },
   {
    "duration": 22,
    "start_time": "2022-01-24T09:29:36.567Z"
   },
   {
    "duration": 57,
    "start_time": "2022-01-24T09:29:36.591Z"
   },
   {
    "duration": 35,
    "start_time": "2022-01-24T09:29:36.650Z"
   },
   {
    "duration": 4,
    "start_time": "2022-01-24T09:29:36.688Z"
   },
   {
    "duration": 31,
    "start_time": "2022-01-24T09:29:36.694Z"
   },
   {
    "duration": 9,
    "start_time": "2022-01-24T09:29:36.727Z"
   },
   {
    "duration": 11,
    "start_time": "2022-01-24T09:29:36.738Z"
   },
   {
    "duration": 6,
    "start_time": "2022-01-24T09:29:36.752Z"
   },
   {
    "duration": 20,
    "start_time": "2022-01-24T09:29:36.760Z"
   },
   {
    "duration": 8,
    "start_time": "2022-01-24T09:29:36.782Z"
   },
   {
    "duration": 37,
    "start_time": "2022-01-24T09:29:36.792Z"
   },
   {
    "duration": 32,
    "start_time": "2022-01-24T09:29:36.831Z"
   },
   {
    "duration": 10,
    "start_time": "2022-01-24T09:29:36.866Z"
   },
   {
    "duration": 52,
    "start_time": "2022-01-24T09:29:36.878Z"
   },
   {
    "duration": 13,
    "start_time": "2022-01-24T09:29:36.933Z"
   },
   {
    "duration": 10,
    "start_time": "2022-01-24T09:29:36.948Z"
   },
   {
    "duration": 6,
    "start_time": "2022-01-24T09:29:36.960Z"
   },
   {
    "duration": 357,
    "start_time": "2022-01-24T09:29:36.969Z"
   },
   {
    "duration": 29,
    "start_time": "2022-01-24T09:29:37.329Z"
   },
   {
    "duration": 30,
    "start_time": "2022-01-24T09:29:37.360Z"
   },
   {
    "duration": 39,
    "start_time": "2022-01-24T09:29:37.424Z"
   },
   {
    "duration": 147,
    "start_time": "2022-01-24T09:29:37.465Z"
   },
   {
    "duration": 12,
    "start_time": "2022-01-24T09:29:37.614Z"
   },
   {
    "duration": 465,
    "start_time": "2022-01-24T09:29:37.628Z"
   },
   {
    "duration": 38,
    "start_time": "2022-01-24T09:31:28.774Z"
   },
   {
    "duration": 663,
    "start_time": "2022-01-24T09:32:19.486Z"
   },
   {
    "duration": 362,
    "start_time": "2022-01-24T09:32:32.522Z"
   },
   {
    "duration": 330,
    "start_time": "2022-01-24T09:32:47.068Z"
   },
   {
    "duration": 49,
    "start_time": "2022-01-24T09:33:18.589Z"
   },
   {
    "duration": 34,
    "start_time": "2022-01-24T09:36:52.701Z"
   },
   {
    "duration": 25,
    "start_time": "2022-01-24T09:37:05.032Z"
   },
   {
    "duration": 95,
    "start_time": "2022-01-24T09:37:18.174Z"
   },
   {
    "duration": 56,
    "start_time": "2022-01-24T09:37:42.315Z"
   },
   {
    "duration": 21,
    "start_time": "2022-01-24T09:37:45.600Z"
   },
   {
    "duration": 51,
    "start_time": "2022-01-24T09:37:47.917Z"
   },
   {
    "duration": 1177,
    "start_time": "2022-01-24T09:39:10.112Z"
   },
   {
    "duration": 1387,
    "start_time": "2022-01-24T09:39:27.228Z"
   },
   {
    "duration": 102,
    "start_time": "2022-01-24T09:58:44.251Z"
   },
   {
    "duration": 115,
    "start_time": "2022-01-24T09:59:03.972Z"
   },
   {
    "duration": 23,
    "start_time": "2022-01-24T09:59:35.785Z"
   },
   {
    "duration": 9661,
    "start_time": "2022-01-24T11:24:59.928Z"
   },
   {
    "duration": 598,
    "start_time": "2022-01-24T11:25:23.308Z"
   },
   {
    "duration": 698,
    "start_time": "2022-01-24T11:25:45.757Z"
   },
   {
    "duration": 621,
    "start_time": "2022-01-24T11:25:56.839Z"
   },
   {
    "duration": 267,
    "start_time": "2022-01-24T11:26:19.598Z"
   },
   {
    "duration": 261,
    "start_time": "2022-01-24T11:26:29.115Z"
   },
   {
    "duration": 311,
    "start_time": "2022-01-24T11:28:04.356Z"
   },
   {
    "duration": 500,
    "start_time": "2022-01-24T11:28:10.485Z"
   },
   {
    "duration": 537,
    "start_time": "2022-01-24T11:28:16.020Z"
   },
   {
    "duration": 19,
    "start_time": "2022-01-24T11:30:51.651Z"
   },
   {
    "duration": 495,
    "start_time": "2022-01-24T11:31:48.881Z"
   },
   {
    "duration": 494,
    "start_time": "2022-01-24T11:32:05.934Z"
   },
   {
    "duration": 21,
    "start_time": "2022-01-24T11:33:38.722Z"
   },
   {
    "duration": 495,
    "start_time": "2022-01-24T11:34:02.136Z"
   },
   {
    "duration": 511,
    "start_time": "2022-01-24T11:34:29.204Z"
   },
   {
    "duration": 388,
    "start_time": "2022-01-24T12:14:42.235Z"
   },
   {
    "duration": 328,
    "start_time": "2022-01-24T12:14:57.420Z"
   },
   {
    "duration": 322,
    "start_time": "2022-01-24T12:15:12.812Z"
   },
   {
    "duration": 270,
    "start_time": "2022-01-24T12:15:23.811Z"
   },
   {
    "duration": 299,
    "start_time": "2022-01-24T12:15:34.450Z"
   },
   {
    "duration": 307,
    "start_time": "2022-01-24T12:15:46.442Z"
   },
   {
    "duration": 377,
    "start_time": "2022-01-24T12:15:52.611Z"
   },
   {
    "duration": 482,
    "start_time": "2022-01-24T12:15:59.663Z"
   },
   {
    "duration": 626,
    "start_time": "2022-01-24T12:26:34.260Z"
   },
   {
    "duration": 906,
    "start_time": "2022-01-24T12:28:55.805Z"
   },
   {
    "duration": 966,
    "start_time": "2022-01-24T12:30:17.761Z"
   },
   {
    "duration": 559,
    "start_time": "2022-01-24T12:30:26.193Z"
   },
   {
    "duration": 14,
    "start_time": "2022-01-24T12:31:51.940Z"
   },
   {
    "duration": 562,
    "start_time": "2022-01-24T12:36:46.881Z"
   },
   {
    "duration": 8774,
    "start_time": "2022-01-24T12:37:10.794Z"
   },
   {
    "duration": 17,
    "start_time": "2022-01-24T12:37:29.314Z"
   },
   {
    "duration": 14,
    "start_time": "2022-01-24T12:49:32.392Z"
   },
   {
    "duration": 13,
    "start_time": "2022-01-24T12:49:51.348Z"
   },
   {
    "duration": 12,
    "start_time": "2022-01-24T12:49:58.499Z"
   },
   {
    "duration": 468,
    "start_time": "2022-01-24T12:51:36.236Z"
   },
   {
    "duration": 654,
    "start_time": "2022-01-24T12:51:41.269Z"
   },
   {
    "duration": 548,
    "start_time": "2022-01-24T12:52:43.251Z"
   },
   {
    "duration": 1136,
    "start_time": "2022-01-24T16:54:48.605Z"
   },
   {
    "duration": 159,
    "start_time": "2022-01-24T16:54:49.743Z"
   },
   {
    "duration": 30,
    "start_time": "2022-01-24T16:54:49.904Z"
   },
   {
    "duration": 144,
    "start_time": "2022-01-24T16:54:49.936Z"
   },
   {
    "duration": 38,
    "start_time": "2022-01-24T16:54:50.082Z"
   },
   {
    "duration": 91,
    "start_time": "2022-01-24T16:54:50.122Z"
   },
   {
    "duration": 16,
    "start_time": "2022-01-24T16:54:50.215Z"
   },
   {
    "duration": 21,
    "start_time": "2022-01-24T16:54:50.233Z"
   },
   {
    "duration": 35,
    "start_time": "2022-01-24T16:54:50.257Z"
   },
   {
    "duration": 18,
    "start_time": "2022-01-24T16:54:50.294Z"
   },
   {
    "duration": 6,
    "start_time": "2022-01-24T16:54:50.314Z"
   },
   {
    "duration": 11,
    "start_time": "2022-01-24T16:54:50.321Z"
   },
   {
    "duration": 5,
    "start_time": "2022-01-24T16:54:50.334Z"
   },
   {
    "duration": 6,
    "start_time": "2022-01-24T16:54:50.341Z"
   },
   {
    "duration": 12,
    "start_time": "2022-01-24T16:54:50.348Z"
   },
   {
    "duration": 19,
    "start_time": "2022-01-24T16:54:50.361Z"
   },
   {
    "duration": 10,
    "start_time": "2022-01-24T16:54:50.398Z"
   },
   {
    "duration": 22,
    "start_time": "2022-01-24T16:54:50.410Z"
   },
   {
    "duration": 32,
    "start_time": "2022-01-24T16:54:50.434Z"
   },
   {
    "duration": 31,
    "start_time": "2022-01-24T16:54:50.467Z"
   },
   {
    "duration": 30,
    "start_time": "2022-01-24T16:54:50.500Z"
   },
   {
    "duration": 8,
    "start_time": "2022-01-24T16:54:50.531Z"
   },
   {
    "duration": 5,
    "start_time": "2022-01-24T16:54:50.542Z"
   },
   {
    "duration": 18,
    "start_time": "2022-01-24T16:54:50.549Z"
   },
   {
    "duration": 28,
    "start_time": "2022-01-24T16:54:50.569Z"
   },
   {
    "duration": 26,
    "start_time": "2022-01-24T16:54:50.599Z"
   },
   {
    "duration": 32,
    "start_time": "2022-01-24T16:54:50.627Z"
   },
   {
    "duration": 10,
    "start_time": "2022-01-24T16:54:50.661Z"
   },
   {
    "duration": 7,
    "start_time": "2022-01-24T16:54:50.697Z"
   },
   {
    "duration": 18,
    "start_time": "2022-01-24T16:54:50.706Z"
   },
   {
    "duration": 5,
    "start_time": "2022-01-24T16:54:50.725Z"
   },
   {
    "duration": 31,
    "start_time": "2022-01-24T16:54:50.731Z"
   },
   {
    "duration": 12,
    "start_time": "2022-01-24T16:54:50.763Z"
   },
   {
    "duration": 26,
    "start_time": "2022-01-24T16:54:50.776Z"
   },
   {
    "duration": 78,
    "start_time": "2022-01-24T16:54:50.804Z"
   },
   {
    "duration": 124,
    "start_time": "2022-01-24T16:54:50.897Z"
   },
   {
    "duration": 49,
    "start_time": "2022-01-24T16:54:51.023Z"
   },
   {
    "duration": 75,
    "start_time": "2022-01-24T16:54:51.074Z"
   },
   {
    "duration": 67,
    "start_time": "2022-01-24T16:54:51.151Z"
   },
   {
    "duration": 62,
    "start_time": "2022-01-24T16:54:51.220Z"
   },
   {
    "duration": 27,
    "start_time": "2022-01-24T16:54:51.283Z"
   },
   {
    "duration": 30,
    "start_time": "2022-01-24T16:54:51.312Z"
   },
   {
    "duration": 24,
    "start_time": "2022-01-24T16:54:51.343Z"
   },
   {
    "duration": 29,
    "start_time": "2022-01-24T16:54:51.369Z"
   },
   {
    "duration": 8,
    "start_time": "2022-01-24T16:54:51.400Z"
   },
   {
    "duration": 8,
    "start_time": "2022-01-24T16:54:51.410Z"
   },
   {
    "duration": 8,
    "start_time": "2022-01-24T16:54:51.420Z"
   },
   {
    "duration": 10,
    "start_time": "2022-01-24T16:54:51.429Z"
   },
   {
    "duration": 18,
    "start_time": "2022-01-24T16:54:51.440Z"
   },
   {
    "duration": 12,
    "start_time": "2022-01-24T16:54:51.459Z"
   },
   {
    "duration": 24,
    "start_time": "2022-01-24T16:54:51.473Z"
   },
   {
    "duration": 17,
    "start_time": "2022-01-24T16:54:51.499Z"
   },
   {
    "duration": 6,
    "start_time": "2022-01-24T16:54:51.517Z"
   },
   {
    "duration": 13,
    "start_time": "2022-01-24T16:54:51.525Z"
   },
   {
    "duration": 11,
    "start_time": "2022-01-24T16:54:51.539Z"
   },
   {
    "duration": 7,
    "start_time": "2022-01-24T16:54:51.552Z"
   },
   {
    "duration": 36,
    "start_time": "2022-01-24T16:54:51.561Z"
   },
   {
    "duration": 186,
    "start_time": "2022-01-24T16:54:51.599Z"
   },
   {
    "duration": 24,
    "start_time": "2022-01-24T16:54:51.787Z"
   },
   {
    "duration": 21,
    "start_time": "2022-01-24T16:54:51.813Z"
   },
   {
    "duration": 33,
    "start_time": "2022-01-24T16:54:51.836Z"
   },
   {
    "duration": 668,
    "start_time": "2022-01-24T16:54:51.870Z"
   },
   {
    "duration": -2822,
    "start_time": "2022-01-24T16:54:55.362Z"
   },
   {
    "duration": -2833,
    "start_time": "2022-01-24T16:54:55.374Z"
   },
   {
    "duration": -2847,
    "start_time": "2022-01-24T16:54:55.389Z"
   },
   {
    "duration": -2860,
    "start_time": "2022-01-24T16:54:55.403Z"
   },
   {
    "duration": -2871,
    "start_time": "2022-01-24T16:54:55.415Z"
   },
   {
    "duration": -2879,
    "start_time": "2022-01-24T16:54:55.424Z"
   },
   {
    "duration": -2891,
    "start_time": "2022-01-24T16:54:55.436Z"
   },
   {
    "duration": -2935,
    "start_time": "2022-01-24T16:54:55.482Z"
   },
   {
    "duration": -2950,
    "start_time": "2022-01-24T16:54:55.498Z"
   },
   {
    "duration": -2959,
    "start_time": "2022-01-24T16:54:55.508Z"
   },
   {
    "duration": -2969,
    "start_time": "2022-01-24T16:54:55.519Z"
   },
   {
    "duration": -2980,
    "start_time": "2022-01-24T16:54:55.531Z"
   },
   {
    "duration": -2989,
    "start_time": "2022-01-24T16:54:55.541Z"
   },
   {
    "duration": 15,
    "start_time": "2022-01-24T16:55:12.713Z"
   },
   {
    "duration": 12,
    "start_time": "2022-01-24T16:55:16.986Z"
   },
   {
    "duration": 377,
    "start_time": "2022-01-24T16:55:17.000Z"
   },
   {
    "duration": 9,
    "start_time": "2022-01-24T16:55:17.379Z"
   },
   {
    "duration": 368,
    "start_time": "2022-01-24T16:55:17.397Z"
   },
   {
    "duration": 14,
    "start_time": "2022-01-24T16:55:17.767Z"
   },
   {
    "duration": 17,
    "start_time": "2022-01-24T16:55:17.782Z"
   },
   {
    "duration": 452,
    "start_time": "2022-01-24T16:55:17.801Z"
   },
   {
    "duration": 11,
    "start_time": "2022-01-24T16:55:18.254Z"
   },
   {
    "duration": 373,
    "start_time": "2022-01-24T16:55:18.266Z"
   },
   {
    "duration": 14,
    "start_time": "2022-01-24T16:55:18.640Z"
   },
   {
    "duration": 368,
    "start_time": "2022-01-24T16:55:18.656Z"
   },
   {
    "duration": 373,
    "start_time": "2022-01-24T16:55:19.026Z"
   },
   {
    "duration": 12,
    "start_time": "2022-01-24T16:59:06.399Z"
   },
   {
    "duration": 10,
    "start_time": "2022-01-24T16:59:30.498Z"
   },
   {
    "duration": 368,
    "start_time": "2022-01-24T17:01:03.650Z"
   },
   {
    "duration": 455,
    "start_time": "2022-01-24T17:04:07.248Z"
   },
   {
    "duration": 2,
    "start_time": "2022-01-24T18:32:20.798Z"
   },
   {
    "duration": 5,
    "start_time": "2022-01-24T18:39:09.654Z"
   },
   {
    "duration": 152,
    "start_time": "2022-01-24T18:40:15.021Z"
   },
   {
    "duration": 6,
    "start_time": "2022-01-24T18:40:35.475Z"
   },
   {
    "duration": 8,
    "start_time": "2022-01-24T18:41:12.378Z"
   },
   {
    "duration": 141,
    "start_time": "2022-01-24T18:41:31.039Z"
   },
   {
    "duration": 6,
    "start_time": "2022-01-24T18:41:40.198Z"
   },
   {
    "duration": 10,
    "start_time": "2022-01-24T18:42:56.687Z"
   },
   {
    "duration": 5,
    "start_time": "2022-01-24T18:43:07.935Z"
   },
   {
    "duration": 4,
    "start_time": "2022-01-24T18:44:16.415Z"
   },
   {
    "duration": 43,
    "start_time": "2022-01-24T18:45:18.123Z"
   },
   {
    "duration": 5,
    "start_time": "2022-01-24T18:45:30.983Z"
   },
   {
    "duration": 176,
    "start_time": "2022-01-24T18:46:15.362Z"
   },
   {
    "duration": 5,
    "start_time": "2022-01-24T18:47:00.351Z"
   },
   {
    "duration": 6,
    "start_time": "2022-01-24T18:52:43.486Z"
   },
   {
    "duration": 5,
    "start_time": "2022-01-24T18:54:27.172Z"
   },
   {
    "duration": 15,
    "start_time": "2022-01-24T18:54:43.558Z"
   },
   {
    "duration": 20,
    "start_time": "2022-01-24T18:54:53.639Z"
   },
   {
    "duration": 137,
    "start_time": "2022-01-24T18:55:38.277Z"
   },
   {
    "duration": 6,
    "start_time": "2022-01-24T18:56:09.277Z"
   },
   {
    "duration": 4,
    "start_time": "2022-01-24T19:01:39.851Z"
   },
   {
    "duration": 7,
    "start_time": "2022-01-24T19:04:09.218Z"
   },
   {
    "duration": 11,
    "start_time": "2022-01-24T19:05:45.403Z"
   },
   {
    "duration": 5,
    "start_time": "2022-01-24T19:07:23.513Z"
   },
   {
    "duration": 6,
    "start_time": "2022-01-24T19:09:14.373Z"
   },
   {
    "duration": 6,
    "start_time": "2022-01-24T19:09:31.426Z"
   },
   {
    "duration": 1623,
    "start_time": "2022-01-25T04:42:51.424Z"
   },
   {
    "duration": 336,
    "start_time": "2022-01-25T04:42:53.049Z"
   },
   {
    "duration": 41,
    "start_time": "2022-01-25T04:42:53.388Z"
   },
   {
    "duration": 199,
    "start_time": "2022-01-25T04:42:53.432Z"
   },
   {
    "duration": 56,
    "start_time": "2022-01-25T04:42:53.633Z"
   },
   {
    "duration": 128,
    "start_time": "2022-01-25T04:42:53.692Z"
   },
   {
    "duration": 42,
    "start_time": "2022-01-25T04:42:53.822Z"
   },
   {
    "duration": 27,
    "start_time": "2022-01-25T04:42:53.870Z"
   },
   {
    "duration": 49,
    "start_time": "2022-01-25T04:42:53.901Z"
   },
   {
    "duration": 33,
    "start_time": "2022-01-25T04:42:53.953Z"
   },
   {
    "duration": 10,
    "start_time": "2022-01-25T04:42:53.988Z"
   },
   {
    "duration": 13,
    "start_time": "2022-01-25T04:42:54.001Z"
   },
   {
    "duration": 6,
    "start_time": "2022-01-25T04:42:54.016Z"
   },
   {
    "duration": 9,
    "start_time": "2022-01-25T04:42:54.025Z"
   },
   {
    "duration": 14,
    "start_time": "2022-01-25T04:42:54.064Z"
   },
   {
    "duration": 38,
    "start_time": "2022-01-25T04:42:54.080Z"
   },
   {
    "duration": 15,
    "start_time": "2022-01-25T04:42:54.121Z"
   },
   {
    "duration": 54,
    "start_time": "2022-01-25T04:42:54.138Z"
   },
   {
    "duration": 44,
    "start_time": "2022-01-25T04:42:54.194Z"
   },
   {
    "duration": 26,
    "start_time": "2022-01-25T04:42:54.240Z"
   },
   {
    "duration": 43,
    "start_time": "2022-01-25T04:42:54.270Z"
   },
   {
    "duration": 11,
    "start_time": "2022-01-25T04:42:54.315Z"
   },
   {
    "duration": 30,
    "start_time": "2022-01-25T04:42:54.332Z"
   },
   {
    "duration": 26,
    "start_time": "2022-01-25T04:42:54.368Z"
   },
   {
    "duration": 5,
    "start_time": "2022-01-25T04:42:54.396Z"
   },
   {
    "duration": 64,
    "start_time": "2022-01-25T04:42:54.403Z"
   },
   {
    "duration": 41,
    "start_time": "2022-01-25T04:42:54.471Z"
   },
   {
    "duration": 11,
    "start_time": "2022-01-25T04:42:54.515Z"
   },
   {
    "duration": 32,
    "start_time": "2022-01-25T04:42:54.529Z"
   },
   {
    "duration": 30,
    "start_time": "2022-01-25T04:42:54.566Z"
   },
   {
    "duration": 4,
    "start_time": "2022-01-25T04:42:54.599Z"
   },
   {
    "duration": 27,
    "start_time": "2022-01-25T04:42:54.606Z"
   },
   {
    "duration": 22,
    "start_time": "2022-01-25T04:42:54.661Z"
   },
   {
    "duration": 10,
    "start_time": "2022-01-25T04:42:54.686Z"
   },
   {
    "duration": 141,
    "start_time": "2022-01-25T04:42:54.699Z"
   },
   {
    "duration": 180,
    "start_time": "2022-01-25T04:42:54.842Z"
   },
   {
    "duration": 86,
    "start_time": "2022-01-25T04:42:55.025Z"
   },
   {
    "duration": 91,
    "start_time": "2022-01-25T04:42:55.114Z"
   },
   {
    "duration": 96,
    "start_time": "2022-01-25T04:42:55.208Z"
   },
   {
    "duration": 104,
    "start_time": "2022-01-25T04:42:55.307Z"
   },
   {
    "duration": 25,
    "start_time": "2022-01-25T04:42:55.414Z"
   },
   {
    "duration": 66,
    "start_time": "2022-01-25T04:42:55.441Z"
   },
   {
    "duration": 54,
    "start_time": "2022-01-25T04:42:55.510Z"
   },
   {
    "duration": 7,
    "start_time": "2022-01-25T04:42:55.567Z"
   },
   {
    "duration": 8,
    "start_time": "2022-01-25T04:42:55.577Z"
   },
   {
    "duration": 7,
    "start_time": "2022-01-25T04:42:55.587Z"
   },
   {
    "duration": 7,
    "start_time": "2022-01-25T04:42:55.596Z"
   },
   {
    "duration": 6,
    "start_time": "2022-01-25T04:42:55.605Z"
   },
   {
    "duration": 68,
    "start_time": "2022-01-25T04:42:55.614Z"
   },
   {
    "duration": 9,
    "start_time": "2022-01-25T04:42:55.684Z"
   },
   {
    "duration": 10,
    "start_time": "2022-01-25T04:42:55.695Z"
   },
   {
    "duration": 51,
    "start_time": "2022-01-25T04:42:55.708Z"
   },
   {
    "duration": 14,
    "start_time": "2022-01-25T04:42:55.762Z"
   },
   {
    "duration": 14,
    "start_time": "2022-01-25T04:42:55.778Z"
   },
   {
    "duration": 13,
    "start_time": "2022-01-25T04:42:55.794Z"
   },
   {
    "duration": 10,
    "start_time": "2022-01-25T04:42:55.809Z"
   },
   {
    "duration": 8,
    "start_time": "2022-01-25T04:42:55.860Z"
   },
   {
    "duration": 459,
    "start_time": "2022-01-25T04:42:55.871Z"
   },
   {
    "duration": 54,
    "start_time": "2022-01-25T04:42:56.333Z"
   },
   {
    "duration": 34,
    "start_time": "2022-01-25T04:42:56.389Z"
   },
   {
    "duration": 78,
    "start_time": "2022-01-25T04:42:56.425Z"
   },
   {
    "duration": 1147,
    "start_time": "2022-01-25T04:42:56.506Z"
   },
   {
    "duration": -1061,
    "start_time": "2022-01-25T04:42:58.721Z"
   },
   {
    "duration": -1071,
    "start_time": "2022-01-25T04:42:58.734Z"
   },
   {
    "duration": -1081,
    "start_time": "2022-01-25T04:42:58.746Z"
   },
   {
    "duration": -1091,
    "start_time": "2022-01-25T04:42:58.758Z"
   },
   {
    "duration": -1098,
    "start_time": "2022-01-25T04:42:58.768Z"
   },
   {
    "duration": -1107,
    "start_time": "2022-01-25T04:42:58.779Z"
   },
   {
    "duration": -1115,
    "start_time": "2022-01-25T04:42:58.789Z"
   },
   {
    "duration": -1126,
    "start_time": "2022-01-25T04:42:58.801Z"
   },
   {
    "duration": -1150,
    "start_time": "2022-01-25T04:42:58.827Z"
   },
   {
    "duration": -1160,
    "start_time": "2022-01-25T04:42:58.838Z"
   },
   {
    "duration": -1171,
    "start_time": "2022-01-25T04:42:58.850Z"
   },
   {
    "duration": -1181,
    "start_time": "2022-01-25T04:42:58.862Z"
   },
   {
    "duration": -1190,
    "start_time": "2022-01-25T04:42:58.872Z"
   },
   {
    "duration": -1200,
    "start_time": "2022-01-25T04:42:58.884Z"
   },
   {
    "duration": -1209,
    "start_time": "2022-01-25T04:42:58.894Z"
   },
   {
    "duration": -1218,
    "start_time": "2022-01-25T04:42:58.905Z"
   },
   {
    "duration": -1226,
    "start_time": "2022-01-25T04:42:58.915Z"
   },
   {
    "duration": -1256,
    "start_time": "2022-01-25T04:42:58.946Z"
   },
   {
    "duration": -1266,
    "start_time": "2022-01-25T04:42:58.957Z"
   },
   {
    "duration": -1275,
    "start_time": "2022-01-25T04:42:58.968Z"
   },
   {
    "duration": -1285,
    "start_time": "2022-01-25T04:42:58.979Z"
   },
   {
    "duration": -1296,
    "start_time": "2022-01-25T04:42:58.991Z"
   },
   {
    "duration": -1305,
    "start_time": "2022-01-25T04:42:59.001Z"
   },
   {
    "duration": -1314,
    "start_time": "2022-01-25T04:42:59.012Z"
   },
   {
    "duration": -1323,
    "start_time": "2022-01-25T04:42:59.022Z"
   },
   {
    "duration": -1275,
    "start_time": "2022-01-25T04:42:59.034Z"
   },
   {
    "duration": 120,
    "start_time": "2022-01-25T05:02:24.595Z"
   },
   {
    "duration": 103,
    "start_time": "2022-01-25T05:02:45.808Z"
   },
   {
    "duration": 1591,
    "start_time": "2022-02-01T16:54:40.085Z"
   },
   {
    "duration": 876,
    "start_time": "2022-02-01T16:54:41.683Z"
   },
   {
    "duration": 46,
    "start_time": "2022-02-01T16:54:42.566Z"
   },
   {
    "duration": 207,
    "start_time": "2022-02-01T16:54:42.615Z"
   },
   {
    "duration": 65,
    "start_time": "2022-02-01T16:54:42.825Z"
   },
   {
    "duration": 134,
    "start_time": "2022-02-01T16:54:42.895Z"
   },
   {
    "duration": 47,
    "start_time": "2022-02-01T16:54:43.032Z"
   },
   {
    "duration": 28,
    "start_time": "2022-02-01T16:54:43.089Z"
   },
   {
    "duration": 119,
    "start_time": "2022-02-01T16:54:43.121Z"
   },
   {
    "duration": 46,
    "start_time": "2022-02-01T16:54:43.243Z"
   },
   {
    "duration": 13,
    "start_time": "2022-02-01T16:54:43.294Z"
   },
   {
    "duration": 9,
    "start_time": "2022-02-01T16:54:43.309Z"
   },
   {
    "duration": 7,
    "start_time": "2022-02-01T16:54:43.321Z"
   },
   {
    "duration": 7,
    "start_time": "2022-02-01T16:54:43.331Z"
   },
   {
    "duration": 30,
    "start_time": "2022-02-01T16:54:43.340Z"
   },
   {
    "duration": 33,
    "start_time": "2022-02-01T16:54:43.372Z"
   },
   {
    "duration": 17,
    "start_time": "2022-02-01T16:54:43.407Z"
   },
   {
    "duration": 45,
    "start_time": "2022-02-01T16:54:43.426Z"
   },
   {
    "duration": 56,
    "start_time": "2022-02-01T16:54:43.474Z"
   },
   {
    "duration": 6,
    "start_time": "2022-02-01T16:54:43.533Z"
   },
   {
    "duration": 63,
    "start_time": "2022-02-01T16:54:43.541Z"
   },
   {
    "duration": 13,
    "start_time": "2022-02-01T16:54:43.606Z"
   },
   {
    "duration": 5,
    "start_time": "2022-02-01T16:54:43.625Z"
   },
   {
    "duration": 36,
    "start_time": "2022-02-01T16:54:43.661Z"
   },
   {
    "duration": 5,
    "start_time": "2022-02-01T16:54:43.699Z"
   },
   {
    "duration": 63,
    "start_time": "2022-02-01T16:54:43.706Z"
   },
   {
    "duration": 41,
    "start_time": "2022-02-01T16:54:43.772Z"
   },
   {
    "duration": 15,
    "start_time": "2022-02-01T16:54:43.816Z"
   },
   {
    "duration": 43,
    "start_time": "2022-02-01T16:54:43.834Z"
   },
   {
    "duration": 33,
    "start_time": "2022-02-01T16:54:43.880Z"
   },
   {
    "duration": 4,
    "start_time": "2022-02-01T16:54:43.915Z"
   },
   {
    "duration": 45,
    "start_time": "2022-02-01T16:54:43.921Z"
   },
   {
    "duration": 22,
    "start_time": "2022-02-01T16:54:43.968Z"
   },
   {
    "duration": 12,
    "start_time": "2022-02-01T16:54:43.993Z"
   },
   {
    "duration": 142,
    "start_time": "2022-02-01T16:54:44.008Z"
   },
   {
    "duration": 162,
    "start_time": "2022-02-01T16:54:44.159Z"
   },
   {
    "duration": 97,
    "start_time": "2022-02-01T16:54:44.323Z"
   },
   {
    "duration": 99,
    "start_time": "2022-02-01T16:54:44.422Z"
   },
   {
    "duration": 105,
    "start_time": "2022-02-01T16:54:44.524Z"
   },
   {
    "duration": 98,
    "start_time": "2022-02-01T16:54:44.632Z"
   },
   {
    "duration": 43,
    "start_time": "2022-02-01T16:54:44.732Z"
   },
   {
    "duration": 51,
    "start_time": "2022-02-01T16:54:44.778Z"
   },
   {
    "duration": 61,
    "start_time": "2022-02-01T16:54:44.832Z"
   },
   {
    "duration": 5,
    "start_time": "2022-02-01T16:54:44.896Z"
   },
   {
    "duration": 8,
    "start_time": "2022-02-01T16:54:44.903Z"
   },
   {
    "duration": 6,
    "start_time": "2022-02-01T16:54:44.913Z"
   },
   {
    "duration": 6,
    "start_time": "2022-02-01T16:54:44.921Z"
   },
   {
    "duration": 10,
    "start_time": "2022-02-01T16:54:44.958Z"
   },
   {
    "duration": 38,
    "start_time": "2022-02-01T16:54:44.971Z"
   },
   {
    "duration": 16,
    "start_time": "2022-02-01T16:54:45.012Z"
   },
   {
    "duration": 10,
    "start_time": "2022-02-01T16:54:45.031Z"
   },
   {
    "duration": 46,
    "start_time": "2022-02-01T16:54:45.044Z"
   },
   {
    "duration": 8,
    "start_time": "2022-02-01T16:54:45.092Z"
   },
   {
    "duration": 15,
    "start_time": "2022-02-01T16:54:45.103Z"
   },
   {
    "duration": 44,
    "start_time": "2022-02-01T16:54:45.121Z"
   },
   {
    "duration": 26,
    "start_time": "2022-02-01T16:54:45.168Z"
   },
   {
    "duration": 5,
    "start_time": "2022-02-01T16:54:45.196Z"
   },
   {
    "duration": 361,
    "start_time": "2022-02-01T16:54:45.204Z"
   },
   {
    "duration": 34,
    "start_time": "2022-02-01T16:54:45.568Z"
   },
   {
    "duration": 56,
    "start_time": "2022-02-01T16:54:45.605Z"
   },
   {
    "duration": 56,
    "start_time": "2022-02-01T16:54:45.664Z"
   },
   {
    "duration": 1188,
    "start_time": "2022-02-01T16:54:45.722Z"
   },
   {
    "duration": -252,
    "start_time": "2022-02-01T16:54:47.166Z"
   },
   {
    "duration": -254,
    "start_time": "2022-02-01T16:54:47.169Z"
   },
   {
    "duration": -257,
    "start_time": "2022-02-01T16:54:47.173Z"
   },
   {
    "duration": -258,
    "start_time": "2022-02-01T16:54:47.176Z"
   },
   {
    "duration": -259,
    "start_time": "2022-02-01T16:54:47.179Z"
   },
   {
    "duration": -261,
    "start_time": "2022-02-01T16:54:47.182Z"
   },
   {
    "duration": -262,
    "start_time": "2022-02-01T16:54:47.184Z"
   },
   {
    "duration": -264,
    "start_time": "2022-02-01T16:54:47.188Z"
   },
   {
    "duration": -266,
    "start_time": "2022-02-01T16:54:47.191Z"
   },
   {
    "duration": -267,
    "start_time": "2022-02-01T16:54:47.194Z"
   },
   {
    "duration": -269,
    "start_time": "2022-02-01T16:54:47.197Z"
   },
   {
    "duration": -271,
    "start_time": "2022-02-01T16:54:47.200Z"
   },
   {
    "duration": -240,
    "start_time": "2022-02-01T16:54:47.203Z"
   },
   {
    "duration": -241,
    "start_time": "2022-02-01T16:54:47.206Z"
   },
   {
    "duration": -249,
    "start_time": "2022-02-01T16:54:47.216Z"
   },
   {
    "duration": -248,
    "start_time": "2022-02-01T16:54:47.219Z"
   },
   {
    "duration": -250,
    "start_time": "2022-02-01T16:54:47.224Z"
   },
   {
    "duration": -252,
    "start_time": "2022-02-01T16:54:47.227Z"
   },
   {
    "duration": -249,
    "start_time": "2022-02-01T16:54:47.230Z"
   },
   {
    "duration": -262,
    "start_time": "2022-02-01T16:54:47.244Z"
   },
   {
    "duration": -269,
    "start_time": "2022-02-01T16:54:47.253Z"
   },
   {
    "duration": -272,
    "start_time": "2022-02-01T16:54:47.257Z"
   },
   {
    "duration": -274,
    "start_time": "2022-02-01T16:54:47.260Z"
   },
   {
    "duration": -275,
    "start_time": "2022-02-01T16:54:47.263Z"
   },
   {
    "duration": -276,
    "start_time": "2022-02-01T16:54:47.266Z"
   },
   {
    "duration": -278,
    "start_time": "2022-02-01T16:54:47.269Z"
   },
   {
    "duration": 1006,
    "start_time": "2022-02-01T16:56:20.990Z"
   },
   {
    "duration": 777,
    "start_time": "2022-02-01T16:56:39.724Z"
   },
   {
    "duration": 1521,
    "start_time": "2022-02-01T16:56:47.957Z"
   },
   {
    "duration": 223,
    "start_time": "2022-02-01T16:56:49.482Z"
   },
   {
    "duration": 56,
    "start_time": "2022-02-01T16:56:49.708Z"
   },
   {
    "duration": 180,
    "start_time": "2022-02-01T16:56:49.766Z"
   },
   {
    "duration": 50,
    "start_time": "2022-02-01T16:56:49.949Z"
   },
   {
    "duration": 176,
    "start_time": "2022-02-01T16:56:50.003Z"
   },
   {
    "duration": 25,
    "start_time": "2022-02-01T16:56:50.182Z"
   },
   {
    "duration": 29,
    "start_time": "2022-02-01T16:56:50.209Z"
   },
   {
    "duration": 69,
    "start_time": "2022-02-01T16:56:50.243Z"
   },
   {
    "duration": 25,
    "start_time": "2022-02-01T16:56:50.315Z"
   },
   {
    "duration": 10,
    "start_time": "2022-02-01T16:56:50.342Z"
   },
   {
    "duration": 33,
    "start_time": "2022-02-01T16:56:50.355Z"
   },
   {
    "duration": 5,
    "start_time": "2022-02-01T16:56:50.391Z"
   },
   {
    "duration": 6,
    "start_time": "2022-02-01T16:56:50.398Z"
   },
   {
    "duration": 13,
    "start_time": "2022-02-01T16:56:50.406Z"
   },
   {
    "duration": 21,
    "start_time": "2022-02-01T16:56:50.421Z"
   },
   {
    "duration": 31,
    "start_time": "2022-02-01T16:56:50.445Z"
   },
   {
    "duration": 31,
    "start_time": "2022-02-01T16:56:50.479Z"
   },
   {
    "duration": 81,
    "start_time": "2022-02-01T16:56:50.512Z"
   },
   {
    "duration": 5,
    "start_time": "2022-02-01T16:56:50.595Z"
   },
   {
    "duration": 37,
    "start_time": "2022-02-01T16:56:50.603Z"
   },
   {
    "duration": 35,
    "start_time": "2022-02-01T16:56:50.642Z"
   },
   {
    "duration": 15,
    "start_time": "2022-02-01T16:56:50.679Z"
   },
   {
    "duration": 25,
    "start_time": "2022-02-01T16:56:50.697Z"
   },
   {
    "duration": 5,
    "start_time": "2022-02-01T16:56:50.724Z"
   },
   {
    "duration": 66,
    "start_time": "2022-02-01T16:56:50.731Z"
   },
   {
    "duration": 40,
    "start_time": "2022-02-01T16:56:50.804Z"
   },
   {
    "duration": 20,
    "start_time": "2022-02-01T16:56:50.848Z"
   },
   {
    "duration": 15,
    "start_time": "2022-02-01T16:56:50.871Z"
   },
   {
    "duration": 19,
    "start_time": "2022-02-01T16:56:50.889Z"
   },
   {
    "duration": 9,
    "start_time": "2022-02-01T16:56:50.911Z"
   },
   {
    "duration": 63,
    "start_time": "2022-02-01T16:56:50.923Z"
   },
   {
    "duration": 16,
    "start_time": "2022-02-01T16:56:50.991Z"
   },
   {
    "duration": 10,
    "start_time": "2022-02-01T16:56:51.010Z"
   },
   {
    "duration": 138,
    "start_time": "2022-02-01T16:56:51.023Z"
   },
   {
    "duration": 167,
    "start_time": "2022-02-01T16:56:51.166Z"
   },
   {
    "duration": 86,
    "start_time": "2022-02-01T16:56:51.336Z"
   },
   {
    "duration": 97,
    "start_time": "2022-02-01T16:56:51.424Z"
   },
   {
    "duration": 93,
    "start_time": "2022-02-01T16:56:51.523Z"
   },
   {
    "duration": 99,
    "start_time": "2022-02-01T16:56:51.619Z"
   },
   {
    "duration": 24,
    "start_time": "2022-02-01T16:56:51.721Z"
   },
   {
    "duration": 69,
    "start_time": "2022-02-01T16:56:51.747Z"
   },
   {
    "duration": 50,
    "start_time": "2022-02-01T16:56:51.819Z"
   },
   {
    "duration": 6,
    "start_time": "2022-02-01T16:56:51.871Z"
   },
   {
    "duration": 21,
    "start_time": "2022-02-01T16:56:51.879Z"
   },
   {
    "duration": 5,
    "start_time": "2022-02-01T16:56:51.902Z"
   },
   {
    "duration": 5,
    "start_time": "2022-02-01T16:56:51.910Z"
   },
   {
    "duration": 5,
    "start_time": "2022-02-01T16:56:51.917Z"
   },
   {
    "duration": 57,
    "start_time": "2022-02-01T16:56:51.925Z"
   },
   {
    "duration": 10,
    "start_time": "2022-02-01T16:56:51.986Z"
   },
   {
    "duration": 11,
    "start_time": "2022-02-01T16:56:51.999Z"
   },
   {
    "duration": 23,
    "start_time": "2022-02-01T16:56:52.013Z"
   },
   {
    "duration": 33,
    "start_time": "2022-02-01T16:56:52.039Z"
   },
   {
    "duration": 24,
    "start_time": "2022-02-01T16:56:52.075Z"
   },
   {
    "duration": 12,
    "start_time": "2022-02-01T16:56:52.101Z"
   },
   {
    "duration": 8,
    "start_time": "2022-02-01T16:56:52.115Z"
   },
   {
    "duration": 5,
    "start_time": "2022-02-01T16:56:52.126Z"
   },
   {
    "duration": 372,
    "start_time": "2022-02-01T16:56:52.133Z"
   },
   {
    "duration": 31,
    "start_time": "2022-02-01T16:56:52.507Z"
   },
   {
    "duration": 54,
    "start_time": "2022-02-01T16:56:52.541Z"
   },
   {
    "duration": 71,
    "start_time": "2022-02-01T16:56:52.597Z"
   },
   {
    "duration": 715,
    "start_time": "2022-02-01T16:56:52.671Z"
   },
   {
    "duration": 20,
    "start_time": "2022-02-01T16:56:53.392Z"
   },
   {
    "duration": 11,
    "start_time": "2022-02-01T16:56:53.415Z"
   },
   {
    "duration": 626,
    "start_time": "2022-02-01T16:56:53.428Z"
   },
   {
    "duration": 18,
    "start_time": "2022-02-01T16:56:54.056Z"
   },
   {
    "duration": 613,
    "start_time": "2022-02-01T16:56:54.083Z"
   },
   {
    "duration": 22,
    "start_time": "2022-02-01T16:56:54.700Z"
   },
   {
    "duration": 45,
    "start_time": "2022-02-01T16:56:54.725Z"
   },
   {
    "duration": 679,
    "start_time": "2022-02-01T16:56:54.773Z"
   },
   {
    "duration": 22,
    "start_time": "2022-02-01T16:56:55.459Z"
   },
   {
    "duration": 598,
    "start_time": "2022-02-01T16:56:55.483Z"
   },
   {
    "duration": 25,
    "start_time": "2022-02-01T16:56:56.085Z"
   },
   {
    "duration": 14,
    "start_time": "2022-02-01T16:56:56.113Z"
   },
   {
    "duration": 650,
    "start_time": "2022-02-01T16:56:56.130Z"
   },
   {
    "duration": 15,
    "start_time": "2022-02-01T16:56:56.785Z"
   },
   {
    "duration": 621,
    "start_time": "2022-02-01T16:56:56.802Z"
   },
   {
    "duration": 7,
    "start_time": "2022-02-01T16:56:57.426Z"
   },
   {
    "duration": 43,
    "start_time": "2022-02-01T16:56:57.436Z"
   },
   {
    "duration": 12,
    "start_time": "2022-02-01T16:56:57.482Z"
   },
   {
    "duration": 9,
    "start_time": "2022-02-01T16:56:57.504Z"
   },
   {
    "duration": 6,
    "start_time": "2022-02-01T16:56:57.516Z"
   },
   {
    "duration": 7,
    "start_time": "2022-02-01T16:56:57.524Z"
   },
   {
    "duration": 45,
    "start_time": "2022-02-01T16:56:57.533Z"
   },
   {
    "duration": 11,
    "start_time": "2022-02-01T16:56:57.580Z"
   },
   {
    "duration": 11,
    "start_time": "2022-02-01T16:56:57.594Z"
   },
   {
    "duration": 19,
    "start_time": "2022-02-01T16:56:57.607Z"
   },
   {
    "duration": 40,
    "start_time": "2022-02-01T16:56:57.628Z"
   },
   {
    "duration": 1107,
    "start_time": "2022-02-02T05:29:22.771Z"
   }
  ],
  "kernelspec": {
   "display_name": "Python 3 (ipykernel)",
   "language": "python",
   "name": "python3"
  },
  "language_info": {
   "codemirror_mode": {
    "name": "ipython",
    "version": 3
   },
   "file_extension": ".py",
   "mimetype": "text/x-python",
   "name": "python",
   "nbconvert_exporter": "python",
   "pygments_lexer": "ipython3",
   "version": "3.9.5"
  },
  "toc": {
   "base_numbering": 1,
   "nav_menu": {},
   "number_sections": true,
   "sideBar": true,
   "skip_h1_title": true,
   "title_cell": "Table of Contents",
   "title_sidebar": "Contents",
   "toc_cell": false,
   "toc_position": {},
   "toc_section_display": true,
   "toc_window_display": false
  }
 },
 "nbformat": 4,
 "nbformat_minor": 2
}
